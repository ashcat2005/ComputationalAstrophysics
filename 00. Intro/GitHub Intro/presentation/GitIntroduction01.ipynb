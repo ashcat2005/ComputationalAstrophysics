{
 "cells": [
  {
   "cell_type": "markdown",
   "metadata": {},
   "source": [
    "![Astrofisica Computacional](../../../logo.PNG)"
   ]
  },
  {
   "cell_type": "markdown",
   "metadata": {
    "slideshow": {
     "slide_type": "slide"
    }
   },
   "source": [
    "# Computational Astrophysics\n",
    "## 00. Git Introduction\n",
    "\n",
    "---\n",
    "## Eduard Larrañaga\n",
    "\n",
    "Observatorio Astronómico Nacional\\\n",
    "Facultad de Ciencias\\\n",
    "Universidad Nacional de Colombia\n",
    "\n",
    "---"
   ]
  },
  {
   "cell_type": "markdown",
   "metadata": {
    "slideshow": {
     "slide_type": "subslide"
    }
   },
   "source": [
    "### About this notebook\n",
    "\n",
    "In this notebook we present an introduction to Git and GitHub.\n",
    "\n",
    "---"
   ]
  },
  {
   "cell_type": "markdown",
   "metadata": {
    "slideshow": {
     "slide_type": "slide"
    }
   },
   "source": [
    "## What is GIT?\n",
    "\n",
    "**Version Control System (VCS)** for tracking changes in computer files.\n",
    "\n",
    "* Distributed version control\n",
    "\n",
    "* Coordinates work between multiple developers\n",
    "\n",
    "* Keeps track of code history: Who made what changes and when\n",
    "\n",
    "* You decide when to take a \"snapshot\" of your files by making a `commit`\n",
    "\n",
    "* Revert back any time: you can visit any snapshot at any time\n",
    "\n",
    "* Local and remote repositories\n",
    "\n",
    "\n",
    "<img \n",
    "src=\"https://upload.wikimedia.org/wikipedia/commons/thumb/2/29/Git_data_flow.png/1024px-Git_data_flow.png\" \n",
    "alt=\"drawing\"\n",
    "style=\"width:650px;\"\n",
    "/>"
   ]
  },
  {
   "cell_type": "markdown",
   "metadata": {
    "slideshow": {
     "slide_type": "slide"
    }
   },
   "source": [
    "## Installing Git\n",
    "\n",
    "### On Linux\n",
    "\n",
    "**Debian based** (e.g. Ubuntu, Kali Linux, Deepin, ElementaryOS, Linux Mint) <br> <br>\n",
    "`sudo apt update`<br>\n",
    "`sudo apt upgrade`\n",
    "`sudo apt install git-all`\n",
    "\n",
    "**RPM based** (e. g. Red Hat, CentOS, openSUSE, Mandrake )<br> <br>\n",
    "`sudo yum upgrade`\n",
    "`sudo yum install git`\n",
    "\n",
    "**Fedora** <br> <br>\n",
    "`sudo dnf install git-all`\n"
   ]
  },
  {
   "cell_type": "markdown",
   "metadata": {
    "slideshow": {
     "slide_type": "slide"
    }
   },
   "source": [
    "### On MacOS X\n",
    "\n",
    "Check for installations:\n",
    "\n",
    "`git --version`\n",
    "\n",
    "<br>\n",
    "\n",
    "**XCode**\n",
    "\n",
    "When you install XCode from the AppStore, it provides an installation of `git`.\n",
    "\n",
    "<br>\n",
    "**Homebrew** (Complete information at https://brew.sh/ )\n",
    "\n",
    "`/bin/bash -c \"$(curl -fsSL https://raw.githubusercontent.com/Homebrew/install/master/install.sh)\"`\n",
    "<br>\n",
    "\n",
    "You will be offered to install the **Command Line Developer Tools** from Apple. Confirm by clicking **Install**. After the installation finished, continue installing Homebrew by hitting Return again.\n",
    "\n",
    "`brew install git`\n"
   ]
  },
  {
   "cell_type": "markdown",
   "metadata": {
    "slideshow": {
     "slide_type": "slide"
    }
   },
   "source": [
    "### On Windows\n",
    "\n",
    "?"
   ]
  },
  {
   "cell_type": "markdown",
   "metadata": {
    "slideshow": {
     "slide_type": "slide"
    }
   },
   "source": [
    "---\n",
    "## Using GitHub"
   ]
  },
  {
   "cell_type": "markdown",
   "metadata": {
    "slideshow": {
     "slide_type": "slide"
    }
   },
   "source": [
    "---\n",
    "## Basic Git Commands\n",
    "\n",
    "\n",
    "`git clone https://github.com/...`  Clone a remote repository\n",
    "\n",
    "`git log` Shows the list of changes in the project\n",
    "\n",
    "`git init` Initialize a git repository\n",
    "\n",
    "`git remote add origin https://github.com/... `  Add remote origin of a repository \n",
    "\n",
    "`git status` Check the status of the staging environment\n",
    "\n",
    "`git add <filename>` Add a file to a staging environment\n",
    "\n",
    "`git add -a` Add all files in the folder to the staging environment\n",
    "\n",
    "`git add .`  Add all files in the folder to the staging environment\n",
    "\n",
    "`git diff` Provides information about changes in the added files\n",
    "\n",
    "`git commit -m \"Message about the commit\"` Create the commit\n",
    "\n",
    "`git push` Push your commit to GitHub\n",
    "\n",
    "`git pull origin master`  Pull a master branch from origin\n",
    "\n",
    "more commands in \n",
    "\n",
    "https://github.github.com/training-kit/downloads/github-git-cheat-sheet.pdf"
   ]
  },
  {
   "cell_type": "code",
   "execution_count": null,
   "metadata": {},
   "outputs": [],
   "source": []
  }
 ],
 "metadata": {
  "kernelspec": {
   "display_name": "Python 3",
   "language": "python",
   "name": "python3"
  },
  "language_info": {
   "codemirror_mode": {
    "name": "ipython",
    "version": 3
   },
   "file_extension": ".py",
   "mimetype": "text/x-python",
   "name": "python",
   "nbconvert_exporter": "python",
   "pygments_lexer": "ipython3",
   "version": "3.7.4"
  }
 },
 "nbformat": 4,
 "nbformat_minor": 2
}
