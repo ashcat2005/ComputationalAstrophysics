{
 "cells": [
  {
   "cell_type": "markdown",
   "metadata": {},
   "source": [
    "![Astrofisica Computacional](../../../logo.PNG)"
   ]
  },
  {
   "cell_type": "markdown",
   "metadata": {
    "id": "SsxKmAZ8uJJY"
   },
   "source": [
    "# Computational Astrophysics\n",
    "## 00. Exercises\n"
   ]
  },
  {
   "cell_type": "markdown",
   "metadata": {
    "id": "9f7PPpfKuJJa"
   },
   "source": [
    "##  Git and GitHub\n",
    "\n",
    "1. Open a free account at www.github.com \n",
    "\n",
    "2. Install Git on your personal computer.\n",
    "\n",
    "3. Clone the repository of the Computational Astrophysics course,\n",
    "https://github.com/ashcat2005/ComputationalAstrophysics\n",
    "\n",
    "4. Create a repository in GitHub to store and share the answers to the exercises in this course. \n",
    "\n",
    "5. Create a folder with the name \"00.Exercises\" in your repository and put this file in it. \n",
    "\n",
    "6. Complete the following information and commit the changes to your repository. \n",
    "\n",
    "7. Share your repository in the Google Classroom assignment"
   ]
  },
  {
   "cell_type": "markdown",
   "metadata": {
    "id": "zMWR-X_3uJJa"
   },
   "source": [
    "### Complete the Following Information\n",
    "\n",
    "**Name:** \n",
    "\n",
    "**Code:**\n"
   ]
  }
 ],
 "metadata": {
  "colab": {
   "collapsed_sections": [],
   "name": "Exercises00.ipynb",
   "provenance": []
  },
  "kernelspec": {
   "display_name": "Python 3",
   "language": "python",
   "name": "python3"
  },
  "language_info": {
   "codemirror_mode": {
    "name": "ipython",
    "version": 3
   },
   "file_extension": ".py",
   "mimetype": "text/x-python",
   "name": "python",
   "nbconvert_exporter": "python",
   "pygments_lexer": "ipython3",
   "version": "3.7.4"
  }
 },
 "nbformat": 4,
 "nbformat_minor": 0
}
