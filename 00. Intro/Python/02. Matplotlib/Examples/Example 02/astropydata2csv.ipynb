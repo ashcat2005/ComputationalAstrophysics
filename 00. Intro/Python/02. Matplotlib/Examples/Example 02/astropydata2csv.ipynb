{
 "cells": [
  {
   "cell_type": "markdown",
   "metadata": {},
   "source": [
    "![Astrofisica Computacional](../../../../../logo.PNG)"
   ]
  },
  {
   "cell_type": "markdown",
   "metadata": {},
   "source": [
    "# Converter .dat File to .csv File\n",
    "---\n",
    "## Eduard Larrañaga\n",
    "\n",
    "Observatorio Astronómico Nacional\\\n",
    "Facultad de Ciencias\\\n",
    "Universidad Nacional de Colombia\n",
    "\n",
    "---"
   ]
  },
  {
   "cell_type": "markdown",
   "metadata": {},
   "source": [
    "### About this notebook\n",
    "\n",
    "This worksheet, is used to read a .dat file  with the header information ina ReadMe file using the `ascii` command from the `astropy.io` package and converts it to a .csv file.\n",
    "\n",
    "---"
   ]
  },
  {
   "cell_type": "code",
   "execution_count": 10,
   "metadata": {},
   "outputs": [],
   "source": [
    "from astropy.io import ascii"
   ]
  },
  {
   "cell_type": "markdown",
   "metadata": {},
   "source": [
    "### Read the data from a .dat file with the header information in a ReadMe file"
   ]
  },
  {
   "cell_type": "code",
   "execution_count": 12,
   "metadata": {},
   "outputs": [
    {
     "name": "stdout",
     "output_type": "stream",
     "text": [
      "          Name              z     sigma* ...    logM     E_logM    e_logM \n",
      "                                  km / s ... [solMass] [solMass] [solMass]\n",
      "------------------------ -------- ------ ... --------- --------- ---------\n",
      "SDSS J000805.62+145023.4   0.0454  140.0 ...       7.7        --       0.1\n",
      "SDSS J004236.86-104921.8   0.0419   78.4 ...       6.7        --       0.1\n",
      "SDSS J011703.58+000027.3   0.0456   98.8 ...       6.8        --       0.1\n",
      "SDSS J020459.25-080816.0   0.0772  121.0 ...       7.0        --       0.1\n",
      "SDSS J020615.99-001729.1   0.0426  216.0 ...       7.5        --       0.1\n",
      "SDSS J021011.49-090335.5   0.0414  122.0 ...       6.7        --       0.1\n",
      "SDSS J021257.59+140610.1   0.0618  174.0 ...       7.1        --       0.1\n",
      "SDSS J033013.26-053236.0   0.0131   99.2 ...       7.0        --       0.1\n",
      "SDSS J075057.25+353037.5    0.176  154.0 ...       7.2        --       0.1\n",
      "SDSS J080243.39+310403.3   0.0409  151.0 ...       7.6        --       0.1\n",
      "                     ...      ...    ... ...       ...       ...       ...\n",
      "                 Mrk 817   0.0315  127.0 ...      7.62      0.08       0.1\n",
      "                NGC 3227  0.00386  135.0 ...      7.47      0.24      1.06\n",
      "                NGC 3516  0.00884  181.0 ...      7.04      0.31      0.39\n",
      "                NGC 3783  0.00973   95.0 ...      7.16      0.17      0.23\n",
      "                NGC 4051  0.00234   88.9 ...      5.99      0.17       0.2\n",
      "                NGC 4151  0.00332   96.8 ...      6.91      0.17      0.29\n",
      "                NGC 5548   0.0172  198.0 ...      7.81      0.02      0.02\n",
      "                NGC 7469   0.0163  133.0 ...      6.49      0.16      0.27\n",
      "                  POX 52   0.0218   36.0 ...       5.2        --       0.3\n",
      "                NGC 4395 0.000947   30.0 ...       4.9        --       0.4\n",
      "Length = 88 rows\n"
     ]
    },
    {
     "name": "stderr",
     "output_type": "stream",
     "text": [
      "WARNING: UnitsWarning: '[10-7W]' did not parse as cds unit: Invalid character at col 0 [astropy.units.core]\n",
      "WARNING: UnitsWarning: '[solMass]' did not parse as cds unit: Invalid character at col 0 [astropy.units.core]\n"
     ]
    }
   ],
   "source": [
    "data = ascii.read('table1.dat',readme='ReadMe')\n",
    "print(data)"
   ]
  },
  {
   "cell_type": "markdown",
   "metadata": {},
   "source": [
    "\n",
    "\n",
    "### Write the data as a .csv file"
   ]
  },
  {
   "cell_type": "code",
   "execution_count": 13,
   "metadata": {},
   "outputs": [],
   "source": [
    "ascii.write(data, 'test.csv', format='csv', fast_writer = False )"
   ]
  },
  {
   "cell_type": "code",
   "execution_count": null,
   "metadata": {},
   "outputs": [],
   "source": []
  }
 ],
 "metadata": {
  "kernelspec": {
   "display_name": "Python 3",
   "language": "python",
   "name": "python3"
  },
  "language_info": {
   "codemirror_mode": {
    "name": "ipython",
    "version": 3
   },
   "file_extension": ".py",
   "mimetype": "text/x-python",
   "name": "python",
   "nbconvert_exporter": "python",
   "pygments_lexer": "ipython3",
   "version": "3.7.4"
  }
 },
 "nbformat": 4,
 "nbformat_minor": 4
}
