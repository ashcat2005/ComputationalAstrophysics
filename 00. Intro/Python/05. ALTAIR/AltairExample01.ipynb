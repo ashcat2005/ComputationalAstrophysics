{
 "cells": [
  {
   "cell_type": "markdown",
   "metadata": {},
   "source": [
    "![Astrofisica Computacional](../../../logo.PNG)"
   ]
  },
  {
   "cell_type": "markdown",
   "metadata": {
    "id": "nLQDYpFeQkVZ"
   },
   "source": [
    "# Altair Visualization Example 1\n",
    "---\n",
    "## Eduard Larrañaga\n",
    "\n",
    "Observatorio Astronómico Nacional\\\n",
    "Facultad de Ciencias\\\n",
    "Universidad Nacional de Colombia\n",
    "\n",
    "---"
   ]
  },
  {
   "cell_type": "markdown",
   "metadata": {
    "id": "wAZ8YbnrQkVh"
   },
   "source": [
    "### About this notebook\n",
    "\n",
    "In this worksheet, we use a real dataset in the csv format to illustrate the use of the package `Altair` in visualization. Plots made with Altair can be visualized and manipulated interactively.\n",
    "\n",
    "In order to install this package and to see a detailed description go to\n",
    "\n",
    "https://altair-viz.github.io/\n",
    "\n",
    "---"
   ]
  },
  {
   "cell_type": "code",
   "execution_count": null,
   "metadata": {
    "id": "keAZEZc-QkVi"
   },
   "outputs": [],
   "source": [
    "import numpy as np\n",
    "import altair as alt\n",
    "import pandas as pd\n",
    "\n",
    "\n",
    "# This line enables the renderer of Altair in the notebook. (It is needed only for local work)\n",
    "# alt.renderers.enable('notebook')\n"
   ]
  },
  {
   "cell_type": "markdown",
   "metadata": {
    "id": "eu2GxcXFQkVj"
   },
   "source": [
    "### Reading the dataset\n",
    "Since the dataset is a .csv file, we use pandas to read the file and take a look to the first elements."
   ]
  },
  {
   "cell_type": "code",
   "execution_count": null,
   "metadata": {
    "id": "0uiLi415QzBW"
   },
   "outputs": [],
   "source": [
    "path='' #Define an empty string to use in case of local working"
   ]
  },
  {
   "cell_type": "code",
   "execution_count": null,
   "metadata": {
    "colab": {
     "base_uri": "https://localhost:8080/"
    },
    "executionInfo": {
     "elapsed": 20131,
     "status": "ok",
     "timestamp": 1609123997803,
     "user": {
      "displayName": "Eduard Alexis Larranaga",
      "photoUrl": "https://lh3.googleusercontent.com/a-/AOh14GgCVABzEgj-rCdyxWa29RnA0kIYUCXAaVbnRYOEhQ=s64",
      "userId": "04402438389940282602"
     },
     "user_tz": 300
    },
    "id": "-y7AwAptQ1Uo",
    "outputId": "6a41318a-7427-445c-c6a4-f9b3be5794f7"
   },
   "outputs": [
    {
     "name": "stdout",
     "output_type": "stream",
     "text": [
      "Mounted at /content/drive\n"
     ]
    }
   ],
   "source": [
    "# Working with google colab needs to mount the Google Drive\n",
    "from google.colab import drive\n",
    "drive.mount('/content/drive')"
   ]
  },
  {
   "cell_type": "code",
   "execution_count": null,
   "metadata": {
    "id": "vCIbPEN7Q7FZ"
   },
   "outputs": [],
   "source": [
    "# we define the path to the files\n",
    "path = '/content/drive/MyDrive/Colab Notebooks/CA2021/04. Visualization/presentation/05.AltairExample01/'"
   ]
  },
  {
   "cell_type": "code",
   "execution_count": null,
   "metadata": {
    "id": "cPIUTznoQkVj"
   },
   "outputs": [],
   "source": [
    "df = pd.read_csv(path+'data.csv')  "
   ]
  },
  {
   "cell_type": "code",
   "execution_count": null,
   "metadata": {
    "colab": {
     "base_uri": "https://localhost:8080/",
     "height": 204
    },
    "executionInfo": {
     "elapsed": 951,
     "status": "ok",
     "timestamp": 1609124040307,
     "user": {
      "displayName": "Eduard Alexis Larranaga",
      "photoUrl": "https://lh3.googleusercontent.com/a-/AOh14GgCVABzEgj-rCdyxWa29RnA0kIYUCXAaVbnRYOEhQ=s64",
      "userId": "04402438389940282602"
     },
     "user_tz": 300
    },
    "id": "F7V1jkgsQkVk",
    "outputId": "a4fc8a13-cad2-47d0-d3ae-3fd3bb103bbd"
   },
   "outputs": [
    {
     "data": {
      "text/html": [
       "<div>\n",
       "<style scoped>\n",
       "    .dataframe tbody tr th:only-of-type {\n",
       "        vertical-align: middle;\n",
       "    }\n",
       "\n",
       "    .dataframe tbody tr th {\n",
       "        vertical-align: top;\n",
       "    }\n",
       "\n",
       "    .dataframe thead th {\n",
       "        text-align: right;\n",
       "    }\n",
       "</style>\n",
       "<table border=\"1\" class=\"dataframe\">\n",
       "  <thead>\n",
       "    <tr style=\"text-align: right;\">\n",
       "      <th></th>\n",
       "      <th>Name</th>\n",
       "      <th>z</th>\n",
       "      <th>sigma*</th>\n",
       "      <th>e_sigma*</th>\n",
       "      <th>n_sigma*</th>\n",
       "      <th>FWHM</th>\n",
       "      <th>e_FWHM</th>\n",
       "      <th>logL</th>\n",
       "      <th>e_logL</th>\n",
       "      <th>logM</th>\n",
       "      <th>E_logM</th>\n",
       "      <th>e_logM</th>\n",
       "    </tr>\n",
       "  </thead>\n",
       "  <tbody>\n",
       "    <tr>\n",
       "      <th>0</th>\n",
       "      <td>SDSS J000805.62+145023.4</td>\n",
       "      <td>0.0454</td>\n",
       "      <td>140.0</td>\n",
       "      <td>27.0</td>\n",
       "      <td>NaN</td>\n",
       "      <td>7610.0</td>\n",
       "      <td>380.0</td>\n",
       "      <td>41.13</td>\n",
       "      <td>0.04</td>\n",
       "      <td>7.7</td>\n",
       "      <td>NaN</td>\n",
       "      <td>0.1</td>\n",
       "    </tr>\n",
       "    <tr>\n",
       "      <th>1</th>\n",
       "      <td>SDSS J004236.86-104921.8</td>\n",
       "      <td>0.0419</td>\n",
       "      <td>78.4</td>\n",
       "      <td>10.0</td>\n",
       "      <td>NaN</td>\n",
       "      <td>1960.0</td>\n",
       "      <td>97.0</td>\n",
       "      <td>41.58</td>\n",
       "      <td>0.14</td>\n",
       "      <td>6.7</td>\n",
       "      <td>NaN</td>\n",
       "      <td>0.1</td>\n",
       "    </tr>\n",
       "    <tr>\n",
       "      <th>2</th>\n",
       "      <td>SDSS J011703.58+000027.3</td>\n",
       "      <td>0.0456</td>\n",
       "      <td>98.8</td>\n",
       "      <td>16.0</td>\n",
       "      <td>NaN</td>\n",
       "      <td>2270.0</td>\n",
       "      <td>110.0</td>\n",
       "      <td>41.45</td>\n",
       "      <td>0.08</td>\n",
       "      <td>6.8</td>\n",
       "      <td>NaN</td>\n",
       "      <td>0.1</td>\n",
       "    </tr>\n",
       "    <tr>\n",
       "      <th>3</th>\n",
       "      <td>SDSS J020459.25-080816.0</td>\n",
       "      <td>0.0772</td>\n",
       "      <td>121.0</td>\n",
       "      <td>9.4</td>\n",
       "      <td>a</td>\n",
       "      <td>3720.0</td>\n",
       "      <td>180.0</td>\n",
       "      <td>41.13</td>\n",
       "      <td>0.05</td>\n",
       "      <td>7.0</td>\n",
       "      <td>NaN</td>\n",
       "      <td>0.1</td>\n",
       "    </tr>\n",
       "    <tr>\n",
       "      <th>4</th>\n",
       "      <td>SDSS J020615.99-001729.1</td>\n",
       "      <td>0.0426</td>\n",
       "      <td>216.0</td>\n",
       "      <td>30.0</td>\n",
       "      <td>NaN</td>\n",
       "      <td>3860.0</td>\n",
       "      <td>190.0</td>\n",
       "      <td>41.91</td>\n",
       "      <td>0.07</td>\n",
       "      <td>7.5</td>\n",
       "      <td>NaN</td>\n",
       "      <td>0.1</td>\n",
       "    </tr>\n",
       "  </tbody>\n",
       "</table>\n",
       "</div>"
      ],
      "text/plain": [
       "                       Name       z  sigma*  ...  logM E_logM  e_logM\n",
       "0  SDSS J000805.62+145023.4  0.0454   140.0  ...   7.7    NaN     0.1\n",
       "1  SDSS J004236.86-104921.8  0.0419    78.4  ...   6.7    NaN     0.1\n",
       "2  SDSS J011703.58+000027.3  0.0456    98.8  ...   6.8    NaN     0.1\n",
       "3  SDSS J020459.25-080816.0  0.0772   121.0  ...   7.0    NaN     0.1\n",
       "4  SDSS J020615.99-001729.1  0.0426   216.0  ...   7.5    NaN     0.1\n",
       "\n",
       "[5 rows x 12 columns]"
      ]
     },
     "execution_count": 9,
     "metadata": {
      "tags": []
     },
     "output_type": "execute_result"
    }
   ],
   "source": [
    "df.head()"
   ]
  },
  {
   "cell_type": "code",
   "execution_count": null,
   "metadata": {
    "colab": {
     "base_uri": "https://localhost:8080/",
     "height": 297
    },
    "executionInfo": {
     "elapsed": 968,
     "status": "ok",
     "timestamp": 1609124043567,
     "user": {
      "displayName": "Eduard Alexis Larranaga",
      "photoUrl": "https://lh3.googleusercontent.com/a-/AOh14GgCVABzEgj-rCdyxWa29RnA0kIYUCXAaVbnRYOEhQ=s64",
      "userId": "04402438389940282602"
     },
     "user_tz": 300
    },
    "id": "4QeZKoYaQkVk",
    "outputId": "0824ba20-336c-47ad-db54-f4109c061d28"
   },
   "outputs": [
    {
     "data": {
      "text/html": [
       "<div>\n",
       "<style scoped>\n",
       "    .dataframe tbody tr th:only-of-type {\n",
       "        vertical-align: middle;\n",
       "    }\n",
       "\n",
       "    .dataframe tbody tr th {\n",
       "        vertical-align: top;\n",
       "    }\n",
       "\n",
       "    .dataframe thead th {\n",
       "        text-align: right;\n",
       "    }\n",
       "</style>\n",
       "<table border=\"1\" class=\"dataframe\">\n",
       "  <thead>\n",
       "    <tr style=\"text-align: right;\">\n",
       "      <th></th>\n",
       "      <th>z</th>\n",
       "      <th>sigma*</th>\n",
       "      <th>e_sigma*</th>\n",
       "      <th>FWHM</th>\n",
       "      <th>e_FWHM</th>\n",
       "      <th>logL</th>\n",
       "      <th>e_logL</th>\n",
       "      <th>logM</th>\n",
       "      <th>E_logM</th>\n",
       "      <th>e_logM</th>\n",
       "    </tr>\n",
       "  </thead>\n",
       "  <tbody>\n",
       "    <tr>\n",
       "      <th>count</th>\n",
       "      <td>88.000000</td>\n",
       "      <td>88.000000</td>\n",
       "      <td>88.000000</td>\n",
       "      <td>71.000000</td>\n",
       "      <td>71.000000</td>\n",
       "      <td>71.000000</td>\n",
       "      <td>71.000000</td>\n",
       "      <td>88.00000</td>\n",
       "      <td>15.000000</td>\n",
       "      <td>88.000000</td>\n",
       "    </tr>\n",
       "    <tr>\n",
       "      <th>mean</th>\n",
       "      <td>0.048665</td>\n",
       "      <td>117.142045</td>\n",
       "      <td>11.805682</td>\n",
       "      <td>3206.056338</td>\n",
       "      <td>210.760563</td>\n",
       "      <td>41.504225</td>\n",
       "      <td>0.078028</td>\n",
       "      <td>6.86625</td>\n",
       "      <td>0.140667</td>\n",
       "      <td>0.189886</td>\n",
       "    </tr>\n",
       "    <tr>\n",
       "      <th>std</th>\n",
       "      <td>0.032562</td>\n",
       "      <td>48.285108</td>\n",
       "      <td>5.308383</td>\n",
       "      <td>1759.679743</td>\n",
       "      <td>191.219953</td>\n",
       "      <td>0.663268</td>\n",
       "      <td>0.041700</td>\n",
       "      <td>0.72825</td>\n",
       "      <td>0.074303</td>\n",
       "      <td>0.172470</td>\n",
       "    </tr>\n",
       "    <tr>\n",
       "      <th>min</th>\n",
       "      <td>0.000947</td>\n",
       "      <td>30.000000</td>\n",
       "      <td>2.900000</td>\n",
       "      <td>810.000000</td>\n",
       "      <td>41.000000</td>\n",
       "      <td>40.100000</td>\n",
       "      <td>0.030000</td>\n",
       "      <td>4.90000</td>\n",
       "      <td>0.020000</td>\n",
       "      <td>0.020000</td>\n",
       "    </tr>\n",
       "    <tr>\n",
       "      <th>25%</th>\n",
       "      <td>0.027750</td>\n",
       "      <td>87.025000</td>\n",
       "      <td>7.750000</td>\n",
       "      <td>1905.000000</td>\n",
       "      <td>110.000000</td>\n",
       "      <td>41.155000</td>\n",
       "      <td>0.050000</td>\n",
       "      <td>6.30000</td>\n",
       "      <td>0.100000</td>\n",
       "      <td>0.100000</td>\n",
       "    </tr>\n",
       "    <tr>\n",
       "      <th>50%</th>\n",
       "      <td>0.042250</td>\n",
       "      <td>113.500000</td>\n",
       "      <td>12.000000</td>\n",
       "      <td>2970.000000</td>\n",
       "      <td>160.000000</td>\n",
       "      <td>41.510000</td>\n",
       "      <td>0.070000</td>\n",
       "      <td>7.00000</td>\n",
       "      <td>0.120000</td>\n",
       "      <td>0.100000</td>\n",
       "    </tr>\n",
       "    <tr>\n",
       "      <th>75%</th>\n",
       "      <td>0.062200</td>\n",
       "      <td>139.250000</td>\n",
       "      <td>15.000000</td>\n",
       "      <td>3870.000000</td>\n",
       "      <td>210.000000</td>\n",
       "      <td>41.860000</td>\n",
       "      <td>0.090000</td>\n",
       "      <td>7.40750</td>\n",
       "      <td>0.170000</td>\n",
       "      <td>0.200000</td>\n",
       "    </tr>\n",
       "    <tr>\n",
       "      <th>max</th>\n",
       "      <td>0.184000</td>\n",
       "      <td>268.000000</td>\n",
       "      <td>30.000000</td>\n",
       "      <td>8240.000000</td>\n",
       "      <td>1190.000000</td>\n",
       "      <td>43.610000</td>\n",
       "      <td>0.200000</td>\n",
       "      <td>8.52000</td>\n",
       "      <td>0.310000</td>\n",
       "      <td>1.060000</td>\n",
       "    </tr>\n",
       "  </tbody>\n",
       "</table>\n",
       "</div>"
      ],
      "text/plain": [
       "               z      sigma*   e_sigma*  ...      logM     E_logM     e_logM\n",
       "count  88.000000   88.000000  88.000000  ...  88.00000  15.000000  88.000000\n",
       "mean    0.048665  117.142045  11.805682  ...   6.86625   0.140667   0.189886\n",
       "std     0.032562   48.285108   5.308383  ...   0.72825   0.074303   0.172470\n",
       "min     0.000947   30.000000   2.900000  ...   4.90000   0.020000   0.020000\n",
       "25%     0.027750   87.025000   7.750000  ...   6.30000   0.100000   0.100000\n",
       "50%     0.042250  113.500000  12.000000  ...   7.00000   0.120000   0.100000\n",
       "75%     0.062200  139.250000  15.000000  ...   7.40750   0.170000   0.200000\n",
       "max     0.184000  268.000000  30.000000  ...   8.52000   0.310000   1.060000\n",
       "\n",
       "[8 rows x 10 columns]"
      ]
     },
     "execution_count": 10,
     "metadata": {
      "tags": []
     },
     "output_type": "execute_result"
    }
   ],
   "source": [
    "df.describe()"
   ]
  },
  {
   "cell_type": "markdown",
   "metadata": {
    "id": "nEUudEJKQkVl"
   },
   "source": [
    "The dataframe includes data from 88 supermassive black holes. There can be seen the mean of the values, the standard deviation and the minimum and maximum values.\n",
    "\n",
    "The columns correspond to\n",
    "\n",
    "**z** : Redshift \\\n",
    "**sigma**\\* : Stellar velocity dispersion \\\n",
    "**e_sigma**\\* : Formal uncertainty in sigma* \\\n",
    "**FWHM** : H<sub>$\\alpha$</sub> Full-Width at Half Maximum \\\n",
    "**e_FWHM** : Formal uncertainty in FWHM \\\n",
    "**logL** : $log_{10}$ of H<sub>$\\alpha$</sub> luminosity in erg/s \\\n",
    "**e_logL** : Formal uncertainty in logL \\\n",
    "**logM** : $\\log_{10}$ of the Black Hole mass \\\n",
    "**E_logM** : Formal (upper limit) uncertainty in logM \\\n",
    "**e_logM** : Formal (lower limit) uncertainty in logM \n",
    "\n",
    "---"
   ]
  },
  {
   "cell_type": "markdown",
   "metadata": {
    "id": "nsVTP_hZQkVl"
   },
   "source": [
    "### Ploting the Data\n",
    "\n",
    "We will use the `Altair` package to plot the dataframe.\n",
    "\n",
    "---\n",
    "\n",
    "The first chart looks like this"
   ]
  },
  {
   "cell_type": "code",
   "execution_count": null,
   "metadata": {
    "colab": {
     "base_uri": "https://localhost:8080/",
     "height": 51
    },
    "executionInfo": {
     "elapsed": 894,
     "status": "ok",
     "timestamp": 1609124048722,
     "user": {
      "displayName": "Eduard Alexis Larranaga",
      "photoUrl": "https://lh3.googleusercontent.com/a-/AOh14GgCVABzEgj-rCdyxWa29RnA0kIYUCXAaVbnRYOEhQ=s64",
      "userId": "04402438389940282602"
     },
     "user_tz": 300
    },
    "id": "YHcHo8XVQkVm",
    "outputId": "bfb6e60f-31df-4b97-c668-467db3b60e52"
   },
   "outputs": [
    {
     "data": {
      "text/html": [
       "\n",
       "<div id=\"altair-viz-423fb657e35d40b0ba5e5d5923088eb4\"></div>\n",
       "<script type=\"text/javascript\">\n",
       "  (function(spec, embedOpt){\n",
       "    let outputDiv = document.currentScript.previousElementSibling;\n",
       "    if (outputDiv.id !== \"altair-viz-423fb657e35d40b0ba5e5d5923088eb4\") {\n",
       "      outputDiv = document.getElementById(\"altair-viz-423fb657e35d40b0ba5e5d5923088eb4\");\n",
       "    }\n",
       "    const paths = {\n",
       "      \"vega\": \"https://cdn.jsdelivr.net/npm//vega@5?noext\",\n",
       "      \"vega-lib\": \"https://cdn.jsdelivr.net/npm//vega-lib?noext\",\n",
       "      \"vega-lite\": \"https://cdn.jsdelivr.net/npm//vega-lite@4.8.1?noext\",\n",
       "      \"vega-embed\": \"https://cdn.jsdelivr.net/npm//vega-embed@6?noext\",\n",
       "    };\n",
       "\n",
       "    function loadScript(lib) {\n",
       "      return new Promise(function(resolve, reject) {\n",
       "        var s = document.createElement('script');\n",
       "        s.src = paths[lib];\n",
       "        s.async = true;\n",
       "        s.onload = () => resolve(paths[lib]);\n",
       "        s.onerror = () => reject(`Error loading script: ${paths[lib]}`);\n",
       "        document.getElementsByTagName(\"head\")[0].appendChild(s);\n",
       "      });\n",
       "    }\n",
       "\n",
       "    function showError(err) {\n",
       "      outputDiv.innerHTML = `<div class=\"error\" style=\"color:red;\">${err}</div>`;\n",
       "      throw err;\n",
       "    }\n",
       "\n",
       "    function displayChart(vegaEmbed) {\n",
       "      vegaEmbed(outputDiv, spec, embedOpt)\n",
       "        .catch(err => showError(`Javascript Error: ${err.message}<br>This usually means there's a typo in your chart specification. See the javascript console for the full traceback.`));\n",
       "    }\n",
       "\n",
       "    if(typeof define === \"function\" && define.amd) {\n",
       "      requirejs.config({paths});\n",
       "      require([\"vega-embed\"], displayChart, err => showError(`Error loading script: ${err.message}`));\n",
       "    } else if (typeof vegaEmbed === \"function\") {\n",
       "      displayChart(vegaEmbed);\n",
       "    } else {\n",
       "      loadScript(\"vega\")\n",
       "        .then(() => loadScript(\"vega-lite\"))\n",
       "        .then(() => loadScript(\"vega-embed\"))\n",
       "        .catch(showError)\n",
       "        .then(() => displayChart(vegaEmbed));\n",
       "    }\n",
       "  })({\"config\": {\"view\": {\"continuousWidth\": 400, \"continuousHeight\": 300}}, \"data\": {\"name\": \"data-54b58a4aa74e295879badff738f3e9c4\"}, \"mark\": \"point\", \"$schema\": \"https://vega.github.io/schema/vega-lite/v4.8.1.json\", \"datasets\": {\"data-54b58a4aa74e295879badff738f3e9c4\": [{\"Name\": \"SDSS J000805.62+145023.4\", \"z\": 0.0454, \"sigma*\": 140.0, \"e_sigma*\": 27.0, \"n_sigma*\": null, \"FWHM\": 7610.0, \"e_FWHM\": 380.0, \"logL\": 41.13, \"e_logL\": 0.04, \"logM\": 7.7, \"E_logM\": null, \"e_logM\": 0.1}, {\"Name\": \"SDSS J004236.86-104921.8\", \"z\": 0.0419, \"sigma*\": 78.4, \"e_sigma*\": 10.0, \"n_sigma*\": null, \"FWHM\": 1960.0, \"e_FWHM\": 97.0, \"logL\": 41.58, \"e_logL\": 0.14, \"logM\": 6.7, \"E_logM\": null, \"e_logM\": 0.1}, {\"Name\": \"SDSS J011703.58+000027.3\", \"z\": 0.0456, \"sigma*\": 98.8, \"e_sigma*\": 16.0, \"n_sigma*\": null, \"FWHM\": 2270.0, \"e_FWHM\": 110.0, \"logL\": 41.45, \"e_logL\": 0.08, \"logM\": 6.8, \"E_logM\": null, \"e_logM\": 0.1}, {\"Name\": \"SDSS J020459.25-080816.0\", \"z\": 0.0772, \"sigma*\": 121.0, \"e_sigma*\": 9.4, \"n_sigma*\": \"a\", \"FWHM\": 3720.0, \"e_FWHM\": 180.0, \"logL\": 41.13, \"e_logL\": 0.05, \"logM\": 7.0, \"E_logM\": null, \"e_logM\": 0.1}, {\"Name\": \"SDSS J020615.99-001729.1\", \"z\": 0.0426, \"sigma*\": 216.0, \"e_sigma*\": 30.0, \"n_sigma*\": null, \"FWHM\": 3860.0, \"e_FWHM\": 190.0, \"logL\": 41.91, \"e_logL\": 0.07, \"logM\": 7.5, \"E_logM\": null, \"e_logM\": 0.1}, {\"Name\": \"SDSS J021011.49-090335.5\", \"z\": 0.0414, \"sigma*\": 122.0, \"e_sigma*\": 12.0, \"n_sigma*\": \"a\", \"FWHM\": 2450.0, \"e_FWHM\": 120.0, \"logL\": 41.24, \"e_logL\": 0.07, \"logM\": 6.7, \"E_logM\": null, \"e_logM\": 0.1}, {\"Name\": \"SDSS J021257.59+140610.1\", \"z\": 0.0618, \"sigma*\": 174.0, \"e_sigma*\": 12.0, \"n_sigma*\": \"a\", \"FWHM\": 3080.0, \"e_FWHM\": 150.0, \"logL\": 41.58, \"e_logL\": 0.06, \"logM\": 7.1, \"E_logM\": null, \"e_logM\": 0.1}, {\"Name\": \"SDSS J033013.26-053236.0\", \"z\": 0.0131, \"sigma*\": 99.2, \"e_sigma*\": 11.0, \"n_sigma*\": null, \"FWHM\": 5160.0, \"e_FWHM\": 250.0, \"logL\": 40.45, \"e_logL\": 0.06, \"logM\": 7.0, \"E_logM\": null, \"e_logM\": 0.1}, {\"Name\": \"SDSS J075057.25+353037.5\", \"z\": 0.17600000000000002, \"sigma*\": 154.0, \"e_sigma*\": 14.0, \"n_sigma*\": \"a\", \"FWHM\": 2970.0, \"e_FWHM\": 200.0, \"logL\": 41.63, \"e_logL\": 0.03, \"logM\": 7.2, \"E_logM\": null, \"e_logM\": 0.1}, {\"Name\": \"SDSS J080243.39+310403.3\", \"z\": 0.0409, \"sigma*\": 151.0, \"e_sigma*\": 17.0, \"n_sigma*\": null, \"FWHM\": 5360.0, \"e_FWHM\": 260.0, \"logL\": 41.67, \"e_logL\": 0.07, \"logM\": 7.6, \"E_logM\": null, \"e_logM\": 0.1}, {\"Name\": \"SDSS J080538.66+261005.4\", \"z\": 0.017, \"sigma*\": 100.0, \"e_sigma*\": 14.0, \"n_sigma*\": null, \"FWHM\": 3110.0, \"e_FWHM\": 150.0, \"logL\": 40.14, \"e_logL\": 0.04, \"logM\": 6.3, \"E_logM\": null, \"e_logM\": 0.2}, {\"Name\": \"SDSS J082510.23+375919.7\", \"z\": 0.0214, \"sigma*\": 98.7, \"e_sigma*\": 12.0, \"n_sigma*\": null, \"FWHM\": 1830.0, \"e_FWHM\": 91.0, \"logL\": 40.42, \"e_logL\": 0.04, \"logM\": 6.0, \"E_logM\": null, \"e_logM\": 0.1}, {\"Name\": \"SDSS J083202.16+461425.7\", \"z\": 0.0459, \"sigma*\": 104.0, \"e_sigma*\": 13.0, \"n_sigma*\": null, \"FWHM\": 1450.0, \"e_FWHM\": 72.0, \"logL\": 41.17, \"e_logL\": 0.08, \"logM\": 6.2, \"E_logM\": null, \"e_logM\": 0.1}, {\"Name\": \"SDSS J083949.64+484701.4\", \"z\": 0.0394, \"sigma*\": 133.0, \"e_sigma*\": 12.0, \"n_sigma*\": null, \"FWHM\": 1480.0, \"e_FWHM\": 73.0, \"logL\": 41.31, \"e_logL\": 0.08, \"logM\": 6.3, \"E_logM\": null, \"e_logM\": 0.2}, {\"Name\": \"SDSS J085554.27+005110.9\", \"z\": 0.0524, \"sigma*\": 118.0, \"e_sigma*\": 11.0, \"n_sigma*\": \"a\", \"FWHM\": 2910.0, \"e_FWHM\": 140.0, \"logL\": 41.27, \"e_logL\": 0.06, \"logM\": 6.9, \"E_logM\": null, \"e_logM\": 0.1}, {\"Name\": \"SDSS J092438.88+560746.9\", \"z\": 0.025, \"sigma*\": 135.0, \"e_sigma*\": 10.0, \"n_sigma*\": null, \"FWHM\": 1900.0, \"e_FWHM\": 94.0, \"logL\": 40.72, \"e_logL\": 0.07, \"logM\": 6.2, \"E_logM\": null, \"e_logM\": 0.4}, {\"Name\": \"SDSS J093259.60+040506.0\", \"z\": 0.059000000000000004, \"sigma*\": 70.5, \"e_sigma*\": 6.7, \"n_sigma*\": \"a\", \"FWHM\": 3550.0, \"e_FWHM\": 170.0, \"logL\": 41.14, \"e_logL\": 0.05, \"logM\": 7.0, \"E_logM\": null, \"e_logM\": 0.1}, {\"Name\": \"SDSS J093812.26+074340.0\", \"z\": 0.0219, \"sigma*\": 119.0, \"e_sigma*\": 8.0, \"n_sigma*\": null, \"FWHM\": 3640.0, \"e_FWHM\": 180.0, \"logL\": 40.8, \"e_logL\": 0.05, \"logM\": 6.8, \"E_logM\": null, \"e_logM\": 0.1}, {\"Name\": \"SDSS J094838.42+403043.7\", \"z\": 0.047, \"sigma*\": 91.4, \"e_sigma*\": 16.0, \"n_sigma*\": null, \"FWHM\": 3020.0, \"e_FWHM\": 150.0, \"logL\": 41.46, \"e_logL\": 0.07, \"logM\": 7.0, \"E_logM\": null, \"e_logM\": 0.1}, {\"Name\": \"SDSS J101912.57+635802.7\", \"z\": 0.0414, \"sigma*\": 239.0, \"e_sigma*\": 13.0, \"n_sigma*\": null, \"FWHM\": 3630.0, \"e_FWHM\": 180.0, \"logL\": 41.74, \"e_logL\": 0.08, \"logM\": 7.4, \"E_logM\": null, \"e_logM\": 0.1}, {\"Name\": \"SDSS J102044.43+013048.4\", \"z\": 0.0962, \"sigma*\": 103.0, \"e_sigma*\": 8.8, \"n_sigma*\": \"a\", \"FWHM\": 5200.0, \"e_FWHM\": 250.0, \"logL\": 41.51, \"e_logL\": 0.04, \"logM\": 7.6, \"E_logM\": null, \"e_logM\": 0.1}, {\"Name\": \"SDSS J110640.20+051905.6\", \"z\": 0.0913, \"sigma*\": 140.0, \"e_sigma*\": 15.0, \"n_sigma*\": \"a\", \"FWHM\": 5830.0, \"e_FWHM\": 290.0, \"logL\": 41.65, \"e_logL\": 0.04, \"logM\": 7.7, \"E_logM\": null, \"e_logM\": 0.1}, {\"Name\": \"SDSS J112536.16+542257.1\", \"z\": 0.0206, \"sigma*\": 124.0, \"e_sigma*\": 12.0, \"n_sigma*\": null, \"FWHM\": 2950.0, \"e_FWHM\": 140.0, \"logL\": 41.17, \"e_logL\": 0.08, \"logM\": 6.8, \"E_logM\": null, \"e_logM\": 0.1}, {\"Name\": \"SDSS J112841.00+575006.5\", \"z\": 0.0513, \"sigma*\": 159.0, \"e_sigma*\": 18.0, \"n_sigma*\": \"a\", \"FWHM\": 2660.0, \"e_FWHM\": 130.0, \"logL\": 41.66, \"e_logL\": 0.09, \"logM\": 7.0, \"E_logM\": null, \"e_logM\": 0.1}, {\"Name\": \"SDSS J120257.81+045045.0\", \"z\": 0.0207, \"sigma*\": 102.0, \"e_sigma*\": 20.0, \"n_sigma*\": null, \"FWHM\": 2250.0, \"e_FWHM\": 110.0, \"logL\": 40.1, \"e_logL\": 0.06, \"logM\": 6.0, \"E_logM\": null, \"e_logM\": 0.1}, {\"Name\": \"SDSS J120556.01+495956.1\", \"z\": 0.0631, \"sigma*\": 107.0, \"e_sigma*\": 11.0, \"n_sigma*\": \"a\", \"FWHM\": 5610.0, \"e_FWHM\": 450.0, \"logL\": 41.57, \"e_logL\": 0.04, \"logM\": 7.7, \"E_logM\": null, \"e_logM\": 0.1}, {\"Name\": \"SDSS J121607.09+504930.0\", \"z\": 0.0308, \"sigma*\": 138.0, \"e_sigma*\": 13.0, \"n_sigma*\": null, \"FWHM\": 5580.0, \"e_FWHM\": 270.0, \"logL\": 41.3, \"e_logL\": 0.06, \"logM\": 7.5, \"E_logM\": null, \"e_logM\": 0.3}, {\"Name\": \"SDSS J121754.97+583935.6\", \"z\": 0.0233, \"sigma*\": 85.6, \"e_sigma*\": 14.0, \"n_sigma*\": null, \"FWHM\": 1970.0, \"e_FWHM\": 98.0, \"logL\": 40.92, \"e_logL\": 0.08, \"logM\": 6.4, \"E_logM\": null, \"e_logM\": 0.1}, {\"Name\": \"SDSS J122324.13+024044.4\", \"z\": 0.0236, \"sigma*\": 78.1, \"e_sigma*\": 15.0, \"n_sigma*\": null, \"FWHM\": 3880.0, \"e_FWHM\": 910.0, \"logL\": 41.62, \"e_logL\": 0.08, \"logM\": 7.3, \"E_logM\": null, \"e_logM\": 0.2}, {\"Name\": \"SDSS J123237.48+662452.3\", \"z\": 0.0468, \"sigma*\": 124.0, \"e_sigma*\": 9.0, \"n_sigma*\": null, \"FWHM\": 2620.0, \"e_FWHM\": 130.0, \"logL\": 41.86, \"e_logL\": 0.19, \"logM\": 7.1, \"E_logM\": null, \"e_logM\": 0.2}, {\"Name\": \"SDSS J130620.97+531823.1\", \"z\": 0.0237, \"sigma*\": 90.7, \"e_sigma*\": 11.0, \"n_sigma*\": null, \"FWHM\": 7620.0, \"e_FWHM\": 380.0, \"logL\": 40.58, \"e_logL\": 0.04, \"logM\": 7.3, \"E_logM\": null, \"e_logM\": 0.1}, {\"Name\": \"SDSS J131305.80+012755.9\", \"z\": 0.0294, \"sigma*\": 95.4, \"e_sigma*\": 13.0, \"n_sigma*\": null, \"FWHM\": 1590.0, \"e_FWHM\": 79.0, \"logL\": 40.62, \"e_logL\": 0.07, \"logM\": 6.0, \"E_logM\": null, \"e_logM\": 0.1}, {\"Name\": \"SDSS J132249.21+545528.2\", \"z\": 0.0653, \"sigma*\": 130.0, \"e_sigma*\": 13.0, \"n_sigma*\": \"a\", \"FWHM\": 4050.0, \"e_FWHM\": 200.0, \"logL\": 41.81, \"e_logL\": 0.07, \"logM\": 7.5, \"E_logM\": null, \"e_logM\": 0.1}, {\"Name\": \"SDSS J132340.31-012749.2\", \"z\": 0.0767, \"sigma*\": 114.0, \"e_sigma*\": 16.0, \"n_sigma*\": \"a\", \"FWHM\": 1910.0, \"e_FWHM\": 95.0, \"logL\": 41.55, \"e_logL\": 0.09, \"logM\": 6.7, \"E_logM\": null, \"e_logM\": 0.1}, {\"Name\": \"SDSS J134952.84+020445.1\", \"z\": 0.0328, \"sigma*\": 138.0, \"e_sigma*\": 13.0, \"n_sigma*\": null, \"FWHM\": 2590.0, \"e_FWHM\": 120.0, \"logL\": 41.62, \"e_logL\": 0.07, \"logM\": 7.0, \"E_logM\": null, \"e_logM\": 0.1}, {\"Name\": \"SDSS J140018.42+050242.2\", \"z\": 0.0342, \"sigma*\": 145.0, \"e_sigma*\": 14.0, \"n_sigma*\": null, \"FWHM\": 3340.0, \"e_FWHM\": 160.0, \"logL\": 41.23, \"e_logL\": 0.05, \"logM\": 7.1, \"E_logM\": null, \"e_logM\": 0.5}, {\"Name\": \"SDSS J140514.87-025901.2\", \"z\": 0.0542, \"sigma*\": 148.0, \"e_sigma*\": 15.0, \"n_sigma*\": \"a\", \"FWHM\": 2990.0, \"e_FWHM\": 140.0, \"logL\": 41.29, \"e_logL\": 0.06, \"logM\": 6.9, \"E_logM\": null, \"e_logM\": 0.3}, {\"Name\": \"SDSS J141630.81+013708.0\", \"z\": 0.0538, \"sigma*\": 121.0, \"e_sigma*\": 12.0, \"n_sigma*\": \"a\", \"FWHM\": 3180.0, \"e_FWHM\": 150.0, \"logL\": 41.1, \"e_logL\": 0.04, \"logM\": 6.9, \"E_logM\": null, \"e_logM\": 0.1}, {\"Name\": \"SDSS J143452.45+483942.7\", \"z\": 0.0365, \"sigma*\": 138.0, \"e_sigma*\": 15.0, \"n_sigma*\": null, \"FWHM\": 3210.0, \"e_FWHM\": 160.0, \"logL\": 41.84, \"e_logL\": 0.1, \"logM\": 7.3, \"E_logM\": null, \"e_logM\": 0.1}, {\"Name\": \"SDSS J144629.97+500130.5\", \"z\": 0.0427, \"sigma*\": 86.8, \"e_sigma*\": 19.0, \"n_sigma*\": null, \"FWHM\": 6450.0, \"e_FWHM\": 320.0, \"logL\": 40.73, \"e_logL\": 0.03, \"logM\": 7.3, \"E_logM\": null, \"e_logM\": 0.2}, {\"Name\": \"SDSS J145706.80+494008.4\", \"z\": 0.0134, \"sigma*\": 108.0, \"e_sigma*\": 11.0, \"n_sigma*\": null, \"FWHM\": 2270.0, \"e_FWHM\": 110.0, \"logL\": 40.46, \"e_logL\": 0.1, \"logM\": 6.3, \"E_logM\": null, \"e_logM\": 0.1}, {\"Name\": \"SDSS J145901.35+611353.5\", \"z\": 0.0388, \"sigma*\": 113.0, \"e_sigma*\": 13.0, \"n_sigma*\": null, \"FWHM\": 4140.0, \"e_FWHM\": 200.0, \"logL\": 41.18, \"e_logL\": 0.06, \"logM\": 7.2, \"E_logM\": null, \"e_logM\": 0.1}, {\"Name\": \"SDSS J150556.55+034226.3\", \"z\": 0.0359, \"sigma*\": 199.0, \"e_sigma*\": 18.0, \"n_sigma*\": \"a\", \"FWHM\": 4370.0, \"e_FWHM\": 210.0, \"logL\": 42.09, \"e_logL\": 0.1, \"logM\": 7.7, \"E_logM\": null, \"e_logM\": 0.1}, {\"Name\": \"SDSS J150745.00+512710.2\", \"z\": 0.0458, \"sigma*\": 139.0, \"e_sigma*\": 17.0, \"n_sigma*\": null, \"FWHM\": 3430.0, \"e_FWHM\": 170.0, \"logL\": 41.4, \"e_logL\": 0.04, \"logM\": 7.1, \"E_logM\": null, \"e_logM\": 0.1}, {\"Name\": \"SDSS J150853.95-001148.9\", \"z\": 0.0542, \"sigma*\": 163.0, \"e_sigma*\": 15.0, \"n_sigma*\": \"a\", \"FWHM\": 6190.0, \"e_FWHM\": 610.0, \"logL\": 41.51, \"e_logL\": 0.04, \"logM\": 7.8, \"E_logM\": null, \"e_logM\": 0.1}, {\"Name\": \"SDSS J152515.18+601409.0\", \"z\": 0.0783, \"sigma*\": 104.0, \"e_sigma*\": 11.0, \"n_sigma*\": \"a\", \"FWHM\": 2590.0, \"e_FWHM\": 120.0, \"logL\": 41.41, \"e_logL\": 0.09, \"logM\": 6.9, \"E_logM\": null, \"e_logM\": 0.1}, {\"Name\": \"SDSS J155417.43+323837.8\", \"z\": 0.0483, \"sigma*\": 120.0, \"e_sigma*\": 13.0, \"n_sigma*\": \"a\", \"FWHM\": 4200.0, \"e_FWHM\": 210.0, \"logL\": 41.86, \"e_logL\": 0.08, \"logM\": 7.5, \"E_logM\": null, \"e_logM\": 0.1}, {\"Name\": \"SDSS J161156.31+521116.8\", \"z\": 0.040999999999999995, \"sigma*\": 116.0, \"e_sigma*\": 10.0, \"n_sigma*\": null, \"FWHM\": 3760.0, \"e_FWHM\": 180.0, \"logL\": 41.09, \"e_logL\": 0.04, \"logM\": 7.0, \"E_logM\": null, \"e_logM\": 0.3}, {\"Name\": \"SDSS J161951.31+405847.2\", \"z\": 0.0379, \"sigma*\": 89.1, \"e_sigma*\": 20.0, \"n_sigma*\": null, \"FWHM\": 1700.0, \"e_FWHM\": 85.0, \"logL\": 40.99, \"e_logL\": 0.07, \"logM\": 6.3, \"E_logM\": null, \"e_logM\": 0.1}, {\"Name\": \"SDSS J170328.96+614109.9\", \"z\": 0.0772, \"sigma*\": 123.0, \"e_sigma*\": 13.0, \"n_sigma*\": \"a\", \"FWHM\": 4300.0, \"e_FWHM\": 210.0, \"logL\": 41.92, \"e_logL\": 0.05, \"logM\": 7.6, \"E_logM\": null, \"e_logM\": 0.1}, {\"Name\": \"SDSS J171550.49+593548.7\", \"z\": 0.0657, \"sigma*\": 146.0, \"e_sigma*\": 13.0, \"n_sigma*\": \"a\", \"FWHM\": 3500.0, \"e_FWHM\": 170.0, \"logL\": 41.24, \"e_logL\": 0.05, \"logM\": 7.0, \"E_logM\": null, \"e_logM\": 0.1}, {\"Name\": \"SDSS J212401.90-002158.7\", \"z\": 0.0619, \"sigma*\": 110.0, \"e_sigma*\": 15.0, \"n_sigma*\": \"a\", \"FWHM\": 2620.0, \"e_FWHM\": 130.0, \"logL\": 41.41, \"e_logL\": 0.06, \"logM\": 6.9, \"E_logM\": null, \"e_logM\": 0.1}, {\"Name\": \"SDSS J222435.29-001103.8\", \"z\": 0.0581, \"sigma*\": 111.0, \"e_sigma*\": 19.0, \"n_sigma*\": \"a\", \"FWHM\": 2290.0, \"e_FWHM\": 1190.0, \"logL\": 41.83, \"e_logL\": 0.17, \"logM\": 7.0, \"E_logM\": null, \"e_logM\": 0.4}, {\"Name\": \"SDSS J223000.37-094622.1\", \"z\": 0.0727, \"sigma*\": 112.0, \"e_sigma*\": 13.0, \"n_sigma*\": \"a\", \"FWHM\": 3630.0, \"e_FWHM\": 180.0, \"logL\": 41.21, \"e_logL\": 0.04, \"logM\": 7.1, \"E_logM\": null, \"e_logM\": 0.1}, {\"Name\": \"SDSS J232721.96+152437.3\", \"z\": 0.0457, \"sigma*\": 193.0, \"e_sigma*\": 18.0, \"n_sigma*\": null, \"FWHM\": 7540.0, \"e_FWHM\": 750.0, \"logL\": 41.65, \"e_logL\": 0.06, \"logM\": 7.9, \"E_logM\": null, \"e_logM\": 0.1}, {\"Name\": \"SDSS J235128.78+155259.0\", \"z\": 0.0963, \"sigma*\": 193.0, \"e_sigma*\": 22.0, \"n_sigma*\": \"a\", \"FWHM\": 8240.0, \"e_FWHM\": 410.0, \"logL\": 41.87, \"e_logL\": 0.04, \"logM\": 8.2, \"E_logM\": null, \"e_logM\": 0.2}, {\"Name\": \"SDSS J010712.03+140844.9\", \"z\": 0.0768, \"sigma*\": 36.0, \"e_sigma*\": 6.0, \"n_sigma*\": \"b\", \"FWHM\": 880.0, \"e_FWHM\": 170.0, \"logL\": 42.57, \"e_logL\": 0.2, \"logM\": 5.8, \"E_logM\": null, \"e_logM\": 0.2}, {\"Name\": \"SDSS J024912.86-081525.6\", \"z\": 0.0294, \"sigma*\": 50.0, \"e_sigma*\": 4.0, \"n_sigma*\": \"b\", \"FWHM\": 840.0, \"e_FWHM\": 320.0, \"logL\": 41.93, \"e_logL\": 0.08, \"logM\": 5.1, \"E_logM\": null, \"e_logM\": 0.3}, {\"Name\": \"SDSS J032515.59+003408.4\", \"z\": 0.102, \"sigma*\": 55.0, \"e_sigma*\": 6.0, \"n_sigma*\": \"b\", \"FWHM\": 990.0, \"e_FWHM\": 49.0, \"logL\": 42.03, \"e_logL\": 0.12, \"logM\": 5.8, \"E_logM\": null, \"e_logM\": 0.1}, {\"Name\": \"SDSS J080907.58+441641.4\", \"z\": 0.0539, \"sigma*\": 65.0, \"e_sigma*\": 4.0, \"n_sigma*\": \"b\", \"FWHM\": 940.0, \"e_FWHM\": 180.0, \"logL\": 40.47, \"e_logL\": 0.04, \"logM\": 5.5, \"E_logM\": null, \"e_logM\": 0.8}, {\"Name\": \"SDSS J082912.67+500652.3\", \"z\": 0.0434, \"sigma*\": 60.0, \"e_sigma*\": 4.0, \"n_sigma*\": \"b\", \"FWHM\": 840.0, \"e_FWHM\": 41.0, \"logL\": 42.14, \"e_logL\": 0.06, \"logM\": 5.7, \"E_logM\": null, \"e_logM\": 0.1}, {\"Name\": \"SDSS J101108.40+002908.7\", \"z\": 0.1, \"sigma*\": 48.0, \"e_sigma*\": 7.0, \"n_sigma*\": \"b\", \"FWHM\": 1460.0, \"e_FWHM\": 72.0, \"logL\": 42.68, \"e_logL\": 0.19, \"logM\": 6.2, \"E_logM\": null, \"e_logM\": 0.3}, {\"Name\": \"SDSS J101627.32-000714.5\", \"z\": 0.0944, \"sigma*\": 39.0, \"e_sigma*\": 6.0, \"n_sigma*\": \"b\", \"FWHM\": 1520.0, \"e_FWHM\": 75.0, \"logL\": 42.57, \"e_logL\": 0.17, \"logM\": 6.1, \"E_logM\": null, \"e_logM\": 0.2}, {\"Name\": \"SDSS J124035.81-002919.4\", \"z\": 0.0809, \"sigma*\": 49.0, \"e_sigma*\": 7.0, \"n_sigma*\": \"b\", \"FWHM\": 1720.0, \"e_FWHM\": 85.0, \"logL\": 42.35, \"e_logL\": 0.11, \"logM\": 6.6, \"E_logM\": null, \"e_logM\": 0.6}, {\"Name\": \"SDSS J125055.28-015556.6\", \"z\": 0.0814, \"sigma*\": 64.0, \"e_sigma*\": 6.0, \"n_sigma*\": \"b\", \"FWHM\": 1980.0, \"e_FWHM\": 99.0, \"logL\": 42.75, \"e_logL\": 0.14, \"logM\": 6.5, \"E_logM\": null, \"e_logM\": 0.1}, {\"Name\": \"SDSS J143450.62+033842.5\", \"z\": 0.0282, \"sigma*\": 48.0, \"e_sigma*\": 7.0, \"n_sigma*\": \"b\", \"FWHM\": 1480.0, \"e_FWHM\": 73.0, \"logL\": 41.87, \"e_logL\": 0.16, \"logM\": 5.6, \"E_logM\": null, \"e_logM\": 0.1}, {\"Name\": \"SDSS J170246.09+602818.9\", \"z\": 0.0689, \"sigma*\": 69.0, \"e_sigma*\": 6.0, \"n_sigma*\": \"b\", \"FWHM\": 3270.0, \"e_FWHM\": 160.0, \"logL\": 42.67, \"e_logL\": 0.16, \"logM\": 6.9, \"E_logM\": null, \"e_logM\": 0.2}, {\"Name\": \"SDSS J172759.15+542147.0\", \"z\": 0.0995, \"sigma*\": 58.0, \"e_sigma*\": 7.0, \"n_sigma*\": \"b\", \"FWHM\": 810.0, \"e_FWHM\": 400.0, \"logL\": 42.19, \"e_logL\": 0.09, \"logM\": 5.6, \"E_logM\": null, \"e_logM\": 0.5}, {\"Name\": \"SDSS J215658.30+110343.1\", \"z\": 0.10800000000000001, \"sigma*\": 81.0, \"e_sigma*\": 8.0, \"n_sigma*\": \"b\", \"FWHM\": 1430.0, \"e_FWHM\": 280.0, \"logL\": 41.22, \"e_logL\": 0.03, \"logM\": 6.3, \"E_logM\": null, \"e_logM\": 0.8}, {\"Name\": \"SDSS J232159.06+000738.8\", \"z\": 0.184, \"sigma*\": 81.0, \"e_sigma*\": 9.0, \"n_sigma*\": \"b\", \"FWHM\": 2520.0, \"e_FWHM\": 120.0, \"logL\": 42.96, \"e_logL\": 0.1, \"logM\": 6.7, \"E_logM\": null, \"e_logM\": 0.2}, {\"Name\": \"SDSS J233837.10-002810.3\", \"z\": 0.0356, \"sigma*\": 58.0, \"e_sigma*\": 4.0, \"n_sigma*\": \"b\", \"FWHM\": 1740.0, \"e_FWHM\": 86.0, \"logL\": 43.61, \"e_logL\": 0.13, \"logM\": 5.8, \"E_logM\": null, \"e_logM\": 0.1}, {\"Name\": \"3C 120\", \"z\": 0.033, \"sigma*\": 162.0, \"e_sigma*\": 24.0, \"n_sigma*\": \"b\", \"FWHM\": null, \"e_FWHM\": null, \"logL\": null, \"e_logL\": null, \"logM\": 7.43, \"E_logM\": 0.2, \"e_logM\": 0.25}, {\"Name\": \"3C 390.3\", \"z\": 0.0561, \"sigma*\": 268.0, \"e_sigma*\": 15.0, \"n_sigma*\": null, \"FWHM\": null, \"e_FWHM\": null, \"logL\": null, \"e_logL\": null, \"logM\": 8.52, \"E_logM\": 0.09, \"e_logM\": 0.12}, {\"Name\": \"Akn 120\", \"z\": 0.0323, \"sigma*\": 224.0, \"e_sigma*\": 15.0, \"n_sigma*\": null, \"FWHM\": null, \"e_FWHM\": null, \"logL\": null, \"e_logL\": null, \"logM\": 8.2, \"E_logM\": 0.05, \"e_logM\": 0.07}, {\"Name\": \"Mrk 79\", \"z\": 0.0222, \"sigma*\": 130.0, \"e_sigma*\": 10.0, \"n_sigma*\": null, \"FWHM\": null, \"e_FWHM\": null, \"logL\": null, \"e_logL\": null, \"logM\": 7.67, \"E_logM\": 0.11, \"e_logM\": 0.15}, {\"Name\": \"Mrk 110\", \"z\": 0.0353, \"sigma*\": 87.1, \"e_sigma*\": 12.0, \"n_sigma*\": null, \"FWHM\": null, \"e_FWHM\": null, \"logL\": null, \"e_logL\": null, \"logM\": 6.97, \"E_logM\": 0.11, \"e_logM\": 0.15}, {\"Name\": \"Mrk 279\", \"z\": 0.0305, \"sigma*\": 197.0, \"e_sigma*\": 12.0, \"n_sigma*\": null, \"FWHM\": null, \"e_FWHM\": null, \"logL\": null, \"e_logL\": null, \"logM\": 7.45, \"E_logM\": 0.12, \"e_logM\": 0.16}, {\"Name\": \"Mrk 590\", \"z\": 0.0264, \"sigma*\": 189.0, \"e_sigma*\": 5.7, \"n_sigma*\": null, \"FWHM\": null, \"e_FWHM\": null, \"logL\": null, \"e_logL\": null, \"logM\": 7.2, \"E_logM\": 0.11, \"e_logM\": 0.15}, {\"Name\": \"Mrk 817\", \"z\": 0.0315, \"sigma*\": 127.0, \"e_sigma*\": 12.0, \"n_sigma*\": null, \"FWHM\": null, \"e_FWHM\": null, \"logL\": null, \"e_logL\": null, \"logM\": 7.62, \"E_logM\": 0.08, \"e_logM\": 0.1}, {\"Name\": \"NGC 3227\", \"z\": 0.00386, \"sigma*\": 135.0, \"e_sigma*\": 3.8, \"n_sigma*\": null, \"FWHM\": null, \"e_FWHM\": null, \"logL\": null, \"e_logL\": null, \"logM\": 7.47, \"E_logM\": 0.24, \"e_logM\": 1.06}, {\"Name\": \"NGC 3516\", \"z\": 0.00884, \"sigma*\": 181.0, \"e_sigma*\": 4.9, \"n_sigma*\": \"b\", \"FWHM\": null, \"e_FWHM\": null, \"logL\": null, \"e_logL\": null, \"logM\": 7.04, \"E_logM\": 0.31, \"e_logM\": 0.39}, {\"Name\": \"NGC 3783\", \"z\": 0.009729999999999999, \"sigma*\": 95.0, \"e_sigma*\": 10.0, \"n_sigma*\": null, \"FWHM\": null, \"e_FWHM\": null, \"logL\": null, \"e_logL\": null, \"logM\": 7.16, \"E_logM\": 0.17, \"e_logM\": 0.23}, {\"Name\": \"NGC 4051\", \"z\": 0.00234, \"sigma*\": 88.9, \"e_sigma*\": 2.9, \"n_sigma*\": null, \"FWHM\": null, \"e_FWHM\": null, \"logL\": null, \"e_logL\": null, \"logM\": 5.99, \"E_logM\": 0.17, \"e_logM\": 0.2}, {\"Name\": \"NGC 4151\", \"z\": 0.0033200000000000005, \"sigma*\": 96.8, \"e_sigma*\": 2.9, \"n_sigma*\": null, \"FWHM\": null, \"e_FWHM\": null, \"logL\": null, \"e_logL\": null, \"logM\": 6.91, \"E_logM\": 0.17, \"e_logM\": 0.29}, {\"Name\": \"NGC 5548\", \"z\": 0.0172, \"sigma*\": 198.0, \"e_sigma*\": 11.0, \"n_sigma*\": null, \"FWHM\": null, \"e_FWHM\": null, \"logL\": null, \"e_logL\": null, \"logM\": 7.81, \"E_logM\": 0.02, \"e_logM\": 0.02}, {\"Name\": \"NGC 7469\", \"z\": 0.0163, \"sigma*\": 133.0, \"e_sigma*\": 4.8, \"n_sigma*\": null, \"FWHM\": null, \"e_FWHM\": null, \"logL\": null, \"e_logL\": null, \"logM\": 6.49, \"E_logM\": 0.16, \"e_logM\": 0.27}, {\"Name\": \"POX 52\", \"z\": 0.0218, \"sigma*\": 36.0, \"e_sigma*\": 5.0, \"n_sigma*\": null, \"FWHM\": null, \"e_FWHM\": null, \"logL\": null, \"e_logL\": null, \"logM\": 5.2, \"E_logM\": null, \"e_logM\": 0.3}, {\"Name\": \"NGC 4395\", \"z\": 0.000947, \"sigma*\": 30.0, \"e_sigma*\": 5.0, \"n_sigma*\": null, \"FWHM\": null, \"e_FWHM\": null, \"logL\": null, \"e_logL\": null, \"logM\": 4.9, \"E_logM\": null, \"e_logM\": 0.4}]}}, {\"mode\": \"vega-lite\"});\n",
       "</script>"
      ],
      "text/plain": [
       "alt.Chart(...)"
      ]
     },
     "execution_count": 11,
     "metadata": {
      "tags": []
     },
     "output_type": "execute_result"
    }
   ],
   "source": [
    "alt.Chart(df).mark_point()"
   ]
  },
  {
   "cell_type": "markdown",
   "metadata": {
    "id": "8Dz7iO5JQkVm"
   },
   "source": [
    "In this chart we see all the data in the dataframe as a point because we have not defined any axis yet. Therefore, we introduce one of the axis to distribute the data along that direction. For example, define the x-axis as the redshift, $z$."
   ]
  },
  {
   "cell_type": "code",
   "execution_count": null,
   "metadata": {
    "colab": {
     "base_uri": "https://localhost:8080/",
     "height": 83
    },
    "executionInfo": {
     "elapsed": 973,
     "status": "ok",
     "timestamp": 1609124054256,
     "user": {
      "displayName": "Eduard Alexis Larranaga",
      "photoUrl": "https://lh3.googleusercontent.com/a-/AOh14GgCVABzEgj-rCdyxWa29RnA0kIYUCXAaVbnRYOEhQ=s64",
      "userId": "04402438389940282602"
     },
     "user_tz": 300
    },
    "id": "xxdgVnHDQkVn",
    "outputId": "5bcba8c4-a0ff-4c9a-cfa8-d776c2265b09"
   },
   "outputs": [
    {
     "data": {
      "text/html": [
       "\n",
       "<div id=\"altair-viz-8af6d3a6e7d44d80ac3996ecf5a4ecac\"></div>\n",
       "<script type=\"text/javascript\">\n",
       "  (function(spec, embedOpt){\n",
       "    let outputDiv = document.currentScript.previousElementSibling;\n",
       "    if (outputDiv.id !== \"altair-viz-8af6d3a6e7d44d80ac3996ecf5a4ecac\") {\n",
       "      outputDiv = document.getElementById(\"altair-viz-8af6d3a6e7d44d80ac3996ecf5a4ecac\");\n",
       "    }\n",
       "    const paths = {\n",
       "      \"vega\": \"https://cdn.jsdelivr.net/npm//vega@5?noext\",\n",
       "      \"vega-lib\": \"https://cdn.jsdelivr.net/npm//vega-lib?noext\",\n",
       "      \"vega-lite\": \"https://cdn.jsdelivr.net/npm//vega-lite@4.8.1?noext\",\n",
       "      \"vega-embed\": \"https://cdn.jsdelivr.net/npm//vega-embed@6?noext\",\n",
       "    };\n",
       "\n",
       "    function loadScript(lib) {\n",
       "      return new Promise(function(resolve, reject) {\n",
       "        var s = document.createElement('script');\n",
       "        s.src = paths[lib];\n",
       "        s.async = true;\n",
       "        s.onload = () => resolve(paths[lib]);\n",
       "        s.onerror = () => reject(`Error loading script: ${paths[lib]}`);\n",
       "        document.getElementsByTagName(\"head\")[0].appendChild(s);\n",
       "      });\n",
       "    }\n",
       "\n",
       "    function showError(err) {\n",
       "      outputDiv.innerHTML = `<div class=\"error\" style=\"color:red;\">${err}</div>`;\n",
       "      throw err;\n",
       "    }\n",
       "\n",
       "    function displayChart(vegaEmbed) {\n",
       "      vegaEmbed(outputDiv, spec, embedOpt)\n",
       "        .catch(err => showError(`Javascript Error: ${err.message}<br>This usually means there's a typo in your chart specification. See the javascript console for the full traceback.`));\n",
       "    }\n",
       "\n",
       "    if(typeof define === \"function\" && define.amd) {\n",
       "      requirejs.config({paths});\n",
       "      require([\"vega-embed\"], displayChart, err => showError(`Error loading script: ${err.message}`));\n",
       "    } else if (typeof vegaEmbed === \"function\") {\n",
       "      displayChart(vegaEmbed);\n",
       "    } else {\n",
       "      loadScript(\"vega\")\n",
       "        .then(() => loadScript(\"vega-lite\"))\n",
       "        .then(() => loadScript(\"vega-embed\"))\n",
       "        .catch(showError)\n",
       "        .then(() => displayChart(vegaEmbed));\n",
       "    }\n",
       "  })({\"config\": {\"view\": {\"continuousWidth\": 400, \"continuousHeight\": 300}}, \"data\": {\"name\": \"data-54b58a4aa74e295879badff738f3e9c4\"}, \"mark\": \"point\", \"encoding\": {\"x\": {\"type\": \"quantitative\", \"field\": \"z\"}}, \"$schema\": \"https://vega.github.io/schema/vega-lite/v4.8.1.json\", \"datasets\": {\"data-54b58a4aa74e295879badff738f3e9c4\": [{\"Name\": \"SDSS J000805.62+145023.4\", \"z\": 0.0454, \"sigma*\": 140.0, \"e_sigma*\": 27.0, \"n_sigma*\": null, \"FWHM\": 7610.0, \"e_FWHM\": 380.0, \"logL\": 41.13, \"e_logL\": 0.04, \"logM\": 7.7, \"E_logM\": null, \"e_logM\": 0.1}, {\"Name\": \"SDSS J004236.86-104921.8\", \"z\": 0.0419, \"sigma*\": 78.4, \"e_sigma*\": 10.0, \"n_sigma*\": null, \"FWHM\": 1960.0, \"e_FWHM\": 97.0, \"logL\": 41.58, \"e_logL\": 0.14, \"logM\": 6.7, \"E_logM\": null, \"e_logM\": 0.1}, {\"Name\": \"SDSS J011703.58+000027.3\", \"z\": 0.0456, \"sigma*\": 98.8, \"e_sigma*\": 16.0, \"n_sigma*\": null, \"FWHM\": 2270.0, \"e_FWHM\": 110.0, \"logL\": 41.45, \"e_logL\": 0.08, \"logM\": 6.8, \"E_logM\": null, \"e_logM\": 0.1}, {\"Name\": \"SDSS J020459.25-080816.0\", \"z\": 0.0772, \"sigma*\": 121.0, \"e_sigma*\": 9.4, \"n_sigma*\": \"a\", \"FWHM\": 3720.0, \"e_FWHM\": 180.0, \"logL\": 41.13, \"e_logL\": 0.05, \"logM\": 7.0, \"E_logM\": null, \"e_logM\": 0.1}, {\"Name\": \"SDSS J020615.99-001729.1\", \"z\": 0.0426, \"sigma*\": 216.0, \"e_sigma*\": 30.0, \"n_sigma*\": null, \"FWHM\": 3860.0, \"e_FWHM\": 190.0, \"logL\": 41.91, \"e_logL\": 0.07, \"logM\": 7.5, \"E_logM\": null, \"e_logM\": 0.1}, {\"Name\": \"SDSS J021011.49-090335.5\", \"z\": 0.0414, \"sigma*\": 122.0, \"e_sigma*\": 12.0, \"n_sigma*\": \"a\", \"FWHM\": 2450.0, \"e_FWHM\": 120.0, \"logL\": 41.24, \"e_logL\": 0.07, \"logM\": 6.7, \"E_logM\": null, \"e_logM\": 0.1}, {\"Name\": \"SDSS J021257.59+140610.1\", \"z\": 0.0618, \"sigma*\": 174.0, \"e_sigma*\": 12.0, \"n_sigma*\": \"a\", \"FWHM\": 3080.0, \"e_FWHM\": 150.0, \"logL\": 41.58, \"e_logL\": 0.06, \"logM\": 7.1, \"E_logM\": null, \"e_logM\": 0.1}, {\"Name\": \"SDSS J033013.26-053236.0\", \"z\": 0.0131, \"sigma*\": 99.2, \"e_sigma*\": 11.0, \"n_sigma*\": null, \"FWHM\": 5160.0, \"e_FWHM\": 250.0, \"logL\": 40.45, \"e_logL\": 0.06, \"logM\": 7.0, \"E_logM\": null, \"e_logM\": 0.1}, {\"Name\": \"SDSS J075057.25+353037.5\", \"z\": 0.17600000000000002, \"sigma*\": 154.0, \"e_sigma*\": 14.0, \"n_sigma*\": \"a\", \"FWHM\": 2970.0, \"e_FWHM\": 200.0, \"logL\": 41.63, \"e_logL\": 0.03, \"logM\": 7.2, \"E_logM\": null, \"e_logM\": 0.1}, {\"Name\": \"SDSS J080243.39+310403.3\", \"z\": 0.0409, \"sigma*\": 151.0, \"e_sigma*\": 17.0, \"n_sigma*\": null, \"FWHM\": 5360.0, \"e_FWHM\": 260.0, \"logL\": 41.67, \"e_logL\": 0.07, \"logM\": 7.6, \"E_logM\": null, \"e_logM\": 0.1}, {\"Name\": \"SDSS J080538.66+261005.4\", \"z\": 0.017, \"sigma*\": 100.0, \"e_sigma*\": 14.0, \"n_sigma*\": null, \"FWHM\": 3110.0, \"e_FWHM\": 150.0, \"logL\": 40.14, \"e_logL\": 0.04, \"logM\": 6.3, \"E_logM\": null, \"e_logM\": 0.2}, {\"Name\": \"SDSS J082510.23+375919.7\", \"z\": 0.0214, \"sigma*\": 98.7, \"e_sigma*\": 12.0, \"n_sigma*\": null, \"FWHM\": 1830.0, \"e_FWHM\": 91.0, \"logL\": 40.42, \"e_logL\": 0.04, \"logM\": 6.0, \"E_logM\": null, \"e_logM\": 0.1}, {\"Name\": \"SDSS J083202.16+461425.7\", \"z\": 0.0459, \"sigma*\": 104.0, \"e_sigma*\": 13.0, \"n_sigma*\": null, \"FWHM\": 1450.0, \"e_FWHM\": 72.0, \"logL\": 41.17, \"e_logL\": 0.08, \"logM\": 6.2, \"E_logM\": null, \"e_logM\": 0.1}, {\"Name\": \"SDSS J083949.64+484701.4\", \"z\": 0.0394, \"sigma*\": 133.0, \"e_sigma*\": 12.0, \"n_sigma*\": null, \"FWHM\": 1480.0, \"e_FWHM\": 73.0, \"logL\": 41.31, \"e_logL\": 0.08, \"logM\": 6.3, \"E_logM\": null, \"e_logM\": 0.2}, {\"Name\": \"SDSS J085554.27+005110.9\", \"z\": 0.0524, \"sigma*\": 118.0, \"e_sigma*\": 11.0, \"n_sigma*\": \"a\", \"FWHM\": 2910.0, \"e_FWHM\": 140.0, \"logL\": 41.27, \"e_logL\": 0.06, \"logM\": 6.9, \"E_logM\": null, \"e_logM\": 0.1}, {\"Name\": \"SDSS J092438.88+560746.9\", \"z\": 0.025, \"sigma*\": 135.0, \"e_sigma*\": 10.0, \"n_sigma*\": null, \"FWHM\": 1900.0, \"e_FWHM\": 94.0, \"logL\": 40.72, \"e_logL\": 0.07, \"logM\": 6.2, \"E_logM\": null, \"e_logM\": 0.4}, {\"Name\": \"SDSS J093259.60+040506.0\", \"z\": 0.059000000000000004, \"sigma*\": 70.5, \"e_sigma*\": 6.7, \"n_sigma*\": \"a\", \"FWHM\": 3550.0, \"e_FWHM\": 170.0, \"logL\": 41.14, \"e_logL\": 0.05, \"logM\": 7.0, \"E_logM\": null, \"e_logM\": 0.1}, {\"Name\": \"SDSS J093812.26+074340.0\", \"z\": 0.0219, \"sigma*\": 119.0, \"e_sigma*\": 8.0, \"n_sigma*\": null, \"FWHM\": 3640.0, \"e_FWHM\": 180.0, \"logL\": 40.8, \"e_logL\": 0.05, \"logM\": 6.8, \"E_logM\": null, \"e_logM\": 0.1}, {\"Name\": \"SDSS J094838.42+403043.7\", \"z\": 0.047, \"sigma*\": 91.4, \"e_sigma*\": 16.0, \"n_sigma*\": null, \"FWHM\": 3020.0, \"e_FWHM\": 150.0, \"logL\": 41.46, \"e_logL\": 0.07, \"logM\": 7.0, \"E_logM\": null, \"e_logM\": 0.1}, {\"Name\": \"SDSS J101912.57+635802.7\", \"z\": 0.0414, \"sigma*\": 239.0, \"e_sigma*\": 13.0, \"n_sigma*\": null, \"FWHM\": 3630.0, \"e_FWHM\": 180.0, \"logL\": 41.74, \"e_logL\": 0.08, \"logM\": 7.4, \"E_logM\": null, \"e_logM\": 0.1}, {\"Name\": \"SDSS J102044.43+013048.4\", \"z\": 0.0962, \"sigma*\": 103.0, \"e_sigma*\": 8.8, \"n_sigma*\": \"a\", \"FWHM\": 5200.0, \"e_FWHM\": 250.0, \"logL\": 41.51, \"e_logL\": 0.04, \"logM\": 7.6, \"E_logM\": null, \"e_logM\": 0.1}, {\"Name\": \"SDSS J110640.20+051905.6\", \"z\": 0.0913, \"sigma*\": 140.0, \"e_sigma*\": 15.0, \"n_sigma*\": \"a\", \"FWHM\": 5830.0, \"e_FWHM\": 290.0, \"logL\": 41.65, \"e_logL\": 0.04, \"logM\": 7.7, \"E_logM\": null, \"e_logM\": 0.1}, {\"Name\": \"SDSS J112536.16+542257.1\", \"z\": 0.0206, \"sigma*\": 124.0, \"e_sigma*\": 12.0, \"n_sigma*\": null, \"FWHM\": 2950.0, \"e_FWHM\": 140.0, \"logL\": 41.17, \"e_logL\": 0.08, \"logM\": 6.8, \"E_logM\": null, \"e_logM\": 0.1}, {\"Name\": \"SDSS J112841.00+575006.5\", \"z\": 0.0513, \"sigma*\": 159.0, \"e_sigma*\": 18.0, \"n_sigma*\": \"a\", \"FWHM\": 2660.0, \"e_FWHM\": 130.0, \"logL\": 41.66, \"e_logL\": 0.09, \"logM\": 7.0, \"E_logM\": null, \"e_logM\": 0.1}, {\"Name\": \"SDSS J120257.81+045045.0\", \"z\": 0.0207, \"sigma*\": 102.0, \"e_sigma*\": 20.0, \"n_sigma*\": null, \"FWHM\": 2250.0, \"e_FWHM\": 110.0, \"logL\": 40.1, \"e_logL\": 0.06, \"logM\": 6.0, \"E_logM\": null, \"e_logM\": 0.1}, {\"Name\": \"SDSS J120556.01+495956.1\", \"z\": 0.0631, \"sigma*\": 107.0, \"e_sigma*\": 11.0, \"n_sigma*\": \"a\", \"FWHM\": 5610.0, \"e_FWHM\": 450.0, \"logL\": 41.57, \"e_logL\": 0.04, \"logM\": 7.7, \"E_logM\": null, \"e_logM\": 0.1}, {\"Name\": \"SDSS J121607.09+504930.0\", \"z\": 0.0308, \"sigma*\": 138.0, \"e_sigma*\": 13.0, \"n_sigma*\": null, \"FWHM\": 5580.0, \"e_FWHM\": 270.0, \"logL\": 41.3, \"e_logL\": 0.06, \"logM\": 7.5, \"E_logM\": null, \"e_logM\": 0.3}, {\"Name\": \"SDSS J121754.97+583935.6\", \"z\": 0.0233, \"sigma*\": 85.6, \"e_sigma*\": 14.0, \"n_sigma*\": null, \"FWHM\": 1970.0, \"e_FWHM\": 98.0, \"logL\": 40.92, \"e_logL\": 0.08, \"logM\": 6.4, \"E_logM\": null, \"e_logM\": 0.1}, {\"Name\": \"SDSS J122324.13+024044.4\", \"z\": 0.0236, \"sigma*\": 78.1, \"e_sigma*\": 15.0, \"n_sigma*\": null, \"FWHM\": 3880.0, \"e_FWHM\": 910.0, \"logL\": 41.62, \"e_logL\": 0.08, \"logM\": 7.3, \"E_logM\": null, \"e_logM\": 0.2}, {\"Name\": \"SDSS J123237.48+662452.3\", \"z\": 0.0468, \"sigma*\": 124.0, \"e_sigma*\": 9.0, \"n_sigma*\": null, \"FWHM\": 2620.0, \"e_FWHM\": 130.0, \"logL\": 41.86, \"e_logL\": 0.19, \"logM\": 7.1, \"E_logM\": null, \"e_logM\": 0.2}, {\"Name\": \"SDSS J130620.97+531823.1\", \"z\": 0.0237, \"sigma*\": 90.7, \"e_sigma*\": 11.0, \"n_sigma*\": null, \"FWHM\": 7620.0, \"e_FWHM\": 380.0, \"logL\": 40.58, \"e_logL\": 0.04, \"logM\": 7.3, \"E_logM\": null, \"e_logM\": 0.1}, {\"Name\": \"SDSS J131305.80+012755.9\", \"z\": 0.0294, \"sigma*\": 95.4, \"e_sigma*\": 13.0, \"n_sigma*\": null, \"FWHM\": 1590.0, \"e_FWHM\": 79.0, \"logL\": 40.62, \"e_logL\": 0.07, \"logM\": 6.0, \"E_logM\": null, \"e_logM\": 0.1}, {\"Name\": \"SDSS J132249.21+545528.2\", \"z\": 0.0653, \"sigma*\": 130.0, \"e_sigma*\": 13.0, \"n_sigma*\": \"a\", \"FWHM\": 4050.0, \"e_FWHM\": 200.0, \"logL\": 41.81, \"e_logL\": 0.07, \"logM\": 7.5, \"E_logM\": null, \"e_logM\": 0.1}, {\"Name\": \"SDSS J132340.31-012749.2\", \"z\": 0.0767, \"sigma*\": 114.0, \"e_sigma*\": 16.0, \"n_sigma*\": \"a\", \"FWHM\": 1910.0, \"e_FWHM\": 95.0, \"logL\": 41.55, \"e_logL\": 0.09, \"logM\": 6.7, \"E_logM\": null, \"e_logM\": 0.1}, {\"Name\": \"SDSS J134952.84+020445.1\", \"z\": 0.0328, \"sigma*\": 138.0, \"e_sigma*\": 13.0, \"n_sigma*\": null, \"FWHM\": 2590.0, \"e_FWHM\": 120.0, \"logL\": 41.62, \"e_logL\": 0.07, \"logM\": 7.0, \"E_logM\": null, \"e_logM\": 0.1}, {\"Name\": \"SDSS J140018.42+050242.2\", \"z\": 0.0342, \"sigma*\": 145.0, \"e_sigma*\": 14.0, \"n_sigma*\": null, \"FWHM\": 3340.0, \"e_FWHM\": 160.0, \"logL\": 41.23, \"e_logL\": 0.05, \"logM\": 7.1, \"E_logM\": null, \"e_logM\": 0.5}, {\"Name\": \"SDSS J140514.87-025901.2\", \"z\": 0.0542, \"sigma*\": 148.0, \"e_sigma*\": 15.0, \"n_sigma*\": \"a\", \"FWHM\": 2990.0, \"e_FWHM\": 140.0, \"logL\": 41.29, \"e_logL\": 0.06, \"logM\": 6.9, \"E_logM\": null, \"e_logM\": 0.3}, {\"Name\": \"SDSS J141630.81+013708.0\", \"z\": 0.0538, \"sigma*\": 121.0, \"e_sigma*\": 12.0, \"n_sigma*\": \"a\", \"FWHM\": 3180.0, \"e_FWHM\": 150.0, \"logL\": 41.1, \"e_logL\": 0.04, \"logM\": 6.9, \"E_logM\": null, \"e_logM\": 0.1}, {\"Name\": \"SDSS J143452.45+483942.7\", \"z\": 0.0365, \"sigma*\": 138.0, \"e_sigma*\": 15.0, \"n_sigma*\": null, \"FWHM\": 3210.0, \"e_FWHM\": 160.0, \"logL\": 41.84, \"e_logL\": 0.1, \"logM\": 7.3, \"E_logM\": null, \"e_logM\": 0.1}, {\"Name\": \"SDSS J144629.97+500130.5\", \"z\": 0.0427, \"sigma*\": 86.8, \"e_sigma*\": 19.0, \"n_sigma*\": null, \"FWHM\": 6450.0, \"e_FWHM\": 320.0, \"logL\": 40.73, \"e_logL\": 0.03, \"logM\": 7.3, \"E_logM\": null, \"e_logM\": 0.2}, {\"Name\": \"SDSS J145706.80+494008.4\", \"z\": 0.0134, \"sigma*\": 108.0, \"e_sigma*\": 11.0, \"n_sigma*\": null, \"FWHM\": 2270.0, \"e_FWHM\": 110.0, \"logL\": 40.46, \"e_logL\": 0.1, \"logM\": 6.3, \"E_logM\": null, \"e_logM\": 0.1}, {\"Name\": \"SDSS J145901.35+611353.5\", \"z\": 0.0388, \"sigma*\": 113.0, \"e_sigma*\": 13.0, \"n_sigma*\": null, \"FWHM\": 4140.0, \"e_FWHM\": 200.0, \"logL\": 41.18, \"e_logL\": 0.06, \"logM\": 7.2, \"E_logM\": null, \"e_logM\": 0.1}, {\"Name\": \"SDSS J150556.55+034226.3\", \"z\": 0.0359, \"sigma*\": 199.0, \"e_sigma*\": 18.0, \"n_sigma*\": \"a\", \"FWHM\": 4370.0, \"e_FWHM\": 210.0, \"logL\": 42.09, \"e_logL\": 0.1, \"logM\": 7.7, \"E_logM\": null, \"e_logM\": 0.1}, {\"Name\": \"SDSS J150745.00+512710.2\", \"z\": 0.0458, \"sigma*\": 139.0, \"e_sigma*\": 17.0, \"n_sigma*\": null, \"FWHM\": 3430.0, \"e_FWHM\": 170.0, \"logL\": 41.4, \"e_logL\": 0.04, \"logM\": 7.1, \"E_logM\": null, \"e_logM\": 0.1}, {\"Name\": \"SDSS J150853.95-001148.9\", \"z\": 0.0542, \"sigma*\": 163.0, \"e_sigma*\": 15.0, \"n_sigma*\": \"a\", \"FWHM\": 6190.0, \"e_FWHM\": 610.0, \"logL\": 41.51, \"e_logL\": 0.04, \"logM\": 7.8, \"E_logM\": null, \"e_logM\": 0.1}, {\"Name\": \"SDSS J152515.18+601409.0\", \"z\": 0.0783, \"sigma*\": 104.0, \"e_sigma*\": 11.0, \"n_sigma*\": \"a\", \"FWHM\": 2590.0, \"e_FWHM\": 120.0, \"logL\": 41.41, \"e_logL\": 0.09, \"logM\": 6.9, \"E_logM\": null, \"e_logM\": 0.1}, {\"Name\": \"SDSS J155417.43+323837.8\", \"z\": 0.0483, \"sigma*\": 120.0, \"e_sigma*\": 13.0, \"n_sigma*\": \"a\", \"FWHM\": 4200.0, \"e_FWHM\": 210.0, \"logL\": 41.86, \"e_logL\": 0.08, \"logM\": 7.5, \"E_logM\": null, \"e_logM\": 0.1}, {\"Name\": \"SDSS J161156.31+521116.8\", \"z\": 0.040999999999999995, \"sigma*\": 116.0, \"e_sigma*\": 10.0, \"n_sigma*\": null, \"FWHM\": 3760.0, \"e_FWHM\": 180.0, \"logL\": 41.09, \"e_logL\": 0.04, \"logM\": 7.0, \"E_logM\": null, \"e_logM\": 0.3}, {\"Name\": \"SDSS J161951.31+405847.2\", \"z\": 0.0379, \"sigma*\": 89.1, \"e_sigma*\": 20.0, \"n_sigma*\": null, \"FWHM\": 1700.0, \"e_FWHM\": 85.0, \"logL\": 40.99, \"e_logL\": 0.07, \"logM\": 6.3, \"E_logM\": null, \"e_logM\": 0.1}, {\"Name\": \"SDSS J170328.96+614109.9\", \"z\": 0.0772, \"sigma*\": 123.0, \"e_sigma*\": 13.0, \"n_sigma*\": \"a\", \"FWHM\": 4300.0, \"e_FWHM\": 210.0, \"logL\": 41.92, \"e_logL\": 0.05, \"logM\": 7.6, \"E_logM\": null, \"e_logM\": 0.1}, {\"Name\": \"SDSS J171550.49+593548.7\", \"z\": 0.0657, \"sigma*\": 146.0, \"e_sigma*\": 13.0, \"n_sigma*\": \"a\", \"FWHM\": 3500.0, \"e_FWHM\": 170.0, \"logL\": 41.24, \"e_logL\": 0.05, \"logM\": 7.0, \"E_logM\": null, \"e_logM\": 0.1}, {\"Name\": \"SDSS J212401.90-002158.7\", \"z\": 0.0619, \"sigma*\": 110.0, \"e_sigma*\": 15.0, \"n_sigma*\": \"a\", \"FWHM\": 2620.0, \"e_FWHM\": 130.0, \"logL\": 41.41, \"e_logL\": 0.06, \"logM\": 6.9, \"E_logM\": null, \"e_logM\": 0.1}, {\"Name\": \"SDSS J222435.29-001103.8\", \"z\": 0.0581, \"sigma*\": 111.0, \"e_sigma*\": 19.0, \"n_sigma*\": \"a\", \"FWHM\": 2290.0, \"e_FWHM\": 1190.0, \"logL\": 41.83, \"e_logL\": 0.17, \"logM\": 7.0, \"E_logM\": null, \"e_logM\": 0.4}, {\"Name\": \"SDSS J223000.37-094622.1\", \"z\": 0.0727, \"sigma*\": 112.0, \"e_sigma*\": 13.0, \"n_sigma*\": \"a\", \"FWHM\": 3630.0, \"e_FWHM\": 180.0, \"logL\": 41.21, \"e_logL\": 0.04, \"logM\": 7.1, \"E_logM\": null, \"e_logM\": 0.1}, {\"Name\": \"SDSS J232721.96+152437.3\", \"z\": 0.0457, \"sigma*\": 193.0, \"e_sigma*\": 18.0, \"n_sigma*\": null, \"FWHM\": 7540.0, \"e_FWHM\": 750.0, \"logL\": 41.65, \"e_logL\": 0.06, \"logM\": 7.9, \"E_logM\": null, \"e_logM\": 0.1}, {\"Name\": \"SDSS J235128.78+155259.0\", \"z\": 0.0963, \"sigma*\": 193.0, \"e_sigma*\": 22.0, \"n_sigma*\": \"a\", \"FWHM\": 8240.0, \"e_FWHM\": 410.0, \"logL\": 41.87, \"e_logL\": 0.04, \"logM\": 8.2, \"E_logM\": null, \"e_logM\": 0.2}, {\"Name\": \"SDSS J010712.03+140844.9\", \"z\": 0.0768, \"sigma*\": 36.0, \"e_sigma*\": 6.0, \"n_sigma*\": \"b\", \"FWHM\": 880.0, \"e_FWHM\": 170.0, \"logL\": 42.57, \"e_logL\": 0.2, \"logM\": 5.8, \"E_logM\": null, \"e_logM\": 0.2}, {\"Name\": \"SDSS J024912.86-081525.6\", \"z\": 0.0294, \"sigma*\": 50.0, \"e_sigma*\": 4.0, \"n_sigma*\": \"b\", \"FWHM\": 840.0, \"e_FWHM\": 320.0, \"logL\": 41.93, \"e_logL\": 0.08, \"logM\": 5.1, \"E_logM\": null, \"e_logM\": 0.3}, {\"Name\": \"SDSS J032515.59+003408.4\", \"z\": 0.102, \"sigma*\": 55.0, \"e_sigma*\": 6.0, \"n_sigma*\": \"b\", \"FWHM\": 990.0, \"e_FWHM\": 49.0, \"logL\": 42.03, \"e_logL\": 0.12, \"logM\": 5.8, \"E_logM\": null, \"e_logM\": 0.1}, {\"Name\": \"SDSS J080907.58+441641.4\", \"z\": 0.0539, \"sigma*\": 65.0, \"e_sigma*\": 4.0, \"n_sigma*\": \"b\", \"FWHM\": 940.0, \"e_FWHM\": 180.0, \"logL\": 40.47, \"e_logL\": 0.04, \"logM\": 5.5, \"E_logM\": null, \"e_logM\": 0.8}, {\"Name\": \"SDSS J082912.67+500652.3\", \"z\": 0.0434, \"sigma*\": 60.0, \"e_sigma*\": 4.0, \"n_sigma*\": \"b\", \"FWHM\": 840.0, \"e_FWHM\": 41.0, \"logL\": 42.14, \"e_logL\": 0.06, \"logM\": 5.7, \"E_logM\": null, \"e_logM\": 0.1}, {\"Name\": \"SDSS J101108.40+002908.7\", \"z\": 0.1, \"sigma*\": 48.0, \"e_sigma*\": 7.0, \"n_sigma*\": \"b\", \"FWHM\": 1460.0, \"e_FWHM\": 72.0, \"logL\": 42.68, \"e_logL\": 0.19, \"logM\": 6.2, \"E_logM\": null, \"e_logM\": 0.3}, {\"Name\": \"SDSS J101627.32-000714.5\", \"z\": 0.0944, \"sigma*\": 39.0, \"e_sigma*\": 6.0, \"n_sigma*\": \"b\", \"FWHM\": 1520.0, \"e_FWHM\": 75.0, \"logL\": 42.57, \"e_logL\": 0.17, \"logM\": 6.1, \"E_logM\": null, \"e_logM\": 0.2}, {\"Name\": \"SDSS J124035.81-002919.4\", \"z\": 0.0809, \"sigma*\": 49.0, \"e_sigma*\": 7.0, \"n_sigma*\": \"b\", \"FWHM\": 1720.0, \"e_FWHM\": 85.0, \"logL\": 42.35, \"e_logL\": 0.11, \"logM\": 6.6, \"E_logM\": null, \"e_logM\": 0.6}, {\"Name\": \"SDSS J125055.28-015556.6\", \"z\": 0.0814, \"sigma*\": 64.0, \"e_sigma*\": 6.0, \"n_sigma*\": \"b\", \"FWHM\": 1980.0, \"e_FWHM\": 99.0, \"logL\": 42.75, \"e_logL\": 0.14, \"logM\": 6.5, \"E_logM\": null, \"e_logM\": 0.1}, {\"Name\": \"SDSS J143450.62+033842.5\", \"z\": 0.0282, \"sigma*\": 48.0, \"e_sigma*\": 7.0, \"n_sigma*\": \"b\", \"FWHM\": 1480.0, \"e_FWHM\": 73.0, \"logL\": 41.87, \"e_logL\": 0.16, \"logM\": 5.6, \"E_logM\": null, \"e_logM\": 0.1}, {\"Name\": \"SDSS J170246.09+602818.9\", \"z\": 0.0689, \"sigma*\": 69.0, \"e_sigma*\": 6.0, \"n_sigma*\": \"b\", \"FWHM\": 3270.0, \"e_FWHM\": 160.0, \"logL\": 42.67, \"e_logL\": 0.16, \"logM\": 6.9, \"E_logM\": null, \"e_logM\": 0.2}, {\"Name\": \"SDSS J172759.15+542147.0\", \"z\": 0.0995, \"sigma*\": 58.0, \"e_sigma*\": 7.0, \"n_sigma*\": \"b\", \"FWHM\": 810.0, \"e_FWHM\": 400.0, \"logL\": 42.19, \"e_logL\": 0.09, \"logM\": 5.6, \"E_logM\": null, \"e_logM\": 0.5}, {\"Name\": \"SDSS J215658.30+110343.1\", \"z\": 0.10800000000000001, \"sigma*\": 81.0, \"e_sigma*\": 8.0, \"n_sigma*\": \"b\", \"FWHM\": 1430.0, \"e_FWHM\": 280.0, \"logL\": 41.22, \"e_logL\": 0.03, \"logM\": 6.3, \"E_logM\": null, \"e_logM\": 0.8}, {\"Name\": \"SDSS J232159.06+000738.8\", \"z\": 0.184, \"sigma*\": 81.0, \"e_sigma*\": 9.0, \"n_sigma*\": \"b\", \"FWHM\": 2520.0, \"e_FWHM\": 120.0, \"logL\": 42.96, \"e_logL\": 0.1, \"logM\": 6.7, \"E_logM\": null, \"e_logM\": 0.2}, {\"Name\": \"SDSS J233837.10-002810.3\", \"z\": 0.0356, \"sigma*\": 58.0, \"e_sigma*\": 4.0, \"n_sigma*\": \"b\", \"FWHM\": 1740.0, \"e_FWHM\": 86.0, \"logL\": 43.61, \"e_logL\": 0.13, \"logM\": 5.8, \"E_logM\": null, \"e_logM\": 0.1}, {\"Name\": \"3C 120\", \"z\": 0.033, \"sigma*\": 162.0, \"e_sigma*\": 24.0, \"n_sigma*\": \"b\", \"FWHM\": null, \"e_FWHM\": null, \"logL\": null, \"e_logL\": null, \"logM\": 7.43, \"E_logM\": 0.2, \"e_logM\": 0.25}, {\"Name\": \"3C 390.3\", \"z\": 0.0561, \"sigma*\": 268.0, \"e_sigma*\": 15.0, \"n_sigma*\": null, \"FWHM\": null, \"e_FWHM\": null, \"logL\": null, \"e_logL\": null, \"logM\": 8.52, \"E_logM\": 0.09, \"e_logM\": 0.12}, {\"Name\": \"Akn 120\", \"z\": 0.0323, \"sigma*\": 224.0, \"e_sigma*\": 15.0, \"n_sigma*\": null, \"FWHM\": null, \"e_FWHM\": null, \"logL\": null, \"e_logL\": null, \"logM\": 8.2, \"E_logM\": 0.05, \"e_logM\": 0.07}, {\"Name\": \"Mrk 79\", \"z\": 0.0222, \"sigma*\": 130.0, \"e_sigma*\": 10.0, \"n_sigma*\": null, \"FWHM\": null, \"e_FWHM\": null, \"logL\": null, \"e_logL\": null, \"logM\": 7.67, \"E_logM\": 0.11, \"e_logM\": 0.15}, {\"Name\": \"Mrk 110\", \"z\": 0.0353, \"sigma*\": 87.1, \"e_sigma*\": 12.0, \"n_sigma*\": null, \"FWHM\": null, \"e_FWHM\": null, \"logL\": null, \"e_logL\": null, \"logM\": 6.97, \"E_logM\": 0.11, \"e_logM\": 0.15}, {\"Name\": \"Mrk 279\", \"z\": 0.0305, \"sigma*\": 197.0, \"e_sigma*\": 12.0, \"n_sigma*\": null, \"FWHM\": null, \"e_FWHM\": null, \"logL\": null, \"e_logL\": null, \"logM\": 7.45, \"E_logM\": 0.12, \"e_logM\": 0.16}, {\"Name\": \"Mrk 590\", \"z\": 0.0264, \"sigma*\": 189.0, \"e_sigma*\": 5.7, \"n_sigma*\": null, \"FWHM\": null, \"e_FWHM\": null, \"logL\": null, \"e_logL\": null, \"logM\": 7.2, \"E_logM\": 0.11, \"e_logM\": 0.15}, {\"Name\": \"Mrk 817\", \"z\": 0.0315, \"sigma*\": 127.0, \"e_sigma*\": 12.0, \"n_sigma*\": null, \"FWHM\": null, \"e_FWHM\": null, \"logL\": null, \"e_logL\": null, \"logM\": 7.62, \"E_logM\": 0.08, \"e_logM\": 0.1}, {\"Name\": \"NGC 3227\", \"z\": 0.00386, \"sigma*\": 135.0, \"e_sigma*\": 3.8, \"n_sigma*\": null, \"FWHM\": null, \"e_FWHM\": null, \"logL\": null, \"e_logL\": null, \"logM\": 7.47, \"E_logM\": 0.24, \"e_logM\": 1.06}, {\"Name\": \"NGC 3516\", \"z\": 0.00884, \"sigma*\": 181.0, \"e_sigma*\": 4.9, \"n_sigma*\": \"b\", \"FWHM\": null, \"e_FWHM\": null, \"logL\": null, \"e_logL\": null, \"logM\": 7.04, \"E_logM\": 0.31, \"e_logM\": 0.39}, {\"Name\": \"NGC 3783\", \"z\": 0.009729999999999999, \"sigma*\": 95.0, \"e_sigma*\": 10.0, \"n_sigma*\": null, \"FWHM\": null, \"e_FWHM\": null, \"logL\": null, \"e_logL\": null, \"logM\": 7.16, \"E_logM\": 0.17, \"e_logM\": 0.23}, {\"Name\": \"NGC 4051\", \"z\": 0.00234, \"sigma*\": 88.9, \"e_sigma*\": 2.9, \"n_sigma*\": null, \"FWHM\": null, \"e_FWHM\": null, \"logL\": null, \"e_logL\": null, \"logM\": 5.99, \"E_logM\": 0.17, \"e_logM\": 0.2}, {\"Name\": \"NGC 4151\", \"z\": 0.0033200000000000005, \"sigma*\": 96.8, \"e_sigma*\": 2.9, \"n_sigma*\": null, \"FWHM\": null, \"e_FWHM\": null, \"logL\": null, \"e_logL\": null, \"logM\": 6.91, \"E_logM\": 0.17, \"e_logM\": 0.29}, {\"Name\": \"NGC 5548\", \"z\": 0.0172, \"sigma*\": 198.0, \"e_sigma*\": 11.0, \"n_sigma*\": null, \"FWHM\": null, \"e_FWHM\": null, \"logL\": null, \"e_logL\": null, \"logM\": 7.81, \"E_logM\": 0.02, \"e_logM\": 0.02}, {\"Name\": \"NGC 7469\", \"z\": 0.0163, \"sigma*\": 133.0, \"e_sigma*\": 4.8, \"n_sigma*\": null, \"FWHM\": null, \"e_FWHM\": null, \"logL\": null, \"e_logL\": null, \"logM\": 6.49, \"E_logM\": 0.16, \"e_logM\": 0.27}, {\"Name\": \"POX 52\", \"z\": 0.0218, \"sigma*\": 36.0, \"e_sigma*\": 5.0, \"n_sigma*\": null, \"FWHM\": null, \"e_FWHM\": null, \"logL\": null, \"e_logL\": null, \"logM\": 5.2, \"E_logM\": null, \"e_logM\": 0.3}, {\"Name\": \"NGC 4395\", \"z\": 0.000947, \"sigma*\": 30.0, \"e_sigma*\": 5.0, \"n_sigma*\": null, \"FWHM\": null, \"e_FWHM\": null, \"logL\": null, \"e_logL\": null, \"logM\": 4.9, \"E_logM\": null, \"e_logM\": 0.4}]}}, {\"mode\": \"vega-lite\"});\n",
       "</script>"
      ],
      "text/plain": [
       "alt.Chart(...)"
      ]
     },
     "execution_count": 12,
     "metadata": {
      "tags": []
     },
     "output_type": "execute_result"
    }
   ],
   "source": [
    "# put some data along the x axis\n",
    "alt.Chart(df).mark_point().encode(\n",
    "    x = 'z'\n",
    ")"
   ]
  },
  {
   "cell_type": "markdown",
   "metadata": {
    "id": "y3aHz7OLQkVn"
   },
   "source": [
    "Instead of points to visualice the data, we can use ticks. \n",
    "\n",
    "See https://altair-viz.github.io/user_guide/marks.html"
   ]
  },
  {
   "cell_type": "code",
   "execution_count": null,
   "metadata": {
    "colab": {
     "base_uri": "https://localhost:8080/",
     "height": 83
    },
    "executionInfo": {
     "elapsed": 1084,
     "status": "ok",
     "timestamp": 1609124059179,
     "user": {
      "displayName": "Eduard Alexis Larranaga",
      "photoUrl": "https://lh3.googleusercontent.com/a-/AOh14GgCVABzEgj-rCdyxWa29RnA0kIYUCXAaVbnRYOEhQ=s64",
      "userId": "04402438389940282602"
     },
     "user_tz": 300
    },
    "id": "lwUptXxPQkVn",
    "outputId": "bbfd5e25-2ee0-4579-dc19-d4745df4c145"
   },
   "outputs": [
    {
     "data": {
      "text/html": [
       "\n",
       "<div id=\"altair-viz-67889c2328404c56aac181bb5682d65c\"></div>\n",
       "<script type=\"text/javascript\">\n",
       "  (function(spec, embedOpt){\n",
       "    let outputDiv = document.currentScript.previousElementSibling;\n",
       "    if (outputDiv.id !== \"altair-viz-67889c2328404c56aac181bb5682d65c\") {\n",
       "      outputDiv = document.getElementById(\"altair-viz-67889c2328404c56aac181bb5682d65c\");\n",
       "    }\n",
       "    const paths = {\n",
       "      \"vega\": \"https://cdn.jsdelivr.net/npm//vega@5?noext\",\n",
       "      \"vega-lib\": \"https://cdn.jsdelivr.net/npm//vega-lib?noext\",\n",
       "      \"vega-lite\": \"https://cdn.jsdelivr.net/npm//vega-lite@4.8.1?noext\",\n",
       "      \"vega-embed\": \"https://cdn.jsdelivr.net/npm//vega-embed@6?noext\",\n",
       "    };\n",
       "\n",
       "    function loadScript(lib) {\n",
       "      return new Promise(function(resolve, reject) {\n",
       "        var s = document.createElement('script');\n",
       "        s.src = paths[lib];\n",
       "        s.async = true;\n",
       "        s.onload = () => resolve(paths[lib]);\n",
       "        s.onerror = () => reject(`Error loading script: ${paths[lib]}`);\n",
       "        document.getElementsByTagName(\"head\")[0].appendChild(s);\n",
       "      });\n",
       "    }\n",
       "\n",
       "    function showError(err) {\n",
       "      outputDiv.innerHTML = `<div class=\"error\" style=\"color:red;\">${err}</div>`;\n",
       "      throw err;\n",
       "    }\n",
       "\n",
       "    function displayChart(vegaEmbed) {\n",
       "      vegaEmbed(outputDiv, spec, embedOpt)\n",
       "        .catch(err => showError(`Javascript Error: ${err.message}<br>This usually means there's a typo in your chart specification. See the javascript console for the full traceback.`));\n",
       "    }\n",
       "\n",
       "    if(typeof define === \"function\" && define.amd) {\n",
       "      requirejs.config({paths});\n",
       "      require([\"vega-embed\"], displayChart, err => showError(`Error loading script: ${err.message}`));\n",
       "    } else if (typeof vegaEmbed === \"function\") {\n",
       "      displayChart(vegaEmbed);\n",
       "    } else {\n",
       "      loadScript(\"vega\")\n",
       "        .then(() => loadScript(\"vega-lite\"))\n",
       "        .then(() => loadScript(\"vega-embed\"))\n",
       "        .catch(showError)\n",
       "        .then(() => displayChart(vegaEmbed));\n",
       "    }\n",
       "  })({\"config\": {\"view\": {\"continuousWidth\": 400, \"continuousHeight\": 300}}, \"data\": {\"name\": \"data-54b58a4aa74e295879badff738f3e9c4\"}, \"mark\": \"tick\", \"encoding\": {\"x\": {\"type\": \"quantitative\", \"field\": \"z\"}}, \"$schema\": \"https://vega.github.io/schema/vega-lite/v4.8.1.json\", \"datasets\": {\"data-54b58a4aa74e295879badff738f3e9c4\": [{\"Name\": \"SDSS J000805.62+145023.4\", \"z\": 0.0454, \"sigma*\": 140.0, \"e_sigma*\": 27.0, \"n_sigma*\": null, \"FWHM\": 7610.0, \"e_FWHM\": 380.0, \"logL\": 41.13, \"e_logL\": 0.04, \"logM\": 7.7, \"E_logM\": null, \"e_logM\": 0.1}, {\"Name\": \"SDSS J004236.86-104921.8\", \"z\": 0.0419, \"sigma*\": 78.4, \"e_sigma*\": 10.0, \"n_sigma*\": null, \"FWHM\": 1960.0, \"e_FWHM\": 97.0, \"logL\": 41.58, \"e_logL\": 0.14, \"logM\": 6.7, \"E_logM\": null, \"e_logM\": 0.1}, {\"Name\": \"SDSS J011703.58+000027.3\", \"z\": 0.0456, \"sigma*\": 98.8, \"e_sigma*\": 16.0, \"n_sigma*\": null, \"FWHM\": 2270.0, \"e_FWHM\": 110.0, \"logL\": 41.45, \"e_logL\": 0.08, \"logM\": 6.8, \"E_logM\": null, \"e_logM\": 0.1}, {\"Name\": \"SDSS J020459.25-080816.0\", \"z\": 0.0772, \"sigma*\": 121.0, \"e_sigma*\": 9.4, \"n_sigma*\": \"a\", \"FWHM\": 3720.0, \"e_FWHM\": 180.0, \"logL\": 41.13, \"e_logL\": 0.05, \"logM\": 7.0, \"E_logM\": null, \"e_logM\": 0.1}, {\"Name\": \"SDSS J020615.99-001729.1\", \"z\": 0.0426, \"sigma*\": 216.0, \"e_sigma*\": 30.0, \"n_sigma*\": null, \"FWHM\": 3860.0, \"e_FWHM\": 190.0, \"logL\": 41.91, \"e_logL\": 0.07, \"logM\": 7.5, \"E_logM\": null, \"e_logM\": 0.1}, {\"Name\": \"SDSS J021011.49-090335.5\", \"z\": 0.0414, \"sigma*\": 122.0, \"e_sigma*\": 12.0, \"n_sigma*\": \"a\", \"FWHM\": 2450.0, \"e_FWHM\": 120.0, \"logL\": 41.24, \"e_logL\": 0.07, \"logM\": 6.7, \"E_logM\": null, \"e_logM\": 0.1}, {\"Name\": \"SDSS J021257.59+140610.1\", \"z\": 0.0618, \"sigma*\": 174.0, \"e_sigma*\": 12.0, \"n_sigma*\": \"a\", \"FWHM\": 3080.0, \"e_FWHM\": 150.0, \"logL\": 41.58, \"e_logL\": 0.06, \"logM\": 7.1, \"E_logM\": null, \"e_logM\": 0.1}, {\"Name\": \"SDSS J033013.26-053236.0\", \"z\": 0.0131, \"sigma*\": 99.2, \"e_sigma*\": 11.0, \"n_sigma*\": null, \"FWHM\": 5160.0, \"e_FWHM\": 250.0, \"logL\": 40.45, \"e_logL\": 0.06, \"logM\": 7.0, \"E_logM\": null, \"e_logM\": 0.1}, {\"Name\": \"SDSS J075057.25+353037.5\", \"z\": 0.17600000000000002, \"sigma*\": 154.0, \"e_sigma*\": 14.0, \"n_sigma*\": \"a\", \"FWHM\": 2970.0, \"e_FWHM\": 200.0, \"logL\": 41.63, \"e_logL\": 0.03, \"logM\": 7.2, \"E_logM\": null, \"e_logM\": 0.1}, {\"Name\": \"SDSS J080243.39+310403.3\", \"z\": 0.0409, \"sigma*\": 151.0, \"e_sigma*\": 17.0, \"n_sigma*\": null, \"FWHM\": 5360.0, \"e_FWHM\": 260.0, \"logL\": 41.67, \"e_logL\": 0.07, \"logM\": 7.6, \"E_logM\": null, \"e_logM\": 0.1}, {\"Name\": \"SDSS J080538.66+261005.4\", \"z\": 0.017, \"sigma*\": 100.0, \"e_sigma*\": 14.0, \"n_sigma*\": null, \"FWHM\": 3110.0, \"e_FWHM\": 150.0, \"logL\": 40.14, \"e_logL\": 0.04, \"logM\": 6.3, \"E_logM\": null, \"e_logM\": 0.2}, {\"Name\": \"SDSS J082510.23+375919.7\", \"z\": 0.0214, \"sigma*\": 98.7, \"e_sigma*\": 12.0, \"n_sigma*\": null, \"FWHM\": 1830.0, \"e_FWHM\": 91.0, \"logL\": 40.42, \"e_logL\": 0.04, \"logM\": 6.0, \"E_logM\": null, \"e_logM\": 0.1}, {\"Name\": \"SDSS J083202.16+461425.7\", \"z\": 0.0459, \"sigma*\": 104.0, \"e_sigma*\": 13.0, \"n_sigma*\": null, \"FWHM\": 1450.0, \"e_FWHM\": 72.0, \"logL\": 41.17, \"e_logL\": 0.08, \"logM\": 6.2, \"E_logM\": null, \"e_logM\": 0.1}, {\"Name\": \"SDSS J083949.64+484701.4\", \"z\": 0.0394, \"sigma*\": 133.0, \"e_sigma*\": 12.0, \"n_sigma*\": null, \"FWHM\": 1480.0, \"e_FWHM\": 73.0, \"logL\": 41.31, \"e_logL\": 0.08, \"logM\": 6.3, \"E_logM\": null, \"e_logM\": 0.2}, {\"Name\": \"SDSS J085554.27+005110.9\", \"z\": 0.0524, \"sigma*\": 118.0, \"e_sigma*\": 11.0, \"n_sigma*\": \"a\", \"FWHM\": 2910.0, \"e_FWHM\": 140.0, \"logL\": 41.27, \"e_logL\": 0.06, \"logM\": 6.9, \"E_logM\": null, \"e_logM\": 0.1}, {\"Name\": \"SDSS J092438.88+560746.9\", \"z\": 0.025, \"sigma*\": 135.0, \"e_sigma*\": 10.0, \"n_sigma*\": null, \"FWHM\": 1900.0, \"e_FWHM\": 94.0, \"logL\": 40.72, \"e_logL\": 0.07, \"logM\": 6.2, \"E_logM\": null, \"e_logM\": 0.4}, {\"Name\": \"SDSS J093259.60+040506.0\", \"z\": 0.059000000000000004, \"sigma*\": 70.5, \"e_sigma*\": 6.7, \"n_sigma*\": \"a\", \"FWHM\": 3550.0, \"e_FWHM\": 170.0, \"logL\": 41.14, \"e_logL\": 0.05, \"logM\": 7.0, \"E_logM\": null, \"e_logM\": 0.1}, {\"Name\": \"SDSS J093812.26+074340.0\", \"z\": 0.0219, \"sigma*\": 119.0, \"e_sigma*\": 8.0, \"n_sigma*\": null, \"FWHM\": 3640.0, \"e_FWHM\": 180.0, \"logL\": 40.8, \"e_logL\": 0.05, \"logM\": 6.8, \"E_logM\": null, \"e_logM\": 0.1}, {\"Name\": \"SDSS J094838.42+403043.7\", \"z\": 0.047, \"sigma*\": 91.4, \"e_sigma*\": 16.0, \"n_sigma*\": null, \"FWHM\": 3020.0, \"e_FWHM\": 150.0, \"logL\": 41.46, \"e_logL\": 0.07, \"logM\": 7.0, \"E_logM\": null, \"e_logM\": 0.1}, {\"Name\": \"SDSS J101912.57+635802.7\", \"z\": 0.0414, \"sigma*\": 239.0, \"e_sigma*\": 13.0, \"n_sigma*\": null, \"FWHM\": 3630.0, \"e_FWHM\": 180.0, \"logL\": 41.74, \"e_logL\": 0.08, \"logM\": 7.4, \"E_logM\": null, \"e_logM\": 0.1}, {\"Name\": \"SDSS J102044.43+013048.4\", \"z\": 0.0962, \"sigma*\": 103.0, \"e_sigma*\": 8.8, \"n_sigma*\": \"a\", \"FWHM\": 5200.0, \"e_FWHM\": 250.0, \"logL\": 41.51, \"e_logL\": 0.04, \"logM\": 7.6, \"E_logM\": null, \"e_logM\": 0.1}, {\"Name\": \"SDSS J110640.20+051905.6\", \"z\": 0.0913, \"sigma*\": 140.0, \"e_sigma*\": 15.0, \"n_sigma*\": \"a\", \"FWHM\": 5830.0, \"e_FWHM\": 290.0, \"logL\": 41.65, \"e_logL\": 0.04, \"logM\": 7.7, \"E_logM\": null, \"e_logM\": 0.1}, {\"Name\": \"SDSS J112536.16+542257.1\", \"z\": 0.0206, \"sigma*\": 124.0, \"e_sigma*\": 12.0, \"n_sigma*\": null, \"FWHM\": 2950.0, \"e_FWHM\": 140.0, \"logL\": 41.17, \"e_logL\": 0.08, \"logM\": 6.8, \"E_logM\": null, \"e_logM\": 0.1}, {\"Name\": \"SDSS J112841.00+575006.5\", \"z\": 0.0513, \"sigma*\": 159.0, \"e_sigma*\": 18.0, \"n_sigma*\": \"a\", \"FWHM\": 2660.0, \"e_FWHM\": 130.0, \"logL\": 41.66, \"e_logL\": 0.09, \"logM\": 7.0, \"E_logM\": null, \"e_logM\": 0.1}, {\"Name\": \"SDSS J120257.81+045045.0\", \"z\": 0.0207, \"sigma*\": 102.0, \"e_sigma*\": 20.0, \"n_sigma*\": null, \"FWHM\": 2250.0, \"e_FWHM\": 110.0, \"logL\": 40.1, \"e_logL\": 0.06, \"logM\": 6.0, \"E_logM\": null, \"e_logM\": 0.1}, {\"Name\": \"SDSS J120556.01+495956.1\", \"z\": 0.0631, \"sigma*\": 107.0, \"e_sigma*\": 11.0, \"n_sigma*\": \"a\", \"FWHM\": 5610.0, \"e_FWHM\": 450.0, \"logL\": 41.57, \"e_logL\": 0.04, \"logM\": 7.7, \"E_logM\": null, \"e_logM\": 0.1}, {\"Name\": \"SDSS J121607.09+504930.0\", \"z\": 0.0308, \"sigma*\": 138.0, \"e_sigma*\": 13.0, \"n_sigma*\": null, \"FWHM\": 5580.0, \"e_FWHM\": 270.0, \"logL\": 41.3, \"e_logL\": 0.06, \"logM\": 7.5, \"E_logM\": null, \"e_logM\": 0.3}, {\"Name\": \"SDSS J121754.97+583935.6\", \"z\": 0.0233, \"sigma*\": 85.6, \"e_sigma*\": 14.0, \"n_sigma*\": null, \"FWHM\": 1970.0, \"e_FWHM\": 98.0, \"logL\": 40.92, \"e_logL\": 0.08, \"logM\": 6.4, \"E_logM\": null, \"e_logM\": 0.1}, {\"Name\": \"SDSS J122324.13+024044.4\", \"z\": 0.0236, \"sigma*\": 78.1, \"e_sigma*\": 15.0, \"n_sigma*\": null, \"FWHM\": 3880.0, \"e_FWHM\": 910.0, \"logL\": 41.62, \"e_logL\": 0.08, \"logM\": 7.3, \"E_logM\": null, \"e_logM\": 0.2}, {\"Name\": \"SDSS J123237.48+662452.3\", \"z\": 0.0468, \"sigma*\": 124.0, \"e_sigma*\": 9.0, \"n_sigma*\": null, \"FWHM\": 2620.0, \"e_FWHM\": 130.0, \"logL\": 41.86, \"e_logL\": 0.19, \"logM\": 7.1, \"E_logM\": null, \"e_logM\": 0.2}, {\"Name\": \"SDSS J130620.97+531823.1\", \"z\": 0.0237, \"sigma*\": 90.7, \"e_sigma*\": 11.0, \"n_sigma*\": null, \"FWHM\": 7620.0, \"e_FWHM\": 380.0, \"logL\": 40.58, \"e_logL\": 0.04, \"logM\": 7.3, \"E_logM\": null, \"e_logM\": 0.1}, {\"Name\": \"SDSS J131305.80+012755.9\", \"z\": 0.0294, \"sigma*\": 95.4, \"e_sigma*\": 13.0, \"n_sigma*\": null, \"FWHM\": 1590.0, \"e_FWHM\": 79.0, \"logL\": 40.62, \"e_logL\": 0.07, \"logM\": 6.0, \"E_logM\": null, \"e_logM\": 0.1}, {\"Name\": \"SDSS J132249.21+545528.2\", \"z\": 0.0653, \"sigma*\": 130.0, \"e_sigma*\": 13.0, \"n_sigma*\": \"a\", \"FWHM\": 4050.0, \"e_FWHM\": 200.0, \"logL\": 41.81, \"e_logL\": 0.07, \"logM\": 7.5, \"E_logM\": null, \"e_logM\": 0.1}, {\"Name\": \"SDSS J132340.31-012749.2\", \"z\": 0.0767, \"sigma*\": 114.0, \"e_sigma*\": 16.0, \"n_sigma*\": \"a\", \"FWHM\": 1910.0, \"e_FWHM\": 95.0, \"logL\": 41.55, \"e_logL\": 0.09, \"logM\": 6.7, \"E_logM\": null, \"e_logM\": 0.1}, {\"Name\": \"SDSS J134952.84+020445.1\", \"z\": 0.0328, \"sigma*\": 138.0, \"e_sigma*\": 13.0, \"n_sigma*\": null, \"FWHM\": 2590.0, \"e_FWHM\": 120.0, \"logL\": 41.62, \"e_logL\": 0.07, \"logM\": 7.0, \"E_logM\": null, \"e_logM\": 0.1}, {\"Name\": \"SDSS J140018.42+050242.2\", \"z\": 0.0342, \"sigma*\": 145.0, \"e_sigma*\": 14.0, \"n_sigma*\": null, \"FWHM\": 3340.0, \"e_FWHM\": 160.0, \"logL\": 41.23, \"e_logL\": 0.05, \"logM\": 7.1, \"E_logM\": null, \"e_logM\": 0.5}, {\"Name\": \"SDSS J140514.87-025901.2\", \"z\": 0.0542, \"sigma*\": 148.0, \"e_sigma*\": 15.0, \"n_sigma*\": \"a\", \"FWHM\": 2990.0, \"e_FWHM\": 140.0, \"logL\": 41.29, \"e_logL\": 0.06, \"logM\": 6.9, \"E_logM\": null, \"e_logM\": 0.3}, {\"Name\": \"SDSS J141630.81+013708.0\", \"z\": 0.0538, \"sigma*\": 121.0, \"e_sigma*\": 12.0, \"n_sigma*\": \"a\", \"FWHM\": 3180.0, \"e_FWHM\": 150.0, \"logL\": 41.1, \"e_logL\": 0.04, \"logM\": 6.9, \"E_logM\": null, \"e_logM\": 0.1}, {\"Name\": \"SDSS J143452.45+483942.7\", \"z\": 0.0365, \"sigma*\": 138.0, \"e_sigma*\": 15.0, \"n_sigma*\": null, \"FWHM\": 3210.0, \"e_FWHM\": 160.0, \"logL\": 41.84, \"e_logL\": 0.1, \"logM\": 7.3, \"E_logM\": null, \"e_logM\": 0.1}, {\"Name\": \"SDSS J144629.97+500130.5\", \"z\": 0.0427, \"sigma*\": 86.8, \"e_sigma*\": 19.0, \"n_sigma*\": null, \"FWHM\": 6450.0, \"e_FWHM\": 320.0, \"logL\": 40.73, \"e_logL\": 0.03, \"logM\": 7.3, \"E_logM\": null, \"e_logM\": 0.2}, {\"Name\": \"SDSS J145706.80+494008.4\", \"z\": 0.0134, \"sigma*\": 108.0, \"e_sigma*\": 11.0, \"n_sigma*\": null, \"FWHM\": 2270.0, \"e_FWHM\": 110.0, \"logL\": 40.46, \"e_logL\": 0.1, \"logM\": 6.3, \"E_logM\": null, \"e_logM\": 0.1}, {\"Name\": \"SDSS J145901.35+611353.5\", \"z\": 0.0388, \"sigma*\": 113.0, \"e_sigma*\": 13.0, \"n_sigma*\": null, \"FWHM\": 4140.0, \"e_FWHM\": 200.0, \"logL\": 41.18, \"e_logL\": 0.06, \"logM\": 7.2, \"E_logM\": null, \"e_logM\": 0.1}, {\"Name\": \"SDSS J150556.55+034226.3\", \"z\": 0.0359, \"sigma*\": 199.0, \"e_sigma*\": 18.0, \"n_sigma*\": \"a\", \"FWHM\": 4370.0, \"e_FWHM\": 210.0, \"logL\": 42.09, \"e_logL\": 0.1, \"logM\": 7.7, \"E_logM\": null, \"e_logM\": 0.1}, {\"Name\": \"SDSS J150745.00+512710.2\", \"z\": 0.0458, \"sigma*\": 139.0, \"e_sigma*\": 17.0, \"n_sigma*\": null, \"FWHM\": 3430.0, \"e_FWHM\": 170.0, \"logL\": 41.4, \"e_logL\": 0.04, \"logM\": 7.1, \"E_logM\": null, \"e_logM\": 0.1}, {\"Name\": \"SDSS J150853.95-001148.9\", \"z\": 0.0542, \"sigma*\": 163.0, \"e_sigma*\": 15.0, \"n_sigma*\": \"a\", \"FWHM\": 6190.0, \"e_FWHM\": 610.0, \"logL\": 41.51, \"e_logL\": 0.04, \"logM\": 7.8, \"E_logM\": null, \"e_logM\": 0.1}, {\"Name\": \"SDSS J152515.18+601409.0\", \"z\": 0.0783, \"sigma*\": 104.0, \"e_sigma*\": 11.0, \"n_sigma*\": \"a\", \"FWHM\": 2590.0, \"e_FWHM\": 120.0, \"logL\": 41.41, \"e_logL\": 0.09, \"logM\": 6.9, \"E_logM\": null, \"e_logM\": 0.1}, {\"Name\": \"SDSS J155417.43+323837.8\", \"z\": 0.0483, \"sigma*\": 120.0, \"e_sigma*\": 13.0, \"n_sigma*\": \"a\", \"FWHM\": 4200.0, \"e_FWHM\": 210.0, \"logL\": 41.86, \"e_logL\": 0.08, \"logM\": 7.5, \"E_logM\": null, \"e_logM\": 0.1}, {\"Name\": \"SDSS J161156.31+521116.8\", \"z\": 0.040999999999999995, \"sigma*\": 116.0, \"e_sigma*\": 10.0, \"n_sigma*\": null, \"FWHM\": 3760.0, \"e_FWHM\": 180.0, \"logL\": 41.09, \"e_logL\": 0.04, \"logM\": 7.0, \"E_logM\": null, \"e_logM\": 0.3}, {\"Name\": \"SDSS J161951.31+405847.2\", \"z\": 0.0379, \"sigma*\": 89.1, \"e_sigma*\": 20.0, \"n_sigma*\": null, \"FWHM\": 1700.0, \"e_FWHM\": 85.0, \"logL\": 40.99, \"e_logL\": 0.07, \"logM\": 6.3, \"E_logM\": null, \"e_logM\": 0.1}, {\"Name\": \"SDSS J170328.96+614109.9\", \"z\": 0.0772, \"sigma*\": 123.0, \"e_sigma*\": 13.0, \"n_sigma*\": \"a\", \"FWHM\": 4300.0, \"e_FWHM\": 210.0, \"logL\": 41.92, \"e_logL\": 0.05, \"logM\": 7.6, \"E_logM\": null, \"e_logM\": 0.1}, {\"Name\": \"SDSS J171550.49+593548.7\", \"z\": 0.0657, \"sigma*\": 146.0, \"e_sigma*\": 13.0, \"n_sigma*\": \"a\", \"FWHM\": 3500.0, \"e_FWHM\": 170.0, \"logL\": 41.24, \"e_logL\": 0.05, \"logM\": 7.0, \"E_logM\": null, \"e_logM\": 0.1}, {\"Name\": \"SDSS J212401.90-002158.7\", \"z\": 0.0619, \"sigma*\": 110.0, \"e_sigma*\": 15.0, \"n_sigma*\": \"a\", \"FWHM\": 2620.0, \"e_FWHM\": 130.0, \"logL\": 41.41, \"e_logL\": 0.06, \"logM\": 6.9, \"E_logM\": null, \"e_logM\": 0.1}, {\"Name\": \"SDSS J222435.29-001103.8\", \"z\": 0.0581, \"sigma*\": 111.0, \"e_sigma*\": 19.0, \"n_sigma*\": \"a\", \"FWHM\": 2290.0, \"e_FWHM\": 1190.0, \"logL\": 41.83, \"e_logL\": 0.17, \"logM\": 7.0, \"E_logM\": null, \"e_logM\": 0.4}, {\"Name\": \"SDSS J223000.37-094622.1\", \"z\": 0.0727, \"sigma*\": 112.0, \"e_sigma*\": 13.0, \"n_sigma*\": \"a\", \"FWHM\": 3630.0, \"e_FWHM\": 180.0, \"logL\": 41.21, \"e_logL\": 0.04, \"logM\": 7.1, \"E_logM\": null, \"e_logM\": 0.1}, {\"Name\": \"SDSS J232721.96+152437.3\", \"z\": 0.0457, \"sigma*\": 193.0, \"e_sigma*\": 18.0, \"n_sigma*\": null, \"FWHM\": 7540.0, \"e_FWHM\": 750.0, \"logL\": 41.65, \"e_logL\": 0.06, \"logM\": 7.9, \"E_logM\": null, \"e_logM\": 0.1}, {\"Name\": \"SDSS J235128.78+155259.0\", \"z\": 0.0963, \"sigma*\": 193.0, \"e_sigma*\": 22.0, \"n_sigma*\": \"a\", \"FWHM\": 8240.0, \"e_FWHM\": 410.0, \"logL\": 41.87, \"e_logL\": 0.04, \"logM\": 8.2, \"E_logM\": null, \"e_logM\": 0.2}, {\"Name\": \"SDSS J010712.03+140844.9\", \"z\": 0.0768, \"sigma*\": 36.0, \"e_sigma*\": 6.0, \"n_sigma*\": \"b\", \"FWHM\": 880.0, \"e_FWHM\": 170.0, \"logL\": 42.57, \"e_logL\": 0.2, \"logM\": 5.8, \"E_logM\": null, \"e_logM\": 0.2}, {\"Name\": \"SDSS J024912.86-081525.6\", \"z\": 0.0294, \"sigma*\": 50.0, \"e_sigma*\": 4.0, \"n_sigma*\": \"b\", \"FWHM\": 840.0, \"e_FWHM\": 320.0, \"logL\": 41.93, \"e_logL\": 0.08, \"logM\": 5.1, \"E_logM\": null, \"e_logM\": 0.3}, {\"Name\": \"SDSS J032515.59+003408.4\", \"z\": 0.102, \"sigma*\": 55.0, \"e_sigma*\": 6.0, \"n_sigma*\": \"b\", \"FWHM\": 990.0, \"e_FWHM\": 49.0, \"logL\": 42.03, \"e_logL\": 0.12, \"logM\": 5.8, \"E_logM\": null, \"e_logM\": 0.1}, {\"Name\": \"SDSS J080907.58+441641.4\", \"z\": 0.0539, \"sigma*\": 65.0, \"e_sigma*\": 4.0, \"n_sigma*\": \"b\", \"FWHM\": 940.0, \"e_FWHM\": 180.0, \"logL\": 40.47, \"e_logL\": 0.04, \"logM\": 5.5, \"E_logM\": null, \"e_logM\": 0.8}, {\"Name\": \"SDSS J082912.67+500652.3\", \"z\": 0.0434, \"sigma*\": 60.0, \"e_sigma*\": 4.0, \"n_sigma*\": \"b\", \"FWHM\": 840.0, \"e_FWHM\": 41.0, \"logL\": 42.14, \"e_logL\": 0.06, \"logM\": 5.7, \"E_logM\": null, \"e_logM\": 0.1}, {\"Name\": \"SDSS J101108.40+002908.7\", \"z\": 0.1, \"sigma*\": 48.0, \"e_sigma*\": 7.0, \"n_sigma*\": \"b\", \"FWHM\": 1460.0, \"e_FWHM\": 72.0, \"logL\": 42.68, \"e_logL\": 0.19, \"logM\": 6.2, \"E_logM\": null, \"e_logM\": 0.3}, {\"Name\": \"SDSS J101627.32-000714.5\", \"z\": 0.0944, \"sigma*\": 39.0, \"e_sigma*\": 6.0, \"n_sigma*\": \"b\", \"FWHM\": 1520.0, \"e_FWHM\": 75.0, \"logL\": 42.57, \"e_logL\": 0.17, \"logM\": 6.1, \"E_logM\": null, \"e_logM\": 0.2}, {\"Name\": \"SDSS J124035.81-002919.4\", \"z\": 0.0809, \"sigma*\": 49.0, \"e_sigma*\": 7.0, \"n_sigma*\": \"b\", \"FWHM\": 1720.0, \"e_FWHM\": 85.0, \"logL\": 42.35, \"e_logL\": 0.11, \"logM\": 6.6, \"E_logM\": null, \"e_logM\": 0.6}, {\"Name\": \"SDSS J125055.28-015556.6\", \"z\": 0.0814, \"sigma*\": 64.0, \"e_sigma*\": 6.0, \"n_sigma*\": \"b\", \"FWHM\": 1980.0, \"e_FWHM\": 99.0, \"logL\": 42.75, \"e_logL\": 0.14, \"logM\": 6.5, \"E_logM\": null, \"e_logM\": 0.1}, {\"Name\": \"SDSS J143450.62+033842.5\", \"z\": 0.0282, \"sigma*\": 48.0, \"e_sigma*\": 7.0, \"n_sigma*\": \"b\", \"FWHM\": 1480.0, \"e_FWHM\": 73.0, \"logL\": 41.87, \"e_logL\": 0.16, \"logM\": 5.6, \"E_logM\": null, \"e_logM\": 0.1}, {\"Name\": \"SDSS J170246.09+602818.9\", \"z\": 0.0689, \"sigma*\": 69.0, \"e_sigma*\": 6.0, \"n_sigma*\": \"b\", \"FWHM\": 3270.0, \"e_FWHM\": 160.0, \"logL\": 42.67, \"e_logL\": 0.16, \"logM\": 6.9, \"E_logM\": null, \"e_logM\": 0.2}, {\"Name\": \"SDSS J172759.15+542147.0\", \"z\": 0.0995, \"sigma*\": 58.0, \"e_sigma*\": 7.0, \"n_sigma*\": \"b\", \"FWHM\": 810.0, \"e_FWHM\": 400.0, \"logL\": 42.19, \"e_logL\": 0.09, \"logM\": 5.6, \"E_logM\": null, \"e_logM\": 0.5}, {\"Name\": \"SDSS J215658.30+110343.1\", \"z\": 0.10800000000000001, \"sigma*\": 81.0, \"e_sigma*\": 8.0, \"n_sigma*\": \"b\", \"FWHM\": 1430.0, \"e_FWHM\": 280.0, \"logL\": 41.22, \"e_logL\": 0.03, \"logM\": 6.3, \"E_logM\": null, \"e_logM\": 0.8}, {\"Name\": \"SDSS J232159.06+000738.8\", \"z\": 0.184, \"sigma*\": 81.0, \"e_sigma*\": 9.0, \"n_sigma*\": \"b\", \"FWHM\": 2520.0, \"e_FWHM\": 120.0, \"logL\": 42.96, \"e_logL\": 0.1, \"logM\": 6.7, \"E_logM\": null, \"e_logM\": 0.2}, {\"Name\": \"SDSS J233837.10-002810.3\", \"z\": 0.0356, \"sigma*\": 58.0, \"e_sigma*\": 4.0, \"n_sigma*\": \"b\", \"FWHM\": 1740.0, \"e_FWHM\": 86.0, \"logL\": 43.61, \"e_logL\": 0.13, \"logM\": 5.8, \"E_logM\": null, \"e_logM\": 0.1}, {\"Name\": \"3C 120\", \"z\": 0.033, \"sigma*\": 162.0, \"e_sigma*\": 24.0, \"n_sigma*\": \"b\", \"FWHM\": null, \"e_FWHM\": null, \"logL\": null, \"e_logL\": null, \"logM\": 7.43, \"E_logM\": 0.2, \"e_logM\": 0.25}, {\"Name\": \"3C 390.3\", \"z\": 0.0561, \"sigma*\": 268.0, \"e_sigma*\": 15.0, \"n_sigma*\": null, \"FWHM\": null, \"e_FWHM\": null, \"logL\": null, \"e_logL\": null, \"logM\": 8.52, \"E_logM\": 0.09, \"e_logM\": 0.12}, {\"Name\": \"Akn 120\", \"z\": 0.0323, \"sigma*\": 224.0, \"e_sigma*\": 15.0, \"n_sigma*\": null, \"FWHM\": null, \"e_FWHM\": null, \"logL\": null, \"e_logL\": null, \"logM\": 8.2, \"E_logM\": 0.05, \"e_logM\": 0.07}, {\"Name\": \"Mrk 79\", \"z\": 0.0222, \"sigma*\": 130.0, \"e_sigma*\": 10.0, \"n_sigma*\": null, \"FWHM\": null, \"e_FWHM\": null, \"logL\": null, \"e_logL\": null, \"logM\": 7.67, \"E_logM\": 0.11, \"e_logM\": 0.15}, {\"Name\": \"Mrk 110\", \"z\": 0.0353, \"sigma*\": 87.1, \"e_sigma*\": 12.0, \"n_sigma*\": null, \"FWHM\": null, \"e_FWHM\": null, \"logL\": null, \"e_logL\": null, \"logM\": 6.97, \"E_logM\": 0.11, \"e_logM\": 0.15}, {\"Name\": \"Mrk 279\", \"z\": 0.0305, \"sigma*\": 197.0, \"e_sigma*\": 12.0, \"n_sigma*\": null, \"FWHM\": null, \"e_FWHM\": null, \"logL\": null, \"e_logL\": null, \"logM\": 7.45, \"E_logM\": 0.12, \"e_logM\": 0.16}, {\"Name\": \"Mrk 590\", \"z\": 0.0264, \"sigma*\": 189.0, \"e_sigma*\": 5.7, \"n_sigma*\": null, \"FWHM\": null, \"e_FWHM\": null, \"logL\": null, \"e_logL\": null, \"logM\": 7.2, \"E_logM\": 0.11, \"e_logM\": 0.15}, {\"Name\": \"Mrk 817\", \"z\": 0.0315, \"sigma*\": 127.0, \"e_sigma*\": 12.0, \"n_sigma*\": null, \"FWHM\": null, \"e_FWHM\": null, \"logL\": null, \"e_logL\": null, \"logM\": 7.62, \"E_logM\": 0.08, \"e_logM\": 0.1}, {\"Name\": \"NGC 3227\", \"z\": 0.00386, \"sigma*\": 135.0, \"e_sigma*\": 3.8, \"n_sigma*\": null, \"FWHM\": null, \"e_FWHM\": null, \"logL\": null, \"e_logL\": null, \"logM\": 7.47, \"E_logM\": 0.24, \"e_logM\": 1.06}, {\"Name\": \"NGC 3516\", \"z\": 0.00884, \"sigma*\": 181.0, \"e_sigma*\": 4.9, \"n_sigma*\": \"b\", \"FWHM\": null, \"e_FWHM\": null, \"logL\": null, \"e_logL\": null, \"logM\": 7.04, \"E_logM\": 0.31, \"e_logM\": 0.39}, {\"Name\": \"NGC 3783\", \"z\": 0.009729999999999999, \"sigma*\": 95.0, \"e_sigma*\": 10.0, \"n_sigma*\": null, \"FWHM\": null, \"e_FWHM\": null, \"logL\": null, \"e_logL\": null, \"logM\": 7.16, \"E_logM\": 0.17, \"e_logM\": 0.23}, {\"Name\": \"NGC 4051\", \"z\": 0.00234, \"sigma*\": 88.9, \"e_sigma*\": 2.9, \"n_sigma*\": null, \"FWHM\": null, \"e_FWHM\": null, \"logL\": null, \"e_logL\": null, \"logM\": 5.99, \"E_logM\": 0.17, \"e_logM\": 0.2}, {\"Name\": \"NGC 4151\", \"z\": 0.0033200000000000005, \"sigma*\": 96.8, \"e_sigma*\": 2.9, \"n_sigma*\": null, \"FWHM\": null, \"e_FWHM\": null, \"logL\": null, \"e_logL\": null, \"logM\": 6.91, \"E_logM\": 0.17, \"e_logM\": 0.29}, {\"Name\": \"NGC 5548\", \"z\": 0.0172, \"sigma*\": 198.0, \"e_sigma*\": 11.0, \"n_sigma*\": null, \"FWHM\": null, \"e_FWHM\": null, \"logL\": null, \"e_logL\": null, \"logM\": 7.81, \"E_logM\": 0.02, \"e_logM\": 0.02}, {\"Name\": \"NGC 7469\", \"z\": 0.0163, \"sigma*\": 133.0, \"e_sigma*\": 4.8, \"n_sigma*\": null, \"FWHM\": null, \"e_FWHM\": null, \"logL\": null, \"e_logL\": null, \"logM\": 6.49, \"E_logM\": 0.16, \"e_logM\": 0.27}, {\"Name\": \"POX 52\", \"z\": 0.0218, \"sigma*\": 36.0, \"e_sigma*\": 5.0, \"n_sigma*\": null, \"FWHM\": null, \"e_FWHM\": null, \"logL\": null, \"e_logL\": null, \"logM\": 5.2, \"E_logM\": null, \"e_logM\": 0.3}, {\"Name\": \"NGC 4395\", \"z\": 0.000947, \"sigma*\": 30.0, \"e_sigma*\": 5.0, \"n_sigma*\": null, \"FWHM\": null, \"e_FWHM\": null, \"logL\": null, \"e_logL\": null, \"logM\": 4.9, \"E_logM\": null, \"e_logM\": 0.4}]}}, {\"mode\": \"vega-lite\"});\n",
       "</script>"
      ],
      "text/plain": [
       "alt.Chart(...)"
      ]
     },
     "execution_count": 13,
     "metadata": {
      "tags": []
     },
     "output_type": "execute_result"
    }
   ],
   "source": [
    "# make the chart clear by changing the mark from point to tick\n",
    "alt.Chart(df).mark_tick().encode(\n",
    "    x = 'z'\n",
    ")"
   ]
  },
  {
   "cell_type": "markdown",
   "metadata": {
    "id": "B-8GFYDHQkVo"
   },
   "source": [
    "Now, we extend the vertical direction with other feature, for example $\\log M$."
   ]
  },
  {
   "cell_type": "code",
   "execution_count": null,
   "metadata": {
    "colab": {
     "base_uri": "https://localhost:8080/",
     "height": 368
    },
    "executionInfo": {
     "elapsed": 868,
     "status": "ok",
     "timestamp": 1609124062393,
     "user": {
      "displayName": "Eduard Alexis Larranaga",
      "photoUrl": "https://lh3.googleusercontent.com/a-/AOh14GgCVABzEgj-rCdyxWa29RnA0kIYUCXAaVbnRYOEhQ=s64",
      "userId": "04402438389940282602"
     },
     "user_tz": 300
    },
    "id": "tyVUOGc6QkVo",
    "outputId": "7d26e8e1-4ee0-4cb5-c7d9-5d8a391826ad",
    "scrolled": false
   },
   "outputs": [
    {
     "data": {
      "text/html": [
       "\n",
       "<div id=\"altair-viz-8bbc66db29f2473eaa6eb783978c4ad9\"></div>\n",
       "<script type=\"text/javascript\">\n",
       "  (function(spec, embedOpt){\n",
       "    let outputDiv = document.currentScript.previousElementSibling;\n",
       "    if (outputDiv.id !== \"altair-viz-8bbc66db29f2473eaa6eb783978c4ad9\") {\n",
       "      outputDiv = document.getElementById(\"altair-viz-8bbc66db29f2473eaa6eb783978c4ad9\");\n",
       "    }\n",
       "    const paths = {\n",
       "      \"vega\": \"https://cdn.jsdelivr.net/npm//vega@5?noext\",\n",
       "      \"vega-lib\": \"https://cdn.jsdelivr.net/npm//vega-lib?noext\",\n",
       "      \"vega-lite\": \"https://cdn.jsdelivr.net/npm//vega-lite@4.8.1?noext\",\n",
       "      \"vega-embed\": \"https://cdn.jsdelivr.net/npm//vega-embed@6?noext\",\n",
       "    };\n",
       "\n",
       "    function loadScript(lib) {\n",
       "      return new Promise(function(resolve, reject) {\n",
       "        var s = document.createElement('script');\n",
       "        s.src = paths[lib];\n",
       "        s.async = true;\n",
       "        s.onload = () => resolve(paths[lib]);\n",
       "        s.onerror = () => reject(`Error loading script: ${paths[lib]}`);\n",
       "        document.getElementsByTagName(\"head\")[0].appendChild(s);\n",
       "      });\n",
       "    }\n",
       "\n",
       "    function showError(err) {\n",
       "      outputDiv.innerHTML = `<div class=\"error\" style=\"color:red;\">${err}</div>`;\n",
       "      throw err;\n",
       "    }\n",
       "\n",
       "    function displayChart(vegaEmbed) {\n",
       "      vegaEmbed(outputDiv, spec, embedOpt)\n",
       "        .catch(err => showError(`Javascript Error: ${err.message}<br>This usually means there's a typo in your chart specification. See the javascript console for the full traceback.`));\n",
       "    }\n",
       "\n",
       "    if(typeof define === \"function\" && define.amd) {\n",
       "      requirejs.config({paths});\n",
       "      require([\"vega-embed\"], displayChart, err => showError(`Error loading script: ${err.message}`));\n",
       "    } else if (typeof vegaEmbed === \"function\") {\n",
       "      displayChart(vegaEmbed);\n",
       "    } else {\n",
       "      loadScript(\"vega\")\n",
       "        .then(() => loadScript(\"vega-lite\"))\n",
       "        .then(() => loadScript(\"vega-embed\"))\n",
       "        .catch(showError)\n",
       "        .then(() => displayChart(vegaEmbed));\n",
       "    }\n",
       "  })({\"config\": {\"view\": {\"continuousWidth\": 400, \"continuousHeight\": 300}}, \"data\": {\"name\": \"data-54b58a4aa74e295879badff738f3e9c4\"}, \"mark\": \"point\", \"encoding\": {\"x\": {\"type\": \"quantitative\", \"field\": \"z\"}, \"y\": {\"type\": \"quantitative\", \"field\": \"logM\"}}, \"$schema\": \"https://vega.github.io/schema/vega-lite/v4.8.1.json\", \"datasets\": {\"data-54b58a4aa74e295879badff738f3e9c4\": [{\"Name\": \"SDSS J000805.62+145023.4\", \"z\": 0.0454, \"sigma*\": 140.0, \"e_sigma*\": 27.0, \"n_sigma*\": null, \"FWHM\": 7610.0, \"e_FWHM\": 380.0, \"logL\": 41.13, \"e_logL\": 0.04, \"logM\": 7.7, \"E_logM\": null, \"e_logM\": 0.1}, {\"Name\": \"SDSS J004236.86-104921.8\", \"z\": 0.0419, \"sigma*\": 78.4, \"e_sigma*\": 10.0, \"n_sigma*\": null, \"FWHM\": 1960.0, \"e_FWHM\": 97.0, \"logL\": 41.58, \"e_logL\": 0.14, \"logM\": 6.7, \"E_logM\": null, \"e_logM\": 0.1}, {\"Name\": \"SDSS J011703.58+000027.3\", \"z\": 0.0456, \"sigma*\": 98.8, \"e_sigma*\": 16.0, \"n_sigma*\": null, \"FWHM\": 2270.0, \"e_FWHM\": 110.0, \"logL\": 41.45, \"e_logL\": 0.08, \"logM\": 6.8, \"E_logM\": null, \"e_logM\": 0.1}, {\"Name\": \"SDSS J020459.25-080816.0\", \"z\": 0.0772, \"sigma*\": 121.0, \"e_sigma*\": 9.4, \"n_sigma*\": \"a\", \"FWHM\": 3720.0, \"e_FWHM\": 180.0, \"logL\": 41.13, \"e_logL\": 0.05, \"logM\": 7.0, \"E_logM\": null, \"e_logM\": 0.1}, {\"Name\": \"SDSS J020615.99-001729.1\", \"z\": 0.0426, \"sigma*\": 216.0, \"e_sigma*\": 30.0, \"n_sigma*\": null, \"FWHM\": 3860.0, \"e_FWHM\": 190.0, \"logL\": 41.91, \"e_logL\": 0.07, \"logM\": 7.5, \"E_logM\": null, \"e_logM\": 0.1}, {\"Name\": \"SDSS J021011.49-090335.5\", \"z\": 0.0414, \"sigma*\": 122.0, \"e_sigma*\": 12.0, \"n_sigma*\": \"a\", \"FWHM\": 2450.0, \"e_FWHM\": 120.0, \"logL\": 41.24, \"e_logL\": 0.07, \"logM\": 6.7, \"E_logM\": null, \"e_logM\": 0.1}, {\"Name\": \"SDSS J021257.59+140610.1\", \"z\": 0.0618, \"sigma*\": 174.0, \"e_sigma*\": 12.0, \"n_sigma*\": \"a\", \"FWHM\": 3080.0, \"e_FWHM\": 150.0, \"logL\": 41.58, \"e_logL\": 0.06, \"logM\": 7.1, \"E_logM\": null, \"e_logM\": 0.1}, {\"Name\": \"SDSS J033013.26-053236.0\", \"z\": 0.0131, \"sigma*\": 99.2, \"e_sigma*\": 11.0, \"n_sigma*\": null, \"FWHM\": 5160.0, \"e_FWHM\": 250.0, \"logL\": 40.45, \"e_logL\": 0.06, \"logM\": 7.0, \"E_logM\": null, \"e_logM\": 0.1}, {\"Name\": \"SDSS J075057.25+353037.5\", \"z\": 0.17600000000000002, \"sigma*\": 154.0, \"e_sigma*\": 14.0, \"n_sigma*\": \"a\", \"FWHM\": 2970.0, \"e_FWHM\": 200.0, \"logL\": 41.63, \"e_logL\": 0.03, \"logM\": 7.2, \"E_logM\": null, \"e_logM\": 0.1}, {\"Name\": \"SDSS J080243.39+310403.3\", \"z\": 0.0409, \"sigma*\": 151.0, \"e_sigma*\": 17.0, \"n_sigma*\": null, \"FWHM\": 5360.0, \"e_FWHM\": 260.0, \"logL\": 41.67, \"e_logL\": 0.07, \"logM\": 7.6, \"E_logM\": null, \"e_logM\": 0.1}, {\"Name\": \"SDSS J080538.66+261005.4\", \"z\": 0.017, \"sigma*\": 100.0, \"e_sigma*\": 14.0, \"n_sigma*\": null, \"FWHM\": 3110.0, \"e_FWHM\": 150.0, \"logL\": 40.14, \"e_logL\": 0.04, \"logM\": 6.3, \"E_logM\": null, \"e_logM\": 0.2}, {\"Name\": \"SDSS J082510.23+375919.7\", \"z\": 0.0214, \"sigma*\": 98.7, \"e_sigma*\": 12.0, \"n_sigma*\": null, \"FWHM\": 1830.0, \"e_FWHM\": 91.0, \"logL\": 40.42, \"e_logL\": 0.04, \"logM\": 6.0, \"E_logM\": null, \"e_logM\": 0.1}, {\"Name\": \"SDSS J083202.16+461425.7\", \"z\": 0.0459, \"sigma*\": 104.0, \"e_sigma*\": 13.0, \"n_sigma*\": null, \"FWHM\": 1450.0, \"e_FWHM\": 72.0, \"logL\": 41.17, \"e_logL\": 0.08, \"logM\": 6.2, \"E_logM\": null, \"e_logM\": 0.1}, {\"Name\": \"SDSS J083949.64+484701.4\", \"z\": 0.0394, \"sigma*\": 133.0, \"e_sigma*\": 12.0, \"n_sigma*\": null, \"FWHM\": 1480.0, \"e_FWHM\": 73.0, \"logL\": 41.31, \"e_logL\": 0.08, \"logM\": 6.3, \"E_logM\": null, \"e_logM\": 0.2}, {\"Name\": \"SDSS J085554.27+005110.9\", \"z\": 0.0524, \"sigma*\": 118.0, \"e_sigma*\": 11.0, \"n_sigma*\": \"a\", \"FWHM\": 2910.0, \"e_FWHM\": 140.0, \"logL\": 41.27, \"e_logL\": 0.06, \"logM\": 6.9, \"E_logM\": null, \"e_logM\": 0.1}, {\"Name\": \"SDSS J092438.88+560746.9\", \"z\": 0.025, \"sigma*\": 135.0, \"e_sigma*\": 10.0, \"n_sigma*\": null, \"FWHM\": 1900.0, \"e_FWHM\": 94.0, \"logL\": 40.72, \"e_logL\": 0.07, \"logM\": 6.2, \"E_logM\": null, \"e_logM\": 0.4}, {\"Name\": \"SDSS J093259.60+040506.0\", \"z\": 0.059000000000000004, \"sigma*\": 70.5, \"e_sigma*\": 6.7, \"n_sigma*\": \"a\", \"FWHM\": 3550.0, \"e_FWHM\": 170.0, \"logL\": 41.14, \"e_logL\": 0.05, \"logM\": 7.0, \"E_logM\": null, \"e_logM\": 0.1}, {\"Name\": \"SDSS J093812.26+074340.0\", \"z\": 0.0219, \"sigma*\": 119.0, \"e_sigma*\": 8.0, \"n_sigma*\": null, \"FWHM\": 3640.0, \"e_FWHM\": 180.0, \"logL\": 40.8, \"e_logL\": 0.05, \"logM\": 6.8, \"E_logM\": null, \"e_logM\": 0.1}, {\"Name\": \"SDSS J094838.42+403043.7\", \"z\": 0.047, \"sigma*\": 91.4, \"e_sigma*\": 16.0, \"n_sigma*\": null, \"FWHM\": 3020.0, \"e_FWHM\": 150.0, \"logL\": 41.46, \"e_logL\": 0.07, \"logM\": 7.0, \"E_logM\": null, \"e_logM\": 0.1}, {\"Name\": \"SDSS J101912.57+635802.7\", \"z\": 0.0414, \"sigma*\": 239.0, \"e_sigma*\": 13.0, \"n_sigma*\": null, \"FWHM\": 3630.0, \"e_FWHM\": 180.0, \"logL\": 41.74, \"e_logL\": 0.08, \"logM\": 7.4, \"E_logM\": null, \"e_logM\": 0.1}, {\"Name\": \"SDSS J102044.43+013048.4\", \"z\": 0.0962, \"sigma*\": 103.0, \"e_sigma*\": 8.8, \"n_sigma*\": \"a\", \"FWHM\": 5200.0, \"e_FWHM\": 250.0, \"logL\": 41.51, \"e_logL\": 0.04, \"logM\": 7.6, \"E_logM\": null, \"e_logM\": 0.1}, {\"Name\": \"SDSS J110640.20+051905.6\", \"z\": 0.0913, \"sigma*\": 140.0, \"e_sigma*\": 15.0, \"n_sigma*\": \"a\", \"FWHM\": 5830.0, \"e_FWHM\": 290.0, \"logL\": 41.65, \"e_logL\": 0.04, \"logM\": 7.7, \"E_logM\": null, \"e_logM\": 0.1}, {\"Name\": \"SDSS J112536.16+542257.1\", \"z\": 0.0206, \"sigma*\": 124.0, \"e_sigma*\": 12.0, \"n_sigma*\": null, \"FWHM\": 2950.0, \"e_FWHM\": 140.0, \"logL\": 41.17, \"e_logL\": 0.08, \"logM\": 6.8, \"E_logM\": null, \"e_logM\": 0.1}, {\"Name\": \"SDSS J112841.00+575006.5\", \"z\": 0.0513, \"sigma*\": 159.0, \"e_sigma*\": 18.0, \"n_sigma*\": \"a\", \"FWHM\": 2660.0, \"e_FWHM\": 130.0, \"logL\": 41.66, \"e_logL\": 0.09, \"logM\": 7.0, \"E_logM\": null, \"e_logM\": 0.1}, {\"Name\": \"SDSS J120257.81+045045.0\", \"z\": 0.0207, \"sigma*\": 102.0, \"e_sigma*\": 20.0, \"n_sigma*\": null, \"FWHM\": 2250.0, \"e_FWHM\": 110.0, \"logL\": 40.1, \"e_logL\": 0.06, \"logM\": 6.0, \"E_logM\": null, \"e_logM\": 0.1}, {\"Name\": \"SDSS J120556.01+495956.1\", \"z\": 0.0631, \"sigma*\": 107.0, \"e_sigma*\": 11.0, \"n_sigma*\": \"a\", \"FWHM\": 5610.0, \"e_FWHM\": 450.0, \"logL\": 41.57, \"e_logL\": 0.04, \"logM\": 7.7, \"E_logM\": null, \"e_logM\": 0.1}, {\"Name\": \"SDSS J121607.09+504930.0\", \"z\": 0.0308, \"sigma*\": 138.0, \"e_sigma*\": 13.0, \"n_sigma*\": null, \"FWHM\": 5580.0, \"e_FWHM\": 270.0, \"logL\": 41.3, \"e_logL\": 0.06, \"logM\": 7.5, \"E_logM\": null, \"e_logM\": 0.3}, {\"Name\": \"SDSS J121754.97+583935.6\", \"z\": 0.0233, \"sigma*\": 85.6, \"e_sigma*\": 14.0, \"n_sigma*\": null, \"FWHM\": 1970.0, \"e_FWHM\": 98.0, \"logL\": 40.92, \"e_logL\": 0.08, \"logM\": 6.4, \"E_logM\": null, \"e_logM\": 0.1}, {\"Name\": \"SDSS J122324.13+024044.4\", \"z\": 0.0236, \"sigma*\": 78.1, \"e_sigma*\": 15.0, \"n_sigma*\": null, \"FWHM\": 3880.0, \"e_FWHM\": 910.0, \"logL\": 41.62, \"e_logL\": 0.08, \"logM\": 7.3, \"E_logM\": null, \"e_logM\": 0.2}, {\"Name\": \"SDSS J123237.48+662452.3\", \"z\": 0.0468, \"sigma*\": 124.0, \"e_sigma*\": 9.0, \"n_sigma*\": null, \"FWHM\": 2620.0, \"e_FWHM\": 130.0, \"logL\": 41.86, \"e_logL\": 0.19, \"logM\": 7.1, \"E_logM\": null, \"e_logM\": 0.2}, {\"Name\": \"SDSS J130620.97+531823.1\", \"z\": 0.0237, \"sigma*\": 90.7, \"e_sigma*\": 11.0, \"n_sigma*\": null, \"FWHM\": 7620.0, \"e_FWHM\": 380.0, \"logL\": 40.58, \"e_logL\": 0.04, \"logM\": 7.3, \"E_logM\": null, \"e_logM\": 0.1}, {\"Name\": \"SDSS J131305.80+012755.9\", \"z\": 0.0294, \"sigma*\": 95.4, \"e_sigma*\": 13.0, \"n_sigma*\": null, \"FWHM\": 1590.0, \"e_FWHM\": 79.0, \"logL\": 40.62, \"e_logL\": 0.07, \"logM\": 6.0, \"E_logM\": null, \"e_logM\": 0.1}, {\"Name\": \"SDSS J132249.21+545528.2\", \"z\": 0.0653, \"sigma*\": 130.0, \"e_sigma*\": 13.0, \"n_sigma*\": \"a\", \"FWHM\": 4050.0, \"e_FWHM\": 200.0, \"logL\": 41.81, \"e_logL\": 0.07, \"logM\": 7.5, \"E_logM\": null, \"e_logM\": 0.1}, {\"Name\": \"SDSS J132340.31-012749.2\", \"z\": 0.0767, \"sigma*\": 114.0, \"e_sigma*\": 16.0, \"n_sigma*\": \"a\", \"FWHM\": 1910.0, \"e_FWHM\": 95.0, \"logL\": 41.55, \"e_logL\": 0.09, \"logM\": 6.7, \"E_logM\": null, \"e_logM\": 0.1}, {\"Name\": \"SDSS J134952.84+020445.1\", \"z\": 0.0328, \"sigma*\": 138.0, \"e_sigma*\": 13.0, \"n_sigma*\": null, \"FWHM\": 2590.0, \"e_FWHM\": 120.0, \"logL\": 41.62, \"e_logL\": 0.07, \"logM\": 7.0, \"E_logM\": null, \"e_logM\": 0.1}, {\"Name\": \"SDSS J140018.42+050242.2\", \"z\": 0.0342, \"sigma*\": 145.0, \"e_sigma*\": 14.0, \"n_sigma*\": null, \"FWHM\": 3340.0, \"e_FWHM\": 160.0, \"logL\": 41.23, \"e_logL\": 0.05, \"logM\": 7.1, \"E_logM\": null, \"e_logM\": 0.5}, {\"Name\": \"SDSS J140514.87-025901.2\", \"z\": 0.0542, \"sigma*\": 148.0, \"e_sigma*\": 15.0, \"n_sigma*\": \"a\", \"FWHM\": 2990.0, \"e_FWHM\": 140.0, \"logL\": 41.29, \"e_logL\": 0.06, \"logM\": 6.9, \"E_logM\": null, \"e_logM\": 0.3}, {\"Name\": \"SDSS J141630.81+013708.0\", \"z\": 0.0538, \"sigma*\": 121.0, \"e_sigma*\": 12.0, \"n_sigma*\": \"a\", \"FWHM\": 3180.0, \"e_FWHM\": 150.0, \"logL\": 41.1, \"e_logL\": 0.04, \"logM\": 6.9, \"E_logM\": null, \"e_logM\": 0.1}, {\"Name\": \"SDSS J143452.45+483942.7\", \"z\": 0.0365, \"sigma*\": 138.0, \"e_sigma*\": 15.0, \"n_sigma*\": null, \"FWHM\": 3210.0, \"e_FWHM\": 160.0, \"logL\": 41.84, \"e_logL\": 0.1, \"logM\": 7.3, \"E_logM\": null, \"e_logM\": 0.1}, {\"Name\": \"SDSS J144629.97+500130.5\", \"z\": 0.0427, \"sigma*\": 86.8, \"e_sigma*\": 19.0, \"n_sigma*\": null, \"FWHM\": 6450.0, \"e_FWHM\": 320.0, \"logL\": 40.73, \"e_logL\": 0.03, \"logM\": 7.3, \"E_logM\": null, \"e_logM\": 0.2}, {\"Name\": \"SDSS J145706.80+494008.4\", \"z\": 0.0134, \"sigma*\": 108.0, \"e_sigma*\": 11.0, \"n_sigma*\": null, \"FWHM\": 2270.0, \"e_FWHM\": 110.0, \"logL\": 40.46, \"e_logL\": 0.1, \"logM\": 6.3, \"E_logM\": null, \"e_logM\": 0.1}, {\"Name\": \"SDSS J145901.35+611353.5\", \"z\": 0.0388, \"sigma*\": 113.0, \"e_sigma*\": 13.0, \"n_sigma*\": null, \"FWHM\": 4140.0, \"e_FWHM\": 200.0, \"logL\": 41.18, \"e_logL\": 0.06, \"logM\": 7.2, \"E_logM\": null, \"e_logM\": 0.1}, {\"Name\": \"SDSS J150556.55+034226.3\", \"z\": 0.0359, \"sigma*\": 199.0, \"e_sigma*\": 18.0, \"n_sigma*\": \"a\", \"FWHM\": 4370.0, \"e_FWHM\": 210.0, \"logL\": 42.09, \"e_logL\": 0.1, \"logM\": 7.7, \"E_logM\": null, \"e_logM\": 0.1}, {\"Name\": \"SDSS J150745.00+512710.2\", \"z\": 0.0458, \"sigma*\": 139.0, \"e_sigma*\": 17.0, \"n_sigma*\": null, \"FWHM\": 3430.0, \"e_FWHM\": 170.0, \"logL\": 41.4, \"e_logL\": 0.04, \"logM\": 7.1, \"E_logM\": null, \"e_logM\": 0.1}, {\"Name\": \"SDSS J150853.95-001148.9\", \"z\": 0.0542, \"sigma*\": 163.0, \"e_sigma*\": 15.0, \"n_sigma*\": \"a\", \"FWHM\": 6190.0, \"e_FWHM\": 610.0, \"logL\": 41.51, \"e_logL\": 0.04, \"logM\": 7.8, \"E_logM\": null, \"e_logM\": 0.1}, {\"Name\": \"SDSS J152515.18+601409.0\", \"z\": 0.0783, \"sigma*\": 104.0, \"e_sigma*\": 11.0, \"n_sigma*\": \"a\", \"FWHM\": 2590.0, \"e_FWHM\": 120.0, \"logL\": 41.41, \"e_logL\": 0.09, \"logM\": 6.9, \"E_logM\": null, \"e_logM\": 0.1}, {\"Name\": \"SDSS J155417.43+323837.8\", \"z\": 0.0483, \"sigma*\": 120.0, \"e_sigma*\": 13.0, \"n_sigma*\": \"a\", \"FWHM\": 4200.0, \"e_FWHM\": 210.0, \"logL\": 41.86, \"e_logL\": 0.08, \"logM\": 7.5, \"E_logM\": null, \"e_logM\": 0.1}, {\"Name\": \"SDSS J161156.31+521116.8\", \"z\": 0.040999999999999995, \"sigma*\": 116.0, \"e_sigma*\": 10.0, \"n_sigma*\": null, \"FWHM\": 3760.0, \"e_FWHM\": 180.0, \"logL\": 41.09, \"e_logL\": 0.04, \"logM\": 7.0, \"E_logM\": null, \"e_logM\": 0.3}, {\"Name\": \"SDSS J161951.31+405847.2\", \"z\": 0.0379, \"sigma*\": 89.1, \"e_sigma*\": 20.0, \"n_sigma*\": null, \"FWHM\": 1700.0, \"e_FWHM\": 85.0, \"logL\": 40.99, \"e_logL\": 0.07, \"logM\": 6.3, \"E_logM\": null, \"e_logM\": 0.1}, {\"Name\": \"SDSS J170328.96+614109.9\", \"z\": 0.0772, \"sigma*\": 123.0, \"e_sigma*\": 13.0, \"n_sigma*\": \"a\", \"FWHM\": 4300.0, \"e_FWHM\": 210.0, \"logL\": 41.92, \"e_logL\": 0.05, \"logM\": 7.6, \"E_logM\": null, \"e_logM\": 0.1}, {\"Name\": \"SDSS J171550.49+593548.7\", \"z\": 0.0657, \"sigma*\": 146.0, \"e_sigma*\": 13.0, \"n_sigma*\": \"a\", \"FWHM\": 3500.0, \"e_FWHM\": 170.0, \"logL\": 41.24, \"e_logL\": 0.05, \"logM\": 7.0, \"E_logM\": null, \"e_logM\": 0.1}, {\"Name\": \"SDSS J212401.90-002158.7\", \"z\": 0.0619, \"sigma*\": 110.0, \"e_sigma*\": 15.0, \"n_sigma*\": \"a\", \"FWHM\": 2620.0, \"e_FWHM\": 130.0, \"logL\": 41.41, \"e_logL\": 0.06, \"logM\": 6.9, \"E_logM\": null, \"e_logM\": 0.1}, {\"Name\": \"SDSS J222435.29-001103.8\", \"z\": 0.0581, \"sigma*\": 111.0, \"e_sigma*\": 19.0, \"n_sigma*\": \"a\", \"FWHM\": 2290.0, \"e_FWHM\": 1190.0, \"logL\": 41.83, \"e_logL\": 0.17, \"logM\": 7.0, \"E_logM\": null, \"e_logM\": 0.4}, {\"Name\": \"SDSS J223000.37-094622.1\", \"z\": 0.0727, \"sigma*\": 112.0, \"e_sigma*\": 13.0, \"n_sigma*\": \"a\", \"FWHM\": 3630.0, \"e_FWHM\": 180.0, \"logL\": 41.21, \"e_logL\": 0.04, \"logM\": 7.1, \"E_logM\": null, \"e_logM\": 0.1}, {\"Name\": \"SDSS J232721.96+152437.3\", \"z\": 0.0457, \"sigma*\": 193.0, \"e_sigma*\": 18.0, \"n_sigma*\": null, \"FWHM\": 7540.0, \"e_FWHM\": 750.0, \"logL\": 41.65, \"e_logL\": 0.06, \"logM\": 7.9, \"E_logM\": null, \"e_logM\": 0.1}, {\"Name\": \"SDSS J235128.78+155259.0\", \"z\": 0.0963, \"sigma*\": 193.0, \"e_sigma*\": 22.0, \"n_sigma*\": \"a\", \"FWHM\": 8240.0, \"e_FWHM\": 410.0, \"logL\": 41.87, \"e_logL\": 0.04, \"logM\": 8.2, \"E_logM\": null, \"e_logM\": 0.2}, {\"Name\": \"SDSS J010712.03+140844.9\", \"z\": 0.0768, \"sigma*\": 36.0, \"e_sigma*\": 6.0, \"n_sigma*\": \"b\", \"FWHM\": 880.0, \"e_FWHM\": 170.0, \"logL\": 42.57, \"e_logL\": 0.2, \"logM\": 5.8, \"E_logM\": null, \"e_logM\": 0.2}, {\"Name\": \"SDSS J024912.86-081525.6\", \"z\": 0.0294, \"sigma*\": 50.0, \"e_sigma*\": 4.0, \"n_sigma*\": \"b\", \"FWHM\": 840.0, \"e_FWHM\": 320.0, \"logL\": 41.93, \"e_logL\": 0.08, \"logM\": 5.1, \"E_logM\": null, \"e_logM\": 0.3}, {\"Name\": \"SDSS J032515.59+003408.4\", \"z\": 0.102, \"sigma*\": 55.0, \"e_sigma*\": 6.0, \"n_sigma*\": \"b\", \"FWHM\": 990.0, \"e_FWHM\": 49.0, \"logL\": 42.03, \"e_logL\": 0.12, \"logM\": 5.8, \"E_logM\": null, \"e_logM\": 0.1}, {\"Name\": \"SDSS J080907.58+441641.4\", \"z\": 0.0539, \"sigma*\": 65.0, \"e_sigma*\": 4.0, \"n_sigma*\": \"b\", \"FWHM\": 940.0, \"e_FWHM\": 180.0, \"logL\": 40.47, \"e_logL\": 0.04, \"logM\": 5.5, \"E_logM\": null, \"e_logM\": 0.8}, {\"Name\": \"SDSS J082912.67+500652.3\", \"z\": 0.0434, \"sigma*\": 60.0, \"e_sigma*\": 4.0, \"n_sigma*\": \"b\", \"FWHM\": 840.0, \"e_FWHM\": 41.0, \"logL\": 42.14, \"e_logL\": 0.06, \"logM\": 5.7, \"E_logM\": null, \"e_logM\": 0.1}, {\"Name\": \"SDSS J101108.40+002908.7\", \"z\": 0.1, \"sigma*\": 48.0, \"e_sigma*\": 7.0, \"n_sigma*\": \"b\", \"FWHM\": 1460.0, \"e_FWHM\": 72.0, \"logL\": 42.68, \"e_logL\": 0.19, \"logM\": 6.2, \"E_logM\": null, \"e_logM\": 0.3}, {\"Name\": \"SDSS J101627.32-000714.5\", \"z\": 0.0944, \"sigma*\": 39.0, \"e_sigma*\": 6.0, \"n_sigma*\": \"b\", \"FWHM\": 1520.0, \"e_FWHM\": 75.0, \"logL\": 42.57, \"e_logL\": 0.17, \"logM\": 6.1, \"E_logM\": null, \"e_logM\": 0.2}, {\"Name\": \"SDSS J124035.81-002919.4\", \"z\": 0.0809, \"sigma*\": 49.0, \"e_sigma*\": 7.0, \"n_sigma*\": \"b\", \"FWHM\": 1720.0, \"e_FWHM\": 85.0, \"logL\": 42.35, \"e_logL\": 0.11, \"logM\": 6.6, \"E_logM\": null, \"e_logM\": 0.6}, {\"Name\": \"SDSS J125055.28-015556.6\", \"z\": 0.0814, \"sigma*\": 64.0, \"e_sigma*\": 6.0, \"n_sigma*\": \"b\", \"FWHM\": 1980.0, \"e_FWHM\": 99.0, \"logL\": 42.75, \"e_logL\": 0.14, \"logM\": 6.5, \"E_logM\": null, \"e_logM\": 0.1}, {\"Name\": \"SDSS J143450.62+033842.5\", \"z\": 0.0282, \"sigma*\": 48.0, \"e_sigma*\": 7.0, \"n_sigma*\": \"b\", \"FWHM\": 1480.0, \"e_FWHM\": 73.0, \"logL\": 41.87, \"e_logL\": 0.16, \"logM\": 5.6, \"E_logM\": null, \"e_logM\": 0.1}, {\"Name\": \"SDSS J170246.09+602818.9\", \"z\": 0.0689, \"sigma*\": 69.0, \"e_sigma*\": 6.0, \"n_sigma*\": \"b\", \"FWHM\": 3270.0, \"e_FWHM\": 160.0, \"logL\": 42.67, \"e_logL\": 0.16, \"logM\": 6.9, \"E_logM\": null, \"e_logM\": 0.2}, {\"Name\": \"SDSS J172759.15+542147.0\", \"z\": 0.0995, \"sigma*\": 58.0, \"e_sigma*\": 7.0, \"n_sigma*\": \"b\", \"FWHM\": 810.0, \"e_FWHM\": 400.0, \"logL\": 42.19, \"e_logL\": 0.09, \"logM\": 5.6, \"E_logM\": null, \"e_logM\": 0.5}, {\"Name\": \"SDSS J215658.30+110343.1\", \"z\": 0.10800000000000001, \"sigma*\": 81.0, \"e_sigma*\": 8.0, \"n_sigma*\": \"b\", \"FWHM\": 1430.0, \"e_FWHM\": 280.0, \"logL\": 41.22, \"e_logL\": 0.03, \"logM\": 6.3, \"E_logM\": null, \"e_logM\": 0.8}, {\"Name\": \"SDSS J232159.06+000738.8\", \"z\": 0.184, \"sigma*\": 81.0, \"e_sigma*\": 9.0, \"n_sigma*\": \"b\", \"FWHM\": 2520.0, \"e_FWHM\": 120.0, \"logL\": 42.96, \"e_logL\": 0.1, \"logM\": 6.7, \"E_logM\": null, \"e_logM\": 0.2}, {\"Name\": \"SDSS J233837.10-002810.3\", \"z\": 0.0356, \"sigma*\": 58.0, \"e_sigma*\": 4.0, \"n_sigma*\": \"b\", \"FWHM\": 1740.0, \"e_FWHM\": 86.0, \"logL\": 43.61, \"e_logL\": 0.13, \"logM\": 5.8, \"E_logM\": null, \"e_logM\": 0.1}, {\"Name\": \"3C 120\", \"z\": 0.033, \"sigma*\": 162.0, \"e_sigma*\": 24.0, \"n_sigma*\": \"b\", \"FWHM\": null, \"e_FWHM\": null, \"logL\": null, \"e_logL\": null, \"logM\": 7.43, \"E_logM\": 0.2, \"e_logM\": 0.25}, {\"Name\": \"3C 390.3\", \"z\": 0.0561, \"sigma*\": 268.0, \"e_sigma*\": 15.0, \"n_sigma*\": null, \"FWHM\": null, \"e_FWHM\": null, \"logL\": null, \"e_logL\": null, \"logM\": 8.52, \"E_logM\": 0.09, \"e_logM\": 0.12}, {\"Name\": \"Akn 120\", \"z\": 0.0323, \"sigma*\": 224.0, \"e_sigma*\": 15.0, \"n_sigma*\": null, \"FWHM\": null, \"e_FWHM\": null, \"logL\": null, \"e_logL\": null, \"logM\": 8.2, \"E_logM\": 0.05, \"e_logM\": 0.07}, {\"Name\": \"Mrk 79\", \"z\": 0.0222, \"sigma*\": 130.0, \"e_sigma*\": 10.0, \"n_sigma*\": null, \"FWHM\": null, \"e_FWHM\": null, \"logL\": null, \"e_logL\": null, \"logM\": 7.67, \"E_logM\": 0.11, \"e_logM\": 0.15}, {\"Name\": \"Mrk 110\", \"z\": 0.0353, \"sigma*\": 87.1, \"e_sigma*\": 12.0, \"n_sigma*\": null, \"FWHM\": null, \"e_FWHM\": null, \"logL\": null, \"e_logL\": null, \"logM\": 6.97, \"E_logM\": 0.11, \"e_logM\": 0.15}, {\"Name\": \"Mrk 279\", \"z\": 0.0305, \"sigma*\": 197.0, \"e_sigma*\": 12.0, \"n_sigma*\": null, \"FWHM\": null, \"e_FWHM\": null, \"logL\": null, \"e_logL\": null, \"logM\": 7.45, \"E_logM\": 0.12, \"e_logM\": 0.16}, {\"Name\": \"Mrk 590\", \"z\": 0.0264, \"sigma*\": 189.0, \"e_sigma*\": 5.7, \"n_sigma*\": null, \"FWHM\": null, \"e_FWHM\": null, \"logL\": null, \"e_logL\": null, \"logM\": 7.2, \"E_logM\": 0.11, \"e_logM\": 0.15}, {\"Name\": \"Mrk 817\", \"z\": 0.0315, \"sigma*\": 127.0, \"e_sigma*\": 12.0, \"n_sigma*\": null, \"FWHM\": null, \"e_FWHM\": null, \"logL\": null, \"e_logL\": null, \"logM\": 7.62, \"E_logM\": 0.08, \"e_logM\": 0.1}, {\"Name\": \"NGC 3227\", \"z\": 0.00386, \"sigma*\": 135.0, \"e_sigma*\": 3.8, \"n_sigma*\": null, \"FWHM\": null, \"e_FWHM\": null, \"logL\": null, \"e_logL\": null, \"logM\": 7.47, \"E_logM\": 0.24, \"e_logM\": 1.06}, {\"Name\": \"NGC 3516\", \"z\": 0.00884, \"sigma*\": 181.0, \"e_sigma*\": 4.9, \"n_sigma*\": \"b\", \"FWHM\": null, \"e_FWHM\": null, \"logL\": null, \"e_logL\": null, \"logM\": 7.04, \"E_logM\": 0.31, \"e_logM\": 0.39}, {\"Name\": \"NGC 3783\", \"z\": 0.009729999999999999, \"sigma*\": 95.0, \"e_sigma*\": 10.0, \"n_sigma*\": null, \"FWHM\": null, \"e_FWHM\": null, \"logL\": null, \"e_logL\": null, \"logM\": 7.16, \"E_logM\": 0.17, \"e_logM\": 0.23}, {\"Name\": \"NGC 4051\", \"z\": 0.00234, \"sigma*\": 88.9, \"e_sigma*\": 2.9, \"n_sigma*\": null, \"FWHM\": null, \"e_FWHM\": null, \"logL\": null, \"e_logL\": null, \"logM\": 5.99, \"E_logM\": 0.17, \"e_logM\": 0.2}, {\"Name\": \"NGC 4151\", \"z\": 0.0033200000000000005, \"sigma*\": 96.8, \"e_sigma*\": 2.9, \"n_sigma*\": null, \"FWHM\": null, \"e_FWHM\": null, \"logL\": null, \"e_logL\": null, \"logM\": 6.91, \"E_logM\": 0.17, \"e_logM\": 0.29}, {\"Name\": \"NGC 5548\", \"z\": 0.0172, \"sigma*\": 198.0, \"e_sigma*\": 11.0, \"n_sigma*\": null, \"FWHM\": null, \"e_FWHM\": null, \"logL\": null, \"e_logL\": null, \"logM\": 7.81, \"E_logM\": 0.02, \"e_logM\": 0.02}, {\"Name\": \"NGC 7469\", \"z\": 0.0163, \"sigma*\": 133.0, \"e_sigma*\": 4.8, \"n_sigma*\": null, \"FWHM\": null, \"e_FWHM\": null, \"logL\": null, \"e_logL\": null, \"logM\": 6.49, \"E_logM\": 0.16, \"e_logM\": 0.27}, {\"Name\": \"POX 52\", \"z\": 0.0218, \"sigma*\": 36.0, \"e_sigma*\": 5.0, \"n_sigma*\": null, \"FWHM\": null, \"e_FWHM\": null, \"logL\": null, \"e_logL\": null, \"logM\": 5.2, \"E_logM\": null, \"e_logM\": 0.3}, {\"Name\": \"NGC 4395\", \"z\": 0.000947, \"sigma*\": 30.0, \"e_sigma*\": 5.0, \"n_sigma*\": null, \"FWHM\": null, \"e_FWHM\": null, \"logL\": null, \"e_logL\": null, \"logM\": 4.9, \"E_logM\": null, \"e_logM\": 0.4}]}}, {\"mode\": \"vega-lite\"});\n",
       "</script>"
      ],
      "text/plain": [
       "alt.Chart(...)"
      ]
     },
     "execution_count": 14,
     "metadata": {
      "tags": []
     },
     "output_type": "execute_result"
    }
   ],
   "source": [
    "alt.Chart(df).mark_point().encode(\n",
    "    x = 'z',\n",
    "    y = 'logM'\n",
    ")"
   ]
  },
  {
   "cell_type": "markdown",
   "metadata": {
    "id": "ka76PIY8QkVo"
   },
   "source": [
    "Another way to designate the data in the axes is"
   ]
  },
  {
   "cell_type": "code",
   "execution_count": null,
   "metadata": {
    "colab": {
     "base_uri": "https://localhost:8080/",
     "height": 368
    },
    "executionInfo": {
     "elapsed": 802,
     "status": "ok",
     "timestamp": 1609124065745,
     "user": {
      "displayName": "Eduard Alexis Larranaga",
      "photoUrl": "https://lh3.googleusercontent.com/a-/AOh14GgCVABzEgj-rCdyxWa29RnA0kIYUCXAaVbnRYOEhQ=s64",
      "userId": "04402438389940282602"
     },
     "user_tz": 300
    },
    "id": "PUa3Sb55QkVp",
    "outputId": "beca09ce-6f15-47f1-b188-e7994680f06b"
   },
   "outputs": [
    {
     "data": {
      "text/html": [
       "\n",
       "<div id=\"altair-viz-870248d4852c4f31827a6e6d6f4263bf\"></div>\n",
       "<script type=\"text/javascript\">\n",
       "  (function(spec, embedOpt){\n",
       "    let outputDiv = document.currentScript.previousElementSibling;\n",
       "    if (outputDiv.id !== \"altair-viz-870248d4852c4f31827a6e6d6f4263bf\") {\n",
       "      outputDiv = document.getElementById(\"altair-viz-870248d4852c4f31827a6e6d6f4263bf\");\n",
       "    }\n",
       "    const paths = {\n",
       "      \"vega\": \"https://cdn.jsdelivr.net/npm//vega@5?noext\",\n",
       "      \"vega-lib\": \"https://cdn.jsdelivr.net/npm//vega-lib?noext\",\n",
       "      \"vega-lite\": \"https://cdn.jsdelivr.net/npm//vega-lite@4.8.1?noext\",\n",
       "      \"vega-embed\": \"https://cdn.jsdelivr.net/npm//vega-embed@6?noext\",\n",
       "    };\n",
       "\n",
       "    function loadScript(lib) {\n",
       "      return new Promise(function(resolve, reject) {\n",
       "        var s = document.createElement('script');\n",
       "        s.src = paths[lib];\n",
       "        s.async = true;\n",
       "        s.onload = () => resolve(paths[lib]);\n",
       "        s.onerror = () => reject(`Error loading script: ${paths[lib]}`);\n",
       "        document.getElementsByTagName(\"head\")[0].appendChild(s);\n",
       "      });\n",
       "    }\n",
       "\n",
       "    function showError(err) {\n",
       "      outputDiv.innerHTML = `<div class=\"error\" style=\"color:red;\">${err}</div>`;\n",
       "      throw err;\n",
       "    }\n",
       "\n",
       "    function displayChart(vegaEmbed) {\n",
       "      vegaEmbed(outputDiv, spec, embedOpt)\n",
       "        .catch(err => showError(`Javascript Error: ${err.message}<br>This usually means there's a typo in your chart specification. See the javascript console for the full traceback.`));\n",
       "    }\n",
       "\n",
       "    if(typeof define === \"function\" && define.amd) {\n",
       "      requirejs.config({paths});\n",
       "      require([\"vega-embed\"], displayChart, err => showError(`Error loading script: ${err.message}`));\n",
       "    } else if (typeof vegaEmbed === \"function\") {\n",
       "      displayChart(vegaEmbed);\n",
       "    } else {\n",
       "      loadScript(\"vega\")\n",
       "        .then(() => loadScript(\"vega-lite\"))\n",
       "        .then(() => loadScript(\"vega-embed\"))\n",
       "        .catch(showError)\n",
       "        .then(() => displayChart(vegaEmbed));\n",
       "    }\n",
       "  })({\"config\": {\"view\": {\"continuousWidth\": 400, \"continuousHeight\": 300}}, \"data\": {\"name\": \"data-54b58a4aa74e295879badff738f3e9c4\"}, \"mark\": {\"type\": \"point\", \"filled\": true}, \"encoding\": {\"x\": {\"type\": \"quantitative\", \"field\": \"z\"}, \"y\": {\"type\": \"quantitative\", \"field\": \"logM\"}}, \"$schema\": \"https://vega.github.io/schema/vega-lite/v4.8.1.json\", \"datasets\": {\"data-54b58a4aa74e295879badff738f3e9c4\": [{\"Name\": \"SDSS J000805.62+145023.4\", \"z\": 0.0454, \"sigma*\": 140.0, \"e_sigma*\": 27.0, \"n_sigma*\": null, \"FWHM\": 7610.0, \"e_FWHM\": 380.0, \"logL\": 41.13, \"e_logL\": 0.04, \"logM\": 7.7, \"E_logM\": null, \"e_logM\": 0.1}, {\"Name\": \"SDSS J004236.86-104921.8\", \"z\": 0.0419, \"sigma*\": 78.4, \"e_sigma*\": 10.0, \"n_sigma*\": null, \"FWHM\": 1960.0, \"e_FWHM\": 97.0, \"logL\": 41.58, \"e_logL\": 0.14, \"logM\": 6.7, \"E_logM\": null, \"e_logM\": 0.1}, {\"Name\": \"SDSS J011703.58+000027.3\", \"z\": 0.0456, \"sigma*\": 98.8, \"e_sigma*\": 16.0, \"n_sigma*\": null, \"FWHM\": 2270.0, \"e_FWHM\": 110.0, \"logL\": 41.45, \"e_logL\": 0.08, \"logM\": 6.8, \"E_logM\": null, \"e_logM\": 0.1}, {\"Name\": \"SDSS J020459.25-080816.0\", \"z\": 0.0772, \"sigma*\": 121.0, \"e_sigma*\": 9.4, \"n_sigma*\": \"a\", \"FWHM\": 3720.0, \"e_FWHM\": 180.0, \"logL\": 41.13, \"e_logL\": 0.05, \"logM\": 7.0, \"E_logM\": null, \"e_logM\": 0.1}, {\"Name\": \"SDSS J020615.99-001729.1\", \"z\": 0.0426, \"sigma*\": 216.0, \"e_sigma*\": 30.0, \"n_sigma*\": null, \"FWHM\": 3860.0, \"e_FWHM\": 190.0, \"logL\": 41.91, \"e_logL\": 0.07, \"logM\": 7.5, \"E_logM\": null, \"e_logM\": 0.1}, {\"Name\": \"SDSS J021011.49-090335.5\", \"z\": 0.0414, \"sigma*\": 122.0, \"e_sigma*\": 12.0, \"n_sigma*\": \"a\", \"FWHM\": 2450.0, \"e_FWHM\": 120.0, \"logL\": 41.24, \"e_logL\": 0.07, \"logM\": 6.7, \"E_logM\": null, \"e_logM\": 0.1}, {\"Name\": \"SDSS J021257.59+140610.1\", \"z\": 0.0618, \"sigma*\": 174.0, \"e_sigma*\": 12.0, \"n_sigma*\": \"a\", \"FWHM\": 3080.0, \"e_FWHM\": 150.0, \"logL\": 41.58, \"e_logL\": 0.06, \"logM\": 7.1, \"E_logM\": null, \"e_logM\": 0.1}, {\"Name\": \"SDSS J033013.26-053236.0\", \"z\": 0.0131, \"sigma*\": 99.2, \"e_sigma*\": 11.0, \"n_sigma*\": null, \"FWHM\": 5160.0, \"e_FWHM\": 250.0, \"logL\": 40.45, \"e_logL\": 0.06, \"logM\": 7.0, \"E_logM\": null, \"e_logM\": 0.1}, {\"Name\": \"SDSS J075057.25+353037.5\", \"z\": 0.17600000000000002, \"sigma*\": 154.0, \"e_sigma*\": 14.0, \"n_sigma*\": \"a\", \"FWHM\": 2970.0, \"e_FWHM\": 200.0, \"logL\": 41.63, \"e_logL\": 0.03, \"logM\": 7.2, \"E_logM\": null, \"e_logM\": 0.1}, {\"Name\": \"SDSS J080243.39+310403.3\", \"z\": 0.0409, \"sigma*\": 151.0, \"e_sigma*\": 17.0, \"n_sigma*\": null, \"FWHM\": 5360.0, \"e_FWHM\": 260.0, \"logL\": 41.67, \"e_logL\": 0.07, \"logM\": 7.6, \"E_logM\": null, \"e_logM\": 0.1}, {\"Name\": \"SDSS J080538.66+261005.4\", \"z\": 0.017, \"sigma*\": 100.0, \"e_sigma*\": 14.0, \"n_sigma*\": null, \"FWHM\": 3110.0, \"e_FWHM\": 150.0, \"logL\": 40.14, \"e_logL\": 0.04, \"logM\": 6.3, \"E_logM\": null, \"e_logM\": 0.2}, {\"Name\": \"SDSS J082510.23+375919.7\", \"z\": 0.0214, \"sigma*\": 98.7, \"e_sigma*\": 12.0, \"n_sigma*\": null, \"FWHM\": 1830.0, \"e_FWHM\": 91.0, \"logL\": 40.42, \"e_logL\": 0.04, \"logM\": 6.0, \"E_logM\": null, \"e_logM\": 0.1}, {\"Name\": \"SDSS J083202.16+461425.7\", \"z\": 0.0459, \"sigma*\": 104.0, \"e_sigma*\": 13.0, \"n_sigma*\": null, \"FWHM\": 1450.0, \"e_FWHM\": 72.0, \"logL\": 41.17, \"e_logL\": 0.08, \"logM\": 6.2, \"E_logM\": null, \"e_logM\": 0.1}, {\"Name\": \"SDSS J083949.64+484701.4\", \"z\": 0.0394, \"sigma*\": 133.0, \"e_sigma*\": 12.0, \"n_sigma*\": null, \"FWHM\": 1480.0, \"e_FWHM\": 73.0, \"logL\": 41.31, \"e_logL\": 0.08, \"logM\": 6.3, \"E_logM\": null, \"e_logM\": 0.2}, {\"Name\": \"SDSS J085554.27+005110.9\", \"z\": 0.0524, \"sigma*\": 118.0, \"e_sigma*\": 11.0, \"n_sigma*\": \"a\", \"FWHM\": 2910.0, \"e_FWHM\": 140.0, \"logL\": 41.27, \"e_logL\": 0.06, \"logM\": 6.9, \"E_logM\": null, \"e_logM\": 0.1}, {\"Name\": \"SDSS J092438.88+560746.9\", \"z\": 0.025, \"sigma*\": 135.0, \"e_sigma*\": 10.0, \"n_sigma*\": null, \"FWHM\": 1900.0, \"e_FWHM\": 94.0, \"logL\": 40.72, \"e_logL\": 0.07, \"logM\": 6.2, \"E_logM\": null, \"e_logM\": 0.4}, {\"Name\": \"SDSS J093259.60+040506.0\", \"z\": 0.059000000000000004, \"sigma*\": 70.5, \"e_sigma*\": 6.7, \"n_sigma*\": \"a\", \"FWHM\": 3550.0, \"e_FWHM\": 170.0, \"logL\": 41.14, \"e_logL\": 0.05, \"logM\": 7.0, \"E_logM\": null, \"e_logM\": 0.1}, {\"Name\": \"SDSS J093812.26+074340.0\", \"z\": 0.0219, \"sigma*\": 119.0, \"e_sigma*\": 8.0, \"n_sigma*\": null, \"FWHM\": 3640.0, \"e_FWHM\": 180.0, \"logL\": 40.8, \"e_logL\": 0.05, \"logM\": 6.8, \"E_logM\": null, \"e_logM\": 0.1}, {\"Name\": \"SDSS J094838.42+403043.7\", \"z\": 0.047, \"sigma*\": 91.4, \"e_sigma*\": 16.0, \"n_sigma*\": null, \"FWHM\": 3020.0, \"e_FWHM\": 150.0, \"logL\": 41.46, \"e_logL\": 0.07, \"logM\": 7.0, \"E_logM\": null, \"e_logM\": 0.1}, {\"Name\": \"SDSS J101912.57+635802.7\", \"z\": 0.0414, \"sigma*\": 239.0, \"e_sigma*\": 13.0, \"n_sigma*\": null, \"FWHM\": 3630.0, \"e_FWHM\": 180.0, \"logL\": 41.74, \"e_logL\": 0.08, \"logM\": 7.4, \"E_logM\": null, \"e_logM\": 0.1}, {\"Name\": \"SDSS J102044.43+013048.4\", \"z\": 0.0962, \"sigma*\": 103.0, \"e_sigma*\": 8.8, \"n_sigma*\": \"a\", \"FWHM\": 5200.0, \"e_FWHM\": 250.0, \"logL\": 41.51, \"e_logL\": 0.04, \"logM\": 7.6, \"E_logM\": null, \"e_logM\": 0.1}, {\"Name\": \"SDSS J110640.20+051905.6\", \"z\": 0.0913, \"sigma*\": 140.0, \"e_sigma*\": 15.0, \"n_sigma*\": \"a\", \"FWHM\": 5830.0, \"e_FWHM\": 290.0, \"logL\": 41.65, \"e_logL\": 0.04, \"logM\": 7.7, \"E_logM\": null, \"e_logM\": 0.1}, {\"Name\": \"SDSS J112536.16+542257.1\", \"z\": 0.0206, \"sigma*\": 124.0, \"e_sigma*\": 12.0, \"n_sigma*\": null, \"FWHM\": 2950.0, \"e_FWHM\": 140.0, \"logL\": 41.17, \"e_logL\": 0.08, \"logM\": 6.8, \"E_logM\": null, \"e_logM\": 0.1}, {\"Name\": \"SDSS J112841.00+575006.5\", \"z\": 0.0513, \"sigma*\": 159.0, \"e_sigma*\": 18.0, \"n_sigma*\": \"a\", \"FWHM\": 2660.0, \"e_FWHM\": 130.0, \"logL\": 41.66, \"e_logL\": 0.09, \"logM\": 7.0, \"E_logM\": null, \"e_logM\": 0.1}, {\"Name\": \"SDSS J120257.81+045045.0\", \"z\": 0.0207, \"sigma*\": 102.0, \"e_sigma*\": 20.0, \"n_sigma*\": null, \"FWHM\": 2250.0, \"e_FWHM\": 110.0, \"logL\": 40.1, \"e_logL\": 0.06, \"logM\": 6.0, \"E_logM\": null, \"e_logM\": 0.1}, {\"Name\": \"SDSS J120556.01+495956.1\", \"z\": 0.0631, \"sigma*\": 107.0, \"e_sigma*\": 11.0, \"n_sigma*\": \"a\", \"FWHM\": 5610.0, \"e_FWHM\": 450.0, \"logL\": 41.57, \"e_logL\": 0.04, \"logM\": 7.7, \"E_logM\": null, \"e_logM\": 0.1}, {\"Name\": \"SDSS J121607.09+504930.0\", \"z\": 0.0308, \"sigma*\": 138.0, \"e_sigma*\": 13.0, \"n_sigma*\": null, \"FWHM\": 5580.0, \"e_FWHM\": 270.0, \"logL\": 41.3, \"e_logL\": 0.06, \"logM\": 7.5, \"E_logM\": null, \"e_logM\": 0.3}, {\"Name\": \"SDSS J121754.97+583935.6\", \"z\": 0.0233, \"sigma*\": 85.6, \"e_sigma*\": 14.0, \"n_sigma*\": null, \"FWHM\": 1970.0, \"e_FWHM\": 98.0, \"logL\": 40.92, \"e_logL\": 0.08, \"logM\": 6.4, \"E_logM\": null, \"e_logM\": 0.1}, {\"Name\": \"SDSS J122324.13+024044.4\", \"z\": 0.0236, \"sigma*\": 78.1, \"e_sigma*\": 15.0, \"n_sigma*\": null, \"FWHM\": 3880.0, \"e_FWHM\": 910.0, \"logL\": 41.62, \"e_logL\": 0.08, \"logM\": 7.3, \"E_logM\": null, \"e_logM\": 0.2}, {\"Name\": \"SDSS J123237.48+662452.3\", \"z\": 0.0468, \"sigma*\": 124.0, \"e_sigma*\": 9.0, \"n_sigma*\": null, \"FWHM\": 2620.0, \"e_FWHM\": 130.0, \"logL\": 41.86, \"e_logL\": 0.19, \"logM\": 7.1, \"E_logM\": null, \"e_logM\": 0.2}, {\"Name\": \"SDSS J130620.97+531823.1\", \"z\": 0.0237, \"sigma*\": 90.7, \"e_sigma*\": 11.0, \"n_sigma*\": null, \"FWHM\": 7620.0, \"e_FWHM\": 380.0, \"logL\": 40.58, \"e_logL\": 0.04, \"logM\": 7.3, \"E_logM\": null, \"e_logM\": 0.1}, {\"Name\": \"SDSS J131305.80+012755.9\", \"z\": 0.0294, \"sigma*\": 95.4, \"e_sigma*\": 13.0, \"n_sigma*\": null, \"FWHM\": 1590.0, \"e_FWHM\": 79.0, \"logL\": 40.62, \"e_logL\": 0.07, \"logM\": 6.0, \"E_logM\": null, \"e_logM\": 0.1}, {\"Name\": \"SDSS J132249.21+545528.2\", \"z\": 0.0653, \"sigma*\": 130.0, \"e_sigma*\": 13.0, \"n_sigma*\": \"a\", \"FWHM\": 4050.0, \"e_FWHM\": 200.0, \"logL\": 41.81, \"e_logL\": 0.07, \"logM\": 7.5, \"E_logM\": null, \"e_logM\": 0.1}, {\"Name\": \"SDSS J132340.31-012749.2\", \"z\": 0.0767, \"sigma*\": 114.0, \"e_sigma*\": 16.0, \"n_sigma*\": \"a\", \"FWHM\": 1910.0, \"e_FWHM\": 95.0, \"logL\": 41.55, \"e_logL\": 0.09, \"logM\": 6.7, \"E_logM\": null, \"e_logM\": 0.1}, {\"Name\": \"SDSS J134952.84+020445.1\", \"z\": 0.0328, \"sigma*\": 138.0, \"e_sigma*\": 13.0, \"n_sigma*\": null, \"FWHM\": 2590.0, \"e_FWHM\": 120.0, \"logL\": 41.62, \"e_logL\": 0.07, \"logM\": 7.0, \"E_logM\": null, \"e_logM\": 0.1}, {\"Name\": \"SDSS J140018.42+050242.2\", \"z\": 0.0342, \"sigma*\": 145.0, \"e_sigma*\": 14.0, \"n_sigma*\": null, \"FWHM\": 3340.0, \"e_FWHM\": 160.0, \"logL\": 41.23, \"e_logL\": 0.05, \"logM\": 7.1, \"E_logM\": null, \"e_logM\": 0.5}, {\"Name\": \"SDSS J140514.87-025901.2\", \"z\": 0.0542, \"sigma*\": 148.0, \"e_sigma*\": 15.0, \"n_sigma*\": \"a\", \"FWHM\": 2990.0, \"e_FWHM\": 140.0, \"logL\": 41.29, \"e_logL\": 0.06, \"logM\": 6.9, \"E_logM\": null, \"e_logM\": 0.3}, {\"Name\": \"SDSS J141630.81+013708.0\", \"z\": 0.0538, \"sigma*\": 121.0, \"e_sigma*\": 12.0, \"n_sigma*\": \"a\", \"FWHM\": 3180.0, \"e_FWHM\": 150.0, \"logL\": 41.1, \"e_logL\": 0.04, \"logM\": 6.9, \"E_logM\": null, \"e_logM\": 0.1}, {\"Name\": \"SDSS J143452.45+483942.7\", \"z\": 0.0365, \"sigma*\": 138.0, \"e_sigma*\": 15.0, \"n_sigma*\": null, \"FWHM\": 3210.0, \"e_FWHM\": 160.0, \"logL\": 41.84, \"e_logL\": 0.1, \"logM\": 7.3, \"E_logM\": null, \"e_logM\": 0.1}, {\"Name\": \"SDSS J144629.97+500130.5\", \"z\": 0.0427, \"sigma*\": 86.8, \"e_sigma*\": 19.0, \"n_sigma*\": null, \"FWHM\": 6450.0, \"e_FWHM\": 320.0, \"logL\": 40.73, \"e_logL\": 0.03, \"logM\": 7.3, \"E_logM\": null, \"e_logM\": 0.2}, {\"Name\": \"SDSS J145706.80+494008.4\", \"z\": 0.0134, \"sigma*\": 108.0, \"e_sigma*\": 11.0, \"n_sigma*\": null, \"FWHM\": 2270.0, \"e_FWHM\": 110.0, \"logL\": 40.46, \"e_logL\": 0.1, \"logM\": 6.3, \"E_logM\": null, \"e_logM\": 0.1}, {\"Name\": \"SDSS J145901.35+611353.5\", \"z\": 0.0388, \"sigma*\": 113.0, \"e_sigma*\": 13.0, \"n_sigma*\": null, \"FWHM\": 4140.0, \"e_FWHM\": 200.0, \"logL\": 41.18, \"e_logL\": 0.06, \"logM\": 7.2, \"E_logM\": null, \"e_logM\": 0.1}, {\"Name\": \"SDSS J150556.55+034226.3\", \"z\": 0.0359, \"sigma*\": 199.0, \"e_sigma*\": 18.0, \"n_sigma*\": \"a\", \"FWHM\": 4370.0, \"e_FWHM\": 210.0, \"logL\": 42.09, \"e_logL\": 0.1, \"logM\": 7.7, \"E_logM\": null, \"e_logM\": 0.1}, {\"Name\": \"SDSS J150745.00+512710.2\", \"z\": 0.0458, \"sigma*\": 139.0, \"e_sigma*\": 17.0, \"n_sigma*\": null, \"FWHM\": 3430.0, \"e_FWHM\": 170.0, \"logL\": 41.4, \"e_logL\": 0.04, \"logM\": 7.1, \"E_logM\": null, \"e_logM\": 0.1}, {\"Name\": \"SDSS J150853.95-001148.9\", \"z\": 0.0542, \"sigma*\": 163.0, \"e_sigma*\": 15.0, \"n_sigma*\": \"a\", \"FWHM\": 6190.0, \"e_FWHM\": 610.0, \"logL\": 41.51, \"e_logL\": 0.04, \"logM\": 7.8, \"E_logM\": null, \"e_logM\": 0.1}, {\"Name\": \"SDSS J152515.18+601409.0\", \"z\": 0.0783, \"sigma*\": 104.0, \"e_sigma*\": 11.0, \"n_sigma*\": \"a\", \"FWHM\": 2590.0, \"e_FWHM\": 120.0, \"logL\": 41.41, \"e_logL\": 0.09, \"logM\": 6.9, \"E_logM\": null, \"e_logM\": 0.1}, {\"Name\": \"SDSS J155417.43+323837.8\", \"z\": 0.0483, \"sigma*\": 120.0, \"e_sigma*\": 13.0, \"n_sigma*\": \"a\", \"FWHM\": 4200.0, \"e_FWHM\": 210.0, \"logL\": 41.86, \"e_logL\": 0.08, \"logM\": 7.5, \"E_logM\": null, \"e_logM\": 0.1}, {\"Name\": \"SDSS J161156.31+521116.8\", \"z\": 0.040999999999999995, \"sigma*\": 116.0, \"e_sigma*\": 10.0, \"n_sigma*\": null, \"FWHM\": 3760.0, \"e_FWHM\": 180.0, \"logL\": 41.09, \"e_logL\": 0.04, \"logM\": 7.0, \"E_logM\": null, \"e_logM\": 0.3}, {\"Name\": \"SDSS J161951.31+405847.2\", \"z\": 0.0379, \"sigma*\": 89.1, \"e_sigma*\": 20.0, \"n_sigma*\": null, \"FWHM\": 1700.0, \"e_FWHM\": 85.0, \"logL\": 40.99, \"e_logL\": 0.07, \"logM\": 6.3, \"E_logM\": null, \"e_logM\": 0.1}, {\"Name\": \"SDSS J170328.96+614109.9\", \"z\": 0.0772, \"sigma*\": 123.0, \"e_sigma*\": 13.0, \"n_sigma*\": \"a\", \"FWHM\": 4300.0, \"e_FWHM\": 210.0, \"logL\": 41.92, \"e_logL\": 0.05, \"logM\": 7.6, \"E_logM\": null, \"e_logM\": 0.1}, {\"Name\": \"SDSS J171550.49+593548.7\", \"z\": 0.0657, \"sigma*\": 146.0, \"e_sigma*\": 13.0, \"n_sigma*\": \"a\", \"FWHM\": 3500.0, \"e_FWHM\": 170.0, \"logL\": 41.24, \"e_logL\": 0.05, \"logM\": 7.0, \"E_logM\": null, \"e_logM\": 0.1}, {\"Name\": \"SDSS J212401.90-002158.7\", \"z\": 0.0619, \"sigma*\": 110.0, \"e_sigma*\": 15.0, \"n_sigma*\": \"a\", \"FWHM\": 2620.0, \"e_FWHM\": 130.0, \"logL\": 41.41, \"e_logL\": 0.06, \"logM\": 6.9, \"E_logM\": null, \"e_logM\": 0.1}, {\"Name\": \"SDSS J222435.29-001103.8\", \"z\": 0.0581, \"sigma*\": 111.0, \"e_sigma*\": 19.0, \"n_sigma*\": \"a\", \"FWHM\": 2290.0, \"e_FWHM\": 1190.0, \"logL\": 41.83, \"e_logL\": 0.17, \"logM\": 7.0, \"E_logM\": null, \"e_logM\": 0.4}, {\"Name\": \"SDSS J223000.37-094622.1\", \"z\": 0.0727, \"sigma*\": 112.0, \"e_sigma*\": 13.0, \"n_sigma*\": \"a\", \"FWHM\": 3630.0, \"e_FWHM\": 180.0, \"logL\": 41.21, \"e_logL\": 0.04, \"logM\": 7.1, \"E_logM\": null, \"e_logM\": 0.1}, {\"Name\": \"SDSS J232721.96+152437.3\", \"z\": 0.0457, \"sigma*\": 193.0, \"e_sigma*\": 18.0, \"n_sigma*\": null, \"FWHM\": 7540.0, \"e_FWHM\": 750.0, \"logL\": 41.65, \"e_logL\": 0.06, \"logM\": 7.9, \"E_logM\": null, \"e_logM\": 0.1}, {\"Name\": \"SDSS J235128.78+155259.0\", \"z\": 0.0963, \"sigma*\": 193.0, \"e_sigma*\": 22.0, \"n_sigma*\": \"a\", \"FWHM\": 8240.0, \"e_FWHM\": 410.0, \"logL\": 41.87, \"e_logL\": 0.04, \"logM\": 8.2, \"E_logM\": null, \"e_logM\": 0.2}, {\"Name\": \"SDSS J010712.03+140844.9\", \"z\": 0.0768, \"sigma*\": 36.0, \"e_sigma*\": 6.0, \"n_sigma*\": \"b\", \"FWHM\": 880.0, \"e_FWHM\": 170.0, \"logL\": 42.57, \"e_logL\": 0.2, \"logM\": 5.8, \"E_logM\": null, \"e_logM\": 0.2}, {\"Name\": \"SDSS J024912.86-081525.6\", \"z\": 0.0294, \"sigma*\": 50.0, \"e_sigma*\": 4.0, \"n_sigma*\": \"b\", \"FWHM\": 840.0, \"e_FWHM\": 320.0, \"logL\": 41.93, \"e_logL\": 0.08, \"logM\": 5.1, \"E_logM\": null, \"e_logM\": 0.3}, {\"Name\": \"SDSS J032515.59+003408.4\", \"z\": 0.102, \"sigma*\": 55.0, \"e_sigma*\": 6.0, \"n_sigma*\": \"b\", \"FWHM\": 990.0, \"e_FWHM\": 49.0, \"logL\": 42.03, \"e_logL\": 0.12, \"logM\": 5.8, \"E_logM\": null, \"e_logM\": 0.1}, {\"Name\": \"SDSS J080907.58+441641.4\", \"z\": 0.0539, \"sigma*\": 65.0, \"e_sigma*\": 4.0, \"n_sigma*\": \"b\", \"FWHM\": 940.0, \"e_FWHM\": 180.0, \"logL\": 40.47, \"e_logL\": 0.04, \"logM\": 5.5, \"E_logM\": null, \"e_logM\": 0.8}, {\"Name\": \"SDSS J082912.67+500652.3\", \"z\": 0.0434, \"sigma*\": 60.0, \"e_sigma*\": 4.0, \"n_sigma*\": \"b\", \"FWHM\": 840.0, \"e_FWHM\": 41.0, \"logL\": 42.14, \"e_logL\": 0.06, \"logM\": 5.7, \"E_logM\": null, \"e_logM\": 0.1}, {\"Name\": \"SDSS J101108.40+002908.7\", \"z\": 0.1, \"sigma*\": 48.0, \"e_sigma*\": 7.0, \"n_sigma*\": \"b\", \"FWHM\": 1460.0, \"e_FWHM\": 72.0, \"logL\": 42.68, \"e_logL\": 0.19, \"logM\": 6.2, \"E_logM\": null, \"e_logM\": 0.3}, {\"Name\": \"SDSS J101627.32-000714.5\", \"z\": 0.0944, \"sigma*\": 39.0, \"e_sigma*\": 6.0, \"n_sigma*\": \"b\", \"FWHM\": 1520.0, \"e_FWHM\": 75.0, \"logL\": 42.57, \"e_logL\": 0.17, \"logM\": 6.1, \"E_logM\": null, \"e_logM\": 0.2}, {\"Name\": \"SDSS J124035.81-002919.4\", \"z\": 0.0809, \"sigma*\": 49.0, \"e_sigma*\": 7.0, \"n_sigma*\": \"b\", \"FWHM\": 1720.0, \"e_FWHM\": 85.0, \"logL\": 42.35, \"e_logL\": 0.11, \"logM\": 6.6, \"E_logM\": null, \"e_logM\": 0.6}, {\"Name\": \"SDSS J125055.28-015556.6\", \"z\": 0.0814, \"sigma*\": 64.0, \"e_sigma*\": 6.0, \"n_sigma*\": \"b\", \"FWHM\": 1980.0, \"e_FWHM\": 99.0, \"logL\": 42.75, \"e_logL\": 0.14, \"logM\": 6.5, \"E_logM\": null, \"e_logM\": 0.1}, {\"Name\": \"SDSS J143450.62+033842.5\", \"z\": 0.0282, \"sigma*\": 48.0, \"e_sigma*\": 7.0, \"n_sigma*\": \"b\", \"FWHM\": 1480.0, \"e_FWHM\": 73.0, \"logL\": 41.87, \"e_logL\": 0.16, \"logM\": 5.6, \"E_logM\": null, \"e_logM\": 0.1}, {\"Name\": \"SDSS J170246.09+602818.9\", \"z\": 0.0689, \"sigma*\": 69.0, \"e_sigma*\": 6.0, \"n_sigma*\": \"b\", \"FWHM\": 3270.0, \"e_FWHM\": 160.0, \"logL\": 42.67, \"e_logL\": 0.16, \"logM\": 6.9, \"E_logM\": null, \"e_logM\": 0.2}, {\"Name\": \"SDSS J172759.15+542147.0\", \"z\": 0.0995, \"sigma*\": 58.0, \"e_sigma*\": 7.0, \"n_sigma*\": \"b\", \"FWHM\": 810.0, \"e_FWHM\": 400.0, \"logL\": 42.19, \"e_logL\": 0.09, \"logM\": 5.6, \"E_logM\": null, \"e_logM\": 0.5}, {\"Name\": \"SDSS J215658.30+110343.1\", \"z\": 0.10800000000000001, \"sigma*\": 81.0, \"e_sigma*\": 8.0, \"n_sigma*\": \"b\", \"FWHM\": 1430.0, \"e_FWHM\": 280.0, \"logL\": 41.22, \"e_logL\": 0.03, \"logM\": 6.3, \"E_logM\": null, \"e_logM\": 0.8}, {\"Name\": \"SDSS J232159.06+000738.8\", \"z\": 0.184, \"sigma*\": 81.0, \"e_sigma*\": 9.0, \"n_sigma*\": \"b\", \"FWHM\": 2520.0, \"e_FWHM\": 120.0, \"logL\": 42.96, \"e_logL\": 0.1, \"logM\": 6.7, \"E_logM\": null, \"e_logM\": 0.2}, {\"Name\": \"SDSS J233837.10-002810.3\", \"z\": 0.0356, \"sigma*\": 58.0, \"e_sigma*\": 4.0, \"n_sigma*\": \"b\", \"FWHM\": 1740.0, \"e_FWHM\": 86.0, \"logL\": 43.61, \"e_logL\": 0.13, \"logM\": 5.8, \"E_logM\": null, \"e_logM\": 0.1}, {\"Name\": \"3C 120\", \"z\": 0.033, \"sigma*\": 162.0, \"e_sigma*\": 24.0, \"n_sigma*\": \"b\", \"FWHM\": null, \"e_FWHM\": null, \"logL\": null, \"e_logL\": null, \"logM\": 7.43, \"E_logM\": 0.2, \"e_logM\": 0.25}, {\"Name\": \"3C 390.3\", \"z\": 0.0561, \"sigma*\": 268.0, \"e_sigma*\": 15.0, \"n_sigma*\": null, \"FWHM\": null, \"e_FWHM\": null, \"logL\": null, \"e_logL\": null, \"logM\": 8.52, \"E_logM\": 0.09, \"e_logM\": 0.12}, {\"Name\": \"Akn 120\", \"z\": 0.0323, \"sigma*\": 224.0, \"e_sigma*\": 15.0, \"n_sigma*\": null, \"FWHM\": null, \"e_FWHM\": null, \"logL\": null, \"e_logL\": null, \"logM\": 8.2, \"E_logM\": 0.05, \"e_logM\": 0.07}, {\"Name\": \"Mrk 79\", \"z\": 0.0222, \"sigma*\": 130.0, \"e_sigma*\": 10.0, \"n_sigma*\": null, \"FWHM\": null, \"e_FWHM\": null, \"logL\": null, \"e_logL\": null, \"logM\": 7.67, \"E_logM\": 0.11, \"e_logM\": 0.15}, {\"Name\": \"Mrk 110\", \"z\": 0.0353, \"sigma*\": 87.1, \"e_sigma*\": 12.0, \"n_sigma*\": null, \"FWHM\": null, \"e_FWHM\": null, \"logL\": null, \"e_logL\": null, \"logM\": 6.97, \"E_logM\": 0.11, \"e_logM\": 0.15}, {\"Name\": \"Mrk 279\", \"z\": 0.0305, \"sigma*\": 197.0, \"e_sigma*\": 12.0, \"n_sigma*\": null, \"FWHM\": null, \"e_FWHM\": null, \"logL\": null, \"e_logL\": null, \"logM\": 7.45, \"E_logM\": 0.12, \"e_logM\": 0.16}, {\"Name\": \"Mrk 590\", \"z\": 0.0264, \"sigma*\": 189.0, \"e_sigma*\": 5.7, \"n_sigma*\": null, \"FWHM\": null, \"e_FWHM\": null, \"logL\": null, \"e_logL\": null, \"logM\": 7.2, \"E_logM\": 0.11, \"e_logM\": 0.15}, {\"Name\": \"Mrk 817\", \"z\": 0.0315, \"sigma*\": 127.0, \"e_sigma*\": 12.0, \"n_sigma*\": null, \"FWHM\": null, \"e_FWHM\": null, \"logL\": null, \"e_logL\": null, \"logM\": 7.62, \"E_logM\": 0.08, \"e_logM\": 0.1}, {\"Name\": \"NGC 3227\", \"z\": 0.00386, \"sigma*\": 135.0, \"e_sigma*\": 3.8, \"n_sigma*\": null, \"FWHM\": null, \"e_FWHM\": null, \"logL\": null, \"e_logL\": null, \"logM\": 7.47, \"E_logM\": 0.24, \"e_logM\": 1.06}, {\"Name\": \"NGC 3516\", \"z\": 0.00884, \"sigma*\": 181.0, \"e_sigma*\": 4.9, \"n_sigma*\": \"b\", \"FWHM\": null, \"e_FWHM\": null, \"logL\": null, \"e_logL\": null, \"logM\": 7.04, \"E_logM\": 0.31, \"e_logM\": 0.39}, {\"Name\": \"NGC 3783\", \"z\": 0.009729999999999999, \"sigma*\": 95.0, \"e_sigma*\": 10.0, \"n_sigma*\": null, \"FWHM\": null, \"e_FWHM\": null, \"logL\": null, \"e_logL\": null, \"logM\": 7.16, \"E_logM\": 0.17, \"e_logM\": 0.23}, {\"Name\": \"NGC 4051\", \"z\": 0.00234, \"sigma*\": 88.9, \"e_sigma*\": 2.9, \"n_sigma*\": null, \"FWHM\": null, \"e_FWHM\": null, \"logL\": null, \"e_logL\": null, \"logM\": 5.99, \"E_logM\": 0.17, \"e_logM\": 0.2}, {\"Name\": \"NGC 4151\", \"z\": 0.0033200000000000005, \"sigma*\": 96.8, \"e_sigma*\": 2.9, \"n_sigma*\": null, \"FWHM\": null, \"e_FWHM\": null, \"logL\": null, \"e_logL\": null, \"logM\": 6.91, \"E_logM\": 0.17, \"e_logM\": 0.29}, {\"Name\": \"NGC 5548\", \"z\": 0.0172, \"sigma*\": 198.0, \"e_sigma*\": 11.0, \"n_sigma*\": null, \"FWHM\": null, \"e_FWHM\": null, \"logL\": null, \"e_logL\": null, \"logM\": 7.81, \"E_logM\": 0.02, \"e_logM\": 0.02}, {\"Name\": \"NGC 7469\", \"z\": 0.0163, \"sigma*\": 133.0, \"e_sigma*\": 4.8, \"n_sigma*\": null, \"FWHM\": null, \"e_FWHM\": null, \"logL\": null, \"e_logL\": null, \"logM\": 6.49, \"E_logM\": 0.16, \"e_logM\": 0.27}, {\"Name\": \"POX 52\", \"z\": 0.0218, \"sigma*\": 36.0, \"e_sigma*\": 5.0, \"n_sigma*\": null, \"FWHM\": null, \"e_FWHM\": null, \"logL\": null, \"e_logL\": null, \"logM\": 5.2, \"E_logM\": null, \"e_logM\": 0.3}, {\"Name\": \"NGC 4395\", \"z\": 0.000947, \"sigma*\": 30.0, \"e_sigma*\": 5.0, \"n_sigma*\": null, \"FWHM\": null, \"e_FWHM\": null, \"logL\": null, \"e_logL\": null, \"logM\": 4.9, \"E_logM\": null, \"e_logM\": 0.4}]}}, {\"mode\": \"vega-lite\"});\n",
       "</script>"
      ],
      "text/plain": [
       "alt.Chart(...)"
      ]
     },
     "execution_count": 15,
     "metadata": {
      "tags": []
     },
     "output_type": "execute_result"
    }
   ],
   "source": [
    "alt.Chart(df).mark_point(filled=True).encode(\n",
    "    alt.X('z'),\n",
    "    alt.Y('logM')\n",
    ")"
   ]
  },
  {
   "cell_type": "markdown",
   "metadata": {
    "id": "bZRAWSkHQkVq"
   },
   "source": [
    "Using this way of designate the axis makes simple to change the scale."
   ]
  },
  {
   "cell_type": "code",
   "execution_count": null,
   "metadata": {
    "colab": {
     "base_uri": "https://localhost:8080/",
     "height": 368
    },
    "executionInfo": {
     "elapsed": 467,
     "status": "ok",
     "timestamp": 1609124069348,
     "user": {
      "displayName": "Eduard Alexis Larranaga",
      "photoUrl": "https://lh3.googleusercontent.com/a-/AOh14GgCVABzEgj-rCdyxWa29RnA0kIYUCXAaVbnRYOEhQ=s64",
      "userId": "04402438389940282602"
     },
     "user_tz": 300
    },
    "id": "8YJxVicWQkVq",
    "outputId": "3b806456-cb2c-4be7-db11-b8470f5ac199"
   },
   "outputs": [
    {
     "data": {
      "text/html": [
       "\n",
       "<div id=\"altair-viz-a96efb83f8ab452eb1b8cfbd973dd10e\"></div>\n",
       "<script type=\"text/javascript\">\n",
       "  (function(spec, embedOpt){\n",
       "    let outputDiv = document.currentScript.previousElementSibling;\n",
       "    if (outputDiv.id !== \"altair-viz-a96efb83f8ab452eb1b8cfbd973dd10e\") {\n",
       "      outputDiv = document.getElementById(\"altair-viz-a96efb83f8ab452eb1b8cfbd973dd10e\");\n",
       "    }\n",
       "    const paths = {\n",
       "      \"vega\": \"https://cdn.jsdelivr.net/npm//vega@5?noext\",\n",
       "      \"vega-lib\": \"https://cdn.jsdelivr.net/npm//vega-lib?noext\",\n",
       "      \"vega-lite\": \"https://cdn.jsdelivr.net/npm//vega-lite@4.8.1?noext\",\n",
       "      \"vega-embed\": \"https://cdn.jsdelivr.net/npm//vega-embed@6?noext\",\n",
       "    };\n",
       "\n",
       "    function loadScript(lib) {\n",
       "      return new Promise(function(resolve, reject) {\n",
       "        var s = document.createElement('script');\n",
       "        s.src = paths[lib];\n",
       "        s.async = true;\n",
       "        s.onload = () => resolve(paths[lib]);\n",
       "        s.onerror = () => reject(`Error loading script: ${paths[lib]}`);\n",
       "        document.getElementsByTagName(\"head\")[0].appendChild(s);\n",
       "      });\n",
       "    }\n",
       "\n",
       "    function showError(err) {\n",
       "      outputDiv.innerHTML = `<div class=\"error\" style=\"color:red;\">${err}</div>`;\n",
       "      throw err;\n",
       "    }\n",
       "\n",
       "    function displayChart(vegaEmbed) {\n",
       "      vegaEmbed(outputDiv, spec, embedOpt)\n",
       "        .catch(err => showError(`Javascript Error: ${err.message}<br>This usually means there's a typo in your chart specification. See the javascript console for the full traceback.`));\n",
       "    }\n",
       "\n",
       "    if(typeof define === \"function\" && define.amd) {\n",
       "      requirejs.config({paths});\n",
       "      require([\"vega-embed\"], displayChart, err => showError(`Error loading script: ${err.message}`));\n",
       "    } else if (typeof vegaEmbed === \"function\") {\n",
       "      displayChart(vegaEmbed);\n",
       "    } else {\n",
       "      loadScript(\"vega\")\n",
       "        .then(() => loadScript(\"vega-lite\"))\n",
       "        .then(() => loadScript(\"vega-embed\"))\n",
       "        .catch(showError)\n",
       "        .then(() => displayChart(vegaEmbed));\n",
       "    }\n",
       "  })({\"config\": {\"view\": {\"continuousWidth\": 400, \"continuousHeight\": 300}}, \"data\": {\"name\": \"data-54b58a4aa74e295879badff738f3e9c4\"}, \"mark\": {\"type\": \"point\", \"color\": \"black\", \"filled\": true}, \"encoding\": {\"x\": {\"type\": \"quantitative\", \"field\": \"z\", \"scale\": {\"base\": 10, \"type\": \"log\"}}, \"y\": {\"type\": \"quantitative\", \"field\": \"logM\"}}, \"$schema\": \"https://vega.github.io/schema/vega-lite/v4.8.1.json\", \"datasets\": {\"data-54b58a4aa74e295879badff738f3e9c4\": [{\"Name\": \"SDSS J000805.62+145023.4\", \"z\": 0.0454, \"sigma*\": 140.0, \"e_sigma*\": 27.0, \"n_sigma*\": null, \"FWHM\": 7610.0, \"e_FWHM\": 380.0, \"logL\": 41.13, \"e_logL\": 0.04, \"logM\": 7.7, \"E_logM\": null, \"e_logM\": 0.1}, {\"Name\": \"SDSS J004236.86-104921.8\", \"z\": 0.0419, \"sigma*\": 78.4, \"e_sigma*\": 10.0, \"n_sigma*\": null, \"FWHM\": 1960.0, \"e_FWHM\": 97.0, \"logL\": 41.58, \"e_logL\": 0.14, \"logM\": 6.7, \"E_logM\": null, \"e_logM\": 0.1}, {\"Name\": \"SDSS J011703.58+000027.3\", \"z\": 0.0456, \"sigma*\": 98.8, \"e_sigma*\": 16.0, \"n_sigma*\": null, \"FWHM\": 2270.0, \"e_FWHM\": 110.0, \"logL\": 41.45, \"e_logL\": 0.08, \"logM\": 6.8, \"E_logM\": null, \"e_logM\": 0.1}, {\"Name\": \"SDSS J020459.25-080816.0\", \"z\": 0.0772, \"sigma*\": 121.0, \"e_sigma*\": 9.4, \"n_sigma*\": \"a\", \"FWHM\": 3720.0, \"e_FWHM\": 180.0, \"logL\": 41.13, \"e_logL\": 0.05, \"logM\": 7.0, \"E_logM\": null, \"e_logM\": 0.1}, {\"Name\": \"SDSS J020615.99-001729.1\", \"z\": 0.0426, \"sigma*\": 216.0, \"e_sigma*\": 30.0, \"n_sigma*\": null, \"FWHM\": 3860.0, \"e_FWHM\": 190.0, \"logL\": 41.91, \"e_logL\": 0.07, \"logM\": 7.5, \"E_logM\": null, \"e_logM\": 0.1}, {\"Name\": \"SDSS J021011.49-090335.5\", \"z\": 0.0414, \"sigma*\": 122.0, \"e_sigma*\": 12.0, \"n_sigma*\": \"a\", \"FWHM\": 2450.0, \"e_FWHM\": 120.0, \"logL\": 41.24, \"e_logL\": 0.07, \"logM\": 6.7, \"E_logM\": null, \"e_logM\": 0.1}, {\"Name\": \"SDSS J021257.59+140610.1\", \"z\": 0.0618, \"sigma*\": 174.0, \"e_sigma*\": 12.0, \"n_sigma*\": \"a\", \"FWHM\": 3080.0, \"e_FWHM\": 150.0, \"logL\": 41.58, \"e_logL\": 0.06, \"logM\": 7.1, \"E_logM\": null, \"e_logM\": 0.1}, {\"Name\": \"SDSS J033013.26-053236.0\", \"z\": 0.0131, \"sigma*\": 99.2, \"e_sigma*\": 11.0, \"n_sigma*\": null, \"FWHM\": 5160.0, \"e_FWHM\": 250.0, \"logL\": 40.45, \"e_logL\": 0.06, \"logM\": 7.0, \"E_logM\": null, \"e_logM\": 0.1}, {\"Name\": \"SDSS J075057.25+353037.5\", \"z\": 0.17600000000000002, \"sigma*\": 154.0, \"e_sigma*\": 14.0, \"n_sigma*\": \"a\", \"FWHM\": 2970.0, \"e_FWHM\": 200.0, \"logL\": 41.63, \"e_logL\": 0.03, \"logM\": 7.2, \"E_logM\": null, \"e_logM\": 0.1}, {\"Name\": \"SDSS J080243.39+310403.3\", \"z\": 0.0409, \"sigma*\": 151.0, \"e_sigma*\": 17.0, \"n_sigma*\": null, \"FWHM\": 5360.0, \"e_FWHM\": 260.0, \"logL\": 41.67, \"e_logL\": 0.07, \"logM\": 7.6, \"E_logM\": null, \"e_logM\": 0.1}, {\"Name\": \"SDSS J080538.66+261005.4\", \"z\": 0.017, \"sigma*\": 100.0, \"e_sigma*\": 14.0, \"n_sigma*\": null, \"FWHM\": 3110.0, \"e_FWHM\": 150.0, \"logL\": 40.14, \"e_logL\": 0.04, \"logM\": 6.3, \"E_logM\": null, \"e_logM\": 0.2}, {\"Name\": \"SDSS J082510.23+375919.7\", \"z\": 0.0214, \"sigma*\": 98.7, \"e_sigma*\": 12.0, \"n_sigma*\": null, \"FWHM\": 1830.0, \"e_FWHM\": 91.0, \"logL\": 40.42, \"e_logL\": 0.04, \"logM\": 6.0, \"E_logM\": null, \"e_logM\": 0.1}, {\"Name\": \"SDSS J083202.16+461425.7\", \"z\": 0.0459, \"sigma*\": 104.0, \"e_sigma*\": 13.0, \"n_sigma*\": null, \"FWHM\": 1450.0, \"e_FWHM\": 72.0, \"logL\": 41.17, \"e_logL\": 0.08, \"logM\": 6.2, \"E_logM\": null, \"e_logM\": 0.1}, {\"Name\": \"SDSS J083949.64+484701.4\", \"z\": 0.0394, \"sigma*\": 133.0, \"e_sigma*\": 12.0, \"n_sigma*\": null, \"FWHM\": 1480.0, \"e_FWHM\": 73.0, \"logL\": 41.31, \"e_logL\": 0.08, \"logM\": 6.3, \"E_logM\": null, \"e_logM\": 0.2}, {\"Name\": \"SDSS J085554.27+005110.9\", \"z\": 0.0524, \"sigma*\": 118.0, \"e_sigma*\": 11.0, \"n_sigma*\": \"a\", \"FWHM\": 2910.0, \"e_FWHM\": 140.0, \"logL\": 41.27, \"e_logL\": 0.06, \"logM\": 6.9, \"E_logM\": null, \"e_logM\": 0.1}, {\"Name\": \"SDSS J092438.88+560746.9\", \"z\": 0.025, \"sigma*\": 135.0, \"e_sigma*\": 10.0, \"n_sigma*\": null, \"FWHM\": 1900.0, \"e_FWHM\": 94.0, \"logL\": 40.72, \"e_logL\": 0.07, \"logM\": 6.2, \"E_logM\": null, \"e_logM\": 0.4}, {\"Name\": \"SDSS J093259.60+040506.0\", \"z\": 0.059000000000000004, \"sigma*\": 70.5, \"e_sigma*\": 6.7, \"n_sigma*\": \"a\", \"FWHM\": 3550.0, \"e_FWHM\": 170.0, \"logL\": 41.14, \"e_logL\": 0.05, \"logM\": 7.0, \"E_logM\": null, \"e_logM\": 0.1}, {\"Name\": \"SDSS J093812.26+074340.0\", \"z\": 0.0219, \"sigma*\": 119.0, \"e_sigma*\": 8.0, \"n_sigma*\": null, \"FWHM\": 3640.0, \"e_FWHM\": 180.0, \"logL\": 40.8, \"e_logL\": 0.05, \"logM\": 6.8, \"E_logM\": null, \"e_logM\": 0.1}, {\"Name\": \"SDSS J094838.42+403043.7\", \"z\": 0.047, \"sigma*\": 91.4, \"e_sigma*\": 16.0, \"n_sigma*\": null, \"FWHM\": 3020.0, \"e_FWHM\": 150.0, \"logL\": 41.46, \"e_logL\": 0.07, \"logM\": 7.0, \"E_logM\": null, \"e_logM\": 0.1}, {\"Name\": \"SDSS J101912.57+635802.7\", \"z\": 0.0414, \"sigma*\": 239.0, \"e_sigma*\": 13.0, \"n_sigma*\": null, \"FWHM\": 3630.0, \"e_FWHM\": 180.0, \"logL\": 41.74, \"e_logL\": 0.08, \"logM\": 7.4, \"E_logM\": null, \"e_logM\": 0.1}, {\"Name\": \"SDSS J102044.43+013048.4\", \"z\": 0.0962, \"sigma*\": 103.0, \"e_sigma*\": 8.8, \"n_sigma*\": \"a\", \"FWHM\": 5200.0, \"e_FWHM\": 250.0, \"logL\": 41.51, \"e_logL\": 0.04, \"logM\": 7.6, \"E_logM\": null, \"e_logM\": 0.1}, {\"Name\": \"SDSS J110640.20+051905.6\", \"z\": 0.0913, \"sigma*\": 140.0, \"e_sigma*\": 15.0, \"n_sigma*\": \"a\", \"FWHM\": 5830.0, \"e_FWHM\": 290.0, \"logL\": 41.65, \"e_logL\": 0.04, \"logM\": 7.7, \"E_logM\": null, \"e_logM\": 0.1}, {\"Name\": \"SDSS J112536.16+542257.1\", \"z\": 0.0206, \"sigma*\": 124.0, \"e_sigma*\": 12.0, \"n_sigma*\": null, \"FWHM\": 2950.0, \"e_FWHM\": 140.0, \"logL\": 41.17, \"e_logL\": 0.08, \"logM\": 6.8, \"E_logM\": null, \"e_logM\": 0.1}, {\"Name\": \"SDSS J112841.00+575006.5\", \"z\": 0.0513, \"sigma*\": 159.0, \"e_sigma*\": 18.0, \"n_sigma*\": \"a\", \"FWHM\": 2660.0, \"e_FWHM\": 130.0, \"logL\": 41.66, \"e_logL\": 0.09, \"logM\": 7.0, \"E_logM\": null, \"e_logM\": 0.1}, {\"Name\": \"SDSS J120257.81+045045.0\", \"z\": 0.0207, \"sigma*\": 102.0, \"e_sigma*\": 20.0, \"n_sigma*\": null, \"FWHM\": 2250.0, \"e_FWHM\": 110.0, \"logL\": 40.1, \"e_logL\": 0.06, \"logM\": 6.0, \"E_logM\": null, \"e_logM\": 0.1}, {\"Name\": \"SDSS J120556.01+495956.1\", \"z\": 0.0631, \"sigma*\": 107.0, \"e_sigma*\": 11.0, \"n_sigma*\": \"a\", \"FWHM\": 5610.0, \"e_FWHM\": 450.0, \"logL\": 41.57, \"e_logL\": 0.04, \"logM\": 7.7, \"E_logM\": null, \"e_logM\": 0.1}, {\"Name\": \"SDSS J121607.09+504930.0\", \"z\": 0.0308, \"sigma*\": 138.0, \"e_sigma*\": 13.0, \"n_sigma*\": null, \"FWHM\": 5580.0, \"e_FWHM\": 270.0, \"logL\": 41.3, \"e_logL\": 0.06, \"logM\": 7.5, \"E_logM\": null, \"e_logM\": 0.3}, {\"Name\": \"SDSS J121754.97+583935.6\", \"z\": 0.0233, \"sigma*\": 85.6, \"e_sigma*\": 14.0, \"n_sigma*\": null, \"FWHM\": 1970.0, \"e_FWHM\": 98.0, \"logL\": 40.92, \"e_logL\": 0.08, \"logM\": 6.4, \"E_logM\": null, \"e_logM\": 0.1}, {\"Name\": \"SDSS J122324.13+024044.4\", \"z\": 0.0236, \"sigma*\": 78.1, \"e_sigma*\": 15.0, \"n_sigma*\": null, \"FWHM\": 3880.0, \"e_FWHM\": 910.0, \"logL\": 41.62, \"e_logL\": 0.08, \"logM\": 7.3, \"E_logM\": null, \"e_logM\": 0.2}, {\"Name\": \"SDSS J123237.48+662452.3\", \"z\": 0.0468, \"sigma*\": 124.0, \"e_sigma*\": 9.0, \"n_sigma*\": null, \"FWHM\": 2620.0, \"e_FWHM\": 130.0, \"logL\": 41.86, \"e_logL\": 0.19, \"logM\": 7.1, \"E_logM\": null, \"e_logM\": 0.2}, {\"Name\": \"SDSS J130620.97+531823.1\", \"z\": 0.0237, \"sigma*\": 90.7, \"e_sigma*\": 11.0, \"n_sigma*\": null, \"FWHM\": 7620.0, \"e_FWHM\": 380.0, \"logL\": 40.58, \"e_logL\": 0.04, \"logM\": 7.3, \"E_logM\": null, \"e_logM\": 0.1}, {\"Name\": \"SDSS J131305.80+012755.9\", \"z\": 0.0294, \"sigma*\": 95.4, \"e_sigma*\": 13.0, \"n_sigma*\": null, \"FWHM\": 1590.0, \"e_FWHM\": 79.0, \"logL\": 40.62, \"e_logL\": 0.07, \"logM\": 6.0, \"E_logM\": null, \"e_logM\": 0.1}, {\"Name\": \"SDSS J132249.21+545528.2\", \"z\": 0.0653, \"sigma*\": 130.0, \"e_sigma*\": 13.0, \"n_sigma*\": \"a\", \"FWHM\": 4050.0, \"e_FWHM\": 200.0, \"logL\": 41.81, \"e_logL\": 0.07, \"logM\": 7.5, \"E_logM\": null, \"e_logM\": 0.1}, {\"Name\": \"SDSS J132340.31-012749.2\", \"z\": 0.0767, \"sigma*\": 114.0, \"e_sigma*\": 16.0, \"n_sigma*\": \"a\", \"FWHM\": 1910.0, \"e_FWHM\": 95.0, \"logL\": 41.55, \"e_logL\": 0.09, \"logM\": 6.7, \"E_logM\": null, \"e_logM\": 0.1}, {\"Name\": \"SDSS J134952.84+020445.1\", \"z\": 0.0328, \"sigma*\": 138.0, \"e_sigma*\": 13.0, \"n_sigma*\": null, \"FWHM\": 2590.0, \"e_FWHM\": 120.0, \"logL\": 41.62, \"e_logL\": 0.07, \"logM\": 7.0, \"E_logM\": null, \"e_logM\": 0.1}, {\"Name\": \"SDSS J140018.42+050242.2\", \"z\": 0.0342, \"sigma*\": 145.0, \"e_sigma*\": 14.0, \"n_sigma*\": null, \"FWHM\": 3340.0, \"e_FWHM\": 160.0, \"logL\": 41.23, \"e_logL\": 0.05, \"logM\": 7.1, \"E_logM\": null, \"e_logM\": 0.5}, {\"Name\": \"SDSS J140514.87-025901.2\", \"z\": 0.0542, \"sigma*\": 148.0, \"e_sigma*\": 15.0, \"n_sigma*\": \"a\", \"FWHM\": 2990.0, \"e_FWHM\": 140.0, \"logL\": 41.29, \"e_logL\": 0.06, \"logM\": 6.9, \"E_logM\": null, \"e_logM\": 0.3}, {\"Name\": \"SDSS J141630.81+013708.0\", \"z\": 0.0538, \"sigma*\": 121.0, \"e_sigma*\": 12.0, \"n_sigma*\": \"a\", \"FWHM\": 3180.0, \"e_FWHM\": 150.0, \"logL\": 41.1, \"e_logL\": 0.04, \"logM\": 6.9, \"E_logM\": null, \"e_logM\": 0.1}, {\"Name\": \"SDSS J143452.45+483942.7\", \"z\": 0.0365, \"sigma*\": 138.0, \"e_sigma*\": 15.0, \"n_sigma*\": null, \"FWHM\": 3210.0, \"e_FWHM\": 160.0, \"logL\": 41.84, \"e_logL\": 0.1, \"logM\": 7.3, \"E_logM\": null, \"e_logM\": 0.1}, {\"Name\": \"SDSS J144629.97+500130.5\", \"z\": 0.0427, \"sigma*\": 86.8, \"e_sigma*\": 19.0, \"n_sigma*\": null, \"FWHM\": 6450.0, \"e_FWHM\": 320.0, \"logL\": 40.73, \"e_logL\": 0.03, \"logM\": 7.3, \"E_logM\": null, \"e_logM\": 0.2}, {\"Name\": \"SDSS J145706.80+494008.4\", \"z\": 0.0134, \"sigma*\": 108.0, \"e_sigma*\": 11.0, \"n_sigma*\": null, \"FWHM\": 2270.0, \"e_FWHM\": 110.0, \"logL\": 40.46, \"e_logL\": 0.1, \"logM\": 6.3, \"E_logM\": null, \"e_logM\": 0.1}, {\"Name\": \"SDSS J145901.35+611353.5\", \"z\": 0.0388, \"sigma*\": 113.0, \"e_sigma*\": 13.0, \"n_sigma*\": null, \"FWHM\": 4140.0, \"e_FWHM\": 200.0, \"logL\": 41.18, \"e_logL\": 0.06, \"logM\": 7.2, \"E_logM\": null, \"e_logM\": 0.1}, {\"Name\": \"SDSS J150556.55+034226.3\", \"z\": 0.0359, \"sigma*\": 199.0, \"e_sigma*\": 18.0, \"n_sigma*\": \"a\", \"FWHM\": 4370.0, \"e_FWHM\": 210.0, \"logL\": 42.09, \"e_logL\": 0.1, \"logM\": 7.7, \"E_logM\": null, \"e_logM\": 0.1}, {\"Name\": \"SDSS J150745.00+512710.2\", \"z\": 0.0458, \"sigma*\": 139.0, \"e_sigma*\": 17.0, \"n_sigma*\": null, \"FWHM\": 3430.0, \"e_FWHM\": 170.0, \"logL\": 41.4, \"e_logL\": 0.04, \"logM\": 7.1, \"E_logM\": null, \"e_logM\": 0.1}, {\"Name\": \"SDSS J150853.95-001148.9\", \"z\": 0.0542, \"sigma*\": 163.0, \"e_sigma*\": 15.0, \"n_sigma*\": \"a\", \"FWHM\": 6190.0, \"e_FWHM\": 610.0, \"logL\": 41.51, \"e_logL\": 0.04, \"logM\": 7.8, \"E_logM\": null, \"e_logM\": 0.1}, {\"Name\": \"SDSS J152515.18+601409.0\", \"z\": 0.0783, \"sigma*\": 104.0, \"e_sigma*\": 11.0, \"n_sigma*\": \"a\", \"FWHM\": 2590.0, \"e_FWHM\": 120.0, \"logL\": 41.41, \"e_logL\": 0.09, \"logM\": 6.9, \"E_logM\": null, \"e_logM\": 0.1}, {\"Name\": \"SDSS J155417.43+323837.8\", \"z\": 0.0483, \"sigma*\": 120.0, \"e_sigma*\": 13.0, \"n_sigma*\": \"a\", \"FWHM\": 4200.0, \"e_FWHM\": 210.0, \"logL\": 41.86, \"e_logL\": 0.08, \"logM\": 7.5, \"E_logM\": null, \"e_logM\": 0.1}, {\"Name\": \"SDSS J161156.31+521116.8\", \"z\": 0.040999999999999995, \"sigma*\": 116.0, \"e_sigma*\": 10.0, \"n_sigma*\": null, \"FWHM\": 3760.0, \"e_FWHM\": 180.0, \"logL\": 41.09, \"e_logL\": 0.04, \"logM\": 7.0, \"E_logM\": null, \"e_logM\": 0.3}, {\"Name\": \"SDSS J161951.31+405847.2\", \"z\": 0.0379, \"sigma*\": 89.1, \"e_sigma*\": 20.0, \"n_sigma*\": null, \"FWHM\": 1700.0, \"e_FWHM\": 85.0, \"logL\": 40.99, \"e_logL\": 0.07, \"logM\": 6.3, \"E_logM\": null, \"e_logM\": 0.1}, {\"Name\": \"SDSS J170328.96+614109.9\", \"z\": 0.0772, \"sigma*\": 123.0, \"e_sigma*\": 13.0, \"n_sigma*\": \"a\", \"FWHM\": 4300.0, \"e_FWHM\": 210.0, \"logL\": 41.92, \"e_logL\": 0.05, \"logM\": 7.6, \"E_logM\": null, \"e_logM\": 0.1}, {\"Name\": \"SDSS J171550.49+593548.7\", \"z\": 0.0657, \"sigma*\": 146.0, \"e_sigma*\": 13.0, \"n_sigma*\": \"a\", \"FWHM\": 3500.0, \"e_FWHM\": 170.0, \"logL\": 41.24, \"e_logL\": 0.05, \"logM\": 7.0, \"E_logM\": null, \"e_logM\": 0.1}, {\"Name\": \"SDSS J212401.90-002158.7\", \"z\": 0.0619, \"sigma*\": 110.0, \"e_sigma*\": 15.0, \"n_sigma*\": \"a\", \"FWHM\": 2620.0, \"e_FWHM\": 130.0, \"logL\": 41.41, \"e_logL\": 0.06, \"logM\": 6.9, \"E_logM\": null, \"e_logM\": 0.1}, {\"Name\": \"SDSS J222435.29-001103.8\", \"z\": 0.0581, \"sigma*\": 111.0, \"e_sigma*\": 19.0, \"n_sigma*\": \"a\", \"FWHM\": 2290.0, \"e_FWHM\": 1190.0, \"logL\": 41.83, \"e_logL\": 0.17, \"logM\": 7.0, \"E_logM\": null, \"e_logM\": 0.4}, {\"Name\": \"SDSS J223000.37-094622.1\", \"z\": 0.0727, \"sigma*\": 112.0, \"e_sigma*\": 13.0, \"n_sigma*\": \"a\", \"FWHM\": 3630.0, \"e_FWHM\": 180.0, \"logL\": 41.21, \"e_logL\": 0.04, \"logM\": 7.1, \"E_logM\": null, \"e_logM\": 0.1}, {\"Name\": \"SDSS J232721.96+152437.3\", \"z\": 0.0457, \"sigma*\": 193.0, \"e_sigma*\": 18.0, \"n_sigma*\": null, \"FWHM\": 7540.0, \"e_FWHM\": 750.0, \"logL\": 41.65, \"e_logL\": 0.06, \"logM\": 7.9, \"E_logM\": null, \"e_logM\": 0.1}, {\"Name\": \"SDSS J235128.78+155259.0\", \"z\": 0.0963, \"sigma*\": 193.0, \"e_sigma*\": 22.0, \"n_sigma*\": \"a\", \"FWHM\": 8240.0, \"e_FWHM\": 410.0, \"logL\": 41.87, \"e_logL\": 0.04, \"logM\": 8.2, \"E_logM\": null, \"e_logM\": 0.2}, {\"Name\": \"SDSS J010712.03+140844.9\", \"z\": 0.0768, \"sigma*\": 36.0, \"e_sigma*\": 6.0, \"n_sigma*\": \"b\", \"FWHM\": 880.0, \"e_FWHM\": 170.0, \"logL\": 42.57, \"e_logL\": 0.2, \"logM\": 5.8, \"E_logM\": null, \"e_logM\": 0.2}, {\"Name\": \"SDSS J024912.86-081525.6\", \"z\": 0.0294, \"sigma*\": 50.0, \"e_sigma*\": 4.0, \"n_sigma*\": \"b\", \"FWHM\": 840.0, \"e_FWHM\": 320.0, \"logL\": 41.93, \"e_logL\": 0.08, \"logM\": 5.1, \"E_logM\": null, \"e_logM\": 0.3}, {\"Name\": \"SDSS J032515.59+003408.4\", \"z\": 0.102, \"sigma*\": 55.0, \"e_sigma*\": 6.0, \"n_sigma*\": \"b\", \"FWHM\": 990.0, \"e_FWHM\": 49.0, \"logL\": 42.03, \"e_logL\": 0.12, \"logM\": 5.8, \"E_logM\": null, \"e_logM\": 0.1}, {\"Name\": \"SDSS J080907.58+441641.4\", \"z\": 0.0539, \"sigma*\": 65.0, \"e_sigma*\": 4.0, \"n_sigma*\": \"b\", \"FWHM\": 940.0, \"e_FWHM\": 180.0, \"logL\": 40.47, \"e_logL\": 0.04, \"logM\": 5.5, \"E_logM\": null, \"e_logM\": 0.8}, {\"Name\": \"SDSS J082912.67+500652.3\", \"z\": 0.0434, \"sigma*\": 60.0, \"e_sigma*\": 4.0, \"n_sigma*\": \"b\", \"FWHM\": 840.0, \"e_FWHM\": 41.0, \"logL\": 42.14, \"e_logL\": 0.06, \"logM\": 5.7, \"E_logM\": null, \"e_logM\": 0.1}, {\"Name\": \"SDSS J101108.40+002908.7\", \"z\": 0.1, \"sigma*\": 48.0, \"e_sigma*\": 7.0, \"n_sigma*\": \"b\", \"FWHM\": 1460.0, \"e_FWHM\": 72.0, \"logL\": 42.68, \"e_logL\": 0.19, \"logM\": 6.2, \"E_logM\": null, \"e_logM\": 0.3}, {\"Name\": \"SDSS J101627.32-000714.5\", \"z\": 0.0944, \"sigma*\": 39.0, \"e_sigma*\": 6.0, \"n_sigma*\": \"b\", \"FWHM\": 1520.0, \"e_FWHM\": 75.0, \"logL\": 42.57, \"e_logL\": 0.17, \"logM\": 6.1, \"E_logM\": null, \"e_logM\": 0.2}, {\"Name\": \"SDSS J124035.81-002919.4\", \"z\": 0.0809, \"sigma*\": 49.0, \"e_sigma*\": 7.0, \"n_sigma*\": \"b\", \"FWHM\": 1720.0, \"e_FWHM\": 85.0, \"logL\": 42.35, \"e_logL\": 0.11, \"logM\": 6.6, \"E_logM\": null, \"e_logM\": 0.6}, {\"Name\": \"SDSS J125055.28-015556.6\", \"z\": 0.0814, \"sigma*\": 64.0, \"e_sigma*\": 6.0, \"n_sigma*\": \"b\", \"FWHM\": 1980.0, \"e_FWHM\": 99.0, \"logL\": 42.75, \"e_logL\": 0.14, \"logM\": 6.5, \"E_logM\": null, \"e_logM\": 0.1}, {\"Name\": \"SDSS J143450.62+033842.5\", \"z\": 0.0282, \"sigma*\": 48.0, \"e_sigma*\": 7.0, \"n_sigma*\": \"b\", \"FWHM\": 1480.0, \"e_FWHM\": 73.0, \"logL\": 41.87, \"e_logL\": 0.16, \"logM\": 5.6, \"E_logM\": null, \"e_logM\": 0.1}, {\"Name\": \"SDSS J170246.09+602818.9\", \"z\": 0.0689, \"sigma*\": 69.0, \"e_sigma*\": 6.0, \"n_sigma*\": \"b\", \"FWHM\": 3270.0, \"e_FWHM\": 160.0, \"logL\": 42.67, \"e_logL\": 0.16, \"logM\": 6.9, \"E_logM\": null, \"e_logM\": 0.2}, {\"Name\": \"SDSS J172759.15+542147.0\", \"z\": 0.0995, \"sigma*\": 58.0, \"e_sigma*\": 7.0, \"n_sigma*\": \"b\", \"FWHM\": 810.0, \"e_FWHM\": 400.0, \"logL\": 42.19, \"e_logL\": 0.09, \"logM\": 5.6, \"E_logM\": null, \"e_logM\": 0.5}, {\"Name\": \"SDSS J215658.30+110343.1\", \"z\": 0.10800000000000001, \"sigma*\": 81.0, \"e_sigma*\": 8.0, \"n_sigma*\": \"b\", \"FWHM\": 1430.0, \"e_FWHM\": 280.0, \"logL\": 41.22, \"e_logL\": 0.03, \"logM\": 6.3, \"E_logM\": null, \"e_logM\": 0.8}, {\"Name\": \"SDSS J232159.06+000738.8\", \"z\": 0.184, \"sigma*\": 81.0, \"e_sigma*\": 9.0, \"n_sigma*\": \"b\", \"FWHM\": 2520.0, \"e_FWHM\": 120.0, \"logL\": 42.96, \"e_logL\": 0.1, \"logM\": 6.7, \"E_logM\": null, \"e_logM\": 0.2}, {\"Name\": \"SDSS J233837.10-002810.3\", \"z\": 0.0356, \"sigma*\": 58.0, \"e_sigma*\": 4.0, \"n_sigma*\": \"b\", \"FWHM\": 1740.0, \"e_FWHM\": 86.0, \"logL\": 43.61, \"e_logL\": 0.13, \"logM\": 5.8, \"E_logM\": null, \"e_logM\": 0.1}, {\"Name\": \"3C 120\", \"z\": 0.033, \"sigma*\": 162.0, \"e_sigma*\": 24.0, \"n_sigma*\": \"b\", \"FWHM\": null, \"e_FWHM\": null, \"logL\": null, \"e_logL\": null, \"logM\": 7.43, \"E_logM\": 0.2, \"e_logM\": 0.25}, {\"Name\": \"3C 390.3\", \"z\": 0.0561, \"sigma*\": 268.0, \"e_sigma*\": 15.0, \"n_sigma*\": null, \"FWHM\": null, \"e_FWHM\": null, \"logL\": null, \"e_logL\": null, \"logM\": 8.52, \"E_logM\": 0.09, \"e_logM\": 0.12}, {\"Name\": \"Akn 120\", \"z\": 0.0323, \"sigma*\": 224.0, \"e_sigma*\": 15.0, \"n_sigma*\": null, \"FWHM\": null, \"e_FWHM\": null, \"logL\": null, \"e_logL\": null, \"logM\": 8.2, \"E_logM\": 0.05, \"e_logM\": 0.07}, {\"Name\": \"Mrk 79\", \"z\": 0.0222, \"sigma*\": 130.0, \"e_sigma*\": 10.0, \"n_sigma*\": null, \"FWHM\": null, \"e_FWHM\": null, \"logL\": null, \"e_logL\": null, \"logM\": 7.67, \"E_logM\": 0.11, \"e_logM\": 0.15}, {\"Name\": \"Mrk 110\", \"z\": 0.0353, \"sigma*\": 87.1, \"e_sigma*\": 12.0, \"n_sigma*\": null, \"FWHM\": null, \"e_FWHM\": null, \"logL\": null, \"e_logL\": null, \"logM\": 6.97, \"E_logM\": 0.11, \"e_logM\": 0.15}, {\"Name\": \"Mrk 279\", \"z\": 0.0305, \"sigma*\": 197.0, \"e_sigma*\": 12.0, \"n_sigma*\": null, \"FWHM\": null, \"e_FWHM\": null, \"logL\": null, \"e_logL\": null, \"logM\": 7.45, \"E_logM\": 0.12, \"e_logM\": 0.16}, {\"Name\": \"Mrk 590\", \"z\": 0.0264, \"sigma*\": 189.0, \"e_sigma*\": 5.7, \"n_sigma*\": null, \"FWHM\": null, \"e_FWHM\": null, \"logL\": null, \"e_logL\": null, \"logM\": 7.2, \"E_logM\": 0.11, \"e_logM\": 0.15}, {\"Name\": \"Mrk 817\", \"z\": 0.0315, \"sigma*\": 127.0, \"e_sigma*\": 12.0, \"n_sigma*\": null, \"FWHM\": null, \"e_FWHM\": null, \"logL\": null, \"e_logL\": null, \"logM\": 7.62, \"E_logM\": 0.08, \"e_logM\": 0.1}, {\"Name\": \"NGC 3227\", \"z\": 0.00386, \"sigma*\": 135.0, \"e_sigma*\": 3.8, \"n_sigma*\": null, \"FWHM\": null, \"e_FWHM\": null, \"logL\": null, \"e_logL\": null, \"logM\": 7.47, \"E_logM\": 0.24, \"e_logM\": 1.06}, {\"Name\": \"NGC 3516\", \"z\": 0.00884, \"sigma*\": 181.0, \"e_sigma*\": 4.9, \"n_sigma*\": \"b\", \"FWHM\": null, \"e_FWHM\": null, \"logL\": null, \"e_logL\": null, \"logM\": 7.04, \"E_logM\": 0.31, \"e_logM\": 0.39}, {\"Name\": \"NGC 3783\", \"z\": 0.009729999999999999, \"sigma*\": 95.0, \"e_sigma*\": 10.0, \"n_sigma*\": null, \"FWHM\": null, \"e_FWHM\": null, \"logL\": null, \"e_logL\": null, \"logM\": 7.16, \"E_logM\": 0.17, \"e_logM\": 0.23}, {\"Name\": \"NGC 4051\", \"z\": 0.00234, \"sigma*\": 88.9, \"e_sigma*\": 2.9, \"n_sigma*\": null, \"FWHM\": null, \"e_FWHM\": null, \"logL\": null, \"e_logL\": null, \"logM\": 5.99, \"E_logM\": 0.17, \"e_logM\": 0.2}, {\"Name\": \"NGC 4151\", \"z\": 0.0033200000000000005, \"sigma*\": 96.8, \"e_sigma*\": 2.9, \"n_sigma*\": null, \"FWHM\": null, \"e_FWHM\": null, \"logL\": null, \"e_logL\": null, \"logM\": 6.91, \"E_logM\": 0.17, \"e_logM\": 0.29}, {\"Name\": \"NGC 5548\", \"z\": 0.0172, \"sigma*\": 198.0, \"e_sigma*\": 11.0, \"n_sigma*\": null, \"FWHM\": null, \"e_FWHM\": null, \"logL\": null, \"e_logL\": null, \"logM\": 7.81, \"E_logM\": 0.02, \"e_logM\": 0.02}, {\"Name\": \"NGC 7469\", \"z\": 0.0163, \"sigma*\": 133.0, \"e_sigma*\": 4.8, \"n_sigma*\": null, \"FWHM\": null, \"e_FWHM\": null, \"logL\": null, \"e_logL\": null, \"logM\": 6.49, \"E_logM\": 0.16, \"e_logM\": 0.27}, {\"Name\": \"POX 52\", \"z\": 0.0218, \"sigma*\": 36.0, \"e_sigma*\": 5.0, \"n_sigma*\": null, \"FWHM\": null, \"e_FWHM\": null, \"logL\": null, \"e_logL\": null, \"logM\": 5.2, \"E_logM\": null, \"e_logM\": 0.3}, {\"Name\": \"NGC 4395\", \"z\": 0.000947, \"sigma*\": 30.0, \"e_sigma*\": 5.0, \"n_sigma*\": null, \"FWHM\": null, \"e_FWHM\": null, \"logL\": null, \"e_logL\": null, \"logM\": 4.9, \"E_logM\": null, \"e_logM\": 0.4}]}}, {\"mode\": \"vega-lite\"});\n",
       "</script>"
      ],
      "text/plain": [
       "alt.Chart(...)"
      ]
     },
     "execution_count": 16,
     "metadata": {
      "tags": []
     },
     "output_type": "execute_result"
    }
   ],
   "source": [
    "alt.Chart(df).mark_point(filled = True, color = 'black').encode(\n",
    "    alt.X('z',scale=alt.Scale(type='log', base=10)),\n",
    "    alt.Y('logM')\n",
    ")"
   ]
  },
  {
   "cell_type": "markdown",
   "metadata": {
    "id": "5m3qEgrBQkVr"
   },
   "source": [
    "Now, lets try other characteristics."
   ]
  },
  {
   "cell_type": "code",
   "execution_count": null,
   "metadata": {
    "colab": {
     "base_uri": "https://localhost:8080/",
     "height": 368
    },
    "executionInfo": {
     "elapsed": 1022,
     "status": "ok",
     "timestamp": 1609124074227,
     "user": {
      "displayName": "Eduard Alexis Larranaga",
      "photoUrl": "https://lh3.googleusercontent.com/a-/AOh14GgCVABzEgj-rCdyxWa29RnA0kIYUCXAaVbnRYOEhQ=s64",
      "userId": "04402438389940282602"
     },
     "user_tz": 300
    },
    "id": "8kl8XPwCQkVr",
    "outputId": "b48b63f7-c669-44ee-d032-471b6ceb6262"
   },
   "outputs": [
    {
     "data": {
      "text/html": [
       "\n",
       "<div id=\"altair-viz-1dc25392f2bf48ba8c7296d9c1dd22ce\"></div>\n",
       "<script type=\"text/javascript\">\n",
       "  (function(spec, embedOpt){\n",
       "    let outputDiv = document.currentScript.previousElementSibling;\n",
       "    if (outputDiv.id !== \"altair-viz-1dc25392f2bf48ba8c7296d9c1dd22ce\") {\n",
       "      outputDiv = document.getElementById(\"altair-viz-1dc25392f2bf48ba8c7296d9c1dd22ce\");\n",
       "    }\n",
       "    const paths = {\n",
       "      \"vega\": \"https://cdn.jsdelivr.net/npm//vega@5?noext\",\n",
       "      \"vega-lib\": \"https://cdn.jsdelivr.net/npm//vega-lib?noext\",\n",
       "      \"vega-lite\": \"https://cdn.jsdelivr.net/npm//vega-lite@4.8.1?noext\",\n",
       "      \"vega-embed\": \"https://cdn.jsdelivr.net/npm//vega-embed@6?noext\",\n",
       "    };\n",
       "\n",
       "    function loadScript(lib) {\n",
       "      return new Promise(function(resolve, reject) {\n",
       "        var s = document.createElement('script');\n",
       "        s.src = paths[lib];\n",
       "        s.async = true;\n",
       "        s.onload = () => resolve(paths[lib]);\n",
       "        s.onerror = () => reject(`Error loading script: ${paths[lib]}`);\n",
       "        document.getElementsByTagName(\"head\")[0].appendChild(s);\n",
       "      });\n",
       "    }\n",
       "\n",
       "    function showError(err) {\n",
       "      outputDiv.innerHTML = `<div class=\"error\" style=\"color:red;\">${err}</div>`;\n",
       "      throw err;\n",
       "    }\n",
       "\n",
       "    function displayChart(vegaEmbed) {\n",
       "      vegaEmbed(outputDiv, spec, embedOpt)\n",
       "        .catch(err => showError(`Javascript Error: ${err.message}<br>This usually means there's a typo in your chart specification. See the javascript console for the full traceback.`));\n",
       "    }\n",
       "\n",
       "    if(typeof define === \"function\" && define.amd) {\n",
       "      requirejs.config({paths});\n",
       "      require([\"vega-embed\"], displayChart, err => showError(`Error loading script: ${err.message}`));\n",
       "    } else if (typeof vegaEmbed === \"function\") {\n",
       "      displayChart(vegaEmbed);\n",
       "    } else {\n",
       "      loadScript(\"vega\")\n",
       "        .then(() => loadScript(\"vega-lite\"))\n",
       "        .then(() => loadScript(\"vega-embed\"))\n",
       "        .catch(showError)\n",
       "        .then(() => displayChart(vegaEmbed));\n",
       "    }\n",
       "  })({\"config\": {\"view\": {\"continuousWidth\": 400, \"continuousHeight\": 300}}, \"data\": {\"name\": \"data-54b58a4aa74e295879badff738f3e9c4\"}, \"mark\": \"point\", \"encoding\": {\"x\": {\"type\": \"quantitative\", \"field\": \"sigma*\", \"scale\": {\"base\": 10, \"type\": \"log\"}}, \"y\": {\"type\": \"quantitative\", \"field\": \"logM\"}}, \"$schema\": \"https://vega.github.io/schema/vega-lite/v4.8.1.json\", \"datasets\": {\"data-54b58a4aa74e295879badff738f3e9c4\": [{\"Name\": \"SDSS J000805.62+145023.4\", \"z\": 0.0454, \"sigma*\": 140.0, \"e_sigma*\": 27.0, \"n_sigma*\": null, \"FWHM\": 7610.0, \"e_FWHM\": 380.0, \"logL\": 41.13, \"e_logL\": 0.04, \"logM\": 7.7, \"E_logM\": null, \"e_logM\": 0.1}, {\"Name\": \"SDSS J004236.86-104921.8\", \"z\": 0.0419, \"sigma*\": 78.4, \"e_sigma*\": 10.0, \"n_sigma*\": null, \"FWHM\": 1960.0, \"e_FWHM\": 97.0, \"logL\": 41.58, \"e_logL\": 0.14, \"logM\": 6.7, \"E_logM\": null, \"e_logM\": 0.1}, {\"Name\": \"SDSS J011703.58+000027.3\", \"z\": 0.0456, \"sigma*\": 98.8, \"e_sigma*\": 16.0, \"n_sigma*\": null, \"FWHM\": 2270.0, \"e_FWHM\": 110.0, \"logL\": 41.45, \"e_logL\": 0.08, \"logM\": 6.8, \"E_logM\": null, \"e_logM\": 0.1}, {\"Name\": \"SDSS J020459.25-080816.0\", \"z\": 0.0772, \"sigma*\": 121.0, \"e_sigma*\": 9.4, \"n_sigma*\": \"a\", \"FWHM\": 3720.0, \"e_FWHM\": 180.0, \"logL\": 41.13, \"e_logL\": 0.05, \"logM\": 7.0, \"E_logM\": null, \"e_logM\": 0.1}, {\"Name\": \"SDSS J020615.99-001729.1\", \"z\": 0.0426, \"sigma*\": 216.0, \"e_sigma*\": 30.0, \"n_sigma*\": null, \"FWHM\": 3860.0, \"e_FWHM\": 190.0, \"logL\": 41.91, \"e_logL\": 0.07, \"logM\": 7.5, \"E_logM\": null, \"e_logM\": 0.1}, {\"Name\": \"SDSS J021011.49-090335.5\", \"z\": 0.0414, \"sigma*\": 122.0, \"e_sigma*\": 12.0, \"n_sigma*\": \"a\", \"FWHM\": 2450.0, \"e_FWHM\": 120.0, \"logL\": 41.24, \"e_logL\": 0.07, \"logM\": 6.7, \"E_logM\": null, \"e_logM\": 0.1}, {\"Name\": \"SDSS J021257.59+140610.1\", \"z\": 0.0618, \"sigma*\": 174.0, \"e_sigma*\": 12.0, \"n_sigma*\": \"a\", \"FWHM\": 3080.0, \"e_FWHM\": 150.0, \"logL\": 41.58, \"e_logL\": 0.06, \"logM\": 7.1, \"E_logM\": null, \"e_logM\": 0.1}, {\"Name\": \"SDSS J033013.26-053236.0\", \"z\": 0.0131, \"sigma*\": 99.2, \"e_sigma*\": 11.0, \"n_sigma*\": null, \"FWHM\": 5160.0, \"e_FWHM\": 250.0, \"logL\": 40.45, \"e_logL\": 0.06, \"logM\": 7.0, \"E_logM\": null, \"e_logM\": 0.1}, {\"Name\": \"SDSS J075057.25+353037.5\", \"z\": 0.17600000000000002, \"sigma*\": 154.0, \"e_sigma*\": 14.0, \"n_sigma*\": \"a\", \"FWHM\": 2970.0, \"e_FWHM\": 200.0, \"logL\": 41.63, \"e_logL\": 0.03, \"logM\": 7.2, \"E_logM\": null, \"e_logM\": 0.1}, {\"Name\": \"SDSS J080243.39+310403.3\", \"z\": 0.0409, \"sigma*\": 151.0, \"e_sigma*\": 17.0, \"n_sigma*\": null, \"FWHM\": 5360.0, \"e_FWHM\": 260.0, \"logL\": 41.67, \"e_logL\": 0.07, \"logM\": 7.6, \"E_logM\": null, \"e_logM\": 0.1}, {\"Name\": \"SDSS J080538.66+261005.4\", \"z\": 0.017, \"sigma*\": 100.0, \"e_sigma*\": 14.0, \"n_sigma*\": null, \"FWHM\": 3110.0, \"e_FWHM\": 150.0, \"logL\": 40.14, \"e_logL\": 0.04, \"logM\": 6.3, \"E_logM\": null, \"e_logM\": 0.2}, {\"Name\": \"SDSS J082510.23+375919.7\", \"z\": 0.0214, \"sigma*\": 98.7, \"e_sigma*\": 12.0, \"n_sigma*\": null, \"FWHM\": 1830.0, \"e_FWHM\": 91.0, \"logL\": 40.42, \"e_logL\": 0.04, \"logM\": 6.0, \"E_logM\": null, \"e_logM\": 0.1}, {\"Name\": \"SDSS J083202.16+461425.7\", \"z\": 0.0459, \"sigma*\": 104.0, \"e_sigma*\": 13.0, \"n_sigma*\": null, \"FWHM\": 1450.0, \"e_FWHM\": 72.0, \"logL\": 41.17, \"e_logL\": 0.08, \"logM\": 6.2, \"E_logM\": null, \"e_logM\": 0.1}, {\"Name\": \"SDSS J083949.64+484701.4\", \"z\": 0.0394, \"sigma*\": 133.0, \"e_sigma*\": 12.0, \"n_sigma*\": null, \"FWHM\": 1480.0, \"e_FWHM\": 73.0, \"logL\": 41.31, \"e_logL\": 0.08, \"logM\": 6.3, \"E_logM\": null, \"e_logM\": 0.2}, {\"Name\": \"SDSS J085554.27+005110.9\", \"z\": 0.0524, \"sigma*\": 118.0, \"e_sigma*\": 11.0, \"n_sigma*\": \"a\", \"FWHM\": 2910.0, \"e_FWHM\": 140.0, \"logL\": 41.27, \"e_logL\": 0.06, \"logM\": 6.9, \"E_logM\": null, \"e_logM\": 0.1}, {\"Name\": \"SDSS J092438.88+560746.9\", \"z\": 0.025, \"sigma*\": 135.0, \"e_sigma*\": 10.0, \"n_sigma*\": null, \"FWHM\": 1900.0, \"e_FWHM\": 94.0, \"logL\": 40.72, \"e_logL\": 0.07, \"logM\": 6.2, \"E_logM\": null, \"e_logM\": 0.4}, {\"Name\": \"SDSS J093259.60+040506.0\", \"z\": 0.059000000000000004, \"sigma*\": 70.5, \"e_sigma*\": 6.7, \"n_sigma*\": \"a\", \"FWHM\": 3550.0, \"e_FWHM\": 170.0, \"logL\": 41.14, \"e_logL\": 0.05, \"logM\": 7.0, \"E_logM\": null, \"e_logM\": 0.1}, {\"Name\": \"SDSS J093812.26+074340.0\", \"z\": 0.0219, \"sigma*\": 119.0, \"e_sigma*\": 8.0, \"n_sigma*\": null, \"FWHM\": 3640.0, \"e_FWHM\": 180.0, \"logL\": 40.8, \"e_logL\": 0.05, \"logM\": 6.8, \"E_logM\": null, \"e_logM\": 0.1}, {\"Name\": \"SDSS J094838.42+403043.7\", \"z\": 0.047, \"sigma*\": 91.4, \"e_sigma*\": 16.0, \"n_sigma*\": null, \"FWHM\": 3020.0, \"e_FWHM\": 150.0, \"logL\": 41.46, \"e_logL\": 0.07, \"logM\": 7.0, \"E_logM\": null, \"e_logM\": 0.1}, {\"Name\": \"SDSS J101912.57+635802.7\", \"z\": 0.0414, \"sigma*\": 239.0, \"e_sigma*\": 13.0, \"n_sigma*\": null, \"FWHM\": 3630.0, \"e_FWHM\": 180.0, \"logL\": 41.74, \"e_logL\": 0.08, \"logM\": 7.4, \"E_logM\": null, \"e_logM\": 0.1}, {\"Name\": \"SDSS J102044.43+013048.4\", \"z\": 0.0962, \"sigma*\": 103.0, \"e_sigma*\": 8.8, \"n_sigma*\": \"a\", \"FWHM\": 5200.0, \"e_FWHM\": 250.0, \"logL\": 41.51, \"e_logL\": 0.04, \"logM\": 7.6, \"E_logM\": null, \"e_logM\": 0.1}, {\"Name\": \"SDSS J110640.20+051905.6\", \"z\": 0.0913, \"sigma*\": 140.0, \"e_sigma*\": 15.0, \"n_sigma*\": \"a\", \"FWHM\": 5830.0, \"e_FWHM\": 290.0, \"logL\": 41.65, \"e_logL\": 0.04, \"logM\": 7.7, \"E_logM\": null, \"e_logM\": 0.1}, {\"Name\": \"SDSS J112536.16+542257.1\", \"z\": 0.0206, \"sigma*\": 124.0, \"e_sigma*\": 12.0, \"n_sigma*\": null, \"FWHM\": 2950.0, \"e_FWHM\": 140.0, \"logL\": 41.17, \"e_logL\": 0.08, \"logM\": 6.8, \"E_logM\": null, \"e_logM\": 0.1}, {\"Name\": \"SDSS J112841.00+575006.5\", \"z\": 0.0513, \"sigma*\": 159.0, \"e_sigma*\": 18.0, \"n_sigma*\": \"a\", \"FWHM\": 2660.0, \"e_FWHM\": 130.0, \"logL\": 41.66, \"e_logL\": 0.09, \"logM\": 7.0, \"E_logM\": null, \"e_logM\": 0.1}, {\"Name\": \"SDSS J120257.81+045045.0\", \"z\": 0.0207, \"sigma*\": 102.0, \"e_sigma*\": 20.0, \"n_sigma*\": null, \"FWHM\": 2250.0, \"e_FWHM\": 110.0, \"logL\": 40.1, \"e_logL\": 0.06, \"logM\": 6.0, \"E_logM\": null, \"e_logM\": 0.1}, {\"Name\": \"SDSS J120556.01+495956.1\", \"z\": 0.0631, \"sigma*\": 107.0, \"e_sigma*\": 11.0, \"n_sigma*\": \"a\", \"FWHM\": 5610.0, \"e_FWHM\": 450.0, \"logL\": 41.57, \"e_logL\": 0.04, \"logM\": 7.7, \"E_logM\": null, \"e_logM\": 0.1}, {\"Name\": \"SDSS J121607.09+504930.0\", \"z\": 0.0308, \"sigma*\": 138.0, \"e_sigma*\": 13.0, \"n_sigma*\": null, \"FWHM\": 5580.0, \"e_FWHM\": 270.0, \"logL\": 41.3, \"e_logL\": 0.06, \"logM\": 7.5, \"E_logM\": null, \"e_logM\": 0.3}, {\"Name\": \"SDSS J121754.97+583935.6\", \"z\": 0.0233, \"sigma*\": 85.6, \"e_sigma*\": 14.0, \"n_sigma*\": null, \"FWHM\": 1970.0, \"e_FWHM\": 98.0, \"logL\": 40.92, \"e_logL\": 0.08, \"logM\": 6.4, \"E_logM\": null, \"e_logM\": 0.1}, {\"Name\": \"SDSS J122324.13+024044.4\", \"z\": 0.0236, \"sigma*\": 78.1, \"e_sigma*\": 15.0, \"n_sigma*\": null, \"FWHM\": 3880.0, \"e_FWHM\": 910.0, \"logL\": 41.62, \"e_logL\": 0.08, \"logM\": 7.3, \"E_logM\": null, \"e_logM\": 0.2}, {\"Name\": \"SDSS J123237.48+662452.3\", \"z\": 0.0468, \"sigma*\": 124.0, \"e_sigma*\": 9.0, \"n_sigma*\": null, \"FWHM\": 2620.0, \"e_FWHM\": 130.0, \"logL\": 41.86, \"e_logL\": 0.19, \"logM\": 7.1, \"E_logM\": null, \"e_logM\": 0.2}, {\"Name\": \"SDSS J130620.97+531823.1\", \"z\": 0.0237, \"sigma*\": 90.7, \"e_sigma*\": 11.0, \"n_sigma*\": null, \"FWHM\": 7620.0, \"e_FWHM\": 380.0, \"logL\": 40.58, \"e_logL\": 0.04, \"logM\": 7.3, \"E_logM\": null, \"e_logM\": 0.1}, {\"Name\": \"SDSS J131305.80+012755.9\", \"z\": 0.0294, \"sigma*\": 95.4, \"e_sigma*\": 13.0, \"n_sigma*\": null, \"FWHM\": 1590.0, \"e_FWHM\": 79.0, \"logL\": 40.62, \"e_logL\": 0.07, \"logM\": 6.0, \"E_logM\": null, \"e_logM\": 0.1}, {\"Name\": \"SDSS J132249.21+545528.2\", \"z\": 0.0653, \"sigma*\": 130.0, \"e_sigma*\": 13.0, \"n_sigma*\": \"a\", \"FWHM\": 4050.0, \"e_FWHM\": 200.0, \"logL\": 41.81, \"e_logL\": 0.07, \"logM\": 7.5, \"E_logM\": null, \"e_logM\": 0.1}, {\"Name\": \"SDSS J132340.31-012749.2\", \"z\": 0.0767, \"sigma*\": 114.0, \"e_sigma*\": 16.0, \"n_sigma*\": \"a\", \"FWHM\": 1910.0, \"e_FWHM\": 95.0, \"logL\": 41.55, \"e_logL\": 0.09, \"logM\": 6.7, \"E_logM\": null, \"e_logM\": 0.1}, {\"Name\": \"SDSS J134952.84+020445.1\", \"z\": 0.0328, \"sigma*\": 138.0, \"e_sigma*\": 13.0, \"n_sigma*\": null, \"FWHM\": 2590.0, \"e_FWHM\": 120.0, \"logL\": 41.62, \"e_logL\": 0.07, \"logM\": 7.0, \"E_logM\": null, \"e_logM\": 0.1}, {\"Name\": \"SDSS J140018.42+050242.2\", \"z\": 0.0342, \"sigma*\": 145.0, \"e_sigma*\": 14.0, \"n_sigma*\": null, \"FWHM\": 3340.0, \"e_FWHM\": 160.0, \"logL\": 41.23, \"e_logL\": 0.05, \"logM\": 7.1, \"E_logM\": null, \"e_logM\": 0.5}, {\"Name\": \"SDSS J140514.87-025901.2\", \"z\": 0.0542, \"sigma*\": 148.0, \"e_sigma*\": 15.0, \"n_sigma*\": \"a\", \"FWHM\": 2990.0, \"e_FWHM\": 140.0, \"logL\": 41.29, \"e_logL\": 0.06, \"logM\": 6.9, \"E_logM\": null, \"e_logM\": 0.3}, {\"Name\": \"SDSS J141630.81+013708.0\", \"z\": 0.0538, \"sigma*\": 121.0, \"e_sigma*\": 12.0, \"n_sigma*\": \"a\", \"FWHM\": 3180.0, \"e_FWHM\": 150.0, \"logL\": 41.1, \"e_logL\": 0.04, \"logM\": 6.9, \"E_logM\": null, \"e_logM\": 0.1}, {\"Name\": \"SDSS J143452.45+483942.7\", \"z\": 0.0365, \"sigma*\": 138.0, \"e_sigma*\": 15.0, \"n_sigma*\": null, \"FWHM\": 3210.0, \"e_FWHM\": 160.0, \"logL\": 41.84, \"e_logL\": 0.1, \"logM\": 7.3, \"E_logM\": null, \"e_logM\": 0.1}, {\"Name\": \"SDSS J144629.97+500130.5\", \"z\": 0.0427, \"sigma*\": 86.8, \"e_sigma*\": 19.0, \"n_sigma*\": null, \"FWHM\": 6450.0, \"e_FWHM\": 320.0, \"logL\": 40.73, \"e_logL\": 0.03, \"logM\": 7.3, \"E_logM\": null, \"e_logM\": 0.2}, {\"Name\": \"SDSS J145706.80+494008.4\", \"z\": 0.0134, \"sigma*\": 108.0, \"e_sigma*\": 11.0, \"n_sigma*\": null, \"FWHM\": 2270.0, \"e_FWHM\": 110.0, \"logL\": 40.46, \"e_logL\": 0.1, \"logM\": 6.3, \"E_logM\": null, \"e_logM\": 0.1}, {\"Name\": \"SDSS J145901.35+611353.5\", \"z\": 0.0388, \"sigma*\": 113.0, \"e_sigma*\": 13.0, \"n_sigma*\": null, \"FWHM\": 4140.0, \"e_FWHM\": 200.0, \"logL\": 41.18, \"e_logL\": 0.06, \"logM\": 7.2, \"E_logM\": null, \"e_logM\": 0.1}, {\"Name\": \"SDSS J150556.55+034226.3\", \"z\": 0.0359, \"sigma*\": 199.0, \"e_sigma*\": 18.0, \"n_sigma*\": \"a\", \"FWHM\": 4370.0, \"e_FWHM\": 210.0, \"logL\": 42.09, \"e_logL\": 0.1, \"logM\": 7.7, \"E_logM\": null, \"e_logM\": 0.1}, {\"Name\": \"SDSS J150745.00+512710.2\", \"z\": 0.0458, \"sigma*\": 139.0, \"e_sigma*\": 17.0, \"n_sigma*\": null, \"FWHM\": 3430.0, \"e_FWHM\": 170.0, \"logL\": 41.4, \"e_logL\": 0.04, \"logM\": 7.1, \"E_logM\": null, \"e_logM\": 0.1}, {\"Name\": \"SDSS J150853.95-001148.9\", \"z\": 0.0542, \"sigma*\": 163.0, \"e_sigma*\": 15.0, \"n_sigma*\": \"a\", \"FWHM\": 6190.0, \"e_FWHM\": 610.0, \"logL\": 41.51, \"e_logL\": 0.04, \"logM\": 7.8, \"E_logM\": null, \"e_logM\": 0.1}, {\"Name\": \"SDSS J152515.18+601409.0\", \"z\": 0.0783, \"sigma*\": 104.0, \"e_sigma*\": 11.0, \"n_sigma*\": \"a\", \"FWHM\": 2590.0, \"e_FWHM\": 120.0, \"logL\": 41.41, \"e_logL\": 0.09, \"logM\": 6.9, \"E_logM\": null, \"e_logM\": 0.1}, {\"Name\": \"SDSS J155417.43+323837.8\", \"z\": 0.0483, \"sigma*\": 120.0, \"e_sigma*\": 13.0, \"n_sigma*\": \"a\", \"FWHM\": 4200.0, \"e_FWHM\": 210.0, \"logL\": 41.86, \"e_logL\": 0.08, \"logM\": 7.5, \"E_logM\": null, \"e_logM\": 0.1}, {\"Name\": \"SDSS J161156.31+521116.8\", \"z\": 0.040999999999999995, \"sigma*\": 116.0, \"e_sigma*\": 10.0, \"n_sigma*\": null, \"FWHM\": 3760.0, \"e_FWHM\": 180.0, \"logL\": 41.09, \"e_logL\": 0.04, \"logM\": 7.0, \"E_logM\": null, \"e_logM\": 0.3}, {\"Name\": \"SDSS J161951.31+405847.2\", \"z\": 0.0379, \"sigma*\": 89.1, \"e_sigma*\": 20.0, \"n_sigma*\": null, \"FWHM\": 1700.0, \"e_FWHM\": 85.0, \"logL\": 40.99, \"e_logL\": 0.07, \"logM\": 6.3, \"E_logM\": null, \"e_logM\": 0.1}, {\"Name\": \"SDSS J170328.96+614109.9\", \"z\": 0.0772, \"sigma*\": 123.0, \"e_sigma*\": 13.0, \"n_sigma*\": \"a\", \"FWHM\": 4300.0, \"e_FWHM\": 210.0, \"logL\": 41.92, \"e_logL\": 0.05, \"logM\": 7.6, \"E_logM\": null, \"e_logM\": 0.1}, {\"Name\": \"SDSS J171550.49+593548.7\", \"z\": 0.0657, \"sigma*\": 146.0, \"e_sigma*\": 13.0, \"n_sigma*\": \"a\", \"FWHM\": 3500.0, \"e_FWHM\": 170.0, \"logL\": 41.24, \"e_logL\": 0.05, \"logM\": 7.0, \"E_logM\": null, \"e_logM\": 0.1}, {\"Name\": \"SDSS J212401.90-002158.7\", \"z\": 0.0619, \"sigma*\": 110.0, \"e_sigma*\": 15.0, \"n_sigma*\": \"a\", \"FWHM\": 2620.0, \"e_FWHM\": 130.0, \"logL\": 41.41, \"e_logL\": 0.06, \"logM\": 6.9, \"E_logM\": null, \"e_logM\": 0.1}, {\"Name\": \"SDSS J222435.29-001103.8\", \"z\": 0.0581, \"sigma*\": 111.0, \"e_sigma*\": 19.0, \"n_sigma*\": \"a\", \"FWHM\": 2290.0, \"e_FWHM\": 1190.0, \"logL\": 41.83, \"e_logL\": 0.17, \"logM\": 7.0, \"E_logM\": null, \"e_logM\": 0.4}, {\"Name\": \"SDSS J223000.37-094622.1\", \"z\": 0.0727, \"sigma*\": 112.0, \"e_sigma*\": 13.0, \"n_sigma*\": \"a\", \"FWHM\": 3630.0, \"e_FWHM\": 180.0, \"logL\": 41.21, \"e_logL\": 0.04, \"logM\": 7.1, \"E_logM\": null, \"e_logM\": 0.1}, {\"Name\": \"SDSS J232721.96+152437.3\", \"z\": 0.0457, \"sigma*\": 193.0, \"e_sigma*\": 18.0, \"n_sigma*\": null, \"FWHM\": 7540.0, \"e_FWHM\": 750.0, \"logL\": 41.65, \"e_logL\": 0.06, \"logM\": 7.9, \"E_logM\": null, \"e_logM\": 0.1}, {\"Name\": \"SDSS J235128.78+155259.0\", \"z\": 0.0963, \"sigma*\": 193.0, \"e_sigma*\": 22.0, \"n_sigma*\": \"a\", \"FWHM\": 8240.0, \"e_FWHM\": 410.0, \"logL\": 41.87, \"e_logL\": 0.04, \"logM\": 8.2, \"E_logM\": null, \"e_logM\": 0.2}, {\"Name\": \"SDSS J010712.03+140844.9\", \"z\": 0.0768, \"sigma*\": 36.0, \"e_sigma*\": 6.0, \"n_sigma*\": \"b\", \"FWHM\": 880.0, \"e_FWHM\": 170.0, \"logL\": 42.57, \"e_logL\": 0.2, \"logM\": 5.8, \"E_logM\": null, \"e_logM\": 0.2}, {\"Name\": \"SDSS J024912.86-081525.6\", \"z\": 0.0294, \"sigma*\": 50.0, \"e_sigma*\": 4.0, \"n_sigma*\": \"b\", \"FWHM\": 840.0, \"e_FWHM\": 320.0, \"logL\": 41.93, \"e_logL\": 0.08, \"logM\": 5.1, \"E_logM\": null, \"e_logM\": 0.3}, {\"Name\": \"SDSS J032515.59+003408.4\", \"z\": 0.102, \"sigma*\": 55.0, \"e_sigma*\": 6.0, \"n_sigma*\": \"b\", \"FWHM\": 990.0, \"e_FWHM\": 49.0, \"logL\": 42.03, \"e_logL\": 0.12, \"logM\": 5.8, \"E_logM\": null, \"e_logM\": 0.1}, {\"Name\": \"SDSS J080907.58+441641.4\", \"z\": 0.0539, \"sigma*\": 65.0, \"e_sigma*\": 4.0, \"n_sigma*\": \"b\", \"FWHM\": 940.0, \"e_FWHM\": 180.0, \"logL\": 40.47, \"e_logL\": 0.04, \"logM\": 5.5, \"E_logM\": null, \"e_logM\": 0.8}, {\"Name\": \"SDSS J082912.67+500652.3\", \"z\": 0.0434, \"sigma*\": 60.0, \"e_sigma*\": 4.0, \"n_sigma*\": \"b\", \"FWHM\": 840.0, \"e_FWHM\": 41.0, \"logL\": 42.14, \"e_logL\": 0.06, \"logM\": 5.7, \"E_logM\": null, \"e_logM\": 0.1}, {\"Name\": \"SDSS J101108.40+002908.7\", \"z\": 0.1, \"sigma*\": 48.0, \"e_sigma*\": 7.0, \"n_sigma*\": \"b\", \"FWHM\": 1460.0, \"e_FWHM\": 72.0, \"logL\": 42.68, \"e_logL\": 0.19, \"logM\": 6.2, \"E_logM\": null, \"e_logM\": 0.3}, {\"Name\": \"SDSS J101627.32-000714.5\", \"z\": 0.0944, \"sigma*\": 39.0, \"e_sigma*\": 6.0, \"n_sigma*\": \"b\", \"FWHM\": 1520.0, \"e_FWHM\": 75.0, \"logL\": 42.57, \"e_logL\": 0.17, \"logM\": 6.1, \"E_logM\": null, \"e_logM\": 0.2}, {\"Name\": \"SDSS J124035.81-002919.4\", \"z\": 0.0809, \"sigma*\": 49.0, \"e_sigma*\": 7.0, \"n_sigma*\": \"b\", \"FWHM\": 1720.0, \"e_FWHM\": 85.0, \"logL\": 42.35, \"e_logL\": 0.11, \"logM\": 6.6, \"E_logM\": null, \"e_logM\": 0.6}, {\"Name\": \"SDSS J125055.28-015556.6\", \"z\": 0.0814, \"sigma*\": 64.0, \"e_sigma*\": 6.0, \"n_sigma*\": \"b\", \"FWHM\": 1980.0, \"e_FWHM\": 99.0, \"logL\": 42.75, \"e_logL\": 0.14, \"logM\": 6.5, \"E_logM\": null, \"e_logM\": 0.1}, {\"Name\": \"SDSS J143450.62+033842.5\", \"z\": 0.0282, \"sigma*\": 48.0, \"e_sigma*\": 7.0, \"n_sigma*\": \"b\", \"FWHM\": 1480.0, \"e_FWHM\": 73.0, \"logL\": 41.87, \"e_logL\": 0.16, \"logM\": 5.6, \"E_logM\": null, \"e_logM\": 0.1}, {\"Name\": \"SDSS J170246.09+602818.9\", \"z\": 0.0689, \"sigma*\": 69.0, \"e_sigma*\": 6.0, \"n_sigma*\": \"b\", \"FWHM\": 3270.0, \"e_FWHM\": 160.0, \"logL\": 42.67, \"e_logL\": 0.16, \"logM\": 6.9, \"E_logM\": null, \"e_logM\": 0.2}, {\"Name\": \"SDSS J172759.15+542147.0\", \"z\": 0.0995, \"sigma*\": 58.0, \"e_sigma*\": 7.0, \"n_sigma*\": \"b\", \"FWHM\": 810.0, \"e_FWHM\": 400.0, \"logL\": 42.19, \"e_logL\": 0.09, \"logM\": 5.6, \"E_logM\": null, \"e_logM\": 0.5}, {\"Name\": \"SDSS J215658.30+110343.1\", \"z\": 0.10800000000000001, \"sigma*\": 81.0, \"e_sigma*\": 8.0, \"n_sigma*\": \"b\", \"FWHM\": 1430.0, \"e_FWHM\": 280.0, \"logL\": 41.22, \"e_logL\": 0.03, \"logM\": 6.3, \"E_logM\": null, \"e_logM\": 0.8}, {\"Name\": \"SDSS J232159.06+000738.8\", \"z\": 0.184, \"sigma*\": 81.0, \"e_sigma*\": 9.0, \"n_sigma*\": \"b\", \"FWHM\": 2520.0, \"e_FWHM\": 120.0, \"logL\": 42.96, \"e_logL\": 0.1, \"logM\": 6.7, \"E_logM\": null, \"e_logM\": 0.2}, {\"Name\": \"SDSS J233837.10-002810.3\", \"z\": 0.0356, \"sigma*\": 58.0, \"e_sigma*\": 4.0, \"n_sigma*\": \"b\", \"FWHM\": 1740.0, \"e_FWHM\": 86.0, \"logL\": 43.61, \"e_logL\": 0.13, \"logM\": 5.8, \"E_logM\": null, \"e_logM\": 0.1}, {\"Name\": \"3C 120\", \"z\": 0.033, \"sigma*\": 162.0, \"e_sigma*\": 24.0, \"n_sigma*\": \"b\", \"FWHM\": null, \"e_FWHM\": null, \"logL\": null, \"e_logL\": null, \"logM\": 7.43, \"E_logM\": 0.2, \"e_logM\": 0.25}, {\"Name\": \"3C 390.3\", \"z\": 0.0561, \"sigma*\": 268.0, \"e_sigma*\": 15.0, \"n_sigma*\": null, \"FWHM\": null, \"e_FWHM\": null, \"logL\": null, \"e_logL\": null, \"logM\": 8.52, \"E_logM\": 0.09, \"e_logM\": 0.12}, {\"Name\": \"Akn 120\", \"z\": 0.0323, \"sigma*\": 224.0, \"e_sigma*\": 15.0, \"n_sigma*\": null, \"FWHM\": null, \"e_FWHM\": null, \"logL\": null, \"e_logL\": null, \"logM\": 8.2, \"E_logM\": 0.05, \"e_logM\": 0.07}, {\"Name\": \"Mrk 79\", \"z\": 0.0222, \"sigma*\": 130.0, \"e_sigma*\": 10.0, \"n_sigma*\": null, \"FWHM\": null, \"e_FWHM\": null, \"logL\": null, \"e_logL\": null, \"logM\": 7.67, \"E_logM\": 0.11, \"e_logM\": 0.15}, {\"Name\": \"Mrk 110\", \"z\": 0.0353, \"sigma*\": 87.1, \"e_sigma*\": 12.0, \"n_sigma*\": null, \"FWHM\": null, \"e_FWHM\": null, \"logL\": null, \"e_logL\": null, \"logM\": 6.97, \"E_logM\": 0.11, \"e_logM\": 0.15}, {\"Name\": \"Mrk 279\", \"z\": 0.0305, \"sigma*\": 197.0, \"e_sigma*\": 12.0, \"n_sigma*\": null, \"FWHM\": null, \"e_FWHM\": null, \"logL\": null, \"e_logL\": null, \"logM\": 7.45, \"E_logM\": 0.12, \"e_logM\": 0.16}, {\"Name\": \"Mrk 590\", \"z\": 0.0264, \"sigma*\": 189.0, \"e_sigma*\": 5.7, \"n_sigma*\": null, \"FWHM\": null, \"e_FWHM\": null, \"logL\": null, \"e_logL\": null, \"logM\": 7.2, \"E_logM\": 0.11, \"e_logM\": 0.15}, {\"Name\": \"Mrk 817\", \"z\": 0.0315, \"sigma*\": 127.0, \"e_sigma*\": 12.0, \"n_sigma*\": null, \"FWHM\": null, \"e_FWHM\": null, \"logL\": null, \"e_logL\": null, \"logM\": 7.62, \"E_logM\": 0.08, \"e_logM\": 0.1}, {\"Name\": \"NGC 3227\", \"z\": 0.00386, \"sigma*\": 135.0, \"e_sigma*\": 3.8, \"n_sigma*\": null, \"FWHM\": null, \"e_FWHM\": null, \"logL\": null, \"e_logL\": null, \"logM\": 7.47, \"E_logM\": 0.24, \"e_logM\": 1.06}, {\"Name\": \"NGC 3516\", \"z\": 0.00884, \"sigma*\": 181.0, \"e_sigma*\": 4.9, \"n_sigma*\": \"b\", \"FWHM\": null, \"e_FWHM\": null, \"logL\": null, \"e_logL\": null, \"logM\": 7.04, \"E_logM\": 0.31, \"e_logM\": 0.39}, {\"Name\": \"NGC 3783\", \"z\": 0.009729999999999999, \"sigma*\": 95.0, \"e_sigma*\": 10.0, \"n_sigma*\": null, \"FWHM\": null, \"e_FWHM\": null, \"logL\": null, \"e_logL\": null, \"logM\": 7.16, \"E_logM\": 0.17, \"e_logM\": 0.23}, {\"Name\": \"NGC 4051\", \"z\": 0.00234, \"sigma*\": 88.9, \"e_sigma*\": 2.9, \"n_sigma*\": null, \"FWHM\": null, \"e_FWHM\": null, \"logL\": null, \"e_logL\": null, \"logM\": 5.99, \"E_logM\": 0.17, \"e_logM\": 0.2}, {\"Name\": \"NGC 4151\", \"z\": 0.0033200000000000005, \"sigma*\": 96.8, \"e_sigma*\": 2.9, \"n_sigma*\": null, \"FWHM\": null, \"e_FWHM\": null, \"logL\": null, \"e_logL\": null, \"logM\": 6.91, \"E_logM\": 0.17, \"e_logM\": 0.29}, {\"Name\": \"NGC 5548\", \"z\": 0.0172, \"sigma*\": 198.0, \"e_sigma*\": 11.0, \"n_sigma*\": null, \"FWHM\": null, \"e_FWHM\": null, \"logL\": null, \"e_logL\": null, \"logM\": 7.81, \"E_logM\": 0.02, \"e_logM\": 0.02}, {\"Name\": \"NGC 7469\", \"z\": 0.0163, \"sigma*\": 133.0, \"e_sigma*\": 4.8, \"n_sigma*\": null, \"FWHM\": null, \"e_FWHM\": null, \"logL\": null, \"e_logL\": null, \"logM\": 6.49, \"E_logM\": 0.16, \"e_logM\": 0.27}, {\"Name\": \"POX 52\", \"z\": 0.0218, \"sigma*\": 36.0, \"e_sigma*\": 5.0, \"n_sigma*\": null, \"FWHM\": null, \"e_FWHM\": null, \"logL\": null, \"e_logL\": null, \"logM\": 5.2, \"E_logM\": null, \"e_logM\": 0.3}, {\"Name\": \"NGC 4395\", \"z\": 0.000947, \"sigma*\": 30.0, \"e_sigma*\": 5.0, \"n_sigma*\": null, \"FWHM\": null, \"e_FWHM\": null, \"logL\": null, \"e_logL\": null, \"logM\": 4.9, \"E_logM\": null, \"e_logM\": 0.4}]}}, {\"mode\": \"vega-lite\"});\n",
       "</script>"
      ],
      "text/plain": [
       "alt.Chart(...)"
      ]
     },
     "execution_count": 17,
     "metadata": {
      "tags": []
     },
     "output_type": "execute_result"
    }
   ],
   "source": [
    "alt.Chart(df).mark_point().encode(\n",
    "    alt.X('sigma*',scale=alt.Scale(type='log', base=10)),\n",
    "    alt.Y('logM')\n",
    ")"
   ]
  },
  {
   "cell_type": "markdown",
   "metadata": {
    "id": "5aHKs3E9QkVr"
   },
   "source": [
    "And now, we will add some color according to the values of another feature."
   ]
  },
  {
   "cell_type": "code",
   "execution_count": null,
   "metadata": {
    "colab": {
     "base_uri": "https://localhost:8080/",
     "height": 368
    },
    "executionInfo": {
     "elapsed": 776,
     "status": "ok",
     "timestamp": 1609124077722,
     "user": {
      "displayName": "Eduard Alexis Larranaga",
      "photoUrl": "https://lh3.googleusercontent.com/a-/AOh14GgCVABzEgj-rCdyxWa29RnA0kIYUCXAaVbnRYOEhQ=s64",
      "userId": "04402438389940282602"
     },
     "user_tz": 300
    },
    "id": "j25_fIo_QkVs",
    "outputId": "7bd3f887-1fd0-4f04-cf43-a6d995d94fcd"
   },
   "outputs": [
    {
     "data": {
      "text/html": [
       "\n",
       "<div id=\"altair-viz-2b6b36e8a1884c08a6e669465dfd3c92\"></div>\n",
       "<script type=\"text/javascript\">\n",
       "  (function(spec, embedOpt){\n",
       "    let outputDiv = document.currentScript.previousElementSibling;\n",
       "    if (outputDiv.id !== \"altair-viz-2b6b36e8a1884c08a6e669465dfd3c92\") {\n",
       "      outputDiv = document.getElementById(\"altair-viz-2b6b36e8a1884c08a6e669465dfd3c92\");\n",
       "    }\n",
       "    const paths = {\n",
       "      \"vega\": \"https://cdn.jsdelivr.net/npm//vega@5?noext\",\n",
       "      \"vega-lib\": \"https://cdn.jsdelivr.net/npm//vega-lib?noext\",\n",
       "      \"vega-lite\": \"https://cdn.jsdelivr.net/npm//vega-lite@4.8.1?noext\",\n",
       "      \"vega-embed\": \"https://cdn.jsdelivr.net/npm//vega-embed@6?noext\",\n",
       "    };\n",
       "\n",
       "    function loadScript(lib) {\n",
       "      return new Promise(function(resolve, reject) {\n",
       "        var s = document.createElement('script');\n",
       "        s.src = paths[lib];\n",
       "        s.async = true;\n",
       "        s.onload = () => resolve(paths[lib]);\n",
       "        s.onerror = () => reject(`Error loading script: ${paths[lib]}`);\n",
       "        document.getElementsByTagName(\"head\")[0].appendChild(s);\n",
       "      });\n",
       "    }\n",
       "\n",
       "    function showError(err) {\n",
       "      outputDiv.innerHTML = `<div class=\"error\" style=\"color:red;\">${err}</div>`;\n",
       "      throw err;\n",
       "    }\n",
       "\n",
       "    function displayChart(vegaEmbed) {\n",
       "      vegaEmbed(outputDiv, spec, embedOpt)\n",
       "        .catch(err => showError(`Javascript Error: ${err.message}<br>This usually means there's a typo in your chart specification. See the javascript console for the full traceback.`));\n",
       "    }\n",
       "\n",
       "    if(typeof define === \"function\" && define.amd) {\n",
       "      requirejs.config({paths});\n",
       "      require([\"vega-embed\"], displayChart, err => showError(`Error loading script: ${err.message}`));\n",
       "    } else if (typeof vegaEmbed === \"function\") {\n",
       "      displayChart(vegaEmbed);\n",
       "    } else {\n",
       "      loadScript(\"vega\")\n",
       "        .then(() => loadScript(\"vega-lite\"))\n",
       "        .then(() => loadScript(\"vega-embed\"))\n",
       "        .catch(showError)\n",
       "        .then(() => displayChart(vegaEmbed));\n",
       "    }\n",
       "  })({\"config\": {\"view\": {\"continuousWidth\": 400, \"continuousHeight\": 300}}, \"data\": {\"name\": \"data-54b58a4aa74e295879badff738f3e9c4\"}, \"mark\": {\"type\": \"point\", \"filled\": true}, \"encoding\": {\"color\": {\"type\": \"quantitative\", \"field\": \"z\"}, \"x\": {\"type\": \"quantitative\", \"field\": \"sigma*\", \"scale\": {\"base\": 10, \"type\": \"log\"}}, \"y\": {\"type\": \"quantitative\", \"field\": \"logM\"}}, \"$schema\": \"https://vega.github.io/schema/vega-lite/v4.8.1.json\", \"datasets\": {\"data-54b58a4aa74e295879badff738f3e9c4\": [{\"Name\": \"SDSS J000805.62+145023.4\", \"z\": 0.0454, \"sigma*\": 140.0, \"e_sigma*\": 27.0, \"n_sigma*\": null, \"FWHM\": 7610.0, \"e_FWHM\": 380.0, \"logL\": 41.13, \"e_logL\": 0.04, \"logM\": 7.7, \"E_logM\": null, \"e_logM\": 0.1}, {\"Name\": \"SDSS J004236.86-104921.8\", \"z\": 0.0419, \"sigma*\": 78.4, \"e_sigma*\": 10.0, \"n_sigma*\": null, \"FWHM\": 1960.0, \"e_FWHM\": 97.0, \"logL\": 41.58, \"e_logL\": 0.14, \"logM\": 6.7, \"E_logM\": null, \"e_logM\": 0.1}, {\"Name\": \"SDSS J011703.58+000027.3\", \"z\": 0.0456, \"sigma*\": 98.8, \"e_sigma*\": 16.0, \"n_sigma*\": null, \"FWHM\": 2270.0, \"e_FWHM\": 110.0, \"logL\": 41.45, \"e_logL\": 0.08, \"logM\": 6.8, \"E_logM\": null, \"e_logM\": 0.1}, {\"Name\": \"SDSS J020459.25-080816.0\", \"z\": 0.0772, \"sigma*\": 121.0, \"e_sigma*\": 9.4, \"n_sigma*\": \"a\", \"FWHM\": 3720.0, \"e_FWHM\": 180.0, \"logL\": 41.13, \"e_logL\": 0.05, \"logM\": 7.0, \"E_logM\": null, \"e_logM\": 0.1}, {\"Name\": \"SDSS J020615.99-001729.1\", \"z\": 0.0426, \"sigma*\": 216.0, \"e_sigma*\": 30.0, \"n_sigma*\": null, \"FWHM\": 3860.0, \"e_FWHM\": 190.0, \"logL\": 41.91, \"e_logL\": 0.07, \"logM\": 7.5, \"E_logM\": null, \"e_logM\": 0.1}, {\"Name\": \"SDSS J021011.49-090335.5\", \"z\": 0.0414, \"sigma*\": 122.0, \"e_sigma*\": 12.0, \"n_sigma*\": \"a\", \"FWHM\": 2450.0, \"e_FWHM\": 120.0, \"logL\": 41.24, \"e_logL\": 0.07, \"logM\": 6.7, \"E_logM\": null, \"e_logM\": 0.1}, {\"Name\": \"SDSS J021257.59+140610.1\", \"z\": 0.0618, \"sigma*\": 174.0, \"e_sigma*\": 12.0, \"n_sigma*\": \"a\", \"FWHM\": 3080.0, \"e_FWHM\": 150.0, \"logL\": 41.58, \"e_logL\": 0.06, \"logM\": 7.1, \"E_logM\": null, \"e_logM\": 0.1}, {\"Name\": \"SDSS J033013.26-053236.0\", \"z\": 0.0131, \"sigma*\": 99.2, \"e_sigma*\": 11.0, \"n_sigma*\": null, \"FWHM\": 5160.0, \"e_FWHM\": 250.0, \"logL\": 40.45, \"e_logL\": 0.06, \"logM\": 7.0, \"E_logM\": null, \"e_logM\": 0.1}, {\"Name\": \"SDSS J075057.25+353037.5\", \"z\": 0.17600000000000002, \"sigma*\": 154.0, \"e_sigma*\": 14.0, \"n_sigma*\": \"a\", \"FWHM\": 2970.0, \"e_FWHM\": 200.0, \"logL\": 41.63, \"e_logL\": 0.03, \"logM\": 7.2, \"E_logM\": null, \"e_logM\": 0.1}, {\"Name\": \"SDSS J080243.39+310403.3\", \"z\": 0.0409, \"sigma*\": 151.0, \"e_sigma*\": 17.0, \"n_sigma*\": null, \"FWHM\": 5360.0, \"e_FWHM\": 260.0, \"logL\": 41.67, \"e_logL\": 0.07, \"logM\": 7.6, \"E_logM\": null, \"e_logM\": 0.1}, {\"Name\": \"SDSS J080538.66+261005.4\", \"z\": 0.017, \"sigma*\": 100.0, \"e_sigma*\": 14.0, \"n_sigma*\": null, \"FWHM\": 3110.0, \"e_FWHM\": 150.0, \"logL\": 40.14, \"e_logL\": 0.04, \"logM\": 6.3, \"E_logM\": null, \"e_logM\": 0.2}, {\"Name\": \"SDSS J082510.23+375919.7\", \"z\": 0.0214, \"sigma*\": 98.7, \"e_sigma*\": 12.0, \"n_sigma*\": null, \"FWHM\": 1830.0, \"e_FWHM\": 91.0, \"logL\": 40.42, \"e_logL\": 0.04, \"logM\": 6.0, \"E_logM\": null, \"e_logM\": 0.1}, {\"Name\": \"SDSS J083202.16+461425.7\", \"z\": 0.0459, \"sigma*\": 104.0, \"e_sigma*\": 13.0, \"n_sigma*\": null, \"FWHM\": 1450.0, \"e_FWHM\": 72.0, \"logL\": 41.17, \"e_logL\": 0.08, \"logM\": 6.2, \"E_logM\": null, \"e_logM\": 0.1}, {\"Name\": \"SDSS J083949.64+484701.4\", \"z\": 0.0394, \"sigma*\": 133.0, \"e_sigma*\": 12.0, \"n_sigma*\": null, \"FWHM\": 1480.0, \"e_FWHM\": 73.0, \"logL\": 41.31, \"e_logL\": 0.08, \"logM\": 6.3, \"E_logM\": null, \"e_logM\": 0.2}, {\"Name\": \"SDSS J085554.27+005110.9\", \"z\": 0.0524, \"sigma*\": 118.0, \"e_sigma*\": 11.0, \"n_sigma*\": \"a\", \"FWHM\": 2910.0, \"e_FWHM\": 140.0, \"logL\": 41.27, \"e_logL\": 0.06, \"logM\": 6.9, \"E_logM\": null, \"e_logM\": 0.1}, {\"Name\": \"SDSS J092438.88+560746.9\", \"z\": 0.025, \"sigma*\": 135.0, \"e_sigma*\": 10.0, \"n_sigma*\": null, \"FWHM\": 1900.0, \"e_FWHM\": 94.0, \"logL\": 40.72, \"e_logL\": 0.07, \"logM\": 6.2, \"E_logM\": null, \"e_logM\": 0.4}, {\"Name\": \"SDSS J093259.60+040506.0\", \"z\": 0.059000000000000004, \"sigma*\": 70.5, \"e_sigma*\": 6.7, \"n_sigma*\": \"a\", \"FWHM\": 3550.0, \"e_FWHM\": 170.0, \"logL\": 41.14, \"e_logL\": 0.05, \"logM\": 7.0, \"E_logM\": null, \"e_logM\": 0.1}, {\"Name\": \"SDSS J093812.26+074340.0\", \"z\": 0.0219, \"sigma*\": 119.0, \"e_sigma*\": 8.0, \"n_sigma*\": null, \"FWHM\": 3640.0, \"e_FWHM\": 180.0, \"logL\": 40.8, \"e_logL\": 0.05, \"logM\": 6.8, \"E_logM\": null, \"e_logM\": 0.1}, {\"Name\": \"SDSS J094838.42+403043.7\", \"z\": 0.047, \"sigma*\": 91.4, \"e_sigma*\": 16.0, \"n_sigma*\": null, \"FWHM\": 3020.0, \"e_FWHM\": 150.0, \"logL\": 41.46, \"e_logL\": 0.07, \"logM\": 7.0, \"E_logM\": null, \"e_logM\": 0.1}, {\"Name\": \"SDSS J101912.57+635802.7\", \"z\": 0.0414, \"sigma*\": 239.0, \"e_sigma*\": 13.0, \"n_sigma*\": null, \"FWHM\": 3630.0, \"e_FWHM\": 180.0, \"logL\": 41.74, \"e_logL\": 0.08, \"logM\": 7.4, \"E_logM\": null, \"e_logM\": 0.1}, {\"Name\": \"SDSS J102044.43+013048.4\", \"z\": 0.0962, \"sigma*\": 103.0, \"e_sigma*\": 8.8, \"n_sigma*\": \"a\", \"FWHM\": 5200.0, \"e_FWHM\": 250.0, \"logL\": 41.51, \"e_logL\": 0.04, \"logM\": 7.6, \"E_logM\": null, \"e_logM\": 0.1}, {\"Name\": \"SDSS J110640.20+051905.6\", \"z\": 0.0913, \"sigma*\": 140.0, \"e_sigma*\": 15.0, \"n_sigma*\": \"a\", \"FWHM\": 5830.0, \"e_FWHM\": 290.0, \"logL\": 41.65, \"e_logL\": 0.04, \"logM\": 7.7, \"E_logM\": null, \"e_logM\": 0.1}, {\"Name\": \"SDSS J112536.16+542257.1\", \"z\": 0.0206, \"sigma*\": 124.0, \"e_sigma*\": 12.0, \"n_sigma*\": null, \"FWHM\": 2950.0, \"e_FWHM\": 140.0, \"logL\": 41.17, \"e_logL\": 0.08, \"logM\": 6.8, \"E_logM\": null, \"e_logM\": 0.1}, {\"Name\": \"SDSS J112841.00+575006.5\", \"z\": 0.0513, \"sigma*\": 159.0, \"e_sigma*\": 18.0, \"n_sigma*\": \"a\", \"FWHM\": 2660.0, \"e_FWHM\": 130.0, \"logL\": 41.66, \"e_logL\": 0.09, \"logM\": 7.0, \"E_logM\": null, \"e_logM\": 0.1}, {\"Name\": \"SDSS J120257.81+045045.0\", \"z\": 0.0207, \"sigma*\": 102.0, \"e_sigma*\": 20.0, \"n_sigma*\": null, \"FWHM\": 2250.0, \"e_FWHM\": 110.0, \"logL\": 40.1, \"e_logL\": 0.06, \"logM\": 6.0, \"E_logM\": null, \"e_logM\": 0.1}, {\"Name\": \"SDSS J120556.01+495956.1\", \"z\": 0.0631, \"sigma*\": 107.0, \"e_sigma*\": 11.0, \"n_sigma*\": \"a\", \"FWHM\": 5610.0, \"e_FWHM\": 450.0, \"logL\": 41.57, \"e_logL\": 0.04, \"logM\": 7.7, \"E_logM\": null, \"e_logM\": 0.1}, {\"Name\": \"SDSS J121607.09+504930.0\", \"z\": 0.0308, \"sigma*\": 138.0, \"e_sigma*\": 13.0, \"n_sigma*\": null, \"FWHM\": 5580.0, \"e_FWHM\": 270.0, \"logL\": 41.3, \"e_logL\": 0.06, \"logM\": 7.5, \"E_logM\": null, \"e_logM\": 0.3}, {\"Name\": \"SDSS J121754.97+583935.6\", \"z\": 0.0233, \"sigma*\": 85.6, \"e_sigma*\": 14.0, \"n_sigma*\": null, \"FWHM\": 1970.0, \"e_FWHM\": 98.0, \"logL\": 40.92, \"e_logL\": 0.08, \"logM\": 6.4, \"E_logM\": null, \"e_logM\": 0.1}, {\"Name\": \"SDSS J122324.13+024044.4\", \"z\": 0.0236, \"sigma*\": 78.1, \"e_sigma*\": 15.0, \"n_sigma*\": null, \"FWHM\": 3880.0, \"e_FWHM\": 910.0, \"logL\": 41.62, \"e_logL\": 0.08, \"logM\": 7.3, \"E_logM\": null, \"e_logM\": 0.2}, {\"Name\": \"SDSS J123237.48+662452.3\", \"z\": 0.0468, \"sigma*\": 124.0, \"e_sigma*\": 9.0, \"n_sigma*\": null, \"FWHM\": 2620.0, \"e_FWHM\": 130.0, \"logL\": 41.86, \"e_logL\": 0.19, \"logM\": 7.1, \"E_logM\": null, \"e_logM\": 0.2}, {\"Name\": \"SDSS J130620.97+531823.1\", \"z\": 0.0237, \"sigma*\": 90.7, \"e_sigma*\": 11.0, \"n_sigma*\": null, \"FWHM\": 7620.0, \"e_FWHM\": 380.0, \"logL\": 40.58, \"e_logL\": 0.04, \"logM\": 7.3, \"E_logM\": null, \"e_logM\": 0.1}, {\"Name\": \"SDSS J131305.80+012755.9\", \"z\": 0.0294, \"sigma*\": 95.4, \"e_sigma*\": 13.0, \"n_sigma*\": null, \"FWHM\": 1590.0, \"e_FWHM\": 79.0, \"logL\": 40.62, \"e_logL\": 0.07, \"logM\": 6.0, \"E_logM\": null, \"e_logM\": 0.1}, {\"Name\": \"SDSS J132249.21+545528.2\", \"z\": 0.0653, \"sigma*\": 130.0, \"e_sigma*\": 13.0, \"n_sigma*\": \"a\", \"FWHM\": 4050.0, \"e_FWHM\": 200.0, \"logL\": 41.81, \"e_logL\": 0.07, \"logM\": 7.5, \"E_logM\": null, \"e_logM\": 0.1}, {\"Name\": \"SDSS J132340.31-012749.2\", \"z\": 0.0767, \"sigma*\": 114.0, \"e_sigma*\": 16.0, \"n_sigma*\": \"a\", \"FWHM\": 1910.0, \"e_FWHM\": 95.0, \"logL\": 41.55, \"e_logL\": 0.09, \"logM\": 6.7, \"E_logM\": null, \"e_logM\": 0.1}, {\"Name\": \"SDSS J134952.84+020445.1\", \"z\": 0.0328, \"sigma*\": 138.0, \"e_sigma*\": 13.0, \"n_sigma*\": null, \"FWHM\": 2590.0, \"e_FWHM\": 120.0, \"logL\": 41.62, \"e_logL\": 0.07, \"logM\": 7.0, \"E_logM\": null, \"e_logM\": 0.1}, {\"Name\": \"SDSS J140018.42+050242.2\", \"z\": 0.0342, \"sigma*\": 145.0, \"e_sigma*\": 14.0, \"n_sigma*\": null, \"FWHM\": 3340.0, \"e_FWHM\": 160.0, \"logL\": 41.23, \"e_logL\": 0.05, \"logM\": 7.1, \"E_logM\": null, \"e_logM\": 0.5}, {\"Name\": \"SDSS J140514.87-025901.2\", \"z\": 0.0542, \"sigma*\": 148.0, \"e_sigma*\": 15.0, \"n_sigma*\": \"a\", \"FWHM\": 2990.0, \"e_FWHM\": 140.0, \"logL\": 41.29, \"e_logL\": 0.06, \"logM\": 6.9, \"E_logM\": null, \"e_logM\": 0.3}, {\"Name\": \"SDSS J141630.81+013708.0\", \"z\": 0.0538, \"sigma*\": 121.0, \"e_sigma*\": 12.0, \"n_sigma*\": \"a\", \"FWHM\": 3180.0, \"e_FWHM\": 150.0, \"logL\": 41.1, \"e_logL\": 0.04, \"logM\": 6.9, \"E_logM\": null, \"e_logM\": 0.1}, {\"Name\": \"SDSS J143452.45+483942.7\", \"z\": 0.0365, \"sigma*\": 138.0, \"e_sigma*\": 15.0, \"n_sigma*\": null, \"FWHM\": 3210.0, \"e_FWHM\": 160.0, \"logL\": 41.84, \"e_logL\": 0.1, \"logM\": 7.3, \"E_logM\": null, \"e_logM\": 0.1}, {\"Name\": \"SDSS J144629.97+500130.5\", \"z\": 0.0427, \"sigma*\": 86.8, \"e_sigma*\": 19.0, \"n_sigma*\": null, \"FWHM\": 6450.0, \"e_FWHM\": 320.0, \"logL\": 40.73, \"e_logL\": 0.03, \"logM\": 7.3, \"E_logM\": null, \"e_logM\": 0.2}, {\"Name\": \"SDSS J145706.80+494008.4\", \"z\": 0.0134, \"sigma*\": 108.0, \"e_sigma*\": 11.0, \"n_sigma*\": null, \"FWHM\": 2270.0, \"e_FWHM\": 110.0, \"logL\": 40.46, \"e_logL\": 0.1, \"logM\": 6.3, \"E_logM\": null, \"e_logM\": 0.1}, {\"Name\": \"SDSS J145901.35+611353.5\", \"z\": 0.0388, \"sigma*\": 113.0, \"e_sigma*\": 13.0, \"n_sigma*\": null, \"FWHM\": 4140.0, \"e_FWHM\": 200.0, \"logL\": 41.18, \"e_logL\": 0.06, \"logM\": 7.2, \"E_logM\": null, \"e_logM\": 0.1}, {\"Name\": \"SDSS J150556.55+034226.3\", \"z\": 0.0359, \"sigma*\": 199.0, \"e_sigma*\": 18.0, \"n_sigma*\": \"a\", \"FWHM\": 4370.0, \"e_FWHM\": 210.0, \"logL\": 42.09, \"e_logL\": 0.1, \"logM\": 7.7, \"E_logM\": null, \"e_logM\": 0.1}, {\"Name\": \"SDSS J150745.00+512710.2\", \"z\": 0.0458, \"sigma*\": 139.0, \"e_sigma*\": 17.0, \"n_sigma*\": null, \"FWHM\": 3430.0, \"e_FWHM\": 170.0, \"logL\": 41.4, \"e_logL\": 0.04, \"logM\": 7.1, \"E_logM\": null, \"e_logM\": 0.1}, {\"Name\": \"SDSS J150853.95-001148.9\", \"z\": 0.0542, \"sigma*\": 163.0, \"e_sigma*\": 15.0, \"n_sigma*\": \"a\", \"FWHM\": 6190.0, \"e_FWHM\": 610.0, \"logL\": 41.51, \"e_logL\": 0.04, \"logM\": 7.8, \"E_logM\": null, \"e_logM\": 0.1}, {\"Name\": \"SDSS J152515.18+601409.0\", \"z\": 0.0783, \"sigma*\": 104.0, \"e_sigma*\": 11.0, \"n_sigma*\": \"a\", \"FWHM\": 2590.0, \"e_FWHM\": 120.0, \"logL\": 41.41, \"e_logL\": 0.09, \"logM\": 6.9, \"E_logM\": null, \"e_logM\": 0.1}, {\"Name\": \"SDSS J155417.43+323837.8\", \"z\": 0.0483, \"sigma*\": 120.0, \"e_sigma*\": 13.0, \"n_sigma*\": \"a\", \"FWHM\": 4200.0, \"e_FWHM\": 210.0, \"logL\": 41.86, \"e_logL\": 0.08, \"logM\": 7.5, \"E_logM\": null, \"e_logM\": 0.1}, {\"Name\": \"SDSS J161156.31+521116.8\", \"z\": 0.040999999999999995, \"sigma*\": 116.0, \"e_sigma*\": 10.0, \"n_sigma*\": null, \"FWHM\": 3760.0, \"e_FWHM\": 180.0, \"logL\": 41.09, \"e_logL\": 0.04, \"logM\": 7.0, \"E_logM\": null, \"e_logM\": 0.3}, {\"Name\": \"SDSS J161951.31+405847.2\", \"z\": 0.0379, \"sigma*\": 89.1, \"e_sigma*\": 20.0, \"n_sigma*\": null, \"FWHM\": 1700.0, \"e_FWHM\": 85.0, \"logL\": 40.99, \"e_logL\": 0.07, \"logM\": 6.3, \"E_logM\": null, \"e_logM\": 0.1}, {\"Name\": \"SDSS J170328.96+614109.9\", \"z\": 0.0772, \"sigma*\": 123.0, \"e_sigma*\": 13.0, \"n_sigma*\": \"a\", \"FWHM\": 4300.0, \"e_FWHM\": 210.0, \"logL\": 41.92, \"e_logL\": 0.05, \"logM\": 7.6, \"E_logM\": null, \"e_logM\": 0.1}, {\"Name\": \"SDSS J171550.49+593548.7\", \"z\": 0.0657, \"sigma*\": 146.0, \"e_sigma*\": 13.0, \"n_sigma*\": \"a\", \"FWHM\": 3500.0, \"e_FWHM\": 170.0, \"logL\": 41.24, \"e_logL\": 0.05, \"logM\": 7.0, \"E_logM\": null, \"e_logM\": 0.1}, {\"Name\": \"SDSS J212401.90-002158.7\", \"z\": 0.0619, \"sigma*\": 110.0, \"e_sigma*\": 15.0, \"n_sigma*\": \"a\", \"FWHM\": 2620.0, \"e_FWHM\": 130.0, \"logL\": 41.41, \"e_logL\": 0.06, \"logM\": 6.9, \"E_logM\": null, \"e_logM\": 0.1}, {\"Name\": \"SDSS J222435.29-001103.8\", \"z\": 0.0581, \"sigma*\": 111.0, \"e_sigma*\": 19.0, \"n_sigma*\": \"a\", \"FWHM\": 2290.0, \"e_FWHM\": 1190.0, \"logL\": 41.83, \"e_logL\": 0.17, \"logM\": 7.0, \"E_logM\": null, \"e_logM\": 0.4}, {\"Name\": \"SDSS J223000.37-094622.1\", \"z\": 0.0727, \"sigma*\": 112.0, \"e_sigma*\": 13.0, \"n_sigma*\": \"a\", \"FWHM\": 3630.0, \"e_FWHM\": 180.0, \"logL\": 41.21, \"e_logL\": 0.04, \"logM\": 7.1, \"E_logM\": null, \"e_logM\": 0.1}, {\"Name\": \"SDSS J232721.96+152437.3\", \"z\": 0.0457, \"sigma*\": 193.0, \"e_sigma*\": 18.0, \"n_sigma*\": null, \"FWHM\": 7540.0, \"e_FWHM\": 750.0, \"logL\": 41.65, \"e_logL\": 0.06, \"logM\": 7.9, \"E_logM\": null, \"e_logM\": 0.1}, {\"Name\": \"SDSS J235128.78+155259.0\", \"z\": 0.0963, \"sigma*\": 193.0, \"e_sigma*\": 22.0, \"n_sigma*\": \"a\", \"FWHM\": 8240.0, \"e_FWHM\": 410.0, \"logL\": 41.87, \"e_logL\": 0.04, \"logM\": 8.2, \"E_logM\": null, \"e_logM\": 0.2}, {\"Name\": \"SDSS J010712.03+140844.9\", \"z\": 0.0768, \"sigma*\": 36.0, \"e_sigma*\": 6.0, \"n_sigma*\": \"b\", \"FWHM\": 880.0, \"e_FWHM\": 170.0, \"logL\": 42.57, \"e_logL\": 0.2, \"logM\": 5.8, \"E_logM\": null, \"e_logM\": 0.2}, {\"Name\": \"SDSS J024912.86-081525.6\", \"z\": 0.0294, \"sigma*\": 50.0, \"e_sigma*\": 4.0, \"n_sigma*\": \"b\", \"FWHM\": 840.0, \"e_FWHM\": 320.0, \"logL\": 41.93, \"e_logL\": 0.08, \"logM\": 5.1, \"E_logM\": null, \"e_logM\": 0.3}, {\"Name\": \"SDSS J032515.59+003408.4\", \"z\": 0.102, \"sigma*\": 55.0, \"e_sigma*\": 6.0, \"n_sigma*\": \"b\", \"FWHM\": 990.0, \"e_FWHM\": 49.0, \"logL\": 42.03, \"e_logL\": 0.12, \"logM\": 5.8, \"E_logM\": null, \"e_logM\": 0.1}, {\"Name\": \"SDSS J080907.58+441641.4\", \"z\": 0.0539, \"sigma*\": 65.0, \"e_sigma*\": 4.0, \"n_sigma*\": \"b\", \"FWHM\": 940.0, \"e_FWHM\": 180.0, \"logL\": 40.47, \"e_logL\": 0.04, \"logM\": 5.5, \"E_logM\": null, \"e_logM\": 0.8}, {\"Name\": \"SDSS J082912.67+500652.3\", \"z\": 0.0434, \"sigma*\": 60.0, \"e_sigma*\": 4.0, \"n_sigma*\": \"b\", \"FWHM\": 840.0, \"e_FWHM\": 41.0, \"logL\": 42.14, \"e_logL\": 0.06, \"logM\": 5.7, \"E_logM\": null, \"e_logM\": 0.1}, {\"Name\": \"SDSS J101108.40+002908.7\", \"z\": 0.1, \"sigma*\": 48.0, \"e_sigma*\": 7.0, \"n_sigma*\": \"b\", \"FWHM\": 1460.0, \"e_FWHM\": 72.0, \"logL\": 42.68, \"e_logL\": 0.19, \"logM\": 6.2, \"E_logM\": null, \"e_logM\": 0.3}, {\"Name\": \"SDSS J101627.32-000714.5\", \"z\": 0.0944, \"sigma*\": 39.0, \"e_sigma*\": 6.0, \"n_sigma*\": \"b\", \"FWHM\": 1520.0, \"e_FWHM\": 75.0, \"logL\": 42.57, \"e_logL\": 0.17, \"logM\": 6.1, \"E_logM\": null, \"e_logM\": 0.2}, {\"Name\": \"SDSS J124035.81-002919.4\", \"z\": 0.0809, \"sigma*\": 49.0, \"e_sigma*\": 7.0, \"n_sigma*\": \"b\", \"FWHM\": 1720.0, \"e_FWHM\": 85.0, \"logL\": 42.35, \"e_logL\": 0.11, \"logM\": 6.6, \"E_logM\": null, \"e_logM\": 0.6}, {\"Name\": \"SDSS J125055.28-015556.6\", \"z\": 0.0814, \"sigma*\": 64.0, \"e_sigma*\": 6.0, \"n_sigma*\": \"b\", \"FWHM\": 1980.0, \"e_FWHM\": 99.0, \"logL\": 42.75, \"e_logL\": 0.14, \"logM\": 6.5, \"E_logM\": null, \"e_logM\": 0.1}, {\"Name\": \"SDSS J143450.62+033842.5\", \"z\": 0.0282, \"sigma*\": 48.0, \"e_sigma*\": 7.0, \"n_sigma*\": \"b\", \"FWHM\": 1480.0, \"e_FWHM\": 73.0, \"logL\": 41.87, \"e_logL\": 0.16, \"logM\": 5.6, \"E_logM\": null, \"e_logM\": 0.1}, {\"Name\": \"SDSS J170246.09+602818.9\", \"z\": 0.0689, \"sigma*\": 69.0, \"e_sigma*\": 6.0, \"n_sigma*\": \"b\", \"FWHM\": 3270.0, \"e_FWHM\": 160.0, \"logL\": 42.67, \"e_logL\": 0.16, \"logM\": 6.9, \"E_logM\": null, \"e_logM\": 0.2}, {\"Name\": \"SDSS J172759.15+542147.0\", \"z\": 0.0995, \"sigma*\": 58.0, \"e_sigma*\": 7.0, \"n_sigma*\": \"b\", \"FWHM\": 810.0, \"e_FWHM\": 400.0, \"logL\": 42.19, \"e_logL\": 0.09, \"logM\": 5.6, \"E_logM\": null, \"e_logM\": 0.5}, {\"Name\": \"SDSS J215658.30+110343.1\", \"z\": 0.10800000000000001, \"sigma*\": 81.0, \"e_sigma*\": 8.0, \"n_sigma*\": \"b\", \"FWHM\": 1430.0, \"e_FWHM\": 280.0, \"logL\": 41.22, \"e_logL\": 0.03, \"logM\": 6.3, \"E_logM\": null, \"e_logM\": 0.8}, {\"Name\": \"SDSS J232159.06+000738.8\", \"z\": 0.184, \"sigma*\": 81.0, \"e_sigma*\": 9.0, \"n_sigma*\": \"b\", \"FWHM\": 2520.0, \"e_FWHM\": 120.0, \"logL\": 42.96, \"e_logL\": 0.1, \"logM\": 6.7, \"E_logM\": null, \"e_logM\": 0.2}, {\"Name\": \"SDSS J233837.10-002810.3\", \"z\": 0.0356, \"sigma*\": 58.0, \"e_sigma*\": 4.0, \"n_sigma*\": \"b\", \"FWHM\": 1740.0, \"e_FWHM\": 86.0, \"logL\": 43.61, \"e_logL\": 0.13, \"logM\": 5.8, \"E_logM\": null, \"e_logM\": 0.1}, {\"Name\": \"3C 120\", \"z\": 0.033, \"sigma*\": 162.0, \"e_sigma*\": 24.0, \"n_sigma*\": \"b\", \"FWHM\": null, \"e_FWHM\": null, \"logL\": null, \"e_logL\": null, \"logM\": 7.43, \"E_logM\": 0.2, \"e_logM\": 0.25}, {\"Name\": \"3C 390.3\", \"z\": 0.0561, \"sigma*\": 268.0, \"e_sigma*\": 15.0, \"n_sigma*\": null, \"FWHM\": null, \"e_FWHM\": null, \"logL\": null, \"e_logL\": null, \"logM\": 8.52, \"E_logM\": 0.09, \"e_logM\": 0.12}, {\"Name\": \"Akn 120\", \"z\": 0.0323, \"sigma*\": 224.0, \"e_sigma*\": 15.0, \"n_sigma*\": null, \"FWHM\": null, \"e_FWHM\": null, \"logL\": null, \"e_logL\": null, \"logM\": 8.2, \"E_logM\": 0.05, \"e_logM\": 0.07}, {\"Name\": \"Mrk 79\", \"z\": 0.0222, \"sigma*\": 130.0, \"e_sigma*\": 10.0, \"n_sigma*\": null, \"FWHM\": null, \"e_FWHM\": null, \"logL\": null, \"e_logL\": null, \"logM\": 7.67, \"E_logM\": 0.11, \"e_logM\": 0.15}, {\"Name\": \"Mrk 110\", \"z\": 0.0353, \"sigma*\": 87.1, \"e_sigma*\": 12.0, \"n_sigma*\": null, \"FWHM\": null, \"e_FWHM\": null, \"logL\": null, \"e_logL\": null, \"logM\": 6.97, \"E_logM\": 0.11, \"e_logM\": 0.15}, {\"Name\": \"Mrk 279\", \"z\": 0.0305, \"sigma*\": 197.0, \"e_sigma*\": 12.0, \"n_sigma*\": null, \"FWHM\": null, \"e_FWHM\": null, \"logL\": null, \"e_logL\": null, \"logM\": 7.45, \"E_logM\": 0.12, \"e_logM\": 0.16}, {\"Name\": \"Mrk 590\", \"z\": 0.0264, \"sigma*\": 189.0, \"e_sigma*\": 5.7, \"n_sigma*\": null, \"FWHM\": null, \"e_FWHM\": null, \"logL\": null, \"e_logL\": null, \"logM\": 7.2, \"E_logM\": 0.11, \"e_logM\": 0.15}, {\"Name\": \"Mrk 817\", \"z\": 0.0315, \"sigma*\": 127.0, \"e_sigma*\": 12.0, \"n_sigma*\": null, \"FWHM\": null, \"e_FWHM\": null, \"logL\": null, \"e_logL\": null, \"logM\": 7.62, \"E_logM\": 0.08, \"e_logM\": 0.1}, {\"Name\": \"NGC 3227\", \"z\": 0.00386, \"sigma*\": 135.0, \"e_sigma*\": 3.8, \"n_sigma*\": null, \"FWHM\": null, \"e_FWHM\": null, \"logL\": null, \"e_logL\": null, \"logM\": 7.47, \"E_logM\": 0.24, \"e_logM\": 1.06}, {\"Name\": \"NGC 3516\", \"z\": 0.00884, \"sigma*\": 181.0, \"e_sigma*\": 4.9, \"n_sigma*\": \"b\", \"FWHM\": null, \"e_FWHM\": null, \"logL\": null, \"e_logL\": null, \"logM\": 7.04, \"E_logM\": 0.31, \"e_logM\": 0.39}, {\"Name\": \"NGC 3783\", \"z\": 0.009729999999999999, \"sigma*\": 95.0, \"e_sigma*\": 10.0, \"n_sigma*\": null, \"FWHM\": null, \"e_FWHM\": null, \"logL\": null, \"e_logL\": null, \"logM\": 7.16, \"E_logM\": 0.17, \"e_logM\": 0.23}, {\"Name\": \"NGC 4051\", \"z\": 0.00234, \"sigma*\": 88.9, \"e_sigma*\": 2.9, \"n_sigma*\": null, \"FWHM\": null, \"e_FWHM\": null, \"logL\": null, \"e_logL\": null, \"logM\": 5.99, \"E_logM\": 0.17, \"e_logM\": 0.2}, {\"Name\": \"NGC 4151\", \"z\": 0.0033200000000000005, \"sigma*\": 96.8, \"e_sigma*\": 2.9, \"n_sigma*\": null, \"FWHM\": null, \"e_FWHM\": null, \"logL\": null, \"e_logL\": null, \"logM\": 6.91, \"E_logM\": 0.17, \"e_logM\": 0.29}, {\"Name\": \"NGC 5548\", \"z\": 0.0172, \"sigma*\": 198.0, \"e_sigma*\": 11.0, \"n_sigma*\": null, \"FWHM\": null, \"e_FWHM\": null, \"logL\": null, \"e_logL\": null, \"logM\": 7.81, \"E_logM\": 0.02, \"e_logM\": 0.02}, {\"Name\": \"NGC 7469\", \"z\": 0.0163, \"sigma*\": 133.0, \"e_sigma*\": 4.8, \"n_sigma*\": null, \"FWHM\": null, \"e_FWHM\": null, \"logL\": null, \"e_logL\": null, \"logM\": 6.49, \"E_logM\": 0.16, \"e_logM\": 0.27}, {\"Name\": \"POX 52\", \"z\": 0.0218, \"sigma*\": 36.0, \"e_sigma*\": 5.0, \"n_sigma*\": null, \"FWHM\": null, \"e_FWHM\": null, \"logL\": null, \"e_logL\": null, \"logM\": 5.2, \"E_logM\": null, \"e_logM\": 0.3}, {\"Name\": \"NGC 4395\", \"z\": 0.000947, \"sigma*\": 30.0, \"e_sigma*\": 5.0, \"n_sigma*\": null, \"FWHM\": null, \"e_FWHM\": null, \"logL\": null, \"e_logL\": null, \"logM\": 4.9, \"E_logM\": null, \"e_logM\": 0.4}]}}, {\"mode\": \"vega-lite\"});\n",
       "</script>"
      ],
      "text/plain": [
       "alt.Chart(...)"
      ]
     },
     "execution_count": 18,
     "metadata": {
      "tags": []
     },
     "output_type": "execute_result"
    }
   ],
   "source": [
    "alt.Chart(df).mark_point(filled=True).encode(\n",
    "    alt.X('sigma*', scale=alt.Scale(type='log', base=10)),\n",
    "    alt.Y('logM'),\n",
    "    color = 'z'\n",
    ")"
   ]
  },
  {
   "cell_type": "markdown",
   "metadata": {
    "id": "i8BsMpCEQkVs"
   },
   "source": [
    "What about using the mass as the color of the point."
   ]
  },
  {
   "cell_type": "code",
   "execution_count": null,
   "metadata": {
    "colab": {
     "base_uri": "https://localhost:8080/",
     "height": 363
    },
    "executionInfo": {
     "elapsed": 953,
     "status": "ok",
     "timestamp": 1609124081287,
     "user": {
      "displayName": "Eduard Alexis Larranaga",
      "photoUrl": "https://lh3.googleusercontent.com/a-/AOh14GgCVABzEgj-rCdyxWa29RnA0kIYUCXAaVbnRYOEhQ=s64",
      "userId": "04402438389940282602"
     },
     "user_tz": 300
    },
    "id": "SB9tnoMBQkVs",
    "outputId": "e6607ff8-bbec-488b-e3e5-d3dcf979ea4c"
   },
   "outputs": [
    {
     "data": {
      "text/html": [
       "\n",
       "<div id=\"altair-viz-a2ce8c40b1b149308c1b56f1d8b37b2d\"></div>\n",
       "<script type=\"text/javascript\">\n",
       "  (function(spec, embedOpt){\n",
       "    let outputDiv = document.currentScript.previousElementSibling;\n",
       "    if (outputDiv.id !== \"altair-viz-a2ce8c40b1b149308c1b56f1d8b37b2d\") {\n",
       "      outputDiv = document.getElementById(\"altair-viz-a2ce8c40b1b149308c1b56f1d8b37b2d\");\n",
       "    }\n",
       "    const paths = {\n",
       "      \"vega\": \"https://cdn.jsdelivr.net/npm//vega@5?noext\",\n",
       "      \"vega-lib\": \"https://cdn.jsdelivr.net/npm//vega-lib?noext\",\n",
       "      \"vega-lite\": \"https://cdn.jsdelivr.net/npm//vega-lite@4.8.1?noext\",\n",
       "      \"vega-embed\": \"https://cdn.jsdelivr.net/npm//vega-embed@6?noext\",\n",
       "    };\n",
       "\n",
       "    function loadScript(lib) {\n",
       "      return new Promise(function(resolve, reject) {\n",
       "        var s = document.createElement('script');\n",
       "        s.src = paths[lib];\n",
       "        s.async = true;\n",
       "        s.onload = () => resolve(paths[lib]);\n",
       "        s.onerror = () => reject(`Error loading script: ${paths[lib]}`);\n",
       "        document.getElementsByTagName(\"head\")[0].appendChild(s);\n",
       "      });\n",
       "    }\n",
       "\n",
       "    function showError(err) {\n",
       "      outputDiv.innerHTML = `<div class=\"error\" style=\"color:red;\">${err}</div>`;\n",
       "      throw err;\n",
       "    }\n",
       "\n",
       "    function displayChart(vegaEmbed) {\n",
       "      vegaEmbed(outputDiv, spec, embedOpt)\n",
       "        .catch(err => showError(`Javascript Error: ${err.message}<br>This usually means there's a typo in your chart specification. See the javascript console for the full traceback.`));\n",
       "    }\n",
       "\n",
       "    if(typeof define === \"function\" && define.amd) {\n",
       "      requirejs.config({paths});\n",
       "      require([\"vega-embed\"], displayChart, err => showError(`Error loading script: ${err.message}`));\n",
       "    } else if (typeof vegaEmbed === \"function\") {\n",
       "      displayChart(vegaEmbed);\n",
       "    } else {\n",
       "      loadScript(\"vega\")\n",
       "        .then(() => loadScript(\"vega-lite\"))\n",
       "        .then(() => loadScript(\"vega-embed\"))\n",
       "        .catch(showError)\n",
       "        .then(() => displayChart(vegaEmbed));\n",
       "    }\n",
       "  })({\"config\": {\"view\": {\"continuousWidth\": 400, \"continuousHeight\": 300}}, \"data\": {\"name\": \"data-54b58a4aa74e295879badff738f3e9c4\"}, \"mark\": {\"type\": \"point\", \"filled\": true}, \"encoding\": {\"color\": {\"type\": \"quantitative\", \"field\": \"logM\"}, \"x\": {\"type\": \"quantitative\", \"field\": \"z\"}, \"y\": {\"type\": \"quantitative\", \"field\": \"sigma*\"}}, \"$schema\": \"https://vega.github.io/schema/vega-lite/v4.8.1.json\", \"datasets\": {\"data-54b58a4aa74e295879badff738f3e9c4\": [{\"Name\": \"SDSS J000805.62+145023.4\", \"z\": 0.0454, \"sigma*\": 140.0, \"e_sigma*\": 27.0, \"n_sigma*\": null, \"FWHM\": 7610.0, \"e_FWHM\": 380.0, \"logL\": 41.13, \"e_logL\": 0.04, \"logM\": 7.7, \"E_logM\": null, \"e_logM\": 0.1}, {\"Name\": \"SDSS J004236.86-104921.8\", \"z\": 0.0419, \"sigma*\": 78.4, \"e_sigma*\": 10.0, \"n_sigma*\": null, \"FWHM\": 1960.0, \"e_FWHM\": 97.0, \"logL\": 41.58, \"e_logL\": 0.14, \"logM\": 6.7, \"E_logM\": null, \"e_logM\": 0.1}, {\"Name\": \"SDSS J011703.58+000027.3\", \"z\": 0.0456, \"sigma*\": 98.8, \"e_sigma*\": 16.0, \"n_sigma*\": null, \"FWHM\": 2270.0, \"e_FWHM\": 110.0, \"logL\": 41.45, \"e_logL\": 0.08, \"logM\": 6.8, \"E_logM\": null, \"e_logM\": 0.1}, {\"Name\": \"SDSS J020459.25-080816.0\", \"z\": 0.0772, \"sigma*\": 121.0, \"e_sigma*\": 9.4, \"n_sigma*\": \"a\", \"FWHM\": 3720.0, \"e_FWHM\": 180.0, \"logL\": 41.13, \"e_logL\": 0.05, \"logM\": 7.0, \"E_logM\": null, \"e_logM\": 0.1}, {\"Name\": \"SDSS J020615.99-001729.1\", \"z\": 0.0426, \"sigma*\": 216.0, \"e_sigma*\": 30.0, \"n_sigma*\": null, \"FWHM\": 3860.0, \"e_FWHM\": 190.0, \"logL\": 41.91, \"e_logL\": 0.07, \"logM\": 7.5, \"E_logM\": null, \"e_logM\": 0.1}, {\"Name\": \"SDSS J021011.49-090335.5\", \"z\": 0.0414, \"sigma*\": 122.0, \"e_sigma*\": 12.0, \"n_sigma*\": \"a\", \"FWHM\": 2450.0, \"e_FWHM\": 120.0, \"logL\": 41.24, \"e_logL\": 0.07, \"logM\": 6.7, \"E_logM\": null, \"e_logM\": 0.1}, {\"Name\": \"SDSS J021257.59+140610.1\", \"z\": 0.0618, \"sigma*\": 174.0, \"e_sigma*\": 12.0, \"n_sigma*\": \"a\", \"FWHM\": 3080.0, \"e_FWHM\": 150.0, \"logL\": 41.58, \"e_logL\": 0.06, \"logM\": 7.1, \"E_logM\": null, \"e_logM\": 0.1}, {\"Name\": \"SDSS J033013.26-053236.0\", \"z\": 0.0131, \"sigma*\": 99.2, \"e_sigma*\": 11.0, \"n_sigma*\": null, \"FWHM\": 5160.0, \"e_FWHM\": 250.0, \"logL\": 40.45, \"e_logL\": 0.06, \"logM\": 7.0, \"E_logM\": null, \"e_logM\": 0.1}, {\"Name\": \"SDSS J075057.25+353037.5\", \"z\": 0.17600000000000002, \"sigma*\": 154.0, \"e_sigma*\": 14.0, \"n_sigma*\": \"a\", \"FWHM\": 2970.0, \"e_FWHM\": 200.0, \"logL\": 41.63, \"e_logL\": 0.03, \"logM\": 7.2, \"E_logM\": null, \"e_logM\": 0.1}, {\"Name\": \"SDSS J080243.39+310403.3\", \"z\": 0.0409, \"sigma*\": 151.0, \"e_sigma*\": 17.0, \"n_sigma*\": null, \"FWHM\": 5360.0, \"e_FWHM\": 260.0, \"logL\": 41.67, \"e_logL\": 0.07, \"logM\": 7.6, \"E_logM\": null, \"e_logM\": 0.1}, {\"Name\": \"SDSS J080538.66+261005.4\", \"z\": 0.017, \"sigma*\": 100.0, \"e_sigma*\": 14.0, \"n_sigma*\": null, \"FWHM\": 3110.0, \"e_FWHM\": 150.0, \"logL\": 40.14, \"e_logL\": 0.04, \"logM\": 6.3, \"E_logM\": null, \"e_logM\": 0.2}, {\"Name\": \"SDSS J082510.23+375919.7\", \"z\": 0.0214, \"sigma*\": 98.7, \"e_sigma*\": 12.0, \"n_sigma*\": null, \"FWHM\": 1830.0, \"e_FWHM\": 91.0, \"logL\": 40.42, \"e_logL\": 0.04, \"logM\": 6.0, \"E_logM\": null, \"e_logM\": 0.1}, {\"Name\": \"SDSS J083202.16+461425.7\", \"z\": 0.0459, \"sigma*\": 104.0, \"e_sigma*\": 13.0, \"n_sigma*\": null, \"FWHM\": 1450.0, \"e_FWHM\": 72.0, \"logL\": 41.17, \"e_logL\": 0.08, \"logM\": 6.2, \"E_logM\": null, \"e_logM\": 0.1}, {\"Name\": \"SDSS J083949.64+484701.4\", \"z\": 0.0394, \"sigma*\": 133.0, \"e_sigma*\": 12.0, \"n_sigma*\": null, \"FWHM\": 1480.0, \"e_FWHM\": 73.0, \"logL\": 41.31, \"e_logL\": 0.08, \"logM\": 6.3, \"E_logM\": null, \"e_logM\": 0.2}, {\"Name\": \"SDSS J085554.27+005110.9\", \"z\": 0.0524, \"sigma*\": 118.0, \"e_sigma*\": 11.0, \"n_sigma*\": \"a\", \"FWHM\": 2910.0, \"e_FWHM\": 140.0, \"logL\": 41.27, \"e_logL\": 0.06, \"logM\": 6.9, \"E_logM\": null, \"e_logM\": 0.1}, {\"Name\": \"SDSS J092438.88+560746.9\", \"z\": 0.025, \"sigma*\": 135.0, \"e_sigma*\": 10.0, \"n_sigma*\": null, \"FWHM\": 1900.0, \"e_FWHM\": 94.0, \"logL\": 40.72, \"e_logL\": 0.07, \"logM\": 6.2, \"E_logM\": null, \"e_logM\": 0.4}, {\"Name\": \"SDSS J093259.60+040506.0\", \"z\": 0.059000000000000004, \"sigma*\": 70.5, \"e_sigma*\": 6.7, \"n_sigma*\": \"a\", \"FWHM\": 3550.0, \"e_FWHM\": 170.0, \"logL\": 41.14, \"e_logL\": 0.05, \"logM\": 7.0, \"E_logM\": null, \"e_logM\": 0.1}, {\"Name\": \"SDSS J093812.26+074340.0\", \"z\": 0.0219, \"sigma*\": 119.0, \"e_sigma*\": 8.0, \"n_sigma*\": null, \"FWHM\": 3640.0, \"e_FWHM\": 180.0, \"logL\": 40.8, \"e_logL\": 0.05, \"logM\": 6.8, \"E_logM\": null, \"e_logM\": 0.1}, {\"Name\": \"SDSS J094838.42+403043.7\", \"z\": 0.047, \"sigma*\": 91.4, \"e_sigma*\": 16.0, \"n_sigma*\": null, \"FWHM\": 3020.0, \"e_FWHM\": 150.0, \"logL\": 41.46, \"e_logL\": 0.07, \"logM\": 7.0, \"E_logM\": null, \"e_logM\": 0.1}, {\"Name\": \"SDSS J101912.57+635802.7\", \"z\": 0.0414, \"sigma*\": 239.0, \"e_sigma*\": 13.0, \"n_sigma*\": null, \"FWHM\": 3630.0, \"e_FWHM\": 180.0, \"logL\": 41.74, \"e_logL\": 0.08, \"logM\": 7.4, \"E_logM\": null, \"e_logM\": 0.1}, {\"Name\": \"SDSS J102044.43+013048.4\", \"z\": 0.0962, \"sigma*\": 103.0, \"e_sigma*\": 8.8, \"n_sigma*\": \"a\", \"FWHM\": 5200.0, \"e_FWHM\": 250.0, \"logL\": 41.51, \"e_logL\": 0.04, \"logM\": 7.6, \"E_logM\": null, \"e_logM\": 0.1}, {\"Name\": \"SDSS J110640.20+051905.6\", \"z\": 0.0913, \"sigma*\": 140.0, \"e_sigma*\": 15.0, \"n_sigma*\": \"a\", \"FWHM\": 5830.0, \"e_FWHM\": 290.0, \"logL\": 41.65, \"e_logL\": 0.04, \"logM\": 7.7, \"E_logM\": null, \"e_logM\": 0.1}, {\"Name\": \"SDSS J112536.16+542257.1\", \"z\": 0.0206, \"sigma*\": 124.0, \"e_sigma*\": 12.0, \"n_sigma*\": null, \"FWHM\": 2950.0, \"e_FWHM\": 140.0, \"logL\": 41.17, \"e_logL\": 0.08, \"logM\": 6.8, \"E_logM\": null, \"e_logM\": 0.1}, {\"Name\": \"SDSS J112841.00+575006.5\", \"z\": 0.0513, \"sigma*\": 159.0, \"e_sigma*\": 18.0, \"n_sigma*\": \"a\", \"FWHM\": 2660.0, \"e_FWHM\": 130.0, \"logL\": 41.66, \"e_logL\": 0.09, \"logM\": 7.0, \"E_logM\": null, \"e_logM\": 0.1}, {\"Name\": \"SDSS J120257.81+045045.0\", \"z\": 0.0207, \"sigma*\": 102.0, \"e_sigma*\": 20.0, \"n_sigma*\": null, \"FWHM\": 2250.0, \"e_FWHM\": 110.0, \"logL\": 40.1, \"e_logL\": 0.06, \"logM\": 6.0, \"E_logM\": null, \"e_logM\": 0.1}, {\"Name\": \"SDSS J120556.01+495956.1\", \"z\": 0.0631, \"sigma*\": 107.0, \"e_sigma*\": 11.0, \"n_sigma*\": \"a\", \"FWHM\": 5610.0, \"e_FWHM\": 450.0, \"logL\": 41.57, \"e_logL\": 0.04, \"logM\": 7.7, \"E_logM\": null, \"e_logM\": 0.1}, {\"Name\": \"SDSS J121607.09+504930.0\", \"z\": 0.0308, \"sigma*\": 138.0, \"e_sigma*\": 13.0, \"n_sigma*\": null, \"FWHM\": 5580.0, \"e_FWHM\": 270.0, \"logL\": 41.3, \"e_logL\": 0.06, \"logM\": 7.5, \"E_logM\": null, \"e_logM\": 0.3}, {\"Name\": \"SDSS J121754.97+583935.6\", \"z\": 0.0233, \"sigma*\": 85.6, \"e_sigma*\": 14.0, \"n_sigma*\": null, \"FWHM\": 1970.0, \"e_FWHM\": 98.0, \"logL\": 40.92, \"e_logL\": 0.08, \"logM\": 6.4, \"E_logM\": null, \"e_logM\": 0.1}, {\"Name\": \"SDSS J122324.13+024044.4\", \"z\": 0.0236, \"sigma*\": 78.1, \"e_sigma*\": 15.0, \"n_sigma*\": null, \"FWHM\": 3880.0, \"e_FWHM\": 910.0, \"logL\": 41.62, \"e_logL\": 0.08, \"logM\": 7.3, \"E_logM\": null, \"e_logM\": 0.2}, {\"Name\": \"SDSS J123237.48+662452.3\", \"z\": 0.0468, \"sigma*\": 124.0, \"e_sigma*\": 9.0, \"n_sigma*\": null, \"FWHM\": 2620.0, \"e_FWHM\": 130.0, \"logL\": 41.86, \"e_logL\": 0.19, \"logM\": 7.1, \"E_logM\": null, \"e_logM\": 0.2}, {\"Name\": \"SDSS J130620.97+531823.1\", \"z\": 0.0237, \"sigma*\": 90.7, \"e_sigma*\": 11.0, \"n_sigma*\": null, \"FWHM\": 7620.0, \"e_FWHM\": 380.0, \"logL\": 40.58, \"e_logL\": 0.04, \"logM\": 7.3, \"E_logM\": null, \"e_logM\": 0.1}, {\"Name\": \"SDSS J131305.80+012755.9\", \"z\": 0.0294, \"sigma*\": 95.4, \"e_sigma*\": 13.0, \"n_sigma*\": null, \"FWHM\": 1590.0, \"e_FWHM\": 79.0, \"logL\": 40.62, \"e_logL\": 0.07, \"logM\": 6.0, \"E_logM\": null, \"e_logM\": 0.1}, {\"Name\": \"SDSS J132249.21+545528.2\", \"z\": 0.0653, \"sigma*\": 130.0, \"e_sigma*\": 13.0, \"n_sigma*\": \"a\", \"FWHM\": 4050.0, \"e_FWHM\": 200.0, \"logL\": 41.81, \"e_logL\": 0.07, \"logM\": 7.5, \"E_logM\": null, \"e_logM\": 0.1}, {\"Name\": \"SDSS J132340.31-012749.2\", \"z\": 0.0767, \"sigma*\": 114.0, \"e_sigma*\": 16.0, \"n_sigma*\": \"a\", \"FWHM\": 1910.0, \"e_FWHM\": 95.0, \"logL\": 41.55, \"e_logL\": 0.09, \"logM\": 6.7, \"E_logM\": null, \"e_logM\": 0.1}, {\"Name\": \"SDSS J134952.84+020445.1\", \"z\": 0.0328, \"sigma*\": 138.0, \"e_sigma*\": 13.0, \"n_sigma*\": null, \"FWHM\": 2590.0, \"e_FWHM\": 120.0, \"logL\": 41.62, \"e_logL\": 0.07, \"logM\": 7.0, \"E_logM\": null, \"e_logM\": 0.1}, {\"Name\": \"SDSS J140018.42+050242.2\", \"z\": 0.0342, \"sigma*\": 145.0, \"e_sigma*\": 14.0, \"n_sigma*\": null, \"FWHM\": 3340.0, \"e_FWHM\": 160.0, \"logL\": 41.23, \"e_logL\": 0.05, \"logM\": 7.1, \"E_logM\": null, \"e_logM\": 0.5}, {\"Name\": \"SDSS J140514.87-025901.2\", \"z\": 0.0542, \"sigma*\": 148.0, \"e_sigma*\": 15.0, \"n_sigma*\": \"a\", \"FWHM\": 2990.0, \"e_FWHM\": 140.0, \"logL\": 41.29, \"e_logL\": 0.06, \"logM\": 6.9, \"E_logM\": null, \"e_logM\": 0.3}, {\"Name\": \"SDSS J141630.81+013708.0\", \"z\": 0.0538, \"sigma*\": 121.0, \"e_sigma*\": 12.0, \"n_sigma*\": \"a\", \"FWHM\": 3180.0, \"e_FWHM\": 150.0, \"logL\": 41.1, \"e_logL\": 0.04, \"logM\": 6.9, \"E_logM\": null, \"e_logM\": 0.1}, {\"Name\": \"SDSS J143452.45+483942.7\", \"z\": 0.0365, \"sigma*\": 138.0, \"e_sigma*\": 15.0, \"n_sigma*\": null, \"FWHM\": 3210.0, \"e_FWHM\": 160.0, \"logL\": 41.84, \"e_logL\": 0.1, \"logM\": 7.3, \"E_logM\": null, \"e_logM\": 0.1}, {\"Name\": \"SDSS J144629.97+500130.5\", \"z\": 0.0427, \"sigma*\": 86.8, \"e_sigma*\": 19.0, \"n_sigma*\": null, \"FWHM\": 6450.0, \"e_FWHM\": 320.0, \"logL\": 40.73, \"e_logL\": 0.03, \"logM\": 7.3, \"E_logM\": null, \"e_logM\": 0.2}, {\"Name\": \"SDSS J145706.80+494008.4\", \"z\": 0.0134, \"sigma*\": 108.0, \"e_sigma*\": 11.0, \"n_sigma*\": null, \"FWHM\": 2270.0, \"e_FWHM\": 110.0, \"logL\": 40.46, \"e_logL\": 0.1, \"logM\": 6.3, \"E_logM\": null, \"e_logM\": 0.1}, {\"Name\": \"SDSS J145901.35+611353.5\", \"z\": 0.0388, \"sigma*\": 113.0, \"e_sigma*\": 13.0, \"n_sigma*\": null, \"FWHM\": 4140.0, \"e_FWHM\": 200.0, \"logL\": 41.18, \"e_logL\": 0.06, \"logM\": 7.2, \"E_logM\": null, \"e_logM\": 0.1}, {\"Name\": \"SDSS J150556.55+034226.3\", \"z\": 0.0359, \"sigma*\": 199.0, \"e_sigma*\": 18.0, \"n_sigma*\": \"a\", \"FWHM\": 4370.0, \"e_FWHM\": 210.0, \"logL\": 42.09, \"e_logL\": 0.1, \"logM\": 7.7, \"E_logM\": null, \"e_logM\": 0.1}, {\"Name\": \"SDSS J150745.00+512710.2\", \"z\": 0.0458, \"sigma*\": 139.0, \"e_sigma*\": 17.0, \"n_sigma*\": null, \"FWHM\": 3430.0, \"e_FWHM\": 170.0, \"logL\": 41.4, \"e_logL\": 0.04, \"logM\": 7.1, \"E_logM\": null, \"e_logM\": 0.1}, {\"Name\": \"SDSS J150853.95-001148.9\", \"z\": 0.0542, \"sigma*\": 163.0, \"e_sigma*\": 15.0, \"n_sigma*\": \"a\", \"FWHM\": 6190.0, \"e_FWHM\": 610.0, \"logL\": 41.51, \"e_logL\": 0.04, \"logM\": 7.8, \"E_logM\": null, \"e_logM\": 0.1}, {\"Name\": \"SDSS J152515.18+601409.0\", \"z\": 0.0783, \"sigma*\": 104.0, \"e_sigma*\": 11.0, \"n_sigma*\": \"a\", \"FWHM\": 2590.0, \"e_FWHM\": 120.0, \"logL\": 41.41, \"e_logL\": 0.09, \"logM\": 6.9, \"E_logM\": null, \"e_logM\": 0.1}, {\"Name\": \"SDSS J155417.43+323837.8\", \"z\": 0.0483, \"sigma*\": 120.0, \"e_sigma*\": 13.0, \"n_sigma*\": \"a\", \"FWHM\": 4200.0, \"e_FWHM\": 210.0, \"logL\": 41.86, \"e_logL\": 0.08, \"logM\": 7.5, \"E_logM\": null, \"e_logM\": 0.1}, {\"Name\": \"SDSS J161156.31+521116.8\", \"z\": 0.040999999999999995, \"sigma*\": 116.0, \"e_sigma*\": 10.0, \"n_sigma*\": null, \"FWHM\": 3760.0, \"e_FWHM\": 180.0, \"logL\": 41.09, \"e_logL\": 0.04, \"logM\": 7.0, \"E_logM\": null, \"e_logM\": 0.3}, {\"Name\": \"SDSS J161951.31+405847.2\", \"z\": 0.0379, \"sigma*\": 89.1, \"e_sigma*\": 20.0, \"n_sigma*\": null, \"FWHM\": 1700.0, \"e_FWHM\": 85.0, \"logL\": 40.99, \"e_logL\": 0.07, \"logM\": 6.3, \"E_logM\": null, \"e_logM\": 0.1}, {\"Name\": \"SDSS J170328.96+614109.9\", \"z\": 0.0772, \"sigma*\": 123.0, \"e_sigma*\": 13.0, \"n_sigma*\": \"a\", \"FWHM\": 4300.0, \"e_FWHM\": 210.0, \"logL\": 41.92, \"e_logL\": 0.05, \"logM\": 7.6, \"E_logM\": null, \"e_logM\": 0.1}, {\"Name\": \"SDSS J171550.49+593548.7\", \"z\": 0.0657, \"sigma*\": 146.0, \"e_sigma*\": 13.0, \"n_sigma*\": \"a\", \"FWHM\": 3500.0, \"e_FWHM\": 170.0, \"logL\": 41.24, \"e_logL\": 0.05, \"logM\": 7.0, \"E_logM\": null, \"e_logM\": 0.1}, {\"Name\": \"SDSS J212401.90-002158.7\", \"z\": 0.0619, \"sigma*\": 110.0, \"e_sigma*\": 15.0, \"n_sigma*\": \"a\", \"FWHM\": 2620.0, \"e_FWHM\": 130.0, \"logL\": 41.41, \"e_logL\": 0.06, \"logM\": 6.9, \"E_logM\": null, \"e_logM\": 0.1}, {\"Name\": \"SDSS J222435.29-001103.8\", \"z\": 0.0581, \"sigma*\": 111.0, \"e_sigma*\": 19.0, \"n_sigma*\": \"a\", \"FWHM\": 2290.0, \"e_FWHM\": 1190.0, \"logL\": 41.83, \"e_logL\": 0.17, \"logM\": 7.0, \"E_logM\": null, \"e_logM\": 0.4}, {\"Name\": \"SDSS J223000.37-094622.1\", \"z\": 0.0727, \"sigma*\": 112.0, \"e_sigma*\": 13.0, \"n_sigma*\": \"a\", \"FWHM\": 3630.0, \"e_FWHM\": 180.0, \"logL\": 41.21, \"e_logL\": 0.04, \"logM\": 7.1, \"E_logM\": null, \"e_logM\": 0.1}, {\"Name\": \"SDSS J232721.96+152437.3\", \"z\": 0.0457, \"sigma*\": 193.0, \"e_sigma*\": 18.0, \"n_sigma*\": null, \"FWHM\": 7540.0, \"e_FWHM\": 750.0, \"logL\": 41.65, \"e_logL\": 0.06, \"logM\": 7.9, \"E_logM\": null, \"e_logM\": 0.1}, {\"Name\": \"SDSS J235128.78+155259.0\", \"z\": 0.0963, \"sigma*\": 193.0, \"e_sigma*\": 22.0, \"n_sigma*\": \"a\", \"FWHM\": 8240.0, \"e_FWHM\": 410.0, \"logL\": 41.87, \"e_logL\": 0.04, \"logM\": 8.2, \"E_logM\": null, \"e_logM\": 0.2}, {\"Name\": \"SDSS J010712.03+140844.9\", \"z\": 0.0768, \"sigma*\": 36.0, \"e_sigma*\": 6.0, \"n_sigma*\": \"b\", \"FWHM\": 880.0, \"e_FWHM\": 170.0, \"logL\": 42.57, \"e_logL\": 0.2, \"logM\": 5.8, \"E_logM\": null, \"e_logM\": 0.2}, {\"Name\": \"SDSS J024912.86-081525.6\", \"z\": 0.0294, \"sigma*\": 50.0, \"e_sigma*\": 4.0, \"n_sigma*\": \"b\", \"FWHM\": 840.0, \"e_FWHM\": 320.0, \"logL\": 41.93, \"e_logL\": 0.08, \"logM\": 5.1, \"E_logM\": null, \"e_logM\": 0.3}, {\"Name\": \"SDSS J032515.59+003408.4\", \"z\": 0.102, \"sigma*\": 55.0, \"e_sigma*\": 6.0, \"n_sigma*\": \"b\", \"FWHM\": 990.0, \"e_FWHM\": 49.0, \"logL\": 42.03, \"e_logL\": 0.12, \"logM\": 5.8, \"E_logM\": null, \"e_logM\": 0.1}, {\"Name\": \"SDSS J080907.58+441641.4\", \"z\": 0.0539, \"sigma*\": 65.0, \"e_sigma*\": 4.0, \"n_sigma*\": \"b\", \"FWHM\": 940.0, \"e_FWHM\": 180.0, \"logL\": 40.47, \"e_logL\": 0.04, \"logM\": 5.5, \"E_logM\": null, \"e_logM\": 0.8}, {\"Name\": \"SDSS J082912.67+500652.3\", \"z\": 0.0434, \"sigma*\": 60.0, \"e_sigma*\": 4.0, \"n_sigma*\": \"b\", \"FWHM\": 840.0, \"e_FWHM\": 41.0, \"logL\": 42.14, \"e_logL\": 0.06, \"logM\": 5.7, \"E_logM\": null, \"e_logM\": 0.1}, {\"Name\": \"SDSS J101108.40+002908.7\", \"z\": 0.1, \"sigma*\": 48.0, \"e_sigma*\": 7.0, \"n_sigma*\": \"b\", \"FWHM\": 1460.0, \"e_FWHM\": 72.0, \"logL\": 42.68, \"e_logL\": 0.19, \"logM\": 6.2, \"E_logM\": null, \"e_logM\": 0.3}, {\"Name\": \"SDSS J101627.32-000714.5\", \"z\": 0.0944, \"sigma*\": 39.0, \"e_sigma*\": 6.0, \"n_sigma*\": \"b\", \"FWHM\": 1520.0, \"e_FWHM\": 75.0, \"logL\": 42.57, \"e_logL\": 0.17, \"logM\": 6.1, \"E_logM\": null, \"e_logM\": 0.2}, {\"Name\": \"SDSS J124035.81-002919.4\", \"z\": 0.0809, \"sigma*\": 49.0, \"e_sigma*\": 7.0, \"n_sigma*\": \"b\", \"FWHM\": 1720.0, \"e_FWHM\": 85.0, \"logL\": 42.35, \"e_logL\": 0.11, \"logM\": 6.6, \"E_logM\": null, \"e_logM\": 0.6}, {\"Name\": \"SDSS J125055.28-015556.6\", \"z\": 0.0814, \"sigma*\": 64.0, \"e_sigma*\": 6.0, \"n_sigma*\": \"b\", \"FWHM\": 1980.0, \"e_FWHM\": 99.0, \"logL\": 42.75, \"e_logL\": 0.14, \"logM\": 6.5, \"E_logM\": null, \"e_logM\": 0.1}, {\"Name\": \"SDSS J143450.62+033842.5\", \"z\": 0.0282, \"sigma*\": 48.0, \"e_sigma*\": 7.0, \"n_sigma*\": \"b\", \"FWHM\": 1480.0, \"e_FWHM\": 73.0, \"logL\": 41.87, \"e_logL\": 0.16, \"logM\": 5.6, \"E_logM\": null, \"e_logM\": 0.1}, {\"Name\": \"SDSS J170246.09+602818.9\", \"z\": 0.0689, \"sigma*\": 69.0, \"e_sigma*\": 6.0, \"n_sigma*\": \"b\", \"FWHM\": 3270.0, \"e_FWHM\": 160.0, \"logL\": 42.67, \"e_logL\": 0.16, \"logM\": 6.9, \"E_logM\": null, \"e_logM\": 0.2}, {\"Name\": \"SDSS J172759.15+542147.0\", \"z\": 0.0995, \"sigma*\": 58.0, \"e_sigma*\": 7.0, \"n_sigma*\": \"b\", \"FWHM\": 810.0, \"e_FWHM\": 400.0, \"logL\": 42.19, \"e_logL\": 0.09, \"logM\": 5.6, \"E_logM\": null, \"e_logM\": 0.5}, {\"Name\": \"SDSS J215658.30+110343.1\", \"z\": 0.10800000000000001, \"sigma*\": 81.0, \"e_sigma*\": 8.0, \"n_sigma*\": \"b\", \"FWHM\": 1430.0, \"e_FWHM\": 280.0, \"logL\": 41.22, \"e_logL\": 0.03, \"logM\": 6.3, \"E_logM\": null, \"e_logM\": 0.8}, {\"Name\": \"SDSS J232159.06+000738.8\", \"z\": 0.184, \"sigma*\": 81.0, \"e_sigma*\": 9.0, \"n_sigma*\": \"b\", \"FWHM\": 2520.0, \"e_FWHM\": 120.0, \"logL\": 42.96, \"e_logL\": 0.1, \"logM\": 6.7, \"E_logM\": null, \"e_logM\": 0.2}, {\"Name\": \"SDSS J233837.10-002810.3\", \"z\": 0.0356, \"sigma*\": 58.0, \"e_sigma*\": 4.0, \"n_sigma*\": \"b\", \"FWHM\": 1740.0, \"e_FWHM\": 86.0, \"logL\": 43.61, \"e_logL\": 0.13, \"logM\": 5.8, \"E_logM\": null, \"e_logM\": 0.1}, {\"Name\": \"3C 120\", \"z\": 0.033, \"sigma*\": 162.0, \"e_sigma*\": 24.0, \"n_sigma*\": \"b\", \"FWHM\": null, \"e_FWHM\": null, \"logL\": null, \"e_logL\": null, \"logM\": 7.43, \"E_logM\": 0.2, \"e_logM\": 0.25}, {\"Name\": \"3C 390.3\", \"z\": 0.0561, \"sigma*\": 268.0, \"e_sigma*\": 15.0, \"n_sigma*\": null, \"FWHM\": null, \"e_FWHM\": null, \"logL\": null, \"e_logL\": null, \"logM\": 8.52, \"E_logM\": 0.09, \"e_logM\": 0.12}, {\"Name\": \"Akn 120\", \"z\": 0.0323, \"sigma*\": 224.0, \"e_sigma*\": 15.0, \"n_sigma*\": null, \"FWHM\": null, \"e_FWHM\": null, \"logL\": null, \"e_logL\": null, \"logM\": 8.2, \"E_logM\": 0.05, \"e_logM\": 0.07}, {\"Name\": \"Mrk 79\", \"z\": 0.0222, \"sigma*\": 130.0, \"e_sigma*\": 10.0, \"n_sigma*\": null, \"FWHM\": null, \"e_FWHM\": null, \"logL\": null, \"e_logL\": null, \"logM\": 7.67, \"E_logM\": 0.11, \"e_logM\": 0.15}, {\"Name\": \"Mrk 110\", \"z\": 0.0353, \"sigma*\": 87.1, \"e_sigma*\": 12.0, \"n_sigma*\": null, \"FWHM\": null, \"e_FWHM\": null, \"logL\": null, \"e_logL\": null, \"logM\": 6.97, \"E_logM\": 0.11, \"e_logM\": 0.15}, {\"Name\": \"Mrk 279\", \"z\": 0.0305, \"sigma*\": 197.0, \"e_sigma*\": 12.0, \"n_sigma*\": null, \"FWHM\": null, \"e_FWHM\": null, \"logL\": null, \"e_logL\": null, \"logM\": 7.45, \"E_logM\": 0.12, \"e_logM\": 0.16}, {\"Name\": \"Mrk 590\", \"z\": 0.0264, \"sigma*\": 189.0, \"e_sigma*\": 5.7, \"n_sigma*\": null, \"FWHM\": null, \"e_FWHM\": null, \"logL\": null, \"e_logL\": null, \"logM\": 7.2, \"E_logM\": 0.11, \"e_logM\": 0.15}, {\"Name\": \"Mrk 817\", \"z\": 0.0315, \"sigma*\": 127.0, \"e_sigma*\": 12.0, \"n_sigma*\": null, \"FWHM\": null, \"e_FWHM\": null, \"logL\": null, \"e_logL\": null, \"logM\": 7.62, \"E_logM\": 0.08, \"e_logM\": 0.1}, {\"Name\": \"NGC 3227\", \"z\": 0.00386, \"sigma*\": 135.0, \"e_sigma*\": 3.8, \"n_sigma*\": null, \"FWHM\": null, \"e_FWHM\": null, \"logL\": null, \"e_logL\": null, \"logM\": 7.47, \"E_logM\": 0.24, \"e_logM\": 1.06}, {\"Name\": \"NGC 3516\", \"z\": 0.00884, \"sigma*\": 181.0, \"e_sigma*\": 4.9, \"n_sigma*\": \"b\", \"FWHM\": null, \"e_FWHM\": null, \"logL\": null, \"e_logL\": null, \"logM\": 7.04, \"E_logM\": 0.31, \"e_logM\": 0.39}, {\"Name\": \"NGC 3783\", \"z\": 0.009729999999999999, \"sigma*\": 95.0, \"e_sigma*\": 10.0, \"n_sigma*\": null, \"FWHM\": null, \"e_FWHM\": null, \"logL\": null, \"e_logL\": null, \"logM\": 7.16, \"E_logM\": 0.17, \"e_logM\": 0.23}, {\"Name\": \"NGC 4051\", \"z\": 0.00234, \"sigma*\": 88.9, \"e_sigma*\": 2.9, \"n_sigma*\": null, \"FWHM\": null, \"e_FWHM\": null, \"logL\": null, \"e_logL\": null, \"logM\": 5.99, \"E_logM\": 0.17, \"e_logM\": 0.2}, {\"Name\": \"NGC 4151\", \"z\": 0.0033200000000000005, \"sigma*\": 96.8, \"e_sigma*\": 2.9, \"n_sigma*\": null, \"FWHM\": null, \"e_FWHM\": null, \"logL\": null, \"e_logL\": null, \"logM\": 6.91, \"E_logM\": 0.17, \"e_logM\": 0.29}, {\"Name\": \"NGC 5548\", \"z\": 0.0172, \"sigma*\": 198.0, \"e_sigma*\": 11.0, \"n_sigma*\": null, \"FWHM\": null, \"e_FWHM\": null, \"logL\": null, \"e_logL\": null, \"logM\": 7.81, \"E_logM\": 0.02, \"e_logM\": 0.02}, {\"Name\": \"NGC 7469\", \"z\": 0.0163, \"sigma*\": 133.0, \"e_sigma*\": 4.8, \"n_sigma*\": null, \"FWHM\": null, \"e_FWHM\": null, \"logL\": null, \"e_logL\": null, \"logM\": 6.49, \"E_logM\": 0.16, \"e_logM\": 0.27}, {\"Name\": \"POX 52\", \"z\": 0.0218, \"sigma*\": 36.0, \"e_sigma*\": 5.0, \"n_sigma*\": null, \"FWHM\": null, \"e_FWHM\": null, \"logL\": null, \"e_logL\": null, \"logM\": 5.2, \"E_logM\": null, \"e_logM\": 0.3}, {\"Name\": \"NGC 4395\", \"z\": 0.000947, \"sigma*\": 30.0, \"e_sigma*\": 5.0, \"n_sigma*\": null, \"FWHM\": null, \"e_FWHM\": null, \"logL\": null, \"e_logL\": null, \"logM\": 4.9, \"E_logM\": null, \"e_logM\": 0.4}]}}, {\"mode\": \"vega-lite\"});\n",
       "</script>"
      ],
      "text/plain": [
       "alt.Chart(...)"
      ]
     },
     "execution_count": 19,
     "metadata": {
      "tags": []
     },
     "output_type": "execute_result"
    }
   ],
   "source": [
    "alt.Chart(df).mark_point(filled=True).encode(\n",
    "    alt.X('z'),\n",
    "    alt.Y('sigma*'),\n",
    "    color = 'logM'\n",
    ")"
   ]
  },
  {
   "cell_type": "markdown",
   "metadata": {
    "id": "ZBzWme9RQkVs"
   },
   "source": [
    "Or using the mass as the size of the point."
   ]
  },
  {
   "cell_type": "code",
   "execution_count": null,
   "metadata": {
    "colab": {
     "base_uri": "https://localhost:8080/",
     "height": 363
    },
    "executionInfo": {
     "elapsed": 657,
     "status": "ok",
     "timestamp": 1609124084835,
     "user": {
      "displayName": "Eduard Alexis Larranaga",
      "photoUrl": "https://lh3.googleusercontent.com/a-/AOh14GgCVABzEgj-rCdyxWa29RnA0kIYUCXAaVbnRYOEhQ=s64",
      "userId": "04402438389940282602"
     },
     "user_tz": 300
    },
    "id": "HWH05Kr7QkVs",
    "outputId": "d8bd6839-69b0-4be4-f208-5bad524f5240"
   },
   "outputs": [
    {
     "data": {
      "text/html": [
       "\n",
       "<div id=\"altair-viz-1452e7c0ec8d445d963cdc749c89bf39\"></div>\n",
       "<script type=\"text/javascript\">\n",
       "  (function(spec, embedOpt){\n",
       "    let outputDiv = document.currentScript.previousElementSibling;\n",
       "    if (outputDiv.id !== \"altair-viz-1452e7c0ec8d445d963cdc749c89bf39\") {\n",
       "      outputDiv = document.getElementById(\"altair-viz-1452e7c0ec8d445d963cdc749c89bf39\");\n",
       "    }\n",
       "    const paths = {\n",
       "      \"vega\": \"https://cdn.jsdelivr.net/npm//vega@5?noext\",\n",
       "      \"vega-lib\": \"https://cdn.jsdelivr.net/npm//vega-lib?noext\",\n",
       "      \"vega-lite\": \"https://cdn.jsdelivr.net/npm//vega-lite@4.8.1?noext\",\n",
       "      \"vega-embed\": \"https://cdn.jsdelivr.net/npm//vega-embed@6?noext\",\n",
       "    };\n",
       "\n",
       "    function loadScript(lib) {\n",
       "      return new Promise(function(resolve, reject) {\n",
       "        var s = document.createElement('script');\n",
       "        s.src = paths[lib];\n",
       "        s.async = true;\n",
       "        s.onload = () => resolve(paths[lib]);\n",
       "        s.onerror = () => reject(`Error loading script: ${paths[lib]}`);\n",
       "        document.getElementsByTagName(\"head\")[0].appendChild(s);\n",
       "      });\n",
       "    }\n",
       "\n",
       "    function showError(err) {\n",
       "      outputDiv.innerHTML = `<div class=\"error\" style=\"color:red;\">${err}</div>`;\n",
       "      throw err;\n",
       "    }\n",
       "\n",
       "    function displayChart(vegaEmbed) {\n",
       "      vegaEmbed(outputDiv, spec, embedOpt)\n",
       "        .catch(err => showError(`Javascript Error: ${err.message}<br>This usually means there's a typo in your chart specification. See the javascript console for the full traceback.`));\n",
       "    }\n",
       "\n",
       "    if(typeof define === \"function\" && define.amd) {\n",
       "      requirejs.config({paths});\n",
       "      require([\"vega-embed\"], displayChart, err => showError(`Error loading script: ${err.message}`));\n",
       "    } else if (typeof vegaEmbed === \"function\") {\n",
       "      displayChart(vegaEmbed);\n",
       "    } else {\n",
       "      loadScript(\"vega\")\n",
       "        .then(() => loadScript(\"vega-lite\"))\n",
       "        .then(() => loadScript(\"vega-embed\"))\n",
       "        .catch(showError)\n",
       "        .then(() => displayChart(vegaEmbed));\n",
       "    }\n",
       "  })({\"config\": {\"view\": {\"continuousWidth\": 400, \"continuousHeight\": 300}}, \"data\": {\"name\": \"data-54b58a4aa74e295879badff738f3e9c4\"}, \"mark\": {\"type\": \"point\", \"filled\": true}, \"encoding\": {\"size\": {\"type\": \"quantitative\", \"field\": \"logM\"}, \"x\": {\"type\": \"quantitative\", \"field\": \"z\"}, \"y\": {\"type\": \"quantitative\", \"field\": \"sigma*\"}}, \"$schema\": \"https://vega.github.io/schema/vega-lite/v4.8.1.json\", \"datasets\": {\"data-54b58a4aa74e295879badff738f3e9c4\": [{\"Name\": \"SDSS J000805.62+145023.4\", \"z\": 0.0454, \"sigma*\": 140.0, \"e_sigma*\": 27.0, \"n_sigma*\": null, \"FWHM\": 7610.0, \"e_FWHM\": 380.0, \"logL\": 41.13, \"e_logL\": 0.04, \"logM\": 7.7, \"E_logM\": null, \"e_logM\": 0.1}, {\"Name\": \"SDSS J004236.86-104921.8\", \"z\": 0.0419, \"sigma*\": 78.4, \"e_sigma*\": 10.0, \"n_sigma*\": null, \"FWHM\": 1960.0, \"e_FWHM\": 97.0, \"logL\": 41.58, \"e_logL\": 0.14, \"logM\": 6.7, \"E_logM\": null, \"e_logM\": 0.1}, {\"Name\": \"SDSS J011703.58+000027.3\", \"z\": 0.0456, \"sigma*\": 98.8, \"e_sigma*\": 16.0, \"n_sigma*\": null, \"FWHM\": 2270.0, \"e_FWHM\": 110.0, \"logL\": 41.45, \"e_logL\": 0.08, \"logM\": 6.8, \"E_logM\": null, \"e_logM\": 0.1}, {\"Name\": \"SDSS J020459.25-080816.0\", \"z\": 0.0772, \"sigma*\": 121.0, \"e_sigma*\": 9.4, \"n_sigma*\": \"a\", \"FWHM\": 3720.0, \"e_FWHM\": 180.0, \"logL\": 41.13, \"e_logL\": 0.05, \"logM\": 7.0, \"E_logM\": null, \"e_logM\": 0.1}, {\"Name\": \"SDSS J020615.99-001729.1\", \"z\": 0.0426, \"sigma*\": 216.0, \"e_sigma*\": 30.0, \"n_sigma*\": null, \"FWHM\": 3860.0, \"e_FWHM\": 190.0, \"logL\": 41.91, \"e_logL\": 0.07, \"logM\": 7.5, \"E_logM\": null, \"e_logM\": 0.1}, {\"Name\": \"SDSS J021011.49-090335.5\", \"z\": 0.0414, \"sigma*\": 122.0, \"e_sigma*\": 12.0, \"n_sigma*\": \"a\", \"FWHM\": 2450.0, \"e_FWHM\": 120.0, \"logL\": 41.24, \"e_logL\": 0.07, \"logM\": 6.7, \"E_logM\": null, \"e_logM\": 0.1}, {\"Name\": \"SDSS J021257.59+140610.1\", \"z\": 0.0618, \"sigma*\": 174.0, \"e_sigma*\": 12.0, \"n_sigma*\": \"a\", \"FWHM\": 3080.0, \"e_FWHM\": 150.0, \"logL\": 41.58, \"e_logL\": 0.06, \"logM\": 7.1, \"E_logM\": null, \"e_logM\": 0.1}, {\"Name\": \"SDSS J033013.26-053236.0\", \"z\": 0.0131, \"sigma*\": 99.2, \"e_sigma*\": 11.0, \"n_sigma*\": null, \"FWHM\": 5160.0, \"e_FWHM\": 250.0, \"logL\": 40.45, \"e_logL\": 0.06, \"logM\": 7.0, \"E_logM\": null, \"e_logM\": 0.1}, {\"Name\": \"SDSS J075057.25+353037.5\", \"z\": 0.17600000000000002, \"sigma*\": 154.0, \"e_sigma*\": 14.0, \"n_sigma*\": \"a\", \"FWHM\": 2970.0, \"e_FWHM\": 200.0, \"logL\": 41.63, \"e_logL\": 0.03, \"logM\": 7.2, \"E_logM\": null, \"e_logM\": 0.1}, {\"Name\": \"SDSS J080243.39+310403.3\", \"z\": 0.0409, \"sigma*\": 151.0, \"e_sigma*\": 17.0, \"n_sigma*\": null, \"FWHM\": 5360.0, \"e_FWHM\": 260.0, \"logL\": 41.67, \"e_logL\": 0.07, \"logM\": 7.6, \"E_logM\": null, \"e_logM\": 0.1}, {\"Name\": \"SDSS J080538.66+261005.4\", \"z\": 0.017, \"sigma*\": 100.0, \"e_sigma*\": 14.0, \"n_sigma*\": null, \"FWHM\": 3110.0, \"e_FWHM\": 150.0, \"logL\": 40.14, \"e_logL\": 0.04, \"logM\": 6.3, \"E_logM\": null, \"e_logM\": 0.2}, {\"Name\": \"SDSS J082510.23+375919.7\", \"z\": 0.0214, \"sigma*\": 98.7, \"e_sigma*\": 12.0, \"n_sigma*\": null, \"FWHM\": 1830.0, \"e_FWHM\": 91.0, \"logL\": 40.42, \"e_logL\": 0.04, \"logM\": 6.0, \"E_logM\": null, \"e_logM\": 0.1}, {\"Name\": \"SDSS J083202.16+461425.7\", \"z\": 0.0459, \"sigma*\": 104.0, \"e_sigma*\": 13.0, \"n_sigma*\": null, \"FWHM\": 1450.0, \"e_FWHM\": 72.0, \"logL\": 41.17, \"e_logL\": 0.08, \"logM\": 6.2, \"E_logM\": null, \"e_logM\": 0.1}, {\"Name\": \"SDSS J083949.64+484701.4\", \"z\": 0.0394, \"sigma*\": 133.0, \"e_sigma*\": 12.0, \"n_sigma*\": null, \"FWHM\": 1480.0, \"e_FWHM\": 73.0, \"logL\": 41.31, \"e_logL\": 0.08, \"logM\": 6.3, \"E_logM\": null, \"e_logM\": 0.2}, {\"Name\": \"SDSS J085554.27+005110.9\", \"z\": 0.0524, \"sigma*\": 118.0, \"e_sigma*\": 11.0, \"n_sigma*\": \"a\", \"FWHM\": 2910.0, \"e_FWHM\": 140.0, \"logL\": 41.27, \"e_logL\": 0.06, \"logM\": 6.9, \"E_logM\": null, \"e_logM\": 0.1}, {\"Name\": \"SDSS J092438.88+560746.9\", \"z\": 0.025, \"sigma*\": 135.0, \"e_sigma*\": 10.0, \"n_sigma*\": null, \"FWHM\": 1900.0, \"e_FWHM\": 94.0, \"logL\": 40.72, \"e_logL\": 0.07, \"logM\": 6.2, \"E_logM\": null, \"e_logM\": 0.4}, {\"Name\": \"SDSS J093259.60+040506.0\", \"z\": 0.059000000000000004, \"sigma*\": 70.5, \"e_sigma*\": 6.7, \"n_sigma*\": \"a\", \"FWHM\": 3550.0, \"e_FWHM\": 170.0, \"logL\": 41.14, \"e_logL\": 0.05, \"logM\": 7.0, \"E_logM\": null, \"e_logM\": 0.1}, {\"Name\": \"SDSS J093812.26+074340.0\", \"z\": 0.0219, \"sigma*\": 119.0, \"e_sigma*\": 8.0, \"n_sigma*\": null, \"FWHM\": 3640.0, \"e_FWHM\": 180.0, \"logL\": 40.8, \"e_logL\": 0.05, \"logM\": 6.8, \"E_logM\": null, \"e_logM\": 0.1}, {\"Name\": \"SDSS J094838.42+403043.7\", \"z\": 0.047, \"sigma*\": 91.4, \"e_sigma*\": 16.0, \"n_sigma*\": null, \"FWHM\": 3020.0, \"e_FWHM\": 150.0, \"logL\": 41.46, \"e_logL\": 0.07, \"logM\": 7.0, \"E_logM\": null, \"e_logM\": 0.1}, {\"Name\": \"SDSS J101912.57+635802.7\", \"z\": 0.0414, \"sigma*\": 239.0, \"e_sigma*\": 13.0, \"n_sigma*\": null, \"FWHM\": 3630.0, \"e_FWHM\": 180.0, \"logL\": 41.74, \"e_logL\": 0.08, \"logM\": 7.4, \"E_logM\": null, \"e_logM\": 0.1}, {\"Name\": \"SDSS J102044.43+013048.4\", \"z\": 0.0962, \"sigma*\": 103.0, \"e_sigma*\": 8.8, \"n_sigma*\": \"a\", \"FWHM\": 5200.0, \"e_FWHM\": 250.0, \"logL\": 41.51, \"e_logL\": 0.04, \"logM\": 7.6, \"E_logM\": null, \"e_logM\": 0.1}, {\"Name\": \"SDSS J110640.20+051905.6\", \"z\": 0.0913, \"sigma*\": 140.0, \"e_sigma*\": 15.0, \"n_sigma*\": \"a\", \"FWHM\": 5830.0, \"e_FWHM\": 290.0, \"logL\": 41.65, \"e_logL\": 0.04, \"logM\": 7.7, \"E_logM\": null, \"e_logM\": 0.1}, {\"Name\": \"SDSS J112536.16+542257.1\", \"z\": 0.0206, \"sigma*\": 124.0, \"e_sigma*\": 12.0, \"n_sigma*\": null, \"FWHM\": 2950.0, \"e_FWHM\": 140.0, \"logL\": 41.17, \"e_logL\": 0.08, \"logM\": 6.8, \"E_logM\": null, \"e_logM\": 0.1}, {\"Name\": \"SDSS J112841.00+575006.5\", \"z\": 0.0513, \"sigma*\": 159.0, \"e_sigma*\": 18.0, \"n_sigma*\": \"a\", \"FWHM\": 2660.0, \"e_FWHM\": 130.0, \"logL\": 41.66, \"e_logL\": 0.09, \"logM\": 7.0, \"E_logM\": null, \"e_logM\": 0.1}, {\"Name\": \"SDSS J120257.81+045045.0\", \"z\": 0.0207, \"sigma*\": 102.0, \"e_sigma*\": 20.0, \"n_sigma*\": null, \"FWHM\": 2250.0, \"e_FWHM\": 110.0, \"logL\": 40.1, \"e_logL\": 0.06, \"logM\": 6.0, \"E_logM\": null, \"e_logM\": 0.1}, {\"Name\": \"SDSS J120556.01+495956.1\", \"z\": 0.0631, \"sigma*\": 107.0, \"e_sigma*\": 11.0, \"n_sigma*\": \"a\", \"FWHM\": 5610.0, \"e_FWHM\": 450.0, \"logL\": 41.57, \"e_logL\": 0.04, \"logM\": 7.7, \"E_logM\": null, \"e_logM\": 0.1}, {\"Name\": \"SDSS J121607.09+504930.0\", \"z\": 0.0308, \"sigma*\": 138.0, \"e_sigma*\": 13.0, \"n_sigma*\": null, \"FWHM\": 5580.0, \"e_FWHM\": 270.0, \"logL\": 41.3, \"e_logL\": 0.06, \"logM\": 7.5, \"E_logM\": null, \"e_logM\": 0.3}, {\"Name\": \"SDSS J121754.97+583935.6\", \"z\": 0.0233, \"sigma*\": 85.6, \"e_sigma*\": 14.0, \"n_sigma*\": null, \"FWHM\": 1970.0, \"e_FWHM\": 98.0, \"logL\": 40.92, \"e_logL\": 0.08, \"logM\": 6.4, \"E_logM\": null, \"e_logM\": 0.1}, {\"Name\": \"SDSS J122324.13+024044.4\", \"z\": 0.0236, \"sigma*\": 78.1, \"e_sigma*\": 15.0, \"n_sigma*\": null, \"FWHM\": 3880.0, \"e_FWHM\": 910.0, \"logL\": 41.62, \"e_logL\": 0.08, \"logM\": 7.3, \"E_logM\": null, \"e_logM\": 0.2}, {\"Name\": \"SDSS J123237.48+662452.3\", \"z\": 0.0468, \"sigma*\": 124.0, \"e_sigma*\": 9.0, \"n_sigma*\": null, \"FWHM\": 2620.0, \"e_FWHM\": 130.0, \"logL\": 41.86, \"e_logL\": 0.19, \"logM\": 7.1, \"E_logM\": null, \"e_logM\": 0.2}, {\"Name\": \"SDSS J130620.97+531823.1\", \"z\": 0.0237, \"sigma*\": 90.7, \"e_sigma*\": 11.0, \"n_sigma*\": null, \"FWHM\": 7620.0, \"e_FWHM\": 380.0, \"logL\": 40.58, \"e_logL\": 0.04, \"logM\": 7.3, \"E_logM\": null, \"e_logM\": 0.1}, {\"Name\": \"SDSS J131305.80+012755.9\", \"z\": 0.0294, \"sigma*\": 95.4, \"e_sigma*\": 13.0, \"n_sigma*\": null, \"FWHM\": 1590.0, \"e_FWHM\": 79.0, \"logL\": 40.62, \"e_logL\": 0.07, \"logM\": 6.0, \"E_logM\": null, \"e_logM\": 0.1}, {\"Name\": \"SDSS J132249.21+545528.2\", \"z\": 0.0653, \"sigma*\": 130.0, \"e_sigma*\": 13.0, \"n_sigma*\": \"a\", \"FWHM\": 4050.0, \"e_FWHM\": 200.0, \"logL\": 41.81, \"e_logL\": 0.07, \"logM\": 7.5, \"E_logM\": null, \"e_logM\": 0.1}, {\"Name\": \"SDSS J132340.31-012749.2\", \"z\": 0.0767, \"sigma*\": 114.0, \"e_sigma*\": 16.0, \"n_sigma*\": \"a\", \"FWHM\": 1910.0, \"e_FWHM\": 95.0, \"logL\": 41.55, \"e_logL\": 0.09, \"logM\": 6.7, \"E_logM\": null, \"e_logM\": 0.1}, {\"Name\": \"SDSS J134952.84+020445.1\", \"z\": 0.0328, \"sigma*\": 138.0, \"e_sigma*\": 13.0, \"n_sigma*\": null, \"FWHM\": 2590.0, \"e_FWHM\": 120.0, \"logL\": 41.62, \"e_logL\": 0.07, \"logM\": 7.0, \"E_logM\": null, \"e_logM\": 0.1}, {\"Name\": \"SDSS J140018.42+050242.2\", \"z\": 0.0342, \"sigma*\": 145.0, \"e_sigma*\": 14.0, \"n_sigma*\": null, \"FWHM\": 3340.0, \"e_FWHM\": 160.0, \"logL\": 41.23, \"e_logL\": 0.05, \"logM\": 7.1, \"E_logM\": null, \"e_logM\": 0.5}, {\"Name\": \"SDSS J140514.87-025901.2\", \"z\": 0.0542, \"sigma*\": 148.0, \"e_sigma*\": 15.0, \"n_sigma*\": \"a\", \"FWHM\": 2990.0, \"e_FWHM\": 140.0, \"logL\": 41.29, \"e_logL\": 0.06, \"logM\": 6.9, \"E_logM\": null, \"e_logM\": 0.3}, {\"Name\": \"SDSS J141630.81+013708.0\", \"z\": 0.0538, \"sigma*\": 121.0, \"e_sigma*\": 12.0, \"n_sigma*\": \"a\", \"FWHM\": 3180.0, \"e_FWHM\": 150.0, \"logL\": 41.1, \"e_logL\": 0.04, \"logM\": 6.9, \"E_logM\": null, \"e_logM\": 0.1}, {\"Name\": \"SDSS J143452.45+483942.7\", \"z\": 0.0365, \"sigma*\": 138.0, \"e_sigma*\": 15.0, \"n_sigma*\": null, \"FWHM\": 3210.0, \"e_FWHM\": 160.0, \"logL\": 41.84, \"e_logL\": 0.1, \"logM\": 7.3, \"E_logM\": null, \"e_logM\": 0.1}, {\"Name\": \"SDSS J144629.97+500130.5\", \"z\": 0.0427, \"sigma*\": 86.8, \"e_sigma*\": 19.0, \"n_sigma*\": null, \"FWHM\": 6450.0, \"e_FWHM\": 320.0, \"logL\": 40.73, \"e_logL\": 0.03, \"logM\": 7.3, \"E_logM\": null, \"e_logM\": 0.2}, {\"Name\": \"SDSS J145706.80+494008.4\", \"z\": 0.0134, \"sigma*\": 108.0, \"e_sigma*\": 11.0, \"n_sigma*\": null, \"FWHM\": 2270.0, \"e_FWHM\": 110.0, \"logL\": 40.46, \"e_logL\": 0.1, \"logM\": 6.3, \"E_logM\": null, \"e_logM\": 0.1}, {\"Name\": \"SDSS J145901.35+611353.5\", \"z\": 0.0388, \"sigma*\": 113.0, \"e_sigma*\": 13.0, \"n_sigma*\": null, \"FWHM\": 4140.0, \"e_FWHM\": 200.0, \"logL\": 41.18, \"e_logL\": 0.06, \"logM\": 7.2, \"E_logM\": null, \"e_logM\": 0.1}, {\"Name\": \"SDSS J150556.55+034226.3\", \"z\": 0.0359, \"sigma*\": 199.0, \"e_sigma*\": 18.0, \"n_sigma*\": \"a\", \"FWHM\": 4370.0, \"e_FWHM\": 210.0, \"logL\": 42.09, \"e_logL\": 0.1, \"logM\": 7.7, \"E_logM\": null, \"e_logM\": 0.1}, {\"Name\": \"SDSS J150745.00+512710.2\", \"z\": 0.0458, \"sigma*\": 139.0, \"e_sigma*\": 17.0, \"n_sigma*\": null, \"FWHM\": 3430.0, \"e_FWHM\": 170.0, \"logL\": 41.4, \"e_logL\": 0.04, \"logM\": 7.1, \"E_logM\": null, \"e_logM\": 0.1}, {\"Name\": \"SDSS J150853.95-001148.9\", \"z\": 0.0542, \"sigma*\": 163.0, \"e_sigma*\": 15.0, \"n_sigma*\": \"a\", \"FWHM\": 6190.0, \"e_FWHM\": 610.0, \"logL\": 41.51, \"e_logL\": 0.04, \"logM\": 7.8, \"E_logM\": null, \"e_logM\": 0.1}, {\"Name\": \"SDSS J152515.18+601409.0\", \"z\": 0.0783, \"sigma*\": 104.0, \"e_sigma*\": 11.0, \"n_sigma*\": \"a\", \"FWHM\": 2590.0, \"e_FWHM\": 120.0, \"logL\": 41.41, \"e_logL\": 0.09, \"logM\": 6.9, \"E_logM\": null, \"e_logM\": 0.1}, {\"Name\": \"SDSS J155417.43+323837.8\", \"z\": 0.0483, \"sigma*\": 120.0, \"e_sigma*\": 13.0, \"n_sigma*\": \"a\", \"FWHM\": 4200.0, \"e_FWHM\": 210.0, \"logL\": 41.86, \"e_logL\": 0.08, \"logM\": 7.5, \"E_logM\": null, \"e_logM\": 0.1}, {\"Name\": \"SDSS J161156.31+521116.8\", \"z\": 0.040999999999999995, \"sigma*\": 116.0, \"e_sigma*\": 10.0, \"n_sigma*\": null, \"FWHM\": 3760.0, \"e_FWHM\": 180.0, \"logL\": 41.09, \"e_logL\": 0.04, \"logM\": 7.0, \"E_logM\": null, \"e_logM\": 0.3}, {\"Name\": \"SDSS J161951.31+405847.2\", \"z\": 0.0379, \"sigma*\": 89.1, \"e_sigma*\": 20.0, \"n_sigma*\": null, \"FWHM\": 1700.0, \"e_FWHM\": 85.0, \"logL\": 40.99, \"e_logL\": 0.07, \"logM\": 6.3, \"E_logM\": null, \"e_logM\": 0.1}, {\"Name\": \"SDSS J170328.96+614109.9\", \"z\": 0.0772, \"sigma*\": 123.0, \"e_sigma*\": 13.0, \"n_sigma*\": \"a\", \"FWHM\": 4300.0, \"e_FWHM\": 210.0, \"logL\": 41.92, \"e_logL\": 0.05, \"logM\": 7.6, \"E_logM\": null, \"e_logM\": 0.1}, {\"Name\": \"SDSS J171550.49+593548.7\", \"z\": 0.0657, \"sigma*\": 146.0, \"e_sigma*\": 13.0, \"n_sigma*\": \"a\", \"FWHM\": 3500.0, \"e_FWHM\": 170.0, \"logL\": 41.24, \"e_logL\": 0.05, \"logM\": 7.0, \"E_logM\": null, \"e_logM\": 0.1}, {\"Name\": \"SDSS J212401.90-002158.7\", \"z\": 0.0619, \"sigma*\": 110.0, \"e_sigma*\": 15.0, \"n_sigma*\": \"a\", \"FWHM\": 2620.0, \"e_FWHM\": 130.0, \"logL\": 41.41, \"e_logL\": 0.06, \"logM\": 6.9, \"E_logM\": null, \"e_logM\": 0.1}, {\"Name\": \"SDSS J222435.29-001103.8\", \"z\": 0.0581, \"sigma*\": 111.0, \"e_sigma*\": 19.0, \"n_sigma*\": \"a\", \"FWHM\": 2290.0, \"e_FWHM\": 1190.0, \"logL\": 41.83, \"e_logL\": 0.17, \"logM\": 7.0, \"E_logM\": null, \"e_logM\": 0.4}, {\"Name\": \"SDSS J223000.37-094622.1\", \"z\": 0.0727, \"sigma*\": 112.0, \"e_sigma*\": 13.0, \"n_sigma*\": \"a\", \"FWHM\": 3630.0, \"e_FWHM\": 180.0, \"logL\": 41.21, \"e_logL\": 0.04, \"logM\": 7.1, \"E_logM\": null, \"e_logM\": 0.1}, {\"Name\": \"SDSS J232721.96+152437.3\", \"z\": 0.0457, \"sigma*\": 193.0, \"e_sigma*\": 18.0, \"n_sigma*\": null, \"FWHM\": 7540.0, \"e_FWHM\": 750.0, \"logL\": 41.65, \"e_logL\": 0.06, \"logM\": 7.9, \"E_logM\": null, \"e_logM\": 0.1}, {\"Name\": \"SDSS J235128.78+155259.0\", \"z\": 0.0963, \"sigma*\": 193.0, \"e_sigma*\": 22.0, \"n_sigma*\": \"a\", \"FWHM\": 8240.0, \"e_FWHM\": 410.0, \"logL\": 41.87, \"e_logL\": 0.04, \"logM\": 8.2, \"E_logM\": null, \"e_logM\": 0.2}, {\"Name\": \"SDSS J010712.03+140844.9\", \"z\": 0.0768, \"sigma*\": 36.0, \"e_sigma*\": 6.0, \"n_sigma*\": \"b\", \"FWHM\": 880.0, \"e_FWHM\": 170.0, \"logL\": 42.57, \"e_logL\": 0.2, \"logM\": 5.8, \"E_logM\": null, \"e_logM\": 0.2}, {\"Name\": \"SDSS J024912.86-081525.6\", \"z\": 0.0294, \"sigma*\": 50.0, \"e_sigma*\": 4.0, \"n_sigma*\": \"b\", \"FWHM\": 840.0, \"e_FWHM\": 320.0, \"logL\": 41.93, \"e_logL\": 0.08, \"logM\": 5.1, \"E_logM\": null, \"e_logM\": 0.3}, {\"Name\": \"SDSS J032515.59+003408.4\", \"z\": 0.102, \"sigma*\": 55.0, \"e_sigma*\": 6.0, \"n_sigma*\": \"b\", \"FWHM\": 990.0, \"e_FWHM\": 49.0, \"logL\": 42.03, \"e_logL\": 0.12, \"logM\": 5.8, \"E_logM\": null, \"e_logM\": 0.1}, {\"Name\": \"SDSS J080907.58+441641.4\", \"z\": 0.0539, \"sigma*\": 65.0, \"e_sigma*\": 4.0, \"n_sigma*\": \"b\", \"FWHM\": 940.0, \"e_FWHM\": 180.0, \"logL\": 40.47, \"e_logL\": 0.04, \"logM\": 5.5, \"E_logM\": null, \"e_logM\": 0.8}, {\"Name\": \"SDSS J082912.67+500652.3\", \"z\": 0.0434, \"sigma*\": 60.0, \"e_sigma*\": 4.0, \"n_sigma*\": \"b\", \"FWHM\": 840.0, \"e_FWHM\": 41.0, \"logL\": 42.14, \"e_logL\": 0.06, \"logM\": 5.7, \"E_logM\": null, \"e_logM\": 0.1}, {\"Name\": \"SDSS J101108.40+002908.7\", \"z\": 0.1, \"sigma*\": 48.0, \"e_sigma*\": 7.0, \"n_sigma*\": \"b\", \"FWHM\": 1460.0, \"e_FWHM\": 72.0, \"logL\": 42.68, \"e_logL\": 0.19, \"logM\": 6.2, \"E_logM\": null, \"e_logM\": 0.3}, {\"Name\": \"SDSS J101627.32-000714.5\", \"z\": 0.0944, \"sigma*\": 39.0, \"e_sigma*\": 6.0, \"n_sigma*\": \"b\", \"FWHM\": 1520.0, \"e_FWHM\": 75.0, \"logL\": 42.57, \"e_logL\": 0.17, \"logM\": 6.1, \"E_logM\": null, \"e_logM\": 0.2}, {\"Name\": \"SDSS J124035.81-002919.4\", \"z\": 0.0809, \"sigma*\": 49.0, \"e_sigma*\": 7.0, \"n_sigma*\": \"b\", \"FWHM\": 1720.0, \"e_FWHM\": 85.0, \"logL\": 42.35, \"e_logL\": 0.11, \"logM\": 6.6, \"E_logM\": null, \"e_logM\": 0.6}, {\"Name\": \"SDSS J125055.28-015556.6\", \"z\": 0.0814, \"sigma*\": 64.0, \"e_sigma*\": 6.0, \"n_sigma*\": \"b\", \"FWHM\": 1980.0, \"e_FWHM\": 99.0, \"logL\": 42.75, \"e_logL\": 0.14, \"logM\": 6.5, \"E_logM\": null, \"e_logM\": 0.1}, {\"Name\": \"SDSS J143450.62+033842.5\", \"z\": 0.0282, \"sigma*\": 48.0, \"e_sigma*\": 7.0, \"n_sigma*\": \"b\", \"FWHM\": 1480.0, \"e_FWHM\": 73.0, \"logL\": 41.87, \"e_logL\": 0.16, \"logM\": 5.6, \"E_logM\": null, \"e_logM\": 0.1}, {\"Name\": \"SDSS J170246.09+602818.9\", \"z\": 0.0689, \"sigma*\": 69.0, \"e_sigma*\": 6.0, \"n_sigma*\": \"b\", \"FWHM\": 3270.0, \"e_FWHM\": 160.0, \"logL\": 42.67, \"e_logL\": 0.16, \"logM\": 6.9, \"E_logM\": null, \"e_logM\": 0.2}, {\"Name\": \"SDSS J172759.15+542147.0\", \"z\": 0.0995, \"sigma*\": 58.0, \"e_sigma*\": 7.0, \"n_sigma*\": \"b\", \"FWHM\": 810.0, \"e_FWHM\": 400.0, \"logL\": 42.19, \"e_logL\": 0.09, \"logM\": 5.6, \"E_logM\": null, \"e_logM\": 0.5}, {\"Name\": \"SDSS J215658.30+110343.1\", \"z\": 0.10800000000000001, \"sigma*\": 81.0, \"e_sigma*\": 8.0, \"n_sigma*\": \"b\", \"FWHM\": 1430.0, \"e_FWHM\": 280.0, \"logL\": 41.22, \"e_logL\": 0.03, \"logM\": 6.3, \"E_logM\": null, \"e_logM\": 0.8}, {\"Name\": \"SDSS J232159.06+000738.8\", \"z\": 0.184, \"sigma*\": 81.0, \"e_sigma*\": 9.0, \"n_sigma*\": \"b\", \"FWHM\": 2520.0, \"e_FWHM\": 120.0, \"logL\": 42.96, \"e_logL\": 0.1, \"logM\": 6.7, \"E_logM\": null, \"e_logM\": 0.2}, {\"Name\": \"SDSS J233837.10-002810.3\", \"z\": 0.0356, \"sigma*\": 58.0, \"e_sigma*\": 4.0, \"n_sigma*\": \"b\", \"FWHM\": 1740.0, \"e_FWHM\": 86.0, \"logL\": 43.61, \"e_logL\": 0.13, \"logM\": 5.8, \"E_logM\": null, \"e_logM\": 0.1}, {\"Name\": \"3C 120\", \"z\": 0.033, \"sigma*\": 162.0, \"e_sigma*\": 24.0, \"n_sigma*\": \"b\", \"FWHM\": null, \"e_FWHM\": null, \"logL\": null, \"e_logL\": null, \"logM\": 7.43, \"E_logM\": 0.2, \"e_logM\": 0.25}, {\"Name\": \"3C 390.3\", \"z\": 0.0561, \"sigma*\": 268.0, \"e_sigma*\": 15.0, \"n_sigma*\": null, \"FWHM\": null, \"e_FWHM\": null, \"logL\": null, \"e_logL\": null, \"logM\": 8.52, \"E_logM\": 0.09, \"e_logM\": 0.12}, {\"Name\": \"Akn 120\", \"z\": 0.0323, \"sigma*\": 224.0, \"e_sigma*\": 15.0, \"n_sigma*\": null, \"FWHM\": null, \"e_FWHM\": null, \"logL\": null, \"e_logL\": null, \"logM\": 8.2, \"E_logM\": 0.05, \"e_logM\": 0.07}, {\"Name\": \"Mrk 79\", \"z\": 0.0222, \"sigma*\": 130.0, \"e_sigma*\": 10.0, \"n_sigma*\": null, \"FWHM\": null, \"e_FWHM\": null, \"logL\": null, \"e_logL\": null, \"logM\": 7.67, \"E_logM\": 0.11, \"e_logM\": 0.15}, {\"Name\": \"Mrk 110\", \"z\": 0.0353, \"sigma*\": 87.1, \"e_sigma*\": 12.0, \"n_sigma*\": null, \"FWHM\": null, \"e_FWHM\": null, \"logL\": null, \"e_logL\": null, \"logM\": 6.97, \"E_logM\": 0.11, \"e_logM\": 0.15}, {\"Name\": \"Mrk 279\", \"z\": 0.0305, \"sigma*\": 197.0, \"e_sigma*\": 12.0, \"n_sigma*\": null, \"FWHM\": null, \"e_FWHM\": null, \"logL\": null, \"e_logL\": null, \"logM\": 7.45, \"E_logM\": 0.12, \"e_logM\": 0.16}, {\"Name\": \"Mrk 590\", \"z\": 0.0264, \"sigma*\": 189.0, \"e_sigma*\": 5.7, \"n_sigma*\": null, \"FWHM\": null, \"e_FWHM\": null, \"logL\": null, \"e_logL\": null, \"logM\": 7.2, \"E_logM\": 0.11, \"e_logM\": 0.15}, {\"Name\": \"Mrk 817\", \"z\": 0.0315, \"sigma*\": 127.0, \"e_sigma*\": 12.0, \"n_sigma*\": null, \"FWHM\": null, \"e_FWHM\": null, \"logL\": null, \"e_logL\": null, \"logM\": 7.62, \"E_logM\": 0.08, \"e_logM\": 0.1}, {\"Name\": \"NGC 3227\", \"z\": 0.00386, \"sigma*\": 135.0, \"e_sigma*\": 3.8, \"n_sigma*\": null, \"FWHM\": null, \"e_FWHM\": null, \"logL\": null, \"e_logL\": null, \"logM\": 7.47, \"E_logM\": 0.24, \"e_logM\": 1.06}, {\"Name\": \"NGC 3516\", \"z\": 0.00884, \"sigma*\": 181.0, \"e_sigma*\": 4.9, \"n_sigma*\": \"b\", \"FWHM\": null, \"e_FWHM\": null, \"logL\": null, \"e_logL\": null, \"logM\": 7.04, \"E_logM\": 0.31, \"e_logM\": 0.39}, {\"Name\": \"NGC 3783\", \"z\": 0.009729999999999999, \"sigma*\": 95.0, \"e_sigma*\": 10.0, \"n_sigma*\": null, \"FWHM\": null, \"e_FWHM\": null, \"logL\": null, \"e_logL\": null, \"logM\": 7.16, \"E_logM\": 0.17, \"e_logM\": 0.23}, {\"Name\": \"NGC 4051\", \"z\": 0.00234, \"sigma*\": 88.9, \"e_sigma*\": 2.9, \"n_sigma*\": null, \"FWHM\": null, \"e_FWHM\": null, \"logL\": null, \"e_logL\": null, \"logM\": 5.99, \"E_logM\": 0.17, \"e_logM\": 0.2}, {\"Name\": \"NGC 4151\", \"z\": 0.0033200000000000005, \"sigma*\": 96.8, \"e_sigma*\": 2.9, \"n_sigma*\": null, \"FWHM\": null, \"e_FWHM\": null, \"logL\": null, \"e_logL\": null, \"logM\": 6.91, \"E_logM\": 0.17, \"e_logM\": 0.29}, {\"Name\": \"NGC 5548\", \"z\": 0.0172, \"sigma*\": 198.0, \"e_sigma*\": 11.0, \"n_sigma*\": null, \"FWHM\": null, \"e_FWHM\": null, \"logL\": null, \"e_logL\": null, \"logM\": 7.81, \"E_logM\": 0.02, \"e_logM\": 0.02}, {\"Name\": \"NGC 7469\", \"z\": 0.0163, \"sigma*\": 133.0, \"e_sigma*\": 4.8, \"n_sigma*\": null, \"FWHM\": null, \"e_FWHM\": null, \"logL\": null, \"e_logL\": null, \"logM\": 6.49, \"E_logM\": 0.16, \"e_logM\": 0.27}, {\"Name\": \"POX 52\", \"z\": 0.0218, \"sigma*\": 36.0, \"e_sigma*\": 5.0, \"n_sigma*\": null, \"FWHM\": null, \"e_FWHM\": null, \"logL\": null, \"e_logL\": null, \"logM\": 5.2, \"E_logM\": null, \"e_logM\": 0.3}, {\"Name\": \"NGC 4395\", \"z\": 0.000947, \"sigma*\": 30.0, \"e_sigma*\": 5.0, \"n_sigma*\": null, \"FWHM\": null, \"e_FWHM\": null, \"logL\": null, \"e_logL\": null, \"logM\": 4.9, \"E_logM\": null, \"e_logM\": 0.4}]}}, {\"mode\": \"vega-lite\"});\n",
       "</script>"
      ],
      "text/plain": [
       "alt.Chart(...)"
      ]
     },
     "execution_count": 20,
     "metadata": {
      "tags": []
     },
     "output_type": "execute_result"
    }
   ],
   "source": [
    "alt.Chart(df).mark_point(filled=True).encode(\n",
    "    alt.X('z'),\n",
    "    alt.Y('sigma*'),\n",
    "    size = 'logM'\n",
    ")"
   ]
  },
  {
   "cell_type": "markdown",
   "metadata": {
    "id": "oRwwWK9fQkVt"
   },
   "source": [
    "### Interactivity\n",
    "\n",
    "Now the interesting part: interactivity. All the details can be found at\n",
    "\n",
    "https://altair-viz.github.io/user_guide/interactions.html\n",
    "\n",
    "and \n",
    "\n",
    "https://altair-viz.github.io/gallery/index.html#gallery-category-interactive-charts\n",
    "\n",
    "We begin with the simple plot"
   ]
  },
  {
   "cell_type": "code",
   "execution_count": null,
   "metadata": {
    "colab": {
     "base_uri": "https://localhost:8080/",
     "height": 368
    },
    "executionInfo": {
     "elapsed": 845,
     "status": "ok",
     "timestamp": 1609124088615,
     "user": {
      "displayName": "Eduard Alexis Larranaga",
      "photoUrl": "https://lh3.googleusercontent.com/a-/AOh14GgCVABzEgj-rCdyxWa29RnA0kIYUCXAaVbnRYOEhQ=s64",
      "userId": "04402438389940282602"
     },
     "user_tz": 300
    },
    "id": "ZSWQm3A0QkVt",
    "outputId": "de3fdf6e-54b3-4b40-dad0-30b1fb4871ec"
   },
   "outputs": [
    {
     "data": {
      "text/html": [
       "\n",
       "<div id=\"altair-viz-ad86448e4d5b4da598d2baa8827af053\"></div>\n",
       "<script type=\"text/javascript\">\n",
       "  (function(spec, embedOpt){\n",
       "    let outputDiv = document.currentScript.previousElementSibling;\n",
       "    if (outputDiv.id !== \"altair-viz-ad86448e4d5b4da598d2baa8827af053\") {\n",
       "      outputDiv = document.getElementById(\"altair-viz-ad86448e4d5b4da598d2baa8827af053\");\n",
       "    }\n",
       "    const paths = {\n",
       "      \"vega\": \"https://cdn.jsdelivr.net/npm//vega@5?noext\",\n",
       "      \"vega-lib\": \"https://cdn.jsdelivr.net/npm//vega-lib?noext\",\n",
       "      \"vega-lite\": \"https://cdn.jsdelivr.net/npm//vega-lite@4.8.1?noext\",\n",
       "      \"vega-embed\": \"https://cdn.jsdelivr.net/npm//vega-embed@6?noext\",\n",
       "    };\n",
       "\n",
       "    function loadScript(lib) {\n",
       "      return new Promise(function(resolve, reject) {\n",
       "        var s = document.createElement('script');\n",
       "        s.src = paths[lib];\n",
       "        s.async = true;\n",
       "        s.onload = () => resolve(paths[lib]);\n",
       "        s.onerror = () => reject(`Error loading script: ${paths[lib]}`);\n",
       "        document.getElementsByTagName(\"head\")[0].appendChild(s);\n",
       "      });\n",
       "    }\n",
       "\n",
       "    function showError(err) {\n",
       "      outputDiv.innerHTML = `<div class=\"error\" style=\"color:red;\">${err}</div>`;\n",
       "      throw err;\n",
       "    }\n",
       "\n",
       "    function displayChart(vegaEmbed) {\n",
       "      vegaEmbed(outputDiv, spec, embedOpt)\n",
       "        .catch(err => showError(`Javascript Error: ${err.message}<br>This usually means there's a typo in your chart specification. See the javascript console for the full traceback.`));\n",
       "    }\n",
       "\n",
       "    if(typeof define === \"function\" && define.amd) {\n",
       "      requirejs.config({paths});\n",
       "      require([\"vega-embed\"], displayChart, err => showError(`Error loading script: ${err.message}`));\n",
       "    } else if (typeof vegaEmbed === \"function\") {\n",
       "      displayChart(vegaEmbed);\n",
       "    } else {\n",
       "      loadScript(\"vega\")\n",
       "        .then(() => loadScript(\"vega-lite\"))\n",
       "        .then(() => loadScript(\"vega-embed\"))\n",
       "        .catch(showError)\n",
       "        .then(() => displayChart(vegaEmbed));\n",
       "    }\n",
       "  })({\"config\": {\"view\": {\"continuousWidth\": 400, \"continuousHeight\": 300}}, \"data\": {\"name\": \"data-54b58a4aa74e295879badff738f3e9c4\"}, \"mark\": {\"type\": \"point\", \"filled\": true}, \"encoding\": {\"color\": {\"type\": \"quantitative\", \"field\": \"z\"}, \"x\": {\"type\": \"quantitative\", \"field\": \"sigma*\", \"scale\": {\"base\": 10, \"type\": \"log\"}}, \"y\": {\"type\": \"quantitative\", \"field\": \"logM\"}}, \"$schema\": \"https://vega.github.io/schema/vega-lite/v4.8.1.json\", \"datasets\": {\"data-54b58a4aa74e295879badff738f3e9c4\": [{\"Name\": \"SDSS J000805.62+145023.4\", \"z\": 0.0454, \"sigma*\": 140.0, \"e_sigma*\": 27.0, \"n_sigma*\": null, \"FWHM\": 7610.0, \"e_FWHM\": 380.0, \"logL\": 41.13, \"e_logL\": 0.04, \"logM\": 7.7, \"E_logM\": null, \"e_logM\": 0.1}, {\"Name\": \"SDSS J004236.86-104921.8\", \"z\": 0.0419, \"sigma*\": 78.4, \"e_sigma*\": 10.0, \"n_sigma*\": null, \"FWHM\": 1960.0, \"e_FWHM\": 97.0, \"logL\": 41.58, \"e_logL\": 0.14, \"logM\": 6.7, \"E_logM\": null, \"e_logM\": 0.1}, {\"Name\": \"SDSS J011703.58+000027.3\", \"z\": 0.0456, \"sigma*\": 98.8, \"e_sigma*\": 16.0, \"n_sigma*\": null, \"FWHM\": 2270.0, \"e_FWHM\": 110.0, \"logL\": 41.45, \"e_logL\": 0.08, \"logM\": 6.8, \"E_logM\": null, \"e_logM\": 0.1}, {\"Name\": \"SDSS J020459.25-080816.0\", \"z\": 0.0772, \"sigma*\": 121.0, \"e_sigma*\": 9.4, \"n_sigma*\": \"a\", \"FWHM\": 3720.0, \"e_FWHM\": 180.0, \"logL\": 41.13, \"e_logL\": 0.05, \"logM\": 7.0, \"E_logM\": null, \"e_logM\": 0.1}, {\"Name\": \"SDSS J020615.99-001729.1\", \"z\": 0.0426, \"sigma*\": 216.0, \"e_sigma*\": 30.0, \"n_sigma*\": null, \"FWHM\": 3860.0, \"e_FWHM\": 190.0, \"logL\": 41.91, \"e_logL\": 0.07, \"logM\": 7.5, \"E_logM\": null, \"e_logM\": 0.1}, {\"Name\": \"SDSS J021011.49-090335.5\", \"z\": 0.0414, \"sigma*\": 122.0, \"e_sigma*\": 12.0, \"n_sigma*\": \"a\", \"FWHM\": 2450.0, \"e_FWHM\": 120.0, \"logL\": 41.24, \"e_logL\": 0.07, \"logM\": 6.7, \"E_logM\": null, \"e_logM\": 0.1}, {\"Name\": \"SDSS J021257.59+140610.1\", \"z\": 0.0618, \"sigma*\": 174.0, \"e_sigma*\": 12.0, \"n_sigma*\": \"a\", \"FWHM\": 3080.0, \"e_FWHM\": 150.0, \"logL\": 41.58, \"e_logL\": 0.06, \"logM\": 7.1, \"E_logM\": null, \"e_logM\": 0.1}, {\"Name\": \"SDSS J033013.26-053236.0\", \"z\": 0.0131, \"sigma*\": 99.2, \"e_sigma*\": 11.0, \"n_sigma*\": null, \"FWHM\": 5160.0, \"e_FWHM\": 250.0, \"logL\": 40.45, \"e_logL\": 0.06, \"logM\": 7.0, \"E_logM\": null, \"e_logM\": 0.1}, {\"Name\": \"SDSS J075057.25+353037.5\", \"z\": 0.17600000000000002, \"sigma*\": 154.0, \"e_sigma*\": 14.0, \"n_sigma*\": \"a\", \"FWHM\": 2970.0, \"e_FWHM\": 200.0, \"logL\": 41.63, \"e_logL\": 0.03, \"logM\": 7.2, \"E_logM\": null, \"e_logM\": 0.1}, {\"Name\": \"SDSS J080243.39+310403.3\", \"z\": 0.0409, \"sigma*\": 151.0, \"e_sigma*\": 17.0, \"n_sigma*\": null, \"FWHM\": 5360.0, \"e_FWHM\": 260.0, \"logL\": 41.67, \"e_logL\": 0.07, \"logM\": 7.6, \"E_logM\": null, \"e_logM\": 0.1}, {\"Name\": \"SDSS J080538.66+261005.4\", \"z\": 0.017, \"sigma*\": 100.0, \"e_sigma*\": 14.0, \"n_sigma*\": null, \"FWHM\": 3110.0, \"e_FWHM\": 150.0, \"logL\": 40.14, \"e_logL\": 0.04, \"logM\": 6.3, \"E_logM\": null, \"e_logM\": 0.2}, {\"Name\": \"SDSS J082510.23+375919.7\", \"z\": 0.0214, \"sigma*\": 98.7, \"e_sigma*\": 12.0, \"n_sigma*\": null, \"FWHM\": 1830.0, \"e_FWHM\": 91.0, \"logL\": 40.42, \"e_logL\": 0.04, \"logM\": 6.0, \"E_logM\": null, \"e_logM\": 0.1}, {\"Name\": \"SDSS J083202.16+461425.7\", \"z\": 0.0459, \"sigma*\": 104.0, \"e_sigma*\": 13.0, \"n_sigma*\": null, \"FWHM\": 1450.0, \"e_FWHM\": 72.0, \"logL\": 41.17, \"e_logL\": 0.08, \"logM\": 6.2, \"E_logM\": null, \"e_logM\": 0.1}, {\"Name\": \"SDSS J083949.64+484701.4\", \"z\": 0.0394, \"sigma*\": 133.0, \"e_sigma*\": 12.0, \"n_sigma*\": null, \"FWHM\": 1480.0, \"e_FWHM\": 73.0, \"logL\": 41.31, \"e_logL\": 0.08, \"logM\": 6.3, \"E_logM\": null, \"e_logM\": 0.2}, {\"Name\": \"SDSS J085554.27+005110.9\", \"z\": 0.0524, \"sigma*\": 118.0, \"e_sigma*\": 11.0, \"n_sigma*\": \"a\", \"FWHM\": 2910.0, \"e_FWHM\": 140.0, \"logL\": 41.27, \"e_logL\": 0.06, \"logM\": 6.9, \"E_logM\": null, \"e_logM\": 0.1}, {\"Name\": \"SDSS J092438.88+560746.9\", \"z\": 0.025, \"sigma*\": 135.0, \"e_sigma*\": 10.0, \"n_sigma*\": null, \"FWHM\": 1900.0, \"e_FWHM\": 94.0, \"logL\": 40.72, \"e_logL\": 0.07, \"logM\": 6.2, \"E_logM\": null, \"e_logM\": 0.4}, {\"Name\": \"SDSS J093259.60+040506.0\", \"z\": 0.059000000000000004, \"sigma*\": 70.5, \"e_sigma*\": 6.7, \"n_sigma*\": \"a\", \"FWHM\": 3550.0, \"e_FWHM\": 170.0, \"logL\": 41.14, \"e_logL\": 0.05, \"logM\": 7.0, \"E_logM\": null, \"e_logM\": 0.1}, {\"Name\": \"SDSS J093812.26+074340.0\", \"z\": 0.0219, \"sigma*\": 119.0, \"e_sigma*\": 8.0, \"n_sigma*\": null, \"FWHM\": 3640.0, \"e_FWHM\": 180.0, \"logL\": 40.8, \"e_logL\": 0.05, \"logM\": 6.8, \"E_logM\": null, \"e_logM\": 0.1}, {\"Name\": \"SDSS J094838.42+403043.7\", \"z\": 0.047, \"sigma*\": 91.4, \"e_sigma*\": 16.0, \"n_sigma*\": null, \"FWHM\": 3020.0, \"e_FWHM\": 150.0, \"logL\": 41.46, \"e_logL\": 0.07, \"logM\": 7.0, \"E_logM\": null, \"e_logM\": 0.1}, {\"Name\": \"SDSS J101912.57+635802.7\", \"z\": 0.0414, \"sigma*\": 239.0, \"e_sigma*\": 13.0, \"n_sigma*\": null, \"FWHM\": 3630.0, \"e_FWHM\": 180.0, \"logL\": 41.74, \"e_logL\": 0.08, \"logM\": 7.4, \"E_logM\": null, \"e_logM\": 0.1}, {\"Name\": \"SDSS J102044.43+013048.4\", \"z\": 0.0962, \"sigma*\": 103.0, \"e_sigma*\": 8.8, \"n_sigma*\": \"a\", \"FWHM\": 5200.0, \"e_FWHM\": 250.0, \"logL\": 41.51, \"e_logL\": 0.04, \"logM\": 7.6, \"E_logM\": null, \"e_logM\": 0.1}, {\"Name\": \"SDSS J110640.20+051905.6\", \"z\": 0.0913, \"sigma*\": 140.0, \"e_sigma*\": 15.0, \"n_sigma*\": \"a\", \"FWHM\": 5830.0, \"e_FWHM\": 290.0, \"logL\": 41.65, \"e_logL\": 0.04, \"logM\": 7.7, \"E_logM\": null, \"e_logM\": 0.1}, {\"Name\": \"SDSS J112536.16+542257.1\", \"z\": 0.0206, \"sigma*\": 124.0, \"e_sigma*\": 12.0, \"n_sigma*\": null, \"FWHM\": 2950.0, \"e_FWHM\": 140.0, \"logL\": 41.17, \"e_logL\": 0.08, \"logM\": 6.8, \"E_logM\": null, \"e_logM\": 0.1}, {\"Name\": \"SDSS J112841.00+575006.5\", \"z\": 0.0513, \"sigma*\": 159.0, \"e_sigma*\": 18.0, \"n_sigma*\": \"a\", \"FWHM\": 2660.0, \"e_FWHM\": 130.0, \"logL\": 41.66, \"e_logL\": 0.09, \"logM\": 7.0, \"E_logM\": null, \"e_logM\": 0.1}, {\"Name\": \"SDSS J120257.81+045045.0\", \"z\": 0.0207, \"sigma*\": 102.0, \"e_sigma*\": 20.0, \"n_sigma*\": null, \"FWHM\": 2250.0, \"e_FWHM\": 110.0, \"logL\": 40.1, \"e_logL\": 0.06, \"logM\": 6.0, \"E_logM\": null, \"e_logM\": 0.1}, {\"Name\": \"SDSS J120556.01+495956.1\", \"z\": 0.0631, \"sigma*\": 107.0, \"e_sigma*\": 11.0, \"n_sigma*\": \"a\", \"FWHM\": 5610.0, \"e_FWHM\": 450.0, \"logL\": 41.57, \"e_logL\": 0.04, \"logM\": 7.7, \"E_logM\": null, \"e_logM\": 0.1}, {\"Name\": \"SDSS J121607.09+504930.0\", \"z\": 0.0308, \"sigma*\": 138.0, \"e_sigma*\": 13.0, \"n_sigma*\": null, \"FWHM\": 5580.0, \"e_FWHM\": 270.0, \"logL\": 41.3, \"e_logL\": 0.06, \"logM\": 7.5, \"E_logM\": null, \"e_logM\": 0.3}, {\"Name\": \"SDSS J121754.97+583935.6\", \"z\": 0.0233, \"sigma*\": 85.6, \"e_sigma*\": 14.0, \"n_sigma*\": null, \"FWHM\": 1970.0, \"e_FWHM\": 98.0, \"logL\": 40.92, \"e_logL\": 0.08, \"logM\": 6.4, \"E_logM\": null, \"e_logM\": 0.1}, {\"Name\": \"SDSS J122324.13+024044.4\", \"z\": 0.0236, \"sigma*\": 78.1, \"e_sigma*\": 15.0, \"n_sigma*\": null, \"FWHM\": 3880.0, \"e_FWHM\": 910.0, \"logL\": 41.62, \"e_logL\": 0.08, \"logM\": 7.3, \"E_logM\": null, \"e_logM\": 0.2}, {\"Name\": \"SDSS J123237.48+662452.3\", \"z\": 0.0468, \"sigma*\": 124.0, \"e_sigma*\": 9.0, \"n_sigma*\": null, \"FWHM\": 2620.0, \"e_FWHM\": 130.0, \"logL\": 41.86, \"e_logL\": 0.19, \"logM\": 7.1, \"E_logM\": null, \"e_logM\": 0.2}, {\"Name\": \"SDSS J130620.97+531823.1\", \"z\": 0.0237, \"sigma*\": 90.7, \"e_sigma*\": 11.0, \"n_sigma*\": null, \"FWHM\": 7620.0, \"e_FWHM\": 380.0, \"logL\": 40.58, \"e_logL\": 0.04, \"logM\": 7.3, \"E_logM\": null, \"e_logM\": 0.1}, {\"Name\": \"SDSS J131305.80+012755.9\", \"z\": 0.0294, \"sigma*\": 95.4, \"e_sigma*\": 13.0, \"n_sigma*\": null, \"FWHM\": 1590.0, \"e_FWHM\": 79.0, \"logL\": 40.62, \"e_logL\": 0.07, \"logM\": 6.0, \"E_logM\": null, \"e_logM\": 0.1}, {\"Name\": \"SDSS J132249.21+545528.2\", \"z\": 0.0653, \"sigma*\": 130.0, \"e_sigma*\": 13.0, \"n_sigma*\": \"a\", \"FWHM\": 4050.0, \"e_FWHM\": 200.0, \"logL\": 41.81, \"e_logL\": 0.07, \"logM\": 7.5, \"E_logM\": null, \"e_logM\": 0.1}, {\"Name\": \"SDSS J132340.31-012749.2\", \"z\": 0.0767, \"sigma*\": 114.0, \"e_sigma*\": 16.0, \"n_sigma*\": \"a\", \"FWHM\": 1910.0, \"e_FWHM\": 95.0, \"logL\": 41.55, \"e_logL\": 0.09, \"logM\": 6.7, \"E_logM\": null, \"e_logM\": 0.1}, {\"Name\": \"SDSS J134952.84+020445.1\", \"z\": 0.0328, \"sigma*\": 138.0, \"e_sigma*\": 13.0, \"n_sigma*\": null, \"FWHM\": 2590.0, \"e_FWHM\": 120.0, \"logL\": 41.62, \"e_logL\": 0.07, \"logM\": 7.0, \"E_logM\": null, \"e_logM\": 0.1}, {\"Name\": \"SDSS J140018.42+050242.2\", \"z\": 0.0342, \"sigma*\": 145.0, \"e_sigma*\": 14.0, \"n_sigma*\": null, \"FWHM\": 3340.0, \"e_FWHM\": 160.0, \"logL\": 41.23, \"e_logL\": 0.05, \"logM\": 7.1, \"E_logM\": null, \"e_logM\": 0.5}, {\"Name\": \"SDSS J140514.87-025901.2\", \"z\": 0.0542, \"sigma*\": 148.0, \"e_sigma*\": 15.0, \"n_sigma*\": \"a\", \"FWHM\": 2990.0, \"e_FWHM\": 140.0, \"logL\": 41.29, \"e_logL\": 0.06, \"logM\": 6.9, \"E_logM\": null, \"e_logM\": 0.3}, {\"Name\": \"SDSS J141630.81+013708.0\", \"z\": 0.0538, \"sigma*\": 121.0, \"e_sigma*\": 12.0, \"n_sigma*\": \"a\", \"FWHM\": 3180.0, \"e_FWHM\": 150.0, \"logL\": 41.1, \"e_logL\": 0.04, \"logM\": 6.9, \"E_logM\": null, \"e_logM\": 0.1}, {\"Name\": \"SDSS J143452.45+483942.7\", \"z\": 0.0365, \"sigma*\": 138.0, \"e_sigma*\": 15.0, \"n_sigma*\": null, \"FWHM\": 3210.0, \"e_FWHM\": 160.0, \"logL\": 41.84, \"e_logL\": 0.1, \"logM\": 7.3, \"E_logM\": null, \"e_logM\": 0.1}, {\"Name\": \"SDSS J144629.97+500130.5\", \"z\": 0.0427, \"sigma*\": 86.8, \"e_sigma*\": 19.0, \"n_sigma*\": null, \"FWHM\": 6450.0, \"e_FWHM\": 320.0, \"logL\": 40.73, \"e_logL\": 0.03, \"logM\": 7.3, \"E_logM\": null, \"e_logM\": 0.2}, {\"Name\": \"SDSS J145706.80+494008.4\", \"z\": 0.0134, \"sigma*\": 108.0, \"e_sigma*\": 11.0, \"n_sigma*\": null, \"FWHM\": 2270.0, \"e_FWHM\": 110.0, \"logL\": 40.46, \"e_logL\": 0.1, \"logM\": 6.3, \"E_logM\": null, \"e_logM\": 0.1}, {\"Name\": \"SDSS J145901.35+611353.5\", \"z\": 0.0388, \"sigma*\": 113.0, \"e_sigma*\": 13.0, \"n_sigma*\": null, \"FWHM\": 4140.0, \"e_FWHM\": 200.0, \"logL\": 41.18, \"e_logL\": 0.06, \"logM\": 7.2, \"E_logM\": null, \"e_logM\": 0.1}, {\"Name\": \"SDSS J150556.55+034226.3\", \"z\": 0.0359, \"sigma*\": 199.0, \"e_sigma*\": 18.0, \"n_sigma*\": \"a\", \"FWHM\": 4370.0, \"e_FWHM\": 210.0, \"logL\": 42.09, \"e_logL\": 0.1, \"logM\": 7.7, \"E_logM\": null, \"e_logM\": 0.1}, {\"Name\": \"SDSS J150745.00+512710.2\", \"z\": 0.0458, \"sigma*\": 139.0, \"e_sigma*\": 17.0, \"n_sigma*\": null, \"FWHM\": 3430.0, \"e_FWHM\": 170.0, \"logL\": 41.4, \"e_logL\": 0.04, \"logM\": 7.1, \"E_logM\": null, \"e_logM\": 0.1}, {\"Name\": \"SDSS J150853.95-001148.9\", \"z\": 0.0542, \"sigma*\": 163.0, \"e_sigma*\": 15.0, \"n_sigma*\": \"a\", \"FWHM\": 6190.0, \"e_FWHM\": 610.0, \"logL\": 41.51, \"e_logL\": 0.04, \"logM\": 7.8, \"E_logM\": null, \"e_logM\": 0.1}, {\"Name\": \"SDSS J152515.18+601409.0\", \"z\": 0.0783, \"sigma*\": 104.0, \"e_sigma*\": 11.0, \"n_sigma*\": \"a\", \"FWHM\": 2590.0, \"e_FWHM\": 120.0, \"logL\": 41.41, \"e_logL\": 0.09, \"logM\": 6.9, \"E_logM\": null, \"e_logM\": 0.1}, {\"Name\": \"SDSS J155417.43+323837.8\", \"z\": 0.0483, \"sigma*\": 120.0, \"e_sigma*\": 13.0, \"n_sigma*\": \"a\", \"FWHM\": 4200.0, \"e_FWHM\": 210.0, \"logL\": 41.86, \"e_logL\": 0.08, \"logM\": 7.5, \"E_logM\": null, \"e_logM\": 0.1}, {\"Name\": \"SDSS J161156.31+521116.8\", \"z\": 0.040999999999999995, \"sigma*\": 116.0, \"e_sigma*\": 10.0, \"n_sigma*\": null, \"FWHM\": 3760.0, \"e_FWHM\": 180.0, \"logL\": 41.09, \"e_logL\": 0.04, \"logM\": 7.0, \"E_logM\": null, \"e_logM\": 0.3}, {\"Name\": \"SDSS J161951.31+405847.2\", \"z\": 0.0379, \"sigma*\": 89.1, \"e_sigma*\": 20.0, \"n_sigma*\": null, \"FWHM\": 1700.0, \"e_FWHM\": 85.0, \"logL\": 40.99, \"e_logL\": 0.07, \"logM\": 6.3, \"E_logM\": null, \"e_logM\": 0.1}, {\"Name\": \"SDSS J170328.96+614109.9\", \"z\": 0.0772, \"sigma*\": 123.0, \"e_sigma*\": 13.0, \"n_sigma*\": \"a\", \"FWHM\": 4300.0, \"e_FWHM\": 210.0, \"logL\": 41.92, \"e_logL\": 0.05, \"logM\": 7.6, \"E_logM\": null, \"e_logM\": 0.1}, {\"Name\": \"SDSS J171550.49+593548.7\", \"z\": 0.0657, \"sigma*\": 146.0, \"e_sigma*\": 13.0, \"n_sigma*\": \"a\", \"FWHM\": 3500.0, \"e_FWHM\": 170.0, \"logL\": 41.24, \"e_logL\": 0.05, \"logM\": 7.0, \"E_logM\": null, \"e_logM\": 0.1}, {\"Name\": \"SDSS J212401.90-002158.7\", \"z\": 0.0619, \"sigma*\": 110.0, \"e_sigma*\": 15.0, \"n_sigma*\": \"a\", \"FWHM\": 2620.0, \"e_FWHM\": 130.0, \"logL\": 41.41, \"e_logL\": 0.06, \"logM\": 6.9, \"E_logM\": null, \"e_logM\": 0.1}, {\"Name\": \"SDSS J222435.29-001103.8\", \"z\": 0.0581, \"sigma*\": 111.0, \"e_sigma*\": 19.0, \"n_sigma*\": \"a\", \"FWHM\": 2290.0, \"e_FWHM\": 1190.0, \"logL\": 41.83, \"e_logL\": 0.17, \"logM\": 7.0, \"E_logM\": null, \"e_logM\": 0.4}, {\"Name\": \"SDSS J223000.37-094622.1\", \"z\": 0.0727, \"sigma*\": 112.0, \"e_sigma*\": 13.0, \"n_sigma*\": \"a\", \"FWHM\": 3630.0, \"e_FWHM\": 180.0, \"logL\": 41.21, \"e_logL\": 0.04, \"logM\": 7.1, \"E_logM\": null, \"e_logM\": 0.1}, {\"Name\": \"SDSS J232721.96+152437.3\", \"z\": 0.0457, \"sigma*\": 193.0, \"e_sigma*\": 18.0, \"n_sigma*\": null, \"FWHM\": 7540.0, \"e_FWHM\": 750.0, \"logL\": 41.65, \"e_logL\": 0.06, \"logM\": 7.9, \"E_logM\": null, \"e_logM\": 0.1}, {\"Name\": \"SDSS J235128.78+155259.0\", \"z\": 0.0963, \"sigma*\": 193.0, \"e_sigma*\": 22.0, \"n_sigma*\": \"a\", \"FWHM\": 8240.0, \"e_FWHM\": 410.0, \"logL\": 41.87, \"e_logL\": 0.04, \"logM\": 8.2, \"E_logM\": null, \"e_logM\": 0.2}, {\"Name\": \"SDSS J010712.03+140844.9\", \"z\": 0.0768, \"sigma*\": 36.0, \"e_sigma*\": 6.0, \"n_sigma*\": \"b\", \"FWHM\": 880.0, \"e_FWHM\": 170.0, \"logL\": 42.57, \"e_logL\": 0.2, \"logM\": 5.8, \"E_logM\": null, \"e_logM\": 0.2}, {\"Name\": \"SDSS J024912.86-081525.6\", \"z\": 0.0294, \"sigma*\": 50.0, \"e_sigma*\": 4.0, \"n_sigma*\": \"b\", \"FWHM\": 840.0, \"e_FWHM\": 320.0, \"logL\": 41.93, \"e_logL\": 0.08, \"logM\": 5.1, \"E_logM\": null, \"e_logM\": 0.3}, {\"Name\": \"SDSS J032515.59+003408.4\", \"z\": 0.102, \"sigma*\": 55.0, \"e_sigma*\": 6.0, \"n_sigma*\": \"b\", \"FWHM\": 990.0, \"e_FWHM\": 49.0, \"logL\": 42.03, \"e_logL\": 0.12, \"logM\": 5.8, \"E_logM\": null, \"e_logM\": 0.1}, {\"Name\": \"SDSS J080907.58+441641.4\", \"z\": 0.0539, \"sigma*\": 65.0, \"e_sigma*\": 4.0, \"n_sigma*\": \"b\", \"FWHM\": 940.0, \"e_FWHM\": 180.0, \"logL\": 40.47, \"e_logL\": 0.04, \"logM\": 5.5, \"E_logM\": null, \"e_logM\": 0.8}, {\"Name\": \"SDSS J082912.67+500652.3\", \"z\": 0.0434, \"sigma*\": 60.0, \"e_sigma*\": 4.0, \"n_sigma*\": \"b\", \"FWHM\": 840.0, \"e_FWHM\": 41.0, \"logL\": 42.14, \"e_logL\": 0.06, \"logM\": 5.7, \"E_logM\": null, \"e_logM\": 0.1}, {\"Name\": \"SDSS J101108.40+002908.7\", \"z\": 0.1, \"sigma*\": 48.0, \"e_sigma*\": 7.0, \"n_sigma*\": \"b\", \"FWHM\": 1460.0, \"e_FWHM\": 72.0, \"logL\": 42.68, \"e_logL\": 0.19, \"logM\": 6.2, \"E_logM\": null, \"e_logM\": 0.3}, {\"Name\": \"SDSS J101627.32-000714.5\", \"z\": 0.0944, \"sigma*\": 39.0, \"e_sigma*\": 6.0, \"n_sigma*\": \"b\", \"FWHM\": 1520.0, \"e_FWHM\": 75.0, \"logL\": 42.57, \"e_logL\": 0.17, \"logM\": 6.1, \"E_logM\": null, \"e_logM\": 0.2}, {\"Name\": \"SDSS J124035.81-002919.4\", \"z\": 0.0809, \"sigma*\": 49.0, \"e_sigma*\": 7.0, \"n_sigma*\": \"b\", \"FWHM\": 1720.0, \"e_FWHM\": 85.0, \"logL\": 42.35, \"e_logL\": 0.11, \"logM\": 6.6, \"E_logM\": null, \"e_logM\": 0.6}, {\"Name\": \"SDSS J125055.28-015556.6\", \"z\": 0.0814, \"sigma*\": 64.0, \"e_sigma*\": 6.0, \"n_sigma*\": \"b\", \"FWHM\": 1980.0, \"e_FWHM\": 99.0, \"logL\": 42.75, \"e_logL\": 0.14, \"logM\": 6.5, \"E_logM\": null, \"e_logM\": 0.1}, {\"Name\": \"SDSS J143450.62+033842.5\", \"z\": 0.0282, \"sigma*\": 48.0, \"e_sigma*\": 7.0, \"n_sigma*\": \"b\", \"FWHM\": 1480.0, \"e_FWHM\": 73.0, \"logL\": 41.87, \"e_logL\": 0.16, \"logM\": 5.6, \"E_logM\": null, \"e_logM\": 0.1}, {\"Name\": \"SDSS J170246.09+602818.9\", \"z\": 0.0689, \"sigma*\": 69.0, \"e_sigma*\": 6.0, \"n_sigma*\": \"b\", \"FWHM\": 3270.0, \"e_FWHM\": 160.0, \"logL\": 42.67, \"e_logL\": 0.16, \"logM\": 6.9, \"E_logM\": null, \"e_logM\": 0.2}, {\"Name\": \"SDSS J172759.15+542147.0\", \"z\": 0.0995, \"sigma*\": 58.0, \"e_sigma*\": 7.0, \"n_sigma*\": \"b\", \"FWHM\": 810.0, \"e_FWHM\": 400.0, \"logL\": 42.19, \"e_logL\": 0.09, \"logM\": 5.6, \"E_logM\": null, \"e_logM\": 0.5}, {\"Name\": \"SDSS J215658.30+110343.1\", \"z\": 0.10800000000000001, \"sigma*\": 81.0, \"e_sigma*\": 8.0, \"n_sigma*\": \"b\", \"FWHM\": 1430.0, \"e_FWHM\": 280.0, \"logL\": 41.22, \"e_logL\": 0.03, \"logM\": 6.3, \"E_logM\": null, \"e_logM\": 0.8}, {\"Name\": \"SDSS J232159.06+000738.8\", \"z\": 0.184, \"sigma*\": 81.0, \"e_sigma*\": 9.0, \"n_sigma*\": \"b\", \"FWHM\": 2520.0, \"e_FWHM\": 120.0, \"logL\": 42.96, \"e_logL\": 0.1, \"logM\": 6.7, \"E_logM\": null, \"e_logM\": 0.2}, {\"Name\": \"SDSS J233837.10-002810.3\", \"z\": 0.0356, \"sigma*\": 58.0, \"e_sigma*\": 4.0, \"n_sigma*\": \"b\", \"FWHM\": 1740.0, \"e_FWHM\": 86.0, \"logL\": 43.61, \"e_logL\": 0.13, \"logM\": 5.8, \"E_logM\": null, \"e_logM\": 0.1}, {\"Name\": \"3C 120\", \"z\": 0.033, \"sigma*\": 162.0, \"e_sigma*\": 24.0, \"n_sigma*\": \"b\", \"FWHM\": null, \"e_FWHM\": null, \"logL\": null, \"e_logL\": null, \"logM\": 7.43, \"E_logM\": 0.2, \"e_logM\": 0.25}, {\"Name\": \"3C 390.3\", \"z\": 0.0561, \"sigma*\": 268.0, \"e_sigma*\": 15.0, \"n_sigma*\": null, \"FWHM\": null, \"e_FWHM\": null, \"logL\": null, \"e_logL\": null, \"logM\": 8.52, \"E_logM\": 0.09, \"e_logM\": 0.12}, {\"Name\": \"Akn 120\", \"z\": 0.0323, \"sigma*\": 224.0, \"e_sigma*\": 15.0, \"n_sigma*\": null, \"FWHM\": null, \"e_FWHM\": null, \"logL\": null, \"e_logL\": null, \"logM\": 8.2, \"E_logM\": 0.05, \"e_logM\": 0.07}, {\"Name\": \"Mrk 79\", \"z\": 0.0222, \"sigma*\": 130.0, \"e_sigma*\": 10.0, \"n_sigma*\": null, \"FWHM\": null, \"e_FWHM\": null, \"logL\": null, \"e_logL\": null, \"logM\": 7.67, \"E_logM\": 0.11, \"e_logM\": 0.15}, {\"Name\": \"Mrk 110\", \"z\": 0.0353, \"sigma*\": 87.1, \"e_sigma*\": 12.0, \"n_sigma*\": null, \"FWHM\": null, \"e_FWHM\": null, \"logL\": null, \"e_logL\": null, \"logM\": 6.97, \"E_logM\": 0.11, \"e_logM\": 0.15}, {\"Name\": \"Mrk 279\", \"z\": 0.0305, \"sigma*\": 197.0, \"e_sigma*\": 12.0, \"n_sigma*\": null, \"FWHM\": null, \"e_FWHM\": null, \"logL\": null, \"e_logL\": null, \"logM\": 7.45, \"E_logM\": 0.12, \"e_logM\": 0.16}, {\"Name\": \"Mrk 590\", \"z\": 0.0264, \"sigma*\": 189.0, \"e_sigma*\": 5.7, \"n_sigma*\": null, \"FWHM\": null, \"e_FWHM\": null, \"logL\": null, \"e_logL\": null, \"logM\": 7.2, \"E_logM\": 0.11, \"e_logM\": 0.15}, {\"Name\": \"Mrk 817\", \"z\": 0.0315, \"sigma*\": 127.0, \"e_sigma*\": 12.0, \"n_sigma*\": null, \"FWHM\": null, \"e_FWHM\": null, \"logL\": null, \"e_logL\": null, \"logM\": 7.62, \"E_logM\": 0.08, \"e_logM\": 0.1}, {\"Name\": \"NGC 3227\", \"z\": 0.00386, \"sigma*\": 135.0, \"e_sigma*\": 3.8, \"n_sigma*\": null, \"FWHM\": null, \"e_FWHM\": null, \"logL\": null, \"e_logL\": null, \"logM\": 7.47, \"E_logM\": 0.24, \"e_logM\": 1.06}, {\"Name\": \"NGC 3516\", \"z\": 0.00884, \"sigma*\": 181.0, \"e_sigma*\": 4.9, \"n_sigma*\": \"b\", \"FWHM\": null, \"e_FWHM\": null, \"logL\": null, \"e_logL\": null, \"logM\": 7.04, \"E_logM\": 0.31, \"e_logM\": 0.39}, {\"Name\": \"NGC 3783\", \"z\": 0.009729999999999999, \"sigma*\": 95.0, \"e_sigma*\": 10.0, \"n_sigma*\": null, \"FWHM\": null, \"e_FWHM\": null, \"logL\": null, \"e_logL\": null, \"logM\": 7.16, \"E_logM\": 0.17, \"e_logM\": 0.23}, {\"Name\": \"NGC 4051\", \"z\": 0.00234, \"sigma*\": 88.9, \"e_sigma*\": 2.9, \"n_sigma*\": null, \"FWHM\": null, \"e_FWHM\": null, \"logL\": null, \"e_logL\": null, \"logM\": 5.99, \"E_logM\": 0.17, \"e_logM\": 0.2}, {\"Name\": \"NGC 4151\", \"z\": 0.0033200000000000005, \"sigma*\": 96.8, \"e_sigma*\": 2.9, \"n_sigma*\": null, \"FWHM\": null, \"e_FWHM\": null, \"logL\": null, \"e_logL\": null, \"logM\": 6.91, \"E_logM\": 0.17, \"e_logM\": 0.29}, {\"Name\": \"NGC 5548\", \"z\": 0.0172, \"sigma*\": 198.0, \"e_sigma*\": 11.0, \"n_sigma*\": null, \"FWHM\": null, \"e_FWHM\": null, \"logL\": null, \"e_logL\": null, \"logM\": 7.81, \"E_logM\": 0.02, \"e_logM\": 0.02}, {\"Name\": \"NGC 7469\", \"z\": 0.0163, \"sigma*\": 133.0, \"e_sigma*\": 4.8, \"n_sigma*\": null, \"FWHM\": null, \"e_FWHM\": null, \"logL\": null, \"e_logL\": null, \"logM\": 6.49, \"E_logM\": 0.16, \"e_logM\": 0.27}, {\"Name\": \"POX 52\", \"z\": 0.0218, \"sigma*\": 36.0, \"e_sigma*\": 5.0, \"n_sigma*\": null, \"FWHM\": null, \"e_FWHM\": null, \"logL\": null, \"e_logL\": null, \"logM\": 5.2, \"E_logM\": null, \"e_logM\": 0.3}, {\"Name\": \"NGC 4395\", \"z\": 0.000947, \"sigma*\": 30.0, \"e_sigma*\": 5.0, \"n_sigma*\": null, \"FWHM\": null, \"e_FWHM\": null, \"logL\": null, \"e_logL\": null, \"logM\": 4.9, \"E_logM\": null, \"e_logM\": 0.4}]}}, {\"mode\": \"vega-lite\"});\n",
       "</script>"
      ],
      "text/plain": [
       "alt.Chart(...)"
      ]
     },
     "execution_count": 21,
     "metadata": {
      "tags": []
     },
     "output_type": "execute_result"
    }
   ],
   "source": [
    "alt.Chart(df).mark_point(filled=True).encode(\n",
    "    alt.X('sigma*', scale=alt.Scale(type='log', base=10)),\n",
    "    alt.Y('logM'),\n",
    "    color = 'z'\n",
    ")"
   ]
  },
  {
   "cell_type": "markdown",
   "metadata": {
    "id": "WboUhS5aQkVt"
   },
   "source": [
    "First add the `tooltip` property to show the Name tag when the cursor is over any point."
   ]
  },
  {
   "cell_type": "code",
   "execution_count": null,
   "metadata": {
    "colab": {
     "base_uri": "https://localhost:8080/",
     "height": 368
    },
    "executionInfo": {
     "elapsed": 738,
     "status": "ok",
     "timestamp": 1609124094858,
     "user": {
      "displayName": "Eduard Alexis Larranaga",
      "photoUrl": "https://lh3.googleusercontent.com/a-/AOh14GgCVABzEgj-rCdyxWa29RnA0kIYUCXAaVbnRYOEhQ=s64",
      "userId": "04402438389940282602"
     },
     "user_tz": 300
    },
    "id": "Hmcrp2qAQkVt",
    "outputId": "7a2da313-5725-4f53-baf8-c610393f9db8"
   },
   "outputs": [
    {
     "data": {
      "text/html": [
       "\n",
       "<div id=\"altair-viz-56fe64e3580947a0955ea20a94f44373\"></div>\n",
       "<script type=\"text/javascript\">\n",
       "  (function(spec, embedOpt){\n",
       "    let outputDiv = document.currentScript.previousElementSibling;\n",
       "    if (outputDiv.id !== \"altair-viz-56fe64e3580947a0955ea20a94f44373\") {\n",
       "      outputDiv = document.getElementById(\"altair-viz-56fe64e3580947a0955ea20a94f44373\");\n",
       "    }\n",
       "    const paths = {\n",
       "      \"vega\": \"https://cdn.jsdelivr.net/npm//vega@5?noext\",\n",
       "      \"vega-lib\": \"https://cdn.jsdelivr.net/npm//vega-lib?noext\",\n",
       "      \"vega-lite\": \"https://cdn.jsdelivr.net/npm//vega-lite@4.8.1?noext\",\n",
       "      \"vega-embed\": \"https://cdn.jsdelivr.net/npm//vega-embed@6?noext\",\n",
       "    };\n",
       "\n",
       "    function loadScript(lib) {\n",
       "      return new Promise(function(resolve, reject) {\n",
       "        var s = document.createElement('script');\n",
       "        s.src = paths[lib];\n",
       "        s.async = true;\n",
       "        s.onload = () => resolve(paths[lib]);\n",
       "        s.onerror = () => reject(`Error loading script: ${paths[lib]}`);\n",
       "        document.getElementsByTagName(\"head\")[0].appendChild(s);\n",
       "      });\n",
       "    }\n",
       "\n",
       "    function showError(err) {\n",
       "      outputDiv.innerHTML = `<div class=\"error\" style=\"color:red;\">${err}</div>`;\n",
       "      throw err;\n",
       "    }\n",
       "\n",
       "    function displayChart(vegaEmbed) {\n",
       "      vegaEmbed(outputDiv, spec, embedOpt)\n",
       "        .catch(err => showError(`Javascript Error: ${err.message}<br>This usually means there's a typo in your chart specification. See the javascript console for the full traceback.`));\n",
       "    }\n",
       "\n",
       "    if(typeof define === \"function\" && define.amd) {\n",
       "      requirejs.config({paths});\n",
       "      require([\"vega-embed\"], displayChart, err => showError(`Error loading script: ${err.message}`));\n",
       "    } else if (typeof vegaEmbed === \"function\") {\n",
       "      displayChart(vegaEmbed);\n",
       "    } else {\n",
       "      loadScript(\"vega\")\n",
       "        .then(() => loadScript(\"vega-lite\"))\n",
       "        .then(() => loadScript(\"vega-embed\"))\n",
       "        .catch(showError)\n",
       "        .then(() => displayChart(vegaEmbed));\n",
       "    }\n",
       "  })({\"config\": {\"view\": {\"continuousWidth\": 400, \"continuousHeight\": 300}}, \"data\": {\"name\": \"data-54b58a4aa74e295879badff738f3e9c4\"}, \"mark\": {\"type\": \"point\", \"filled\": true}, \"encoding\": {\"color\": {\"type\": \"quantitative\", \"field\": \"z\"}, \"tooltip\": {\"type\": \"nominal\", \"field\": \"Name\"}, \"x\": {\"type\": \"quantitative\", \"field\": \"sigma*\", \"scale\": {\"base\": 10, \"type\": \"log\"}}, \"y\": {\"type\": \"quantitative\", \"field\": \"logM\"}}, \"$schema\": \"https://vega.github.io/schema/vega-lite/v4.8.1.json\", \"datasets\": {\"data-54b58a4aa74e295879badff738f3e9c4\": [{\"Name\": \"SDSS J000805.62+145023.4\", \"z\": 0.0454, \"sigma*\": 140.0, \"e_sigma*\": 27.0, \"n_sigma*\": null, \"FWHM\": 7610.0, \"e_FWHM\": 380.0, \"logL\": 41.13, \"e_logL\": 0.04, \"logM\": 7.7, \"E_logM\": null, \"e_logM\": 0.1}, {\"Name\": \"SDSS J004236.86-104921.8\", \"z\": 0.0419, \"sigma*\": 78.4, \"e_sigma*\": 10.0, \"n_sigma*\": null, \"FWHM\": 1960.0, \"e_FWHM\": 97.0, \"logL\": 41.58, \"e_logL\": 0.14, \"logM\": 6.7, \"E_logM\": null, \"e_logM\": 0.1}, {\"Name\": \"SDSS J011703.58+000027.3\", \"z\": 0.0456, \"sigma*\": 98.8, \"e_sigma*\": 16.0, \"n_sigma*\": null, \"FWHM\": 2270.0, \"e_FWHM\": 110.0, \"logL\": 41.45, \"e_logL\": 0.08, \"logM\": 6.8, \"E_logM\": null, \"e_logM\": 0.1}, {\"Name\": \"SDSS J020459.25-080816.0\", \"z\": 0.0772, \"sigma*\": 121.0, \"e_sigma*\": 9.4, \"n_sigma*\": \"a\", \"FWHM\": 3720.0, \"e_FWHM\": 180.0, \"logL\": 41.13, \"e_logL\": 0.05, \"logM\": 7.0, \"E_logM\": null, \"e_logM\": 0.1}, {\"Name\": \"SDSS J020615.99-001729.1\", \"z\": 0.0426, \"sigma*\": 216.0, \"e_sigma*\": 30.0, \"n_sigma*\": null, \"FWHM\": 3860.0, \"e_FWHM\": 190.0, \"logL\": 41.91, \"e_logL\": 0.07, \"logM\": 7.5, \"E_logM\": null, \"e_logM\": 0.1}, {\"Name\": \"SDSS J021011.49-090335.5\", \"z\": 0.0414, \"sigma*\": 122.0, \"e_sigma*\": 12.0, \"n_sigma*\": \"a\", \"FWHM\": 2450.0, \"e_FWHM\": 120.0, \"logL\": 41.24, \"e_logL\": 0.07, \"logM\": 6.7, \"E_logM\": null, \"e_logM\": 0.1}, {\"Name\": \"SDSS J021257.59+140610.1\", \"z\": 0.0618, \"sigma*\": 174.0, \"e_sigma*\": 12.0, \"n_sigma*\": \"a\", \"FWHM\": 3080.0, \"e_FWHM\": 150.0, \"logL\": 41.58, \"e_logL\": 0.06, \"logM\": 7.1, \"E_logM\": null, \"e_logM\": 0.1}, {\"Name\": \"SDSS J033013.26-053236.0\", \"z\": 0.0131, \"sigma*\": 99.2, \"e_sigma*\": 11.0, \"n_sigma*\": null, \"FWHM\": 5160.0, \"e_FWHM\": 250.0, \"logL\": 40.45, \"e_logL\": 0.06, \"logM\": 7.0, \"E_logM\": null, \"e_logM\": 0.1}, {\"Name\": \"SDSS J075057.25+353037.5\", \"z\": 0.17600000000000002, \"sigma*\": 154.0, \"e_sigma*\": 14.0, \"n_sigma*\": \"a\", \"FWHM\": 2970.0, \"e_FWHM\": 200.0, \"logL\": 41.63, \"e_logL\": 0.03, \"logM\": 7.2, \"E_logM\": null, \"e_logM\": 0.1}, {\"Name\": \"SDSS J080243.39+310403.3\", \"z\": 0.0409, \"sigma*\": 151.0, \"e_sigma*\": 17.0, \"n_sigma*\": null, \"FWHM\": 5360.0, \"e_FWHM\": 260.0, \"logL\": 41.67, \"e_logL\": 0.07, \"logM\": 7.6, \"E_logM\": null, \"e_logM\": 0.1}, {\"Name\": \"SDSS J080538.66+261005.4\", \"z\": 0.017, \"sigma*\": 100.0, \"e_sigma*\": 14.0, \"n_sigma*\": null, \"FWHM\": 3110.0, \"e_FWHM\": 150.0, \"logL\": 40.14, \"e_logL\": 0.04, \"logM\": 6.3, \"E_logM\": null, \"e_logM\": 0.2}, {\"Name\": \"SDSS J082510.23+375919.7\", \"z\": 0.0214, \"sigma*\": 98.7, \"e_sigma*\": 12.0, \"n_sigma*\": null, \"FWHM\": 1830.0, \"e_FWHM\": 91.0, \"logL\": 40.42, \"e_logL\": 0.04, \"logM\": 6.0, \"E_logM\": null, \"e_logM\": 0.1}, {\"Name\": \"SDSS J083202.16+461425.7\", \"z\": 0.0459, \"sigma*\": 104.0, \"e_sigma*\": 13.0, \"n_sigma*\": null, \"FWHM\": 1450.0, \"e_FWHM\": 72.0, \"logL\": 41.17, \"e_logL\": 0.08, \"logM\": 6.2, \"E_logM\": null, \"e_logM\": 0.1}, {\"Name\": \"SDSS J083949.64+484701.4\", \"z\": 0.0394, \"sigma*\": 133.0, \"e_sigma*\": 12.0, \"n_sigma*\": null, \"FWHM\": 1480.0, \"e_FWHM\": 73.0, \"logL\": 41.31, \"e_logL\": 0.08, \"logM\": 6.3, \"E_logM\": null, \"e_logM\": 0.2}, {\"Name\": \"SDSS J085554.27+005110.9\", \"z\": 0.0524, \"sigma*\": 118.0, \"e_sigma*\": 11.0, \"n_sigma*\": \"a\", \"FWHM\": 2910.0, \"e_FWHM\": 140.0, \"logL\": 41.27, \"e_logL\": 0.06, \"logM\": 6.9, \"E_logM\": null, \"e_logM\": 0.1}, {\"Name\": \"SDSS J092438.88+560746.9\", \"z\": 0.025, \"sigma*\": 135.0, \"e_sigma*\": 10.0, \"n_sigma*\": null, \"FWHM\": 1900.0, \"e_FWHM\": 94.0, \"logL\": 40.72, \"e_logL\": 0.07, \"logM\": 6.2, \"E_logM\": null, \"e_logM\": 0.4}, {\"Name\": \"SDSS J093259.60+040506.0\", \"z\": 0.059000000000000004, \"sigma*\": 70.5, \"e_sigma*\": 6.7, \"n_sigma*\": \"a\", \"FWHM\": 3550.0, \"e_FWHM\": 170.0, \"logL\": 41.14, \"e_logL\": 0.05, \"logM\": 7.0, \"E_logM\": null, \"e_logM\": 0.1}, {\"Name\": \"SDSS J093812.26+074340.0\", \"z\": 0.0219, \"sigma*\": 119.0, \"e_sigma*\": 8.0, \"n_sigma*\": null, \"FWHM\": 3640.0, \"e_FWHM\": 180.0, \"logL\": 40.8, \"e_logL\": 0.05, \"logM\": 6.8, \"E_logM\": null, \"e_logM\": 0.1}, {\"Name\": \"SDSS J094838.42+403043.7\", \"z\": 0.047, \"sigma*\": 91.4, \"e_sigma*\": 16.0, \"n_sigma*\": null, \"FWHM\": 3020.0, \"e_FWHM\": 150.0, \"logL\": 41.46, \"e_logL\": 0.07, \"logM\": 7.0, \"E_logM\": null, \"e_logM\": 0.1}, {\"Name\": \"SDSS J101912.57+635802.7\", \"z\": 0.0414, \"sigma*\": 239.0, \"e_sigma*\": 13.0, \"n_sigma*\": null, \"FWHM\": 3630.0, \"e_FWHM\": 180.0, \"logL\": 41.74, \"e_logL\": 0.08, \"logM\": 7.4, \"E_logM\": null, \"e_logM\": 0.1}, {\"Name\": \"SDSS J102044.43+013048.4\", \"z\": 0.0962, \"sigma*\": 103.0, \"e_sigma*\": 8.8, \"n_sigma*\": \"a\", \"FWHM\": 5200.0, \"e_FWHM\": 250.0, \"logL\": 41.51, \"e_logL\": 0.04, \"logM\": 7.6, \"E_logM\": null, \"e_logM\": 0.1}, {\"Name\": \"SDSS J110640.20+051905.6\", \"z\": 0.0913, \"sigma*\": 140.0, \"e_sigma*\": 15.0, \"n_sigma*\": \"a\", \"FWHM\": 5830.0, \"e_FWHM\": 290.0, \"logL\": 41.65, \"e_logL\": 0.04, \"logM\": 7.7, \"E_logM\": null, \"e_logM\": 0.1}, {\"Name\": \"SDSS J112536.16+542257.1\", \"z\": 0.0206, \"sigma*\": 124.0, \"e_sigma*\": 12.0, \"n_sigma*\": null, \"FWHM\": 2950.0, \"e_FWHM\": 140.0, \"logL\": 41.17, \"e_logL\": 0.08, \"logM\": 6.8, \"E_logM\": null, \"e_logM\": 0.1}, {\"Name\": \"SDSS J112841.00+575006.5\", \"z\": 0.0513, \"sigma*\": 159.0, \"e_sigma*\": 18.0, \"n_sigma*\": \"a\", \"FWHM\": 2660.0, \"e_FWHM\": 130.0, \"logL\": 41.66, \"e_logL\": 0.09, \"logM\": 7.0, \"E_logM\": null, \"e_logM\": 0.1}, {\"Name\": \"SDSS J120257.81+045045.0\", \"z\": 0.0207, \"sigma*\": 102.0, \"e_sigma*\": 20.0, \"n_sigma*\": null, \"FWHM\": 2250.0, \"e_FWHM\": 110.0, \"logL\": 40.1, \"e_logL\": 0.06, \"logM\": 6.0, \"E_logM\": null, \"e_logM\": 0.1}, {\"Name\": \"SDSS J120556.01+495956.1\", \"z\": 0.0631, \"sigma*\": 107.0, \"e_sigma*\": 11.0, \"n_sigma*\": \"a\", \"FWHM\": 5610.0, \"e_FWHM\": 450.0, \"logL\": 41.57, \"e_logL\": 0.04, \"logM\": 7.7, \"E_logM\": null, \"e_logM\": 0.1}, {\"Name\": \"SDSS J121607.09+504930.0\", \"z\": 0.0308, \"sigma*\": 138.0, \"e_sigma*\": 13.0, \"n_sigma*\": null, \"FWHM\": 5580.0, \"e_FWHM\": 270.0, \"logL\": 41.3, \"e_logL\": 0.06, \"logM\": 7.5, \"E_logM\": null, \"e_logM\": 0.3}, {\"Name\": \"SDSS J121754.97+583935.6\", \"z\": 0.0233, \"sigma*\": 85.6, \"e_sigma*\": 14.0, \"n_sigma*\": null, \"FWHM\": 1970.0, \"e_FWHM\": 98.0, \"logL\": 40.92, \"e_logL\": 0.08, \"logM\": 6.4, \"E_logM\": null, \"e_logM\": 0.1}, {\"Name\": \"SDSS J122324.13+024044.4\", \"z\": 0.0236, \"sigma*\": 78.1, \"e_sigma*\": 15.0, \"n_sigma*\": null, \"FWHM\": 3880.0, \"e_FWHM\": 910.0, \"logL\": 41.62, \"e_logL\": 0.08, \"logM\": 7.3, \"E_logM\": null, \"e_logM\": 0.2}, {\"Name\": \"SDSS J123237.48+662452.3\", \"z\": 0.0468, \"sigma*\": 124.0, \"e_sigma*\": 9.0, \"n_sigma*\": null, \"FWHM\": 2620.0, \"e_FWHM\": 130.0, \"logL\": 41.86, \"e_logL\": 0.19, \"logM\": 7.1, \"E_logM\": null, \"e_logM\": 0.2}, {\"Name\": \"SDSS J130620.97+531823.1\", \"z\": 0.0237, \"sigma*\": 90.7, \"e_sigma*\": 11.0, \"n_sigma*\": null, \"FWHM\": 7620.0, \"e_FWHM\": 380.0, \"logL\": 40.58, \"e_logL\": 0.04, \"logM\": 7.3, \"E_logM\": null, \"e_logM\": 0.1}, {\"Name\": \"SDSS J131305.80+012755.9\", \"z\": 0.0294, \"sigma*\": 95.4, \"e_sigma*\": 13.0, \"n_sigma*\": null, \"FWHM\": 1590.0, \"e_FWHM\": 79.0, \"logL\": 40.62, \"e_logL\": 0.07, \"logM\": 6.0, \"E_logM\": null, \"e_logM\": 0.1}, {\"Name\": \"SDSS J132249.21+545528.2\", \"z\": 0.0653, \"sigma*\": 130.0, \"e_sigma*\": 13.0, \"n_sigma*\": \"a\", \"FWHM\": 4050.0, \"e_FWHM\": 200.0, \"logL\": 41.81, \"e_logL\": 0.07, \"logM\": 7.5, \"E_logM\": null, \"e_logM\": 0.1}, {\"Name\": \"SDSS J132340.31-012749.2\", \"z\": 0.0767, \"sigma*\": 114.0, \"e_sigma*\": 16.0, \"n_sigma*\": \"a\", \"FWHM\": 1910.0, \"e_FWHM\": 95.0, \"logL\": 41.55, \"e_logL\": 0.09, \"logM\": 6.7, \"E_logM\": null, \"e_logM\": 0.1}, {\"Name\": \"SDSS J134952.84+020445.1\", \"z\": 0.0328, \"sigma*\": 138.0, \"e_sigma*\": 13.0, \"n_sigma*\": null, \"FWHM\": 2590.0, \"e_FWHM\": 120.0, \"logL\": 41.62, \"e_logL\": 0.07, \"logM\": 7.0, \"E_logM\": null, \"e_logM\": 0.1}, {\"Name\": \"SDSS J140018.42+050242.2\", \"z\": 0.0342, \"sigma*\": 145.0, \"e_sigma*\": 14.0, \"n_sigma*\": null, \"FWHM\": 3340.0, \"e_FWHM\": 160.0, \"logL\": 41.23, \"e_logL\": 0.05, \"logM\": 7.1, \"E_logM\": null, \"e_logM\": 0.5}, {\"Name\": \"SDSS J140514.87-025901.2\", \"z\": 0.0542, \"sigma*\": 148.0, \"e_sigma*\": 15.0, \"n_sigma*\": \"a\", \"FWHM\": 2990.0, \"e_FWHM\": 140.0, \"logL\": 41.29, \"e_logL\": 0.06, \"logM\": 6.9, \"E_logM\": null, \"e_logM\": 0.3}, {\"Name\": \"SDSS J141630.81+013708.0\", \"z\": 0.0538, \"sigma*\": 121.0, \"e_sigma*\": 12.0, \"n_sigma*\": \"a\", \"FWHM\": 3180.0, \"e_FWHM\": 150.0, \"logL\": 41.1, \"e_logL\": 0.04, \"logM\": 6.9, \"E_logM\": null, \"e_logM\": 0.1}, {\"Name\": \"SDSS J143452.45+483942.7\", \"z\": 0.0365, \"sigma*\": 138.0, \"e_sigma*\": 15.0, \"n_sigma*\": null, \"FWHM\": 3210.0, \"e_FWHM\": 160.0, \"logL\": 41.84, \"e_logL\": 0.1, \"logM\": 7.3, \"E_logM\": null, \"e_logM\": 0.1}, {\"Name\": \"SDSS J144629.97+500130.5\", \"z\": 0.0427, \"sigma*\": 86.8, \"e_sigma*\": 19.0, \"n_sigma*\": null, \"FWHM\": 6450.0, \"e_FWHM\": 320.0, \"logL\": 40.73, \"e_logL\": 0.03, \"logM\": 7.3, \"E_logM\": null, \"e_logM\": 0.2}, {\"Name\": \"SDSS J145706.80+494008.4\", \"z\": 0.0134, \"sigma*\": 108.0, \"e_sigma*\": 11.0, \"n_sigma*\": null, \"FWHM\": 2270.0, \"e_FWHM\": 110.0, \"logL\": 40.46, \"e_logL\": 0.1, \"logM\": 6.3, \"E_logM\": null, \"e_logM\": 0.1}, {\"Name\": \"SDSS J145901.35+611353.5\", \"z\": 0.0388, \"sigma*\": 113.0, \"e_sigma*\": 13.0, \"n_sigma*\": null, \"FWHM\": 4140.0, \"e_FWHM\": 200.0, \"logL\": 41.18, \"e_logL\": 0.06, \"logM\": 7.2, \"E_logM\": null, \"e_logM\": 0.1}, {\"Name\": \"SDSS J150556.55+034226.3\", \"z\": 0.0359, \"sigma*\": 199.0, \"e_sigma*\": 18.0, \"n_sigma*\": \"a\", \"FWHM\": 4370.0, \"e_FWHM\": 210.0, \"logL\": 42.09, \"e_logL\": 0.1, \"logM\": 7.7, \"E_logM\": null, \"e_logM\": 0.1}, {\"Name\": \"SDSS J150745.00+512710.2\", \"z\": 0.0458, \"sigma*\": 139.0, \"e_sigma*\": 17.0, \"n_sigma*\": null, \"FWHM\": 3430.0, \"e_FWHM\": 170.0, \"logL\": 41.4, \"e_logL\": 0.04, \"logM\": 7.1, \"E_logM\": null, \"e_logM\": 0.1}, {\"Name\": \"SDSS J150853.95-001148.9\", \"z\": 0.0542, \"sigma*\": 163.0, \"e_sigma*\": 15.0, \"n_sigma*\": \"a\", \"FWHM\": 6190.0, \"e_FWHM\": 610.0, \"logL\": 41.51, \"e_logL\": 0.04, \"logM\": 7.8, \"E_logM\": null, \"e_logM\": 0.1}, {\"Name\": \"SDSS J152515.18+601409.0\", \"z\": 0.0783, \"sigma*\": 104.0, \"e_sigma*\": 11.0, \"n_sigma*\": \"a\", \"FWHM\": 2590.0, \"e_FWHM\": 120.0, \"logL\": 41.41, \"e_logL\": 0.09, \"logM\": 6.9, \"E_logM\": null, \"e_logM\": 0.1}, {\"Name\": \"SDSS J155417.43+323837.8\", \"z\": 0.0483, \"sigma*\": 120.0, \"e_sigma*\": 13.0, \"n_sigma*\": \"a\", \"FWHM\": 4200.0, \"e_FWHM\": 210.0, \"logL\": 41.86, \"e_logL\": 0.08, \"logM\": 7.5, \"E_logM\": null, \"e_logM\": 0.1}, {\"Name\": \"SDSS J161156.31+521116.8\", \"z\": 0.040999999999999995, \"sigma*\": 116.0, \"e_sigma*\": 10.0, \"n_sigma*\": null, \"FWHM\": 3760.0, \"e_FWHM\": 180.0, \"logL\": 41.09, \"e_logL\": 0.04, \"logM\": 7.0, \"E_logM\": null, \"e_logM\": 0.3}, {\"Name\": \"SDSS J161951.31+405847.2\", \"z\": 0.0379, \"sigma*\": 89.1, \"e_sigma*\": 20.0, \"n_sigma*\": null, \"FWHM\": 1700.0, \"e_FWHM\": 85.0, \"logL\": 40.99, \"e_logL\": 0.07, \"logM\": 6.3, \"E_logM\": null, \"e_logM\": 0.1}, {\"Name\": \"SDSS J170328.96+614109.9\", \"z\": 0.0772, \"sigma*\": 123.0, \"e_sigma*\": 13.0, \"n_sigma*\": \"a\", \"FWHM\": 4300.0, \"e_FWHM\": 210.0, \"logL\": 41.92, \"e_logL\": 0.05, \"logM\": 7.6, \"E_logM\": null, \"e_logM\": 0.1}, {\"Name\": \"SDSS J171550.49+593548.7\", \"z\": 0.0657, \"sigma*\": 146.0, \"e_sigma*\": 13.0, \"n_sigma*\": \"a\", \"FWHM\": 3500.0, \"e_FWHM\": 170.0, \"logL\": 41.24, \"e_logL\": 0.05, \"logM\": 7.0, \"E_logM\": null, \"e_logM\": 0.1}, {\"Name\": \"SDSS J212401.90-002158.7\", \"z\": 0.0619, \"sigma*\": 110.0, \"e_sigma*\": 15.0, \"n_sigma*\": \"a\", \"FWHM\": 2620.0, \"e_FWHM\": 130.0, \"logL\": 41.41, \"e_logL\": 0.06, \"logM\": 6.9, \"E_logM\": null, \"e_logM\": 0.1}, {\"Name\": \"SDSS J222435.29-001103.8\", \"z\": 0.0581, \"sigma*\": 111.0, \"e_sigma*\": 19.0, \"n_sigma*\": \"a\", \"FWHM\": 2290.0, \"e_FWHM\": 1190.0, \"logL\": 41.83, \"e_logL\": 0.17, \"logM\": 7.0, \"E_logM\": null, \"e_logM\": 0.4}, {\"Name\": \"SDSS J223000.37-094622.1\", \"z\": 0.0727, \"sigma*\": 112.0, \"e_sigma*\": 13.0, \"n_sigma*\": \"a\", \"FWHM\": 3630.0, \"e_FWHM\": 180.0, \"logL\": 41.21, \"e_logL\": 0.04, \"logM\": 7.1, \"E_logM\": null, \"e_logM\": 0.1}, {\"Name\": \"SDSS J232721.96+152437.3\", \"z\": 0.0457, \"sigma*\": 193.0, \"e_sigma*\": 18.0, \"n_sigma*\": null, \"FWHM\": 7540.0, \"e_FWHM\": 750.0, \"logL\": 41.65, \"e_logL\": 0.06, \"logM\": 7.9, \"E_logM\": null, \"e_logM\": 0.1}, {\"Name\": \"SDSS J235128.78+155259.0\", \"z\": 0.0963, \"sigma*\": 193.0, \"e_sigma*\": 22.0, \"n_sigma*\": \"a\", \"FWHM\": 8240.0, \"e_FWHM\": 410.0, \"logL\": 41.87, \"e_logL\": 0.04, \"logM\": 8.2, \"E_logM\": null, \"e_logM\": 0.2}, {\"Name\": \"SDSS J010712.03+140844.9\", \"z\": 0.0768, \"sigma*\": 36.0, \"e_sigma*\": 6.0, \"n_sigma*\": \"b\", \"FWHM\": 880.0, \"e_FWHM\": 170.0, \"logL\": 42.57, \"e_logL\": 0.2, \"logM\": 5.8, \"E_logM\": null, \"e_logM\": 0.2}, {\"Name\": \"SDSS J024912.86-081525.6\", \"z\": 0.0294, \"sigma*\": 50.0, \"e_sigma*\": 4.0, \"n_sigma*\": \"b\", \"FWHM\": 840.0, \"e_FWHM\": 320.0, \"logL\": 41.93, \"e_logL\": 0.08, \"logM\": 5.1, \"E_logM\": null, \"e_logM\": 0.3}, {\"Name\": \"SDSS J032515.59+003408.4\", \"z\": 0.102, \"sigma*\": 55.0, \"e_sigma*\": 6.0, \"n_sigma*\": \"b\", \"FWHM\": 990.0, \"e_FWHM\": 49.0, \"logL\": 42.03, \"e_logL\": 0.12, \"logM\": 5.8, \"E_logM\": null, \"e_logM\": 0.1}, {\"Name\": \"SDSS J080907.58+441641.4\", \"z\": 0.0539, \"sigma*\": 65.0, \"e_sigma*\": 4.0, \"n_sigma*\": \"b\", \"FWHM\": 940.0, \"e_FWHM\": 180.0, \"logL\": 40.47, \"e_logL\": 0.04, \"logM\": 5.5, \"E_logM\": null, \"e_logM\": 0.8}, {\"Name\": \"SDSS J082912.67+500652.3\", \"z\": 0.0434, \"sigma*\": 60.0, \"e_sigma*\": 4.0, \"n_sigma*\": \"b\", \"FWHM\": 840.0, \"e_FWHM\": 41.0, \"logL\": 42.14, \"e_logL\": 0.06, \"logM\": 5.7, \"E_logM\": null, \"e_logM\": 0.1}, {\"Name\": \"SDSS J101108.40+002908.7\", \"z\": 0.1, \"sigma*\": 48.0, \"e_sigma*\": 7.0, \"n_sigma*\": \"b\", \"FWHM\": 1460.0, \"e_FWHM\": 72.0, \"logL\": 42.68, \"e_logL\": 0.19, \"logM\": 6.2, \"E_logM\": null, \"e_logM\": 0.3}, {\"Name\": \"SDSS J101627.32-000714.5\", \"z\": 0.0944, \"sigma*\": 39.0, \"e_sigma*\": 6.0, \"n_sigma*\": \"b\", \"FWHM\": 1520.0, \"e_FWHM\": 75.0, \"logL\": 42.57, \"e_logL\": 0.17, \"logM\": 6.1, \"E_logM\": null, \"e_logM\": 0.2}, {\"Name\": \"SDSS J124035.81-002919.4\", \"z\": 0.0809, \"sigma*\": 49.0, \"e_sigma*\": 7.0, \"n_sigma*\": \"b\", \"FWHM\": 1720.0, \"e_FWHM\": 85.0, \"logL\": 42.35, \"e_logL\": 0.11, \"logM\": 6.6, \"E_logM\": null, \"e_logM\": 0.6}, {\"Name\": \"SDSS J125055.28-015556.6\", \"z\": 0.0814, \"sigma*\": 64.0, \"e_sigma*\": 6.0, \"n_sigma*\": \"b\", \"FWHM\": 1980.0, \"e_FWHM\": 99.0, \"logL\": 42.75, \"e_logL\": 0.14, \"logM\": 6.5, \"E_logM\": null, \"e_logM\": 0.1}, {\"Name\": \"SDSS J143450.62+033842.5\", \"z\": 0.0282, \"sigma*\": 48.0, \"e_sigma*\": 7.0, \"n_sigma*\": \"b\", \"FWHM\": 1480.0, \"e_FWHM\": 73.0, \"logL\": 41.87, \"e_logL\": 0.16, \"logM\": 5.6, \"E_logM\": null, \"e_logM\": 0.1}, {\"Name\": \"SDSS J170246.09+602818.9\", \"z\": 0.0689, \"sigma*\": 69.0, \"e_sigma*\": 6.0, \"n_sigma*\": \"b\", \"FWHM\": 3270.0, \"e_FWHM\": 160.0, \"logL\": 42.67, \"e_logL\": 0.16, \"logM\": 6.9, \"E_logM\": null, \"e_logM\": 0.2}, {\"Name\": \"SDSS J172759.15+542147.0\", \"z\": 0.0995, \"sigma*\": 58.0, \"e_sigma*\": 7.0, \"n_sigma*\": \"b\", \"FWHM\": 810.0, \"e_FWHM\": 400.0, \"logL\": 42.19, \"e_logL\": 0.09, \"logM\": 5.6, \"E_logM\": null, \"e_logM\": 0.5}, {\"Name\": \"SDSS J215658.30+110343.1\", \"z\": 0.10800000000000001, \"sigma*\": 81.0, \"e_sigma*\": 8.0, \"n_sigma*\": \"b\", \"FWHM\": 1430.0, \"e_FWHM\": 280.0, \"logL\": 41.22, \"e_logL\": 0.03, \"logM\": 6.3, \"E_logM\": null, \"e_logM\": 0.8}, {\"Name\": \"SDSS J232159.06+000738.8\", \"z\": 0.184, \"sigma*\": 81.0, \"e_sigma*\": 9.0, \"n_sigma*\": \"b\", \"FWHM\": 2520.0, \"e_FWHM\": 120.0, \"logL\": 42.96, \"e_logL\": 0.1, \"logM\": 6.7, \"E_logM\": null, \"e_logM\": 0.2}, {\"Name\": \"SDSS J233837.10-002810.3\", \"z\": 0.0356, \"sigma*\": 58.0, \"e_sigma*\": 4.0, \"n_sigma*\": \"b\", \"FWHM\": 1740.0, \"e_FWHM\": 86.0, \"logL\": 43.61, \"e_logL\": 0.13, \"logM\": 5.8, \"E_logM\": null, \"e_logM\": 0.1}, {\"Name\": \"3C 120\", \"z\": 0.033, \"sigma*\": 162.0, \"e_sigma*\": 24.0, \"n_sigma*\": \"b\", \"FWHM\": null, \"e_FWHM\": null, \"logL\": null, \"e_logL\": null, \"logM\": 7.43, \"E_logM\": 0.2, \"e_logM\": 0.25}, {\"Name\": \"3C 390.3\", \"z\": 0.0561, \"sigma*\": 268.0, \"e_sigma*\": 15.0, \"n_sigma*\": null, \"FWHM\": null, \"e_FWHM\": null, \"logL\": null, \"e_logL\": null, \"logM\": 8.52, \"E_logM\": 0.09, \"e_logM\": 0.12}, {\"Name\": \"Akn 120\", \"z\": 0.0323, \"sigma*\": 224.0, \"e_sigma*\": 15.0, \"n_sigma*\": null, \"FWHM\": null, \"e_FWHM\": null, \"logL\": null, \"e_logL\": null, \"logM\": 8.2, \"E_logM\": 0.05, \"e_logM\": 0.07}, {\"Name\": \"Mrk 79\", \"z\": 0.0222, \"sigma*\": 130.0, \"e_sigma*\": 10.0, \"n_sigma*\": null, \"FWHM\": null, \"e_FWHM\": null, \"logL\": null, \"e_logL\": null, \"logM\": 7.67, \"E_logM\": 0.11, \"e_logM\": 0.15}, {\"Name\": \"Mrk 110\", \"z\": 0.0353, \"sigma*\": 87.1, \"e_sigma*\": 12.0, \"n_sigma*\": null, \"FWHM\": null, \"e_FWHM\": null, \"logL\": null, \"e_logL\": null, \"logM\": 6.97, \"E_logM\": 0.11, \"e_logM\": 0.15}, {\"Name\": \"Mrk 279\", \"z\": 0.0305, \"sigma*\": 197.0, \"e_sigma*\": 12.0, \"n_sigma*\": null, \"FWHM\": null, \"e_FWHM\": null, \"logL\": null, \"e_logL\": null, \"logM\": 7.45, \"E_logM\": 0.12, \"e_logM\": 0.16}, {\"Name\": \"Mrk 590\", \"z\": 0.0264, \"sigma*\": 189.0, \"e_sigma*\": 5.7, \"n_sigma*\": null, \"FWHM\": null, \"e_FWHM\": null, \"logL\": null, \"e_logL\": null, \"logM\": 7.2, \"E_logM\": 0.11, \"e_logM\": 0.15}, {\"Name\": \"Mrk 817\", \"z\": 0.0315, \"sigma*\": 127.0, \"e_sigma*\": 12.0, \"n_sigma*\": null, \"FWHM\": null, \"e_FWHM\": null, \"logL\": null, \"e_logL\": null, \"logM\": 7.62, \"E_logM\": 0.08, \"e_logM\": 0.1}, {\"Name\": \"NGC 3227\", \"z\": 0.00386, \"sigma*\": 135.0, \"e_sigma*\": 3.8, \"n_sigma*\": null, \"FWHM\": null, \"e_FWHM\": null, \"logL\": null, \"e_logL\": null, \"logM\": 7.47, \"E_logM\": 0.24, \"e_logM\": 1.06}, {\"Name\": \"NGC 3516\", \"z\": 0.00884, \"sigma*\": 181.0, \"e_sigma*\": 4.9, \"n_sigma*\": \"b\", \"FWHM\": null, \"e_FWHM\": null, \"logL\": null, \"e_logL\": null, \"logM\": 7.04, \"E_logM\": 0.31, \"e_logM\": 0.39}, {\"Name\": \"NGC 3783\", \"z\": 0.009729999999999999, \"sigma*\": 95.0, \"e_sigma*\": 10.0, \"n_sigma*\": null, \"FWHM\": null, \"e_FWHM\": null, \"logL\": null, \"e_logL\": null, \"logM\": 7.16, \"E_logM\": 0.17, \"e_logM\": 0.23}, {\"Name\": \"NGC 4051\", \"z\": 0.00234, \"sigma*\": 88.9, \"e_sigma*\": 2.9, \"n_sigma*\": null, \"FWHM\": null, \"e_FWHM\": null, \"logL\": null, \"e_logL\": null, \"logM\": 5.99, \"E_logM\": 0.17, \"e_logM\": 0.2}, {\"Name\": \"NGC 4151\", \"z\": 0.0033200000000000005, \"sigma*\": 96.8, \"e_sigma*\": 2.9, \"n_sigma*\": null, \"FWHM\": null, \"e_FWHM\": null, \"logL\": null, \"e_logL\": null, \"logM\": 6.91, \"E_logM\": 0.17, \"e_logM\": 0.29}, {\"Name\": \"NGC 5548\", \"z\": 0.0172, \"sigma*\": 198.0, \"e_sigma*\": 11.0, \"n_sigma*\": null, \"FWHM\": null, \"e_FWHM\": null, \"logL\": null, \"e_logL\": null, \"logM\": 7.81, \"E_logM\": 0.02, \"e_logM\": 0.02}, {\"Name\": \"NGC 7469\", \"z\": 0.0163, \"sigma*\": 133.0, \"e_sigma*\": 4.8, \"n_sigma*\": null, \"FWHM\": null, \"e_FWHM\": null, \"logL\": null, \"e_logL\": null, \"logM\": 6.49, \"E_logM\": 0.16, \"e_logM\": 0.27}, {\"Name\": \"POX 52\", \"z\": 0.0218, \"sigma*\": 36.0, \"e_sigma*\": 5.0, \"n_sigma*\": null, \"FWHM\": null, \"e_FWHM\": null, \"logL\": null, \"e_logL\": null, \"logM\": 5.2, \"E_logM\": null, \"e_logM\": 0.3}, {\"Name\": \"NGC 4395\", \"z\": 0.000947, \"sigma*\": 30.0, \"e_sigma*\": 5.0, \"n_sigma*\": null, \"FWHM\": null, \"e_FWHM\": null, \"logL\": null, \"e_logL\": null, \"logM\": 4.9, \"E_logM\": null, \"e_logM\": 0.4}]}}, {\"mode\": \"vega-lite\"});\n",
       "</script>"
      ],
      "text/plain": [
       "alt.Chart(...)"
      ]
     },
     "execution_count": 22,
     "metadata": {
      "tags": []
     },
     "output_type": "execute_result"
    }
   ],
   "source": [
    "alt.Chart(df).mark_point(filled=True).encode(\n",
    "    alt.X('sigma*', scale=alt.Scale(type='log', base=10)),\n",
    "    alt.Y('logM'),\n",
    "    color = 'z',\n",
    "    tooltip = 'Name' \n",
    ")"
   ]
  },
  {
   "cell_type": "markdown",
   "metadata": {
    "id": "fLakSo9tQkVt"
   },
   "source": [
    "and add the `selection` property:"
   ]
  },
  {
   "cell_type": "code",
   "execution_count": null,
   "metadata": {
    "colab": {
     "base_uri": "https://localhost:8080/",
     "height": 368
    },
    "executionInfo": {
     "elapsed": 911,
     "status": "ok",
     "timestamp": 1609124103509,
     "user": {
      "displayName": "Eduard Alexis Larranaga",
      "photoUrl": "https://lh3.googleusercontent.com/a-/AOh14GgCVABzEgj-rCdyxWa29RnA0kIYUCXAaVbnRYOEhQ=s64",
      "userId": "04402438389940282602"
     },
     "user_tz": 300
    },
    "id": "apdcNY1HQkVu",
    "outputId": "12794424-62d6-4dbc-a738-a2692fd7fed3"
   },
   "outputs": [
    {
     "data": {
      "text/html": [
       "\n",
       "<div id=\"altair-viz-8f37bcfcd82b45d4bfbd2fa3a2b82bc9\"></div>\n",
       "<script type=\"text/javascript\">\n",
       "  (function(spec, embedOpt){\n",
       "    let outputDiv = document.currentScript.previousElementSibling;\n",
       "    if (outputDiv.id !== \"altair-viz-8f37bcfcd82b45d4bfbd2fa3a2b82bc9\") {\n",
       "      outputDiv = document.getElementById(\"altair-viz-8f37bcfcd82b45d4bfbd2fa3a2b82bc9\");\n",
       "    }\n",
       "    const paths = {\n",
       "      \"vega\": \"https://cdn.jsdelivr.net/npm//vega@5?noext\",\n",
       "      \"vega-lib\": \"https://cdn.jsdelivr.net/npm//vega-lib?noext\",\n",
       "      \"vega-lite\": \"https://cdn.jsdelivr.net/npm//vega-lite@4.8.1?noext\",\n",
       "      \"vega-embed\": \"https://cdn.jsdelivr.net/npm//vega-embed@6?noext\",\n",
       "    };\n",
       "\n",
       "    function loadScript(lib) {\n",
       "      return new Promise(function(resolve, reject) {\n",
       "        var s = document.createElement('script');\n",
       "        s.src = paths[lib];\n",
       "        s.async = true;\n",
       "        s.onload = () => resolve(paths[lib]);\n",
       "        s.onerror = () => reject(`Error loading script: ${paths[lib]}`);\n",
       "        document.getElementsByTagName(\"head\")[0].appendChild(s);\n",
       "      });\n",
       "    }\n",
       "\n",
       "    function showError(err) {\n",
       "      outputDiv.innerHTML = `<div class=\"error\" style=\"color:red;\">${err}</div>`;\n",
       "      throw err;\n",
       "    }\n",
       "\n",
       "    function displayChart(vegaEmbed) {\n",
       "      vegaEmbed(outputDiv, spec, embedOpt)\n",
       "        .catch(err => showError(`Javascript Error: ${err.message}<br>This usually means there's a typo in your chart specification. See the javascript console for the full traceback.`));\n",
       "    }\n",
       "\n",
       "    if(typeof define === \"function\" && define.amd) {\n",
       "      requirejs.config({paths});\n",
       "      require([\"vega-embed\"], displayChart, err => showError(`Error loading script: ${err.message}`));\n",
       "    } else if (typeof vegaEmbed === \"function\") {\n",
       "      displayChart(vegaEmbed);\n",
       "    } else {\n",
       "      loadScript(\"vega\")\n",
       "        .then(() => loadScript(\"vega-lite\"))\n",
       "        .then(() => loadScript(\"vega-embed\"))\n",
       "        .catch(showError)\n",
       "        .then(() => displayChart(vegaEmbed));\n",
       "    }\n",
       "  })({\"config\": {\"view\": {\"continuousWidth\": 400, \"continuousHeight\": 300}}, \"data\": {\"name\": \"data-54b58a4aa74e295879badff738f3e9c4\"}, \"mark\": {\"type\": \"point\", \"filled\": true}, \"encoding\": {\"color\": {\"type\": \"quantitative\", \"field\": \"z\"}, \"tooltip\": {\"type\": \"nominal\", \"field\": \"Name\"}, \"x\": {\"type\": \"quantitative\", \"field\": \"sigma*\", \"scale\": {\"base\": 10, \"type\": \"log\"}}, \"y\": {\"type\": \"quantitative\", \"field\": \"logM\"}}, \"selection\": {\"selector001\": {\"type\": \"interval\"}}, \"$schema\": \"https://vega.github.io/schema/vega-lite/v4.8.1.json\", \"datasets\": {\"data-54b58a4aa74e295879badff738f3e9c4\": [{\"Name\": \"SDSS J000805.62+145023.4\", \"z\": 0.0454, \"sigma*\": 140.0, \"e_sigma*\": 27.0, \"n_sigma*\": null, \"FWHM\": 7610.0, \"e_FWHM\": 380.0, \"logL\": 41.13, \"e_logL\": 0.04, \"logM\": 7.7, \"E_logM\": null, \"e_logM\": 0.1}, {\"Name\": \"SDSS J004236.86-104921.8\", \"z\": 0.0419, \"sigma*\": 78.4, \"e_sigma*\": 10.0, \"n_sigma*\": null, \"FWHM\": 1960.0, \"e_FWHM\": 97.0, \"logL\": 41.58, \"e_logL\": 0.14, \"logM\": 6.7, \"E_logM\": null, \"e_logM\": 0.1}, {\"Name\": \"SDSS J011703.58+000027.3\", \"z\": 0.0456, \"sigma*\": 98.8, \"e_sigma*\": 16.0, \"n_sigma*\": null, \"FWHM\": 2270.0, \"e_FWHM\": 110.0, \"logL\": 41.45, \"e_logL\": 0.08, \"logM\": 6.8, \"E_logM\": null, \"e_logM\": 0.1}, {\"Name\": \"SDSS J020459.25-080816.0\", \"z\": 0.0772, \"sigma*\": 121.0, \"e_sigma*\": 9.4, \"n_sigma*\": \"a\", \"FWHM\": 3720.0, \"e_FWHM\": 180.0, \"logL\": 41.13, \"e_logL\": 0.05, \"logM\": 7.0, \"E_logM\": null, \"e_logM\": 0.1}, {\"Name\": \"SDSS J020615.99-001729.1\", \"z\": 0.0426, \"sigma*\": 216.0, \"e_sigma*\": 30.0, \"n_sigma*\": null, \"FWHM\": 3860.0, \"e_FWHM\": 190.0, \"logL\": 41.91, \"e_logL\": 0.07, \"logM\": 7.5, \"E_logM\": null, \"e_logM\": 0.1}, {\"Name\": \"SDSS J021011.49-090335.5\", \"z\": 0.0414, \"sigma*\": 122.0, \"e_sigma*\": 12.0, \"n_sigma*\": \"a\", \"FWHM\": 2450.0, \"e_FWHM\": 120.0, \"logL\": 41.24, \"e_logL\": 0.07, \"logM\": 6.7, \"E_logM\": null, \"e_logM\": 0.1}, {\"Name\": \"SDSS J021257.59+140610.1\", \"z\": 0.0618, \"sigma*\": 174.0, \"e_sigma*\": 12.0, \"n_sigma*\": \"a\", \"FWHM\": 3080.0, \"e_FWHM\": 150.0, \"logL\": 41.58, \"e_logL\": 0.06, \"logM\": 7.1, \"E_logM\": null, \"e_logM\": 0.1}, {\"Name\": \"SDSS J033013.26-053236.0\", \"z\": 0.0131, \"sigma*\": 99.2, \"e_sigma*\": 11.0, \"n_sigma*\": null, \"FWHM\": 5160.0, \"e_FWHM\": 250.0, \"logL\": 40.45, \"e_logL\": 0.06, \"logM\": 7.0, \"E_logM\": null, \"e_logM\": 0.1}, {\"Name\": \"SDSS J075057.25+353037.5\", \"z\": 0.17600000000000002, \"sigma*\": 154.0, \"e_sigma*\": 14.0, \"n_sigma*\": \"a\", \"FWHM\": 2970.0, \"e_FWHM\": 200.0, \"logL\": 41.63, \"e_logL\": 0.03, \"logM\": 7.2, \"E_logM\": null, \"e_logM\": 0.1}, {\"Name\": \"SDSS J080243.39+310403.3\", \"z\": 0.0409, \"sigma*\": 151.0, \"e_sigma*\": 17.0, \"n_sigma*\": null, \"FWHM\": 5360.0, \"e_FWHM\": 260.0, \"logL\": 41.67, \"e_logL\": 0.07, \"logM\": 7.6, \"E_logM\": null, \"e_logM\": 0.1}, {\"Name\": \"SDSS J080538.66+261005.4\", \"z\": 0.017, \"sigma*\": 100.0, \"e_sigma*\": 14.0, \"n_sigma*\": null, \"FWHM\": 3110.0, \"e_FWHM\": 150.0, \"logL\": 40.14, \"e_logL\": 0.04, \"logM\": 6.3, \"E_logM\": null, \"e_logM\": 0.2}, {\"Name\": \"SDSS J082510.23+375919.7\", \"z\": 0.0214, \"sigma*\": 98.7, \"e_sigma*\": 12.0, \"n_sigma*\": null, \"FWHM\": 1830.0, \"e_FWHM\": 91.0, \"logL\": 40.42, \"e_logL\": 0.04, \"logM\": 6.0, \"E_logM\": null, \"e_logM\": 0.1}, {\"Name\": \"SDSS J083202.16+461425.7\", \"z\": 0.0459, \"sigma*\": 104.0, \"e_sigma*\": 13.0, \"n_sigma*\": null, \"FWHM\": 1450.0, \"e_FWHM\": 72.0, \"logL\": 41.17, \"e_logL\": 0.08, \"logM\": 6.2, \"E_logM\": null, \"e_logM\": 0.1}, {\"Name\": \"SDSS J083949.64+484701.4\", \"z\": 0.0394, \"sigma*\": 133.0, \"e_sigma*\": 12.0, \"n_sigma*\": null, \"FWHM\": 1480.0, \"e_FWHM\": 73.0, \"logL\": 41.31, \"e_logL\": 0.08, \"logM\": 6.3, \"E_logM\": null, \"e_logM\": 0.2}, {\"Name\": \"SDSS J085554.27+005110.9\", \"z\": 0.0524, \"sigma*\": 118.0, \"e_sigma*\": 11.0, \"n_sigma*\": \"a\", \"FWHM\": 2910.0, \"e_FWHM\": 140.0, \"logL\": 41.27, \"e_logL\": 0.06, \"logM\": 6.9, \"E_logM\": null, \"e_logM\": 0.1}, {\"Name\": \"SDSS J092438.88+560746.9\", \"z\": 0.025, \"sigma*\": 135.0, \"e_sigma*\": 10.0, \"n_sigma*\": null, \"FWHM\": 1900.0, \"e_FWHM\": 94.0, \"logL\": 40.72, \"e_logL\": 0.07, \"logM\": 6.2, \"E_logM\": null, \"e_logM\": 0.4}, {\"Name\": \"SDSS J093259.60+040506.0\", \"z\": 0.059000000000000004, \"sigma*\": 70.5, \"e_sigma*\": 6.7, \"n_sigma*\": \"a\", \"FWHM\": 3550.0, \"e_FWHM\": 170.0, \"logL\": 41.14, \"e_logL\": 0.05, \"logM\": 7.0, \"E_logM\": null, \"e_logM\": 0.1}, {\"Name\": \"SDSS J093812.26+074340.0\", \"z\": 0.0219, \"sigma*\": 119.0, \"e_sigma*\": 8.0, \"n_sigma*\": null, \"FWHM\": 3640.0, \"e_FWHM\": 180.0, \"logL\": 40.8, \"e_logL\": 0.05, \"logM\": 6.8, \"E_logM\": null, \"e_logM\": 0.1}, {\"Name\": \"SDSS J094838.42+403043.7\", \"z\": 0.047, \"sigma*\": 91.4, \"e_sigma*\": 16.0, \"n_sigma*\": null, \"FWHM\": 3020.0, \"e_FWHM\": 150.0, \"logL\": 41.46, \"e_logL\": 0.07, \"logM\": 7.0, \"E_logM\": null, \"e_logM\": 0.1}, {\"Name\": \"SDSS J101912.57+635802.7\", \"z\": 0.0414, \"sigma*\": 239.0, \"e_sigma*\": 13.0, \"n_sigma*\": null, \"FWHM\": 3630.0, \"e_FWHM\": 180.0, \"logL\": 41.74, \"e_logL\": 0.08, \"logM\": 7.4, \"E_logM\": null, \"e_logM\": 0.1}, {\"Name\": \"SDSS J102044.43+013048.4\", \"z\": 0.0962, \"sigma*\": 103.0, \"e_sigma*\": 8.8, \"n_sigma*\": \"a\", \"FWHM\": 5200.0, \"e_FWHM\": 250.0, \"logL\": 41.51, \"e_logL\": 0.04, \"logM\": 7.6, \"E_logM\": null, \"e_logM\": 0.1}, {\"Name\": \"SDSS J110640.20+051905.6\", \"z\": 0.0913, \"sigma*\": 140.0, \"e_sigma*\": 15.0, \"n_sigma*\": \"a\", \"FWHM\": 5830.0, \"e_FWHM\": 290.0, \"logL\": 41.65, \"e_logL\": 0.04, \"logM\": 7.7, \"E_logM\": null, \"e_logM\": 0.1}, {\"Name\": \"SDSS J112536.16+542257.1\", \"z\": 0.0206, \"sigma*\": 124.0, \"e_sigma*\": 12.0, \"n_sigma*\": null, \"FWHM\": 2950.0, \"e_FWHM\": 140.0, \"logL\": 41.17, \"e_logL\": 0.08, \"logM\": 6.8, \"E_logM\": null, \"e_logM\": 0.1}, {\"Name\": \"SDSS J112841.00+575006.5\", \"z\": 0.0513, \"sigma*\": 159.0, \"e_sigma*\": 18.0, \"n_sigma*\": \"a\", \"FWHM\": 2660.0, \"e_FWHM\": 130.0, \"logL\": 41.66, \"e_logL\": 0.09, \"logM\": 7.0, \"E_logM\": null, \"e_logM\": 0.1}, {\"Name\": \"SDSS J120257.81+045045.0\", \"z\": 0.0207, \"sigma*\": 102.0, \"e_sigma*\": 20.0, \"n_sigma*\": null, \"FWHM\": 2250.0, \"e_FWHM\": 110.0, \"logL\": 40.1, \"e_logL\": 0.06, \"logM\": 6.0, \"E_logM\": null, \"e_logM\": 0.1}, {\"Name\": \"SDSS J120556.01+495956.1\", \"z\": 0.0631, \"sigma*\": 107.0, \"e_sigma*\": 11.0, \"n_sigma*\": \"a\", \"FWHM\": 5610.0, \"e_FWHM\": 450.0, \"logL\": 41.57, \"e_logL\": 0.04, \"logM\": 7.7, \"E_logM\": null, \"e_logM\": 0.1}, {\"Name\": \"SDSS J121607.09+504930.0\", \"z\": 0.0308, \"sigma*\": 138.0, \"e_sigma*\": 13.0, \"n_sigma*\": null, \"FWHM\": 5580.0, \"e_FWHM\": 270.0, \"logL\": 41.3, \"e_logL\": 0.06, \"logM\": 7.5, \"E_logM\": null, \"e_logM\": 0.3}, {\"Name\": \"SDSS J121754.97+583935.6\", \"z\": 0.0233, \"sigma*\": 85.6, \"e_sigma*\": 14.0, \"n_sigma*\": null, \"FWHM\": 1970.0, \"e_FWHM\": 98.0, \"logL\": 40.92, \"e_logL\": 0.08, \"logM\": 6.4, \"E_logM\": null, \"e_logM\": 0.1}, {\"Name\": \"SDSS J122324.13+024044.4\", \"z\": 0.0236, \"sigma*\": 78.1, \"e_sigma*\": 15.0, \"n_sigma*\": null, \"FWHM\": 3880.0, \"e_FWHM\": 910.0, \"logL\": 41.62, \"e_logL\": 0.08, \"logM\": 7.3, \"E_logM\": null, \"e_logM\": 0.2}, {\"Name\": \"SDSS J123237.48+662452.3\", \"z\": 0.0468, \"sigma*\": 124.0, \"e_sigma*\": 9.0, \"n_sigma*\": null, \"FWHM\": 2620.0, \"e_FWHM\": 130.0, \"logL\": 41.86, \"e_logL\": 0.19, \"logM\": 7.1, \"E_logM\": null, \"e_logM\": 0.2}, {\"Name\": \"SDSS J130620.97+531823.1\", \"z\": 0.0237, \"sigma*\": 90.7, \"e_sigma*\": 11.0, \"n_sigma*\": null, \"FWHM\": 7620.0, \"e_FWHM\": 380.0, \"logL\": 40.58, \"e_logL\": 0.04, \"logM\": 7.3, \"E_logM\": null, \"e_logM\": 0.1}, {\"Name\": \"SDSS J131305.80+012755.9\", \"z\": 0.0294, \"sigma*\": 95.4, \"e_sigma*\": 13.0, \"n_sigma*\": null, \"FWHM\": 1590.0, \"e_FWHM\": 79.0, \"logL\": 40.62, \"e_logL\": 0.07, \"logM\": 6.0, \"E_logM\": null, \"e_logM\": 0.1}, {\"Name\": \"SDSS J132249.21+545528.2\", \"z\": 0.0653, \"sigma*\": 130.0, \"e_sigma*\": 13.0, \"n_sigma*\": \"a\", \"FWHM\": 4050.0, \"e_FWHM\": 200.0, \"logL\": 41.81, \"e_logL\": 0.07, \"logM\": 7.5, \"E_logM\": null, \"e_logM\": 0.1}, {\"Name\": \"SDSS J132340.31-012749.2\", \"z\": 0.0767, \"sigma*\": 114.0, \"e_sigma*\": 16.0, \"n_sigma*\": \"a\", \"FWHM\": 1910.0, \"e_FWHM\": 95.0, \"logL\": 41.55, \"e_logL\": 0.09, \"logM\": 6.7, \"E_logM\": null, \"e_logM\": 0.1}, {\"Name\": \"SDSS J134952.84+020445.1\", \"z\": 0.0328, \"sigma*\": 138.0, \"e_sigma*\": 13.0, \"n_sigma*\": null, \"FWHM\": 2590.0, \"e_FWHM\": 120.0, \"logL\": 41.62, \"e_logL\": 0.07, \"logM\": 7.0, \"E_logM\": null, \"e_logM\": 0.1}, {\"Name\": \"SDSS J140018.42+050242.2\", \"z\": 0.0342, \"sigma*\": 145.0, \"e_sigma*\": 14.0, \"n_sigma*\": null, \"FWHM\": 3340.0, \"e_FWHM\": 160.0, \"logL\": 41.23, \"e_logL\": 0.05, \"logM\": 7.1, \"E_logM\": null, \"e_logM\": 0.5}, {\"Name\": \"SDSS J140514.87-025901.2\", \"z\": 0.0542, \"sigma*\": 148.0, \"e_sigma*\": 15.0, \"n_sigma*\": \"a\", \"FWHM\": 2990.0, \"e_FWHM\": 140.0, \"logL\": 41.29, \"e_logL\": 0.06, \"logM\": 6.9, \"E_logM\": null, \"e_logM\": 0.3}, {\"Name\": \"SDSS J141630.81+013708.0\", \"z\": 0.0538, \"sigma*\": 121.0, \"e_sigma*\": 12.0, \"n_sigma*\": \"a\", \"FWHM\": 3180.0, \"e_FWHM\": 150.0, \"logL\": 41.1, \"e_logL\": 0.04, \"logM\": 6.9, \"E_logM\": null, \"e_logM\": 0.1}, {\"Name\": \"SDSS J143452.45+483942.7\", \"z\": 0.0365, \"sigma*\": 138.0, \"e_sigma*\": 15.0, \"n_sigma*\": null, \"FWHM\": 3210.0, \"e_FWHM\": 160.0, \"logL\": 41.84, \"e_logL\": 0.1, \"logM\": 7.3, \"E_logM\": null, \"e_logM\": 0.1}, {\"Name\": \"SDSS J144629.97+500130.5\", \"z\": 0.0427, \"sigma*\": 86.8, \"e_sigma*\": 19.0, \"n_sigma*\": null, \"FWHM\": 6450.0, \"e_FWHM\": 320.0, \"logL\": 40.73, \"e_logL\": 0.03, \"logM\": 7.3, \"E_logM\": null, \"e_logM\": 0.2}, {\"Name\": \"SDSS J145706.80+494008.4\", \"z\": 0.0134, \"sigma*\": 108.0, \"e_sigma*\": 11.0, \"n_sigma*\": null, \"FWHM\": 2270.0, \"e_FWHM\": 110.0, \"logL\": 40.46, \"e_logL\": 0.1, \"logM\": 6.3, \"E_logM\": null, \"e_logM\": 0.1}, {\"Name\": \"SDSS J145901.35+611353.5\", \"z\": 0.0388, \"sigma*\": 113.0, \"e_sigma*\": 13.0, \"n_sigma*\": null, \"FWHM\": 4140.0, \"e_FWHM\": 200.0, \"logL\": 41.18, \"e_logL\": 0.06, \"logM\": 7.2, \"E_logM\": null, \"e_logM\": 0.1}, {\"Name\": \"SDSS J150556.55+034226.3\", \"z\": 0.0359, \"sigma*\": 199.0, \"e_sigma*\": 18.0, \"n_sigma*\": \"a\", \"FWHM\": 4370.0, \"e_FWHM\": 210.0, \"logL\": 42.09, \"e_logL\": 0.1, \"logM\": 7.7, \"E_logM\": null, \"e_logM\": 0.1}, {\"Name\": \"SDSS J150745.00+512710.2\", \"z\": 0.0458, \"sigma*\": 139.0, \"e_sigma*\": 17.0, \"n_sigma*\": null, \"FWHM\": 3430.0, \"e_FWHM\": 170.0, \"logL\": 41.4, \"e_logL\": 0.04, \"logM\": 7.1, \"E_logM\": null, \"e_logM\": 0.1}, {\"Name\": \"SDSS J150853.95-001148.9\", \"z\": 0.0542, \"sigma*\": 163.0, \"e_sigma*\": 15.0, \"n_sigma*\": \"a\", \"FWHM\": 6190.0, \"e_FWHM\": 610.0, \"logL\": 41.51, \"e_logL\": 0.04, \"logM\": 7.8, \"E_logM\": null, \"e_logM\": 0.1}, {\"Name\": \"SDSS J152515.18+601409.0\", \"z\": 0.0783, \"sigma*\": 104.0, \"e_sigma*\": 11.0, \"n_sigma*\": \"a\", \"FWHM\": 2590.0, \"e_FWHM\": 120.0, \"logL\": 41.41, \"e_logL\": 0.09, \"logM\": 6.9, \"E_logM\": null, \"e_logM\": 0.1}, {\"Name\": \"SDSS J155417.43+323837.8\", \"z\": 0.0483, \"sigma*\": 120.0, \"e_sigma*\": 13.0, \"n_sigma*\": \"a\", \"FWHM\": 4200.0, \"e_FWHM\": 210.0, \"logL\": 41.86, \"e_logL\": 0.08, \"logM\": 7.5, \"E_logM\": null, \"e_logM\": 0.1}, {\"Name\": \"SDSS J161156.31+521116.8\", \"z\": 0.040999999999999995, \"sigma*\": 116.0, \"e_sigma*\": 10.0, \"n_sigma*\": null, \"FWHM\": 3760.0, \"e_FWHM\": 180.0, \"logL\": 41.09, \"e_logL\": 0.04, \"logM\": 7.0, \"E_logM\": null, \"e_logM\": 0.3}, {\"Name\": \"SDSS J161951.31+405847.2\", \"z\": 0.0379, \"sigma*\": 89.1, \"e_sigma*\": 20.0, \"n_sigma*\": null, \"FWHM\": 1700.0, \"e_FWHM\": 85.0, \"logL\": 40.99, \"e_logL\": 0.07, \"logM\": 6.3, \"E_logM\": null, \"e_logM\": 0.1}, {\"Name\": \"SDSS J170328.96+614109.9\", \"z\": 0.0772, \"sigma*\": 123.0, \"e_sigma*\": 13.0, \"n_sigma*\": \"a\", \"FWHM\": 4300.0, \"e_FWHM\": 210.0, \"logL\": 41.92, \"e_logL\": 0.05, \"logM\": 7.6, \"E_logM\": null, \"e_logM\": 0.1}, {\"Name\": \"SDSS J171550.49+593548.7\", \"z\": 0.0657, \"sigma*\": 146.0, \"e_sigma*\": 13.0, \"n_sigma*\": \"a\", \"FWHM\": 3500.0, \"e_FWHM\": 170.0, \"logL\": 41.24, \"e_logL\": 0.05, \"logM\": 7.0, \"E_logM\": null, \"e_logM\": 0.1}, {\"Name\": \"SDSS J212401.90-002158.7\", \"z\": 0.0619, \"sigma*\": 110.0, \"e_sigma*\": 15.0, \"n_sigma*\": \"a\", \"FWHM\": 2620.0, \"e_FWHM\": 130.0, \"logL\": 41.41, \"e_logL\": 0.06, \"logM\": 6.9, \"E_logM\": null, \"e_logM\": 0.1}, {\"Name\": \"SDSS J222435.29-001103.8\", \"z\": 0.0581, \"sigma*\": 111.0, \"e_sigma*\": 19.0, \"n_sigma*\": \"a\", \"FWHM\": 2290.0, \"e_FWHM\": 1190.0, \"logL\": 41.83, \"e_logL\": 0.17, \"logM\": 7.0, \"E_logM\": null, \"e_logM\": 0.4}, {\"Name\": \"SDSS J223000.37-094622.1\", \"z\": 0.0727, \"sigma*\": 112.0, \"e_sigma*\": 13.0, \"n_sigma*\": \"a\", \"FWHM\": 3630.0, \"e_FWHM\": 180.0, \"logL\": 41.21, \"e_logL\": 0.04, \"logM\": 7.1, \"E_logM\": null, \"e_logM\": 0.1}, {\"Name\": \"SDSS J232721.96+152437.3\", \"z\": 0.0457, \"sigma*\": 193.0, \"e_sigma*\": 18.0, \"n_sigma*\": null, \"FWHM\": 7540.0, \"e_FWHM\": 750.0, \"logL\": 41.65, \"e_logL\": 0.06, \"logM\": 7.9, \"E_logM\": null, \"e_logM\": 0.1}, {\"Name\": \"SDSS J235128.78+155259.0\", \"z\": 0.0963, \"sigma*\": 193.0, \"e_sigma*\": 22.0, \"n_sigma*\": \"a\", \"FWHM\": 8240.0, \"e_FWHM\": 410.0, \"logL\": 41.87, \"e_logL\": 0.04, \"logM\": 8.2, \"E_logM\": null, \"e_logM\": 0.2}, {\"Name\": \"SDSS J010712.03+140844.9\", \"z\": 0.0768, \"sigma*\": 36.0, \"e_sigma*\": 6.0, \"n_sigma*\": \"b\", \"FWHM\": 880.0, \"e_FWHM\": 170.0, \"logL\": 42.57, \"e_logL\": 0.2, \"logM\": 5.8, \"E_logM\": null, \"e_logM\": 0.2}, {\"Name\": \"SDSS J024912.86-081525.6\", \"z\": 0.0294, \"sigma*\": 50.0, \"e_sigma*\": 4.0, \"n_sigma*\": \"b\", \"FWHM\": 840.0, \"e_FWHM\": 320.0, \"logL\": 41.93, \"e_logL\": 0.08, \"logM\": 5.1, \"E_logM\": null, \"e_logM\": 0.3}, {\"Name\": \"SDSS J032515.59+003408.4\", \"z\": 0.102, \"sigma*\": 55.0, \"e_sigma*\": 6.0, \"n_sigma*\": \"b\", \"FWHM\": 990.0, \"e_FWHM\": 49.0, \"logL\": 42.03, \"e_logL\": 0.12, \"logM\": 5.8, \"E_logM\": null, \"e_logM\": 0.1}, {\"Name\": \"SDSS J080907.58+441641.4\", \"z\": 0.0539, \"sigma*\": 65.0, \"e_sigma*\": 4.0, \"n_sigma*\": \"b\", \"FWHM\": 940.0, \"e_FWHM\": 180.0, \"logL\": 40.47, \"e_logL\": 0.04, \"logM\": 5.5, \"E_logM\": null, \"e_logM\": 0.8}, {\"Name\": \"SDSS J082912.67+500652.3\", \"z\": 0.0434, \"sigma*\": 60.0, \"e_sigma*\": 4.0, \"n_sigma*\": \"b\", \"FWHM\": 840.0, \"e_FWHM\": 41.0, \"logL\": 42.14, \"e_logL\": 0.06, \"logM\": 5.7, \"E_logM\": null, \"e_logM\": 0.1}, {\"Name\": \"SDSS J101108.40+002908.7\", \"z\": 0.1, \"sigma*\": 48.0, \"e_sigma*\": 7.0, \"n_sigma*\": \"b\", \"FWHM\": 1460.0, \"e_FWHM\": 72.0, \"logL\": 42.68, \"e_logL\": 0.19, \"logM\": 6.2, \"E_logM\": null, \"e_logM\": 0.3}, {\"Name\": \"SDSS J101627.32-000714.5\", \"z\": 0.0944, \"sigma*\": 39.0, \"e_sigma*\": 6.0, \"n_sigma*\": \"b\", \"FWHM\": 1520.0, \"e_FWHM\": 75.0, \"logL\": 42.57, \"e_logL\": 0.17, \"logM\": 6.1, \"E_logM\": null, \"e_logM\": 0.2}, {\"Name\": \"SDSS J124035.81-002919.4\", \"z\": 0.0809, \"sigma*\": 49.0, \"e_sigma*\": 7.0, \"n_sigma*\": \"b\", \"FWHM\": 1720.0, \"e_FWHM\": 85.0, \"logL\": 42.35, \"e_logL\": 0.11, \"logM\": 6.6, \"E_logM\": null, \"e_logM\": 0.6}, {\"Name\": \"SDSS J125055.28-015556.6\", \"z\": 0.0814, \"sigma*\": 64.0, \"e_sigma*\": 6.0, \"n_sigma*\": \"b\", \"FWHM\": 1980.0, \"e_FWHM\": 99.0, \"logL\": 42.75, \"e_logL\": 0.14, \"logM\": 6.5, \"E_logM\": null, \"e_logM\": 0.1}, {\"Name\": \"SDSS J143450.62+033842.5\", \"z\": 0.0282, \"sigma*\": 48.0, \"e_sigma*\": 7.0, \"n_sigma*\": \"b\", \"FWHM\": 1480.0, \"e_FWHM\": 73.0, \"logL\": 41.87, \"e_logL\": 0.16, \"logM\": 5.6, \"E_logM\": null, \"e_logM\": 0.1}, {\"Name\": \"SDSS J170246.09+602818.9\", \"z\": 0.0689, \"sigma*\": 69.0, \"e_sigma*\": 6.0, \"n_sigma*\": \"b\", \"FWHM\": 3270.0, \"e_FWHM\": 160.0, \"logL\": 42.67, \"e_logL\": 0.16, \"logM\": 6.9, \"E_logM\": null, \"e_logM\": 0.2}, {\"Name\": \"SDSS J172759.15+542147.0\", \"z\": 0.0995, \"sigma*\": 58.0, \"e_sigma*\": 7.0, \"n_sigma*\": \"b\", \"FWHM\": 810.0, \"e_FWHM\": 400.0, \"logL\": 42.19, \"e_logL\": 0.09, \"logM\": 5.6, \"E_logM\": null, \"e_logM\": 0.5}, {\"Name\": \"SDSS J215658.30+110343.1\", \"z\": 0.10800000000000001, \"sigma*\": 81.0, \"e_sigma*\": 8.0, \"n_sigma*\": \"b\", \"FWHM\": 1430.0, \"e_FWHM\": 280.0, \"logL\": 41.22, \"e_logL\": 0.03, \"logM\": 6.3, \"E_logM\": null, \"e_logM\": 0.8}, {\"Name\": \"SDSS J232159.06+000738.8\", \"z\": 0.184, \"sigma*\": 81.0, \"e_sigma*\": 9.0, \"n_sigma*\": \"b\", \"FWHM\": 2520.0, \"e_FWHM\": 120.0, \"logL\": 42.96, \"e_logL\": 0.1, \"logM\": 6.7, \"E_logM\": null, \"e_logM\": 0.2}, {\"Name\": \"SDSS J233837.10-002810.3\", \"z\": 0.0356, \"sigma*\": 58.0, \"e_sigma*\": 4.0, \"n_sigma*\": \"b\", \"FWHM\": 1740.0, \"e_FWHM\": 86.0, \"logL\": 43.61, \"e_logL\": 0.13, \"logM\": 5.8, \"E_logM\": null, \"e_logM\": 0.1}, {\"Name\": \"3C 120\", \"z\": 0.033, \"sigma*\": 162.0, \"e_sigma*\": 24.0, \"n_sigma*\": \"b\", \"FWHM\": null, \"e_FWHM\": null, \"logL\": null, \"e_logL\": null, \"logM\": 7.43, \"E_logM\": 0.2, \"e_logM\": 0.25}, {\"Name\": \"3C 390.3\", \"z\": 0.0561, \"sigma*\": 268.0, \"e_sigma*\": 15.0, \"n_sigma*\": null, \"FWHM\": null, \"e_FWHM\": null, \"logL\": null, \"e_logL\": null, \"logM\": 8.52, \"E_logM\": 0.09, \"e_logM\": 0.12}, {\"Name\": \"Akn 120\", \"z\": 0.0323, \"sigma*\": 224.0, \"e_sigma*\": 15.0, \"n_sigma*\": null, \"FWHM\": null, \"e_FWHM\": null, \"logL\": null, \"e_logL\": null, \"logM\": 8.2, \"E_logM\": 0.05, \"e_logM\": 0.07}, {\"Name\": \"Mrk 79\", \"z\": 0.0222, \"sigma*\": 130.0, \"e_sigma*\": 10.0, \"n_sigma*\": null, \"FWHM\": null, \"e_FWHM\": null, \"logL\": null, \"e_logL\": null, \"logM\": 7.67, \"E_logM\": 0.11, \"e_logM\": 0.15}, {\"Name\": \"Mrk 110\", \"z\": 0.0353, \"sigma*\": 87.1, \"e_sigma*\": 12.0, \"n_sigma*\": null, \"FWHM\": null, \"e_FWHM\": null, \"logL\": null, \"e_logL\": null, \"logM\": 6.97, \"E_logM\": 0.11, \"e_logM\": 0.15}, {\"Name\": \"Mrk 279\", \"z\": 0.0305, \"sigma*\": 197.0, \"e_sigma*\": 12.0, \"n_sigma*\": null, \"FWHM\": null, \"e_FWHM\": null, \"logL\": null, \"e_logL\": null, \"logM\": 7.45, \"E_logM\": 0.12, \"e_logM\": 0.16}, {\"Name\": \"Mrk 590\", \"z\": 0.0264, \"sigma*\": 189.0, \"e_sigma*\": 5.7, \"n_sigma*\": null, \"FWHM\": null, \"e_FWHM\": null, \"logL\": null, \"e_logL\": null, \"logM\": 7.2, \"E_logM\": 0.11, \"e_logM\": 0.15}, {\"Name\": \"Mrk 817\", \"z\": 0.0315, \"sigma*\": 127.0, \"e_sigma*\": 12.0, \"n_sigma*\": null, \"FWHM\": null, \"e_FWHM\": null, \"logL\": null, \"e_logL\": null, \"logM\": 7.62, \"E_logM\": 0.08, \"e_logM\": 0.1}, {\"Name\": \"NGC 3227\", \"z\": 0.00386, \"sigma*\": 135.0, \"e_sigma*\": 3.8, \"n_sigma*\": null, \"FWHM\": null, \"e_FWHM\": null, \"logL\": null, \"e_logL\": null, \"logM\": 7.47, \"E_logM\": 0.24, \"e_logM\": 1.06}, {\"Name\": \"NGC 3516\", \"z\": 0.00884, \"sigma*\": 181.0, \"e_sigma*\": 4.9, \"n_sigma*\": \"b\", \"FWHM\": null, \"e_FWHM\": null, \"logL\": null, \"e_logL\": null, \"logM\": 7.04, \"E_logM\": 0.31, \"e_logM\": 0.39}, {\"Name\": \"NGC 3783\", \"z\": 0.009729999999999999, \"sigma*\": 95.0, \"e_sigma*\": 10.0, \"n_sigma*\": null, \"FWHM\": null, \"e_FWHM\": null, \"logL\": null, \"e_logL\": null, \"logM\": 7.16, \"E_logM\": 0.17, \"e_logM\": 0.23}, {\"Name\": \"NGC 4051\", \"z\": 0.00234, \"sigma*\": 88.9, \"e_sigma*\": 2.9, \"n_sigma*\": null, \"FWHM\": null, \"e_FWHM\": null, \"logL\": null, \"e_logL\": null, \"logM\": 5.99, \"E_logM\": 0.17, \"e_logM\": 0.2}, {\"Name\": \"NGC 4151\", \"z\": 0.0033200000000000005, \"sigma*\": 96.8, \"e_sigma*\": 2.9, \"n_sigma*\": null, \"FWHM\": null, \"e_FWHM\": null, \"logL\": null, \"e_logL\": null, \"logM\": 6.91, \"E_logM\": 0.17, \"e_logM\": 0.29}, {\"Name\": \"NGC 5548\", \"z\": 0.0172, \"sigma*\": 198.0, \"e_sigma*\": 11.0, \"n_sigma*\": null, \"FWHM\": null, \"e_FWHM\": null, \"logL\": null, \"e_logL\": null, \"logM\": 7.81, \"E_logM\": 0.02, \"e_logM\": 0.02}, {\"Name\": \"NGC 7469\", \"z\": 0.0163, \"sigma*\": 133.0, \"e_sigma*\": 4.8, \"n_sigma*\": null, \"FWHM\": null, \"e_FWHM\": null, \"logL\": null, \"e_logL\": null, \"logM\": 6.49, \"E_logM\": 0.16, \"e_logM\": 0.27}, {\"Name\": \"POX 52\", \"z\": 0.0218, \"sigma*\": 36.0, \"e_sigma*\": 5.0, \"n_sigma*\": null, \"FWHM\": null, \"e_FWHM\": null, \"logL\": null, \"e_logL\": null, \"logM\": 5.2, \"E_logM\": null, \"e_logM\": 0.3}, {\"Name\": \"NGC 4395\", \"z\": 0.000947, \"sigma*\": 30.0, \"e_sigma*\": 5.0, \"n_sigma*\": null, \"FWHM\": null, \"e_FWHM\": null, \"logL\": null, \"e_logL\": null, \"logM\": 4.9, \"E_logM\": null, \"e_logM\": 0.4}]}}, {\"mode\": \"vega-lite\"});\n",
       "</script>"
      ],
      "text/plain": [
       "alt.Chart(...)"
      ]
     },
     "execution_count": 23,
     "metadata": {
      "tags": []
     },
     "output_type": "execute_result"
    }
   ],
   "source": [
    "# create an interval selection\n",
    "brush = alt.selection_interval()\n",
    "\n",
    "alt.Chart(df).mark_point(filled=True).encode(\n",
    "    alt.X('sigma*', scale=alt.Scale(type='log', base=10)),\n",
    "    alt.Y('logM'),\n",
    "    color = 'z',\n",
    "    tooltip = 'Name' \n",
    ").add_selection(\n",
    "    brush\n",
    ")"
   ]
  },
  {
   "cell_type": "markdown",
   "metadata": {
    "id": "fMEPVcd-QkVu"
   },
   "source": [
    "Using the click of the mouse it is possible to make a selection. However, we have not defined waht to do with the selected points. Now, we will give color only to the selected points:"
   ]
  },
  {
   "cell_type": "code",
   "execution_count": null,
   "metadata": {
    "colab": {
     "base_uri": "https://localhost:8080/",
     "height": 368
    },
    "executionInfo": {
     "elapsed": 871,
     "status": "ok",
     "timestamp": 1609124116870,
     "user": {
      "displayName": "Eduard Alexis Larranaga",
      "photoUrl": "https://lh3.googleusercontent.com/a-/AOh14GgCVABzEgj-rCdyxWa29RnA0kIYUCXAaVbnRYOEhQ=s64",
      "userId": "04402438389940282602"
     },
     "user_tz": 300
    },
    "id": "HtaRvHVyQkVw",
    "outputId": "3e2bb7ed-349e-43f7-b5db-aa5bab200e1b"
   },
   "outputs": [
    {
     "data": {
      "text/html": [
       "\n",
       "<div id=\"altair-viz-73ebf24f14624a96a539aef4b5e9c483\"></div>\n",
       "<script type=\"text/javascript\">\n",
       "  (function(spec, embedOpt){\n",
       "    let outputDiv = document.currentScript.previousElementSibling;\n",
       "    if (outputDiv.id !== \"altair-viz-73ebf24f14624a96a539aef4b5e9c483\") {\n",
       "      outputDiv = document.getElementById(\"altair-viz-73ebf24f14624a96a539aef4b5e9c483\");\n",
       "    }\n",
       "    const paths = {\n",
       "      \"vega\": \"https://cdn.jsdelivr.net/npm//vega@5?noext\",\n",
       "      \"vega-lib\": \"https://cdn.jsdelivr.net/npm//vega-lib?noext\",\n",
       "      \"vega-lite\": \"https://cdn.jsdelivr.net/npm//vega-lite@4.8.1?noext\",\n",
       "      \"vega-embed\": \"https://cdn.jsdelivr.net/npm//vega-embed@6?noext\",\n",
       "    };\n",
       "\n",
       "    function loadScript(lib) {\n",
       "      return new Promise(function(resolve, reject) {\n",
       "        var s = document.createElement('script');\n",
       "        s.src = paths[lib];\n",
       "        s.async = true;\n",
       "        s.onload = () => resolve(paths[lib]);\n",
       "        s.onerror = () => reject(`Error loading script: ${paths[lib]}`);\n",
       "        document.getElementsByTagName(\"head\")[0].appendChild(s);\n",
       "      });\n",
       "    }\n",
       "\n",
       "    function showError(err) {\n",
       "      outputDiv.innerHTML = `<div class=\"error\" style=\"color:red;\">${err}</div>`;\n",
       "      throw err;\n",
       "    }\n",
       "\n",
       "    function displayChart(vegaEmbed) {\n",
       "      vegaEmbed(outputDiv, spec, embedOpt)\n",
       "        .catch(err => showError(`Javascript Error: ${err.message}<br>This usually means there's a typo in your chart specification. See the javascript console for the full traceback.`));\n",
       "    }\n",
       "\n",
       "    if(typeof define === \"function\" && define.amd) {\n",
       "      requirejs.config({paths});\n",
       "      require([\"vega-embed\"], displayChart, err => showError(`Error loading script: ${err.message}`));\n",
       "    } else if (typeof vegaEmbed === \"function\") {\n",
       "      displayChart(vegaEmbed);\n",
       "    } else {\n",
       "      loadScript(\"vega\")\n",
       "        .then(() => loadScript(\"vega-lite\"))\n",
       "        .then(() => loadScript(\"vega-embed\"))\n",
       "        .catch(showError)\n",
       "        .then(() => displayChart(vegaEmbed));\n",
       "    }\n",
       "  })({\"config\": {\"view\": {\"continuousWidth\": 400, \"continuousHeight\": 300}}, \"data\": {\"name\": \"data-54b58a4aa74e295879badff738f3e9c4\"}, \"mark\": {\"type\": \"point\", \"filled\": true}, \"encoding\": {\"color\": {\"condition\": {\"type\": \"quantitative\", \"field\": \"z\", \"selection\": \"selector002\"}, \"value\": \"lightgray\"}, \"tooltip\": {\"type\": \"nominal\", \"field\": \"Name\"}, \"x\": {\"type\": \"quantitative\", \"field\": \"sigma*\", \"scale\": {\"base\": 10, \"type\": \"log\"}}, \"y\": {\"type\": \"quantitative\", \"field\": \"logM\"}}, \"selection\": {\"selector002\": {\"type\": \"interval\"}}, \"$schema\": \"https://vega.github.io/schema/vega-lite/v4.8.1.json\", \"datasets\": {\"data-54b58a4aa74e295879badff738f3e9c4\": [{\"Name\": \"SDSS J000805.62+145023.4\", \"z\": 0.0454, \"sigma*\": 140.0, \"e_sigma*\": 27.0, \"n_sigma*\": null, \"FWHM\": 7610.0, \"e_FWHM\": 380.0, \"logL\": 41.13, \"e_logL\": 0.04, \"logM\": 7.7, \"E_logM\": null, \"e_logM\": 0.1}, {\"Name\": \"SDSS J004236.86-104921.8\", \"z\": 0.0419, \"sigma*\": 78.4, \"e_sigma*\": 10.0, \"n_sigma*\": null, \"FWHM\": 1960.0, \"e_FWHM\": 97.0, \"logL\": 41.58, \"e_logL\": 0.14, \"logM\": 6.7, \"E_logM\": null, \"e_logM\": 0.1}, {\"Name\": \"SDSS J011703.58+000027.3\", \"z\": 0.0456, \"sigma*\": 98.8, \"e_sigma*\": 16.0, \"n_sigma*\": null, \"FWHM\": 2270.0, \"e_FWHM\": 110.0, \"logL\": 41.45, \"e_logL\": 0.08, \"logM\": 6.8, \"E_logM\": null, \"e_logM\": 0.1}, {\"Name\": \"SDSS J020459.25-080816.0\", \"z\": 0.0772, \"sigma*\": 121.0, \"e_sigma*\": 9.4, \"n_sigma*\": \"a\", \"FWHM\": 3720.0, \"e_FWHM\": 180.0, \"logL\": 41.13, \"e_logL\": 0.05, \"logM\": 7.0, \"E_logM\": null, \"e_logM\": 0.1}, {\"Name\": \"SDSS J020615.99-001729.1\", \"z\": 0.0426, \"sigma*\": 216.0, \"e_sigma*\": 30.0, \"n_sigma*\": null, \"FWHM\": 3860.0, \"e_FWHM\": 190.0, \"logL\": 41.91, \"e_logL\": 0.07, \"logM\": 7.5, \"E_logM\": null, \"e_logM\": 0.1}, {\"Name\": \"SDSS J021011.49-090335.5\", \"z\": 0.0414, \"sigma*\": 122.0, \"e_sigma*\": 12.0, \"n_sigma*\": \"a\", \"FWHM\": 2450.0, \"e_FWHM\": 120.0, \"logL\": 41.24, \"e_logL\": 0.07, \"logM\": 6.7, \"E_logM\": null, \"e_logM\": 0.1}, {\"Name\": \"SDSS J021257.59+140610.1\", \"z\": 0.0618, \"sigma*\": 174.0, \"e_sigma*\": 12.0, \"n_sigma*\": \"a\", \"FWHM\": 3080.0, \"e_FWHM\": 150.0, \"logL\": 41.58, \"e_logL\": 0.06, \"logM\": 7.1, \"E_logM\": null, \"e_logM\": 0.1}, {\"Name\": \"SDSS J033013.26-053236.0\", \"z\": 0.0131, \"sigma*\": 99.2, \"e_sigma*\": 11.0, \"n_sigma*\": null, \"FWHM\": 5160.0, \"e_FWHM\": 250.0, \"logL\": 40.45, \"e_logL\": 0.06, \"logM\": 7.0, \"E_logM\": null, \"e_logM\": 0.1}, {\"Name\": \"SDSS J075057.25+353037.5\", \"z\": 0.17600000000000002, \"sigma*\": 154.0, \"e_sigma*\": 14.0, \"n_sigma*\": \"a\", \"FWHM\": 2970.0, \"e_FWHM\": 200.0, \"logL\": 41.63, \"e_logL\": 0.03, \"logM\": 7.2, \"E_logM\": null, \"e_logM\": 0.1}, {\"Name\": \"SDSS J080243.39+310403.3\", \"z\": 0.0409, \"sigma*\": 151.0, \"e_sigma*\": 17.0, \"n_sigma*\": null, \"FWHM\": 5360.0, \"e_FWHM\": 260.0, \"logL\": 41.67, \"e_logL\": 0.07, \"logM\": 7.6, \"E_logM\": null, \"e_logM\": 0.1}, {\"Name\": \"SDSS J080538.66+261005.4\", \"z\": 0.017, \"sigma*\": 100.0, \"e_sigma*\": 14.0, \"n_sigma*\": null, \"FWHM\": 3110.0, \"e_FWHM\": 150.0, \"logL\": 40.14, \"e_logL\": 0.04, \"logM\": 6.3, \"E_logM\": null, \"e_logM\": 0.2}, {\"Name\": \"SDSS J082510.23+375919.7\", \"z\": 0.0214, \"sigma*\": 98.7, \"e_sigma*\": 12.0, \"n_sigma*\": null, \"FWHM\": 1830.0, \"e_FWHM\": 91.0, \"logL\": 40.42, \"e_logL\": 0.04, \"logM\": 6.0, \"E_logM\": null, \"e_logM\": 0.1}, {\"Name\": \"SDSS J083202.16+461425.7\", \"z\": 0.0459, \"sigma*\": 104.0, \"e_sigma*\": 13.0, \"n_sigma*\": null, \"FWHM\": 1450.0, \"e_FWHM\": 72.0, \"logL\": 41.17, \"e_logL\": 0.08, \"logM\": 6.2, \"E_logM\": null, \"e_logM\": 0.1}, {\"Name\": \"SDSS J083949.64+484701.4\", \"z\": 0.0394, \"sigma*\": 133.0, \"e_sigma*\": 12.0, \"n_sigma*\": null, \"FWHM\": 1480.0, \"e_FWHM\": 73.0, \"logL\": 41.31, \"e_logL\": 0.08, \"logM\": 6.3, \"E_logM\": null, \"e_logM\": 0.2}, {\"Name\": \"SDSS J085554.27+005110.9\", \"z\": 0.0524, \"sigma*\": 118.0, \"e_sigma*\": 11.0, \"n_sigma*\": \"a\", \"FWHM\": 2910.0, \"e_FWHM\": 140.0, \"logL\": 41.27, \"e_logL\": 0.06, \"logM\": 6.9, \"E_logM\": null, \"e_logM\": 0.1}, {\"Name\": \"SDSS J092438.88+560746.9\", \"z\": 0.025, \"sigma*\": 135.0, \"e_sigma*\": 10.0, \"n_sigma*\": null, \"FWHM\": 1900.0, \"e_FWHM\": 94.0, \"logL\": 40.72, \"e_logL\": 0.07, \"logM\": 6.2, \"E_logM\": null, \"e_logM\": 0.4}, {\"Name\": \"SDSS J093259.60+040506.0\", \"z\": 0.059000000000000004, \"sigma*\": 70.5, \"e_sigma*\": 6.7, \"n_sigma*\": \"a\", \"FWHM\": 3550.0, \"e_FWHM\": 170.0, \"logL\": 41.14, \"e_logL\": 0.05, \"logM\": 7.0, \"E_logM\": null, \"e_logM\": 0.1}, {\"Name\": \"SDSS J093812.26+074340.0\", \"z\": 0.0219, \"sigma*\": 119.0, \"e_sigma*\": 8.0, \"n_sigma*\": null, \"FWHM\": 3640.0, \"e_FWHM\": 180.0, \"logL\": 40.8, \"e_logL\": 0.05, \"logM\": 6.8, \"E_logM\": null, \"e_logM\": 0.1}, {\"Name\": \"SDSS J094838.42+403043.7\", \"z\": 0.047, \"sigma*\": 91.4, \"e_sigma*\": 16.0, \"n_sigma*\": null, \"FWHM\": 3020.0, \"e_FWHM\": 150.0, \"logL\": 41.46, \"e_logL\": 0.07, \"logM\": 7.0, \"E_logM\": null, \"e_logM\": 0.1}, {\"Name\": \"SDSS J101912.57+635802.7\", \"z\": 0.0414, \"sigma*\": 239.0, \"e_sigma*\": 13.0, \"n_sigma*\": null, \"FWHM\": 3630.0, \"e_FWHM\": 180.0, \"logL\": 41.74, \"e_logL\": 0.08, \"logM\": 7.4, \"E_logM\": null, \"e_logM\": 0.1}, {\"Name\": \"SDSS J102044.43+013048.4\", \"z\": 0.0962, \"sigma*\": 103.0, \"e_sigma*\": 8.8, \"n_sigma*\": \"a\", \"FWHM\": 5200.0, \"e_FWHM\": 250.0, \"logL\": 41.51, \"e_logL\": 0.04, \"logM\": 7.6, \"E_logM\": null, \"e_logM\": 0.1}, {\"Name\": \"SDSS J110640.20+051905.6\", \"z\": 0.0913, \"sigma*\": 140.0, \"e_sigma*\": 15.0, \"n_sigma*\": \"a\", \"FWHM\": 5830.0, \"e_FWHM\": 290.0, \"logL\": 41.65, \"e_logL\": 0.04, \"logM\": 7.7, \"E_logM\": null, \"e_logM\": 0.1}, {\"Name\": \"SDSS J112536.16+542257.1\", \"z\": 0.0206, \"sigma*\": 124.0, \"e_sigma*\": 12.0, \"n_sigma*\": null, \"FWHM\": 2950.0, \"e_FWHM\": 140.0, \"logL\": 41.17, \"e_logL\": 0.08, \"logM\": 6.8, \"E_logM\": null, \"e_logM\": 0.1}, {\"Name\": \"SDSS J112841.00+575006.5\", \"z\": 0.0513, \"sigma*\": 159.0, \"e_sigma*\": 18.0, \"n_sigma*\": \"a\", \"FWHM\": 2660.0, \"e_FWHM\": 130.0, \"logL\": 41.66, \"e_logL\": 0.09, \"logM\": 7.0, \"E_logM\": null, \"e_logM\": 0.1}, {\"Name\": \"SDSS J120257.81+045045.0\", \"z\": 0.0207, \"sigma*\": 102.0, \"e_sigma*\": 20.0, \"n_sigma*\": null, \"FWHM\": 2250.0, \"e_FWHM\": 110.0, \"logL\": 40.1, \"e_logL\": 0.06, \"logM\": 6.0, \"E_logM\": null, \"e_logM\": 0.1}, {\"Name\": \"SDSS J120556.01+495956.1\", \"z\": 0.0631, \"sigma*\": 107.0, \"e_sigma*\": 11.0, \"n_sigma*\": \"a\", \"FWHM\": 5610.0, \"e_FWHM\": 450.0, \"logL\": 41.57, \"e_logL\": 0.04, \"logM\": 7.7, \"E_logM\": null, \"e_logM\": 0.1}, {\"Name\": \"SDSS J121607.09+504930.0\", \"z\": 0.0308, \"sigma*\": 138.0, \"e_sigma*\": 13.0, \"n_sigma*\": null, \"FWHM\": 5580.0, \"e_FWHM\": 270.0, \"logL\": 41.3, \"e_logL\": 0.06, \"logM\": 7.5, \"E_logM\": null, \"e_logM\": 0.3}, {\"Name\": \"SDSS J121754.97+583935.6\", \"z\": 0.0233, \"sigma*\": 85.6, \"e_sigma*\": 14.0, \"n_sigma*\": null, \"FWHM\": 1970.0, \"e_FWHM\": 98.0, \"logL\": 40.92, \"e_logL\": 0.08, \"logM\": 6.4, \"E_logM\": null, \"e_logM\": 0.1}, {\"Name\": \"SDSS J122324.13+024044.4\", \"z\": 0.0236, \"sigma*\": 78.1, \"e_sigma*\": 15.0, \"n_sigma*\": null, \"FWHM\": 3880.0, \"e_FWHM\": 910.0, \"logL\": 41.62, \"e_logL\": 0.08, \"logM\": 7.3, \"E_logM\": null, \"e_logM\": 0.2}, {\"Name\": \"SDSS J123237.48+662452.3\", \"z\": 0.0468, \"sigma*\": 124.0, \"e_sigma*\": 9.0, \"n_sigma*\": null, \"FWHM\": 2620.0, \"e_FWHM\": 130.0, \"logL\": 41.86, \"e_logL\": 0.19, \"logM\": 7.1, \"E_logM\": null, \"e_logM\": 0.2}, {\"Name\": \"SDSS J130620.97+531823.1\", \"z\": 0.0237, \"sigma*\": 90.7, \"e_sigma*\": 11.0, \"n_sigma*\": null, \"FWHM\": 7620.0, \"e_FWHM\": 380.0, \"logL\": 40.58, \"e_logL\": 0.04, \"logM\": 7.3, \"E_logM\": null, \"e_logM\": 0.1}, {\"Name\": \"SDSS J131305.80+012755.9\", \"z\": 0.0294, \"sigma*\": 95.4, \"e_sigma*\": 13.0, \"n_sigma*\": null, \"FWHM\": 1590.0, \"e_FWHM\": 79.0, \"logL\": 40.62, \"e_logL\": 0.07, \"logM\": 6.0, \"E_logM\": null, \"e_logM\": 0.1}, {\"Name\": \"SDSS J132249.21+545528.2\", \"z\": 0.0653, \"sigma*\": 130.0, \"e_sigma*\": 13.0, \"n_sigma*\": \"a\", \"FWHM\": 4050.0, \"e_FWHM\": 200.0, \"logL\": 41.81, \"e_logL\": 0.07, \"logM\": 7.5, \"E_logM\": null, \"e_logM\": 0.1}, {\"Name\": \"SDSS J132340.31-012749.2\", \"z\": 0.0767, \"sigma*\": 114.0, \"e_sigma*\": 16.0, \"n_sigma*\": \"a\", \"FWHM\": 1910.0, \"e_FWHM\": 95.0, \"logL\": 41.55, \"e_logL\": 0.09, \"logM\": 6.7, \"E_logM\": null, \"e_logM\": 0.1}, {\"Name\": \"SDSS J134952.84+020445.1\", \"z\": 0.0328, \"sigma*\": 138.0, \"e_sigma*\": 13.0, \"n_sigma*\": null, \"FWHM\": 2590.0, \"e_FWHM\": 120.0, \"logL\": 41.62, \"e_logL\": 0.07, \"logM\": 7.0, \"E_logM\": null, \"e_logM\": 0.1}, {\"Name\": \"SDSS J140018.42+050242.2\", \"z\": 0.0342, \"sigma*\": 145.0, \"e_sigma*\": 14.0, \"n_sigma*\": null, \"FWHM\": 3340.0, \"e_FWHM\": 160.0, \"logL\": 41.23, \"e_logL\": 0.05, \"logM\": 7.1, \"E_logM\": null, \"e_logM\": 0.5}, {\"Name\": \"SDSS J140514.87-025901.2\", \"z\": 0.0542, \"sigma*\": 148.0, \"e_sigma*\": 15.0, \"n_sigma*\": \"a\", \"FWHM\": 2990.0, \"e_FWHM\": 140.0, \"logL\": 41.29, \"e_logL\": 0.06, \"logM\": 6.9, \"E_logM\": null, \"e_logM\": 0.3}, {\"Name\": \"SDSS J141630.81+013708.0\", \"z\": 0.0538, \"sigma*\": 121.0, \"e_sigma*\": 12.0, \"n_sigma*\": \"a\", \"FWHM\": 3180.0, \"e_FWHM\": 150.0, \"logL\": 41.1, \"e_logL\": 0.04, \"logM\": 6.9, \"E_logM\": null, \"e_logM\": 0.1}, {\"Name\": \"SDSS J143452.45+483942.7\", \"z\": 0.0365, \"sigma*\": 138.0, \"e_sigma*\": 15.0, \"n_sigma*\": null, \"FWHM\": 3210.0, \"e_FWHM\": 160.0, \"logL\": 41.84, \"e_logL\": 0.1, \"logM\": 7.3, \"E_logM\": null, \"e_logM\": 0.1}, {\"Name\": \"SDSS J144629.97+500130.5\", \"z\": 0.0427, \"sigma*\": 86.8, \"e_sigma*\": 19.0, \"n_sigma*\": null, \"FWHM\": 6450.0, \"e_FWHM\": 320.0, \"logL\": 40.73, \"e_logL\": 0.03, \"logM\": 7.3, \"E_logM\": null, \"e_logM\": 0.2}, {\"Name\": \"SDSS J145706.80+494008.4\", \"z\": 0.0134, \"sigma*\": 108.0, \"e_sigma*\": 11.0, \"n_sigma*\": null, \"FWHM\": 2270.0, \"e_FWHM\": 110.0, \"logL\": 40.46, \"e_logL\": 0.1, \"logM\": 6.3, \"E_logM\": null, \"e_logM\": 0.1}, {\"Name\": \"SDSS J145901.35+611353.5\", \"z\": 0.0388, \"sigma*\": 113.0, \"e_sigma*\": 13.0, \"n_sigma*\": null, \"FWHM\": 4140.0, \"e_FWHM\": 200.0, \"logL\": 41.18, \"e_logL\": 0.06, \"logM\": 7.2, \"E_logM\": null, \"e_logM\": 0.1}, {\"Name\": \"SDSS J150556.55+034226.3\", \"z\": 0.0359, \"sigma*\": 199.0, \"e_sigma*\": 18.0, \"n_sigma*\": \"a\", \"FWHM\": 4370.0, \"e_FWHM\": 210.0, \"logL\": 42.09, \"e_logL\": 0.1, \"logM\": 7.7, \"E_logM\": null, \"e_logM\": 0.1}, {\"Name\": \"SDSS J150745.00+512710.2\", \"z\": 0.0458, \"sigma*\": 139.0, \"e_sigma*\": 17.0, \"n_sigma*\": null, \"FWHM\": 3430.0, \"e_FWHM\": 170.0, \"logL\": 41.4, \"e_logL\": 0.04, \"logM\": 7.1, \"E_logM\": null, \"e_logM\": 0.1}, {\"Name\": \"SDSS J150853.95-001148.9\", \"z\": 0.0542, \"sigma*\": 163.0, \"e_sigma*\": 15.0, \"n_sigma*\": \"a\", \"FWHM\": 6190.0, \"e_FWHM\": 610.0, \"logL\": 41.51, \"e_logL\": 0.04, \"logM\": 7.8, \"E_logM\": null, \"e_logM\": 0.1}, {\"Name\": \"SDSS J152515.18+601409.0\", \"z\": 0.0783, \"sigma*\": 104.0, \"e_sigma*\": 11.0, \"n_sigma*\": \"a\", \"FWHM\": 2590.0, \"e_FWHM\": 120.0, \"logL\": 41.41, \"e_logL\": 0.09, \"logM\": 6.9, \"E_logM\": null, \"e_logM\": 0.1}, {\"Name\": \"SDSS J155417.43+323837.8\", \"z\": 0.0483, \"sigma*\": 120.0, \"e_sigma*\": 13.0, \"n_sigma*\": \"a\", \"FWHM\": 4200.0, \"e_FWHM\": 210.0, \"logL\": 41.86, \"e_logL\": 0.08, \"logM\": 7.5, \"E_logM\": null, \"e_logM\": 0.1}, {\"Name\": \"SDSS J161156.31+521116.8\", \"z\": 0.040999999999999995, \"sigma*\": 116.0, \"e_sigma*\": 10.0, \"n_sigma*\": null, \"FWHM\": 3760.0, \"e_FWHM\": 180.0, \"logL\": 41.09, \"e_logL\": 0.04, \"logM\": 7.0, \"E_logM\": null, \"e_logM\": 0.3}, {\"Name\": \"SDSS J161951.31+405847.2\", \"z\": 0.0379, \"sigma*\": 89.1, \"e_sigma*\": 20.0, \"n_sigma*\": null, \"FWHM\": 1700.0, \"e_FWHM\": 85.0, \"logL\": 40.99, \"e_logL\": 0.07, \"logM\": 6.3, \"E_logM\": null, \"e_logM\": 0.1}, {\"Name\": \"SDSS J170328.96+614109.9\", \"z\": 0.0772, \"sigma*\": 123.0, \"e_sigma*\": 13.0, \"n_sigma*\": \"a\", \"FWHM\": 4300.0, \"e_FWHM\": 210.0, \"logL\": 41.92, \"e_logL\": 0.05, \"logM\": 7.6, \"E_logM\": null, \"e_logM\": 0.1}, {\"Name\": \"SDSS J171550.49+593548.7\", \"z\": 0.0657, \"sigma*\": 146.0, \"e_sigma*\": 13.0, \"n_sigma*\": \"a\", \"FWHM\": 3500.0, \"e_FWHM\": 170.0, \"logL\": 41.24, \"e_logL\": 0.05, \"logM\": 7.0, \"E_logM\": null, \"e_logM\": 0.1}, {\"Name\": \"SDSS J212401.90-002158.7\", \"z\": 0.0619, \"sigma*\": 110.0, \"e_sigma*\": 15.0, \"n_sigma*\": \"a\", \"FWHM\": 2620.0, \"e_FWHM\": 130.0, \"logL\": 41.41, \"e_logL\": 0.06, \"logM\": 6.9, \"E_logM\": null, \"e_logM\": 0.1}, {\"Name\": \"SDSS J222435.29-001103.8\", \"z\": 0.0581, \"sigma*\": 111.0, \"e_sigma*\": 19.0, \"n_sigma*\": \"a\", \"FWHM\": 2290.0, \"e_FWHM\": 1190.0, \"logL\": 41.83, \"e_logL\": 0.17, \"logM\": 7.0, \"E_logM\": null, \"e_logM\": 0.4}, {\"Name\": \"SDSS J223000.37-094622.1\", \"z\": 0.0727, \"sigma*\": 112.0, \"e_sigma*\": 13.0, \"n_sigma*\": \"a\", \"FWHM\": 3630.0, \"e_FWHM\": 180.0, \"logL\": 41.21, \"e_logL\": 0.04, \"logM\": 7.1, \"E_logM\": null, \"e_logM\": 0.1}, {\"Name\": \"SDSS J232721.96+152437.3\", \"z\": 0.0457, \"sigma*\": 193.0, \"e_sigma*\": 18.0, \"n_sigma*\": null, \"FWHM\": 7540.0, \"e_FWHM\": 750.0, \"logL\": 41.65, \"e_logL\": 0.06, \"logM\": 7.9, \"E_logM\": null, \"e_logM\": 0.1}, {\"Name\": \"SDSS J235128.78+155259.0\", \"z\": 0.0963, \"sigma*\": 193.0, \"e_sigma*\": 22.0, \"n_sigma*\": \"a\", \"FWHM\": 8240.0, \"e_FWHM\": 410.0, \"logL\": 41.87, \"e_logL\": 0.04, \"logM\": 8.2, \"E_logM\": null, \"e_logM\": 0.2}, {\"Name\": \"SDSS J010712.03+140844.9\", \"z\": 0.0768, \"sigma*\": 36.0, \"e_sigma*\": 6.0, \"n_sigma*\": \"b\", \"FWHM\": 880.0, \"e_FWHM\": 170.0, \"logL\": 42.57, \"e_logL\": 0.2, \"logM\": 5.8, \"E_logM\": null, \"e_logM\": 0.2}, {\"Name\": \"SDSS J024912.86-081525.6\", \"z\": 0.0294, \"sigma*\": 50.0, \"e_sigma*\": 4.0, \"n_sigma*\": \"b\", \"FWHM\": 840.0, \"e_FWHM\": 320.0, \"logL\": 41.93, \"e_logL\": 0.08, \"logM\": 5.1, \"E_logM\": null, \"e_logM\": 0.3}, {\"Name\": \"SDSS J032515.59+003408.4\", \"z\": 0.102, \"sigma*\": 55.0, \"e_sigma*\": 6.0, \"n_sigma*\": \"b\", \"FWHM\": 990.0, \"e_FWHM\": 49.0, \"logL\": 42.03, \"e_logL\": 0.12, \"logM\": 5.8, \"E_logM\": null, \"e_logM\": 0.1}, {\"Name\": \"SDSS J080907.58+441641.4\", \"z\": 0.0539, \"sigma*\": 65.0, \"e_sigma*\": 4.0, \"n_sigma*\": \"b\", \"FWHM\": 940.0, \"e_FWHM\": 180.0, \"logL\": 40.47, \"e_logL\": 0.04, \"logM\": 5.5, \"E_logM\": null, \"e_logM\": 0.8}, {\"Name\": \"SDSS J082912.67+500652.3\", \"z\": 0.0434, \"sigma*\": 60.0, \"e_sigma*\": 4.0, \"n_sigma*\": \"b\", \"FWHM\": 840.0, \"e_FWHM\": 41.0, \"logL\": 42.14, \"e_logL\": 0.06, \"logM\": 5.7, \"E_logM\": null, \"e_logM\": 0.1}, {\"Name\": \"SDSS J101108.40+002908.7\", \"z\": 0.1, \"sigma*\": 48.0, \"e_sigma*\": 7.0, \"n_sigma*\": \"b\", \"FWHM\": 1460.0, \"e_FWHM\": 72.0, \"logL\": 42.68, \"e_logL\": 0.19, \"logM\": 6.2, \"E_logM\": null, \"e_logM\": 0.3}, {\"Name\": \"SDSS J101627.32-000714.5\", \"z\": 0.0944, \"sigma*\": 39.0, \"e_sigma*\": 6.0, \"n_sigma*\": \"b\", \"FWHM\": 1520.0, \"e_FWHM\": 75.0, \"logL\": 42.57, \"e_logL\": 0.17, \"logM\": 6.1, \"E_logM\": null, \"e_logM\": 0.2}, {\"Name\": \"SDSS J124035.81-002919.4\", \"z\": 0.0809, \"sigma*\": 49.0, \"e_sigma*\": 7.0, \"n_sigma*\": \"b\", \"FWHM\": 1720.0, \"e_FWHM\": 85.0, \"logL\": 42.35, \"e_logL\": 0.11, \"logM\": 6.6, \"E_logM\": null, \"e_logM\": 0.6}, {\"Name\": \"SDSS J125055.28-015556.6\", \"z\": 0.0814, \"sigma*\": 64.0, \"e_sigma*\": 6.0, \"n_sigma*\": \"b\", \"FWHM\": 1980.0, \"e_FWHM\": 99.0, \"logL\": 42.75, \"e_logL\": 0.14, \"logM\": 6.5, \"E_logM\": null, \"e_logM\": 0.1}, {\"Name\": \"SDSS J143450.62+033842.5\", \"z\": 0.0282, \"sigma*\": 48.0, \"e_sigma*\": 7.0, \"n_sigma*\": \"b\", \"FWHM\": 1480.0, \"e_FWHM\": 73.0, \"logL\": 41.87, \"e_logL\": 0.16, \"logM\": 5.6, \"E_logM\": null, \"e_logM\": 0.1}, {\"Name\": \"SDSS J170246.09+602818.9\", \"z\": 0.0689, \"sigma*\": 69.0, \"e_sigma*\": 6.0, \"n_sigma*\": \"b\", \"FWHM\": 3270.0, \"e_FWHM\": 160.0, \"logL\": 42.67, \"e_logL\": 0.16, \"logM\": 6.9, \"E_logM\": null, \"e_logM\": 0.2}, {\"Name\": \"SDSS J172759.15+542147.0\", \"z\": 0.0995, \"sigma*\": 58.0, \"e_sigma*\": 7.0, \"n_sigma*\": \"b\", \"FWHM\": 810.0, \"e_FWHM\": 400.0, \"logL\": 42.19, \"e_logL\": 0.09, \"logM\": 5.6, \"E_logM\": null, \"e_logM\": 0.5}, {\"Name\": \"SDSS J215658.30+110343.1\", \"z\": 0.10800000000000001, \"sigma*\": 81.0, \"e_sigma*\": 8.0, \"n_sigma*\": \"b\", \"FWHM\": 1430.0, \"e_FWHM\": 280.0, \"logL\": 41.22, \"e_logL\": 0.03, \"logM\": 6.3, \"E_logM\": null, \"e_logM\": 0.8}, {\"Name\": \"SDSS J232159.06+000738.8\", \"z\": 0.184, \"sigma*\": 81.0, \"e_sigma*\": 9.0, \"n_sigma*\": \"b\", \"FWHM\": 2520.0, \"e_FWHM\": 120.0, \"logL\": 42.96, \"e_logL\": 0.1, \"logM\": 6.7, \"E_logM\": null, \"e_logM\": 0.2}, {\"Name\": \"SDSS J233837.10-002810.3\", \"z\": 0.0356, \"sigma*\": 58.0, \"e_sigma*\": 4.0, \"n_sigma*\": \"b\", \"FWHM\": 1740.0, \"e_FWHM\": 86.0, \"logL\": 43.61, \"e_logL\": 0.13, \"logM\": 5.8, \"E_logM\": null, \"e_logM\": 0.1}, {\"Name\": \"3C 120\", \"z\": 0.033, \"sigma*\": 162.0, \"e_sigma*\": 24.0, \"n_sigma*\": \"b\", \"FWHM\": null, \"e_FWHM\": null, \"logL\": null, \"e_logL\": null, \"logM\": 7.43, \"E_logM\": 0.2, \"e_logM\": 0.25}, {\"Name\": \"3C 390.3\", \"z\": 0.0561, \"sigma*\": 268.0, \"e_sigma*\": 15.0, \"n_sigma*\": null, \"FWHM\": null, \"e_FWHM\": null, \"logL\": null, \"e_logL\": null, \"logM\": 8.52, \"E_logM\": 0.09, \"e_logM\": 0.12}, {\"Name\": \"Akn 120\", \"z\": 0.0323, \"sigma*\": 224.0, \"e_sigma*\": 15.0, \"n_sigma*\": null, \"FWHM\": null, \"e_FWHM\": null, \"logL\": null, \"e_logL\": null, \"logM\": 8.2, \"E_logM\": 0.05, \"e_logM\": 0.07}, {\"Name\": \"Mrk 79\", \"z\": 0.0222, \"sigma*\": 130.0, \"e_sigma*\": 10.0, \"n_sigma*\": null, \"FWHM\": null, \"e_FWHM\": null, \"logL\": null, \"e_logL\": null, \"logM\": 7.67, \"E_logM\": 0.11, \"e_logM\": 0.15}, {\"Name\": \"Mrk 110\", \"z\": 0.0353, \"sigma*\": 87.1, \"e_sigma*\": 12.0, \"n_sigma*\": null, \"FWHM\": null, \"e_FWHM\": null, \"logL\": null, \"e_logL\": null, \"logM\": 6.97, \"E_logM\": 0.11, \"e_logM\": 0.15}, {\"Name\": \"Mrk 279\", \"z\": 0.0305, \"sigma*\": 197.0, \"e_sigma*\": 12.0, \"n_sigma*\": null, \"FWHM\": null, \"e_FWHM\": null, \"logL\": null, \"e_logL\": null, \"logM\": 7.45, \"E_logM\": 0.12, \"e_logM\": 0.16}, {\"Name\": \"Mrk 590\", \"z\": 0.0264, \"sigma*\": 189.0, \"e_sigma*\": 5.7, \"n_sigma*\": null, \"FWHM\": null, \"e_FWHM\": null, \"logL\": null, \"e_logL\": null, \"logM\": 7.2, \"E_logM\": 0.11, \"e_logM\": 0.15}, {\"Name\": \"Mrk 817\", \"z\": 0.0315, \"sigma*\": 127.0, \"e_sigma*\": 12.0, \"n_sigma*\": null, \"FWHM\": null, \"e_FWHM\": null, \"logL\": null, \"e_logL\": null, \"logM\": 7.62, \"E_logM\": 0.08, \"e_logM\": 0.1}, {\"Name\": \"NGC 3227\", \"z\": 0.00386, \"sigma*\": 135.0, \"e_sigma*\": 3.8, \"n_sigma*\": null, \"FWHM\": null, \"e_FWHM\": null, \"logL\": null, \"e_logL\": null, \"logM\": 7.47, \"E_logM\": 0.24, \"e_logM\": 1.06}, {\"Name\": \"NGC 3516\", \"z\": 0.00884, \"sigma*\": 181.0, \"e_sigma*\": 4.9, \"n_sigma*\": \"b\", \"FWHM\": null, \"e_FWHM\": null, \"logL\": null, \"e_logL\": null, \"logM\": 7.04, \"E_logM\": 0.31, \"e_logM\": 0.39}, {\"Name\": \"NGC 3783\", \"z\": 0.009729999999999999, \"sigma*\": 95.0, \"e_sigma*\": 10.0, \"n_sigma*\": null, \"FWHM\": null, \"e_FWHM\": null, \"logL\": null, \"e_logL\": null, \"logM\": 7.16, \"E_logM\": 0.17, \"e_logM\": 0.23}, {\"Name\": \"NGC 4051\", \"z\": 0.00234, \"sigma*\": 88.9, \"e_sigma*\": 2.9, \"n_sigma*\": null, \"FWHM\": null, \"e_FWHM\": null, \"logL\": null, \"e_logL\": null, \"logM\": 5.99, \"E_logM\": 0.17, \"e_logM\": 0.2}, {\"Name\": \"NGC 4151\", \"z\": 0.0033200000000000005, \"sigma*\": 96.8, \"e_sigma*\": 2.9, \"n_sigma*\": null, \"FWHM\": null, \"e_FWHM\": null, \"logL\": null, \"e_logL\": null, \"logM\": 6.91, \"E_logM\": 0.17, \"e_logM\": 0.29}, {\"Name\": \"NGC 5548\", \"z\": 0.0172, \"sigma*\": 198.0, \"e_sigma*\": 11.0, \"n_sigma*\": null, \"FWHM\": null, \"e_FWHM\": null, \"logL\": null, \"e_logL\": null, \"logM\": 7.81, \"E_logM\": 0.02, \"e_logM\": 0.02}, {\"Name\": \"NGC 7469\", \"z\": 0.0163, \"sigma*\": 133.0, \"e_sigma*\": 4.8, \"n_sigma*\": null, \"FWHM\": null, \"e_FWHM\": null, \"logL\": null, \"e_logL\": null, \"logM\": 6.49, \"E_logM\": 0.16, \"e_logM\": 0.27}, {\"Name\": \"POX 52\", \"z\": 0.0218, \"sigma*\": 36.0, \"e_sigma*\": 5.0, \"n_sigma*\": null, \"FWHM\": null, \"e_FWHM\": null, \"logL\": null, \"e_logL\": null, \"logM\": 5.2, \"E_logM\": null, \"e_logM\": 0.3}, {\"Name\": \"NGC 4395\", \"z\": 0.000947, \"sigma*\": 30.0, \"e_sigma*\": 5.0, \"n_sigma*\": null, \"FWHM\": null, \"e_FWHM\": null, \"logL\": null, \"e_logL\": null, \"logM\": 4.9, \"E_logM\": null, \"e_logM\": 0.4}]}}, {\"mode\": \"vega-lite\"});\n",
       "</script>"
      ],
      "text/plain": [
       "alt.Chart(...)"
      ]
     },
     "execution_count": 24,
     "metadata": {
      "tags": []
     },
     "output_type": "execute_result"
    }
   ],
   "source": [
    "brush = alt.selection_interval()\n",
    "\n",
    "alt.Chart(df).mark_point(filled=True).encode(\n",
    "    alt.X('sigma*', scale=alt.Scale(type='log', base=10)),\n",
    "    alt.Y('logM'),\n",
    "    color = alt.condition(brush,'z', alt.value('lightgray')),\n",
    "    tooltip = 'Name' \n",
    ").add_selection(\n",
    "    brush\n",
    ")"
   ]
  },
  {
   "cell_type": "markdown",
   "metadata": {
    "id": "MnBKiSZdQkVx"
   },
   "source": [
    "With just one modification, we change the selection tool:"
   ]
  },
  {
   "cell_type": "code",
   "execution_count": null,
   "metadata": {
    "colab": {
     "base_uri": "https://localhost:8080/",
     "height": 368
    },
    "executionInfo": {
     "elapsed": 1089,
     "status": "ok",
     "timestamp": 1609124127082,
     "user": {
      "displayName": "Eduard Alexis Larranaga",
      "photoUrl": "https://lh3.googleusercontent.com/a-/AOh14GgCVABzEgj-rCdyxWa29RnA0kIYUCXAaVbnRYOEhQ=s64",
      "userId": "04402438389940282602"
     },
     "user_tz": 300
    },
    "id": "hrDs0NM2QkVy",
    "outputId": "92b3049a-6a26-4236-c056-04afb9ee72c3"
   },
   "outputs": [
    {
     "data": {
      "text/html": [
       "\n",
       "<div id=\"altair-viz-ff0eec8683fb4ab0b96dc576c649b6d7\"></div>\n",
       "<script type=\"text/javascript\">\n",
       "  (function(spec, embedOpt){\n",
       "    let outputDiv = document.currentScript.previousElementSibling;\n",
       "    if (outputDiv.id !== \"altair-viz-ff0eec8683fb4ab0b96dc576c649b6d7\") {\n",
       "      outputDiv = document.getElementById(\"altair-viz-ff0eec8683fb4ab0b96dc576c649b6d7\");\n",
       "    }\n",
       "    const paths = {\n",
       "      \"vega\": \"https://cdn.jsdelivr.net/npm//vega@5?noext\",\n",
       "      \"vega-lib\": \"https://cdn.jsdelivr.net/npm//vega-lib?noext\",\n",
       "      \"vega-lite\": \"https://cdn.jsdelivr.net/npm//vega-lite@4.8.1?noext\",\n",
       "      \"vega-embed\": \"https://cdn.jsdelivr.net/npm//vega-embed@6?noext\",\n",
       "    };\n",
       "\n",
       "    function loadScript(lib) {\n",
       "      return new Promise(function(resolve, reject) {\n",
       "        var s = document.createElement('script');\n",
       "        s.src = paths[lib];\n",
       "        s.async = true;\n",
       "        s.onload = () => resolve(paths[lib]);\n",
       "        s.onerror = () => reject(`Error loading script: ${paths[lib]}`);\n",
       "        document.getElementsByTagName(\"head\")[0].appendChild(s);\n",
       "      });\n",
       "    }\n",
       "\n",
       "    function showError(err) {\n",
       "      outputDiv.innerHTML = `<div class=\"error\" style=\"color:red;\">${err}</div>`;\n",
       "      throw err;\n",
       "    }\n",
       "\n",
       "    function displayChart(vegaEmbed) {\n",
       "      vegaEmbed(outputDiv, spec, embedOpt)\n",
       "        .catch(err => showError(`Javascript Error: ${err.message}<br>This usually means there's a typo in your chart specification. See the javascript console for the full traceback.`));\n",
       "    }\n",
       "\n",
       "    if(typeof define === \"function\" && define.amd) {\n",
       "      requirejs.config({paths});\n",
       "      require([\"vega-embed\"], displayChart, err => showError(`Error loading script: ${err.message}`));\n",
       "    } else if (typeof vegaEmbed === \"function\") {\n",
       "      displayChart(vegaEmbed);\n",
       "    } else {\n",
       "      loadScript(\"vega\")\n",
       "        .then(() => loadScript(\"vega-lite\"))\n",
       "        .then(() => loadScript(\"vega-embed\"))\n",
       "        .catch(showError)\n",
       "        .then(() => displayChart(vegaEmbed));\n",
       "    }\n",
       "  })({\"config\": {\"view\": {\"continuousWidth\": 400, \"continuousHeight\": 300}}, \"data\": {\"name\": \"data-54b58a4aa74e295879badff738f3e9c4\"}, \"mark\": {\"type\": \"point\", \"filled\": true}, \"encoding\": {\"color\": {\"condition\": {\"type\": \"quantitative\", \"field\": \"z\", \"selection\": \"selector003\"}, \"value\": \"lightgray\"}, \"tooltip\": {\"type\": \"nominal\", \"field\": \"Name\"}, \"x\": {\"type\": \"quantitative\", \"field\": \"sigma*\", \"scale\": {\"base\": 10, \"type\": \"log\"}}, \"y\": {\"type\": \"quantitative\", \"field\": \"logM\"}}, \"selection\": {\"selector003\": {\"type\": \"interval\", \"encodings\": [\"x\"]}}, \"$schema\": \"https://vega.github.io/schema/vega-lite/v4.8.1.json\", \"datasets\": {\"data-54b58a4aa74e295879badff738f3e9c4\": [{\"Name\": \"SDSS J000805.62+145023.4\", \"z\": 0.0454, \"sigma*\": 140.0, \"e_sigma*\": 27.0, \"n_sigma*\": null, \"FWHM\": 7610.0, \"e_FWHM\": 380.0, \"logL\": 41.13, \"e_logL\": 0.04, \"logM\": 7.7, \"E_logM\": null, \"e_logM\": 0.1}, {\"Name\": \"SDSS J004236.86-104921.8\", \"z\": 0.0419, \"sigma*\": 78.4, \"e_sigma*\": 10.0, \"n_sigma*\": null, \"FWHM\": 1960.0, \"e_FWHM\": 97.0, \"logL\": 41.58, \"e_logL\": 0.14, \"logM\": 6.7, \"E_logM\": null, \"e_logM\": 0.1}, {\"Name\": \"SDSS J011703.58+000027.3\", \"z\": 0.0456, \"sigma*\": 98.8, \"e_sigma*\": 16.0, \"n_sigma*\": null, \"FWHM\": 2270.0, \"e_FWHM\": 110.0, \"logL\": 41.45, \"e_logL\": 0.08, \"logM\": 6.8, \"E_logM\": null, \"e_logM\": 0.1}, {\"Name\": \"SDSS J020459.25-080816.0\", \"z\": 0.0772, \"sigma*\": 121.0, \"e_sigma*\": 9.4, \"n_sigma*\": \"a\", \"FWHM\": 3720.0, \"e_FWHM\": 180.0, \"logL\": 41.13, \"e_logL\": 0.05, \"logM\": 7.0, \"E_logM\": null, \"e_logM\": 0.1}, {\"Name\": \"SDSS J020615.99-001729.1\", \"z\": 0.0426, \"sigma*\": 216.0, \"e_sigma*\": 30.0, \"n_sigma*\": null, \"FWHM\": 3860.0, \"e_FWHM\": 190.0, \"logL\": 41.91, \"e_logL\": 0.07, \"logM\": 7.5, \"E_logM\": null, \"e_logM\": 0.1}, {\"Name\": \"SDSS J021011.49-090335.5\", \"z\": 0.0414, \"sigma*\": 122.0, \"e_sigma*\": 12.0, \"n_sigma*\": \"a\", \"FWHM\": 2450.0, \"e_FWHM\": 120.0, \"logL\": 41.24, \"e_logL\": 0.07, \"logM\": 6.7, \"E_logM\": null, \"e_logM\": 0.1}, {\"Name\": \"SDSS J021257.59+140610.1\", \"z\": 0.0618, \"sigma*\": 174.0, \"e_sigma*\": 12.0, \"n_sigma*\": \"a\", \"FWHM\": 3080.0, \"e_FWHM\": 150.0, \"logL\": 41.58, \"e_logL\": 0.06, \"logM\": 7.1, \"E_logM\": null, \"e_logM\": 0.1}, {\"Name\": \"SDSS J033013.26-053236.0\", \"z\": 0.0131, \"sigma*\": 99.2, \"e_sigma*\": 11.0, \"n_sigma*\": null, \"FWHM\": 5160.0, \"e_FWHM\": 250.0, \"logL\": 40.45, \"e_logL\": 0.06, \"logM\": 7.0, \"E_logM\": null, \"e_logM\": 0.1}, {\"Name\": \"SDSS J075057.25+353037.5\", \"z\": 0.17600000000000002, \"sigma*\": 154.0, \"e_sigma*\": 14.0, \"n_sigma*\": \"a\", \"FWHM\": 2970.0, \"e_FWHM\": 200.0, \"logL\": 41.63, \"e_logL\": 0.03, \"logM\": 7.2, \"E_logM\": null, \"e_logM\": 0.1}, {\"Name\": \"SDSS J080243.39+310403.3\", \"z\": 0.0409, \"sigma*\": 151.0, \"e_sigma*\": 17.0, \"n_sigma*\": null, \"FWHM\": 5360.0, \"e_FWHM\": 260.0, \"logL\": 41.67, \"e_logL\": 0.07, \"logM\": 7.6, \"E_logM\": null, \"e_logM\": 0.1}, {\"Name\": \"SDSS J080538.66+261005.4\", \"z\": 0.017, \"sigma*\": 100.0, \"e_sigma*\": 14.0, \"n_sigma*\": null, \"FWHM\": 3110.0, \"e_FWHM\": 150.0, \"logL\": 40.14, \"e_logL\": 0.04, \"logM\": 6.3, \"E_logM\": null, \"e_logM\": 0.2}, {\"Name\": \"SDSS J082510.23+375919.7\", \"z\": 0.0214, \"sigma*\": 98.7, \"e_sigma*\": 12.0, \"n_sigma*\": null, \"FWHM\": 1830.0, \"e_FWHM\": 91.0, \"logL\": 40.42, \"e_logL\": 0.04, \"logM\": 6.0, \"E_logM\": null, \"e_logM\": 0.1}, {\"Name\": \"SDSS J083202.16+461425.7\", \"z\": 0.0459, \"sigma*\": 104.0, \"e_sigma*\": 13.0, \"n_sigma*\": null, \"FWHM\": 1450.0, \"e_FWHM\": 72.0, \"logL\": 41.17, \"e_logL\": 0.08, \"logM\": 6.2, \"E_logM\": null, \"e_logM\": 0.1}, {\"Name\": \"SDSS J083949.64+484701.4\", \"z\": 0.0394, \"sigma*\": 133.0, \"e_sigma*\": 12.0, \"n_sigma*\": null, \"FWHM\": 1480.0, \"e_FWHM\": 73.0, \"logL\": 41.31, \"e_logL\": 0.08, \"logM\": 6.3, \"E_logM\": null, \"e_logM\": 0.2}, {\"Name\": \"SDSS J085554.27+005110.9\", \"z\": 0.0524, \"sigma*\": 118.0, \"e_sigma*\": 11.0, \"n_sigma*\": \"a\", \"FWHM\": 2910.0, \"e_FWHM\": 140.0, \"logL\": 41.27, \"e_logL\": 0.06, \"logM\": 6.9, \"E_logM\": null, \"e_logM\": 0.1}, {\"Name\": \"SDSS J092438.88+560746.9\", \"z\": 0.025, \"sigma*\": 135.0, \"e_sigma*\": 10.0, \"n_sigma*\": null, \"FWHM\": 1900.0, \"e_FWHM\": 94.0, \"logL\": 40.72, \"e_logL\": 0.07, \"logM\": 6.2, \"E_logM\": null, \"e_logM\": 0.4}, {\"Name\": \"SDSS J093259.60+040506.0\", \"z\": 0.059000000000000004, \"sigma*\": 70.5, \"e_sigma*\": 6.7, \"n_sigma*\": \"a\", \"FWHM\": 3550.0, \"e_FWHM\": 170.0, \"logL\": 41.14, \"e_logL\": 0.05, \"logM\": 7.0, \"E_logM\": null, \"e_logM\": 0.1}, {\"Name\": \"SDSS J093812.26+074340.0\", \"z\": 0.0219, \"sigma*\": 119.0, \"e_sigma*\": 8.0, \"n_sigma*\": null, \"FWHM\": 3640.0, \"e_FWHM\": 180.0, \"logL\": 40.8, \"e_logL\": 0.05, \"logM\": 6.8, \"E_logM\": null, \"e_logM\": 0.1}, {\"Name\": \"SDSS J094838.42+403043.7\", \"z\": 0.047, \"sigma*\": 91.4, \"e_sigma*\": 16.0, \"n_sigma*\": null, \"FWHM\": 3020.0, \"e_FWHM\": 150.0, \"logL\": 41.46, \"e_logL\": 0.07, \"logM\": 7.0, \"E_logM\": null, \"e_logM\": 0.1}, {\"Name\": \"SDSS J101912.57+635802.7\", \"z\": 0.0414, \"sigma*\": 239.0, \"e_sigma*\": 13.0, \"n_sigma*\": null, \"FWHM\": 3630.0, \"e_FWHM\": 180.0, \"logL\": 41.74, \"e_logL\": 0.08, \"logM\": 7.4, \"E_logM\": null, \"e_logM\": 0.1}, {\"Name\": \"SDSS J102044.43+013048.4\", \"z\": 0.0962, \"sigma*\": 103.0, \"e_sigma*\": 8.8, \"n_sigma*\": \"a\", \"FWHM\": 5200.0, \"e_FWHM\": 250.0, \"logL\": 41.51, \"e_logL\": 0.04, \"logM\": 7.6, \"E_logM\": null, \"e_logM\": 0.1}, {\"Name\": \"SDSS J110640.20+051905.6\", \"z\": 0.0913, \"sigma*\": 140.0, \"e_sigma*\": 15.0, \"n_sigma*\": \"a\", \"FWHM\": 5830.0, \"e_FWHM\": 290.0, \"logL\": 41.65, \"e_logL\": 0.04, \"logM\": 7.7, \"E_logM\": null, \"e_logM\": 0.1}, {\"Name\": \"SDSS J112536.16+542257.1\", \"z\": 0.0206, \"sigma*\": 124.0, \"e_sigma*\": 12.0, \"n_sigma*\": null, \"FWHM\": 2950.0, \"e_FWHM\": 140.0, \"logL\": 41.17, \"e_logL\": 0.08, \"logM\": 6.8, \"E_logM\": null, \"e_logM\": 0.1}, {\"Name\": \"SDSS J112841.00+575006.5\", \"z\": 0.0513, \"sigma*\": 159.0, \"e_sigma*\": 18.0, \"n_sigma*\": \"a\", \"FWHM\": 2660.0, \"e_FWHM\": 130.0, \"logL\": 41.66, \"e_logL\": 0.09, \"logM\": 7.0, \"E_logM\": null, \"e_logM\": 0.1}, {\"Name\": \"SDSS J120257.81+045045.0\", \"z\": 0.0207, \"sigma*\": 102.0, \"e_sigma*\": 20.0, \"n_sigma*\": null, \"FWHM\": 2250.0, \"e_FWHM\": 110.0, \"logL\": 40.1, \"e_logL\": 0.06, \"logM\": 6.0, \"E_logM\": null, \"e_logM\": 0.1}, {\"Name\": \"SDSS J120556.01+495956.1\", \"z\": 0.0631, \"sigma*\": 107.0, \"e_sigma*\": 11.0, \"n_sigma*\": \"a\", \"FWHM\": 5610.0, \"e_FWHM\": 450.0, \"logL\": 41.57, \"e_logL\": 0.04, \"logM\": 7.7, \"E_logM\": null, \"e_logM\": 0.1}, {\"Name\": \"SDSS J121607.09+504930.0\", \"z\": 0.0308, \"sigma*\": 138.0, \"e_sigma*\": 13.0, \"n_sigma*\": null, \"FWHM\": 5580.0, \"e_FWHM\": 270.0, \"logL\": 41.3, \"e_logL\": 0.06, \"logM\": 7.5, \"E_logM\": null, \"e_logM\": 0.3}, {\"Name\": \"SDSS J121754.97+583935.6\", \"z\": 0.0233, \"sigma*\": 85.6, \"e_sigma*\": 14.0, \"n_sigma*\": null, \"FWHM\": 1970.0, \"e_FWHM\": 98.0, \"logL\": 40.92, \"e_logL\": 0.08, \"logM\": 6.4, \"E_logM\": null, \"e_logM\": 0.1}, {\"Name\": \"SDSS J122324.13+024044.4\", \"z\": 0.0236, \"sigma*\": 78.1, \"e_sigma*\": 15.0, \"n_sigma*\": null, \"FWHM\": 3880.0, \"e_FWHM\": 910.0, \"logL\": 41.62, \"e_logL\": 0.08, \"logM\": 7.3, \"E_logM\": null, \"e_logM\": 0.2}, {\"Name\": \"SDSS J123237.48+662452.3\", \"z\": 0.0468, \"sigma*\": 124.0, \"e_sigma*\": 9.0, \"n_sigma*\": null, \"FWHM\": 2620.0, \"e_FWHM\": 130.0, \"logL\": 41.86, \"e_logL\": 0.19, \"logM\": 7.1, \"E_logM\": null, \"e_logM\": 0.2}, {\"Name\": \"SDSS J130620.97+531823.1\", \"z\": 0.0237, \"sigma*\": 90.7, \"e_sigma*\": 11.0, \"n_sigma*\": null, \"FWHM\": 7620.0, \"e_FWHM\": 380.0, \"logL\": 40.58, \"e_logL\": 0.04, \"logM\": 7.3, \"E_logM\": null, \"e_logM\": 0.1}, {\"Name\": \"SDSS J131305.80+012755.9\", \"z\": 0.0294, \"sigma*\": 95.4, \"e_sigma*\": 13.0, \"n_sigma*\": null, \"FWHM\": 1590.0, \"e_FWHM\": 79.0, \"logL\": 40.62, \"e_logL\": 0.07, \"logM\": 6.0, \"E_logM\": null, \"e_logM\": 0.1}, {\"Name\": \"SDSS J132249.21+545528.2\", \"z\": 0.0653, \"sigma*\": 130.0, \"e_sigma*\": 13.0, \"n_sigma*\": \"a\", \"FWHM\": 4050.0, \"e_FWHM\": 200.0, \"logL\": 41.81, \"e_logL\": 0.07, \"logM\": 7.5, \"E_logM\": null, \"e_logM\": 0.1}, {\"Name\": \"SDSS J132340.31-012749.2\", \"z\": 0.0767, \"sigma*\": 114.0, \"e_sigma*\": 16.0, \"n_sigma*\": \"a\", \"FWHM\": 1910.0, \"e_FWHM\": 95.0, \"logL\": 41.55, \"e_logL\": 0.09, \"logM\": 6.7, \"E_logM\": null, \"e_logM\": 0.1}, {\"Name\": \"SDSS J134952.84+020445.1\", \"z\": 0.0328, \"sigma*\": 138.0, \"e_sigma*\": 13.0, \"n_sigma*\": null, \"FWHM\": 2590.0, \"e_FWHM\": 120.0, \"logL\": 41.62, \"e_logL\": 0.07, \"logM\": 7.0, \"E_logM\": null, \"e_logM\": 0.1}, {\"Name\": \"SDSS J140018.42+050242.2\", \"z\": 0.0342, \"sigma*\": 145.0, \"e_sigma*\": 14.0, \"n_sigma*\": null, \"FWHM\": 3340.0, \"e_FWHM\": 160.0, \"logL\": 41.23, \"e_logL\": 0.05, \"logM\": 7.1, \"E_logM\": null, \"e_logM\": 0.5}, {\"Name\": \"SDSS J140514.87-025901.2\", \"z\": 0.0542, \"sigma*\": 148.0, \"e_sigma*\": 15.0, \"n_sigma*\": \"a\", \"FWHM\": 2990.0, \"e_FWHM\": 140.0, \"logL\": 41.29, \"e_logL\": 0.06, \"logM\": 6.9, \"E_logM\": null, \"e_logM\": 0.3}, {\"Name\": \"SDSS J141630.81+013708.0\", \"z\": 0.0538, \"sigma*\": 121.0, \"e_sigma*\": 12.0, \"n_sigma*\": \"a\", \"FWHM\": 3180.0, \"e_FWHM\": 150.0, \"logL\": 41.1, \"e_logL\": 0.04, \"logM\": 6.9, \"E_logM\": null, \"e_logM\": 0.1}, {\"Name\": \"SDSS J143452.45+483942.7\", \"z\": 0.0365, \"sigma*\": 138.0, \"e_sigma*\": 15.0, \"n_sigma*\": null, \"FWHM\": 3210.0, \"e_FWHM\": 160.0, \"logL\": 41.84, \"e_logL\": 0.1, \"logM\": 7.3, \"E_logM\": null, \"e_logM\": 0.1}, {\"Name\": \"SDSS J144629.97+500130.5\", \"z\": 0.0427, \"sigma*\": 86.8, \"e_sigma*\": 19.0, \"n_sigma*\": null, \"FWHM\": 6450.0, \"e_FWHM\": 320.0, \"logL\": 40.73, \"e_logL\": 0.03, \"logM\": 7.3, \"E_logM\": null, \"e_logM\": 0.2}, {\"Name\": \"SDSS J145706.80+494008.4\", \"z\": 0.0134, \"sigma*\": 108.0, \"e_sigma*\": 11.0, \"n_sigma*\": null, \"FWHM\": 2270.0, \"e_FWHM\": 110.0, \"logL\": 40.46, \"e_logL\": 0.1, \"logM\": 6.3, \"E_logM\": null, \"e_logM\": 0.1}, {\"Name\": \"SDSS J145901.35+611353.5\", \"z\": 0.0388, \"sigma*\": 113.0, \"e_sigma*\": 13.0, \"n_sigma*\": null, \"FWHM\": 4140.0, \"e_FWHM\": 200.0, \"logL\": 41.18, \"e_logL\": 0.06, \"logM\": 7.2, \"E_logM\": null, \"e_logM\": 0.1}, {\"Name\": \"SDSS J150556.55+034226.3\", \"z\": 0.0359, \"sigma*\": 199.0, \"e_sigma*\": 18.0, \"n_sigma*\": \"a\", \"FWHM\": 4370.0, \"e_FWHM\": 210.0, \"logL\": 42.09, \"e_logL\": 0.1, \"logM\": 7.7, \"E_logM\": null, \"e_logM\": 0.1}, {\"Name\": \"SDSS J150745.00+512710.2\", \"z\": 0.0458, \"sigma*\": 139.0, \"e_sigma*\": 17.0, \"n_sigma*\": null, \"FWHM\": 3430.0, \"e_FWHM\": 170.0, \"logL\": 41.4, \"e_logL\": 0.04, \"logM\": 7.1, \"E_logM\": null, \"e_logM\": 0.1}, {\"Name\": \"SDSS J150853.95-001148.9\", \"z\": 0.0542, \"sigma*\": 163.0, \"e_sigma*\": 15.0, \"n_sigma*\": \"a\", \"FWHM\": 6190.0, \"e_FWHM\": 610.0, \"logL\": 41.51, \"e_logL\": 0.04, \"logM\": 7.8, \"E_logM\": null, \"e_logM\": 0.1}, {\"Name\": \"SDSS J152515.18+601409.0\", \"z\": 0.0783, \"sigma*\": 104.0, \"e_sigma*\": 11.0, \"n_sigma*\": \"a\", \"FWHM\": 2590.0, \"e_FWHM\": 120.0, \"logL\": 41.41, \"e_logL\": 0.09, \"logM\": 6.9, \"E_logM\": null, \"e_logM\": 0.1}, {\"Name\": \"SDSS J155417.43+323837.8\", \"z\": 0.0483, \"sigma*\": 120.0, \"e_sigma*\": 13.0, \"n_sigma*\": \"a\", \"FWHM\": 4200.0, \"e_FWHM\": 210.0, \"logL\": 41.86, \"e_logL\": 0.08, \"logM\": 7.5, \"E_logM\": null, \"e_logM\": 0.1}, {\"Name\": \"SDSS J161156.31+521116.8\", \"z\": 0.040999999999999995, \"sigma*\": 116.0, \"e_sigma*\": 10.0, \"n_sigma*\": null, \"FWHM\": 3760.0, \"e_FWHM\": 180.0, \"logL\": 41.09, \"e_logL\": 0.04, \"logM\": 7.0, \"E_logM\": null, \"e_logM\": 0.3}, {\"Name\": \"SDSS J161951.31+405847.2\", \"z\": 0.0379, \"sigma*\": 89.1, \"e_sigma*\": 20.0, \"n_sigma*\": null, \"FWHM\": 1700.0, \"e_FWHM\": 85.0, \"logL\": 40.99, \"e_logL\": 0.07, \"logM\": 6.3, \"E_logM\": null, \"e_logM\": 0.1}, {\"Name\": \"SDSS J170328.96+614109.9\", \"z\": 0.0772, \"sigma*\": 123.0, \"e_sigma*\": 13.0, \"n_sigma*\": \"a\", \"FWHM\": 4300.0, \"e_FWHM\": 210.0, \"logL\": 41.92, \"e_logL\": 0.05, \"logM\": 7.6, \"E_logM\": null, \"e_logM\": 0.1}, {\"Name\": \"SDSS J171550.49+593548.7\", \"z\": 0.0657, \"sigma*\": 146.0, \"e_sigma*\": 13.0, \"n_sigma*\": \"a\", \"FWHM\": 3500.0, \"e_FWHM\": 170.0, \"logL\": 41.24, \"e_logL\": 0.05, \"logM\": 7.0, \"E_logM\": null, \"e_logM\": 0.1}, {\"Name\": \"SDSS J212401.90-002158.7\", \"z\": 0.0619, \"sigma*\": 110.0, \"e_sigma*\": 15.0, \"n_sigma*\": \"a\", \"FWHM\": 2620.0, \"e_FWHM\": 130.0, \"logL\": 41.41, \"e_logL\": 0.06, \"logM\": 6.9, \"E_logM\": null, \"e_logM\": 0.1}, {\"Name\": \"SDSS J222435.29-001103.8\", \"z\": 0.0581, \"sigma*\": 111.0, \"e_sigma*\": 19.0, \"n_sigma*\": \"a\", \"FWHM\": 2290.0, \"e_FWHM\": 1190.0, \"logL\": 41.83, \"e_logL\": 0.17, \"logM\": 7.0, \"E_logM\": null, \"e_logM\": 0.4}, {\"Name\": \"SDSS J223000.37-094622.1\", \"z\": 0.0727, \"sigma*\": 112.0, \"e_sigma*\": 13.0, \"n_sigma*\": \"a\", \"FWHM\": 3630.0, \"e_FWHM\": 180.0, \"logL\": 41.21, \"e_logL\": 0.04, \"logM\": 7.1, \"E_logM\": null, \"e_logM\": 0.1}, {\"Name\": \"SDSS J232721.96+152437.3\", \"z\": 0.0457, \"sigma*\": 193.0, \"e_sigma*\": 18.0, \"n_sigma*\": null, \"FWHM\": 7540.0, \"e_FWHM\": 750.0, \"logL\": 41.65, \"e_logL\": 0.06, \"logM\": 7.9, \"E_logM\": null, \"e_logM\": 0.1}, {\"Name\": \"SDSS J235128.78+155259.0\", \"z\": 0.0963, \"sigma*\": 193.0, \"e_sigma*\": 22.0, \"n_sigma*\": \"a\", \"FWHM\": 8240.0, \"e_FWHM\": 410.0, \"logL\": 41.87, \"e_logL\": 0.04, \"logM\": 8.2, \"E_logM\": null, \"e_logM\": 0.2}, {\"Name\": \"SDSS J010712.03+140844.9\", \"z\": 0.0768, \"sigma*\": 36.0, \"e_sigma*\": 6.0, \"n_sigma*\": \"b\", \"FWHM\": 880.0, \"e_FWHM\": 170.0, \"logL\": 42.57, \"e_logL\": 0.2, \"logM\": 5.8, \"E_logM\": null, \"e_logM\": 0.2}, {\"Name\": \"SDSS J024912.86-081525.6\", \"z\": 0.0294, \"sigma*\": 50.0, \"e_sigma*\": 4.0, \"n_sigma*\": \"b\", \"FWHM\": 840.0, \"e_FWHM\": 320.0, \"logL\": 41.93, \"e_logL\": 0.08, \"logM\": 5.1, \"E_logM\": null, \"e_logM\": 0.3}, {\"Name\": \"SDSS J032515.59+003408.4\", \"z\": 0.102, \"sigma*\": 55.0, \"e_sigma*\": 6.0, \"n_sigma*\": \"b\", \"FWHM\": 990.0, \"e_FWHM\": 49.0, \"logL\": 42.03, \"e_logL\": 0.12, \"logM\": 5.8, \"E_logM\": null, \"e_logM\": 0.1}, {\"Name\": \"SDSS J080907.58+441641.4\", \"z\": 0.0539, \"sigma*\": 65.0, \"e_sigma*\": 4.0, \"n_sigma*\": \"b\", \"FWHM\": 940.0, \"e_FWHM\": 180.0, \"logL\": 40.47, \"e_logL\": 0.04, \"logM\": 5.5, \"E_logM\": null, \"e_logM\": 0.8}, {\"Name\": \"SDSS J082912.67+500652.3\", \"z\": 0.0434, \"sigma*\": 60.0, \"e_sigma*\": 4.0, \"n_sigma*\": \"b\", \"FWHM\": 840.0, \"e_FWHM\": 41.0, \"logL\": 42.14, \"e_logL\": 0.06, \"logM\": 5.7, \"E_logM\": null, \"e_logM\": 0.1}, {\"Name\": \"SDSS J101108.40+002908.7\", \"z\": 0.1, \"sigma*\": 48.0, \"e_sigma*\": 7.0, \"n_sigma*\": \"b\", \"FWHM\": 1460.0, \"e_FWHM\": 72.0, \"logL\": 42.68, \"e_logL\": 0.19, \"logM\": 6.2, \"E_logM\": null, \"e_logM\": 0.3}, {\"Name\": \"SDSS J101627.32-000714.5\", \"z\": 0.0944, \"sigma*\": 39.0, \"e_sigma*\": 6.0, \"n_sigma*\": \"b\", \"FWHM\": 1520.0, \"e_FWHM\": 75.0, \"logL\": 42.57, \"e_logL\": 0.17, \"logM\": 6.1, \"E_logM\": null, \"e_logM\": 0.2}, {\"Name\": \"SDSS J124035.81-002919.4\", \"z\": 0.0809, \"sigma*\": 49.0, \"e_sigma*\": 7.0, \"n_sigma*\": \"b\", \"FWHM\": 1720.0, \"e_FWHM\": 85.0, \"logL\": 42.35, \"e_logL\": 0.11, \"logM\": 6.6, \"E_logM\": null, \"e_logM\": 0.6}, {\"Name\": \"SDSS J125055.28-015556.6\", \"z\": 0.0814, \"sigma*\": 64.0, \"e_sigma*\": 6.0, \"n_sigma*\": \"b\", \"FWHM\": 1980.0, \"e_FWHM\": 99.0, \"logL\": 42.75, \"e_logL\": 0.14, \"logM\": 6.5, \"E_logM\": null, \"e_logM\": 0.1}, {\"Name\": \"SDSS J143450.62+033842.5\", \"z\": 0.0282, \"sigma*\": 48.0, \"e_sigma*\": 7.0, \"n_sigma*\": \"b\", \"FWHM\": 1480.0, \"e_FWHM\": 73.0, \"logL\": 41.87, \"e_logL\": 0.16, \"logM\": 5.6, \"E_logM\": null, \"e_logM\": 0.1}, {\"Name\": \"SDSS J170246.09+602818.9\", \"z\": 0.0689, \"sigma*\": 69.0, \"e_sigma*\": 6.0, \"n_sigma*\": \"b\", \"FWHM\": 3270.0, \"e_FWHM\": 160.0, \"logL\": 42.67, \"e_logL\": 0.16, \"logM\": 6.9, \"E_logM\": null, \"e_logM\": 0.2}, {\"Name\": \"SDSS J172759.15+542147.0\", \"z\": 0.0995, \"sigma*\": 58.0, \"e_sigma*\": 7.0, \"n_sigma*\": \"b\", \"FWHM\": 810.0, \"e_FWHM\": 400.0, \"logL\": 42.19, \"e_logL\": 0.09, \"logM\": 5.6, \"E_logM\": null, \"e_logM\": 0.5}, {\"Name\": \"SDSS J215658.30+110343.1\", \"z\": 0.10800000000000001, \"sigma*\": 81.0, \"e_sigma*\": 8.0, \"n_sigma*\": \"b\", \"FWHM\": 1430.0, \"e_FWHM\": 280.0, \"logL\": 41.22, \"e_logL\": 0.03, \"logM\": 6.3, \"E_logM\": null, \"e_logM\": 0.8}, {\"Name\": \"SDSS J232159.06+000738.8\", \"z\": 0.184, \"sigma*\": 81.0, \"e_sigma*\": 9.0, \"n_sigma*\": \"b\", \"FWHM\": 2520.0, \"e_FWHM\": 120.0, \"logL\": 42.96, \"e_logL\": 0.1, \"logM\": 6.7, \"E_logM\": null, \"e_logM\": 0.2}, {\"Name\": \"SDSS J233837.10-002810.3\", \"z\": 0.0356, \"sigma*\": 58.0, \"e_sigma*\": 4.0, \"n_sigma*\": \"b\", \"FWHM\": 1740.0, \"e_FWHM\": 86.0, \"logL\": 43.61, \"e_logL\": 0.13, \"logM\": 5.8, \"E_logM\": null, \"e_logM\": 0.1}, {\"Name\": \"3C 120\", \"z\": 0.033, \"sigma*\": 162.0, \"e_sigma*\": 24.0, \"n_sigma*\": \"b\", \"FWHM\": null, \"e_FWHM\": null, \"logL\": null, \"e_logL\": null, \"logM\": 7.43, \"E_logM\": 0.2, \"e_logM\": 0.25}, {\"Name\": \"3C 390.3\", \"z\": 0.0561, \"sigma*\": 268.0, \"e_sigma*\": 15.0, \"n_sigma*\": null, \"FWHM\": null, \"e_FWHM\": null, \"logL\": null, \"e_logL\": null, \"logM\": 8.52, \"E_logM\": 0.09, \"e_logM\": 0.12}, {\"Name\": \"Akn 120\", \"z\": 0.0323, \"sigma*\": 224.0, \"e_sigma*\": 15.0, \"n_sigma*\": null, \"FWHM\": null, \"e_FWHM\": null, \"logL\": null, \"e_logL\": null, \"logM\": 8.2, \"E_logM\": 0.05, \"e_logM\": 0.07}, {\"Name\": \"Mrk 79\", \"z\": 0.0222, \"sigma*\": 130.0, \"e_sigma*\": 10.0, \"n_sigma*\": null, \"FWHM\": null, \"e_FWHM\": null, \"logL\": null, \"e_logL\": null, \"logM\": 7.67, \"E_logM\": 0.11, \"e_logM\": 0.15}, {\"Name\": \"Mrk 110\", \"z\": 0.0353, \"sigma*\": 87.1, \"e_sigma*\": 12.0, \"n_sigma*\": null, \"FWHM\": null, \"e_FWHM\": null, \"logL\": null, \"e_logL\": null, \"logM\": 6.97, \"E_logM\": 0.11, \"e_logM\": 0.15}, {\"Name\": \"Mrk 279\", \"z\": 0.0305, \"sigma*\": 197.0, \"e_sigma*\": 12.0, \"n_sigma*\": null, \"FWHM\": null, \"e_FWHM\": null, \"logL\": null, \"e_logL\": null, \"logM\": 7.45, \"E_logM\": 0.12, \"e_logM\": 0.16}, {\"Name\": \"Mrk 590\", \"z\": 0.0264, \"sigma*\": 189.0, \"e_sigma*\": 5.7, \"n_sigma*\": null, \"FWHM\": null, \"e_FWHM\": null, \"logL\": null, \"e_logL\": null, \"logM\": 7.2, \"E_logM\": 0.11, \"e_logM\": 0.15}, {\"Name\": \"Mrk 817\", \"z\": 0.0315, \"sigma*\": 127.0, \"e_sigma*\": 12.0, \"n_sigma*\": null, \"FWHM\": null, \"e_FWHM\": null, \"logL\": null, \"e_logL\": null, \"logM\": 7.62, \"E_logM\": 0.08, \"e_logM\": 0.1}, {\"Name\": \"NGC 3227\", \"z\": 0.00386, \"sigma*\": 135.0, \"e_sigma*\": 3.8, \"n_sigma*\": null, \"FWHM\": null, \"e_FWHM\": null, \"logL\": null, \"e_logL\": null, \"logM\": 7.47, \"E_logM\": 0.24, \"e_logM\": 1.06}, {\"Name\": \"NGC 3516\", \"z\": 0.00884, \"sigma*\": 181.0, \"e_sigma*\": 4.9, \"n_sigma*\": \"b\", \"FWHM\": null, \"e_FWHM\": null, \"logL\": null, \"e_logL\": null, \"logM\": 7.04, \"E_logM\": 0.31, \"e_logM\": 0.39}, {\"Name\": \"NGC 3783\", \"z\": 0.009729999999999999, \"sigma*\": 95.0, \"e_sigma*\": 10.0, \"n_sigma*\": null, \"FWHM\": null, \"e_FWHM\": null, \"logL\": null, \"e_logL\": null, \"logM\": 7.16, \"E_logM\": 0.17, \"e_logM\": 0.23}, {\"Name\": \"NGC 4051\", \"z\": 0.00234, \"sigma*\": 88.9, \"e_sigma*\": 2.9, \"n_sigma*\": null, \"FWHM\": null, \"e_FWHM\": null, \"logL\": null, \"e_logL\": null, \"logM\": 5.99, \"E_logM\": 0.17, \"e_logM\": 0.2}, {\"Name\": \"NGC 4151\", \"z\": 0.0033200000000000005, \"sigma*\": 96.8, \"e_sigma*\": 2.9, \"n_sigma*\": null, \"FWHM\": null, \"e_FWHM\": null, \"logL\": null, \"e_logL\": null, \"logM\": 6.91, \"E_logM\": 0.17, \"e_logM\": 0.29}, {\"Name\": \"NGC 5548\", \"z\": 0.0172, \"sigma*\": 198.0, \"e_sigma*\": 11.0, \"n_sigma*\": null, \"FWHM\": null, \"e_FWHM\": null, \"logL\": null, \"e_logL\": null, \"logM\": 7.81, \"E_logM\": 0.02, \"e_logM\": 0.02}, {\"Name\": \"NGC 7469\", \"z\": 0.0163, \"sigma*\": 133.0, \"e_sigma*\": 4.8, \"n_sigma*\": null, \"FWHM\": null, \"e_FWHM\": null, \"logL\": null, \"e_logL\": null, \"logM\": 6.49, \"E_logM\": 0.16, \"e_logM\": 0.27}, {\"Name\": \"POX 52\", \"z\": 0.0218, \"sigma*\": 36.0, \"e_sigma*\": 5.0, \"n_sigma*\": null, \"FWHM\": null, \"e_FWHM\": null, \"logL\": null, \"e_logL\": null, \"logM\": 5.2, \"E_logM\": null, \"e_logM\": 0.3}, {\"Name\": \"NGC 4395\", \"z\": 0.000947, \"sigma*\": 30.0, \"e_sigma*\": 5.0, \"n_sigma*\": null, \"FWHM\": null, \"e_FWHM\": null, \"logL\": null, \"e_logL\": null, \"logM\": 4.9, \"E_logM\": null, \"e_logM\": 0.4}]}}, {\"mode\": \"vega-lite\"});\n",
       "</script>"
      ],
      "text/plain": [
       "alt.Chart(...)"
      ]
     },
     "execution_count": 25,
     "metadata": {
      "tags": []
     },
     "output_type": "execute_result"
    }
   ],
   "source": [
    "brush = alt.selection_interval(encodings=['x'])\n",
    "\n",
    "alt.Chart(df).mark_point(filled=True).encode(\n",
    "    alt.X('sigma*', scale=alt.Scale(type='log', base=10)),\n",
    "    alt.Y('logM'),\n",
    "    color = alt.condition(brush,'z', alt.value('lightgray')),\n",
    "    tooltip = 'Name' \n",
    ").add_selection(\n",
    "    brush\n",
    ")"
   ]
  },
  {
   "cell_type": "markdown",
   "metadata": {
    "id": "L3xyaYP5QkVy"
   },
   "source": [
    "Changing the selection type we can move and scale the plot"
   ]
  },
  {
   "cell_type": "code",
   "execution_count": null,
   "metadata": {
    "colab": {
     "base_uri": "https://localhost:8080/",
     "height": 368
    },
    "executionInfo": {
     "elapsed": 1730,
     "status": "ok",
     "timestamp": 1609124137363,
     "user": {
      "displayName": "Eduard Alexis Larranaga",
      "photoUrl": "https://lh3.googleusercontent.com/a-/AOh14GgCVABzEgj-rCdyxWa29RnA0kIYUCXAaVbnRYOEhQ=s64",
      "userId": "04402438389940282602"
     },
     "user_tz": 300
    },
    "id": "qDgqYB0aQkVz",
    "outputId": "6bb626c5-edae-4de6-cea9-ea15d8cf9995",
    "scrolled": false
   },
   "outputs": [
    {
     "data": {
      "text/html": [
       "\n",
       "<div id=\"altair-viz-84c2eeed0ff64457b1cc77af80de602d\"></div>\n",
       "<script type=\"text/javascript\">\n",
       "  (function(spec, embedOpt){\n",
       "    let outputDiv = document.currentScript.previousElementSibling;\n",
       "    if (outputDiv.id !== \"altair-viz-84c2eeed0ff64457b1cc77af80de602d\") {\n",
       "      outputDiv = document.getElementById(\"altair-viz-84c2eeed0ff64457b1cc77af80de602d\");\n",
       "    }\n",
       "    const paths = {\n",
       "      \"vega\": \"https://cdn.jsdelivr.net/npm//vega@5?noext\",\n",
       "      \"vega-lib\": \"https://cdn.jsdelivr.net/npm//vega-lib?noext\",\n",
       "      \"vega-lite\": \"https://cdn.jsdelivr.net/npm//vega-lite@4.8.1?noext\",\n",
       "      \"vega-embed\": \"https://cdn.jsdelivr.net/npm//vega-embed@6?noext\",\n",
       "    };\n",
       "\n",
       "    function loadScript(lib) {\n",
       "      return new Promise(function(resolve, reject) {\n",
       "        var s = document.createElement('script');\n",
       "        s.src = paths[lib];\n",
       "        s.async = true;\n",
       "        s.onload = () => resolve(paths[lib]);\n",
       "        s.onerror = () => reject(`Error loading script: ${paths[lib]}`);\n",
       "        document.getElementsByTagName(\"head\")[0].appendChild(s);\n",
       "      });\n",
       "    }\n",
       "\n",
       "    function showError(err) {\n",
       "      outputDiv.innerHTML = `<div class=\"error\" style=\"color:red;\">${err}</div>`;\n",
       "      throw err;\n",
       "    }\n",
       "\n",
       "    function displayChart(vegaEmbed) {\n",
       "      vegaEmbed(outputDiv, spec, embedOpt)\n",
       "        .catch(err => showError(`Javascript Error: ${err.message}<br>This usually means there's a typo in your chart specification. See the javascript console for the full traceback.`));\n",
       "    }\n",
       "\n",
       "    if(typeof define === \"function\" && define.amd) {\n",
       "      requirejs.config({paths});\n",
       "      require([\"vega-embed\"], displayChart, err => showError(`Error loading script: ${err.message}`));\n",
       "    } else if (typeof vegaEmbed === \"function\") {\n",
       "      displayChart(vegaEmbed);\n",
       "    } else {\n",
       "      loadScript(\"vega\")\n",
       "        .then(() => loadScript(\"vega-lite\"))\n",
       "        .then(() => loadScript(\"vega-embed\"))\n",
       "        .catch(showError)\n",
       "        .then(() => displayChart(vegaEmbed));\n",
       "    }\n",
       "  })({\"config\": {\"view\": {\"continuousWidth\": 400, \"continuousHeight\": 300}}, \"data\": {\"name\": \"data-54b58a4aa74e295879badff738f3e9c4\"}, \"mark\": {\"type\": \"point\", \"filled\": true}, \"encoding\": {\"color\": {\"type\": \"quantitative\", \"field\": \"z\"}, \"tooltip\": {\"type\": \"nominal\", \"field\": \"Name\"}, \"x\": {\"type\": \"quantitative\", \"field\": \"sigma*\", \"scale\": {\"base\": 10, \"type\": \"log\"}}, \"y\": {\"type\": \"quantitative\", \"field\": \"logM\"}}, \"selection\": {\"selector004\": {\"type\": \"interval\", \"bind\": \"scales\"}}, \"$schema\": \"https://vega.github.io/schema/vega-lite/v4.8.1.json\", \"datasets\": {\"data-54b58a4aa74e295879badff738f3e9c4\": [{\"Name\": \"SDSS J000805.62+145023.4\", \"z\": 0.0454, \"sigma*\": 140.0, \"e_sigma*\": 27.0, \"n_sigma*\": null, \"FWHM\": 7610.0, \"e_FWHM\": 380.0, \"logL\": 41.13, \"e_logL\": 0.04, \"logM\": 7.7, \"E_logM\": null, \"e_logM\": 0.1}, {\"Name\": \"SDSS J004236.86-104921.8\", \"z\": 0.0419, \"sigma*\": 78.4, \"e_sigma*\": 10.0, \"n_sigma*\": null, \"FWHM\": 1960.0, \"e_FWHM\": 97.0, \"logL\": 41.58, \"e_logL\": 0.14, \"logM\": 6.7, \"E_logM\": null, \"e_logM\": 0.1}, {\"Name\": \"SDSS J011703.58+000027.3\", \"z\": 0.0456, \"sigma*\": 98.8, \"e_sigma*\": 16.0, \"n_sigma*\": null, \"FWHM\": 2270.0, \"e_FWHM\": 110.0, \"logL\": 41.45, \"e_logL\": 0.08, \"logM\": 6.8, \"E_logM\": null, \"e_logM\": 0.1}, {\"Name\": \"SDSS J020459.25-080816.0\", \"z\": 0.0772, \"sigma*\": 121.0, \"e_sigma*\": 9.4, \"n_sigma*\": \"a\", \"FWHM\": 3720.0, \"e_FWHM\": 180.0, \"logL\": 41.13, \"e_logL\": 0.05, \"logM\": 7.0, \"E_logM\": null, \"e_logM\": 0.1}, {\"Name\": \"SDSS J020615.99-001729.1\", \"z\": 0.0426, \"sigma*\": 216.0, \"e_sigma*\": 30.0, \"n_sigma*\": null, \"FWHM\": 3860.0, \"e_FWHM\": 190.0, \"logL\": 41.91, \"e_logL\": 0.07, \"logM\": 7.5, \"E_logM\": null, \"e_logM\": 0.1}, {\"Name\": \"SDSS J021011.49-090335.5\", \"z\": 0.0414, \"sigma*\": 122.0, \"e_sigma*\": 12.0, \"n_sigma*\": \"a\", \"FWHM\": 2450.0, \"e_FWHM\": 120.0, \"logL\": 41.24, \"e_logL\": 0.07, \"logM\": 6.7, \"E_logM\": null, \"e_logM\": 0.1}, {\"Name\": \"SDSS J021257.59+140610.1\", \"z\": 0.0618, \"sigma*\": 174.0, \"e_sigma*\": 12.0, \"n_sigma*\": \"a\", \"FWHM\": 3080.0, \"e_FWHM\": 150.0, \"logL\": 41.58, \"e_logL\": 0.06, \"logM\": 7.1, \"E_logM\": null, \"e_logM\": 0.1}, {\"Name\": \"SDSS J033013.26-053236.0\", \"z\": 0.0131, \"sigma*\": 99.2, \"e_sigma*\": 11.0, \"n_sigma*\": null, \"FWHM\": 5160.0, \"e_FWHM\": 250.0, \"logL\": 40.45, \"e_logL\": 0.06, \"logM\": 7.0, \"E_logM\": null, \"e_logM\": 0.1}, {\"Name\": \"SDSS J075057.25+353037.5\", \"z\": 0.17600000000000002, \"sigma*\": 154.0, \"e_sigma*\": 14.0, \"n_sigma*\": \"a\", \"FWHM\": 2970.0, \"e_FWHM\": 200.0, \"logL\": 41.63, \"e_logL\": 0.03, \"logM\": 7.2, \"E_logM\": null, \"e_logM\": 0.1}, {\"Name\": \"SDSS J080243.39+310403.3\", \"z\": 0.0409, \"sigma*\": 151.0, \"e_sigma*\": 17.0, \"n_sigma*\": null, \"FWHM\": 5360.0, \"e_FWHM\": 260.0, \"logL\": 41.67, \"e_logL\": 0.07, \"logM\": 7.6, \"E_logM\": null, \"e_logM\": 0.1}, {\"Name\": \"SDSS J080538.66+261005.4\", \"z\": 0.017, \"sigma*\": 100.0, \"e_sigma*\": 14.0, \"n_sigma*\": null, \"FWHM\": 3110.0, \"e_FWHM\": 150.0, \"logL\": 40.14, \"e_logL\": 0.04, \"logM\": 6.3, \"E_logM\": null, \"e_logM\": 0.2}, {\"Name\": \"SDSS J082510.23+375919.7\", \"z\": 0.0214, \"sigma*\": 98.7, \"e_sigma*\": 12.0, \"n_sigma*\": null, \"FWHM\": 1830.0, \"e_FWHM\": 91.0, \"logL\": 40.42, \"e_logL\": 0.04, \"logM\": 6.0, \"E_logM\": null, \"e_logM\": 0.1}, {\"Name\": \"SDSS J083202.16+461425.7\", \"z\": 0.0459, \"sigma*\": 104.0, \"e_sigma*\": 13.0, \"n_sigma*\": null, \"FWHM\": 1450.0, \"e_FWHM\": 72.0, \"logL\": 41.17, \"e_logL\": 0.08, \"logM\": 6.2, \"E_logM\": null, \"e_logM\": 0.1}, {\"Name\": \"SDSS J083949.64+484701.4\", \"z\": 0.0394, \"sigma*\": 133.0, \"e_sigma*\": 12.0, \"n_sigma*\": null, \"FWHM\": 1480.0, \"e_FWHM\": 73.0, \"logL\": 41.31, \"e_logL\": 0.08, \"logM\": 6.3, \"E_logM\": null, \"e_logM\": 0.2}, {\"Name\": \"SDSS J085554.27+005110.9\", \"z\": 0.0524, \"sigma*\": 118.0, \"e_sigma*\": 11.0, \"n_sigma*\": \"a\", \"FWHM\": 2910.0, \"e_FWHM\": 140.0, \"logL\": 41.27, \"e_logL\": 0.06, \"logM\": 6.9, \"E_logM\": null, \"e_logM\": 0.1}, {\"Name\": \"SDSS J092438.88+560746.9\", \"z\": 0.025, \"sigma*\": 135.0, \"e_sigma*\": 10.0, \"n_sigma*\": null, \"FWHM\": 1900.0, \"e_FWHM\": 94.0, \"logL\": 40.72, \"e_logL\": 0.07, \"logM\": 6.2, \"E_logM\": null, \"e_logM\": 0.4}, {\"Name\": \"SDSS J093259.60+040506.0\", \"z\": 0.059000000000000004, \"sigma*\": 70.5, \"e_sigma*\": 6.7, \"n_sigma*\": \"a\", \"FWHM\": 3550.0, \"e_FWHM\": 170.0, \"logL\": 41.14, \"e_logL\": 0.05, \"logM\": 7.0, \"E_logM\": null, \"e_logM\": 0.1}, {\"Name\": \"SDSS J093812.26+074340.0\", \"z\": 0.0219, \"sigma*\": 119.0, \"e_sigma*\": 8.0, \"n_sigma*\": null, \"FWHM\": 3640.0, \"e_FWHM\": 180.0, \"logL\": 40.8, \"e_logL\": 0.05, \"logM\": 6.8, \"E_logM\": null, \"e_logM\": 0.1}, {\"Name\": \"SDSS J094838.42+403043.7\", \"z\": 0.047, \"sigma*\": 91.4, \"e_sigma*\": 16.0, \"n_sigma*\": null, \"FWHM\": 3020.0, \"e_FWHM\": 150.0, \"logL\": 41.46, \"e_logL\": 0.07, \"logM\": 7.0, \"E_logM\": null, \"e_logM\": 0.1}, {\"Name\": \"SDSS J101912.57+635802.7\", \"z\": 0.0414, \"sigma*\": 239.0, \"e_sigma*\": 13.0, \"n_sigma*\": null, \"FWHM\": 3630.0, \"e_FWHM\": 180.0, \"logL\": 41.74, \"e_logL\": 0.08, \"logM\": 7.4, \"E_logM\": null, \"e_logM\": 0.1}, {\"Name\": \"SDSS J102044.43+013048.4\", \"z\": 0.0962, \"sigma*\": 103.0, \"e_sigma*\": 8.8, \"n_sigma*\": \"a\", \"FWHM\": 5200.0, \"e_FWHM\": 250.0, \"logL\": 41.51, \"e_logL\": 0.04, \"logM\": 7.6, \"E_logM\": null, \"e_logM\": 0.1}, {\"Name\": \"SDSS J110640.20+051905.6\", \"z\": 0.0913, \"sigma*\": 140.0, \"e_sigma*\": 15.0, \"n_sigma*\": \"a\", \"FWHM\": 5830.0, \"e_FWHM\": 290.0, \"logL\": 41.65, \"e_logL\": 0.04, \"logM\": 7.7, \"E_logM\": null, \"e_logM\": 0.1}, {\"Name\": \"SDSS J112536.16+542257.1\", \"z\": 0.0206, \"sigma*\": 124.0, \"e_sigma*\": 12.0, \"n_sigma*\": null, \"FWHM\": 2950.0, \"e_FWHM\": 140.0, \"logL\": 41.17, \"e_logL\": 0.08, \"logM\": 6.8, \"E_logM\": null, \"e_logM\": 0.1}, {\"Name\": \"SDSS J112841.00+575006.5\", \"z\": 0.0513, \"sigma*\": 159.0, \"e_sigma*\": 18.0, \"n_sigma*\": \"a\", \"FWHM\": 2660.0, \"e_FWHM\": 130.0, \"logL\": 41.66, \"e_logL\": 0.09, \"logM\": 7.0, \"E_logM\": null, \"e_logM\": 0.1}, {\"Name\": \"SDSS J120257.81+045045.0\", \"z\": 0.0207, \"sigma*\": 102.0, \"e_sigma*\": 20.0, \"n_sigma*\": null, \"FWHM\": 2250.0, \"e_FWHM\": 110.0, \"logL\": 40.1, \"e_logL\": 0.06, \"logM\": 6.0, \"E_logM\": null, \"e_logM\": 0.1}, {\"Name\": \"SDSS J120556.01+495956.1\", \"z\": 0.0631, \"sigma*\": 107.0, \"e_sigma*\": 11.0, \"n_sigma*\": \"a\", \"FWHM\": 5610.0, \"e_FWHM\": 450.0, \"logL\": 41.57, \"e_logL\": 0.04, \"logM\": 7.7, \"E_logM\": null, \"e_logM\": 0.1}, {\"Name\": \"SDSS J121607.09+504930.0\", \"z\": 0.0308, \"sigma*\": 138.0, \"e_sigma*\": 13.0, \"n_sigma*\": null, \"FWHM\": 5580.0, \"e_FWHM\": 270.0, \"logL\": 41.3, \"e_logL\": 0.06, \"logM\": 7.5, \"E_logM\": null, \"e_logM\": 0.3}, {\"Name\": \"SDSS J121754.97+583935.6\", \"z\": 0.0233, \"sigma*\": 85.6, \"e_sigma*\": 14.0, \"n_sigma*\": null, \"FWHM\": 1970.0, \"e_FWHM\": 98.0, \"logL\": 40.92, \"e_logL\": 0.08, \"logM\": 6.4, \"E_logM\": null, \"e_logM\": 0.1}, {\"Name\": \"SDSS J122324.13+024044.4\", \"z\": 0.0236, \"sigma*\": 78.1, \"e_sigma*\": 15.0, \"n_sigma*\": null, \"FWHM\": 3880.0, \"e_FWHM\": 910.0, \"logL\": 41.62, \"e_logL\": 0.08, \"logM\": 7.3, \"E_logM\": null, \"e_logM\": 0.2}, {\"Name\": \"SDSS J123237.48+662452.3\", \"z\": 0.0468, \"sigma*\": 124.0, \"e_sigma*\": 9.0, \"n_sigma*\": null, \"FWHM\": 2620.0, \"e_FWHM\": 130.0, \"logL\": 41.86, \"e_logL\": 0.19, \"logM\": 7.1, \"E_logM\": null, \"e_logM\": 0.2}, {\"Name\": \"SDSS J130620.97+531823.1\", \"z\": 0.0237, \"sigma*\": 90.7, \"e_sigma*\": 11.0, \"n_sigma*\": null, \"FWHM\": 7620.0, \"e_FWHM\": 380.0, \"logL\": 40.58, \"e_logL\": 0.04, \"logM\": 7.3, \"E_logM\": null, \"e_logM\": 0.1}, {\"Name\": \"SDSS J131305.80+012755.9\", \"z\": 0.0294, \"sigma*\": 95.4, \"e_sigma*\": 13.0, \"n_sigma*\": null, \"FWHM\": 1590.0, \"e_FWHM\": 79.0, \"logL\": 40.62, \"e_logL\": 0.07, \"logM\": 6.0, \"E_logM\": null, \"e_logM\": 0.1}, {\"Name\": \"SDSS J132249.21+545528.2\", \"z\": 0.0653, \"sigma*\": 130.0, \"e_sigma*\": 13.0, \"n_sigma*\": \"a\", \"FWHM\": 4050.0, \"e_FWHM\": 200.0, \"logL\": 41.81, \"e_logL\": 0.07, \"logM\": 7.5, \"E_logM\": null, \"e_logM\": 0.1}, {\"Name\": \"SDSS J132340.31-012749.2\", \"z\": 0.0767, \"sigma*\": 114.0, \"e_sigma*\": 16.0, \"n_sigma*\": \"a\", \"FWHM\": 1910.0, \"e_FWHM\": 95.0, \"logL\": 41.55, \"e_logL\": 0.09, \"logM\": 6.7, \"E_logM\": null, \"e_logM\": 0.1}, {\"Name\": \"SDSS J134952.84+020445.1\", \"z\": 0.0328, \"sigma*\": 138.0, \"e_sigma*\": 13.0, \"n_sigma*\": null, \"FWHM\": 2590.0, \"e_FWHM\": 120.0, \"logL\": 41.62, \"e_logL\": 0.07, \"logM\": 7.0, \"E_logM\": null, \"e_logM\": 0.1}, {\"Name\": \"SDSS J140018.42+050242.2\", \"z\": 0.0342, \"sigma*\": 145.0, \"e_sigma*\": 14.0, \"n_sigma*\": null, \"FWHM\": 3340.0, \"e_FWHM\": 160.0, \"logL\": 41.23, \"e_logL\": 0.05, \"logM\": 7.1, \"E_logM\": null, \"e_logM\": 0.5}, {\"Name\": \"SDSS J140514.87-025901.2\", \"z\": 0.0542, \"sigma*\": 148.0, \"e_sigma*\": 15.0, \"n_sigma*\": \"a\", \"FWHM\": 2990.0, \"e_FWHM\": 140.0, \"logL\": 41.29, \"e_logL\": 0.06, \"logM\": 6.9, \"E_logM\": null, \"e_logM\": 0.3}, {\"Name\": \"SDSS J141630.81+013708.0\", \"z\": 0.0538, \"sigma*\": 121.0, \"e_sigma*\": 12.0, \"n_sigma*\": \"a\", \"FWHM\": 3180.0, \"e_FWHM\": 150.0, \"logL\": 41.1, \"e_logL\": 0.04, \"logM\": 6.9, \"E_logM\": null, \"e_logM\": 0.1}, {\"Name\": \"SDSS J143452.45+483942.7\", \"z\": 0.0365, \"sigma*\": 138.0, \"e_sigma*\": 15.0, \"n_sigma*\": null, \"FWHM\": 3210.0, \"e_FWHM\": 160.0, \"logL\": 41.84, \"e_logL\": 0.1, \"logM\": 7.3, \"E_logM\": null, \"e_logM\": 0.1}, {\"Name\": \"SDSS J144629.97+500130.5\", \"z\": 0.0427, \"sigma*\": 86.8, \"e_sigma*\": 19.0, \"n_sigma*\": null, \"FWHM\": 6450.0, \"e_FWHM\": 320.0, \"logL\": 40.73, \"e_logL\": 0.03, \"logM\": 7.3, \"E_logM\": null, \"e_logM\": 0.2}, {\"Name\": \"SDSS J145706.80+494008.4\", \"z\": 0.0134, \"sigma*\": 108.0, \"e_sigma*\": 11.0, \"n_sigma*\": null, \"FWHM\": 2270.0, \"e_FWHM\": 110.0, \"logL\": 40.46, \"e_logL\": 0.1, \"logM\": 6.3, \"E_logM\": null, \"e_logM\": 0.1}, {\"Name\": \"SDSS J145901.35+611353.5\", \"z\": 0.0388, \"sigma*\": 113.0, \"e_sigma*\": 13.0, \"n_sigma*\": null, \"FWHM\": 4140.0, \"e_FWHM\": 200.0, \"logL\": 41.18, \"e_logL\": 0.06, \"logM\": 7.2, \"E_logM\": null, \"e_logM\": 0.1}, {\"Name\": \"SDSS J150556.55+034226.3\", \"z\": 0.0359, \"sigma*\": 199.0, \"e_sigma*\": 18.0, \"n_sigma*\": \"a\", \"FWHM\": 4370.0, \"e_FWHM\": 210.0, \"logL\": 42.09, \"e_logL\": 0.1, \"logM\": 7.7, \"E_logM\": null, \"e_logM\": 0.1}, {\"Name\": \"SDSS J150745.00+512710.2\", \"z\": 0.0458, \"sigma*\": 139.0, \"e_sigma*\": 17.0, \"n_sigma*\": null, \"FWHM\": 3430.0, \"e_FWHM\": 170.0, \"logL\": 41.4, \"e_logL\": 0.04, \"logM\": 7.1, \"E_logM\": null, \"e_logM\": 0.1}, {\"Name\": \"SDSS J150853.95-001148.9\", \"z\": 0.0542, \"sigma*\": 163.0, \"e_sigma*\": 15.0, \"n_sigma*\": \"a\", \"FWHM\": 6190.0, \"e_FWHM\": 610.0, \"logL\": 41.51, \"e_logL\": 0.04, \"logM\": 7.8, \"E_logM\": null, \"e_logM\": 0.1}, {\"Name\": \"SDSS J152515.18+601409.0\", \"z\": 0.0783, \"sigma*\": 104.0, \"e_sigma*\": 11.0, \"n_sigma*\": \"a\", \"FWHM\": 2590.0, \"e_FWHM\": 120.0, \"logL\": 41.41, \"e_logL\": 0.09, \"logM\": 6.9, \"E_logM\": null, \"e_logM\": 0.1}, {\"Name\": \"SDSS J155417.43+323837.8\", \"z\": 0.0483, \"sigma*\": 120.0, \"e_sigma*\": 13.0, \"n_sigma*\": \"a\", \"FWHM\": 4200.0, \"e_FWHM\": 210.0, \"logL\": 41.86, \"e_logL\": 0.08, \"logM\": 7.5, \"E_logM\": null, \"e_logM\": 0.1}, {\"Name\": \"SDSS J161156.31+521116.8\", \"z\": 0.040999999999999995, \"sigma*\": 116.0, \"e_sigma*\": 10.0, \"n_sigma*\": null, \"FWHM\": 3760.0, \"e_FWHM\": 180.0, \"logL\": 41.09, \"e_logL\": 0.04, \"logM\": 7.0, \"E_logM\": null, \"e_logM\": 0.3}, {\"Name\": \"SDSS J161951.31+405847.2\", \"z\": 0.0379, \"sigma*\": 89.1, \"e_sigma*\": 20.0, \"n_sigma*\": null, \"FWHM\": 1700.0, \"e_FWHM\": 85.0, \"logL\": 40.99, \"e_logL\": 0.07, \"logM\": 6.3, \"E_logM\": null, \"e_logM\": 0.1}, {\"Name\": \"SDSS J170328.96+614109.9\", \"z\": 0.0772, \"sigma*\": 123.0, \"e_sigma*\": 13.0, \"n_sigma*\": \"a\", \"FWHM\": 4300.0, \"e_FWHM\": 210.0, \"logL\": 41.92, \"e_logL\": 0.05, \"logM\": 7.6, \"E_logM\": null, \"e_logM\": 0.1}, {\"Name\": \"SDSS J171550.49+593548.7\", \"z\": 0.0657, \"sigma*\": 146.0, \"e_sigma*\": 13.0, \"n_sigma*\": \"a\", \"FWHM\": 3500.0, \"e_FWHM\": 170.0, \"logL\": 41.24, \"e_logL\": 0.05, \"logM\": 7.0, \"E_logM\": null, \"e_logM\": 0.1}, {\"Name\": \"SDSS J212401.90-002158.7\", \"z\": 0.0619, \"sigma*\": 110.0, \"e_sigma*\": 15.0, \"n_sigma*\": \"a\", \"FWHM\": 2620.0, \"e_FWHM\": 130.0, \"logL\": 41.41, \"e_logL\": 0.06, \"logM\": 6.9, \"E_logM\": null, \"e_logM\": 0.1}, {\"Name\": \"SDSS J222435.29-001103.8\", \"z\": 0.0581, \"sigma*\": 111.0, \"e_sigma*\": 19.0, \"n_sigma*\": \"a\", \"FWHM\": 2290.0, \"e_FWHM\": 1190.0, \"logL\": 41.83, \"e_logL\": 0.17, \"logM\": 7.0, \"E_logM\": null, \"e_logM\": 0.4}, {\"Name\": \"SDSS J223000.37-094622.1\", \"z\": 0.0727, \"sigma*\": 112.0, \"e_sigma*\": 13.0, \"n_sigma*\": \"a\", \"FWHM\": 3630.0, \"e_FWHM\": 180.0, \"logL\": 41.21, \"e_logL\": 0.04, \"logM\": 7.1, \"E_logM\": null, \"e_logM\": 0.1}, {\"Name\": \"SDSS J232721.96+152437.3\", \"z\": 0.0457, \"sigma*\": 193.0, \"e_sigma*\": 18.0, \"n_sigma*\": null, \"FWHM\": 7540.0, \"e_FWHM\": 750.0, \"logL\": 41.65, \"e_logL\": 0.06, \"logM\": 7.9, \"E_logM\": null, \"e_logM\": 0.1}, {\"Name\": \"SDSS J235128.78+155259.0\", \"z\": 0.0963, \"sigma*\": 193.0, \"e_sigma*\": 22.0, \"n_sigma*\": \"a\", \"FWHM\": 8240.0, \"e_FWHM\": 410.0, \"logL\": 41.87, \"e_logL\": 0.04, \"logM\": 8.2, \"E_logM\": null, \"e_logM\": 0.2}, {\"Name\": \"SDSS J010712.03+140844.9\", \"z\": 0.0768, \"sigma*\": 36.0, \"e_sigma*\": 6.0, \"n_sigma*\": \"b\", \"FWHM\": 880.0, \"e_FWHM\": 170.0, \"logL\": 42.57, \"e_logL\": 0.2, \"logM\": 5.8, \"E_logM\": null, \"e_logM\": 0.2}, {\"Name\": \"SDSS J024912.86-081525.6\", \"z\": 0.0294, \"sigma*\": 50.0, \"e_sigma*\": 4.0, \"n_sigma*\": \"b\", \"FWHM\": 840.0, \"e_FWHM\": 320.0, \"logL\": 41.93, \"e_logL\": 0.08, \"logM\": 5.1, \"E_logM\": null, \"e_logM\": 0.3}, {\"Name\": \"SDSS J032515.59+003408.4\", \"z\": 0.102, \"sigma*\": 55.0, \"e_sigma*\": 6.0, \"n_sigma*\": \"b\", \"FWHM\": 990.0, \"e_FWHM\": 49.0, \"logL\": 42.03, \"e_logL\": 0.12, \"logM\": 5.8, \"E_logM\": null, \"e_logM\": 0.1}, {\"Name\": \"SDSS J080907.58+441641.4\", \"z\": 0.0539, \"sigma*\": 65.0, \"e_sigma*\": 4.0, \"n_sigma*\": \"b\", \"FWHM\": 940.0, \"e_FWHM\": 180.0, \"logL\": 40.47, \"e_logL\": 0.04, \"logM\": 5.5, \"E_logM\": null, \"e_logM\": 0.8}, {\"Name\": \"SDSS J082912.67+500652.3\", \"z\": 0.0434, \"sigma*\": 60.0, \"e_sigma*\": 4.0, \"n_sigma*\": \"b\", \"FWHM\": 840.0, \"e_FWHM\": 41.0, \"logL\": 42.14, \"e_logL\": 0.06, \"logM\": 5.7, \"E_logM\": null, \"e_logM\": 0.1}, {\"Name\": \"SDSS J101108.40+002908.7\", \"z\": 0.1, \"sigma*\": 48.0, \"e_sigma*\": 7.0, \"n_sigma*\": \"b\", \"FWHM\": 1460.0, \"e_FWHM\": 72.0, \"logL\": 42.68, \"e_logL\": 0.19, \"logM\": 6.2, \"E_logM\": null, \"e_logM\": 0.3}, {\"Name\": \"SDSS J101627.32-000714.5\", \"z\": 0.0944, \"sigma*\": 39.0, \"e_sigma*\": 6.0, \"n_sigma*\": \"b\", \"FWHM\": 1520.0, \"e_FWHM\": 75.0, \"logL\": 42.57, \"e_logL\": 0.17, \"logM\": 6.1, \"E_logM\": null, \"e_logM\": 0.2}, {\"Name\": \"SDSS J124035.81-002919.4\", \"z\": 0.0809, \"sigma*\": 49.0, \"e_sigma*\": 7.0, \"n_sigma*\": \"b\", \"FWHM\": 1720.0, \"e_FWHM\": 85.0, \"logL\": 42.35, \"e_logL\": 0.11, \"logM\": 6.6, \"E_logM\": null, \"e_logM\": 0.6}, {\"Name\": \"SDSS J125055.28-015556.6\", \"z\": 0.0814, \"sigma*\": 64.0, \"e_sigma*\": 6.0, \"n_sigma*\": \"b\", \"FWHM\": 1980.0, \"e_FWHM\": 99.0, \"logL\": 42.75, \"e_logL\": 0.14, \"logM\": 6.5, \"E_logM\": null, \"e_logM\": 0.1}, {\"Name\": \"SDSS J143450.62+033842.5\", \"z\": 0.0282, \"sigma*\": 48.0, \"e_sigma*\": 7.0, \"n_sigma*\": \"b\", \"FWHM\": 1480.0, \"e_FWHM\": 73.0, \"logL\": 41.87, \"e_logL\": 0.16, \"logM\": 5.6, \"E_logM\": null, \"e_logM\": 0.1}, {\"Name\": \"SDSS J170246.09+602818.9\", \"z\": 0.0689, \"sigma*\": 69.0, \"e_sigma*\": 6.0, \"n_sigma*\": \"b\", \"FWHM\": 3270.0, \"e_FWHM\": 160.0, \"logL\": 42.67, \"e_logL\": 0.16, \"logM\": 6.9, \"E_logM\": null, \"e_logM\": 0.2}, {\"Name\": \"SDSS J172759.15+542147.0\", \"z\": 0.0995, \"sigma*\": 58.0, \"e_sigma*\": 7.0, \"n_sigma*\": \"b\", \"FWHM\": 810.0, \"e_FWHM\": 400.0, \"logL\": 42.19, \"e_logL\": 0.09, \"logM\": 5.6, \"E_logM\": null, \"e_logM\": 0.5}, {\"Name\": \"SDSS J215658.30+110343.1\", \"z\": 0.10800000000000001, \"sigma*\": 81.0, \"e_sigma*\": 8.0, \"n_sigma*\": \"b\", \"FWHM\": 1430.0, \"e_FWHM\": 280.0, \"logL\": 41.22, \"e_logL\": 0.03, \"logM\": 6.3, \"E_logM\": null, \"e_logM\": 0.8}, {\"Name\": \"SDSS J232159.06+000738.8\", \"z\": 0.184, \"sigma*\": 81.0, \"e_sigma*\": 9.0, \"n_sigma*\": \"b\", \"FWHM\": 2520.0, \"e_FWHM\": 120.0, \"logL\": 42.96, \"e_logL\": 0.1, \"logM\": 6.7, \"E_logM\": null, \"e_logM\": 0.2}, {\"Name\": \"SDSS J233837.10-002810.3\", \"z\": 0.0356, \"sigma*\": 58.0, \"e_sigma*\": 4.0, \"n_sigma*\": \"b\", \"FWHM\": 1740.0, \"e_FWHM\": 86.0, \"logL\": 43.61, \"e_logL\": 0.13, \"logM\": 5.8, \"E_logM\": null, \"e_logM\": 0.1}, {\"Name\": \"3C 120\", \"z\": 0.033, \"sigma*\": 162.0, \"e_sigma*\": 24.0, \"n_sigma*\": \"b\", \"FWHM\": null, \"e_FWHM\": null, \"logL\": null, \"e_logL\": null, \"logM\": 7.43, \"E_logM\": 0.2, \"e_logM\": 0.25}, {\"Name\": \"3C 390.3\", \"z\": 0.0561, \"sigma*\": 268.0, \"e_sigma*\": 15.0, \"n_sigma*\": null, \"FWHM\": null, \"e_FWHM\": null, \"logL\": null, \"e_logL\": null, \"logM\": 8.52, \"E_logM\": 0.09, \"e_logM\": 0.12}, {\"Name\": \"Akn 120\", \"z\": 0.0323, \"sigma*\": 224.0, \"e_sigma*\": 15.0, \"n_sigma*\": null, \"FWHM\": null, \"e_FWHM\": null, \"logL\": null, \"e_logL\": null, \"logM\": 8.2, \"E_logM\": 0.05, \"e_logM\": 0.07}, {\"Name\": \"Mrk 79\", \"z\": 0.0222, \"sigma*\": 130.0, \"e_sigma*\": 10.0, \"n_sigma*\": null, \"FWHM\": null, \"e_FWHM\": null, \"logL\": null, \"e_logL\": null, \"logM\": 7.67, \"E_logM\": 0.11, \"e_logM\": 0.15}, {\"Name\": \"Mrk 110\", \"z\": 0.0353, \"sigma*\": 87.1, \"e_sigma*\": 12.0, \"n_sigma*\": null, \"FWHM\": null, \"e_FWHM\": null, \"logL\": null, \"e_logL\": null, \"logM\": 6.97, \"E_logM\": 0.11, \"e_logM\": 0.15}, {\"Name\": \"Mrk 279\", \"z\": 0.0305, \"sigma*\": 197.0, \"e_sigma*\": 12.0, \"n_sigma*\": null, \"FWHM\": null, \"e_FWHM\": null, \"logL\": null, \"e_logL\": null, \"logM\": 7.45, \"E_logM\": 0.12, \"e_logM\": 0.16}, {\"Name\": \"Mrk 590\", \"z\": 0.0264, \"sigma*\": 189.0, \"e_sigma*\": 5.7, \"n_sigma*\": null, \"FWHM\": null, \"e_FWHM\": null, \"logL\": null, \"e_logL\": null, \"logM\": 7.2, \"E_logM\": 0.11, \"e_logM\": 0.15}, {\"Name\": \"Mrk 817\", \"z\": 0.0315, \"sigma*\": 127.0, \"e_sigma*\": 12.0, \"n_sigma*\": null, \"FWHM\": null, \"e_FWHM\": null, \"logL\": null, \"e_logL\": null, \"logM\": 7.62, \"E_logM\": 0.08, \"e_logM\": 0.1}, {\"Name\": \"NGC 3227\", \"z\": 0.00386, \"sigma*\": 135.0, \"e_sigma*\": 3.8, \"n_sigma*\": null, \"FWHM\": null, \"e_FWHM\": null, \"logL\": null, \"e_logL\": null, \"logM\": 7.47, \"E_logM\": 0.24, \"e_logM\": 1.06}, {\"Name\": \"NGC 3516\", \"z\": 0.00884, \"sigma*\": 181.0, \"e_sigma*\": 4.9, \"n_sigma*\": \"b\", \"FWHM\": null, \"e_FWHM\": null, \"logL\": null, \"e_logL\": null, \"logM\": 7.04, \"E_logM\": 0.31, \"e_logM\": 0.39}, {\"Name\": \"NGC 3783\", \"z\": 0.009729999999999999, \"sigma*\": 95.0, \"e_sigma*\": 10.0, \"n_sigma*\": null, \"FWHM\": null, \"e_FWHM\": null, \"logL\": null, \"e_logL\": null, \"logM\": 7.16, \"E_logM\": 0.17, \"e_logM\": 0.23}, {\"Name\": \"NGC 4051\", \"z\": 0.00234, \"sigma*\": 88.9, \"e_sigma*\": 2.9, \"n_sigma*\": null, \"FWHM\": null, \"e_FWHM\": null, \"logL\": null, \"e_logL\": null, \"logM\": 5.99, \"E_logM\": 0.17, \"e_logM\": 0.2}, {\"Name\": \"NGC 4151\", \"z\": 0.0033200000000000005, \"sigma*\": 96.8, \"e_sigma*\": 2.9, \"n_sigma*\": null, \"FWHM\": null, \"e_FWHM\": null, \"logL\": null, \"e_logL\": null, \"logM\": 6.91, \"E_logM\": 0.17, \"e_logM\": 0.29}, {\"Name\": \"NGC 5548\", \"z\": 0.0172, \"sigma*\": 198.0, \"e_sigma*\": 11.0, \"n_sigma*\": null, \"FWHM\": null, \"e_FWHM\": null, \"logL\": null, \"e_logL\": null, \"logM\": 7.81, \"E_logM\": 0.02, \"e_logM\": 0.02}, {\"Name\": \"NGC 7469\", \"z\": 0.0163, \"sigma*\": 133.0, \"e_sigma*\": 4.8, \"n_sigma*\": null, \"FWHM\": null, \"e_FWHM\": null, \"logL\": null, \"e_logL\": null, \"logM\": 6.49, \"E_logM\": 0.16, \"e_logM\": 0.27}, {\"Name\": \"POX 52\", \"z\": 0.0218, \"sigma*\": 36.0, \"e_sigma*\": 5.0, \"n_sigma*\": null, \"FWHM\": null, \"e_FWHM\": null, \"logL\": null, \"e_logL\": null, \"logM\": 5.2, \"E_logM\": null, \"e_logM\": 0.3}, {\"Name\": \"NGC 4395\", \"z\": 0.000947, \"sigma*\": 30.0, \"e_sigma*\": 5.0, \"n_sigma*\": null, \"FWHM\": null, \"e_FWHM\": null, \"logL\": null, \"e_logL\": null, \"logM\": 4.9, \"E_logM\": null, \"e_logM\": 0.4}]}}, {\"mode\": \"vega-lite\"});\n",
       "</script>"
      ],
      "text/plain": [
       "alt.Chart(...)"
      ]
     },
     "execution_count": 26,
     "metadata": {
      "tags": []
     },
     "output_type": "execute_result"
    }
   ],
   "source": [
    "scales = alt.selection_interval(bind='scales')\n",
    "\n",
    "alt.Chart(df).mark_point(filled=True).encode(\n",
    "    alt.X('sigma*', scale=alt.Scale(type='log', base=10)),\n",
    "    alt.Y('logM'),\n",
    "    color = 'z',\n",
    "    tooltip = 'Name' \n",
    ").add_selection(\n",
    "    scales\n",
    ")"
   ]
  },
  {
   "cell_type": "markdown",
   "metadata": {
    "id": "qFIXY3XYQkVz"
   },
   "source": [
    "Finally, we can create a slider to choose a cutoff value and give color to points based on whether they are smaller or larger than this value. "
   ]
  },
  {
   "cell_type": "code",
   "execution_count": null,
   "metadata": {
    "colab": {
     "base_uri": "https://localhost:8080/",
     "height": 391
    },
    "executionInfo": {
     "elapsed": 721,
     "status": "ok",
     "timestamp": 1609124146818,
     "user": {
      "displayName": "Eduard Alexis Larranaga",
      "photoUrl": "https://lh3.googleusercontent.com/a-/AOh14GgCVABzEgj-rCdyxWa29RnA0kIYUCXAaVbnRYOEhQ=s64",
      "userId": "04402438389940282602"
     },
     "user_tz": 300
    },
    "id": "TtT6CwJhQkVz",
    "outputId": "4834e183-d3b8-4404-ff16-4de0bbb08eaa"
   },
   "outputs": [
    {
     "data": {
      "text/html": [
       "\n",
       "<div id=\"altair-viz-f51416c30814410bbb45219cec21251e\"></div>\n",
       "<script type=\"text/javascript\">\n",
       "  (function(spec, embedOpt){\n",
       "    let outputDiv = document.currentScript.previousElementSibling;\n",
       "    if (outputDiv.id !== \"altair-viz-f51416c30814410bbb45219cec21251e\") {\n",
       "      outputDiv = document.getElementById(\"altair-viz-f51416c30814410bbb45219cec21251e\");\n",
       "    }\n",
       "    const paths = {\n",
       "      \"vega\": \"https://cdn.jsdelivr.net/npm//vega@5?noext\",\n",
       "      \"vega-lib\": \"https://cdn.jsdelivr.net/npm//vega-lib?noext\",\n",
       "      \"vega-lite\": \"https://cdn.jsdelivr.net/npm//vega-lite@4.8.1?noext\",\n",
       "      \"vega-embed\": \"https://cdn.jsdelivr.net/npm//vega-embed@6?noext\",\n",
       "    };\n",
       "\n",
       "    function loadScript(lib) {\n",
       "      return new Promise(function(resolve, reject) {\n",
       "        var s = document.createElement('script');\n",
       "        s.src = paths[lib];\n",
       "        s.async = true;\n",
       "        s.onload = () => resolve(paths[lib]);\n",
       "        s.onerror = () => reject(`Error loading script: ${paths[lib]}`);\n",
       "        document.getElementsByTagName(\"head\")[0].appendChild(s);\n",
       "      });\n",
       "    }\n",
       "\n",
       "    function showError(err) {\n",
       "      outputDiv.innerHTML = `<div class=\"error\" style=\"color:red;\">${err}</div>`;\n",
       "      throw err;\n",
       "    }\n",
       "\n",
       "    function displayChart(vegaEmbed) {\n",
       "      vegaEmbed(outputDiv, spec, embedOpt)\n",
       "        .catch(err => showError(`Javascript Error: ${err.message}<br>This usually means there's a typo in your chart specification. See the javascript console for the full traceback.`));\n",
       "    }\n",
       "\n",
       "    if(typeof define === \"function\" && define.amd) {\n",
       "      requirejs.config({paths});\n",
       "      require([\"vega-embed\"], displayChart, err => showError(`Error loading script: ${err.message}`));\n",
       "    } else if (typeof vegaEmbed === \"function\") {\n",
       "      displayChart(vegaEmbed);\n",
       "    } else {\n",
       "      loadScript(\"vega\")\n",
       "        .then(() => loadScript(\"vega-lite\"))\n",
       "        .then(() => loadScript(\"vega-embed\"))\n",
       "        .catch(showError)\n",
       "        .then(() => displayChart(vegaEmbed));\n",
       "    }\n",
       "  })({\"config\": {\"view\": {\"continuousWidth\": 400, \"continuousHeight\": 300}}, \"data\": {\"name\": \"data-54b58a4aa74e295879badff738f3e9c4\"}, \"mark\": \"point\", \"encoding\": {\"color\": {\"condition\": {\"value\": \"blue\", \"test\": \"(datum.z < SelectorName.cutoff)\"}, \"value\": \"red\"}, \"tooltip\": {\"type\": \"nominal\", \"field\": \"Name\"}, \"x\": {\"type\": \"quantitative\", \"field\": \"sigma*\", \"scale\": {\"base\": 10, \"type\": \"log\"}}, \"y\": {\"type\": \"quantitative\", \"field\": \"logM\"}}, \"selection\": {\"SelectorName\": {\"type\": \"single\", \"fields\": [\"cutoff\"], \"bind\": {\"input\": \"range\", \"max\": 0.184, \"min\": 0, \"name\": \"z cutoff:\", \"step\": 0.001}, \"init\": {\"cutoff\": 0.09}}}, \"$schema\": \"https://vega.github.io/schema/vega-lite/v4.8.1.json\", \"datasets\": {\"data-54b58a4aa74e295879badff738f3e9c4\": [{\"Name\": \"SDSS J000805.62+145023.4\", \"z\": 0.0454, \"sigma*\": 140.0, \"e_sigma*\": 27.0, \"n_sigma*\": null, \"FWHM\": 7610.0, \"e_FWHM\": 380.0, \"logL\": 41.13, \"e_logL\": 0.04, \"logM\": 7.7, \"E_logM\": null, \"e_logM\": 0.1}, {\"Name\": \"SDSS J004236.86-104921.8\", \"z\": 0.0419, \"sigma*\": 78.4, \"e_sigma*\": 10.0, \"n_sigma*\": null, \"FWHM\": 1960.0, \"e_FWHM\": 97.0, \"logL\": 41.58, \"e_logL\": 0.14, \"logM\": 6.7, \"E_logM\": null, \"e_logM\": 0.1}, {\"Name\": \"SDSS J011703.58+000027.3\", \"z\": 0.0456, \"sigma*\": 98.8, \"e_sigma*\": 16.0, \"n_sigma*\": null, \"FWHM\": 2270.0, \"e_FWHM\": 110.0, \"logL\": 41.45, \"e_logL\": 0.08, \"logM\": 6.8, \"E_logM\": null, \"e_logM\": 0.1}, {\"Name\": \"SDSS J020459.25-080816.0\", \"z\": 0.0772, \"sigma*\": 121.0, \"e_sigma*\": 9.4, \"n_sigma*\": \"a\", \"FWHM\": 3720.0, \"e_FWHM\": 180.0, \"logL\": 41.13, \"e_logL\": 0.05, \"logM\": 7.0, \"E_logM\": null, \"e_logM\": 0.1}, {\"Name\": \"SDSS J020615.99-001729.1\", \"z\": 0.0426, \"sigma*\": 216.0, \"e_sigma*\": 30.0, \"n_sigma*\": null, \"FWHM\": 3860.0, \"e_FWHM\": 190.0, \"logL\": 41.91, \"e_logL\": 0.07, \"logM\": 7.5, \"E_logM\": null, \"e_logM\": 0.1}, {\"Name\": \"SDSS J021011.49-090335.5\", \"z\": 0.0414, \"sigma*\": 122.0, \"e_sigma*\": 12.0, \"n_sigma*\": \"a\", \"FWHM\": 2450.0, \"e_FWHM\": 120.0, \"logL\": 41.24, \"e_logL\": 0.07, \"logM\": 6.7, \"E_logM\": null, \"e_logM\": 0.1}, {\"Name\": \"SDSS J021257.59+140610.1\", \"z\": 0.0618, \"sigma*\": 174.0, \"e_sigma*\": 12.0, \"n_sigma*\": \"a\", \"FWHM\": 3080.0, \"e_FWHM\": 150.0, \"logL\": 41.58, \"e_logL\": 0.06, \"logM\": 7.1, \"E_logM\": null, \"e_logM\": 0.1}, {\"Name\": \"SDSS J033013.26-053236.0\", \"z\": 0.0131, \"sigma*\": 99.2, \"e_sigma*\": 11.0, \"n_sigma*\": null, \"FWHM\": 5160.0, \"e_FWHM\": 250.0, \"logL\": 40.45, \"e_logL\": 0.06, \"logM\": 7.0, \"E_logM\": null, \"e_logM\": 0.1}, {\"Name\": \"SDSS J075057.25+353037.5\", \"z\": 0.17600000000000002, \"sigma*\": 154.0, \"e_sigma*\": 14.0, \"n_sigma*\": \"a\", \"FWHM\": 2970.0, \"e_FWHM\": 200.0, \"logL\": 41.63, \"e_logL\": 0.03, \"logM\": 7.2, \"E_logM\": null, \"e_logM\": 0.1}, {\"Name\": \"SDSS J080243.39+310403.3\", \"z\": 0.0409, \"sigma*\": 151.0, \"e_sigma*\": 17.0, \"n_sigma*\": null, \"FWHM\": 5360.0, \"e_FWHM\": 260.0, \"logL\": 41.67, \"e_logL\": 0.07, \"logM\": 7.6, \"E_logM\": null, \"e_logM\": 0.1}, {\"Name\": \"SDSS J080538.66+261005.4\", \"z\": 0.017, \"sigma*\": 100.0, \"e_sigma*\": 14.0, \"n_sigma*\": null, \"FWHM\": 3110.0, \"e_FWHM\": 150.0, \"logL\": 40.14, \"e_logL\": 0.04, \"logM\": 6.3, \"E_logM\": null, \"e_logM\": 0.2}, {\"Name\": \"SDSS J082510.23+375919.7\", \"z\": 0.0214, \"sigma*\": 98.7, \"e_sigma*\": 12.0, \"n_sigma*\": null, \"FWHM\": 1830.0, \"e_FWHM\": 91.0, \"logL\": 40.42, \"e_logL\": 0.04, \"logM\": 6.0, \"E_logM\": null, \"e_logM\": 0.1}, {\"Name\": \"SDSS J083202.16+461425.7\", \"z\": 0.0459, \"sigma*\": 104.0, \"e_sigma*\": 13.0, \"n_sigma*\": null, \"FWHM\": 1450.0, \"e_FWHM\": 72.0, \"logL\": 41.17, \"e_logL\": 0.08, \"logM\": 6.2, \"E_logM\": null, \"e_logM\": 0.1}, {\"Name\": \"SDSS J083949.64+484701.4\", \"z\": 0.0394, \"sigma*\": 133.0, \"e_sigma*\": 12.0, \"n_sigma*\": null, \"FWHM\": 1480.0, \"e_FWHM\": 73.0, \"logL\": 41.31, \"e_logL\": 0.08, \"logM\": 6.3, \"E_logM\": null, \"e_logM\": 0.2}, {\"Name\": \"SDSS J085554.27+005110.9\", \"z\": 0.0524, \"sigma*\": 118.0, \"e_sigma*\": 11.0, \"n_sigma*\": \"a\", \"FWHM\": 2910.0, \"e_FWHM\": 140.0, \"logL\": 41.27, \"e_logL\": 0.06, \"logM\": 6.9, \"E_logM\": null, \"e_logM\": 0.1}, {\"Name\": \"SDSS J092438.88+560746.9\", \"z\": 0.025, \"sigma*\": 135.0, \"e_sigma*\": 10.0, \"n_sigma*\": null, \"FWHM\": 1900.0, \"e_FWHM\": 94.0, \"logL\": 40.72, \"e_logL\": 0.07, \"logM\": 6.2, \"E_logM\": null, \"e_logM\": 0.4}, {\"Name\": \"SDSS J093259.60+040506.0\", \"z\": 0.059000000000000004, \"sigma*\": 70.5, \"e_sigma*\": 6.7, \"n_sigma*\": \"a\", \"FWHM\": 3550.0, \"e_FWHM\": 170.0, \"logL\": 41.14, \"e_logL\": 0.05, \"logM\": 7.0, \"E_logM\": null, \"e_logM\": 0.1}, {\"Name\": \"SDSS J093812.26+074340.0\", \"z\": 0.0219, \"sigma*\": 119.0, \"e_sigma*\": 8.0, \"n_sigma*\": null, \"FWHM\": 3640.0, \"e_FWHM\": 180.0, \"logL\": 40.8, \"e_logL\": 0.05, \"logM\": 6.8, \"E_logM\": null, \"e_logM\": 0.1}, {\"Name\": \"SDSS J094838.42+403043.7\", \"z\": 0.047, \"sigma*\": 91.4, \"e_sigma*\": 16.0, \"n_sigma*\": null, \"FWHM\": 3020.0, \"e_FWHM\": 150.0, \"logL\": 41.46, \"e_logL\": 0.07, \"logM\": 7.0, \"E_logM\": null, \"e_logM\": 0.1}, {\"Name\": \"SDSS J101912.57+635802.7\", \"z\": 0.0414, \"sigma*\": 239.0, \"e_sigma*\": 13.0, \"n_sigma*\": null, \"FWHM\": 3630.0, \"e_FWHM\": 180.0, \"logL\": 41.74, \"e_logL\": 0.08, \"logM\": 7.4, \"E_logM\": null, \"e_logM\": 0.1}, {\"Name\": \"SDSS J102044.43+013048.4\", \"z\": 0.0962, \"sigma*\": 103.0, \"e_sigma*\": 8.8, \"n_sigma*\": \"a\", \"FWHM\": 5200.0, \"e_FWHM\": 250.0, \"logL\": 41.51, \"e_logL\": 0.04, \"logM\": 7.6, \"E_logM\": null, \"e_logM\": 0.1}, {\"Name\": \"SDSS J110640.20+051905.6\", \"z\": 0.0913, \"sigma*\": 140.0, \"e_sigma*\": 15.0, \"n_sigma*\": \"a\", \"FWHM\": 5830.0, \"e_FWHM\": 290.0, \"logL\": 41.65, \"e_logL\": 0.04, \"logM\": 7.7, \"E_logM\": null, \"e_logM\": 0.1}, {\"Name\": \"SDSS J112536.16+542257.1\", \"z\": 0.0206, \"sigma*\": 124.0, \"e_sigma*\": 12.0, \"n_sigma*\": null, \"FWHM\": 2950.0, \"e_FWHM\": 140.0, \"logL\": 41.17, \"e_logL\": 0.08, \"logM\": 6.8, \"E_logM\": null, \"e_logM\": 0.1}, {\"Name\": \"SDSS J112841.00+575006.5\", \"z\": 0.0513, \"sigma*\": 159.0, \"e_sigma*\": 18.0, \"n_sigma*\": \"a\", \"FWHM\": 2660.0, \"e_FWHM\": 130.0, \"logL\": 41.66, \"e_logL\": 0.09, \"logM\": 7.0, \"E_logM\": null, \"e_logM\": 0.1}, {\"Name\": \"SDSS J120257.81+045045.0\", \"z\": 0.0207, \"sigma*\": 102.0, \"e_sigma*\": 20.0, \"n_sigma*\": null, \"FWHM\": 2250.0, \"e_FWHM\": 110.0, \"logL\": 40.1, \"e_logL\": 0.06, \"logM\": 6.0, \"E_logM\": null, \"e_logM\": 0.1}, {\"Name\": \"SDSS J120556.01+495956.1\", \"z\": 0.0631, \"sigma*\": 107.0, \"e_sigma*\": 11.0, \"n_sigma*\": \"a\", \"FWHM\": 5610.0, \"e_FWHM\": 450.0, \"logL\": 41.57, \"e_logL\": 0.04, \"logM\": 7.7, \"E_logM\": null, \"e_logM\": 0.1}, {\"Name\": \"SDSS J121607.09+504930.0\", \"z\": 0.0308, \"sigma*\": 138.0, \"e_sigma*\": 13.0, \"n_sigma*\": null, \"FWHM\": 5580.0, \"e_FWHM\": 270.0, \"logL\": 41.3, \"e_logL\": 0.06, \"logM\": 7.5, \"E_logM\": null, \"e_logM\": 0.3}, {\"Name\": \"SDSS J121754.97+583935.6\", \"z\": 0.0233, \"sigma*\": 85.6, \"e_sigma*\": 14.0, \"n_sigma*\": null, \"FWHM\": 1970.0, \"e_FWHM\": 98.0, \"logL\": 40.92, \"e_logL\": 0.08, \"logM\": 6.4, \"E_logM\": null, \"e_logM\": 0.1}, {\"Name\": \"SDSS J122324.13+024044.4\", \"z\": 0.0236, \"sigma*\": 78.1, \"e_sigma*\": 15.0, \"n_sigma*\": null, \"FWHM\": 3880.0, \"e_FWHM\": 910.0, \"logL\": 41.62, \"e_logL\": 0.08, \"logM\": 7.3, \"E_logM\": null, \"e_logM\": 0.2}, {\"Name\": \"SDSS J123237.48+662452.3\", \"z\": 0.0468, \"sigma*\": 124.0, \"e_sigma*\": 9.0, \"n_sigma*\": null, \"FWHM\": 2620.0, \"e_FWHM\": 130.0, \"logL\": 41.86, \"e_logL\": 0.19, \"logM\": 7.1, \"E_logM\": null, \"e_logM\": 0.2}, {\"Name\": \"SDSS J130620.97+531823.1\", \"z\": 0.0237, \"sigma*\": 90.7, \"e_sigma*\": 11.0, \"n_sigma*\": null, \"FWHM\": 7620.0, \"e_FWHM\": 380.0, \"logL\": 40.58, \"e_logL\": 0.04, \"logM\": 7.3, \"E_logM\": null, \"e_logM\": 0.1}, {\"Name\": \"SDSS J131305.80+012755.9\", \"z\": 0.0294, \"sigma*\": 95.4, \"e_sigma*\": 13.0, \"n_sigma*\": null, \"FWHM\": 1590.0, \"e_FWHM\": 79.0, \"logL\": 40.62, \"e_logL\": 0.07, \"logM\": 6.0, \"E_logM\": null, \"e_logM\": 0.1}, {\"Name\": \"SDSS J132249.21+545528.2\", \"z\": 0.0653, \"sigma*\": 130.0, \"e_sigma*\": 13.0, \"n_sigma*\": \"a\", \"FWHM\": 4050.0, \"e_FWHM\": 200.0, \"logL\": 41.81, \"e_logL\": 0.07, \"logM\": 7.5, \"E_logM\": null, \"e_logM\": 0.1}, {\"Name\": \"SDSS J132340.31-012749.2\", \"z\": 0.0767, \"sigma*\": 114.0, \"e_sigma*\": 16.0, \"n_sigma*\": \"a\", \"FWHM\": 1910.0, \"e_FWHM\": 95.0, \"logL\": 41.55, \"e_logL\": 0.09, \"logM\": 6.7, \"E_logM\": null, \"e_logM\": 0.1}, {\"Name\": \"SDSS J134952.84+020445.1\", \"z\": 0.0328, \"sigma*\": 138.0, \"e_sigma*\": 13.0, \"n_sigma*\": null, \"FWHM\": 2590.0, \"e_FWHM\": 120.0, \"logL\": 41.62, \"e_logL\": 0.07, \"logM\": 7.0, \"E_logM\": null, \"e_logM\": 0.1}, {\"Name\": \"SDSS J140018.42+050242.2\", \"z\": 0.0342, \"sigma*\": 145.0, \"e_sigma*\": 14.0, \"n_sigma*\": null, \"FWHM\": 3340.0, \"e_FWHM\": 160.0, \"logL\": 41.23, \"e_logL\": 0.05, \"logM\": 7.1, \"E_logM\": null, \"e_logM\": 0.5}, {\"Name\": \"SDSS J140514.87-025901.2\", \"z\": 0.0542, \"sigma*\": 148.0, \"e_sigma*\": 15.0, \"n_sigma*\": \"a\", \"FWHM\": 2990.0, \"e_FWHM\": 140.0, \"logL\": 41.29, \"e_logL\": 0.06, \"logM\": 6.9, \"E_logM\": null, \"e_logM\": 0.3}, {\"Name\": \"SDSS J141630.81+013708.0\", \"z\": 0.0538, \"sigma*\": 121.0, \"e_sigma*\": 12.0, \"n_sigma*\": \"a\", \"FWHM\": 3180.0, \"e_FWHM\": 150.0, \"logL\": 41.1, \"e_logL\": 0.04, \"logM\": 6.9, \"E_logM\": null, \"e_logM\": 0.1}, {\"Name\": \"SDSS J143452.45+483942.7\", \"z\": 0.0365, \"sigma*\": 138.0, \"e_sigma*\": 15.0, \"n_sigma*\": null, \"FWHM\": 3210.0, \"e_FWHM\": 160.0, \"logL\": 41.84, \"e_logL\": 0.1, \"logM\": 7.3, \"E_logM\": null, \"e_logM\": 0.1}, {\"Name\": \"SDSS J144629.97+500130.5\", \"z\": 0.0427, \"sigma*\": 86.8, \"e_sigma*\": 19.0, \"n_sigma*\": null, \"FWHM\": 6450.0, \"e_FWHM\": 320.0, \"logL\": 40.73, \"e_logL\": 0.03, \"logM\": 7.3, \"E_logM\": null, \"e_logM\": 0.2}, {\"Name\": \"SDSS J145706.80+494008.4\", \"z\": 0.0134, \"sigma*\": 108.0, \"e_sigma*\": 11.0, \"n_sigma*\": null, \"FWHM\": 2270.0, \"e_FWHM\": 110.0, \"logL\": 40.46, \"e_logL\": 0.1, \"logM\": 6.3, \"E_logM\": null, \"e_logM\": 0.1}, {\"Name\": \"SDSS J145901.35+611353.5\", \"z\": 0.0388, \"sigma*\": 113.0, \"e_sigma*\": 13.0, \"n_sigma*\": null, \"FWHM\": 4140.0, \"e_FWHM\": 200.0, \"logL\": 41.18, \"e_logL\": 0.06, \"logM\": 7.2, \"E_logM\": null, \"e_logM\": 0.1}, {\"Name\": \"SDSS J150556.55+034226.3\", \"z\": 0.0359, \"sigma*\": 199.0, \"e_sigma*\": 18.0, \"n_sigma*\": \"a\", \"FWHM\": 4370.0, \"e_FWHM\": 210.0, \"logL\": 42.09, \"e_logL\": 0.1, \"logM\": 7.7, \"E_logM\": null, \"e_logM\": 0.1}, {\"Name\": \"SDSS J150745.00+512710.2\", \"z\": 0.0458, \"sigma*\": 139.0, \"e_sigma*\": 17.0, \"n_sigma*\": null, \"FWHM\": 3430.0, \"e_FWHM\": 170.0, \"logL\": 41.4, \"e_logL\": 0.04, \"logM\": 7.1, \"E_logM\": null, \"e_logM\": 0.1}, {\"Name\": \"SDSS J150853.95-001148.9\", \"z\": 0.0542, \"sigma*\": 163.0, \"e_sigma*\": 15.0, \"n_sigma*\": \"a\", \"FWHM\": 6190.0, \"e_FWHM\": 610.0, \"logL\": 41.51, \"e_logL\": 0.04, \"logM\": 7.8, \"E_logM\": null, \"e_logM\": 0.1}, {\"Name\": \"SDSS J152515.18+601409.0\", \"z\": 0.0783, \"sigma*\": 104.0, \"e_sigma*\": 11.0, \"n_sigma*\": \"a\", \"FWHM\": 2590.0, \"e_FWHM\": 120.0, \"logL\": 41.41, \"e_logL\": 0.09, \"logM\": 6.9, \"E_logM\": null, \"e_logM\": 0.1}, {\"Name\": \"SDSS J155417.43+323837.8\", \"z\": 0.0483, \"sigma*\": 120.0, \"e_sigma*\": 13.0, \"n_sigma*\": \"a\", \"FWHM\": 4200.0, \"e_FWHM\": 210.0, \"logL\": 41.86, \"e_logL\": 0.08, \"logM\": 7.5, \"E_logM\": null, \"e_logM\": 0.1}, {\"Name\": \"SDSS J161156.31+521116.8\", \"z\": 0.040999999999999995, \"sigma*\": 116.0, \"e_sigma*\": 10.0, \"n_sigma*\": null, \"FWHM\": 3760.0, \"e_FWHM\": 180.0, \"logL\": 41.09, \"e_logL\": 0.04, \"logM\": 7.0, \"E_logM\": null, \"e_logM\": 0.3}, {\"Name\": \"SDSS J161951.31+405847.2\", \"z\": 0.0379, \"sigma*\": 89.1, \"e_sigma*\": 20.0, \"n_sigma*\": null, \"FWHM\": 1700.0, \"e_FWHM\": 85.0, \"logL\": 40.99, \"e_logL\": 0.07, \"logM\": 6.3, \"E_logM\": null, \"e_logM\": 0.1}, {\"Name\": \"SDSS J170328.96+614109.9\", \"z\": 0.0772, \"sigma*\": 123.0, \"e_sigma*\": 13.0, \"n_sigma*\": \"a\", \"FWHM\": 4300.0, \"e_FWHM\": 210.0, \"logL\": 41.92, \"e_logL\": 0.05, \"logM\": 7.6, \"E_logM\": null, \"e_logM\": 0.1}, {\"Name\": \"SDSS J171550.49+593548.7\", \"z\": 0.0657, \"sigma*\": 146.0, \"e_sigma*\": 13.0, \"n_sigma*\": \"a\", \"FWHM\": 3500.0, \"e_FWHM\": 170.0, \"logL\": 41.24, \"e_logL\": 0.05, \"logM\": 7.0, \"E_logM\": null, \"e_logM\": 0.1}, {\"Name\": \"SDSS J212401.90-002158.7\", \"z\": 0.0619, \"sigma*\": 110.0, \"e_sigma*\": 15.0, \"n_sigma*\": \"a\", \"FWHM\": 2620.0, \"e_FWHM\": 130.0, \"logL\": 41.41, \"e_logL\": 0.06, \"logM\": 6.9, \"E_logM\": null, \"e_logM\": 0.1}, {\"Name\": \"SDSS J222435.29-001103.8\", \"z\": 0.0581, \"sigma*\": 111.0, \"e_sigma*\": 19.0, \"n_sigma*\": \"a\", \"FWHM\": 2290.0, \"e_FWHM\": 1190.0, \"logL\": 41.83, \"e_logL\": 0.17, \"logM\": 7.0, \"E_logM\": null, \"e_logM\": 0.4}, {\"Name\": \"SDSS J223000.37-094622.1\", \"z\": 0.0727, \"sigma*\": 112.0, \"e_sigma*\": 13.0, \"n_sigma*\": \"a\", \"FWHM\": 3630.0, \"e_FWHM\": 180.0, \"logL\": 41.21, \"e_logL\": 0.04, \"logM\": 7.1, \"E_logM\": null, \"e_logM\": 0.1}, {\"Name\": \"SDSS J232721.96+152437.3\", \"z\": 0.0457, \"sigma*\": 193.0, \"e_sigma*\": 18.0, \"n_sigma*\": null, \"FWHM\": 7540.0, \"e_FWHM\": 750.0, \"logL\": 41.65, \"e_logL\": 0.06, \"logM\": 7.9, \"E_logM\": null, \"e_logM\": 0.1}, {\"Name\": \"SDSS J235128.78+155259.0\", \"z\": 0.0963, \"sigma*\": 193.0, \"e_sigma*\": 22.0, \"n_sigma*\": \"a\", \"FWHM\": 8240.0, \"e_FWHM\": 410.0, \"logL\": 41.87, \"e_logL\": 0.04, \"logM\": 8.2, \"E_logM\": null, \"e_logM\": 0.2}, {\"Name\": \"SDSS J010712.03+140844.9\", \"z\": 0.0768, \"sigma*\": 36.0, \"e_sigma*\": 6.0, \"n_sigma*\": \"b\", \"FWHM\": 880.0, \"e_FWHM\": 170.0, \"logL\": 42.57, \"e_logL\": 0.2, \"logM\": 5.8, \"E_logM\": null, \"e_logM\": 0.2}, {\"Name\": \"SDSS J024912.86-081525.6\", \"z\": 0.0294, \"sigma*\": 50.0, \"e_sigma*\": 4.0, \"n_sigma*\": \"b\", \"FWHM\": 840.0, \"e_FWHM\": 320.0, \"logL\": 41.93, \"e_logL\": 0.08, \"logM\": 5.1, \"E_logM\": null, \"e_logM\": 0.3}, {\"Name\": \"SDSS J032515.59+003408.4\", \"z\": 0.102, \"sigma*\": 55.0, \"e_sigma*\": 6.0, \"n_sigma*\": \"b\", \"FWHM\": 990.0, \"e_FWHM\": 49.0, \"logL\": 42.03, \"e_logL\": 0.12, \"logM\": 5.8, \"E_logM\": null, \"e_logM\": 0.1}, {\"Name\": \"SDSS J080907.58+441641.4\", \"z\": 0.0539, \"sigma*\": 65.0, \"e_sigma*\": 4.0, \"n_sigma*\": \"b\", \"FWHM\": 940.0, \"e_FWHM\": 180.0, \"logL\": 40.47, \"e_logL\": 0.04, \"logM\": 5.5, \"E_logM\": null, \"e_logM\": 0.8}, {\"Name\": \"SDSS J082912.67+500652.3\", \"z\": 0.0434, \"sigma*\": 60.0, \"e_sigma*\": 4.0, \"n_sigma*\": \"b\", \"FWHM\": 840.0, \"e_FWHM\": 41.0, \"logL\": 42.14, \"e_logL\": 0.06, \"logM\": 5.7, \"E_logM\": null, \"e_logM\": 0.1}, {\"Name\": \"SDSS J101108.40+002908.7\", \"z\": 0.1, \"sigma*\": 48.0, \"e_sigma*\": 7.0, \"n_sigma*\": \"b\", \"FWHM\": 1460.0, \"e_FWHM\": 72.0, \"logL\": 42.68, \"e_logL\": 0.19, \"logM\": 6.2, \"E_logM\": null, \"e_logM\": 0.3}, {\"Name\": \"SDSS J101627.32-000714.5\", \"z\": 0.0944, \"sigma*\": 39.0, \"e_sigma*\": 6.0, \"n_sigma*\": \"b\", \"FWHM\": 1520.0, \"e_FWHM\": 75.0, \"logL\": 42.57, \"e_logL\": 0.17, \"logM\": 6.1, \"E_logM\": null, \"e_logM\": 0.2}, {\"Name\": \"SDSS J124035.81-002919.4\", \"z\": 0.0809, \"sigma*\": 49.0, \"e_sigma*\": 7.0, \"n_sigma*\": \"b\", \"FWHM\": 1720.0, \"e_FWHM\": 85.0, \"logL\": 42.35, \"e_logL\": 0.11, \"logM\": 6.6, \"E_logM\": null, \"e_logM\": 0.6}, {\"Name\": \"SDSS J125055.28-015556.6\", \"z\": 0.0814, \"sigma*\": 64.0, \"e_sigma*\": 6.0, \"n_sigma*\": \"b\", \"FWHM\": 1980.0, \"e_FWHM\": 99.0, \"logL\": 42.75, \"e_logL\": 0.14, \"logM\": 6.5, \"E_logM\": null, \"e_logM\": 0.1}, {\"Name\": \"SDSS J143450.62+033842.5\", \"z\": 0.0282, \"sigma*\": 48.0, \"e_sigma*\": 7.0, \"n_sigma*\": \"b\", \"FWHM\": 1480.0, \"e_FWHM\": 73.0, \"logL\": 41.87, \"e_logL\": 0.16, \"logM\": 5.6, \"E_logM\": null, \"e_logM\": 0.1}, {\"Name\": \"SDSS J170246.09+602818.9\", \"z\": 0.0689, \"sigma*\": 69.0, \"e_sigma*\": 6.0, \"n_sigma*\": \"b\", \"FWHM\": 3270.0, \"e_FWHM\": 160.0, \"logL\": 42.67, \"e_logL\": 0.16, \"logM\": 6.9, \"E_logM\": null, \"e_logM\": 0.2}, {\"Name\": \"SDSS J172759.15+542147.0\", \"z\": 0.0995, \"sigma*\": 58.0, \"e_sigma*\": 7.0, \"n_sigma*\": \"b\", \"FWHM\": 810.0, \"e_FWHM\": 400.0, \"logL\": 42.19, \"e_logL\": 0.09, \"logM\": 5.6, \"E_logM\": null, \"e_logM\": 0.5}, {\"Name\": \"SDSS J215658.30+110343.1\", \"z\": 0.10800000000000001, \"sigma*\": 81.0, \"e_sigma*\": 8.0, \"n_sigma*\": \"b\", \"FWHM\": 1430.0, \"e_FWHM\": 280.0, \"logL\": 41.22, \"e_logL\": 0.03, \"logM\": 6.3, \"E_logM\": null, \"e_logM\": 0.8}, {\"Name\": \"SDSS J232159.06+000738.8\", \"z\": 0.184, \"sigma*\": 81.0, \"e_sigma*\": 9.0, \"n_sigma*\": \"b\", \"FWHM\": 2520.0, \"e_FWHM\": 120.0, \"logL\": 42.96, \"e_logL\": 0.1, \"logM\": 6.7, \"E_logM\": null, \"e_logM\": 0.2}, {\"Name\": \"SDSS J233837.10-002810.3\", \"z\": 0.0356, \"sigma*\": 58.0, \"e_sigma*\": 4.0, \"n_sigma*\": \"b\", \"FWHM\": 1740.0, \"e_FWHM\": 86.0, \"logL\": 43.61, \"e_logL\": 0.13, \"logM\": 5.8, \"E_logM\": null, \"e_logM\": 0.1}, {\"Name\": \"3C 120\", \"z\": 0.033, \"sigma*\": 162.0, \"e_sigma*\": 24.0, \"n_sigma*\": \"b\", \"FWHM\": null, \"e_FWHM\": null, \"logL\": null, \"e_logL\": null, \"logM\": 7.43, \"E_logM\": 0.2, \"e_logM\": 0.25}, {\"Name\": \"3C 390.3\", \"z\": 0.0561, \"sigma*\": 268.0, \"e_sigma*\": 15.0, \"n_sigma*\": null, \"FWHM\": null, \"e_FWHM\": null, \"logL\": null, \"e_logL\": null, \"logM\": 8.52, \"E_logM\": 0.09, \"e_logM\": 0.12}, {\"Name\": \"Akn 120\", \"z\": 0.0323, \"sigma*\": 224.0, \"e_sigma*\": 15.0, \"n_sigma*\": null, \"FWHM\": null, \"e_FWHM\": null, \"logL\": null, \"e_logL\": null, \"logM\": 8.2, \"E_logM\": 0.05, \"e_logM\": 0.07}, {\"Name\": \"Mrk 79\", \"z\": 0.0222, \"sigma*\": 130.0, \"e_sigma*\": 10.0, \"n_sigma*\": null, \"FWHM\": null, \"e_FWHM\": null, \"logL\": null, \"e_logL\": null, \"logM\": 7.67, \"E_logM\": 0.11, \"e_logM\": 0.15}, {\"Name\": \"Mrk 110\", \"z\": 0.0353, \"sigma*\": 87.1, \"e_sigma*\": 12.0, \"n_sigma*\": null, \"FWHM\": null, \"e_FWHM\": null, \"logL\": null, \"e_logL\": null, \"logM\": 6.97, \"E_logM\": 0.11, \"e_logM\": 0.15}, {\"Name\": \"Mrk 279\", \"z\": 0.0305, \"sigma*\": 197.0, \"e_sigma*\": 12.0, \"n_sigma*\": null, \"FWHM\": null, \"e_FWHM\": null, \"logL\": null, \"e_logL\": null, \"logM\": 7.45, \"E_logM\": 0.12, \"e_logM\": 0.16}, {\"Name\": \"Mrk 590\", \"z\": 0.0264, \"sigma*\": 189.0, \"e_sigma*\": 5.7, \"n_sigma*\": null, \"FWHM\": null, \"e_FWHM\": null, \"logL\": null, \"e_logL\": null, \"logM\": 7.2, \"E_logM\": 0.11, \"e_logM\": 0.15}, {\"Name\": \"Mrk 817\", \"z\": 0.0315, \"sigma*\": 127.0, \"e_sigma*\": 12.0, \"n_sigma*\": null, \"FWHM\": null, \"e_FWHM\": null, \"logL\": null, \"e_logL\": null, \"logM\": 7.62, \"E_logM\": 0.08, \"e_logM\": 0.1}, {\"Name\": \"NGC 3227\", \"z\": 0.00386, \"sigma*\": 135.0, \"e_sigma*\": 3.8, \"n_sigma*\": null, \"FWHM\": null, \"e_FWHM\": null, \"logL\": null, \"e_logL\": null, \"logM\": 7.47, \"E_logM\": 0.24, \"e_logM\": 1.06}, {\"Name\": \"NGC 3516\", \"z\": 0.00884, \"sigma*\": 181.0, \"e_sigma*\": 4.9, \"n_sigma*\": \"b\", \"FWHM\": null, \"e_FWHM\": null, \"logL\": null, \"e_logL\": null, \"logM\": 7.04, \"E_logM\": 0.31, \"e_logM\": 0.39}, {\"Name\": \"NGC 3783\", \"z\": 0.009729999999999999, \"sigma*\": 95.0, \"e_sigma*\": 10.0, \"n_sigma*\": null, \"FWHM\": null, \"e_FWHM\": null, \"logL\": null, \"e_logL\": null, \"logM\": 7.16, \"E_logM\": 0.17, \"e_logM\": 0.23}, {\"Name\": \"NGC 4051\", \"z\": 0.00234, \"sigma*\": 88.9, \"e_sigma*\": 2.9, \"n_sigma*\": null, \"FWHM\": null, \"e_FWHM\": null, \"logL\": null, \"e_logL\": null, \"logM\": 5.99, \"E_logM\": 0.17, \"e_logM\": 0.2}, {\"Name\": \"NGC 4151\", \"z\": 0.0033200000000000005, \"sigma*\": 96.8, \"e_sigma*\": 2.9, \"n_sigma*\": null, \"FWHM\": null, \"e_FWHM\": null, \"logL\": null, \"e_logL\": null, \"logM\": 6.91, \"E_logM\": 0.17, \"e_logM\": 0.29}, {\"Name\": \"NGC 5548\", \"z\": 0.0172, \"sigma*\": 198.0, \"e_sigma*\": 11.0, \"n_sigma*\": null, \"FWHM\": null, \"e_FWHM\": null, \"logL\": null, \"e_logL\": null, \"logM\": 7.81, \"E_logM\": 0.02, \"e_logM\": 0.02}, {\"Name\": \"NGC 7469\", \"z\": 0.0163, \"sigma*\": 133.0, \"e_sigma*\": 4.8, \"n_sigma*\": null, \"FWHM\": null, \"e_FWHM\": null, \"logL\": null, \"e_logL\": null, \"logM\": 6.49, \"E_logM\": 0.16, \"e_logM\": 0.27}, {\"Name\": \"POX 52\", \"z\": 0.0218, \"sigma*\": 36.0, \"e_sigma*\": 5.0, \"n_sigma*\": null, \"FWHM\": null, \"e_FWHM\": null, \"logL\": null, \"e_logL\": null, \"logM\": 5.2, \"E_logM\": null, \"e_logM\": 0.3}, {\"Name\": \"NGC 4395\", \"z\": 0.000947, \"sigma*\": 30.0, \"e_sigma*\": 5.0, \"n_sigma*\": null, \"FWHM\": null, \"e_FWHM\": null, \"logL\": null, \"e_logL\": null, \"logM\": 4.9, \"E_logM\": null, \"e_logM\": 0.4}]}}, {\"mode\": \"vega-lite\"});\n",
       "</script>"
      ],
      "text/plain": [
       "alt.Chart(...)"
      ]
     },
     "execution_count": 27,
     "metadata": {
      "tags": []
     },
     "output_type": "execute_result"
    }
   ],
   "source": [
    "# Definition of the slider\n",
    "slider = alt.binding_range(min=0, max=0.184, step=0.001, name='z cutoff:')\n",
    "selector = alt.selection_single(name='SelectorName',fields=['cutoff'],\n",
    "                               bind=slider, init={'cutoff':0.09})\n",
    "\n",
    "alt.Chart(df).mark_point().encode(\n",
    "    alt.X('sigma*', scale=alt.Scale(type='log', base=10)),\n",
    "    alt.Y('logM'),\n",
    "    tooltip = 'Name',\n",
    "    color = alt.condition(\n",
    "    alt.datum.z<selector.cutoff,\n",
    "    alt.value('blue'),alt.value('red'))\n",
    ").add_selection(\n",
    "    selector\n",
    ")"
   ]
  }
 ],
 "metadata": {
  "colab": {
   "collapsed_sections": [],
   "name": "AltairExample01.ipynb",
   "provenance": []
  },
  "kernelspec": {
   "display_name": "Python 3",
   "language": "python",
   "name": "python3"
  },
  "language_info": {
   "codemirror_mode": {
    "name": "ipython",
    "version": 3
   },
   "file_extension": ".py",
   "mimetype": "text/x-python",
   "name": "python",
   "nbconvert_exporter": "python",
   "pygments_lexer": "ipython3",
   "version": "3.7.4"
  }
 },
 "nbformat": 4,
 "nbformat_minor": 0
}
