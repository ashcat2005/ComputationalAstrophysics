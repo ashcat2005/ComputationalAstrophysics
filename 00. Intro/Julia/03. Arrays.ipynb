{
 "cells": [
  {
   "cell_type": "markdown",
   "id": "a69b07ed",
   "metadata": {},
   "source": [
    "![Astrofisica Computacional](../../logo.PNG)"
   ]
  },
  {
   "cell_type": "markdown",
   "id": "cfbe1ac7",
   "metadata": {},
   "source": [
    "### Vectors and Arrays"
   ]
  },
  {
   "cell_type": "code",
   "execution_count": 13,
   "id": "0a2ccfa8",
   "metadata": {},
   "outputs": [
    {
     "data": {
      "text/plain": [
       "1×3 Matrix{Int64}:\n",
       " 1  2  3"
      ]
     },
     "execution_count": 13,
     "metadata": {},
     "output_type": "execute_result"
    }
   ],
   "source": [
    "A = [1 2 3]"
   ]
  },
  {
   "cell_type": "code",
   "execution_count": 17,
   "id": "cd12a5cf",
   "metadata": {},
   "outputs": [
    {
     "data": {
      "text/plain": [
       "3-element Vector{Int64}:\n",
       " 1\n",
       " 2\n",
       " 3"
      ]
     },
     "execution_count": 17,
     "metadata": {},
     "output_type": "execute_result"
    }
   ],
   "source": [
    "B = [1; 2; 3]"
   ]
  },
  {
   "cell_type": "code",
   "execution_count": 15,
   "id": "173e2438",
   "metadata": {},
   "outputs": [
    {
     "data": {
      "text/plain": [
       "1"
      ]
     },
     "execution_count": 15,
     "metadata": {},
     "output_type": "execute_result"
    }
   ],
   "source": [
    "A[1]"
   ]
  },
  {
   "cell_type": "code",
   "execution_count": 16,
   "id": "133e33e1",
   "metadata": {},
   "outputs": [
    {
     "data": {
      "text/plain": [
       "2"
      ]
     },
     "execution_count": 16,
     "metadata": {},
     "output_type": "execute_result"
    }
   ],
   "source": [
    "A[2]"
   ]
  },
  {
   "cell_type": "code",
   "execution_count": 18,
   "id": "303ab3ab",
   "metadata": {},
   "outputs": [
    {
     "data": {
      "text/plain": [
       "2"
      ]
     },
     "execution_count": 18,
     "metadata": {},
     "output_type": "execute_result"
    }
   ],
   "source": [
    "B[2]"
   ]
  },
  {
   "cell_type": "code",
   "execution_count": 64,
   "id": "f9bec7c0",
   "metadata": {},
   "outputs": [
    {
     "data": {
      "text/plain": [
       "1"
      ]
     },
     "execution_count": 64,
     "metadata": {},
     "output_type": "execute_result"
    }
   ],
   "source": [
    "A[begin]"
   ]
  },
  {
   "cell_type": "code",
   "execution_count": 65,
   "id": "99f9d92f",
   "metadata": {},
   "outputs": [
    {
     "data": {
      "text/plain": [
       "3"
      ]
     },
     "execution_count": 65,
     "metadata": {},
     "output_type": "execute_result"
    }
   ],
   "source": [
    "A[end]"
   ]
  },
  {
   "cell_type": "code",
   "execution_count": 66,
   "id": "e06094a7",
   "metadata": {},
   "outputs": [
    {
     "data": {
      "text/plain": [
       "1×10 Matrix{Int64}:\n",
       " 1  2  3  4  5  6  7  8  9  10"
      ]
     },
     "execution_count": 66,
     "metadata": {},
     "output_type": "execute_result"
    }
   ],
   "source": [
    "C = [1 2 3 4 5 6 7 8 9 10]"
   ]
  },
  {
   "cell_type": "code",
   "execution_count": 75,
   "id": "c1dc1053",
   "metadata": {},
   "outputs": [
    {
     "data": {
      "text/plain": [
       "(1, 10)"
      ]
     },
     "execution_count": 75,
     "metadata": {},
     "output_type": "execute_result"
    }
   ],
   "source": [
    "size(C)"
   ]
  },
  {
   "cell_type": "code",
   "execution_count": 77,
   "id": "0854fbce",
   "metadata": {},
   "outputs": [
    {
     "data": {
      "text/plain": [
       "1"
      ]
     },
     "execution_count": 77,
     "metadata": {},
     "output_type": "execute_result"
    }
   ],
   "source": [
    "size(C,1)"
   ]
  },
  {
   "cell_type": "code",
   "execution_count": 76,
   "id": "d2f7d21b",
   "metadata": {},
   "outputs": [
    {
     "data": {
      "text/plain": [
       "10"
      ]
     },
     "execution_count": 76,
     "metadata": {},
     "output_type": "execute_result"
    }
   ],
   "source": [
    "size(C,2)"
   ]
  },
  {
   "cell_type": "code",
   "execution_count": 67,
   "id": "2201da49",
   "metadata": {},
   "outputs": [
    {
     "data": {
      "text/plain": [
       "10-element Vector{Int64}:\n",
       "  1\n",
       "  2\n",
       "  3\n",
       "  4\n",
       "  5\n",
       "  6\n",
       "  7\n",
       "  8\n",
       "  9\n",
       " 10"
      ]
     },
     "execution_count": 67,
     "metadata": {},
     "output_type": "execute_result"
    }
   ],
   "source": [
    "C[begin:end]"
   ]
  },
  {
   "cell_type": "code",
   "execution_count": 68,
   "id": "6a6d0fa8",
   "metadata": {},
   "outputs": [
    {
     "data": {
      "text/plain": [
       "5-element Vector{Int64}:\n",
       " 1\n",
       " 3\n",
       " 5\n",
       " 7\n",
       " 9"
      ]
     },
     "execution_count": 68,
     "metadata": {},
     "output_type": "execute_result"
    }
   ],
   "source": [
    "C[begin:2:end]"
   ]
  },
  {
   "cell_type": "code",
   "execution_count": 69,
   "id": "675ebc07",
   "metadata": {},
   "outputs": [
    {
     "data": {
      "text/plain": [
       "3-element Vector{Int64}:\n",
       " 2\n",
       " 5\n",
       " 8"
      ]
     },
     "execution_count": 69,
     "metadata": {},
     "output_type": "execute_result"
    }
   ],
   "source": [
    "C[2:3:8]"
   ]
  },
  {
   "cell_type": "code",
   "execution_count": 79,
   "id": "c8d16e14",
   "metadata": {},
   "outputs": [
    {
     "name": "stdout",
     "output_type": "stream",
     "text": [
      "index :1  element :1\n",
      "index :2  element :2\n",
      "index :3  element :3\n",
      "index :4  element :4\n",
      "index :5  element :5\n",
      "index :6  element :6\n",
      "index :7  element :7\n",
      "index :8  element :8\n",
      "index :9  element :9\n",
      "index :10  element :10\n"
     ]
    }
   ],
   "source": [
    "for i in 1:size(C,2)\n",
    "    println(\"index :\", i, \"  element :\", C[i])\n",
    "end"
   ]
  },
  {
   "cell_type": "code",
   "execution_count": 19,
   "id": "1e929a7a",
   "metadata": {},
   "outputs": [
    {
     "data": {
      "text/plain": [
       "3×3 Matrix{Int64}:\n",
       " 1  2  3\n",
       " 4  5  6\n",
       " 7  8  9"
      ]
     },
     "execution_count": 19,
     "metadata": {},
     "output_type": "execute_result"
    }
   ],
   "source": [
    "M = [1 2 3; 4 5 6; 7 8 9]"
   ]
  },
  {
   "cell_type": "markdown",
   "id": "de97d0fc",
   "metadata": {},
   "source": [
    "Elements in the first row:"
   ]
  },
  {
   "cell_type": "code",
   "execution_count": 27,
   "id": "451281cd",
   "metadata": {},
   "outputs": [
    {
     "data": {
      "text/plain": [
       "3-element Vector{Int64}:\n",
       " 1\n",
       " 2\n",
       " 3"
      ]
     },
     "execution_count": 27,
     "metadata": {},
     "output_type": "execute_result"
    }
   ],
   "source": [
    "M[1,:]"
   ]
  },
  {
   "cell_type": "markdown",
   "id": "85b49601",
   "metadata": {},
   "source": [
    "Elements in the second column:"
   ]
  },
  {
   "cell_type": "code",
   "execution_count": 31,
   "id": "130def8d",
   "metadata": {},
   "outputs": [
    {
     "data": {
      "text/plain": [
       "3-element Vector{Int64}:\n",
       " 2\n",
       " 5\n",
       " 8"
      ]
     },
     "execution_count": 31,
     "metadata": {},
     "output_type": "execute_result"
    }
   ],
   "source": [
    "M[:,2]"
   ]
  },
  {
   "cell_type": "markdown",
   "id": "a865d64d",
   "metadata": {},
   "source": [
    "Element in  the second row, third column"
   ]
  },
  {
   "cell_type": "code",
   "execution_count": 32,
   "id": "6abc16a9",
   "metadata": {},
   "outputs": [
    {
     "data": {
      "text/plain": [
       "6"
      ]
     },
     "execution_count": 32,
     "metadata": {},
     "output_type": "execute_result"
    }
   ],
   "source": [
    "M[2,3]"
   ]
  },
  {
   "cell_type": "markdown",
   "id": "22617172",
   "metadata": {},
   "source": [
    "We can improve the definition:"
   ]
  },
  {
   "cell_type": "code",
   "execution_count": 4,
   "id": "e002cf19",
   "metadata": {},
   "outputs": [
    {
     "data": {
      "text/plain": [
       "3×3 Matrix{Int64}:\n",
       " 1  2  3\n",
       " 4  5  6\n",
       " 7  8  9"
      ]
     },
     "execution_count": 4,
     "metadata": {},
     "output_type": "execute_result"
    }
   ],
   "source": [
    "M = [1 2 3; \n",
    "     4 5 6; \n",
    "     7 8 9]"
   ]
  },
  {
   "cell_type": "code",
   "execution_count": 5,
   "id": "ec4cf966",
   "metadata": {},
   "outputs": [
    {
     "data": {
      "text/plain": [
       "3×3 Matrix{Float64}:\n",
       " 1.0  2.0  3.0\n",
       " 4.0  5.0  6.0\n",
       " 7.0  8.0  9.0"
      ]
     },
     "execution_count": 5,
     "metadata": {},
     "output_type": "execute_result"
    }
   ],
   "source": [
    "N = [1. 2 3; \n",
    "     4 5 6; \n",
    "     7 8 9]"
   ]
  },
  {
   "cell_type": "code",
   "execution_count": 6,
   "id": "15444511",
   "metadata": {},
   "outputs": [
    {
     "data": {
      "text/plain": [
       "3-element Vector{Any}:\n",
       "   \"Vainilla\"\n",
       " 10.0\n",
       "  5"
      ]
     },
     "execution_count": 6,
     "metadata": {},
     "output_type": "execute_result"
    }
   ],
   "source": [
    "T = [\"Vainilla\"; \n",
    "     10.; \n",
    "     5]"
   ]
  },
  {
   "cell_type": "markdown",
   "id": "7d8e09cb",
   "metadata": {},
   "source": [
    "### Array Comprehensions\n",
    "\n",
    "When the vector has many components, it is possible to define its components in a more easy way:"
   ]
  },
  {
   "cell_type": "code",
   "execution_count": 8,
   "id": "4d1acfd5",
   "metadata": {},
   "outputs": [
    {
     "data": {
      "text/plain": [
       "50-element Vector{Int64}:\n",
       "  1\n",
       "  2\n",
       "  3\n",
       "  4\n",
       "  5\n",
       "  6\n",
       "  7\n",
       "  8\n",
       "  9\n",
       " 10\n",
       " 11\n",
       " 12\n",
       " 13\n",
       "  ⋮\n",
       " 39\n",
       " 40\n",
       " 41\n",
       " 42\n",
       " 43\n",
       " 44\n",
       " 45\n",
       " 46\n",
       " 47\n",
       " 48\n",
       " 49\n",
       " 50"
      ]
     },
     "execution_count": 8,
     "metadata": {},
     "output_type": "execute_result"
    }
   ],
   "source": [
    "V = [i for i = 1:50]"
   ]
  },
  {
   "cell_type": "code",
   "execution_count": 9,
   "id": "47ed04e4",
   "metadata": {},
   "outputs": [
    {
     "data": {
      "text/plain": [
       "30-element Vector{Float64}:\n",
       " 1.0\n",
       " 0.25\n",
       " 0.1111111111111111\n",
       " 0.0625\n",
       " 0.04\n",
       " 0.027777777777777776\n",
       " 0.02040816326530612\n",
       " 0.015625\n",
       " 0.012345679012345678\n",
       " 0.01\n",
       " 0.008264462809917356\n",
       " 0.006944444444444444\n",
       " 0.005917159763313609\n",
       " ⋮\n",
       " 0.002770083102493075\n",
       " 0.0025\n",
       " 0.0022675736961451248\n",
       " 0.002066115702479339\n",
       " 0.001890359168241966\n",
       " 0.001736111111111111\n",
       " 0.0016\n",
       " 0.0014792899408284023\n",
       " 0.0013717421124828531\n",
       " 0.0012755102040816326\n",
       " 0.0011890606420927466\n",
       " 0.0011111111111111111"
      ]
     },
     "execution_count": 9,
     "metadata": {},
     "output_type": "execute_result"
    }
   ],
   "source": [
    "X = [1/n^2 for n = 1:30]"
   ]
  },
  {
   "cell_type": "code",
   "execution_count": 10,
   "id": "ca4a23b1",
   "metadata": {},
   "outputs": [
    {
     "data": {
      "text/plain": [
       "1.6121501176015975"
      ]
     },
     "execution_count": 10,
     "metadata": {},
     "output_type": "execute_result"
    }
   ],
   "source": [
    "sum(X)"
   ]
  },
  {
   "cell_type": "markdown",
   "id": "673b1923",
   "metadata": {},
   "source": [
    "### Empty and Special Kind Arrays "
   ]
  },
  {
   "cell_type": "code",
   "execution_count": 11,
   "id": "aa507f72",
   "metadata": {},
   "outputs": [
    {
     "data": {
      "text/plain": [
       "Float64[]"
      ]
     },
     "execution_count": 11,
     "metadata": {},
     "output_type": "execute_result"
    }
   ],
   "source": [
    "V = Float64[]"
   ]
  },
  {
   "cell_type": "code",
   "execution_count": 42,
   "id": "f7c8311b",
   "metadata": {},
   "outputs": [
    {
     "data": {
      "text/plain": [
       "Any[]"
      ]
     },
     "execution_count": 42,
     "metadata": {},
     "output_type": "execute_result"
    }
   ],
   "source": [
    "W = [] # The same as Any[]"
   ]
  },
  {
   "cell_type": "code",
   "execution_count": 34,
   "id": "9962b2bf",
   "metadata": {},
   "outputs": [
    {
     "data": {
      "text/plain": [
       "2×4 Matrix{Float64}:\n",
       " 0.0  0.0  0.0  0.0\n",
       " 0.0  0.0  0.0  0.0"
      ]
     },
     "execution_count": 34,
     "metadata": {},
     "output_type": "execute_result"
    }
   ],
   "source": [
    "Z = zeros(2,4)"
   ]
  },
  {
   "cell_type": "code",
   "execution_count": 35,
   "id": "b4418176",
   "metadata": {},
   "outputs": [
    {
     "data": {
      "text/plain": [
       "3×2 Matrix{Float64}:\n",
       " 1.0  1.0\n",
       " 1.0  1.0\n",
       " 1.0  1.0"
      ]
     },
     "execution_count": 35,
     "metadata": {},
     "output_type": "execute_result"
    }
   ],
   "source": [
    "B = ones(3,2)"
   ]
  },
  {
   "cell_type": "code",
   "execution_count": 36,
   "id": "0bc9c62b",
   "metadata": {},
   "outputs": [
    {
     "data": {
      "text/plain": [
       "4×2 Matrix{Float64}:\n",
       " 0.616635  0.897887\n",
       " 0.788355  0.0359666\n",
       " 0.899947  0.316522\n",
       " 0.981472  0.541701"
      ]
     },
     "execution_count": 36,
     "metadata": {},
     "output_type": "execute_result"
    }
   ],
   "source": [
    "R = rand(4,2)"
   ]
  },
  {
   "cell_type": "markdown",
   "id": "8c7082fb",
   "metadata": {},
   "source": [
    "### Apply Scalar Functions to Arrays"
   ]
  },
  {
   "cell_type": "code",
   "execution_count": 57,
   "id": "9f88e026",
   "metadata": {},
   "outputs": [
    {
     "data": {
      "text/plain": [
       "3-element Vector{Int64}:\n",
       " 3\n",
       " 5\n",
       " 8"
      ]
     },
     "execution_count": 57,
     "metadata": {},
     "output_type": "execute_result"
    }
   ],
   "source": [
    "X = [1; 2; 3]\n",
    "Y = [2; 3; 5]\n",
    "\n",
    "X+Y"
   ]
  },
  {
   "cell_type": "code",
   "execution_count": 48,
   "id": "afbab5ae",
   "metadata": {},
   "outputs": [
    {
     "data": {
      "text/plain": [
       "1×3 Matrix{Float64}:\n",
       " 0.0  1.5708  3.14159"
      ]
     },
     "execution_count": 48,
     "metadata": {},
     "output_type": "execute_result"
    }
   ],
   "source": [
    "X = [0 π/2 π]"
   ]
  },
  {
   "cell_type": "code",
   "execution_count": 49,
   "id": "cffedd8e",
   "metadata": {},
   "outputs": [
    {
     "ename": "LoadError",
     "evalue": "DimensionMismatch(\"matrix is not square: dimensions are (1, 3)\")",
     "output_type": "error",
     "traceback": [
      "DimensionMismatch(\"matrix is not square: dimensions are (1, 3)\")",
      "",
      "Stacktrace:",
      " [1] checksquare",
      "   @ /Applications/Julia-1.7.app/Contents/Resources/julia/share/julia/stdlib/v1.7/LinearAlgebra/src/LinearAlgebra.jl:232 [inlined]",
      " [2] exp!(A::Matrix{ComplexF64})",
      "   @ LinearAlgebra /Applications/Julia-1.7.app/Contents/Resources/julia/share/julia/stdlib/v1.7/LinearAlgebra/src/dense.jl:614",
      " [3] sin(A::Matrix{Float64})",
      "   @ LinearAlgebra /Applications/Julia-1.7.app/Contents/Resources/julia/share/julia/stdlib/v1.7/LinearAlgebra/src/dense.jl:936",
      " [4] top-level scope",
      "   @ In[49]:1",
      " [5] eval",
      "   @ ./boot.jl:373 [inlined]",
      " [6] include_string(mapexpr::typeof(REPL.softscope), mod::Module, code::String, filename::String)",
      "   @ Base ./loading.jl:1196"
     ]
    }
   ],
   "source": [
    "sin(X)"
   ]
  },
  {
   "cell_type": "code",
   "execution_count": 50,
   "id": "241e72ba",
   "metadata": {},
   "outputs": [
    {
     "data": {
      "text/plain": [
       "0.0"
      ]
     },
     "execution_count": 50,
     "metadata": {},
     "output_type": "execute_result"
    }
   ],
   "source": [
    "sin(X[1])"
   ]
  },
  {
   "cell_type": "code",
   "execution_count": 51,
   "id": "8768901a",
   "metadata": {},
   "outputs": [
    {
     "data": {
      "text/plain": [
       "1×3 Matrix{Float64}:\n",
       " 0.0  1.0  1.22465e-16"
      ]
     },
     "execution_count": 51,
     "metadata": {},
     "output_type": "execute_result"
    }
   ],
   "source": [
    "sin.(X)"
   ]
  },
  {
   "cell_type": "code",
   "execution_count": 59,
   "id": "e05bf4f8",
   "metadata": {},
   "outputs": [
    {
     "data": {
      "text/plain": [
       "1×3 Matrix{Int64}:\n",
       " 2  3  5"
      ]
     },
     "execution_count": 59,
     "metadata": {},
     "output_type": "execute_result"
    }
   ],
   "source": [
    "X = [2 3 5]"
   ]
  },
  {
   "cell_type": "code",
   "execution_count": 60,
   "id": "cd77b36e",
   "metadata": {},
   "outputs": [
    {
     "ename": "LoadError",
     "evalue": "DimensionMismatch(\"matrix A has dimensions (1,3), matrix B has dimensions (1,3)\")",
     "output_type": "error",
     "traceback": [
      "DimensionMismatch(\"matrix A has dimensions (1,3), matrix B has dimensions (1,3)\")",
      "",
      "Stacktrace:",
      "  [1] _generic_matmatmul!(C::Matrix{Int64}, tA::Char, tB::Char, A::Matrix{Int64}, B::Matrix{Int64}, _add::LinearAlgebra.MulAddMul{true, true, Bool, Bool})",
      "    @ LinearAlgebra /Applications/Julia-1.7.app/Contents/Resources/julia/share/julia/stdlib/v1.7/LinearAlgebra/src/matmul.jl:810",
      "  [2] generic_matmatmul!(C::Matrix{Int64}, tA::Char, tB::Char, A::Matrix{Int64}, B::Matrix{Int64}, _add::LinearAlgebra.MulAddMul{true, true, Bool, Bool})",
      "    @ LinearAlgebra /Applications/Julia-1.7.app/Contents/Resources/julia/share/julia/stdlib/v1.7/LinearAlgebra/src/matmul.jl:798",
      "  [3] mul!",
      "    @ /Applications/Julia-1.7.app/Contents/Resources/julia/share/julia/stdlib/v1.7/LinearAlgebra/src/matmul.jl:302 [inlined]",
      "  [4] mul!",
      "    @ /Applications/Julia-1.7.app/Contents/Resources/julia/share/julia/stdlib/v1.7/LinearAlgebra/src/matmul.jl:275 [inlined]",
      "  [5] *",
      "    @ /Applications/Julia-1.7.app/Contents/Resources/julia/share/julia/stdlib/v1.7/LinearAlgebra/src/matmul.jl:153 [inlined]",
      "  [6] power_by_squaring(x_::Matrix{Int64}, p::Int64)",
      "    @ Base ./intfuncs.jl:262",
      "  [7] ^",
      "    @ /Applications/Julia-1.7.app/Contents/Resources/julia/share/julia/stdlib/v1.7/LinearAlgebra/src/dense.jl:450 [inlined]",
      "  [8] literal_pow(f::typeof(^), x::Matrix{Int64}, #unused#::Val{2})",
      "    @ Base ./intfuncs.jl:325",
      "  [9] top-level scope",
      "    @ In[60]:1",
      " [10] eval",
      "    @ ./boot.jl:373 [inlined]",
      " [11] include_string(mapexpr::typeof(REPL.softscope), mod::Module, code::String, filename::String)",
      "    @ Base ./loading.jl:1196"
     ]
    }
   ],
   "source": [
    "X^2"
   ]
  },
  {
   "cell_type": "code",
   "execution_count": 61,
   "id": "0aee08f9",
   "metadata": {},
   "outputs": [
    {
     "data": {
      "text/plain": [
       "1×3 Matrix{Int64}:\n",
       " 4  9  25"
      ]
     },
     "execution_count": 61,
     "metadata": {},
     "output_type": "execute_result"
    }
   ],
   "source": [
    "X.^2"
   ]
  },
  {
   "cell_type": "code",
   "execution_count": 62,
   "id": "ccdde1a7",
   "metadata": {},
   "outputs": [
    {
     "data": {
      "text/plain": [
       "1×3 Matrix{Int64}:\n",
       " 56  261  1925"
      ]
     },
     "execution_count": 62,
     "metadata": {},
     "output_type": "execute_result"
    }
   ],
   "source": [
    "Y = 2X.^2 + 3X.^4"
   ]
  },
  {
   "cell_type": "markdown",
   "id": "8878835e",
   "metadata": {},
   "source": [
    "This can be written easily using the `broadcast` operator"
   ]
  },
  {
   "cell_type": "code",
   "execution_count": 63,
   "id": "2424cb95",
   "metadata": {},
   "outputs": [
    {
     "data": {
      "text/plain": [
       "1×3 Matrix{Int64}:\n",
       " 56  261  1925"
      ]
     },
     "execution_count": 63,
     "metadata": {},
     "output_type": "execute_result"
    }
   ],
   "source": [
    "Z = @. 2X^2 + 3X^4"
   ]
  },
  {
   "cell_type": "markdown",
   "id": "f3102935",
   "metadata": {},
   "source": [
    "### Array Operations"
   ]
  },
  {
   "cell_type": "markdown",
   "id": "a6953cda",
   "metadata": {},
   "source": [
    "Multiplication"
   ]
  },
  {
   "cell_type": "code",
   "execution_count": 83,
   "id": "dd79284d",
   "metadata": {},
   "outputs": [
    {
     "data": {
      "text/plain": [
       "2×4 Matrix{Float64}:\n",
       " 0.291512  0.0944034  0.251347  0.425195\n",
       " 1.2693    0.477207   1.202     1.7826"
      ]
     },
     "execution_count": 83,
     "metadata": {},
     "output_type": "execute_result"
    }
   ],
   "source": [
    "A = rand(2,3)\n",
    "B = rand(3,4)\n",
    "\n",
    "A*B"
   ]
  },
  {
   "cell_type": "markdown",
   "id": "5348c3cc",
   "metadata": {},
   "source": [
    "Element-wise multiplication"
   ]
  },
  {
   "cell_type": "code",
   "execution_count": 84,
   "id": "dc799c0b",
   "metadata": {},
   "outputs": [
    {
     "data": {
      "text/plain": [
       "2×3 Matrix{Float64}:\n",
       " 0.121852  0.655838  0.469444\n",
       " 0.259176  0.299928  0.174305"
      ]
     },
     "execution_count": 84,
     "metadata": {},
     "output_type": "execute_result"
    }
   ],
   "source": [
    "A = rand(2,3)\n",
    "B = rand(2,3)\n",
    "A .* B"
   ]
  },
  {
   "cell_type": "markdown",
   "id": "900c8155",
   "metadata": {},
   "source": [
    "Dot product"
   ]
  },
  {
   "cell_type": "code",
   "execution_count": 85,
   "id": "16e53768",
   "metadata": {},
   "outputs": [
    {
     "data": {
      "text/plain": [
       "0.9309107952639118"
      ]
     },
     "execution_count": 85,
     "metadata": {},
     "output_type": "execute_result"
    }
   ],
   "source": [
    "V1 = rand(4)\n",
    "V2 = rand(4)\n",
    "\n",
    "dot(V1, V2)"
   ]
  },
  {
   "cell_type": "code",
   "execution_count": 1,
   "id": "375868f0",
   "metadata": {},
   "outputs": [
    {
     "name": "stdout",
     "output_type": "stream",
     "text": [
      "1\n",
      "2\n",
      "3\n",
      "4\n",
      "5\n",
      "6\n",
      "7\n",
      "8\n",
      "9\n",
      "10\n"
     ]
    }
   ],
   "source": [
    "for i in 1:10\n",
    "    println(i)\n",
    "end"
   ]
  },
  {
   "cell_type": "code",
   "execution_count": 2,
   "id": "7dba559e",
   "metadata": {},
   "outputs": [
    {
     "data": {
      "text/plain": [
       "10-element Vector{Int64}:\n",
       "  1\n",
       "  2\n",
       "  3\n",
       "  4\n",
       "  5\n",
       "  6\n",
       "  7\n",
       "  8\n",
       "  9\n",
       " 10"
      ]
     },
     "execution_count": 2,
     "metadata": {},
     "output_type": "execute_result"
    }
   ],
   "source": [
    "M = [i for i in 1:10]\n",
    "M"
   ]
  },
  {
   "cell_type": "code",
   "execution_count": 3,
   "id": "b79b9575",
   "metadata": {},
   "outputs": [
    {
     "name": "stdout",
     "output_type": "stream",
     "text": [
      "11\n",
      "12\n",
      "13\n",
      "14\n",
      "15\n",
      "21\n",
      "22\n",
      "23\n",
      "24\n",
      "25\n",
      "31\n",
      "32\n",
      "33\n",
      "34\n",
      "35\n",
      "41\n",
      "42\n",
      "43\n",
      "44\n",
      "45\n",
      "51\n",
      "52\n",
      "53\n",
      "54\n",
      "55\n",
      "61\n",
      "62\n",
      "63\n",
      "64\n",
      "65\n",
      "71\n",
      "72\n",
      "73\n",
      "74\n",
      "75\n",
      "81\n",
      "82\n",
      "83\n",
      "84\n",
      "85\n",
      "91\n",
      "92\n",
      "93\n",
      "94\n",
      "95\n",
      "101\n",
      "102\n",
      "103\n",
      "104\n",
      "105\n"
     ]
    }
   ],
   "source": [
    "for i in 1:10, j in 1:5\n",
    "    println(i,j)\n",
    "end"
   ]
  },
  {
   "cell_type": "code",
   "execution_count": null,
   "id": "5e57420c",
   "metadata": {},
   "outputs": [],
   "source": []
  }
 ],
 "metadata": {
  "kernelspec": {
   "display_name": "Julia 1.7.2",
   "language": "julia",
   "name": "julia-1.7"
  },
  "language_info": {
   "file_extension": ".jl",
   "mimetype": "application/julia",
   "name": "julia",
   "version": "1.7.2"
  }
 },
 "nbformat": 4,
 "nbformat_minor": 5
}
