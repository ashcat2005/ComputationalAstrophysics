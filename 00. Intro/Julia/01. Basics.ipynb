{
 "cells": [
  {
   "cell_type": "markdown",
   "id": "e3c82e90",
   "metadata": {},
   "source": [
    "### How to Print"
   ]
  },
  {
   "cell_type": "markdown",
   "id": "621bb459",
   "metadata": {},
   "source": [
    "![Astrofisica Computacional](../../logo.PNG)"
   ]
  },
  {
   "cell_type": "code",
   "execution_count": 1,
   "id": "e7701e39",
   "metadata": {
    "scrolled": true
   },
   "outputs": [
    {
     "name": "stdout",
     "output_type": "stream",
     "text": [
      "Hello World!\n"
     ]
    }
   ],
   "source": [
    "println(\"Hello World!\")"
   ]
  },
  {
   "cell_type": "markdown",
   "id": "3e14ebd3",
   "metadata": {},
   "source": [
    "Single quotes don't work!"
   ]
  },
  {
   "cell_type": "code",
   "execution_count": 2,
   "id": "953d50bb",
   "metadata": {},
   "outputs": [
    {
     "ename": "LoadError",
     "evalue": "syntax: character literal contains multiple characters",
     "output_type": "error",
     "traceback": [
      "syntax: character literal contains multiple characters",
      "",
      "Stacktrace:",
      " [1] top-level scope",
      "   @ In[2]:1",
      " [2] eval",
      "   @ ./boot.jl:373 [inlined]",
      " [3] include_string(mapexpr::typeof(REPL.softscope), mod::Module, code::String, filename::String)",
      "   @ Base ./loading.jl:1196"
     ]
    }
   ],
   "source": [
    "println('Hello Julia')"
   ]
  },
  {
   "cell_type": "markdown",
   "id": "ab602593",
   "metadata": {},
   "source": [
    "The `print()` statement also works!"
   ]
  },
  {
   "cell_type": "code",
   "execution_count": 3,
   "id": "1edc29fd",
   "metadata": {},
   "outputs": [
    {
     "name": "stdout",
     "output_type": "stream",
     "text": [
      "Hello print!"
     ]
    }
   ],
   "source": [
    "print(\"Hello print!\")"
   ]
  },
  {
   "cell_type": "markdown",
   "id": "80ea8df8",
   "metadata": {},
   "source": [
    "### How to Assign Variables - Variable Types"
   ]
  },
  {
   "cell_type": "code",
   "execution_count": 4,
   "id": "e90fef36",
   "metadata": {},
   "outputs": [
    {
     "data": {
      "text/plain": [
       "42"
      ]
     },
     "execution_count": 4,
     "metadata": {},
     "output_type": "execute_result"
    }
   ],
   "source": [
    "x = 42"
   ]
  },
  {
   "cell_type": "code",
   "execution_count": 5,
   "id": "d2d47ec0",
   "metadata": {},
   "outputs": [
    {
     "data": {
      "text/plain": [
       "Int64"
      ]
     },
     "execution_count": 5,
     "metadata": {},
     "output_type": "execute_result"
    }
   ],
   "source": [
    "typeof(x)"
   ]
  },
  {
   "cell_type": "code",
   "execution_count": 5,
   "id": "90abf46e",
   "metadata": {},
   "outputs": [
    {
     "data": {
      "text/plain": [
       "Float64"
      ]
     },
     "execution_count": 5,
     "metadata": {},
     "output_type": "execute_result"
    }
   ],
   "source": [
    "z = 3.14159\n",
    "typeof(z)"
   ]
  },
  {
   "cell_type": "markdown",
   "id": "7944df2d",
   "metadata": {},
   "source": [
    "We can use special symbols and even emojis to define variables!"
   ]
  },
  {
   "cell_type": "code",
   "execution_count": 6,
   "id": "4d279447",
   "metadata": {},
   "outputs": [
    {
     "data": {
      "text/plain": [
       "5"
      ]
     },
     "execution_count": 6,
     "metadata": {},
     "output_type": "execute_result"
    }
   ],
   "source": [
    "👽 = 5"
   ]
  },
  {
   "cell_type": "code",
   "execution_count": 7,
   "id": "df9f446f",
   "metadata": {},
   "outputs": [
    {
     "data": {
      "text/plain": [
       "\"I am a cat!\""
      ]
     },
     "execution_count": 7,
     "metadata": {},
     "output_type": "execute_result"
    }
   ],
   "source": [
    "😸 = \"I am a cat!\""
   ]
  },
  {
   "cell_type": "code",
   "execution_count": 8,
   "id": "6446cc65",
   "metadata": {},
   "outputs": [
    {
     "data": {
      "text/plain": [
       "String"
      ]
     },
     "execution_count": 8,
     "metadata": {},
     "output_type": "execute_result"
    }
   ],
   "source": [
    "typeof(😸)"
   ]
  },
  {
   "cell_type": "markdown",
   "id": "1422bcc9",
   "metadata": {},
   "source": [
    "In order to type an emoji, we use"
   ]
  },
  {
   "cell_type": "code",
   "execution_count": 8,
   "id": "977b97dc",
   "metadata": {},
   "outputs": [],
   "source": [
    "# \\:smi + <tab>  - - -> then select with an arrow and <enter> and <tab> + <enter>"
   ]
  },
  {
   "cell_type": "code",
   "execution_count": 9,
   "id": "5ee52f2d",
   "metadata": {},
   "outputs": [
    {
     "data": {
      "text/plain": [
       "10.5"
      ]
     },
     "execution_count": 9,
     "metadata": {},
     "output_type": "execute_result"
    }
   ],
   "source": [
    "💜 = 10.5"
   ]
  },
  {
   "cell_type": "code",
   "execution_count": 10,
   "id": "1263fabd",
   "metadata": {},
   "outputs": [
    {
     "data": {
      "text/plain": [
       "10.5"
      ]
     },
     "execution_count": 10,
     "metadata": {},
     "output_type": "execute_result"
    }
   ],
   "source": [
    "💜"
   ]
  },
  {
   "cell_type": "code",
   "execution_count": 9,
   "id": "57497116",
   "metadata": {},
   "outputs": [
    {
     "data": {
      "text/plain": [
       "10"
      ]
     },
     "execution_count": 9,
     "metadata": {},
     "output_type": "execute_result"
    }
   ],
   "source": [
    "α = 10"
   ]
  },
  {
   "cell_type": "code",
   "execution_count": 10,
   "id": "22e32170",
   "metadata": {},
   "outputs": [
    {
     "data": {
      "text/plain": [
       "100"
      ]
     },
     "execution_count": 10,
     "metadata": {},
     "output_type": "execute_result"
    }
   ],
   "source": [
    "α^2"
   ]
  },
  {
   "cell_type": "markdown",
   "id": "f2f667c9",
   "metadata": {},
   "source": [
    "It is also possible to use greek symbols as variables"
   ]
  },
  {
   "cell_type": "code",
   "execution_count": 11,
   "id": "d2afb68c",
   "metadata": {},
   "outputs": [
    {
     "data": {
      "text/plain": [
       "100.5"
      ]
     },
     "execution_count": 11,
     "metadata": {},
     "output_type": "execute_result"
    }
   ],
   "source": [
    "α = 100.5"
   ]
  },
  {
   "cell_type": "markdown",
   "id": "a4fbe101",
   "metadata": {},
   "source": [
    "The number $\\pi$ is already implemented as a variable:"
   ]
  },
  {
   "cell_type": "code",
   "execution_count": 11,
   "id": "1992d84b",
   "metadata": {},
   "outputs": [
    {
     "data": {
      "text/plain": [
       "π = 3.1415926535897..."
      ]
     },
     "execution_count": 11,
     "metadata": {},
     "output_type": "execute_result"
    }
   ],
   "source": [
    "π"
   ]
  },
  {
   "cell_type": "code",
   "execution_count": 14,
   "id": "98bd185a",
   "metadata": {},
   "outputs": [
    {
     "data": {
      "text/plain": [
       "ℯ = 2.7182818284590..."
      ]
     },
     "execution_count": 14,
     "metadata": {},
     "output_type": "execute_result"
    }
   ],
   "source": [
    "ℯ"
   ]
  },
  {
   "cell_type": "code",
   "execution_count": 16,
   "id": "a9bccac9",
   "metadata": {},
   "outputs": [
    {
     "ename": "LoadError",
     "evalue": "UndefVarError: ħ not defined",
     "output_type": "error",
     "traceback": [
      "UndefVarError: ħ not defined",
      "",
      "Stacktrace:",
      " [1] top-level scope",
      "   @ :0",
      " [2] eval",
      "   @ ./boot.jl:373 [inlined]",
      " [3] include_string(mapexpr::typeof(REPL.softscope), mod::Module, code::String, filename::String)",
      "   @ Base ./loading.jl:1196"
     ]
    }
   ],
   "source": [
    "ħ"
   ]
  },
  {
   "cell_type": "markdown",
   "id": "582da1b7",
   "metadata": {},
   "source": [
    "Multiple definition"
   ]
  },
  {
   "cell_type": "code",
   "execution_count": 75,
   "id": "dfd1e99b",
   "metadata": {},
   "outputs": [
    {
     "name": "stdout",
     "output_type": "stream",
     "text": [
      "10\n",
      "50\n"
     ]
    }
   ],
   "source": [
    "a, b = 10, 50\n",
    "\n",
    "println(a)\n",
    "println(b)"
   ]
  },
  {
   "cell_type": "code",
   "execution_count": 76,
   "id": "a3b74199",
   "metadata": {},
   "outputs": [
    {
     "name": "stdout",
     "output_type": "stream",
     "text": [
      "50\n",
      "10\n"
     ]
    }
   ],
   "source": [
    "a, b = b, a\n",
    "\n",
    "println(a)\n",
    "println(b)"
   ]
  },
  {
   "cell_type": "markdown",
   "id": "72e5e033",
   "metadata": {},
   "source": [
    "### Simple Math"
   ]
  },
  {
   "cell_type": "code",
   "execution_count": 30,
   "id": "75cef9b6",
   "metadata": {},
   "outputs": [
    {
     "name": "stdout",
     "output_type": "stream",
     "text": [
      "15.0\n",
      "5.0\n",
      "50.0\n",
      "2.0\n"
     ]
    }
   ],
   "source": [
    "x = 10.\n",
    "y = 5.\n",
    "\n",
    "println(x+y)\n",
    "println(x-y)\n",
    "println(x*y)\n",
    "println(x/y)\n"
   ]
  },
  {
   "cell_type": "markdown",
   "id": "7a946ffd",
   "metadata": {},
   "source": [
    "Reminder"
   ]
  },
  {
   "cell_type": "code",
   "execution_count": 33,
   "id": "8138b226",
   "metadata": {},
   "outputs": [
    {
     "data": {
      "text/plain": [
       "0.0"
      ]
     },
     "execution_count": 33,
     "metadata": {},
     "output_type": "execute_result"
    }
   ],
   "source": [
    "x%y"
   ]
  },
  {
   "cell_type": "code",
   "execution_count": 16,
   "id": "5d8ef6cc",
   "metadata": {},
   "outputs": [
    {
     "data": {
      "text/plain": [
       "100"
      ]
     },
     "execution_count": 16,
     "metadata": {},
     "output_type": "execute_result"
    }
   ],
   "source": [
    "x = 10\n",
    "x^2"
   ]
  },
  {
   "cell_type": "code",
   "execution_count": 19,
   "id": "d7209991",
   "metadata": {},
   "outputs": [
    {
     "data": {
      "text/plain": [
       "1.0"
      ]
     },
     "execution_count": 19,
     "metadata": {},
     "output_type": "execute_result"
    }
   ],
   "source": [
    "θ = π/2\n",
    "\n",
    "sin(θ)"
   ]
  },
  {
   "cell_type": "code",
   "execution_count": 21,
   "id": "091b9b01",
   "metadata": {},
   "outputs": [
    {
     "data": {
      "text/plain": [
       "-1.0"
      ]
     },
     "execution_count": 21,
     "metadata": {},
     "output_type": "execute_result"
    }
   ],
   "source": [
    "cos(π)"
   ]
  },
  {
   "cell_type": "code",
   "execution_count": 23,
   "id": "4755b1af",
   "metadata": {},
   "outputs": [
    {
     "data": {
      "text/plain": [
       "148.4131591025766"
      ]
     },
     "execution_count": 23,
     "metadata": {},
     "output_type": "execute_result"
    }
   ],
   "source": [
    "exp(5)"
   ]
  },
  {
   "cell_type": "code",
   "execution_count": 25,
   "id": "849c8fd4",
   "metadata": {},
   "outputs": [
    {
     "data": {
      "text/plain": [
       "2.302585092994046"
      ]
     },
     "execution_count": 25,
     "metadata": {},
     "output_type": "execute_result"
    }
   ],
   "source": [
    "log(10)"
   ]
  },
  {
   "cell_type": "markdown",
   "id": "d05945cb",
   "metadata": {},
   "source": [
    "### Boolean Operations"
   ]
  },
  {
   "cell_type": "code",
   "execution_count": 35,
   "id": "865ecc81",
   "metadata": {},
   "outputs": [
    {
     "data": {
      "text/plain": [
       "false"
      ]
     },
     "execution_count": 35,
     "metadata": {},
     "output_type": "execute_result"
    }
   ],
   "source": [
    "a = true\n",
    "b = false\n",
    "\n",
    "~a"
   ]
  },
  {
   "cell_type": "code",
   "execution_count": 36,
   "id": "b22a27dc",
   "metadata": {},
   "outputs": [
    {
     "data": {
      "text/plain": [
       "false"
      ]
     },
     "execution_count": 36,
     "metadata": {},
     "output_type": "execute_result"
    }
   ],
   "source": [
    "a & b"
   ]
  },
  {
   "cell_type": "code",
   "execution_count": 37,
   "id": "32cb3201",
   "metadata": {},
   "outputs": [
    {
     "data": {
      "text/plain": [
       "true"
      ]
     },
     "execution_count": 37,
     "metadata": {},
     "output_type": "execute_result"
    }
   ],
   "source": [
    "a | b"
   ]
  },
  {
   "cell_type": "markdown",
   "id": "3913bd87",
   "metadata": {},
   "source": [
    "### Conditionals in Julia\n"
   ]
  },
  {
   "cell_type": "code",
   "execution_count": 53,
   "id": "1d84deba",
   "metadata": {},
   "outputs": [
    {
     "name": "stdout",
     "output_type": "stream",
     "text": [
      "10 is greater than 5\n"
     ]
    }
   ],
   "source": [
    "x = 10\n",
    "\n",
    "if x > 5\n",
    "    println(x, \" is greater than 5\")\n",
    "end"
   ]
  },
  {
   "cell_type": "code",
   "execution_count": 55,
   "id": "ec98edc0",
   "metadata": {},
   "outputs": [
    {
     "name": "stdout",
     "output_type": "stream",
     "text": [
      "2 is less than 5\n"
     ]
    }
   ],
   "source": [
    "x = 2\n",
    "\n",
    "if x > 5\n",
    "    println(x, \" is greater than 5\")\n",
    "else\n",
    "    println(x, \" is less than 5\")\n",
    "end"
   ]
  },
  {
   "cell_type": "code",
   "execution_count": 58,
   "id": "00fb5ced",
   "metadata": {},
   "outputs": [
    {
     "name": "stdout",
     "output_type": "stream",
     "text": [
      "5 is equal to 5\n"
     ]
    }
   ],
   "source": [
    "x = 5\n",
    "\n",
    "if x == 5\n",
    "    println(x, \" is equal to 5\")\n",
    "elseif x>5\n",
    "    println(x, \" is greater than 5\")\n",
    "else\n",
    "    println(x, \" is less than 5\")\n",
    "end"
   ]
  },
  {
   "cell_type": "code",
   "execution_count": 62,
   "id": "fd9df215",
   "metadata": {},
   "outputs": [
    {
     "name": "stdout",
     "output_type": "stream",
     "text": [
      "x is not 10\n"
     ]
    }
   ],
   "source": [
    "x = 120\n",
    "\n",
    "if x != 10\n",
    "    println(\"x is not 10\")\n",
    "end"
   ]
  },
  {
   "cell_type": "markdown",
   "id": "5e5e8ac8",
   "metadata": {},
   "source": [
    "### Loops in Julia\n",
    "\n",
    "A simple loop in `Julia` has the structure\n",
    "\n",
    "```julia\n",
    "for iterator in range\n",
    "    execute_statement\n",
    "end\n",
    "```\n",
    "\n",
    "\n"
   ]
  },
  {
   "cell_type": "code",
   "execution_count": 15,
   "id": "702efbb3",
   "metadata": {},
   "outputs": [
    {
     "name": "stdout",
     "output_type": "stream",
     "text": [
      "1.64493306684877\n"
     ]
    }
   ],
   "source": [
    "x=0\n",
    "\n",
    "for k in 1:1000000\n",
    "    x = x + (1/k)^2\n",
    "end\n",
    "\n",
    "println(x)"
   ]
  },
  {
   "cell_type": "code",
   "execution_count": 79,
   "id": "5cee6d89",
   "metadata": {},
   "outputs": [
    {
     "name": "stdout",
     "output_type": "stream",
     "text": [
      "1\n",
      "2\n",
      "3\n",
      "4\n",
      "5\n",
      "6\n",
      "7\n",
      "8\n",
      "9\n",
      "10\n"
     ]
    }
   ],
   "source": [
    "for i in 1:10\n",
    "    println(i)\n",
    "end"
   ]
  },
  {
   "cell_type": "code",
   "execution_count": 80,
   "id": "6065aa72",
   "metadata": {},
   "outputs": [
    {
     "name": "stdout",
     "output_type": "stream",
     "text": [
      "1\n",
      "3\n",
      "5\n",
      "7\n",
      "9\n"
     ]
    }
   ],
   "source": [
    "for i in 1:2:10\n",
    "    println(i)\n",
    "end"
   ]
  },
  {
   "cell_type": "markdown",
   "id": "e94b5df5",
   "metadata": {},
   "source": [
    "A nested loop"
   ]
  },
  {
   "cell_type": "code",
   "execution_count": 48,
   "id": "5226c57f",
   "metadata": {},
   "outputs": [
    {
     "name": "stdout",
     "output_type": "stream",
     "text": [
      "1,1\n",
      "1,2\n",
      "1,3\n",
      "2,1\n",
      "2,2\n",
      "2,3\n",
      "3,1\n",
      "3,2\n",
      "3,3\n"
     ]
    }
   ],
   "source": [
    "for i in 1:3\n",
    "    for j in 1:3\n",
    "        println(i, \",\", j)\n",
    "    end\n",
    "end"
   ]
  },
  {
   "cell_type": "markdown",
   "id": "cd24fcc3",
   "metadata": {},
   "source": [
    "A nice syntax for nested loops:"
   ]
  },
  {
   "cell_type": "code",
   "execution_count": 49,
   "id": "6e3fa220",
   "metadata": {},
   "outputs": [
    {
     "name": "stdout",
     "output_type": "stream",
     "text": [
      "1,1\n",
      "1,2\n",
      "1,3\n",
      "2,1\n",
      "2,2\n",
      "2,3\n",
      "3,1\n",
      "3,2\n",
      "3,3\n"
     ]
    }
   ],
   "source": [
    "for i in 1:3, j in 1:3\n",
    "    println(i, \",\", j)\n",
    "end"
   ]
  },
  {
   "cell_type": "markdown",
   "id": "353bddbc",
   "metadata": {},
   "source": [
    "or even nicer as"
   ]
  },
  {
   "cell_type": "code",
   "execution_count": 50,
   "id": "5d848a3f",
   "metadata": {},
   "outputs": [
    {
     "name": "stdout",
     "output_type": "stream",
     "text": [
      "1,1\n",
      "1,2\n",
      "1,3\n",
      "2,1\n",
      "2,2\n",
      "2,3\n",
      "3,1\n",
      "3,2\n",
      "3,3\n"
     ]
    }
   ],
   "source": [
    "for i ∈ 1:3, j ∈ 1:3\n",
    "    println(i, \",\", j)\n",
    "end"
   ]
  },
  {
   "cell_type": "markdown",
   "id": "3edf16e4",
   "metadata": {},
   "source": [
    "The `break` statement"
   ]
  },
  {
   "cell_type": "code",
   "execution_count": 64,
   "id": "f39bef52",
   "metadata": {},
   "outputs": [
    {
     "name": "stdout",
     "output_type": "stream",
     "text": [
      "3\n",
      "4\n",
      "5\n",
      "6\n",
      "7\n",
      "8\n",
      "9\n",
      "10\n",
      "11\n",
      "12\n",
      "13\n"
     ]
    }
   ],
   "source": [
    "x = 2\n",
    "\n",
    "for i in 1:100\n",
    "    println(x+i)\n",
    "    if x+i == 13\n",
    "        break\n",
    "    end\n",
    "end"
   ]
  },
  {
   "cell_type": "markdown",
   "id": "64c94de2",
   "metadata": {},
   "source": [
    "The `continue` statement"
   ]
  },
  {
   "cell_type": "code",
   "execution_count": 70,
   "id": "7fa00013",
   "metadata": {},
   "outputs": [
    {
     "data": {
      "text/plain": [
       "1"
      ]
     },
     "execution_count": 70,
     "metadata": {},
     "output_type": "execute_result"
    }
   ],
   "source": [
    "1%10"
   ]
  },
  {
   "cell_type": "code",
   "execution_count": 74,
   "id": "2a2313b5",
   "metadata": {},
   "outputs": [
    {
     "name": "stdout",
     "output_type": "stream",
     "text": [
      "1 2 3 4 5 6 7 8 9 11 12 13 14 15 16 17 18 19 21 22 23 24 25 26 27 28 29 "
     ]
    }
   ],
   "source": [
    "for i in 1:30\n",
    "    if i%10 == 0\n",
    "        continue\n",
    "    end\n",
    "    print(i, \" \")\n",
    "end"
   ]
  },
  {
   "cell_type": "markdown",
   "id": "5057c747",
   "metadata": {},
   "source": [
    "The `while`loop"
   ]
  },
  {
   "cell_type": "code",
   "execution_count": 66,
   "id": "5982c9ee",
   "metadata": {},
   "outputs": [
    {
     "name": "stdout",
     "output_type": "stream",
     "text": [
      "0\n",
      "1\n",
      "2\n",
      "3\n",
      "4\n",
      "5\n"
     ]
    }
   ],
   "source": [
    "j = 0\n",
    "\n",
    "while j <= 5\n",
    "    println(j)\n",
    "    j += 1\n",
    "end"
   ]
  },
  {
   "cell_type": "code",
   "execution_count": null,
   "id": "d9ebc69e",
   "metadata": {},
   "outputs": [],
   "source": []
  }
 ],
 "metadata": {
  "kernelspec": {
   "display_name": "Julia 1.9.3",
   "language": "julia",
   "name": "julia-1.9"
  },
  "language_info": {
   "file_extension": ".jl",
   "mimetype": "application/julia",
   "name": "julia",
   "version": "1.9.3"
  }
 },
 "nbformat": 4,
 "nbformat_minor": 5
}
