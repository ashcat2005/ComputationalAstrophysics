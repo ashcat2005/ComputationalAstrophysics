{
 "cells": [
  {
   "cell_type": "markdown",
   "id": "e055ecee",
   "metadata": {},
   "source": [
    "![Astrofisica Computacional](../../logo.PNG)"
   ]
  },
  {
   "cell_type": "markdown",
   "id": "9d9a602d",
   "metadata": {},
   "source": [
    "### Multiple Dispatch in Functions"
   ]
  },
  {
   "cell_type": "code",
   "execution_count": 1,
   "id": "2a4d337d",
   "metadata": {},
   "outputs": [
    {
     "data": {
      "text/plain": [
       "4"
      ]
     },
     "execution_count": 1,
     "metadata": {},
     "output_type": "execute_result"
    }
   ],
   "source": [
    "f(x) = x^2"
   ]
  },
  {
   "cell_type": "code",
   "execution_count": null,
   "id": "0d543450",
   "metadata": {},
   "outputs": [],
   "source": [
    "f(2)"
   ]
  },
  {
   "cell_type": "code",
   "execution_count": 2,
   "id": "74e42b46",
   "metadata": {},
   "outputs": [
    {
     "data": {
      "text/plain": [
       "4"
      ]
     },
     "execution_count": 2,
     "metadata": {},
     "output_type": "execute_result"
    }
   ],
   "source": [
    "f(x:: Int) = x^2\n",
    "\n",
    "f(2)"
   ]
  },
  {
   "cell_type": "code",
   "execution_count": 3,
   "id": "ea1d0f58",
   "metadata": {},
   "outputs": [
    {
     "data": {
      "text/plain": [
       "4"
      ]
     },
     "execution_count": 3,
     "metadata": {},
     "output_type": "execute_result"
    }
   ],
   "source": [
    "f(x:: Float64) = x^2\n",
    "\n",
    "f(2)"
   ]
  },
  {
   "cell_type": "code",
   "execution_count": 1,
   "id": "4c6e7834",
   "metadata": {},
   "outputs": [
    {
     "data": {
      "text/plain": [
       "fun (generic function with 2 methods)"
      ]
     },
     "execution_count": 1,
     "metadata": {},
     "output_type": "execute_result"
    }
   ],
   "source": [
    "fun(x:: Int) = \"x is an Integer\"\n",
    "fun(x:: Float64) = \"x is an Float\"\n"
   ]
  },
  {
   "cell_type": "code",
   "execution_count": 2,
   "id": "7c32fcfb",
   "metadata": {},
   "outputs": [
    {
     "data": {
      "text/plain": [
       "\"x is an Integer\""
      ]
     },
     "execution_count": 2,
     "metadata": {},
     "output_type": "execute_result"
    }
   ],
   "source": [
    "fun(2)"
   ]
  },
  {
   "cell_type": "code",
   "execution_count": 3,
   "id": "73862f5f",
   "metadata": {},
   "outputs": [
    {
     "data": {
      "text/plain": [
       "\"x is an Float\""
      ]
     },
     "execution_count": 3,
     "metadata": {},
     "output_type": "execute_result"
    }
   ],
   "source": [
    "fun(2.)"
   ]
  },
  {
   "cell_type": "code",
   "execution_count": 10,
   "id": "d3beb9ec",
   "metadata": {},
   "outputs": [
    {
     "data": {
      "text/plain": [
       "fun (generic function with 3 methods)"
      ]
     },
     "execution_count": 10,
     "metadata": {},
     "output_type": "execute_result"
    }
   ],
   "source": [
    "fun(x:: Int) = \"x is an Integer\"\n",
    "fun(x:: Float64) = \"x is an Float\"\n",
    "fun(x:: Any) = \"x is a generic object\""
   ]
  },
  {
   "cell_type": "code",
   "execution_count": 13,
   "id": "bc4d66f8",
   "metadata": {},
   "outputs": [
    {
     "data": {
      "text/plain": [
       "\"x is an Integer\""
      ]
     },
     "execution_count": 13,
     "metadata": {},
     "output_type": "execute_result"
    }
   ],
   "source": [
    "fun(2)"
   ]
  },
  {
   "cell_type": "code",
   "execution_count": 14,
   "id": "45ce945e",
   "metadata": {},
   "outputs": [
    {
     "data": {
      "text/plain": [
       "\"x is a generic object\""
      ]
     },
     "execution_count": 14,
     "metadata": {},
     "output_type": "execute_result"
    }
   ],
   "source": [
    "fun(\"Hello\")"
   ]
  },
  {
   "cell_type": "markdown",
   "id": "355e94f9",
   "metadata": {},
   "source": [
    "### BenchmarkTools"
   ]
  },
  {
   "cell_type": "code",
   "execution_count": 2,
   "id": "d2f9bc7f",
   "metadata": {},
   "outputs": [],
   "source": [
    "using BenchmarkTools"
   ]
  },
  {
   "cell_type": "code",
   "execution_count": 3,
   "id": "26da45b1",
   "metadata": {},
   "outputs": [],
   "source": [
    "numbers = [i for i in 1:1000000];"
   ]
  },
  {
   "cell_type": "code",
   "execution_count": 4,
   "id": "7ce68de6",
   "metadata": {},
   "outputs": [
    {
     "name": "stdout",
     "output_type": "stream",
     "text": [
      "  158.208 μs (1 allocation: 16 bytes)\n"
     ]
    },
    {
     "data": {
      "text/plain": [
       "500000.5"
      ]
     },
     "metadata": {},
     "output_type": "display_data"
    }
   ],
   "source": [
    "function my_mean(numbers::Vector)\n",
    "    s = 0\n",
    "    N = size(numbers,1)\n",
    "    for i in 1:N\n",
    "        s += numbers[i]\n",
    "    end\n",
    "    return s/N\n",
    "end\n",
    "\n",
    "\n",
    "\n",
    "@btime my_mean(numbers)"
   ]
  },
  {
   "cell_type": "code",
   "execution_count": 5,
   "id": "b5c23112",
   "metadata": {},
   "outputs": [
    {
     "name": "stdout",
     "output_type": "stream",
     "text": [
      "  157.959 μs (1 allocation: 16 bytes)\n"
     ]
    },
    {
     "data": {
      "text/plain": [
       "500000.5"
      ]
     },
     "metadata": {},
     "output_type": "display_data"
    }
   ],
   "source": [
    "function my_mean2(numbers::Vector)\n",
    "    s = sum(numbers)\n",
    "    N = size(numbers,1)\n",
    "    return s/N\n",
    "end\n",
    "\n",
    "\n",
    "\n",
    "@btime my_mean(numbers)"
   ]
  },
  {
   "cell_type": "code",
   "execution_count": 6,
   "id": "bd27de57",
   "metadata": {},
   "outputs": [
    {
     "name": "stdout",
     "output_type": "stream",
     "text": [
      "  197.417 μs (1 allocation: 16 bytes)\n"
     ]
    },
    {
     "data": {
      "text/plain": [
       "500000.5"
      ]
     },
     "metadata": {},
     "output_type": "display_data"
    }
   ],
   "source": [
    "\n",
    "@btime mean(numbers)"
   ]
  },
  {
   "cell_type": "code",
   "execution_count": null,
   "id": "3297a7cd",
   "metadata": {},
   "outputs": [],
   "source": []
  }
 ],
 "metadata": {
  "@webio": {
   "lastCommId": null,
   "lastKernelId": null
  },
  "kernelspec": {
   "display_name": "Julia 1.9.3",
   "language": "julia",
   "name": "julia-1.9"
  },
  "language_info": {
   "file_extension": ".jl",
   "mimetype": "application/julia",
   "name": "julia",
   "version": "1.9.3"
  }
 },
 "nbformat": 4,
 "nbformat_minor": 5
}
