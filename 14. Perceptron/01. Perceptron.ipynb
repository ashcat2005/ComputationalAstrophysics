{
 "cells": [
  {
   "cell_type": "markdown",
   "metadata": {},
   "source": [
    "![Astrofisica Computacional](../../logo.PNG)"
   ]
  },
  {
   "cell_type": "markdown",
   "metadata": {
    "id": "5soGuirloNgq"
   },
   "source": [
    "---\n",
    "## 01. A Perceptron\n",
    "\n",
    "\n",
    "Eduard Larrañaga (ealarranaga@unal.edu.co)\n",
    "\n",
    "---"
   ]
  },
  {
   "cell_type": "markdown",
   "metadata": {
    "id": "Ff4KTapaoNgx"
   },
   "source": [
    "### Abstract\n",
    "\n",
    "In this notebook we will implement a perceptron algorithm, which incorporates the idea of a linear regression and a activation function to define a classification method.\n",
    "\n",
    "---"
   ]
  },
  {
   "cell_type": "markdown",
   "metadata": {
    "id": "Y85Y_aIb8meo"
   },
   "source": [
    "## A Simple Perceptron Algorithm\n",
    "\n",
    "Introduced by F. Rosenblatt in 1957, a perceptron algorithm tries to model the behavior of a single (artificial) neuron. This algorithm will be modelled as a function that recieves input data, the it wights them and adds a term to present the result through a non-linear function. It will correspond to an algorithm of supervised learning (binary classification).\n",
    "\n",
    "The general behavior and components can be seen in the following figure:\n",
    "\n",
    "\n",
    "<center>\n",
    "<img\n",
    "src=\"https://datascientest.com/wp-content/uploads/2021/03/perceptron-formule.png\"\n",
    ">\n",
    "</center>\n",
    "\n"
   ]
  },
  {
   "cell_type": "markdown",
   "metadata": {},
   "source": [
    "Now we will build a perceptron from scratch. The first step is to define the function that reads the input data, weigths and bias and returns the result of the linear model.\n",
    "\n",
    "As a first model, we will consider a perceptron with one input: $x_1$, one weight: $w_1$ and one bias: $b$ and gives one return: z = $w_1 x_1 + b$."
   ]
  },
  {
   "cell_type": "code",
   "execution_count": 3,
   "metadata": {},
   "outputs": [
    {
     "data": {
      "text/plain": [
       "-34.0"
      ]
     },
     "execution_count": 3,
     "metadata": {},
     "output_type": "execute_result"
    }
   ],
   "source": [
    "import numpy as np\n",
    "\n",
    "def perceptron01(x):\n",
    "    w = -2.\n",
    "    bias = 2.\n",
    "    return np.dot(w,x) + bias\n",
    "\n",
    "\n",
    "x0 = 18.\n",
    "\n",
    "perceptron01(x0)"
   ]
  },
  {
   "cell_type": "markdown",
   "metadata": {},
   "source": [
    "We can apply this perceptron to many samples to obtain the corresponding results,"
   ]
  },
  {
   "cell_type": "code",
   "execution_count": 4,
   "metadata": {},
   "outputs": [
    {
     "data": {
      "text/plain": [
       "array([ 12. , -18. ,  -4.4,  -3.6,  10.6])"
      ]
     },
     "execution_count": 4,
     "metadata": {},
     "output_type": "execute_result"
    }
   ],
   "source": [
    "x = np.array([-5., 10, 3.2, 2.8, -4.3])\n",
    "\n",
    "ypred = perceptron01(x)\n",
    "ypred"
   ]
  },
  {
   "cell_type": "markdown",
   "metadata": {},
   "source": [
    "In order to present the results, we can use the library `pandas`,"
   ]
  },
  {
   "cell_type": "code",
   "execution_count": 5,
   "metadata": {},
   "outputs": [
    {
     "data": {
      "text/html": [
       "<div>\n",
       "<style scoped>\n",
       "    .dataframe tbody tr th:only-of-type {\n",
       "        vertical-align: middle;\n",
       "    }\n",
       "\n",
       "    .dataframe tbody tr th {\n",
       "        vertical-align: top;\n",
       "    }\n",
       "\n",
       "    .dataframe thead th {\n",
       "        text-align: right;\n",
       "    }\n",
       "</style>\n",
       "<table border=\"1\" class=\"dataframe\">\n",
       "  <thead>\n",
       "    <tr style=\"text-align: right;\">\n",
       "      <th></th>\n",
       "      <th>x1</th>\n",
       "      <th>yp</th>\n",
       "    </tr>\n",
       "  </thead>\n",
       "  <tbody>\n",
       "    <tr>\n",
       "      <th>0</th>\n",
       "      <td>-5.0</td>\n",
       "      <td>12.0</td>\n",
       "    </tr>\n",
       "    <tr>\n",
       "      <th>1</th>\n",
       "      <td>10.0</td>\n",
       "      <td>-18.0</td>\n",
       "    </tr>\n",
       "    <tr>\n",
       "      <th>2</th>\n",
       "      <td>3.2</td>\n",
       "      <td>-4.4</td>\n",
       "    </tr>\n",
       "    <tr>\n",
       "      <th>3</th>\n",
       "      <td>2.8</td>\n",
       "      <td>-3.6</td>\n",
       "    </tr>\n",
       "    <tr>\n",
       "      <th>4</th>\n",
       "      <td>-4.3</td>\n",
       "      <td>10.6</td>\n",
       "    </tr>\n",
       "  </tbody>\n",
       "</table>\n",
       "</div>"
      ],
      "text/plain": [
       "     x1    yp\n",
       "0  -5.0  12.0\n",
       "1  10.0 -18.0\n",
       "2   3.2  -4.4\n",
       "3   2.8  -3.6\n",
       "4  -4.3  10.6"
      ]
     },
     "execution_count": 5,
     "metadata": {},
     "output_type": "execute_result"
    }
   ],
   "source": [
    "import pandas as pd\n",
    "\n",
    "df = pd.DataFrame(x, columns=['x1'])\n",
    "df['yp'] = ypred\n",
    "\n",
    "df"
   ]
  },
  {
   "cell_type": "markdown",
   "metadata": {},
   "source": [
    "This perceptron is just a linear function with a slope $w_1$ and an intercept $b$ defined in the construction. \n",
    "\n",
    "---\n",
    "\n",
    "## A Learning Perceptron\n",
    "\n",
    "The main characteristic we want to give to the perceptron is that it can 'learn' by itself, i.e. based on a dataset with inputs and targets, the perceptron must be able to redefine its weigths and bias. In order to illustrate this idea, we introduce a dataset of temperatures in Celsius and the targets will be the corresponding temperatures in the Fahrenheit scale,"
   ]
  },
  {
   "cell_type": "code",
   "execution_count": 6,
   "metadata": {},
   "outputs": [
    {
     "data": {
      "text/html": [
       "<div>\n",
       "<style scoped>\n",
       "    .dataframe tbody tr th:only-of-type {\n",
       "        vertical-align: middle;\n",
       "    }\n",
       "\n",
       "    .dataframe tbody tr th {\n",
       "        vertical-align: top;\n",
       "    }\n",
       "\n",
       "    .dataframe thead th {\n",
       "        text-align: right;\n",
       "    }\n",
       "</style>\n",
       "<table border=\"1\" class=\"dataframe\">\n",
       "  <thead>\n",
       "    <tr style=\"text-align: right;\">\n",
       "      <th></th>\n",
       "      <th>ºC</th>\n",
       "      <th>ºF</th>\n",
       "    </tr>\n",
       "  </thead>\n",
       "  <tbody>\n",
       "    <tr>\n",
       "      <th>0</th>\n",
       "      <td>-40.0</td>\n",
       "      <td>-40.0</td>\n",
       "    </tr>\n",
       "    <tr>\n",
       "      <th>1</th>\n",
       "      <td>-30.0</td>\n",
       "      <td>-22.0</td>\n",
       "    </tr>\n",
       "    <tr>\n",
       "      <th>2</th>\n",
       "      <td>-10.0</td>\n",
       "      <td>14.0</td>\n",
       "    </tr>\n",
       "    <tr>\n",
       "      <th>3</th>\n",
       "      <td>-5.0</td>\n",
       "      <td>23.0</td>\n",
       "    </tr>\n",
       "    <tr>\n",
       "      <th>4</th>\n",
       "      <td>0.0</td>\n",
       "      <td>32.0</td>\n",
       "    </tr>\n",
       "    <tr>\n",
       "      <th>5</th>\n",
       "      <td>8.0</td>\n",
       "      <td>46.4</td>\n",
       "    </tr>\n",
       "    <tr>\n",
       "      <th>6</th>\n",
       "      <td>15.0</td>\n",
       "      <td>59.0</td>\n",
       "    </tr>\n",
       "    <tr>\n",
       "      <th>7</th>\n",
       "      <td>22.0</td>\n",
       "      <td>71.6</td>\n",
       "    </tr>\n",
       "    <tr>\n",
       "      <th>8</th>\n",
       "      <td>38.0</td>\n",
       "      <td>100.4</td>\n",
       "    </tr>\n",
       "    <tr>\n",
       "      <th>9</th>\n",
       "      <td>50.0</td>\n",
       "      <td>122.0</td>\n",
       "    </tr>\n",
       "  </tbody>\n",
       "</table>\n",
       "</div>"
      ],
      "text/plain": [
       "     ºC     ºF\n",
       "0 -40.0  -40.0\n",
       "1 -30.0  -22.0\n",
       "2 -10.0   14.0\n",
       "3  -5.0   23.0\n",
       "4   0.0   32.0\n",
       "5   8.0   46.4\n",
       "6  15.0   59.0\n",
       "7  22.0   71.6\n",
       "8  38.0  100.4\n",
       "9  50.0  122.0"
      ]
     },
     "execution_count": 6,
     "metadata": {},
     "output_type": "execute_result"
    }
   ],
   "source": [
    "X = np.array([-40., -30., -10., -5., 0., 8., 15., 22., 38., 50.]) # Input data\n",
    "y = np.array([-40. , -22. ,  14. ,  23. ,  32. ,  46.4,  59. ,  71.6, 100.4,\n",
    "       122. ]) #Targets\n",
    "\n",
    "\n",
    "df = pd.DataFrame(X, columns=['ºC'])\n",
    "df['ºF'] = y\n",
    "\n",
    "df"
   ]
  },
  {
   "cell_type": "markdown",
   "metadata": {},
   "source": [
    "We define a new perceptron class with random generated weigths and bias and we will apply it to a dataset to compare the results with the known targets,"
   ]
  },
  {
   "cell_type": "code",
   "execution_count": 6,
   "metadata": {
    "scrolled": true
   },
   "outputs": [
    {
     "data": {
      "text/html": [
       "<div>\n",
       "<style scoped>\n",
       "    .dataframe tbody tr th:only-of-type {\n",
       "        vertical-align: middle;\n",
       "    }\n",
       "\n",
       "    .dataframe tbody tr th {\n",
       "        vertical-align: top;\n",
       "    }\n",
       "\n",
       "    .dataframe thead th {\n",
       "        text-align: right;\n",
       "    }\n",
       "</style>\n",
       "<table border=\"1\" class=\"dataframe\">\n",
       "  <thead>\n",
       "    <tr style=\"text-align: right;\">\n",
       "      <th></th>\n",
       "      <th>x</th>\n",
       "      <th>y</th>\n",
       "      <th>yp</th>\n",
       "    </tr>\n",
       "  </thead>\n",
       "  <tbody>\n",
       "    <tr>\n",
       "      <th>0</th>\n",
       "      <td>-40.0</td>\n",
       "      <td>-40.0</td>\n",
       "      <td>-517.726802</td>\n",
       "    </tr>\n",
       "    <tr>\n",
       "      <th>1</th>\n",
       "      <td>-30.0</td>\n",
       "      <td>-22.0</td>\n",
       "      <td>-386.369892</td>\n",
       "    </tr>\n",
       "    <tr>\n",
       "      <th>2</th>\n",
       "      <td>-10.0</td>\n",
       "      <td>14.0</td>\n",
       "      <td>-123.656072</td>\n",
       "    </tr>\n",
       "    <tr>\n",
       "      <th>3</th>\n",
       "      <td>-5.0</td>\n",
       "      <td>23.0</td>\n",
       "      <td>-57.977617</td>\n",
       "    </tr>\n",
       "    <tr>\n",
       "      <th>4</th>\n",
       "      <td>0.0</td>\n",
       "      <td>32.0</td>\n",
       "      <td>7.700838</td>\n",
       "    </tr>\n",
       "    <tr>\n",
       "      <th>5</th>\n",
       "      <td>8.0</td>\n",
       "      <td>46.4</td>\n",
       "      <td>112.786366</td>\n",
       "    </tr>\n",
       "    <tr>\n",
       "      <th>6</th>\n",
       "      <td>15.0</td>\n",
       "      <td>59.0</td>\n",
       "      <td>204.736203</td>\n",
       "    </tr>\n",
       "    <tr>\n",
       "      <th>7</th>\n",
       "      <td>22.0</td>\n",
       "      <td>71.6</td>\n",
       "      <td>296.686040</td>\n",
       "    </tr>\n",
       "    <tr>\n",
       "      <th>8</th>\n",
       "      <td>38.0</td>\n",
       "      <td>100.4</td>\n",
       "      <td>506.857095</td>\n",
       "    </tr>\n",
       "    <tr>\n",
       "      <th>9</th>\n",
       "      <td>50.0</td>\n",
       "      <td>122.0</td>\n",
       "      <td>664.485387</td>\n",
       "    </tr>\n",
       "  </tbody>\n",
       "</table>\n",
       "</div>"
      ],
      "text/plain": [
       "      x      y          yp\n",
       "0 -40.0  -40.0 -517.726802\n",
       "1 -30.0  -22.0 -386.369892\n",
       "2 -10.0   14.0 -123.656072\n",
       "3  -5.0   23.0  -57.977617\n",
       "4   0.0   32.0    7.700838\n",
       "5   8.0   46.4  112.786366\n",
       "6  15.0   59.0  204.736203\n",
       "7  22.0   71.6  296.686040\n",
       "8  38.0  100.4  506.857095\n",
       "9  50.0  122.0  664.485387"
      ]
     },
     "execution_count": 6,
     "metadata": {},
     "output_type": "execute_result"
    }
   ],
   "source": [
    "class perceptron02:\n",
    "    def __init__(self):\n",
    "        np.random.seed(413)\n",
    "        self.w = np.random.rand()*20\n",
    "        self.bias = np.random.rand()*20\n",
    "        \n",
    "    def predict(self,x):\n",
    "        return np.dot(self.w,x) + self.bias\n",
    "\n",
    "\n",
    "\n",
    "p = perceptron02()\n",
    "yp = p.predict(X)\n",
    "\n",
    "df = pd.DataFrame(X, columns=['x'])\n",
    "df['y'] = y\n",
    "df['yp'] = yp\n",
    "\n",
    "df"
   ]
  },
  {
   "cell_type": "code",
   "execution_count": 7,
   "metadata": {},
   "outputs": [
    {
     "data": {
      "text/plain": [
       "(13.135690988695137, 7.700837906085969)"
      ]
     },
     "execution_count": 7,
     "metadata": {},
     "output_type": "execute_result"
    }
   ],
   "source": [
    "p.w, p.bias"
   ]
  },
  {
   "cell_type": "markdown",
   "metadata": {},
   "source": [
    "Note that the predicted values do not reproduce the targets. We will introduce, inside the perceptron class, a 'cost function' that evaluates the precision of the perceptron to reproduce the targets from the input information,\n",
    "\n",
    "\\begin{equation}\n",
    "f_C (y^p, y) = \\sum _i (y^p_i - y_i)^2 = \\sum_i (wx_i +b - y_i)^2\n",
    "\\end{equation}"
   ]
  },
  {
   "cell_type": "code",
   "execution_count": 8,
   "metadata": {},
   "outputs": [
    {
     "name": "stdout",
     "output_type": "stream",
     "text": [
      "cost =  161940.47375841023\n"
     ]
    }
   ],
   "source": [
    "class perceptron02:\n",
    "    def __init__(self):\n",
    "        np.random.seed(413)\n",
    "        self.w = np.random.rand()*10\n",
    "        self.bias = np.random.rand()*10\n",
    "        \n",
    "    def predict(self,x):\n",
    "        return np.dot(self.w, x) + self.bias\n",
    "    \n",
    "    def fC(self, x, y):\n",
    "        yp = self.predict(x)\n",
    "        return sum((yp - y)**2)\n",
    "\n",
    "\n",
    "p = perceptron02()\n",
    "yp = p.predict(X)\n",
    "cost = p.fC(X,y)\n",
    "\n",
    "print('cost = ', cost)\n"
   ]
  },
  {
   "cell_type": "markdown",
   "metadata": {},
   "source": [
    "Note that the large value of the cost function indicates a big difference between predictions and targets. The idea introducing this function is that we will improve the parameters of the perceptron by minimizing $f_C$. Hence we will introduce the derivatives\n",
    "\n",
    "\\begin{align}\n",
    "\\frac{\\partial f_C}{\\partial w} = &\\sum_i 2(wx_i +b - y_i)x_i \\\\\n",
    "\\frac{\\partial f_C}{\\partial b} = &\\sum_i 2(wx_i +b - y_i)\n",
    "\\end{align}\n"
   ]
  },
  {
   "cell_type": "code",
   "execution_count": 9,
   "metadata": {},
   "outputs": [
    {
     "name": "stdout",
     "output_type": "stream",
     "text": [
      "cost =  161940.47375841023\n",
      "dfC/dw = 67308.68345849183\n",
      "dfC/db = -105.27845348177357\n"
     ]
    }
   ],
   "source": [
    "class perceptron02:\n",
    "    def __init__(self):\n",
    "        np.random.seed(413)\n",
    "        self.w = np.random.rand()*10\n",
    "        self.bias = np.random.rand()*10\n",
    "        \n",
    "    def predict(self, x):\n",
    "        return np.dot(self.w, x) + self.bias\n",
    "    \n",
    "    def fC(self,x,y):\n",
    "        yp = self.predict(x)\n",
    "        return sum((yp - y)**2)\n",
    "    \n",
    "    def grad_fC(self,x,y):\n",
    "        yp = self.predict(x)\n",
    "        return [sum(2*(yp - y)*x), sum(2*(yp - y))]\n",
    "\n",
    "\n",
    "p = perceptron02()\n",
    "yp = p.predict(X)\n",
    "cost = p.fC(X,y)\n",
    "grad_fC = p.grad_fC(X,y)\n",
    "\n",
    "print('cost = ', cost)\n",
    "print('dfC/dw =', grad_fC[0])\n",
    "print('dfC/db =', grad_fC[1])\n"
   ]
  },
  {
   "cell_type": "markdown",
   "metadata": {},
   "source": [
    "The components of the gradient permit to modify the weigths and bias,\n",
    "\n",
    "\\begin{align}\n",
    "w = &w - \\alpha \\frac{\\partial f_C}{\\partial w}  \\\\\n",
    "b = &b - \\alpha \\frac{\\partial f_C}{\\partial b} \n",
    "\\end{align}\n",
    "\n",
    "where the parameters are modified by adding the gradient descent (negative of the gradient) multiplied by a small factor called 'Learning Rate'. \n",
    "\n",
    "We introduce in the perceptron class a function to optimize the parameters,"
   ]
  },
  {
   "cell_type": "code",
   "execution_count": 10,
   "metadata": {},
   "outputs": [
    {
     "name": "stdout",
     "output_type": "stream",
     "text": [
      "initial cost =  161940.47375841023\n",
      "final cost =  41512.96706777971\n"
     ]
    }
   ],
   "source": [
    "class perceptron02:\n",
    "    def __init__(self):\n",
    "        np.random.seed(413)\n",
    "        self.w = np.random.rand()*10\n",
    "        self.bias = np.random.rand()*10\n",
    "        \n",
    "    def predict(self, x):\n",
    "        return np.dot(self.w, x) + self.bias\n",
    "    \n",
    "    def fC(self):\n",
    "        return sum((self.yp - self.y)**2)\n",
    "    \n",
    "    def grad_fC(self):\n",
    "        return [sum(2*(self.yp - self.y)*self.x), sum(2*(self.yp - self.y))]\n",
    "    \n",
    "    def improve(self,x,y):\n",
    "        alpha = 1e-4 # Learning Rate\n",
    "        self.x = x\n",
    "        self.y = y\n",
    "        self.yp = self.predict(x)\n",
    "        cost_before = self.fC()\n",
    "        self.w -= alpha*self.grad_fC()[0]\n",
    "        self.bias -= alpha*self.grad_fC()[1]\n",
    "        self.yp = self.predict(x)\n",
    "        cost_after = self.fC()\n",
    "        return cost_before, cost_after\n",
    "\n",
    "\n",
    "p = perceptron02()\n",
    "\n",
    "cost_i, cost_f = p.improve(X,y)\n",
    "print('initial cost = ', cost_i)\n",
    "print('final cost = ', cost_f)\n"
   ]
  },
  {
   "cell_type": "code",
   "execution_count": 11,
   "metadata": {},
   "outputs": [
    {
     "data": {
      "text/plain": [
       "(-0.16302285150161477, 3.860946798391162)"
      ]
     },
     "execution_count": 11,
     "metadata": {},
     "output_type": "execute_result"
    }
   ],
   "source": [
    "p.w, p.bias"
   ]
  },
  {
   "cell_type": "markdown",
   "metadata": {},
   "source": [
    "With this idea in mind, we can improve the parameters by calling multiple times the improve method,"
   ]
  },
  {
   "cell_type": "code",
   "execution_count": 11,
   "metadata": {},
   "outputs": [
    {
     "name": "stdout",
     "output_type": "stream",
     "text": [
      "initial cost =  161940.47375841023\n",
      "cost in step 0=  15061.13265527326\n",
      "cost in step 1=  9233.047940160108\n",
      "cost in step 2=  7931.087630098235\n",
      "cost in step 3=  7622.507787775035\n",
      "cost in step 4=  7532.021138569387\n",
      "cost in step 5=  7489.484781675668\n",
      "cost in step 6=  7457.559251049177\n",
      "cost in step 7=  7428.049783414183\n",
      "cost in step 8=  7399.157638588673\n",
      "cost in step 9=  7370.487732537224\n"
     ]
    }
   ],
   "source": [
    "p = perceptron02()\n",
    "cost_i, cost_f = p.improve(X,y)\n",
    "print('initial cost = ', cost_i)\n",
    "\n",
    "for i in range(10):\n",
    "    cost_i, cost_f = p.improve(X,y)\n",
    "    print(f'cost in step {i:.0f}= ', cost_f)\n"
   ]
  },
  {
   "cell_type": "markdown",
   "metadata": {},
   "source": [
    "We will modify the percepton class to include a parameter with the information about how many 'epochs', i.e. repetitions, will be performed."
   ]
  },
  {
   "cell_type": "code",
   "execution_count": 7,
   "metadata": {
    "scrolled": true
   },
   "outputs": [
    {
     "name": "stdout",
     "output_type": "stream",
     "text": [
      "initial cost =  161940.47375841023\n",
      "final cost after 50 epochs =  6340.608197206991\n"
     ]
    }
   ],
   "source": [
    "class perceptron:\n",
    "    def __init__(self):\n",
    "        np.random.seed(413)\n",
    "        self.w = np.random.rand()*10\n",
    "        self.bias = np.random.rand()*10\n",
    "        \n",
    "    def predict(self, x):\n",
    "        return np.dot(self.w, x) + self.bias\n",
    "    \n",
    "    def fC(self):\n",
    "        self.yp = self.predict(self.x)\n",
    "        return sum((self.yp - self.y)**2)\n",
    "    \n",
    "    def grad_fC(self):\n",
    "        self.yp = self.predict(self.x)\n",
    "        return [sum(2*(self.yp - self.y)*self.x), sum(2*(self.yp - self.y))]\n",
    " \n",
    "    def improve(self):\n",
    "        alpha = 1e-4 # Learning Rate\n",
    "        self.w -= alpha*self.grad_fC()[0]\n",
    "        self.bias -= alpha*self.grad_fC()[1]\n",
    "        \n",
    "    def train(self, x, y, epochs):\n",
    "        self.x = x\n",
    "        self.y = y\n",
    "        self.yp = self.predict(self.x) # Initial prediction\n",
    "        history = np.zeros(epochs)\n",
    "        for i in range(epochs):\n",
    "            history[i] = self.fC()\n",
    "            self.improve()\n",
    "        return history\n",
    "\n",
    "    \n",
    "p = perceptron()\n",
    "epochs = 50\n",
    "history = p.train(X, y, epochs)\n",
    "print('initial cost = ', history[0])\n",
    "print(f'final cost after {epochs:.0f} epochs = ', history[-1])"
   ]
  },
  {
   "cell_type": "code",
   "execution_count": 9,
   "metadata": {},
   "outputs": [
    {
     "data": {
      "text/plain": [
       "6.464356210062306"
      ]
     },
     "execution_count": 9,
     "metadata": {},
     "output_type": "execute_result"
    }
   ],
   "source": [
    "p.bias"
   ]
  },
  {
   "cell_type": "code",
   "execution_count": 10,
   "metadata": {},
   "outputs": [
    {
     "data": {
      "text/html": [
       "<div>\n",
       "<style scoped>\n",
       "    .dataframe tbody tr th:only-of-type {\n",
       "        vertical-align: middle;\n",
       "    }\n",
       "\n",
       "    .dataframe tbody tr th {\n",
       "        vertical-align: top;\n",
       "    }\n",
       "\n",
       "    .dataframe thead th {\n",
       "        text-align: right;\n",
       "    }\n",
       "</style>\n",
       "<table border=\"1\" class=\"dataframe\">\n",
       "  <thead>\n",
       "    <tr style=\"text-align: right;\">\n",
       "      <th></th>\n",
       "      <th>ºC</th>\n",
       "      <th>ºF</th>\n",
       "      <th>yp</th>\n",
       "    </tr>\n",
       "  </thead>\n",
       "  <tbody>\n",
       "    <tr>\n",
       "      <th>0</th>\n",
       "      <td>-40.0</td>\n",
       "      <td>-40.0</td>\n",
       "      <td>-72.222269</td>\n",
       "    </tr>\n",
       "    <tr>\n",
       "      <th>1</th>\n",
       "      <td>-30.0</td>\n",
       "      <td>-22.0</td>\n",
       "      <td>-52.550613</td>\n",
       "    </tr>\n",
       "    <tr>\n",
       "      <th>2</th>\n",
       "      <td>-10.0</td>\n",
       "      <td>14.0</td>\n",
       "      <td>-13.207300</td>\n",
       "    </tr>\n",
       "    <tr>\n",
       "      <th>3</th>\n",
       "      <td>-5.0</td>\n",
       "      <td>23.0</td>\n",
       "      <td>-3.371472</td>\n",
       "    </tr>\n",
       "    <tr>\n",
       "      <th>4</th>\n",
       "      <td>0.0</td>\n",
       "      <td>32.0</td>\n",
       "      <td>6.464356</td>\n",
       "    </tr>\n",
       "    <tr>\n",
       "      <th>5</th>\n",
       "      <td>8.0</td>\n",
       "      <td>46.4</td>\n",
       "      <td>22.201681</td>\n",
       "    </tr>\n",
       "    <tr>\n",
       "      <th>6</th>\n",
       "      <td>15.0</td>\n",
       "      <td>59.0</td>\n",
       "      <td>35.971841</td>\n",
       "    </tr>\n",
       "    <tr>\n",
       "      <th>7</th>\n",
       "      <td>22.0</td>\n",
       "      <td>71.6</td>\n",
       "      <td>49.742000</td>\n",
       "    </tr>\n",
       "    <tr>\n",
       "      <th>8</th>\n",
       "      <td>38.0</td>\n",
       "      <td>100.4</td>\n",
       "      <td>81.216651</td>\n",
       "    </tr>\n",
       "    <tr>\n",
       "      <th>9</th>\n",
       "      <td>50.0</td>\n",
       "      <td>122.0</td>\n",
       "      <td>104.822638</td>\n",
       "    </tr>\n",
       "  </tbody>\n",
       "</table>\n",
       "</div>"
      ],
      "text/plain": [
       "     ºC     ºF          yp\n",
       "0 -40.0  -40.0  -72.222269\n",
       "1 -30.0  -22.0  -52.550613\n",
       "2 -10.0   14.0  -13.207300\n",
       "3  -5.0   23.0   -3.371472\n",
       "4   0.0   32.0    6.464356\n",
       "5   8.0   46.4   22.201681\n",
       "6  15.0   59.0   35.971841\n",
       "7  22.0   71.6   49.742000\n",
       "8  38.0  100.4   81.216651\n",
       "9  50.0  122.0  104.822638"
      ]
     },
     "execution_count": 10,
     "metadata": {},
     "output_type": "execute_result"
    }
   ],
   "source": [
    "yp = p.predict(X)\n",
    "\n",
    "df = pd.DataFrame(X, columns=['ºC'])\n",
    "df['ºF'] = y\n",
    "df['yp'] = yp\n",
    "\n",
    "df"
   ]
  },
  {
   "cell_type": "code",
   "execution_count": 11,
   "metadata": {},
   "outputs": [
    {
     "data": {
      "image/png": "[encoded data removed]",
      "text/plain": [
       "<Figure size 640x480 with 1 Axes>"
      ]
     },
     "metadata": {},
     "output_type": "display_data"
    }
   ],
   "source": [
    "import matplotlib.pyplot as plt\n",
    "\n",
    "plt.figure()\n",
    "plt.plot(history)\n",
    "plt.xlabel('epoch')\n",
    "plt.ylabel('cost function')\n",
    "plt.title('Learning History')\n",
    "plt.show()"
   ]
  },
  {
   "cell_type": "markdown",
   "metadata": {},
   "source": [
    "Increasing the number of epochs, the perceptron will modify its parameters to optimize the output:"
   ]
  },
  {
   "cell_type": "code",
   "execution_count": 12,
   "metadata": {},
   "outputs": [
    {
     "name": "stdout",
     "output_type": "stream",
     "text": [
      "initial cost =  161940.47375841023\n",
      "final cost after 7000 epochs =  1.2475080095100452e-08\n"
     ]
    }
   ],
   "source": [
    "p = perceptron()\n",
    "epochs = 7000\n",
    "history = p.train(X, y, epochs)\n",
    "print('initial cost = ', history[0])\n",
    "print(f'final cost after {epochs:.0f} epochs = ', history[-1])\n"
   ]
  },
  {
   "cell_type": "markdown",
   "metadata": {},
   "source": [
    "The final outputs are equal to the original known targets,"
   ]
  },
  {
   "cell_type": "code",
   "execution_count": 13,
   "metadata": {},
   "outputs": [
    {
     "data": {
      "text/html": [
       "<div>\n",
       "<style scoped>\n",
       "    .dataframe tbody tr th:only-of-type {\n",
       "        vertical-align: middle;\n",
       "    }\n",
       "\n",
       "    .dataframe tbody tr th {\n",
       "        vertical-align: top;\n",
       "    }\n",
       "\n",
       "    .dataframe thead th {\n",
       "        text-align: right;\n",
       "    }\n",
       "</style>\n",
       "<table border=\"1\" class=\"dataframe\">\n",
       "  <thead>\n",
       "    <tr style=\"text-align: right;\">\n",
       "      <th></th>\n",
       "      <th>ºC</th>\n",
       "      <th>ºF</th>\n",
       "      <th>yp</th>\n",
       "    </tr>\n",
       "  </thead>\n",
       "  <tbody>\n",
       "    <tr>\n",
       "      <th>0</th>\n",
       "      <td>-40.0</td>\n",
       "      <td>-40.0</td>\n",
       "      <td>-40.000045</td>\n",
       "    </tr>\n",
       "    <tr>\n",
       "      <th>1</th>\n",
       "      <td>-30.0</td>\n",
       "      <td>-22.0</td>\n",
       "      <td>-22.000043</td>\n",
       "    </tr>\n",
       "    <tr>\n",
       "      <th>2</th>\n",
       "      <td>-10.0</td>\n",
       "      <td>14.0</td>\n",
       "      <td>13.999962</td>\n",
       "    </tr>\n",
       "    <tr>\n",
       "      <th>3</th>\n",
       "      <td>-5.0</td>\n",
       "      <td>23.0</td>\n",
       "      <td>22.999963</td>\n",
       "    </tr>\n",
       "    <tr>\n",
       "      <th>4</th>\n",
       "      <td>0.0</td>\n",
       "      <td>32.0</td>\n",
       "      <td>31.999964</td>\n",
       "    </tr>\n",
       "    <tr>\n",
       "      <th>5</th>\n",
       "      <td>8.0</td>\n",
       "      <td>46.4</td>\n",
       "      <td>46.399966</td>\n",
       "    </tr>\n",
       "    <tr>\n",
       "      <th>6</th>\n",
       "      <td>15.0</td>\n",
       "      <td>59.0</td>\n",
       "      <td>58.999968</td>\n",
       "    </tr>\n",
       "    <tr>\n",
       "      <th>7</th>\n",
       "      <td>22.0</td>\n",
       "      <td>71.6</td>\n",
       "      <td>71.599969</td>\n",
       "    </tr>\n",
       "    <tr>\n",
       "      <th>8</th>\n",
       "      <td>38.0</td>\n",
       "      <td>100.4</td>\n",
       "      <td>100.399973</td>\n",
       "    </tr>\n",
       "    <tr>\n",
       "      <th>9</th>\n",
       "      <td>50.0</td>\n",
       "      <td>122.0</td>\n",
       "      <td>121.999976</td>\n",
       "    </tr>\n",
       "  </tbody>\n",
       "</table>\n",
       "</div>"
      ],
      "text/plain": [
       "     ºC     ºF          yp\n",
       "0 -40.0  -40.0  -40.000045\n",
       "1 -30.0  -22.0  -22.000043\n",
       "2 -10.0   14.0   13.999962\n",
       "3  -5.0   23.0   22.999963\n",
       "4   0.0   32.0   31.999964\n",
       "5   8.0   46.4   46.399966\n",
       "6  15.0   59.0   58.999968\n",
       "7  22.0   71.6   71.599969\n",
       "8  38.0  100.4  100.399973\n",
       "9  50.0  122.0  121.999976"
      ]
     },
     "execution_count": 13,
     "metadata": {},
     "output_type": "execute_result"
    }
   ],
   "source": [
    "yp = p.predict(X)\n",
    "\n",
    "df = pd.DataFrame(X, columns=['ºC'])\n",
    "df['ºF'] = y\n",
    "df['yp'] = yp\n",
    "\n",
    "df"
   ]
  },
  {
   "cell_type": "markdown",
   "metadata": {},
   "source": [
    "The trained perceptron has the parameters"
   ]
  },
  {
   "cell_type": "code",
   "execution_count": 15,
   "metadata": {},
   "outputs": [
    {
     "name": "stdout",
     "output_type": "stream",
     "text": [
      "w =  1.8000002344786092\n",
      "b =  31.99996418186047\n"
     ]
    }
   ],
   "source": [
    "print('w = ', p.w)\n",
    "print('b = ', p.bias)"
   ]
  },
  {
   "cell_type": "markdown",
   "metadata": {},
   "source": [
    "Since $\\frac{9}{5} = 1.8$, we conclude that the trained perceptron equation\n",
    "\n",
    "\\begin{equation}\n",
    "y_p = wx+b = 1.8x + 32 \n",
    "\\end{equation}\n",
    "\n",
    "shows that the algorithm 'learned' by itself the well known relation between Celcius and Fahrenheit temperatures,\n",
    "\n",
    "\\begin{equation}\n",
    "ºF = \\frac{9}{5} ºC + 32 \n",
    "\\end{equation}"
   ]
  },
  {
   "cell_type": "markdown",
   "metadata": {
    "id": "cn0RkhCyHfEO"
   },
   "source": [
    "---\n",
    "## A classification Perceptron with multiple inputs\n",
    "\n",
    "Now we will return to a simple perceptron including two inputs: $x_1$ and $x_2$, two weights: $w_1$ and $w_0$ and one bias: $b$ and giving one return: z = $w_1 x_1 + w_2 x_2 + b$."
   ]
  },
  {
   "cell_type": "code",
   "execution_count": 19,
   "metadata": {
    "executionInfo": {
     "elapsed": 490,
     "status": "ok",
     "timestamp": 1618169052495,
     "user": {
      "displayName": "Eduard Alexis Larranaga",
      "photoUrl": "https://lh3.googleusercontent.com/a-/AOh14GgCVABzEgj-rCdyxWa29RnA0kIYUCXAaVbnRYOEhQ=s64",
      "userId": "04402438389940282602"
     },
     "user_tz": 300
    },
    "id": "z2_uSWSg5VRk"
   },
   "outputs": [
    {
     "data": {
      "text/plain": [
       "7.0"
      ]
     },
     "execution_count": 19,
     "metadata": {},
     "output_type": "execute_result"
    }
   ],
   "source": [
    "import numpy as np\n",
    "\n",
    "class perceptronC:\n",
    "    def __init__(self):\n",
    "        self.w = np.array([-2., 5.])\n",
    "        self.bias = 2.\n",
    "        \n",
    "    def predict(self,x):\n",
    "        self.x = x\n",
    "        return np.dot(self.w,self.x) + self.bias\n",
    "\n",
    "    \n",
    "x = np.array([0., 1.])\n",
    "\n",
    "p = perceptronC()\n",
    "p.predict(x)"
   ]
  },
  {
   "cell_type": "markdown",
   "metadata": {},
   "source": [
    "In order to transform this perceptron into a classifier, we will incorporate an 'activation function'. For example, we may consider a step function,\n",
    "\n",
    "\\begin{equation}\n",
    "f_A(z) = \\begin{cases}\n",
    "0 \\text{ if } z\\leq 0 \\\\\n",
    "1 \\text{ if } z> 0\n",
    "\\end{cases}\n",
    "\\end{equation}\n",
    "\n",
    "which classifies the outputs into two possibilities: 0 and 1."
   ]
  },
  {
   "cell_type": "code",
   "execution_count": 21,
   "metadata": {
    "colab": {
     "base_uri": "https://localhost:8080/"
    },
    "executionInfo": {
     "elapsed": 401,
     "status": "ok",
     "timestamp": 1618169168563,
     "user": {
      "displayName": "Eduard Alexis Larranaga",
      "photoUrl": "https://lh3.googleusercontent.com/a-/AOh14GgCVABzEgj-rCdyxWa29RnA0kIYUCXAaVbnRYOEhQ=s64",
      "userId": "04402438389940282602"
     },
     "user_tz": 300
    },
    "id": "YViL7KzKZUOP",
    "outputId": "e67453e6-0d57-4fde-c732-18b4bd965988"
   },
   "outputs": [
    {
     "data": {
      "text/plain": [
       "1"
      ]
     },
     "execution_count": 21,
     "metadata": {},
     "output_type": "execute_result"
    }
   ],
   "source": [
    "class perceptronC:\n",
    "    def __init__(self):\n",
    "        self.w = np.array([-2., 5.])\n",
    "        self.bias = 2.\n",
    "        \n",
    "    def predict(self,x):\n",
    "        self.x = x\n",
    "        z = np.dot(self.w,self.x) + self.bias\n",
    "        return self.fA(z)\n",
    "    \n",
    "    def fA(self,z):\n",
    "        '''\n",
    "        Activation Function\n",
    "        '''\n",
    "        if z<=0:\n",
    "            return 0\n",
    "        else:\n",
    "            return 1\n",
    "\n",
    "        \n",
    "x = np.array([0., 1.])\n",
    "p = perceptronC()\n",
    "p.predict(x)"
   ]
  },
  {
   "cell_type": "code",
   "execution_count": 22,
   "metadata": {},
   "outputs": [
    {
     "data": {
      "text/plain": [
       "0"
      ]
     },
     "execution_count": 22,
     "metadata": {},
     "output_type": "execute_result"
    }
   ],
   "source": [
    "x = np.array([5., 1.])\n",
    "perceptronC().predict(x)"
   ]
  },
  {
   "cell_type": "markdown",
   "metadata": {
    "id": "C7pkVeizIyj5"
   },
   "source": [
    "Now we can apply this perceptron to many input data,"
   ]
  },
  {
   "cell_type": "code",
   "execution_count": 23,
   "metadata": {
    "colab": {
     "base_uri": "https://localhost:8080/"
    },
    "executionInfo": {
     "elapsed": 552,
     "status": "ok",
     "timestamp": 1618169172215,
     "user": {
      "displayName": "Eduard Alexis Larranaga",
      "photoUrl": "https://lh3.googleusercontent.com/a-/AOh14GgCVABzEgj-rCdyxWa29RnA0kIYUCXAaVbnRYOEhQ=s64",
      "userId": "04402438389940282602"
     },
     "user_tz": 300
    },
    "id": "9ADX6gPTKed5",
    "outputId": "c460d496-f683-4c9a-da23-36104007305a"
   },
   "outputs": [],
   "source": [
    "data = np.array([[0., 1.],\n",
    "                [5., 1.],\n",
    "                [3., 4.],\n",
    "                [10., 3.5],\n",
    "                [6., 4.],\n",
    "                [4., 2.]])\n",
    "\n",
    "yp = np.zeros(len(data))\n",
    "\n",
    "p = perceptronC()\n",
    "\n",
    "for i in range(len(data)):\n",
    "    yp[i] = p.predict(data[i])"
   ]
  },
  {
   "cell_type": "markdown",
   "metadata": {},
   "source": [
    "and we can show the results as a table,"
   ]
  },
  {
   "cell_type": "code",
   "execution_count": 24,
   "metadata": {
    "colab": {
     "base_uri": "https://localhost:8080/"
    },
    "executionInfo": {
     "elapsed": 717,
     "status": "ok",
     "timestamp": 1618169175171,
     "user": {
      "displayName": "Eduard Alexis Larranaga",
      "photoUrl": "https://lh3.googleusercontent.com/a-/AOh14GgCVABzEgj-rCdyxWa29RnA0kIYUCXAaVbnRYOEhQ=s64",
      "userId": "04402438389940282602"
     },
     "user_tz": 300
    },
    "id": "0s-hSuTvKh6h",
    "outputId": "873526a4-41f7-44af-b02f-8c3b8fafc3f3"
   },
   "outputs": [
    {
     "data": {
      "text/html": [
       "<div>\n",
       "<style scoped>\n",
       "    .dataframe tbody tr th:only-of-type {\n",
       "        vertical-align: middle;\n",
       "    }\n",
       "\n",
       "    .dataframe tbody tr th {\n",
       "        vertical-align: top;\n",
       "    }\n",
       "\n",
       "    .dataframe thead th {\n",
       "        text-align: right;\n",
       "    }\n",
       "</style>\n",
       "<table border=\"1\" class=\"dataframe\">\n",
       "  <thead>\n",
       "    <tr style=\"text-align: right;\">\n",
       "      <th></th>\n",
       "      <th>x1</th>\n",
       "      <th>x2</th>\n",
       "      <th>yp</th>\n",
       "    </tr>\n",
       "  </thead>\n",
       "  <tbody>\n",
       "    <tr>\n",
       "      <th>0</th>\n",
       "      <td>0.0</td>\n",
       "      <td>1.0</td>\n",
       "      <td>1.0</td>\n",
       "    </tr>\n",
       "    <tr>\n",
       "      <th>1</th>\n",
       "      <td>5.0</td>\n",
       "      <td>1.0</td>\n",
       "      <td>0.0</td>\n",
       "    </tr>\n",
       "    <tr>\n",
       "      <th>2</th>\n",
       "      <td>3.0</td>\n",
       "      <td>4.0</td>\n",
       "      <td>1.0</td>\n",
       "    </tr>\n",
       "    <tr>\n",
       "      <th>3</th>\n",
       "      <td>10.0</td>\n",
       "      <td>3.5</td>\n",
       "      <td>0.0</td>\n",
       "    </tr>\n",
       "    <tr>\n",
       "      <th>4</th>\n",
       "      <td>6.0</td>\n",
       "      <td>4.0</td>\n",
       "      <td>1.0</td>\n",
       "    </tr>\n",
       "    <tr>\n",
       "      <th>5</th>\n",
       "      <td>4.0</td>\n",
       "      <td>2.0</td>\n",
       "      <td>1.0</td>\n",
       "    </tr>\n",
       "  </tbody>\n",
       "</table>\n",
       "</div>"
      ],
      "text/plain": [
       "     x1   x2   yp\n",
       "0   0.0  1.0  1.0\n",
       "1   5.0  1.0  0.0\n",
       "2   3.0  4.0  1.0\n",
       "3  10.0  3.5  0.0\n",
       "4   6.0  4.0  1.0\n",
       "5   4.0  2.0  1.0"
      ]
     },
     "execution_count": 24,
     "metadata": {},
     "output_type": "execute_result"
    }
   ],
   "source": [
    "df = pd.DataFrame(data, columns=['x1','x2'])\n",
    "df['yp'] = yp\n",
    "\n",
    "df"
   ]
  },
  {
   "cell_type": "markdown",
   "metadata": {},
   "source": [
    "---\n",
    "\n",
    "Lets define a perceptron with the following values:\n",
    "\n",
    "- $w_1 = -2$\n",
    "- $w_2 = -2$\n",
    "- $b = 3$\n",
    "\n",
    "Hence the result of the linear function is $z = -2 x_1 -2 x_2 +3$. In a plane with axes $(x_1,x_2)$ we have the following straight line:\n"
   ]
  },
  {
   "cell_type": "code",
   "execution_count": 26,
   "metadata": {},
   "outputs": [
    {
     "data": {
      "image/png": "[encoded data removed]",
      "text/plain": [
       "<Figure size 500x500 with 1 Axes>"
      ]
     },
     "metadata": {},
     "output_type": "display_data"
    }
   ],
   "source": [
    "import matplotlib.pyplot as plt\n",
    "\n",
    "class perceptronC:\n",
    "    def __init__(self):\n",
    "        self.w = np.array([-2., -2.])\n",
    "        self.bias = 3.\n",
    "        \n",
    "    def predict(self,x):\n",
    "        self.x = x\n",
    "        z = np.dot(self.w,self.x) + self.bias\n",
    "        return self.fA(z)\n",
    "    \n",
    "    def fA(self,z):\n",
    "        '''\n",
    "        Activation Function\n",
    "        '''\n",
    "        if z<=0:\n",
    "            return 0\n",
    "        else:\n",
    "            return 1\n",
    "\n",
    "\n",
    "p = perceptronC()\n",
    "\n",
    "x1 = np.arange(-5,6)\n",
    "np.random.seed(413)\n",
    "points = -5 + np.random.rand(50,2)*10\n",
    "\n",
    "def sl(x1):\n",
    "    '''\n",
    "    Straight line equation\n",
    "    '''\n",
    "    return -x1 + 3/2 \n",
    "\n",
    "\n",
    "\n",
    "plt.figure(figsize=(5,5))\n",
    "plt.axhline(0, color='black')\n",
    "plt.axvline(0, color='black')\n",
    "plt.plot(x1, sl(x1), color='crimson')\n",
    "for i in range(len(points)):\n",
    "    if points[i,1]>sl(points[i,0]):\n",
    "        plt.scatter(points[i,0], points[i,1], marker='*', color='black', s=50)\n",
    "    else:\n",
    "        plt.scatter(points[i,0], points[i,1], marker='o', color='blue')\n",
    "\n",
    "plt.xlabel(r'$x_1$')\n",
    "plt.ylabel(r'$x_2$')\n",
    "plt.grid()\n",
    "plt.show()"
   ]
  },
  {
   "cell_type": "markdown",
   "metadata": {},
   "source": [
    "In this plot is easy to show the result of the applying the activation function. Any point above the straight line (black stars) corresponds to a final result of $1$ while any point below the straight line (blue dots) corresponds to a final result of 0 in the binary classifier."
   ]
  },
  {
   "cell_type": "markdown",
   "metadata": {
    "id": "bbhQoywPKrqX"
   },
   "source": [
    "## NAND Logic Gate\n",
    "\n",
    "Consider a particular case in which the inputs ($x_1$ and $x_2$) are binary values (i.e. $0$ or $1$). The allowed points in the $(x_1,x_2)$ plane are represented as"
   ]
  },
  {
   "cell_type": "code",
   "execution_count": 27,
   "metadata": {
    "colab": {
     "base_uri": "https://localhost:8080/"
    },
    "executionInfo": {
     "elapsed": 450,
     "status": "ok",
     "timestamp": 1618169181183,
     "user": {
      "displayName": "Eduard Alexis Larranaga",
      "photoUrl": "https://lh3.googleusercontent.com/a-/AOh14GgCVABzEgj-rCdyxWa29RnA0kIYUCXAaVbnRYOEhQ=s64",
      "userId": "04402438389940282602"
     },
     "user_tz": 300
    },
    "id": "RjLaP4_uKX5o",
    "outputId": "08495961-1398-43a6-8f32-62238a095f0d"
   },
   "outputs": [
    {
     "data": {
      "image/png": "[encoded data removed]",
      "text/plain": [
       "<Figure size 1000x700 with 1 Axes>"
      ]
     },
     "metadata": {},
     "output_type": "display_data"
    }
   ],
   "source": [
    "x1 = np.arange(-2,3)\n",
    "\n",
    "\n",
    "def sl(x1):\n",
    "    return -x1 + 3/2 \n",
    "\n",
    "points = np.array([[0,0],\n",
    "                  [0,1],\n",
    "                  [1,0],\n",
    "                  [1,1]])\n",
    "\n",
    "\n",
    "plt.figure(figsize=(10,7))\n",
    "plt.axhline(0, color='black', alpha=0.5)\n",
    "plt.axvline(0, color='black', alpha=0.5)\n",
    "plt.plot(x1, sl(x1), color='crimson')\n",
    "for i in range(len(points)):\n",
    "    if points[i,1]>sl(points[i,0]):\n",
    "        plt.scatter(points[i,0], points[i,1], marker='*', color='black', s=200)\n",
    "    else:\n",
    "        plt.scatter(points[i,0], points[i,1], marker='o', color='blue', s=100)\n",
    "\n",
    "plt.xlabel(r'$x_1$')\n",
    "plt.ylabel(r'$x_2$')\n",
    "plt.grid()\n",
    "plt.show()"
   ]
  },
  {
   "cell_type": "markdown",
   "metadata": {},
   "source": [
    "This plot shows immediately the results of applying the perceptron to these datapoints,"
   ]
  },
  {
   "cell_type": "code",
   "execution_count": 25,
   "metadata": {
    "colab": {
     "base_uri": "https://localhost:8080/"
    },
    "executionInfo": {
     "elapsed": 443,
     "status": "ok",
     "timestamp": 1618169183409,
     "user": {
      "displayName": "Eduard Alexis Larranaga",
      "photoUrl": "https://lh3.googleusercontent.com/a-/AOh14GgCVABzEgj-rCdyxWa29RnA0kIYUCXAaVbnRYOEhQ=s64",
      "userId": "04402438389940282602"
     },
     "user_tz": 300
    },
    "id": "lQePgwUbKul3",
    "outputId": "8117d680-1ef4-4dad-a55d-0442489024d0"
   },
   "outputs": [
    {
     "data": {
      "text/html": [
       "<div>\n",
       "<style scoped>\n",
       "    .dataframe tbody tr th:only-of-type {\n",
       "        vertical-align: middle;\n",
       "    }\n",
       "\n",
       "    .dataframe tbody tr th {\n",
       "        vertical-align: top;\n",
       "    }\n",
       "\n",
       "    .dataframe thead th {\n",
       "        text-align: right;\n",
       "    }\n",
       "</style>\n",
       "<table border=\"1\" class=\"dataframe\">\n",
       "  <thead>\n",
       "    <tr style=\"text-align: right;\">\n",
       "      <th></th>\n",
       "      <th>x1</th>\n",
       "      <th>x2</th>\n",
       "      <th>yp</th>\n",
       "    </tr>\n",
       "  </thead>\n",
       "  <tbody>\n",
       "    <tr>\n",
       "      <th>0</th>\n",
       "      <td>0</td>\n",
       "      <td>0</td>\n",
       "      <td>1.0</td>\n",
       "    </tr>\n",
       "    <tr>\n",
       "      <th>1</th>\n",
       "      <td>0</td>\n",
       "      <td>1</td>\n",
       "      <td>1.0</td>\n",
       "    </tr>\n",
       "    <tr>\n",
       "      <th>2</th>\n",
       "      <td>1</td>\n",
       "      <td>0</td>\n",
       "      <td>1.0</td>\n",
       "    </tr>\n",
       "    <tr>\n",
       "      <th>3</th>\n",
       "      <td>1</td>\n",
       "      <td>1</td>\n",
       "      <td>0.0</td>\n",
       "    </tr>\n",
       "  </tbody>\n",
       "</table>\n",
       "</div>"
      ],
      "text/plain": [
       "   x1  x2   yp\n",
       "0   0   0  1.0\n",
       "1   0   1  1.0\n",
       "2   1   0  1.0\n",
       "3   1   1  0.0"
      ]
     },
     "execution_count": 25,
     "metadata": {},
     "output_type": "execute_result"
    }
   ],
   "source": [
    "\n",
    "class perceptronC:\n",
    "    def __init__(self):\n",
    "        self.w = np.array([-2., -2.])\n",
    "        self.bias = 3.\n",
    "        \n",
    "    def predict(self,x):\n",
    "        self.x = x\n",
    "        z = np.dot(self.w,self.x) + self.bias\n",
    "        return self.fA(z)\n",
    "    \n",
    "    def fA(self,z):\n",
    "        '''\n",
    "        Activation Function\n",
    "        '''\n",
    "        if z<=0:\n",
    "            return 0\n",
    "        else:\n",
    "            return 1\n",
    "\n",
    "\n",
    "p = perceptronC()\n",
    "\n",
    "\n",
    "points = np.array([[0,0],\n",
    "                  [0,1],\n",
    "                  [1,0],\n",
    "                  [1,1]])\n",
    "\n",
    "yp = np.zeros(len(points))\n",
    "\n",
    "for i in range(len(points)):\n",
    "    yp[i] = p.predict(points[i])\n",
    "    \n",
    "df = pd.DataFrame(points, columns=['x1','x2'])\n",
    "df['yp'] = yp\n",
    "\n",
    "df    "
   ]
  },
  {
   "cell_type": "markdown",
   "metadata": {},
   "source": [
    "These results shows that this particualr perceptron reproduces the result of a NAND GATE !!\n",
    "\n",
    "We can define the NAND Gate perceptron in a compact form as "
   ]
  },
  {
   "cell_type": "code",
   "execution_count": 28,
   "metadata": {
    "colab": {
     "base_uri": "https://localhost:8080/"
    },
    "executionInfo": {
     "elapsed": 404,
     "status": "ok",
     "timestamp": 1618169186722,
     "user": {
      "displayName": "Eduard Alexis Larranaga",
      "photoUrl": "https://lh3.googleusercontent.com/a-/AOh14GgCVABzEgj-rCdyxWa29RnA0kIYUCXAaVbnRYOEhQ=s64",
      "userId": "04402438389940282602"
     },
     "user_tz": 300
    },
    "id": "8JHyXtPlK6Hs",
    "outputId": "d0a8bc4d-5e63-4226-9770-ad617c9851e3"
   },
   "outputs": [
    {
     "data": {
      "text/html": [
       "<div>\n",
       "<style scoped>\n",
       "    .dataframe tbody tr th:only-of-type {\n",
       "        vertical-align: middle;\n",
       "    }\n",
       "\n",
       "    .dataframe tbody tr th {\n",
       "        vertical-align: top;\n",
       "    }\n",
       "\n",
       "    .dataframe thead th {\n",
       "        text-align: right;\n",
       "    }\n",
       "</style>\n",
       "<table border=\"1\" class=\"dataframe\">\n",
       "  <thead>\n",
       "    <tr style=\"text-align: right;\">\n",
       "      <th></th>\n",
       "      <th>x1</th>\n",
       "      <th>x2</th>\n",
       "      <th>y</th>\n",
       "    </tr>\n",
       "  </thead>\n",
       "  <tbody>\n",
       "    <tr>\n",
       "      <th>0</th>\n",
       "      <td>0</td>\n",
       "      <td>0</td>\n",
       "      <td>1</td>\n",
       "    </tr>\n",
       "    <tr>\n",
       "      <th>1</th>\n",
       "      <td>0</td>\n",
       "      <td>1</td>\n",
       "      <td>1</td>\n",
       "    </tr>\n",
       "    <tr>\n",
       "      <th>2</th>\n",
       "      <td>1</td>\n",
       "      <td>0</td>\n",
       "      <td>1</td>\n",
       "    </tr>\n",
       "    <tr>\n",
       "      <th>3</th>\n",
       "      <td>1</td>\n",
       "      <td>1</td>\n",
       "      <td>0</td>\n",
       "    </tr>\n",
       "  </tbody>\n",
       "</table>\n",
       "</div>"
      ],
      "text/plain": [
       "   x1  x2  y\n",
       "0   0   0  1\n",
       "1   0   1  1\n",
       "2   1   0  1\n",
       "3   1   1  0"
      ]
     },
     "execution_count": 28,
     "metadata": {},
     "output_type": "execute_result"
    }
   ],
   "source": [
    "class NAND:\n",
    "    def __init__(self):\n",
    "        self.w = np.array([-2., -2.])\n",
    "        self.bias = 3.\n",
    "        \n",
    "    def predict(self,x):\n",
    "        self.x = x\n",
    "        z = np.dot(self.w,self.x) + self.bias\n",
    "        return self.fA(z)\n",
    "    \n",
    "    def fA(self,z):\n",
    "        '''\n",
    "        Activation Function\n",
    "        '''\n",
    "        if z<=0:\n",
    "            return 0\n",
    "        else:\n",
    "            return 1\n",
    "\n",
    "\n",
    "p = NAND()\n",
    "\n",
    "\n",
    "    \n",
    "points = np.array([[0,0,0],\n",
    "                  [0,1,0],\n",
    "                  [1,0,0],\n",
    "                  [1,1,0]])\n",
    "    \n",
    "for i in range(len(points)):\n",
    "    points[i,2] = p.predict([points[i,0],points[i,1]])\n",
    "    \n",
    "df = pd.DataFrame(points, columns=['x1','x2','y'])\n",
    "\n",
    "df  "
   ]
  },
  {
   "cell_type": "markdown",
   "metadata": {
    "id": "ca9ZEeaNK8Vh"
   },
   "source": [
    "\n",
    "\n",
    "**Since all logical gates can be obtained using only NAND gates, we can use perceptrons to implement a model of any digital circuit!!**\n",
    "\n",
    "<img src=\"https://www.electronics-tutorials.ws/wp-content/uploads/2019/09/log80.gif\" >\n"
   ]
  },
  {
   "cell_type": "markdown",
   "metadata": {
    "id": "a_KhynSxkAyL"
   },
   "source": [
    "Now we can easily implement an OR GATE:"
   ]
  },
  {
   "cell_type": "code",
   "execution_count": 29,
   "metadata": {
    "colab": {
     "base_uri": "https://localhost:8080/",
     "height": 606
    },
    "executionInfo": {
     "elapsed": 1259,
     "status": "ok",
     "timestamp": 1618169641282,
     "user": {
      "displayName": "Eduard Alexis Larranaga",
      "photoUrl": "https://lh3.googleusercontent.com/a-/AOh14GgCVABzEgj-rCdyxWa29RnA0kIYUCXAaVbnRYOEhQ=s64",
      "userId": "04402438389940282602"
     },
     "user_tz": 300
    },
    "id": "sVW91-yXmO6s",
    "outputId": "20034470-3fb0-4b25-80ae-ee487846e2c4"
   },
   "outputs": [
    {
     "data": {
      "text/html": [
       "<div>\n",
       "<style scoped>\n",
       "    .dataframe tbody tr th:only-of-type {\n",
       "        vertical-align: middle;\n",
       "    }\n",
       "\n",
       "    .dataframe tbody tr th {\n",
       "        vertical-align: top;\n",
       "    }\n",
       "\n",
       "    .dataframe thead th {\n",
       "        text-align: right;\n",
       "    }\n",
       "</style>\n",
       "<table border=\"1\" class=\"dataframe\">\n",
       "  <thead>\n",
       "    <tr style=\"text-align: right;\">\n",
       "      <th></th>\n",
       "      <th>x1</th>\n",
       "      <th>x2</th>\n",
       "      <th>y</th>\n",
       "    </tr>\n",
       "  </thead>\n",
       "  <tbody>\n",
       "    <tr>\n",
       "      <th>0</th>\n",
       "      <td>0</td>\n",
       "      <td>0</td>\n",
       "      <td>0</td>\n",
       "    </tr>\n",
       "    <tr>\n",
       "      <th>1</th>\n",
       "      <td>0</td>\n",
       "      <td>1</td>\n",
       "      <td>1</td>\n",
       "    </tr>\n",
       "    <tr>\n",
       "      <th>2</th>\n",
       "      <td>1</td>\n",
       "      <td>0</td>\n",
       "      <td>1</td>\n",
       "    </tr>\n",
       "    <tr>\n",
       "      <th>3</th>\n",
       "      <td>1</td>\n",
       "      <td>1</td>\n",
       "      <td>1</td>\n",
       "    </tr>\n",
       "  </tbody>\n",
       "</table>\n",
       "</div>"
      ],
      "text/plain": [
       "   x1  x2  y\n",
       "0   0   0  0\n",
       "1   0   1  1\n",
       "2   1   0  1\n",
       "3   1   1  1"
      ]
     },
     "execution_count": 29,
     "metadata": {},
     "output_type": "execute_result"
    }
   ],
   "source": [
    "def ORGate(x1,x2):\n",
    "    p = NAND()\n",
    "    y1 = p.predict([x1,x1])\n",
    "    y2 = p.predict([x2,x2])\n",
    "    z = p.predict([y1,y2])\n",
    "    return z\n",
    "\n",
    "points = np.array([[0,0,0],\n",
    "                  [0,1,0],\n",
    "                  [1,0,0],\n",
    "                  [1,1,0]])\n",
    "    \n",
    "for i in range(len(points)):\n",
    "    points[i,2] = ORGate(points[i,0],points[i,1])\n",
    "    \n",
    "df = pd.DataFrame(points, columns=['x1','x2','y'])\n",
    "\n",
    "df  "
   ]
  },
  {
   "cell_type": "code",
   "execution_count": null,
   "metadata": {},
   "outputs": [],
   "source": []
  }
 ],
 "metadata": {
  "@webio": {
   "lastCommId": null,
   "lastKernelId": null
  },
  "colab": {
   "collapsed_sections": [],
   "name": "01. Decision Trees.ipynb",
   "provenance": []
  },
  "kernelspec": {
   "display_name": "Python 3 (ipykernel)",
   "language": "python",
   "name": "python3"
  },
  "language_info": {
   "codemirror_mode": {
    "name": "ipython",
    "version": 3
   },
   "file_extension": ".py",
   "mimetype": "text/x-python",
   "name": "python",
   "nbconvert_exporter": "python",
   "pygments_lexer": "ipython3",
   "version": "3.10.9"
  }
 },
 "nbformat": 4,
 "nbformat_minor": 1
}
