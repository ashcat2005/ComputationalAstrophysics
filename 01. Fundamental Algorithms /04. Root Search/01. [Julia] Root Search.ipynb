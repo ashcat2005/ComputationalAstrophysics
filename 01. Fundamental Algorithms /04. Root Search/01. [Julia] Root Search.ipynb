{
 "cells": [
  {
   "cell_type": "markdown",
   "metadata": {},
   "source": [
    "![Astrofisica Computacional](../../logo.PNG)"
   ]
  },
  {
   "cell_type": "markdown",
   "metadata": {
    "id": "3NgqXCbSJCtT"
   },
   "source": [
    "---\n",
    "## 01. Root Search\n",
    "\n",
    "\n",
    "Eduard Larrañaga (ealarranaga@unal.edu.co)\n",
    "\n",
    "---"
   ]
  },
  {
   "cell_type": "markdown",
   "metadata": {
    "id": "dLPHY7q7JCtd"
   },
   "source": [
    "### Summary\n",
    "\n",
    "This notebook describes some of the techniques for finding the roots of a function numerically.\n",
    "\n",
    "---"
   ]
  },
  {
   "cell_type": "markdown",
   "metadata": {
    "id": "QCXkYB3vJCte"
   },
   "source": [
    "On many occasions, it is necessary to find the roots of a function, i.e. those values ​​of the independent variable $x_r$ for which $f(x_r) = 0$. In general, $x_r$ can represent one or multiple variables and $f$ can be a single function or it can represent a system of equations. It is also possible that $f$ explicitly depends on $x$ or that $f$ implicitly depends on $x$.\n",
    "\n",
    "---\n",
    "## Newton-Raphson method\n",
    "\n",
    "There are multiple methods to find the roots of a function, but the most popular of them is the **Newton-Raphson** method. To describe this technique, we must consider the Taylor series expansion of the function $f(x)$ around the root $x_r$,\n",
    "\n",
    "\\begin{equation}\n",
    "f(x_r) = f(x) + (x_r - x) f'(x) + \\mathcal{O}( (x_r - x)^2) \\approx 0 .\n",
    "\\end{equation}\n",
    "\n",
    "The value $x_r$ should be understood as the value of the root at the $n$th step in an iterative process. Therefore, in step $n+1$ of the iteration, to first order, we will have\n",
    "\n",
    "\\begin{equation}\n",
    "f(x_{n+1}) = f(x_n) + (x_{n+1} - x_{n})\n",
    "f'(x_n) \\approx 0 ,\n",
    "\\end{equation}\n",
    "\n",
    "where do we clear\n",
    "\n",
    "\\begin{equation}\n",
    "x_{n+1} = x_n - \\frac{f(x_n)}{f'(x_n)} .\n",
    "\\end{equation}\n",
    "\n",
    "The implementation of this iterative procedure will stop when the fractional change between the iteration results $n$ and $n+1$ is smaller than the floating point precision (machine epsilon)\n",
    "\n",
    "\\begin{equation}\n",
    "\\left| \\frac{[f(x_{n+1}) - f(x_{n})]}{f({x_n})} \\right| < \\epsilon .\n",
    "\\end{equation}\n",
    "\n",
    "The convergence of the Newton-Raphson Method is second order if $f(x)$ is well behaved and if the initial value for the procedure $x_0$ is a point close to the value of the root.\n",
    "\n",
    "Important Note: This method needs to know the analytic form of the first derivative $f'(x)$. If this is not the case, this derivative will need to be evaluated numerically and the technique will be called the **secant method**."
   ]
  },
  {
   "cell_type": "markdown",
   "metadata": {
    "id": "Hn6aHxRAJCtf"
   },
   "source": [
    "---\n",
    "### Secant method\n",
    "\n",
    "The secant method is similar to the Newton-Raphson method, but the first derivative $f'(x_n)$ is evaluated numerically. Usually this is evaluated with backward differences, with which the iterative process is obtained\n",
    "\n",
    "\\begin{equation}\n",
    "x_{n+1} = x_{n} - f(x_n)\\frac{x_n - x_{n-1}}{f(x_n) - f(x_{n-1})}\\,\\,.\n",
    "\\end{equation}\n",
    "\n",
    "Note that this iterative process needs two starting points, or at least an initial value of the first derivative, i.e. $f'(x_0)$. Due to the inclusion of the numerical procedure to estimate the first derivative, the secant method converges more slowly than the Newton-Raphson method."
   ]
  },
  {
   "cell_type": "markdown",
   "metadata": {
    "id": "teYE6T0lJCtg"
   },
   "source": [
    "#### Example. Roots of a discrete function using the Newton-Raphson method (secant)\n",
    "\n",
    "The information of the function will be read from a .txt file and the root of the function will be found numerically applying the Newton-Raphson (or secant) method. A quadratic interval interpolation will be used to model the function.\n",
    "\n",
    "Before locating the root numerically, the behavior of the function will be displayed."
   ]
  },
  {
   "cell_type": "code",
   "execution_count": 6,
   "metadata": {
    "colab": {
     "base_uri": "https://localhost:8080/",
     "height": 334
    },
    "executionInfo": {
     "elapsed": 2167,
     "status": "ok",
     "timestamp": 1618768943329,
     "user": {
      "displayName": "Eduard Alexis Larranaga",
      "photoUrl": "https://lh3.googleusercontent.com/a-/AOh14GgCVABzEgj-rCdyxWa29RnA0kIYUCXAaVbnRYOEhQ=s64",
      "userId": "04402438389940282602"
     },
     "user_tz": 300
    },
    "id": "QmtJMqNuJCtg",
    "outputId": "c2a03a01-663a-4ceb-88dc-2b43168bd377"
   },
   "outputs": [
    {
     "data": {
      "image/svg+xml": [
       "<?xml version=\"1.0\" encoding=\"utf-8\"?>\n",
       "<svg xmlns=\"http://www.w3.org/2000/svg\" xmlns:xlink=\"http://www.w3.org/1999/xlink\" width=\"600\" height=\"400\" viewBox=\"0 0 2400 1600\">\n",
       "<defs>\n",
       "  <clipPath id=\"clip000\">\n",
       "    <rect x=\"0\" y=\"0\" width=\"2400\" height=\"1600\"/>\n",
       "  </clipPath>\n",
       "</defs>\n",
       "<path clip-path=\"url(#clip000)\" d=\"\n",
       "M0 1600 L2400 1600 L2400 0 L0 0  Z\n",
       "  \" fill=\"#ffffff\" fill-rule=\"evenodd\" fill-opacity=\"1\"/>\n",
       "<defs>\n",
       "  <clipPath id=\"clip001\">\n",
       "    <rect x=\"480\" y=\"0\" width=\"1681\" height=\"1600\"/>\n",
       "  </clipPath>\n",
       "</defs>\n",
       "<defs>\n",
       "  <clipPath id=\"clip002\">\n",
       "    <rect x=\"272\" y=\"47\" width=\"2081\" height=\"1377\"/>\n",
       "  </clipPath>\n",
       "</defs>\n",
       "<path clip-path=\"url(#clip000)\" d=\"\n",
       "M272.297 1423.18 L2352.76 1423.18 L2352.76 47.2441 L272.297 47.2441  Z\n",
       "  \" fill=\"#ffffff\" fill-rule=\"evenodd\" fill-opacity=\"1\"/>\n",
       "<polyline clip-path=\"url(#clip002)\" style=\"stroke:#000000; stroke-linecap:butt; stroke-linejoin:round; stroke-width:2; stroke-opacity:0.1; fill:none\" points=\"\n",
       "  527.447,1423.18 527.447,47.2441 \n",
       "  \"/>\n",
       "<polyline clip-path=\"url(#clip002)\" style=\"stroke:#000000; stroke-linecap:butt; stroke-linejoin:round; stroke-width:2; stroke-opacity:0.1; fill:none\" points=\"\n",
       "  919.987,1423.18 919.987,47.2441 \n",
       "  \"/>\n",
       "<polyline clip-path=\"url(#clip002)\" style=\"stroke:#000000; stroke-linecap:butt; stroke-linejoin:round; stroke-width:2; stroke-opacity:0.1; fill:none\" points=\"\n",
       "  1312.53,1423.18 1312.53,47.2441 \n",
       "  \"/>\n",
       "<polyline clip-path=\"url(#clip002)\" style=\"stroke:#000000; stroke-linecap:butt; stroke-linejoin:round; stroke-width:2; stroke-opacity:0.1; fill:none\" points=\"\n",
       "  1705.07,1423.18 1705.07,47.2441 \n",
       "  \"/>\n",
       "<polyline clip-path=\"url(#clip002)\" style=\"stroke:#000000; stroke-linecap:butt; stroke-linejoin:round; stroke-width:2; stroke-opacity:0.1; fill:none\" points=\"\n",
       "  2097.61,1423.18 2097.61,47.2441 \n",
       "  \"/>\n",
       "<polyline clip-path=\"url(#clip000)\" style=\"stroke:#000000; stroke-linecap:butt; stroke-linejoin:round; stroke-width:4; stroke-opacity:1; fill:none\" points=\"\n",
       "  272.297,1423.18 2352.76,1423.18 \n",
       "  \"/>\n",
       "<polyline clip-path=\"url(#clip000)\" style=\"stroke:#000000; stroke-linecap:butt; stroke-linejoin:round; stroke-width:4; stroke-opacity:1; fill:none\" points=\"\n",
       "  527.447,1423.18 527.447,1404.28 \n",
       "  \"/>\n",
       "<polyline clip-path=\"url(#clip000)\" style=\"stroke:#000000; stroke-linecap:butt; stroke-linejoin:round; stroke-width:4; stroke-opacity:1; fill:none\" points=\"\n",
       "  919.987,1423.18 919.987,1404.28 \n",
       "  \"/>\n",
       "<polyline clip-path=\"url(#clip000)\" style=\"stroke:#000000; stroke-linecap:butt; stroke-linejoin:round; stroke-width:4; stroke-opacity:1; fill:none\" points=\"\n",
       "  1312.53,1423.18 1312.53,1404.28 \n",
       "  \"/>\n",
       "<polyline clip-path=\"url(#clip000)\" style=\"stroke:#000000; stroke-linecap:butt; stroke-linejoin:round; stroke-width:4; stroke-opacity:1; fill:none\" points=\"\n",
       "  1705.07,1423.18 1705.07,1404.28 \n",
       "  \"/>\n",
       "<polyline clip-path=\"url(#clip000)\" style=\"stroke:#000000; stroke-linecap:butt; stroke-linejoin:round; stroke-width:4; stroke-opacity:1; fill:none\" points=\"\n",
       "  2097.61,1423.18 2097.61,1404.28 \n",
       "  \"/>\n",
       "<path clip-path=\"url(#clip000)\" d=\"M496.348 1468.75 L526.024 1468.75 L526.024 1472.69 L496.348 1472.69 L496.348 1468.75 Z\" fill=\"#000000\" fill-rule=\"evenodd\" fill-opacity=\"1\" /><path clip-path=\"url(#clip000)\" d=\"M548.963 1455.09 L537.158 1473.54 L548.963 1473.54 L548.963 1455.09 M547.736 1451.02 L553.616 1451.02 L553.616 1473.54 L558.547 1473.54 L558.547 1477.43 L553.616 1477.43 L553.616 1485.58 L548.963 1485.58 L548.963 1477.43 L533.362 1477.43 L533.362 1472.92 L547.736 1451.02 Z\" fill=\"#000000\" fill-rule=\"evenodd\" fill-opacity=\"1\" /><path clip-path=\"url(#clip000)\" d=\"M889.929 1468.75 L919.605 1468.75 L919.605 1472.69 L889.929 1472.69 L889.929 1468.75 Z\" fill=\"#000000\" fill-rule=\"evenodd\" fill-opacity=\"1\" /><path clip-path=\"url(#clip000)\" d=\"M933.725 1481.64 L950.044 1481.64 L950.044 1485.58 L928.1 1485.58 L928.1 1481.64 Q930.762 1478.89 935.345 1474.26 Q939.952 1469.61 941.132 1468.27 Q943.378 1465.74 944.257 1464.01 Q945.16 1462.25 945.16 1460.56 Q945.16 1457.8 943.216 1456.07 Q941.294 1454.33 938.193 1454.33 Q935.994 1454.33 933.54 1455.09 Q931.109 1455.86 928.332 1457.41 L928.332 1452.69 Q931.156 1451.55 933.609 1450.97 Q936.063 1450.39 938.1 1450.39 Q943.47 1450.39 946.665 1453.08 Q949.859 1455.77 949.859 1460.26 Q949.859 1462.39 949.049 1464.31 Q948.262 1466.2 946.156 1468.8 Q945.577 1469.47 942.475 1472.69 Q939.373 1475.88 933.725 1481.64 Z\" fill=\"#000000\" fill-rule=\"evenodd\" fill-opacity=\"1\" /><path clip-path=\"url(#clip000)\" d=\"M1312.53 1454.1 Q1308.92 1454.1 1307.09 1457.66 Q1305.28 1461.2 1305.28 1468.33 Q1305.28 1475.44 1307.09 1479.01 Q1308.92 1482.55 1312.53 1482.55 Q1316.16 1482.55 1317.97 1479.01 Q1319.79 1475.44 1319.79 1468.33 Q1319.79 1461.2 1317.97 1457.66 Q1316.16 1454.1 1312.53 1454.1 M1312.53 1450.39 Q1318.34 1450.39 1321.39 1455 Q1324.47 1459.58 1324.47 1468.33 Q1324.47 1477.06 1321.39 1481.67 Q1318.34 1486.25 1312.53 1486.25 Q1306.72 1486.25 1303.64 1481.67 Q1300.58 1477.06 1300.58 1468.33 Q1300.58 1459.58 1303.64 1455 Q1306.72 1450.39 1312.53 1450.39 Z\" fill=\"#000000\" fill-rule=\"evenodd\" fill-opacity=\"1\" /><path clip-path=\"url(#clip000)\" d=\"M1699.72 1481.64 L1716.04 1481.64 L1716.04 1485.58 L1694.09 1485.58 L1694.09 1481.64 Q1696.76 1478.89 1701.34 1474.26 Q1705.95 1469.61 1707.13 1468.27 Q1709.37 1465.74 1710.25 1464.01 Q1711.15 1462.25 1711.15 1460.56 Q1711.15 1457.8 1709.21 1456.07 Q1707.29 1454.33 1704.19 1454.33 Q1701.99 1454.33 1699.53 1455.09 Q1697.1 1455.86 1694.33 1457.41 L1694.33 1452.69 Q1697.15 1451.55 1699.6 1450.97 Q1702.06 1450.39 1704.09 1450.39 Q1709.46 1450.39 1712.66 1453.08 Q1715.85 1455.77 1715.85 1460.26 Q1715.85 1462.39 1715.04 1464.31 Q1714.26 1466.2 1712.15 1468.8 Q1711.57 1469.47 1708.47 1472.69 Q1705.37 1475.88 1699.72 1481.64 Z\" fill=\"#000000\" fill-rule=\"evenodd\" fill-opacity=\"1\" /><path clip-path=\"url(#clip000)\" d=\"M2100.61 1455.09 L2088.81 1473.54 L2100.61 1473.54 L2100.61 1455.09 M2099.39 1451.02 L2105.27 1451.02 L2105.27 1473.54 L2110.2 1473.54 L2110.2 1477.43 L2105.27 1477.43 L2105.27 1485.58 L2100.61 1485.58 L2100.61 1477.43 L2085.01 1477.43 L2085.01 1472.92 L2099.39 1451.02 Z\" fill=\"#000000\" fill-rule=\"evenodd\" fill-opacity=\"1\" /><path clip-path=\"url(#clip000)\" d=\"M1326.7 1545.44 Q1326.7 1547.24 1325.57 1548.27 Q1324.45 1549.27 1323.16 1549.27 Q1321.93 1549.27 1321.29 1548.56 Q1320.64 1547.85 1320.64 1546.95 Q1320.64 1545.73 1321.55 1544.66 Q1322.45 1543.6 1323.8 1543.37 Q1322.48 1542.54 1320.52 1542.54 Q1319.23 1542.54 1318.1 1543.21 Q1317.01 1543.89 1316.33 1544.76 Q1315.69 1545.63 1315.11 1546.88 Q1314.56 1548.11 1314.33 1548.85 Q1314.14 1549.56 1313.98 1550.33 L1311.72 1559.35 Q1310.63 1563.63 1310.63 1565.15 Q1310.63 1567.01 1311.53 1568.27 Q1312.43 1569.49 1314.24 1569.49 Q1314.94 1569.49 1315.75 1569.3 Q1316.55 1569.07 1317.59 1568.5 Q1318.65 1567.88 1319.58 1566.98 Q1320.55 1566.05 1321.48 1564.47 Q1322.42 1562.89 1323.03 1560.86 Q1323.22 1560.15 1323.87 1560.15 Q1324.67 1560.15 1324.67 1560.8 Q1324.67 1561.35 1324.22 1562.5 Q1323.8 1563.63 1322.87 1565.11 Q1321.97 1566.56 1320.77 1567.88 Q1319.58 1569.17 1317.81 1570.07 Q1316.04 1570.97 1314.11 1570.97 Q1311.34 1570.97 1309.5 1569.49 Q1307.67 1568.01 1306.99 1565.95 Q1306.83 1566.24 1306.6 1566.63 Q1306.38 1567.01 1305.7 1567.88 Q1305.06 1568.72 1304.32 1569.36 Q1303.58 1569.98 1302.42 1570.46 Q1301.29 1570.97 1300.07 1570.97 Q1298.52 1570.97 1297.13 1570.52 Q1295.78 1570.07 1294.82 1569.04 Q1293.85 1568.01 1293.85 1566.59 Q1293.85 1565.02 1294.91 1563.92 Q1296.01 1562.79 1297.49 1562.79 Q1298.42 1562.79 1299.16 1563.34 Q1299.94 1563.89 1299.94 1565.08 Q1299.94 1566.4 1299.03 1567.4 Q1298.13 1568.4 1296.84 1568.66 Q1298.17 1569.49 1300.13 1569.49 Q1302.26 1569.49 1303.93 1567.63 Q1305.6 1565.76 1306.41 1562.63 Q1308.41 1555.13 1309.18 1551.78 Q1309.95 1548.4 1309.95 1546.95 Q1309.95 1545.6 1309.6 1544.66 Q1309.24 1543.73 1308.63 1543.31 Q1308.05 1542.86 1307.5 1542.7 Q1306.99 1542.54 1306.41 1542.54 Q1305.44 1542.54 1304.35 1542.92 Q1303.29 1543.31 1302 1544.21 Q1300.74 1545.08 1299.55 1546.88 Q1298.36 1548.69 1297.55 1551.17 Q1297.39 1551.91 1296.68 1551.91 Q1295.91 1551.88 1295.91 1551.23 Q1295.91 1550.69 1296.33 1549.56 Q1296.78 1548.4 1297.68 1546.95 Q1298.62 1545.5 1299.81 1544.21 Q1301.03 1542.89 1302.8 1541.99 Q1304.61 1541.09 1306.54 1541.09 Q1307.41 1541.09 1308.25 1541.28 Q1309.12 1541.44 1310.15 1541.93 Q1311.21 1542.41 1312.14 1543.47 Q1313.08 1544.53 1313.66 1546.08 Q1314.04 1545.34 1314.56 1544.63 Q1315.11 1543.92 1315.94 1543.05 Q1316.81 1542.15 1318 1541.64 Q1319.23 1541.09 1320.58 1541.09 Q1321.9 1541.09 1323.19 1541.44 Q1324.48 1541.76 1325.57 1542.83 Q1326.7 1543.86 1326.7 1545.44 Z\" fill=\"#000000\" fill-rule=\"evenodd\" fill-opacity=\"1\" /><polyline clip-path=\"url(#clip002)\" style=\"stroke:#000000; stroke-linecap:butt; stroke-linejoin:round; stroke-width:2; stroke-opacity:0.1; fill:none\" points=\"\n",
       "  272.297,1182.47 2352.76,1182.47 \n",
       "  \"/>\n",
       "<polyline clip-path=\"url(#clip002)\" style=\"stroke:#000000; stroke-linecap:butt; stroke-linejoin:round; stroke-width:2; stroke-opacity:0.1; fill:none\" points=\"\n",
       "  272.297,832.604 2352.76,832.604 \n",
       "  \"/>\n",
       "<polyline clip-path=\"url(#clip002)\" style=\"stroke:#000000; stroke-linecap:butt; stroke-linejoin:round; stroke-width:2; stroke-opacity:0.1; fill:none\" points=\"\n",
       "  272.297,482.739 2352.76,482.739 \n",
       "  \"/>\n",
       "<polyline clip-path=\"url(#clip002)\" style=\"stroke:#000000; stroke-linecap:butt; stroke-linejoin:round; stroke-width:2; stroke-opacity:0.1; fill:none\" points=\"\n",
       "  272.297,132.875 2352.76,132.875 \n",
       "  \"/>\n",
       "<polyline clip-path=\"url(#clip000)\" style=\"stroke:#000000; stroke-linecap:butt; stroke-linejoin:round; stroke-width:4; stroke-opacity:1; fill:none\" points=\"\n",
       "  272.297,1423.18 272.297,47.2441 \n",
       "  \"/>\n",
       "<polyline clip-path=\"url(#clip000)\" style=\"stroke:#000000; stroke-linecap:butt; stroke-linejoin:round; stroke-width:4; stroke-opacity:1; fill:none\" points=\"\n",
       "  272.297,1182.47 291.194,1182.47 \n",
       "  \"/>\n",
       "<polyline clip-path=\"url(#clip000)\" style=\"stroke:#000000; stroke-linecap:butt; stroke-linejoin:round; stroke-width:4; stroke-opacity:1; fill:none\" points=\"\n",
       "  272.297,832.604 291.194,832.604 \n",
       "  \"/>\n",
       "<polyline clip-path=\"url(#clip000)\" style=\"stroke:#000000; stroke-linecap:butt; stroke-linejoin:round; stroke-width:4; stroke-opacity:1; fill:none\" points=\"\n",
       "  272.297,482.739 291.194,482.739 \n",
       "  \"/>\n",
       "<polyline clip-path=\"url(#clip000)\" style=\"stroke:#000000; stroke-linecap:butt; stroke-linejoin:round; stroke-width:4; stroke-opacity:1; fill:none\" points=\"\n",
       "  272.297,132.875 291.194,132.875 \n",
       "  \"/>\n",
       "<path clip-path=\"url(#clip000)\" d=\"M114.26 1182.92 L143.936 1182.92 L143.936 1186.85 L114.26 1186.85 L114.26 1182.92 Z\" fill=\"#000000\" fill-rule=\"evenodd\" fill-opacity=\"1\" /><path clip-path=\"url(#clip000)\" d=\"M154.839 1195.81 L162.477 1195.81 L162.477 1169.45 L154.167 1171.11 L154.167 1166.85 L162.431 1165.19 L167.107 1165.19 L167.107 1195.81 L174.746 1195.81 L174.746 1199.75 L154.839 1199.75 L154.839 1195.81 Z\" fill=\"#000000\" fill-rule=\"evenodd\" fill-opacity=\"1\" /><path clip-path=\"url(#clip000)\" d=\"M194.19 1168.27 Q190.579 1168.27 188.75 1171.83 Q186.945 1175.37 186.945 1182.5 Q186.945 1189.61 188.75 1193.17 Q190.579 1196.72 194.19 1196.72 Q197.825 1196.72 199.63 1193.17 Q201.459 1189.61 201.459 1182.5 Q201.459 1175.37 199.63 1171.83 Q197.825 1168.27 194.19 1168.27 M194.19 1164.56 Q200 1164.56 203.056 1169.17 Q206.135 1173.75 206.135 1182.5 Q206.135 1191.23 203.056 1195.84 Q200 1200.42 194.19 1200.42 Q188.38 1200.42 185.301 1195.84 Q182.246 1191.23 182.246 1182.5 Q182.246 1173.75 185.301 1169.17 Q188.38 1164.56 194.19 1164.56 Z\" fill=\"#000000\" fill-rule=\"evenodd\" fill-opacity=\"1\" /><path clip-path=\"url(#clip000)\" d=\"M224.352 1168.27 Q220.741 1168.27 218.912 1171.83 Q217.107 1175.37 217.107 1182.5 Q217.107 1189.61 218.912 1193.17 Q220.741 1196.72 224.352 1196.72 Q227.986 1196.72 229.792 1193.17 Q231.621 1189.61 231.621 1182.5 Q231.621 1175.37 229.792 1171.83 Q227.986 1168.27 224.352 1168.27 M224.352 1164.56 Q230.162 1164.56 233.218 1169.17 Q236.297 1173.75 236.297 1182.5 Q236.297 1191.23 233.218 1195.84 Q230.162 1200.42 224.352 1200.42 Q218.542 1200.42 215.463 1195.84 Q212.408 1191.23 212.408 1182.5 Q212.408 1173.75 215.463 1169.17 Q218.542 1164.56 224.352 1164.56 Z\" fill=\"#000000\" fill-rule=\"evenodd\" fill-opacity=\"1\" /><path clip-path=\"url(#clip000)\" d=\"M224.352 818.402 Q220.741 818.402 218.912 821.967 Q217.107 825.509 217.107 832.638 Q217.107 839.745 218.912 843.31 Q220.741 846.851 224.352 846.851 Q227.986 846.851 229.792 843.31 Q231.621 839.745 231.621 832.638 Q231.621 825.509 229.792 821.967 Q227.986 818.402 224.352 818.402 M224.352 814.699 Q230.162 814.699 233.218 819.305 Q236.297 823.888 236.297 832.638 Q236.297 841.365 233.218 845.972 Q230.162 850.555 224.352 850.555 Q218.542 850.555 215.463 845.972 Q212.408 841.365 212.408 832.638 Q212.408 823.888 215.463 819.305 Q218.542 814.699 224.352 814.699 Z\" fill=\"#000000\" fill-rule=\"evenodd\" fill-opacity=\"1\" /><path clip-path=\"url(#clip000)\" d=\"M154.839 496.084 L162.477 496.084 L162.477 469.719 L154.167 471.385 L154.167 467.126 L162.431 465.459 L167.107 465.459 L167.107 496.084 L174.746 496.084 L174.746 500.019 L154.839 500.019 L154.839 496.084 Z\" fill=\"#000000\" fill-rule=\"evenodd\" fill-opacity=\"1\" /><path clip-path=\"url(#clip000)\" d=\"M194.19 468.538 Q190.579 468.538 188.75 472.103 Q186.945 475.645 186.945 482.774 Q186.945 489.881 188.75 493.445 Q190.579 496.987 194.19 496.987 Q197.825 496.987 199.63 493.445 Q201.459 489.881 201.459 482.774 Q201.459 475.645 199.63 472.103 Q197.825 468.538 194.19 468.538 M194.19 464.834 Q200 464.834 203.056 469.441 Q206.135 474.024 206.135 482.774 Q206.135 491.501 203.056 496.107 Q200 500.691 194.19 500.691 Q188.38 500.691 185.301 496.107 Q182.246 491.501 182.246 482.774 Q182.246 474.024 185.301 469.441 Q188.38 464.834 194.19 464.834 Z\" fill=\"#000000\" fill-rule=\"evenodd\" fill-opacity=\"1\" /><path clip-path=\"url(#clip000)\" d=\"M224.352 468.538 Q220.741 468.538 218.912 472.103 Q217.107 475.645 217.107 482.774 Q217.107 489.881 218.912 493.445 Q220.741 496.987 224.352 496.987 Q227.986 496.987 229.792 493.445 Q231.621 489.881 231.621 482.774 Q231.621 475.645 229.792 472.103 Q227.986 468.538 224.352 468.538 M224.352 464.834 Q230.162 464.834 233.218 469.441 Q236.297 474.024 236.297 482.774 Q236.297 491.501 233.218 496.107 Q230.162 500.691 224.352 500.691 Q218.542 500.691 215.463 496.107 Q212.408 491.501 212.408 482.774 Q212.408 474.024 215.463 469.441 Q218.542 464.834 224.352 464.834 Z\" fill=\"#000000\" fill-rule=\"evenodd\" fill-opacity=\"1\" /><path clip-path=\"url(#clip000)\" d=\"M158.056 146.22 L174.376 146.22 L174.376 150.155 L152.431 150.155 L152.431 146.22 Q155.093 143.465 159.677 138.836 Q164.283 134.183 165.464 132.84 Q167.709 130.317 168.589 128.581 Q169.491 126.822 169.491 125.132 Q169.491 122.377 167.547 120.641 Q165.626 118.905 162.524 118.905 Q160.325 118.905 157.871 119.669 Q155.44 120.433 152.663 121.984 L152.663 117.262 Q155.487 116.127 157.94 115.549 Q160.394 114.97 162.431 114.97 Q167.802 114.97 170.996 117.655 Q174.19 120.34 174.19 124.831 Q174.19 126.961 173.38 128.882 Q172.593 130.78 170.487 133.373 Q169.908 134.044 166.806 137.262 Q163.704 140.456 158.056 146.22 Z\" fill=\"#000000\" fill-rule=\"evenodd\" fill-opacity=\"1\" /><path clip-path=\"url(#clip000)\" d=\"M194.19 118.674 Q190.579 118.674 188.75 122.239 Q186.945 125.78 186.945 132.91 Q186.945 140.016 188.75 143.581 Q190.579 147.123 194.19 147.123 Q197.825 147.123 199.63 143.581 Q201.459 140.016 201.459 132.91 Q201.459 125.78 199.63 122.239 Q197.825 118.674 194.19 118.674 M194.19 114.97 Q200 114.97 203.056 119.577 Q206.135 124.16 206.135 132.91 Q206.135 141.637 203.056 146.243 Q200 150.826 194.19 150.826 Q188.38 150.826 185.301 146.243 Q182.246 141.637 182.246 132.91 Q182.246 124.16 185.301 119.577 Q188.38 114.97 194.19 114.97 Z\" fill=\"#000000\" fill-rule=\"evenodd\" fill-opacity=\"1\" /><path clip-path=\"url(#clip000)\" d=\"M224.352 118.674 Q220.741 118.674 218.912 122.239 Q217.107 125.78 217.107 132.91 Q217.107 140.016 218.912 143.581 Q220.741 147.123 224.352 147.123 Q227.986 147.123 229.792 143.581 Q231.621 140.016 231.621 132.91 Q231.621 125.78 229.792 122.239 Q227.986 118.674 224.352 118.674 M224.352 114.97 Q230.162 114.97 233.218 119.577 Q236.297 124.16 236.297 132.91 Q236.297 141.637 233.218 146.243 Q230.162 150.826 224.352 150.826 Q218.542 150.826 215.463 146.243 Q212.408 141.637 212.408 132.91 Q212.408 124.16 215.463 119.577 Q218.542 114.97 224.352 114.97 Z\" fill=\"#000000\" fill-rule=\"evenodd\" fill-opacity=\"1\" /><path clip-path=\"url(#clip000)\" d=\"M26.4959 765.631 Q28.2672 765.631 29.3622 766.758 Q30.4572 767.853 30.4572 769.238 Q30.4572 770.236 29.8453 770.977 Q29.2334 771.686 28.1706 771.686 Q27.0756 771.686 25.9162 770.848 Q24.7567 770.011 24.5957 768.111 Q23.4041 769.367 23.4041 771.363 Q23.4041 772.362 24.0482 773.199 Q24.6601 774.004 25.6585 774.455 Q26.6891 774.938 32.5184 776.033 Q34.4185 776.388 36.2542 776.71 Q38.09 777.032 40.0223 777.418 L40.0223 771.943 Q40.0223 771.235 40.0545 770.945 Q40.0867 770.655 40.2478 770.43 Q40.4088 770.172 40.7631 770.172 Q41.6648 770.172 41.8903 770.591 Q42.0835 770.977 42.0835 772.136 L42.0835 777.805 L62.9851 781.766 Q63.597 781.863 65.5294 782.281 Q67.4295 782.668 70.5535 783.602 Q73.7097 784.536 75.5776 785.47 Q76.6404 785.985 77.6388 786.661 Q78.6694 787.305 79.6999 788.239 Q80.7305 789.173 81.3424 790.397 Q81.9866 791.621 81.9866 792.909 Q81.9866 795.099 80.7627 796.806 Q79.5389 798.513 77.4455 798.513 Q75.6742 798.513 74.5792 797.418 Q73.4842 796.291 73.4842 794.906 Q73.4842 793.908 74.0961 793.199 Q74.708 792.458 75.7708 792.458 Q76.2217 792.458 76.737 792.619 Q77.2523 792.78 77.832 793.135 Q78.4439 793.489 78.8626 794.262 Q79.2813 795.035 79.3457 796.098 Q80.5373 794.842 80.5373 792.909 Q80.5373 792.297 80.2796 791.75 Q80.0542 791.202 79.4745 790.751 Q78.8948 790.268 78.3151 789.914 Q77.7676 789.56 76.7048 789.206 Q75.6742 788.851 74.9013 788.626 Q74.1283 788.4 72.7435 788.111 Q71.3586 787.788 70.5213 787.627 Q69.7161 787.466 68.138 787.177 L42.0835 782.249 L42.0835 786.597 Q42.0835 787.37 42.0513 787.692 Q42.0191 787.982 41.8581 788.207 Q41.6648 788.433 41.2783 788.433 Q40.6664 788.433 40.4088 788.175 Q40.1189 787.885 40.0867 787.563 Q40.0223 787.241 40.0223 786.468 L40.0223 781.895 Q31.8742 780.349 29.6842 779.737 Q27.3654 779.028 25.7551 777.933 Q24.1126 776.838 23.3397 775.615 Q22.5667 774.391 22.2769 773.392 Q21.9548 772.362 21.9548 771.363 Q21.9548 769.109 23.1787 767.37 Q24.3703 765.631 26.4959 765.631 Z\" fill=\"#000000\" fill-rule=\"evenodd\" fill-opacity=\"1\" /><path clip-path=\"url(#clip000)\" d=\"M51.9707 756.751 Q40.8275 756.751 31.842 752.596 Q28.0739 750.825 24.9178 748.345 Q21.7616 745.865 20.3767 744.223 Q18.9919 742.58 18.9919 742.129 Q18.9919 741.485 19.636 741.453 Q19.9581 741.453 20.7632 742.323 Q31.5844 752.951 51.9707 752.918 Q72.4214 752.918 82.8239 742.58 Q83.9511 741.453 84.3054 741.453 Q84.9495 741.453 84.9495 742.129 Q84.9495 742.58 83.6291 744.158 Q82.3086 745.736 79.2813 748.184 Q76.2539 750.632 72.5502 752.403 Q63.5648 756.751 51.9707 756.751 Z\" fill=\"#000000\" fill-rule=\"evenodd\" fill-opacity=\"1\" /><path clip-path=\"url(#clip000)\" d=\"M43.6616 703.589 Q45.4651 703.589 46.4957 704.717 Q47.4941 705.844 47.4941 707.132 Q47.4941 708.356 46.7856 709 Q46.077 709.644 45.1753 709.644 Q43.9514 709.644 42.8886 708.742 Q41.8258 707.841 41.6004 706.488 Q40.7631 707.808 40.7631 709.773 Q40.7631 711.061 41.4394 712.188 Q42.1157 713.283 42.9853 713.96 Q43.8548 714.604 45.1108 715.184 Q46.3347 715.731 47.0754 715.957 Q47.7839 716.15 48.5569 716.311 L57.5745 718.565 Q61.8579 719.66 63.3716 719.66 Q65.2395 719.66 66.4955 718.758 Q67.7194 717.857 67.7194 716.053 Q67.7194 715.345 67.5261 714.539 Q67.3007 713.734 66.721 712.704 Q66.1091 711.641 65.2073 710.707 Q64.2733 709.741 62.6952 708.807 Q61.1172 707.873 59.0882 707.261 Q58.3797 707.068 58.3797 706.424 Q58.3797 705.618 59.0238 705.618 Q59.5713 705.618 60.7307 706.069 Q61.8579 706.488 63.3394 707.422 Q64.7886 708.324 66.1091 709.515 Q67.3973 710.707 68.2991 712.478 Q69.2008 714.25 69.2008 716.182 Q69.2008 718.952 67.7194 720.787 Q66.2379 722.623 64.1767 723.299 Q64.4666 723.46 64.853 723.686 Q65.2395 723.911 66.1091 724.588 Q66.9464 725.232 67.5905 725.973 Q68.2024 726.713 68.6855 727.873 Q69.2008 729 69.2008 730.224 Q69.2008 731.77 68.7499 733.154 Q68.2991 734.507 67.2685 735.473 Q66.2379 736.439 64.8208 736.439 Q63.2427 736.439 62.1477 735.377 Q61.0205 734.282 61.0205 732.8 Q61.0205 731.866 61.568 731.125 Q62.1155 730.353 63.3072 730.353 Q64.6276 730.353 65.626 731.254 Q66.6244 732.156 66.882 733.444 Q67.7194 732.124 67.7194 730.159 Q67.7194 728.034 65.8514 726.359 Q63.9835 724.684 60.8595 723.879 Q53.3555 721.882 50.0061 721.109 Q46.6245 720.337 45.1753 720.337 Q43.8226 720.337 42.8886 720.691 Q41.9547 721.045 41.536 721.657 Q41.0851 722.237 40.9241 722.784 Q40.7631 723.299 40.7631 723.879 Q40.7631 724.845 41.1495 725.94 Q41.536 727.003 42.4378 728.291 Q43.3073 729.547 45.1108 730.739 Q46.9144 731.931 49.3942 732.736 Q50.135 732.897 50.135 733.605 Q50.1028 734.378 49.4586 734.378 Q48.9111 734.378 47.7839 733.96 Q46.6245 733.509 45.1753 732.607 Q43.726 731.673 42.4378 730.481 Q41.1173 729.258 40.2156 727.486 Q39.3138 725.683 39.3138 723.75 Q39.3138 722.881 39.507 722.043 Q39.6681 721.174 40.1511 720.143 Q40.6342 719.08 41.697 718.147 Q42.7598 717.213 44.3057 716.633 Q43.565 716.246 42.8564 715.731 Q42.1479 715.184 41.2783 714.346 Q40.3766 713.477 39.8613 712.285 Q39.3138 711.061 39.3138 709.709 Q39.3138 708.388 39.6681 707.1 Q39.9901 705.812 41.0529 704.717 Q42.0835 703.589 43.6616 703.589 Z\" fill=\"#000000\" fill-rule=\"evenodd\" fill-opacity=\"1\" /><path clip-path=\"url(#clip000)\" d=\"M84.3054 697.238 Q83.9833 697.238 83.1782 696.401 Q72.357 685.773 51.9707 685.773 Q31.52 685.773 21.1819 695.982 Q19.9903 697.238 19.636 697.238 Q18.9919 697.238 18.9919 696.594 Q18.9919 696.143 20.3123 694.565 Q21.6328 692.955 24.6601 690.539 Q27.6875 688.092 31.3911 686.288 Q40.3766 681.941 51.9707 681.941 Q63.1139 681.941 72.0994 686.095 Q75.8674 687.866 79.0236 690.346 Q82.1798 692.826 83.5646 694.469 Q84.9495 696.111 84.9495 696.594 Q84.9495 697.238 84.3054 697.238 Z\" fill=\"#000000\" fill-rule=\"evenodd\" fill-opacity=\"1\" /><polyline clip-path=\"url(#clip002)\" style=\"stroke:#dc143c; stroke-linecap:butt; stroke-linejoin:round; stroke-width:4; stroke-opacity:1; fill:none\" points=\"\n",
       "  331.177,86.1857 371.232,220.012 411.287,331.549 451.342,424.585 491.398,502.165 531.453,566.73 571.508,620.259 611.563,664.358 651.617,700.35 691.672,729.34 \n",
       "  731.729,752.272 771.783,769.969 811.838,783.165 851.893,792.53 891.948,798.68 932.002,802.191 972.059,803.599 1012.11,803.403 1052.17,802.066 1092.22,800.025 \n",
       "  1132.28,797.696 1172.33,795.491 1212.39,793.807 1252.44,793.011 1292.5,793.406 1332.55,795.194 1372.61,798.45 1412.66,803.124 1452.72,809.076 1492.77,816.117 \n",
       "  1532.83,824.05 1572.88,832.702 1612.94,841.928 1652.99,851.624 1693.05,861.723 1733.1,872.207 1773.16,883.126 1813.21,894.616 1853.27,906.933 1893.32,920.472 \n",
       "  1933.38,935.807 1973.44,953.713 2013.49,975.206 2053.54,1001.58 2093.6,1034.47 2133.65,1075.86 2173.71,1128.23 2213.77,1194.53 2253.82,1278.41 2293.87,1384.24 \n",
       "  \n",
       "  \"/>\n",
       "<polyline clip-path=\"url(#clip002)\" style=\"stroke:#000000; stroke-linecap:butt; stroke-linejoin:round; stroke-width:4; stroke-opacity:0.5; fill:none\" points=\"\n",
       "  -1808.16,832.604 4433.22,832.604 \n",
       "  \"/>\n",
       "</svg>\n"
      ]
     },
     "execution_count": 6,
     "metadata": {},
     "output_type": "execute_result"
    }
   ],
   "source": [
    "using Plots\n",
    "using LaTeXStrings\n",
    "using Printf\n",
    "using DelimitedFiles\n",
    "\n",
    "\n",
    "# Reading the data\n",
    "data = readdlm(\"data_points.txt\", ',', skipstart=1)\n",
    "x = data[:,1]\n",
    "y = data[:,2]\n",
    "\n",
    "plot(x, y, color=\"crimson\", label=false, xlabel=L\"$x$\", ylabel=L\"$f(x)$\")\n",
    "hline!([0], color=\"black\", alpha=0.5, label=false)"
   ]
  },
  {
   "cell_type": "markdown",
   "metadata": {
    "id": "e3J7AgyMJCti"
   },
   "source": [
    "From the graph, it is observed that the root must be located in the interval between $x=0$ and $x=2$. Therefore we will restrict ourselves to this region:"
   ]
  },
  {
   "cell_type": "code",
   "execution_count": 11,
   "metadata": {
    "colab": {
     "base_uri": "https://localhost:8080/",
     "height": 338
    },
    "executionInfo": {
     "elapsed": 711,
     "status": "ok",
     "timestamp": 1618768949288,
     "user": {
      "displayName": "Eduard Alexis Larranaga",
      "photoUrl": "https://lh3.googleusercontent.com/a-/AOh14GgCVABzEgj-rCdyxWa29RnA0kIYUCXAaVbnRYOEhQ=s64",
      "userId": "04402438389940282602"
     },
     "user_tz": 300
    },
    "id": "fJXVwP4aJCti",
    "outputId": "1d8d10d7-d115-4972-b346-1dd83d7d5e57"
   },
   "outputs": [
    {
     "data": {
      "image/svg+xml": [
       "<?xml version=\"1.0\" encoding=\"utf-8\"?>\n",
       "<svg xmlns=\"http://www.w3.org/2000/svg\" xmlns:xlink=\"http://www.w3.org/1999/xlink\" width=\"600\" height=\"400\" viewBox=\"0 0 2400 1600\">\n",
       "<defs>\n",
       "  <clipPath id=\"clip160\">\n",
       "    <rect x=\"0\" y=\"0\" width=\"2400\" height=\"1600\"/>\n",
       "  </clipPath>\n",
       "</defs>\n",
       "<path clip-path=\"url(#clip160)\" d=\"\n",
       "M0 1600 L2400 1600 L2400 0 L0 0  Z\n",
       "  \" fill=\"#ffffff\" fill-rule=\"evenodd\" fill-opacity=\"1\"/>\n",
       "<defs>\n",
       "  <clipPath id=\"clip161\">\n",
       "    <rect x=\"480\" y=\"0\" width=\"1681\" height=\"1600\"/>\n",
       "  </clipPath>\n",
       "</defs>\n",
       "<defs>\n",
       "  <clipPath id=\"clip162\">\n",
       "    <rect x=\"242\" y=\"47\" width=\"2112\" height=\"1377\"/>\n",
       "  </clipPath>\n",
       "</defs>\n",
       "<path clip-path=\"url(#clip160)\" d=\"\n",
       "M242.135 1423.18 L2352.76 1423.18 L2352.76 47.2441 L242.135 47.2441  Z\n",
       "  \" fill=\"#ffffff\" fill-rule=\"evenodd\" fill-opacity=\"1\"/>\n",
       "<polyline clip-path=\"url(#clip162)\" style=\"stroke:#000000; stroke-linecap:butt; stroke-linejoin:round; stroke-width:2; stroke-opacity:0.1; fill:none\" points=\"\n",
       "  242.135,1423.18 242.135,47.2441 \n",
       "  \"/>\n",
       "<polyline clip-path=\"url(#clip162)\" style=\"stroke:#000000; stroke-linecap:butt; stroke-linejoin:round; stroke-width:2; stroke-opacity:0.1; fill:none\" points=\"\n",
       "  769.79,1423.18 769.79,47.2441 \n",
       "  \"/>\n",
       "<polyline clip-path=\"url(#clip162)\" style=\"stroke:#000000; stroke-linecap:butt; stroke-linejoin:round; stroke-width:2; stroke-opacity:0.1; fill:none\" points=\"\n",
       "  1297.45,1423.18 1297.45,47.2441 \n",
       "  \"/>\n",
       "<polyline clip-path=\"url(#clip162)\" style=\"stroke:#000000; stroke-linecap:butt; stroke-linejoin:round; stroke-width:2; stroke-opacity:0.1; fill:none\" points=\"\n",
       "  1825.1,1423.18 1825.1,47.2441 \n",
       "  \"/>\n",
       "<polyline clip-path=\"url(#clip162)\" style=\"stroke:#000000; stroke-linecap:butt; stroke-linejoin:round; stroke-width:2; stroke-opacity:0.1; fill:none\" points=\"\n",
       "  2352.76,1423.18 2352.76,47.2441 \n",
       "  \"/>\n",
       "<polyline clip-path=\"url(#clip160)\" style=\"stroke:#000000; stroke-linecap:butt; stroke-linejoin:round; stroke-width:4; stroke-opacity:1; fill:none\" points=\"\n",
       "  242.135,1423.18 2352.76,1423.18 \n",
       "  \"/>\n",
       "<polyline clip-path=\"url(#clip160)\" style=\"stroke:#000000; stroke-linecap:butt; stroke-linejoin:round; stroke-width:4; stroke-opacity:1; fill:none\" points=\"\n",
       "  242.135,1423.18 242.135,1404.28 \n",
       "  \"/>\n",
       "<polyline clip-path=\"url(#clip160)\" style=\"stroke:#000000; stroke-linecap:butt; stroke-linejoin:round; stroke-width:4; stroke-opacity:1; fill:none\" points=\"\n",
       "  769.79,1423.18 769.79,1404.28 \n",
       "  \"/>\n",
       "<polyline clip-path=\"url(#clip160)\" style=\"stroke:#000000; stroke-linecap:butt; stroke-linejoin:round; stroke-width:4; stroke-opacity:1; fill:none\" points=\"\n",
       "  1297.45,1423.18 1297.45,1404.28 \n",
       "  \"/>\n",
       "<polyline clip-path=\"url(#clip160)\" style=\"stroke:#000000; stroke-linecap:butt; stroke-linejoin:round; stroke-width:4; stroke-opacity:1; fill:none\" points=\"\n",
       "  1825.1,1423.18 1825.1,1404.28 \n",
       "  \"/>\n",
       "<polyline clip-path=\"url(#clip160)\" style=\"stroke:#000000; stroke-linecap:butt; stroke-linejoin:round; stroke-width:4; stroke-opacity:1; fill:none\" points=\"\n",
       "  2352.76,1423.18 2352.76,1404.28 \n",
       "  \"/>\n",
       "<path clip-path=\"url(#clip160)\" d=\"M219.519 1454.1 Q215.908 1454.1 214.079 1457.66 Q212.274 1461.2 212.274 1468.33 Q212.274 1475.44 214.079 1479.01 Q215.908 1482.55 219.519 1482.55 Q223.153 1482.55 224.959 1479.01 Q226.788 1475.44 226.788 1468.33 Q226.788 1461.2 224.959 1457.66 Q223.153 1454.1 219.519 1454.1 M219.519 1450.39 Q225.329 1450.39 228.385 1455 Q231.463 1459.58 231.463 1468.33 Q231.463 1477.06 228.385 1481.67 Q225.329 1486.25 219.519 1486.25 Q213.709 1486.25 210.63 1481.67 Q207.575 1477.06 207.575 1468.33 Q207.575 1459.58 210.63 1455 Q213.709 1450.39 219.519 1450.39 Z\" fill=\"#000000\" fill-rule=\"evenodd\" fill-opacity=\"1\" /><path clip-path=\"url(#clip160)\" d=\"M239.681 1479.7 L244.565 1479.7 L244.565 1485.58 L239.681 1485.58 L239.681 1479.7 Z\" fill=\"#000000\" fill-rule=\"evenodd\" fill-opacity=\"1\" /><path clip-path=\"url(#clip160)\" d=\"M264.75 1454.1 Q261.139 1454.1 259.31 1457.66 Q257.505 1461.2 257.505 1468.33 Q257.505 1475.44 259.31 1479.01 Q261.139 1482.55 264.75 1482.55 Q268.385 1482.55 270.19 1479.01 Q272.019 1475.44 272.019 1468.33 Q272.019 1461.2 270.19 1457.66 Q268.385 1454.1 264.75 1454.1 M264.75 1450.39 Q270.56 1450.39 273.616 1455 Q276.695 1459.58 276.695 1468.33 Q276.695 1477.06 273.616 1481.67 Q270.56 1486.25 264.75 1486.25 Q258.94 1486.25 255.861 1481.67 Q252.806 1477.06 252.806 1468.33 Q252.806 1459.58 255.861 1455 Q258.94 1450.39 264.75 1450.39 Z\" fill=\"#000000\" fill-rule=\"evenodd\" fill-opacity=\"1\" /><path clip-path=\"url(#clip160)\" d=\"M747.672 1454.1 Q744.061 1454.1 742.232 1457.66 Q740.427 1461.2 740.427 1468.33 Q740.427 1475.44 742.232 1479.01 Q744.061 1482.55 747.672 1482.55 Q751.306 1482.55 753.112 1479.01 Q754.941 1475.44 754.941 1468.33 Q754.941 1461.2 753.112 1457.66 Q751.306 1454.1 747.672 1454.1 M747.672 1450.39 Q753.482 1450.39 756.538 1455 Q759.616 1459.58 759.616 1468.33 Q759.616 1477.06 756.538 1481.67 Q753.482 1486.25 747.672 1486.25 Q741.862 1486.25 738.783 1481.67 Q735.728 1477.06 735.728 1468.33 Q735.728 1459.58 738.783 1455 Q741.862 1450.39 747.672 1450.39 Z\" fill=\"#000000\" fill-rule=\"evenodd\" fill-opacity=\"1\" /><path clip-path=\"url(#clip160)\" d=\"M767.834 1479.7 L772.718 1479.7 L772.718 1485.58 L767.834 1485.58 L767.834 1479.7 Z\" fill=\"#000000\" fill-rule=\"evenodd\" fill-opacity=\"1\" /><path clip-path=\"url(#clip160)\" d=\"M782.95 1451.02 L801.306 1451.02 L801.306 1454.96 L787.232 1454.96 L787.232 1463.43 Q788.251 1463.08 789.269 1462.92 Q790.288 1462.73 791.306 1462.73 Q797.093 1462.73 800.473 1465.9 Q803.852 1469.08 803.852 1474.49 Q803.852 1480.07 800.38 1483.17 Q796.908 1486.25 790.588 1486.25 Q788.413 1486.25 786.144 1485.88 Q783.899 1485.51 781.491 1484.77 L781.491 1480.07 Q783.575 1481.2 785.797 1481.76 Q788.019 1482.32 790.496 1482.32 Q794.5 1482.32 796.838 1480.21 Q799.176 1478.1 799.176 1474.49 Q799.176 1470.88 796.838 1468.77 Q794.5 1466.67 790.496 1466.67 Q788.621 1466.67 786.746 1467.08 Q784.894 1467.5 782.95 1468.38 L782.95 1451.02 Z\" fill=\"#000000\" fill-rule=\"evenodd\" fill-opacity=\"1\" /><path clip-path=\"url(#clip160)\" d=\"M1264.6 1481.64 L1272.24 1481.64 L1272.24 1455.28 L1263.93 1456.95 L1263.93 1452.69 L1272.19 1451.02 L1276.87 1451.02 L1276.87 1481.64 L1284.51 1481.64 L1284.51 1485.58 L1264.6 1485.58 L1264.6 1481.64 Z\" fill=\"#000000\" fill-rule=\"evenodd\" fill-opacity=\"1\" /><path clip-path=\"url(#clip160)\" d=\"M1293.95 1479.7 L1298.83 1479.7 L1298.83 1485.58 L1293.95 1485.58 L1293.95 1479.7 Z\" fill=\"#000000\" fill-rule=\"evenodd\" fill-opacity=\"1\" /><path clip-path=\"url(#clip160)\" d=\"M1319.02 1454.1 Q1315.41 1454.1 1313.58 1457.66 Q1311.77 1461.2 1311.77 1468.33 Q1311.77 1475.44 1313.58 1479.01 Q1315.41 1482.55 1319.02 1482.55 Q1322.65 1482.55 1324.46 1479.01 Q1326.29 1475.44 1326.29 1468.33 Q1326.29 1461.2 1324.46 1457.66 Q1322.65 1454.1 1319.02 1454.1 M1319.02 1450.39 Q1324.83 1450.39 1327.88 1455 Q1330.96 1459.58 1330.96 1468.33 Q1330.96 1477.06 1327.88 1481.67 Q1324.83 1486.25 1319.02 1486.25 Q1313.21 1486.25 1310.13 1481.67 Q1307.07 1477.06 1307.07 1468.33 Q1307.07 1459.58 1310.13 1455 Q1313.21 1450.39 1319.02 1450.39 Z\" fill=\"#000000\" fill-rule=\"evenodd\" fill-opacity=\"1\" /><path clip-path=\"url(#clip160)\" d=\"M1792.75 1481.64 L1800.39 1481.64 L1800.39 1455.28 L1792.08 1456.95 L1792.08 1452.69 L1800.34 1451.02 L1805.02 1451.02 L1805.02 1481.64 L1812.66 1481.64 L1812.66 1485.58 L1792.75 1485.58 L1792.75 1481.64 Z\" fill=\"#000000\" fill-rule=\"evenodd\" fill-opacity=\"1\" /><path clip-path=\"url(#clip160)\" d=\"M1822.1 1479.7 L1826.99 1479.7 L1826.99 1485.58 L1822.1 1485.58 L1822.1 1479.7 Z\" fill=\"#000000\" fill-rule=\"evenodd\" fill-opacity=\"1\" /><path clip-path=\"url(#clip160)\" d=\"M1837.22 1451.02 L1855.57 1451.02 L1855.57 1454.96 L1841.5 1454.96 L1841.5 1463.43 Q1842.52 1463.08 1843.54 1462.92 Q1844.56 1462.73 1845.58 1462.73 Q1851.36 1462.73 1854.74 1465.9 Q1858.12 1469.08 1858.12 1474.49 Q1858.12 1480.07 1854.65 1483.17 Q1851.18 1486.25 1844.86 1486.25 Q1842.68 1486.25 1840.41 1485.88 Q1838.17 1485.51 1835.76 1484.77 L1835.76 1480.07 Q1837.84 1481.2 1840.07 1481.76 Q1842.29 1482.32 1844.76 1482.32 Q1848.77 1482.32 1851.11 1480.21 Q1853.45 1478.1 1853.45 1474.49 Q1853.45 1470.88 1851.11 1468.77 Q1848.77 1466.67 1844.76 1466.67 Q1842.89 1466.67 1841.01 1467.08 Q1839.16 1467.5 1837.22 1468.38 L1837.22 1451.02 Z\" fill=\"#000000\" fill-rule=\"evenodd\" fill-opacity=\"1\" /><path clip-path=\"url(#clip160)\" d=\"M2323.99 1481.64 L2340.31 1481.64 L2340.31 1485.58 L2318.37 1485.58 L2318.37 1481.64 Q2321.03 1478.89 2325.61 1474.26 Q2330.22 1469.61 2331.4 1468.27 Q2333.65 1465.74 2334.53 1464.01 Q2335.43 1462.25 2335.43 1460.56 Q2335.43 1457.8 2333.49 1456.07 Q2331.56 1454.33 2328.46 1454.33 Q2326.26 1454.33 2323.81 1455.09 Q2321.38 1455.86 2318.6 1457.41 L2318.6 1452.69 Q2321.43 1451.55 2323.88 1450.97 Q2326.33 1450.39 2328.37 1450.39 Q2333.74 1450.39 2336.93 1453.08 Q2340.13 1455.77 2340.13 1460.26 Q2340.13 1462.39 2339.32 1464.31 Q2338.53 1466.2 2336.42 1468.8 Q2335.85 1469.47 2332.74 1472.69 Q2329.64 1475.88 2323.99 1481.64 Z\" fill=\"#000000\" fill-rule=\"evenodd\" fill-opacity=\"1\" /><path clip-path=\"url(#clip160)\" d=\"M2350.13 1479.7 L2355.01 1479.7 L2355.01 1485.58 L2350.13 1485.58 L2350.13 1479.7 Z\" fill=\"#000000\" fill-rule=\"evenodd\" fill-opacity=\"1\" /><path clip-path=\"url(#clip160)\" d=\"M2375.2 1454.1 Q2371.59 1454.1 2369.76 1457.66 Q2367.95 1461.2 2367.95 1468.33 Q2367.95 1475.44 2369.76 1479.01 Q2371.59 1482.55 2375.2 1482.55 Q2378.83 1482.55 2380.64 1479.01 Q2382.47 1475.44 2382.47 1468.33 Q2382.47 1461.2 2380.64 1457.66 Q2378.83 1454.1 2375.2 1454.1 M2375.2 1450.39 Q2381.01 1450.39 2384.06 1455 Q2387.14 1459.58 2387.14 1468.33 Q2387.14 1477.06 2384.06 1481.67 Q2381.01 1486.25 2375.2 1486.25 Q2369.39 1486.25 2366.31 1481.67 Q2363.25 1477.06 2363.25 1468.33 Q2363.25 1459.58 2366.31 1455 Q2369.39 1450.39 2375.2 1450.39 Z\" fill=\"#000000\" fill-rule=\"evenodd\" fill-opacity=\"1\" /><path clip-path=\"url(#clip160)\" d=\"M1311.62 1545.44 Q1311.62 1547.24 1310.49 1548.27 Q1309.36 1549.27 1308.08 1549.27 Q1306.85 1549.27 1306.21 1548.56 Q1305.56 1547.85 1305.56 1546.95 Q1305.56 1545.73 1306.47 1544.66 Q1307.37 1543.6 1308.72 1543.37 Q1307.4 1542.54 1305.44 1542.54 Q1304.15 1542.54 1303.02 1543.21 Q1301.92 1543.89 1301.25 1544.76 Q1300.6 1545.63 1300.02 1546.88 Q1299.48 1548.11 1299.25 1548.85 Q1299.06 1549.56 1298.9 1550.33 L1296.64 1559.35 Q1295.55 1563.63 1295.55 1565.15 Q1295.55 1567.01 1296.45 1568.27 Q1297.35 1569.49 1299.16 1569.49 Q1299.86 1569.49 1300.67 1569.3 Q1301.47 1569.07 1302.5 1568.5 Q1303.57 1567.88 1304.5 1566.98 Q1305.47 1566.05 1306.4 1564.47 Q1307.34 1562.89 1307.95 1560.86 Q1308.14 1560.15 1308.78 1560.15 Q1309.59 1560.15 1309.59 1560.8 Q1309.59 1561.35 1309.14 1562.5 Q1308.72 1563.63 1307.79 1565.11 Q1306.88 1566.56 1305.69 1567.88 Q1304.5 1569.17 1302.73 1570.07 Q1300.96 1570.97 1299.03 1570.97 Q1296.26 1570.97 1294.42 1569.49 Q1292.59 1568.01 1291.91 1565.95 Q1291.75 1566.24 1291.52 1566.63 Q1291.3 1567.01 1290.62 1567.88 Q1289.98 1568.72 1289.24 1569.36 Q1288.49 1569.98 1287.34 1570.46 Q1286.21 1570.97 1284.98 1570.97 Q1283.44 1570.97 1282.05 1570.52 Q1280.7 1570.07 1279.73 1569.04 Q1278.77 1568.01 1278.77 1566.59 Q1278.77 1565.02 1279.83 1563.92 Q1280.93 1562.79 1282.41 1562.79 Q1283.34 1562.79 1284.08 1563.34 Q1284.86 1563.89 1284.86 1565.08 Q1284.86 1566.4 1283.95 1567.4 Q1283.05 1568.4 1281.76 1568.66 Q1283.08 1569.49 1285.05 1569.49 Q1287.17 1569.49 1288.85 1567.63 Q1290.52 1565.76 1291.33 1562.63 Q1293.33 1555.13 1294.1 1551.78 Q1294.87 1548.4 1294.87 1546.95 Q1294.87 1545.6 1294.52 1544.66 Q1294.16 1543.73 1293.55 1543.31 Q1292.97 1542.86 1292.42 1542.7 Q1291.91 1542.54 1291.33 1542.54 Q1290.36 1542.54 1289.27 1542.92 Q1288.21 1543.31 1286.92 1544.21 Q1285.66 1545.08 1284.47 1546.88 Q1283.28 1548.69 1282.47 1551.17 Q1282.31 1551.91 1281.6 1551.91 Q1280.83 1551.88 1280.83 1551.23 Q1280.83 1550.69 1281.25 1549.56 Q1281.7 1548.4 1282.6 1546.95 Q1283.54 1545.5 1284.73 1544.21 Q1285.95 1542.89 1287.72 1541.99 Q1289.53 1541.09 1291.46 1541.09 Q1292.33 1541.09 1293.16 1541.28 Q1294.03 1541.44 1295.06 1541.93 Q1296.13 1542.41 1297.06 1543.47 Q1298 1544.53 1298.58 1546.08 Q1298.96 1545.34 1299.48 1544.63 Q1300.02 1543.92 1300.86 1543.05 Q1301.73 1542.15 1302.92 1541.64 Q1304.15 1541.09 1305.5 1541.09 Q1306.82 1541.09 1308.11 1541.44 Q1309.4 1541.76 1310.49 1542.83 Q1311.62 1543.86 1311.62 1545.44 Z\" fill=\"#000000\" fill-rule=\"evenodd\" fill-opacity=\"1\" /><polyline clip-path=\"url(#clip162)\" style=\"stroke:#000000; stroke-linecap:butt; stroke-linejoin:round; stroke-width:2; stroke-opacity:0.1; fill:none\" points=\"\n",
       "  242.135,1423.18 2352.76,1423.18 \n",
       "  \"/>\n",
       "<polyline clip-path=\"url(#clip162)\" style=\"stroke:#000000; stroke-linecap:butt; stroke-linejoin:round; stroke-width:2; stroke-opacity:0.1; fill:none\" points=\"\n",
       "  242.135,1079.2 2352.76,1079.2 \n",
       "  \"/>\n",
       "<polyline clip-path=\"url(#clip162)\" style=\"stroke:#000000; stroke-linecap:butt; stroke-linejoin:round; stroke-width:2; stroke-opacity:0.1; fill:none\" points=\"\n",
       "  242.135,735.212 2352.76,735.212 \n",
       "  \"/>\n",
       "<polyline clip-path=\"url(#clip162)\" style=\"stroke:#000000; stroke-linecap:butt; stroke-linejoin:round; stroke-width:2; stroke-opacity:0.1; fill:none\" points=\"\n",
       "  242.135,391.228 2352.76,391.228 \n",
       "  \"/>\n",
       "<polyline clip-path=\"url(#clip162)\" style=\"stroke:#000000; stroke-linecap:butt; stroke-linejoin:round; stroke-width:2; stroke-opacity:0.1; fill:none\" points=\"\n",
       "  242.135,47.2441 2352.76,47.2441 \n",
       "  \"/>\n",
       "<polyline clip-path=\"url(#clip160)\" style=\"stroke:#000000; stroke-linecap:butt; stroke-linejoin:round; stroke-width:4; stroke-opacity:1; fill:none\" points=\"\n",
       "  242.135,1423.18 242.135,47.2441 \n",
       "  \"/>\n",
       "<polyline clip-path=\"url(#clip160)\" style=\"stroke:#000000; stroke-linecap:butt; stroke-linejoin:round; stroke-width:4; stroke-opacity:1; fill:none\" points=\"\n",
       "  242.135,1423.18 261.032,1423.18 \n",
       "  \"/>\n",
       "<polyline clip-path=\"url(#clip160)\" style=\"stroke:#000000; stroke-linecap:butt; stroke-linejoin:round; stroke-width:4; stroke-opacity:1; fill:none\" points=\"\n",
       "  242.135,1079.2 261.032,1079.2 \n",
       "  \"/>\n",
       "<polyline clip-path=\"url(#clip160)\" style=\"stroke:#000000; stroke-linecap:butt; stroke-linejoin:round; stroke-width:4; stroke-opacity:1; fill:none\" points=\"\n",
       "  242.135,735.212 261.032,735.212 \n",
       "  \"/>\n",
       "<polyline clip-path=\"url(#clip160)\" style=\"stroke:#000000; stroke-linecap:butt; stroke-linejoin:round; stroke-width:4; stroke-opacity:1; fill:none\" points=\"\n",
       "  242.135,391.228 261.032,391.228 \n",
       "  \"/>\n",
       "<polyline clip-path=\"url(#clip160)\" style=\"stroke:#000000; stroke-linecap:butt; stroke-linejoin:round; stroke-width:4; stroke-opacity:1; fill:none\" points=\"\n",
       "  242.135,47.2441 261.032,47.2441 \n",
       "  \"/>\n",
       "<path clip-path=\"url(#clip160)\" d=\"M114.26 1423.63 L143.936 1423.63 L143.936 1427.57 L114.26 1427.57 L114.26 1423.63 Z\" fill=\"#000000\" fill-rule=\"evenodd\" fill-opacity=\"1\" /><path clip-path=\"url(#clip160)\" d=\"M154.839 1436.52 L162.477 1436.52 L162.477 1410.16 L154.167 1411.83 L154.167 1407.57 L162.431 1405.9 L167.107 1405.9 L167.107 1436.52 L174.746 1436.52 L174.746 1440.46 L154.839 1440.46 L154.839 1436.52 Z\" fill=\"#000000\" fill-rule=\"evenodd\" fill-opacity=\"1\" /><path clip-path=\"url(#clip160)\" d=\"M194.19 1408.98 Q190.579 1408.98 188.75 1412.54 Q186.945 1416.08 186.945 1423.21 Q186.945 1430.32 188.75 1433.89 Q190.579 1437.43 194.19 1437.43 Q197.825 1437.43 199.63 1433.89 Q201.459 1430.32 201.459 1423.21 Q201.459 1416.08 199.63 1412.54 Q197.825 1408.98 194.19 1408.98 M194.19 1405.27 Q200 1405.27 203.056 1409.88 Q206.135 1414.46 206.135 1423.21 Q206.135 1431.94 203.056 1436.55 Q200 1441.13 194.19 1441.13 Q188.38 1441.13 185.301 1436.55 Q182.246 1431.94 182.246 1423.21 Q182.246 1414.46 185.301 1409.88 Q188.38 1405.27 194.19 1405.27 Z\" fill=\"#000000\" fill-rule=\"evenodd\" fill-opacity=\"1\" /><path clip-path=\"url(#clip160)\" d=\"M145.417 1079.65 L175.093 1079.65 L175.093 1083.58 L145.417 1083.58 L145.417 1079.65 Z\" fill=\"#000000\" fill-rule=\"evenodd\" fill-opacity=\"1\" /><path clip-path=\"url(#clip160)\" d=\"M185.232 1061.92 L203.588 1061.92 L203.588 1065.85 L189.514 1065.85 L189.514 1074.32 Q190.533 1073.98 191.551 1073.81 Q192.57 1073.63 193.588 1073.63 Q199.375 1073.63 202.755 1076.8 Q206.135 1079.97 206.135 1085.39 Q206.135 1090.97 202.662 1094.07 Q199.19 1097.15 192.871 1097.15 Q190.695 1097.15 188.426 1096.78 Q186.181 1096.41 183.774 1095.67 L183.774 1090.97 Q185.857 1092.1 188.079 1092.66 Q190.301 1093.21 192.778 1093.21 Q196.783 1093.21 199.121 1091.11 Q201.459 1089 201.459 1085.39 Q201.459 1081.78 199.121 1079.67 Q196.783 1077.56 192.778 1077.56 Q190.903 1077.56 189.028 1077.98 Q187.176 1078.4 185.232 1079.28 L185.232 1061.92 Z\" fill=\"#000000\" fill-rule=\"evenodd\" fill-opacity=\"1\" /><path clip-path=\"url(#clip160)\" d=\"M194.19 721.011 Q190.579 721.011 188.75 724.575 Q186.945 728.117 186.945 735.247 Q186.945 742.353 188.75 745.918 Q190.579 749.46 194.19 749.46 Q197.825 749.46 199.63 745.918 Q201.459 742.353 201.459 735.247 Q201.459 728.117 199.63 724.575 Q197.825 721.011 194.19 721.011 M194.19 717.307 Q200 717.307 203.056 721.913 Q206.135 726.497 206.135 735.247 Q206.135 743.973 203.056 748.58 Q200 753.163 194.19 753.163 Q188.38 753.163 185.301 748.58 Q182.246 743.973 182.246 735.247 Q182.246 726.497 185.301 721.913 Q188.38 717.307 194.19 717.307 Z\" fill=\"#000000\" fill-rule=\"evenodd\" fill-opacity=\"1\" /><path clip-path=\"url(#clip160)\" d=\"M185.232 373.948 L203.588 373.948 L203.588 377.883 L189.514 377.883 L189.514 386.355 Q190.533 386.008 191.551 385.846 Q192.57 385.661 193.588 385.661 Q199.375 385.661 202.755 388.832 Q206.135 392.003 206.135 397.42 Q206.135 402.999 202.662 406.101 Q199.19 409.179 192.871 409.179 Q190.695 409.179 188.426 408.809 Q186.181 408.439 183.774 407.698 L183.774 402.999 Q185.857 404.133 188.079 404.689 Q190.301 405.244 192.778 405.244 Q196.783 405.244 199.121 403.138 Q201.459 401.031 201.459 397.42 Q201.459 393.809 199.121 391.703 Q196.783 389.596 192.778 389.596 Q190.903 389.596 189.028 390.013 Q187.176 390.429 185.232 391.309 L185.232 373.948 Z\" fill=\"#000000\" fill-rule=\"evenodd\" fill-opacity=\"1\" /><path clip-path=\"url(#clip160)\" d=\"M154.839 60.5889 L162.477 60.5889 L162.477 34.2233 L154.167 35.89 L154.167 31.6308 L162.431 29.9641 L167.107 29.9641 L167.107 60.5889 L174.746 60.5889 L174.746 64.5241 L154.839 64.5241 L154.839 60.5889 Z\" fill=\"#000000\" fill-rule=\"evenodd\" fill-opacity=\"1\" /><path clip-path=\"url(#clip160)\" d=\"M194.19 33.0428 Q190.579 33.0428 188.75 36.6076 Q186.945 40.1492 186.945 47.2788 Q186.945 54.3853 188.75 57.9501 Q190.579 61.4917 194.19 61.4917 Q197.825 61.4917 199.63 57.9501 Q201.459 54.3853 201.459 47.2788 Q201.459 40.1492 199.63 36.6076 Q197.825 33.0428 194.19 33.0428 M194.19 29.3391 Q200 29.3391 203.056 33.9456 Q206.135 38.5289 206.135 47.2788 Q206.135 56.0056 203.056 60.6121 Q200 65.1954 194.19 65.1954 Q188.38 65.1954 185.301 60.6121 Q182.246 56.0056 182.246 47.2788 Q182.246 38.5289 185.301 33.9456 Q188.38 29.3391 194.19 29.3391 Z\" fill=\"#000000\" fill-rule=\"evenodd\" fill-opacity=\"1\" /><path clip-path=\"url(#clip160)\" d=\"M26.4959 765.631 Q28.2672 765.631 29.3622 766.758 Q30.4572 767.853 30.4572 769.238 Q30.4572 770.236 29.8453 770.977 Q29.2334 771.686 28.1706 771.686 Q27.0756 771.686 25.9162 770.848 Q24.7567 770.011 24.5957 768.111 Q23.4041 769.367 23.4041 771.363 Q23.4041 772.362 24.0482 773.199 Q24.6601 774.004 25.6585 774.455 Q26.6891 774.938 32.5184 776.033 Q34.4185 776.388 36.2542 776.71 Q38.09 777.032 40.0223 777.418 L40.0223 771.943 Q40.0223 771.235 40.0545 770.945 Q40.0867 770.655 40.2478 770.43 Q40.4088 770.172 40.7631 770.172 Q41.6648 770.172 41.8903 770.591 Q42.0835 770.977 42.0835 772.136 L42.0835 777.805 L62.9851 781.766 Q63.597 781.863 65.5294 782.281 Q67.4295 782.668 70.5535 783.602 Q73.7097 784.536 75.5776 785.47 Q76.6404 785.985 77.6388 786.661 Q78.6694 787.305 79.6999 788.239 Q80.7305 789.173 81.3424 790.397 Q81.9866 791.621 81.9866 792.909 Q81.9866 795.099 80.7627 796.806 Q79.5389 798.513 77.4455 798.513 Q75.6742 798.513 74.5792 797.418 Q73.4842 796.291 73.4842 794.906 Q73.4842 793.908 74.0961 793.199 Q74.708 792.458 75.7708 792.458 Q76.2217 792.458 76.737 792.619 Q77.2523 792.78 77.832 793.135 Q78.4439 793.489 78.8626 794.262 Q79.2813 795.035 79.3457 796.098 Q80.5373 794.842 80.5373 792.909 Q80.5373 792.297 80.2796 791.75 Q80.0542 791.202 79.4745 790.751 Q78.8948 790.268 78.3151 789.914 Q77.7676 789.56 76.7048 789.206 Q75.6742 788.851 74.9013 788.626 Q74.1283 788.4 72.7435 788.111 Q71.3586 787.788 70.5213 787.627 Q69.7161 787.466 68.138 787.177 L42.0835 782.249 L42.0835 786.597 Q42.0835 787.37 42.0513 787.692 Q42.0191 787.982 41.8581 788.207 Q41.6648 788.433 41.2783 788.433 Q40.6664 788.433 40.4088 788.175 Q40.1189 787.885 40.0867 787.563 Q40.0223 787.241 40.0223 786.468 L40.0223 781.895 Q31.8742 780.349 29.6842 779.737 Q27.3654 779.028 25.7551 777.933 Q24.1126 776.838 23.3397 775.615 Q22.5667 774.391 22.2769 773.392 Q21.9548 772.362 21.9548 771.363 Q21.9548 769.109 23.1787 767.37 Q24.3703 765.631 26.4959 765.631 Z\" fill=\"#000000\" fill-rule=\"evenodd\" fill-opacity=\"1\" /><path clip-path=\"url(#clip160)\" d=\"M51.9707 756.751 Q40.8275 756.751 31.842 752.596 Q28.0739 750.825 24.9178 748.345 Q21.7616 745.865 20.3767 744.223 Q18.9919 742.58 18.9919 742.129 Q18.9919 741.485 19.636 741.453 Q19.9581 741.453 20.7632 742.323 Q31.5844 752.951 51.9707 752.918 Q72.4214 752.918 82.8239 742.58 Q83.9511 741.453 84.3054 741.453 Q84.9495 741.453 84.9495 742.129 Q84.9495 742.58 83.6291 744.158 Q82.3086 745.736 79.2813 748.184 Q76.2539 750.632 72.5502 752.403 Q63.5648 756.751 51.9707 756.751 Z\" fill=\"#000000\" fill-rule=\"evenodd\" fill-opacity=\"1\" /><path clip-path=\"url(#clip160)\" d=\"M43.6616 703.589 Q45.4651 703.589 46.4957 704.717 Q47.4941 705.844 47.4941 707.132 Q47.4941 708.356 46.7856 709 Q46.077 709.644 45.1753 709.644 Q43.9514 709.644 42.8886 708.742 Q41.8258 707.841 41.6004 706.488 Q40.7631 707.808 40.7631 709.773 Q40.7631 711.061 41.4394 712.188 Q42.1157 713.283 42.9853 713.96 Q43.8548 714.604 45.1108 715.184 Q46.3347 715.731 47.0754 715.957 Q47.7839 716.15 48.5569 716.311 L57.5745 718.565 Q61.8579 719.66 63.3716 719.66 Q65.2395 719.66 66.4955 718.758 Q67.7194 717.857 67.7194 716.053 Q67.7194 715.345 67.5261 714.539 Q67.3007 713.734 66.721 712.704 Q66.1091 711.641 65.2073 710.707 Q64.2733 709.741 62.6952 708.807 Q61.1172 707.873 59.0882 707.261 Q58.3797 707.068 58.3797 706.424 Q58.3797 705.618 59.0238 705.618 Q59.5713 705.618 60.7307 706.069 Q61.8579 706.488 63.3394 707.422 Q64.7886 708.324 66.1091 709.515 Q67.3973 710.707 68.2991 712.478 Q69.2008 714.25 69.2008 716.182 Q69.2008 718.952 67.7194 720.787 Q66.2379 722.623 64.1767 723.299 Q64.4666 723.46 64.853 723.686 Q65.2395 723.911 66.1091 724.588 Q66.9464 725.232 67.5905 725.973 Q68.2024 726.713 68.6855 727.873 Q69.2008 729 69.2008 730.224 Q69.2008 731.77 68.7499 733.154 Q68.2991 734.507 67.2685 735.473 Q66.2379 736.439 64.8208 736.439 Q63.2427 736.439 62.1477 735.377 Q61.0205 734.282 61.0205 732.8 Q61.0205 731.866 61.568 731.125 Q62.1155 730.353 63.3072 730.353 Q64.6276 730.353 65.626 731.254 Q66.6244 732.156 66.882 733.444 Q67.7194 732.124 67.7194 730.159 Q67.7194 728.034 65.8514 726.359 Q63.9835 724.684 60.8595 723.879 Q53.3555 721.882 50.0061 721.109 Q46.6245 720.337 45.1753 720.337 Q43.8226 720.337 42.8886 720.691 Q41.9547 721.045 41.536 721.657 Q41.0851 722.237 40.9241 722.784 Q40.7631 723.299 40.7631 723.879 Q40.7631 724.845 41.1495 725.94 Q41.536 727.003 42.4378 728.291 Q43.3073 729.547 45.1108 730.739 Q46.9144 731.931 49.3942 732.736 Q50.135 732.897 50.135 733.605 Q50.1028 734.378 49.4586 734.378 Q48.9111 734.378 47.7839 733.96 Q46.6245 733.509 45.1753 732.607 Q43.726 731.673 42.4378 730.481 Q41.1173 729.258 40.2156 727.486 Q39.3138 725.683 39.3138 723.75 Q39.3138 722.881 39.507 722.043 Q39.6681 721.174 40.1511 720.143 Q40.6342 719.08 41.697 718.147 Q42.7598 717.213 44.3057 716.633 Q43.565 716.246 42.8564 715.731 Q42.1479 715.184 41.2783 714.346 Q40.3766 713.477 39.8613 712.285 Q39.3138 711.061 39.3138 709.709 Q39.3138 708.388 39.6681 707.1 Q39.9901 705.812 41.0529 704.717 Q42.0835 703.589 43.6616 703.589 Z\" fill=\"#000000\" fill-rule=\"evenodd\" fill-opacity=\"1\" /><path clip-path=\"url(#clip160)\" d=\"M84.3054 697.238 Q83.9833 697.238 83.1782 696.401 Q72.357 685.773 51.9707 685.773 Q31.52 685.773 21.1819 695.982 Q19.9903 697.238 19.636 697.238 Q18.9919 697.238 18.9919 696.594 Q18.9919 696.143 20.3123 694.565 Q21.6328 692.955 24.6601 690.539 Q27.6875 688.092 31.3911 686.288 Q40.3766 681.941 51.9707 681.941 Q63.1139 681.941 72.0994 686.095 Q75.8674 687.866 79.0236 690.346 Q82.1798 692.826 83.5646 694.469 Q84.9495 696.111 84.9495 696.594 Q84.9495 697.238 84.3054 697.238 Z\" fill=\"#000000\" fill-rule=\"evenodd\" fill-opacity=\"1\" /><polyline clip-path=\"url(#clip162)\" style=\"stroke:#dc143c; stroke-linecap:butt; stroke-linejoin:round; stroke-width:4; stroke-opacity:1; fill:none\" points=\"\n",
       "  -5034.42,-13942.2 -4819.05,-11310.7 -4603.68,-9117.45 -4388.32,-7288.01 -4172.94,-5762.49 -3957.57,-4492.88 -3742.2,-3440.3 -3526.83,-2573.14 -3311.47,-1865.41 -3096.1,-1295.35 \n",
       "  -2880.72,-844.417 -2665.35,-496.423 -2449.98,-236.935 -2234.62,-52.8002 -2019.25,68.1336 -1803.88,137.175 -1588.5,164.868 -1373.13,161.012 -1157.77,134.725 -942.399,94.5797 \n",
       "  -727.028,48.8017 -511.659,5.43629 -296.289,-27.6825 -80.9191,-43.3406 134.45,-35.5597 349.82,-0.397681 565.188,63.6157 780.558,155.53 995.928,272.574 1211.3,411.022 \n",
       "  1426.67,567.022 1642.04,737.136 1857.4,918.568 2072.77,1109.23 2288.15,1307.81 2503.52,1513.97 2718.89,1728.67 2934.25,1954.61 3149.62,2196.81 3364.99,2463.05 \n",
       "  3580.37,2764.59 3795.73,3116.68 4011.1,3539.32 4226.47,4058.01 4441.84,4704.65 4657.21,5518.66 4872.58,6548.28 5087.95,7852.17 5303.32,9501.57 5518.69,11582.5 \n",
       "  \n",
       "  \"/>\n",
       "<polyline clip-path=\"url(#clip162)\" style=\"stroke:#000000; stroke-linecap:butt; stroke-linejoin:round; stroke-width:4; stroke-opacity:0.5; fill:none\" points=\"\n",
       "  -1868.49,735.212 4463.38,735.212 \n",
       "  \"/>\n",
       "<circle clip-path=\"url(#clip162)\" cx=\"565.188\" cy=\"63.6157\" r=\"14\" fill=\"#000000\" fill-rule=\"evenodd\" fill-opacity=\"1\" stroke=\"none\"/>\n",
       "<circle clip-path=\"url(#clip162)\" cx=\"780.558\" cy=\"155.53\" r=\"14\" fill=\"#000000\" fill-rule=\"evenodd\" fill-opacity=\"1\" stroke=\"none\"/>\n",
       "<circle clip-path=\"url(#clip162)\" cx=\"995.928\" cy=\"272.574\" r=\"14\" fill=\"#000000\" fill-rule=\"evenodd\" fill-opacity=\"1\" stroke=\"none\"/>\n",
       "<circle clip-path=\"url(#clip162)\" cx=\"1211.3\" cy=\"411.022\" r=\"14\" fill=\"#000000\" fill-rule=\"evenodd\" fill-opacity=\"1\" stroke=\"none\"/>\n",
       "<circle clip-path=\"url(#clip162)\" cx=\"1426.67\" cy=\"567.022\" r=\"14\" fill=\"#000000\" fill-rule=\"evenodd\" fill-opacity=\"1\" stroke=\"none\"/>\n",
       "<circle clip-path=\"url(#clip162)\" cx=\"1642.04\" cy=\"737.136\" r=\"14\" fill=\"#000000\" fill-rule=\"evenodd\" fill-opacity=\"1\" stroke=\"none\"/>\n",
       "<circle clip-path=\"url(#clip162)\" cx=\"1857.4\" cy=\"918.568\" r=\"14\" fill=\"#000000\" fill-rule=\"evenodd\" fill-opacity=\"1\" stroke=\"none\"/>\n",
       "<circle clip-path=\"url(#clip162)\" cx=\"2072.77\" cy=\"1109.23\" r=\"14\" fill=\"#000000\" fill-rule=\"evenodd\" fill-opacity=\"1\" stroke=\"none\"/>\n",
       "<circle clip-path=\"url(#clip162)\" cx=\"2288.15\" cy=\"1307.81\" r=\"14\" fill=\"#000000\" fill-rule=\"evenodd\" fill-opacity=\"1\" stroke=\"none\"/>\n",
       "</svg>\n"
      ]
     },
     "execution_count": 11,
     "metadata": {},
     "output_type": "execute_result"
    }
   ],
   "source": [
    "plot(x, y, color=\"crimson\", label=false, xlabel=L\"$x$\", ylabel=L\"$f(x)$\"\n",
    "     , xlim=(0,2), ylim=(-10,10))\n",
    "hline!([0], color=\"black\", alpha=0.5, label=false)\n",
    "scatter!(x, y, color=\"black\", label=false)\n"
   ]
  },
  {
   "cell_type": "markdown",
   "metadata": {
    "id": "4zO-JVDYJCti"
   },
   "source": [
    "This zoom shows the interior of the interval $1<x<1.5$. We will concentrate on the three points in the middle of the interval in order to interpolate a quadratic polynomial and apply the root finding method."
   ]
  },
  {
   "cell_type": "code",
   "execution_count": 13,
   "metadata": {
    "colab": {
     "base_uri": "https://localhost:8080/"
    },
    "executionInfo": {
     "elapsed": 747,
     "status": "ok",
     "timestamp": 1618768958741,
     "user": {
      "displayName": "Eduard Alexis Larranaga",
      "photoUrl": "https://lh3.googleusercontent.com/a-/AOh14GgCVABzEgj-rCdyxWa29RnA0kIYUCXAaVbnRYOEhQ=s64",
      "userId": "04402438389940282602"
     },
     "user_tz": 300
    },
    "id": "KMZdsIuYJCtj",
    "outputId": "8917a41a-eb9e-4b62-c8c5-7a872f22888b"
   },
   "outputs": [
    {
     "name": "stdout",
     "output_type": "stream",
     "text": [
      "a = 31: x_a = 1.12245: f(x_a) = 2.44474\n",
      "a = 31: x_a = 1.12245: f(x_a) = 2.44474\n"
     ]
    }
   ],
   "source": [
    "# Find the initial and final points of the restricted interval of \n",
    "# three points to interpolate.\n",
    "for i in 1:length(x)\n",
    "    if x[i]>=1\n",
    "        global a=i\n",
    "        break\n",
    "    end\n",
    "end\n",
    "\n",
    "# The interval will include three points:\n",
    "# x[a], x[a+1], x[a+2]\n",
    "# Here we define the arrays that enter as arguments\n",
    "# for the interpolated polynomial\n",
    "x_int =[x[a], x[a+1], x[a+2]]\n",
    "y_int =[y[a], y[a+1], y[a+2]]\n",
    "\n",
    "println(\"a = \", a, \": x_a = \", x[a], \": f(x_a) = \", y[a])\n"
   ]
  },
  {
   "cell_type": "markdown",
   "metadata": {
    "id": "VEOTM32-JCtj"
   },
   "source": [
    "Now, we use the interpolated quadratic polynomial and use the Newton-Raphson (or secant) method."
   ]
  },
  {
   "cell_type": "code",
   "execution_count": 17,
   "metadata": {
    "colab": {
     "base_uri": "https://localhost:8080/"
    },
    "executionInfo": {
     "elapsed": 523,
     "status": "ok",
     "timestamp": 1618768965922,
     "user": {
      "displayName": "Eduard Alexis Larranaga",
      "photoUrl": "https://lh3.googleusercontent.com/a-/AOh14GgCVABzEgj-rCdyxWa29RnA0kIYUCXAaVbnRYOEhQ=s64",
      "userId": "04402438389940282602"
     },
     "user_tz": 300
    },
    "id": "g1CwaB6cJCtk",
    "outputId": "0266189b-2bb6-4cc1-e58b-a10abbb06fd5"
   },
   "outputs": [
    {
     "name": "stdout",
     "output_type": "stream",
     "text": [
      "The root is x_r = 1.32429525for which the interpolated function is f(x_r) =  7.09501902e-16"
     ]
    }
   ],
   "source": [
    "# 2-order Interpolated Polynomial \n",
    "function p2(x)\n",
    "    pol = ((((x-x_int[2])*(x-x_int[3]))/((x_int[1]-x_int[2])*(x_int[1]-x_int[3])))*y_int[1] \n",
    "         +(((x-x_int[1])*(x-x_int[3]))/((x_int[2]-x_int[1])*(x_int[2]-x_int[3])))*y_int[2] \n",
    "         +(((x-x_int[1])*(x-x_int[2]))/((x_int[3]-x_int[1])*(x_int[3]-x_int[2])))*y_int[3]\n",
    "          )\n",
    "    return pol\n",
    "end\n",
    "\n",
    "\n",
    "# Newton-Raphson Method. We begin with the value at point x[a]\n",
    "root0 = x[a]-1e-5\n",
    "root = x[a]\n",
    "\n",
    "while abs(p2(root))>1e-10\n",
    "    new_root = root - p2(root)*(root - root0)/(p2(root) - p2(root0))\n",
    "    root0, root = root, new_root\n",
    "end\n",
    "\n",
    "@printf \"The root is x_r = %.8f\" root\n",
    "@printf \"for which the interpolated function is f(x_r) =  %.8e\" p2(root)\n",
    "\n"
   ]
  },
  {
   "cell_type": "markdown",
   "metadata": {
    "id": "jDTuIMYXJCtk"
   },
   "source": [
    "We can visualize the location of the root,"
   ]
  },
  {
   "cell_type": "code",
   "execution_count": 32,
   "metadata": {
    "colab": {
     "base_uri": "https://localhost:8080/",
     "height": 350
    },
    "executionInfo": {
     "elapsed": 492,
     "status": "ok",
     "timestamp": 1618768969109,
     "user": {
      "displayName": "Eduard Alexis Larranaga",
      "photoUrl": "https://lh3.googleusercontent.com/a-/AOh14GgCVABzEgj-rCdyxWa29RnA0kIYUCXAaVbnRYOEhQ=s64",
      "userId": "04402438389940282602"
     },
     "user_tz": 300
    },
    "id": "hEm0sjPeJCtk",
    "outputId": "15717ee6-a915-42b2-9ca6-4220ab40a856"
   },
   "outputs": [
    {
     "data": {
      "image/svg+xml": [
       "<?xml version=\"1.0\" encoding=\"utf-8\"?>\n",
       "<svg xmlns=\"http://www.w3.org/2000/svg\" xmlns:xlink=\"http://www.w3.org/1999/xlink\" width=\"600\" height=\"400\" viewBox=\"0 0 2400 1600\">\n",
       "<defs>\n",
       "  <clipPath id=\"clip560\">\n",
       "    <rect x=\"0\" y=\"0\" width=\"2400\" height=\"1600\"/>\n",
       "  </clipPath>\n",
       "</defs>\n",
       "<path clip-path=\"url(#clip560)\" d=\"\n",
       "M0 1600 L2400 1600 L2400 0 L0 0  Z\n",
       "  \" fill=\"#ffffff\" fill-rule=\"evenodd\" fill-opacity=\"1\"/>\n",
       "<defs>\n",
       "  <clipPath id=\"clip561\">\n",
       "    <rect x=\"480\" y=\"0\" width=\"1681\" height=\"1600\"/>\n",
       "  </clipPath>\n",
       "</defs>\n",
       "<defs>\n",
       "  <clipPath id=\"clip562\">\n",
       "    <rect x=\"257\" y=\"106\" width=\"2097\" height=\"1318\"/>\n",
       "  </clipPath>\n",
       "</defs>\n",
       "<path clip-path=\"url(#clip560)\" d=\"\n",
       "M257.204 1423.18 L2352.76 1423.18 L2352.76 106.192 L257.204 106.192  Z\n",
       "  \" fill=\"#ffffff\" fill-rule=\"evenodd\" fill-opacity=\"1\"/>\n",
       "<polyline clip-path=\"url(#clip562)\" style=\"stroke:#000000; stroke-linecap:butt; stroke-linejoin:round; stroke-width:2; stroke-opacity:0.1; fill:none\" points=\"\n",
       "  257.204,1423.18 257.204,106.192 \n",
       "  \"/>\n",
       "<polyline clip-path=\"url(#clip562)\" style=\"stroke:#000000; stroke-linecap:butt; stroke-linejoin:round; stroke-width:2; stroke-opacity:0.1; fill:none\" points=\"\n",
       "  955.721,1423.18 955.721,106.192 \n",
       "  \"/>\n",
       "<polyline clip-path=\"url(#clip562)\" style=\"stroke:#000000; stroke-linecap:butt; stroke-linejoin:round; stroke-width:2; stroke-opacity:0.1; fill:none\" points=\"\n",
       "  1654.24,1423.18 1654.24,106.192 \n",
       "  \"/>\n",
       "<polyline clip-path=\"url(#clip562)\" style=\"stroke:#000000; stroke-linecap:butt; stroke-linejoin:round; stroke-width:2; stroke-opacity:0.1; fill:none\" points=\"\n",
       "  2352.76,1423.18 2352.76,106.192 \n",
       "  \"/>\n",
       "<polyline clip-path=\"url(#clip560)\" style=\"stroke:#000000; stroke-linecap:butt; stroke-linejoin:round; stroke-width:4; stroke-opacity:1; fill:none\" points=\"\n",
       "  257.204,1423.18 2352.76,1423.18 \n",
       "  \"/>\n",
       "<polyline clip-path=\"url(#clip560)\" style=\"stroke:#000000; stroke-linecap:butt; stroke-linejoin:round; stroke-width:4; stroke-opacity:1; fill:none\" points=\"\n",
       "  257.204,1423.18 257.204,1404.28 \n",
       "  \"/>\n",
       "<polyline clip-path=\"url(#clip560)\" style=\"stroke:#000000; stroke-linecap:butt; stroke-linejoin:round; stroke-width:4; stroke-opacity:1; fill:none\" points=\"\n",
       "  955.721,1423.18 955.721,1404.28 \n",
       "  \"/>\n",
       "<polyline clip-path=\"url(#clip560)\" style=\"stroke:#000000; stroke-linecap:butt; stroke-linejoin:round; stroke-width:4; stroke-opacity:1; fill:none\" points=\"\n",
       "  1654.24,1423.18 1654.24,1404.28 \n",
       "  \"/>\n",
       "<polyline clip-path=\"url(#clip560)\" style=\"stroke:#000000; stroke-linecap:butt; stroke-linejoin:round; stroke-width:4; stroke-opacity:1; fill:none\" points=\"\n",
       "  2352.76,1423.18 2352.76,1404.28 \n",
       "  \"/>\n",
       "<path clip-path=\"url(#clip560)\" d=\"M235.086 1454.1 Q231.475 1454.1 229.646 1457.66 Q227.841 1461.2 227.841 1468.33 Q227.841 1475.44 229.646 1479.01 Q231.475 1482.55 235.086 1482.55 Q238.72 1482.55 240.526 1479.01 Q242.355 1475.44 242.355 1468.33 Q242.355 1461.2 240.526 1457.66 Q238.72 1454.1 235.086 1454.1 M235.086 1450.39 Q240.896 1450.39 243.952 1455 Q247.03 1459.58 247.03 1468.33 Q247.03 1477.06 243.952 1481.67 Q240.896 1486.25 235.086 1486.25 Q229.276 1486.25 226.197 1481.67 Q223.142 1477.06 223.142 1468.33 Q223.142 1459.58 226.197 1455 Q229.276 1450.39 235.086 1450.39 Z\" fill=\"#000000\" fill-rule=\"evenodd\" fill-opacity=\"1\" /><path clip-path=\"url(#clip560)\" d=\"M255.248 1479.7 L260.132 1479.7 L260.132 1485.58 L255.248 1485.58 L255.248 1479.7 Z\" fill=\"#000000\" fill-rule=\"evenodd\" fill-opacity=\"1\" /><path clip-path=\"url(#clip560)\" d=\"M270.364 1451.02 L288.72 1451.02 L288.72 1454.96 L274.646 1454.96 L274.646 1463.43 Q275.665 1463.08 276.683 1462.92 Q277.702 1462.73 278.72 1462.73 Q284.507 1462.73 287.887 1465.9 Q291.266 1469.08 291.266 1474.49 Q291.266 1480.07 287.794 1483.17 Q284.322 1486.25 278.003 1486.25 Q275.827 1486.25 273.558 1485.88 Q271.313 1485.51 268.905 1484.77 L268.905 1480.07 Q270.989 1481.2 273.211 1481.76 Q275.433 1482.32 277.91 1482.32 Q281.915 1482.32 284.252 1480.21 Q286.59 1478.1 286.59 1474.49 Q286.59 1470.88 284.252 1468.77 Q281.915 1466.67 277.91 1466.67 Q276.035 1466.67 274.16 1467.08 Q272.308 1467.5 270.364 1468.38 L270.364 1451.02 Z\" fill=\"#000000\" fill-rule=\"evenodd\" fill-opacity=\"1\" /><path clip-path=\"url(#clip560)\" d=\"M922.874 1481.64 L930.513 1481.64 L930.513 1455.28 L922.203 1456.95 L922.203 1452.69 L930.467 1451.02 L935.143 1451.02 L935.143 1481.64 L942.782 1481.64 L942.782 1485.58 L922.874 1485.58 L922.874 1481.64 Z\" fill=\"#000000\" fill-rule=\"evenodd\" fill-opacity=\"1\" /><path clip-path=\"url(#clip560)\" d=\"M952.226 1479.7 L957.11 1479.7 L957.11 1485.58 L952.226 1485.58 L952.226 1479.7 Z\" fill=\"#000000\" fill-rule=\"evenodd\" fill-opacity=\"1\" /><path clip-path=\"url(#clip560)\" d=\"M977.295 1454.1 Q973.684 1454.1 971.855 1457.66 Q970.05 1461.2 970.05 1468.33 Q970.05 1475.44 971.855 1479.01 Q973.684 1482.55 977.295 1482.55 Q980.93 1482.55 982.735 1479.01 Q984.564 1475.44 984.564 1468.33 Q984.564 1461.2 982.735 1457.66 Q980.93 1454.1 977.295 1454.1 M977.295 1450.39 Q983.105 1450.39 986.161 1455 Q989.24 1459.58 989.24 1468.33 Q989.24 1477.06 986.161 1481.67 Q983.105 1486.25 977.295 1486.25 Q971.485 1486.25 968.406 1481.67 Q965.351 1477.06 965.351 1468.33 Q965.351 1459.58 968.406 1455 Q971.485 1450.39 977.295 1450.39 Z\" fill=\"#000000\" fill-rule=\"evenodd\" fill-opacity=\"1\" /><path clip-path=\"url(#clip560)\" d=\"M1621.89 1481.64 L1629.53 1481.64 L1629.53 1455.28 L1621.22 1456.95 L1621.22 1452.69 L1629.48 1451.02 L1634.16 1451.02 L1634.16 1481.64 L1641.8 1481.64 L1641.8 1485.58 L1621.89 1485.58 L1621.89 1481.64 Z\" fill=\"#000000\" fill-rule=\"evenodd\" fill-opacity=\"1\" /><path clip-path=\"url(#clip560)\" d=\"M1651.24 1479.7 L1656.13 1479.7 L1656.13 1485.58 L1651.24 1485.58 L1651.24 1479.7 Z\" fill=\"#000000\" fill-rule=\"evenodd\" fill-opacity=\"1\" /><path clip-path=\"url(#clip560)\" d=\"M1666.36 1451.02 L1684.71 1451.02 L1684.71 1454.96 L1670.64 1454.96 L1670.64 1463.43 Q1671.66 1463.08 1672.68 1462.92 Q1673.69 1462.73 1674.71 1462.73 Q1680.5 1462.73 1683.88 1465.9 Q1687.26 1469.08 1687.26 1474.49 Q1687.26 1480.07 1683.79 1483.17 Q1680.31 1486.25 1674 1486.25 Q1671.82 1486.25 1669.55 1485.88 Q1667.31 1485.51 1664.9 1484.77 L1664.9 1480.07 Q1666.98 1481.2 1669.2 1481.76 Q1671.43 1482.32 1673.9 1482.32 Q1677.91 1482.32 1680.25 1480.21 Q1682.58 1478.1 1682.58 1474.49 Q1682.58 1470.88 1680.25 1468.77 Q1677.91 1466.67 1673.9 1466.67 Q1672.03 1466.67 1670.15 1467.08 Q1668.3 1467.5 1666.36 1468.38 L1666.36 1451.02 Z\" fill=\"#000000\" fill-rule=\"evenodd\" fill-opacity=\"1\" /><path clip-path=\"url(#clip560)\" d=\"M2323.99 1481.64 L2340.31 1481.64 L2340.31 1485.58 L2318.37 1485.58 L2318.37 1481.64 Q2321.03 1478.89 2325.61 1474.26 Q2330.22 1469.61 2331.4 1468.27 Q2333.65 1465.74 2334.53 1464.01 Q2335.43 1462.25 2335.43 1460.56 Q2335.43 1457.8 2333.49 1456.07 Q2331.56 1454.33 2328.46 1454.33 Q2326.26 1454.33 2323.81 1455.09 Q2321.38 1455.86 2318.6 1457.41 L2318.6 1452.69 Q2321.43 1451.55 2323.88 1450.97 Q2326.33 1450.39 2328.37 1450.39 Q2333.74 1450.39 2336.93 1453.08 Q2340.13 1455.77 2340.13 1460.26 Q2340.13 1462.39 2339.32 1464.31 Q2338.53 1466.2 2336.42 1468.8 Q2335.85 1469.47 2332.74 1472.69 Q2329.64 1475.88 2323.99 1481.64 Z\" fill=\"#000000\" fill-rule=\"evenodd\" fill-opacity=\"1\" /><path clip-path=\"url(#clip560)\" d=\"M2350.13 1479.7 L2355.01 1479.7 L2355.01 1485.58 L2350.13 1485.58 L2350.13 1479.7 Z\" fill=\"#000000\" fill-rule=\"evenodd\" fill-opacity=\"1\" /><path clip-path=\"url(#clip560)\" d=\"M2375.2 1454.1 Q2371.59 1454.1 2369.76 1457.66 Q2367.95 1461.2 2367.95 1468.33 Q2367.95 1475.44 2369.76 1479.01 Q2371.59 1482.55 2375.2 1482.55 Q2378.83 1482.55 2380.64 1479.01 Q2382.47 1475.44 2382.47 1468.33 Q2382.47 1461.2 2380.64 1457.66 Q2378.83 1454.1 2375.2 1454.1 M2375.2 1450.39 Q2381.01 1450.39 2384.06 1455 Q2387.14 1459.58 2387.14 1468.33 Q2387.14 1477.06 2384.06 1481.67 Q2381.01 1486.25 2375.2 1486.25 Q2369.39 1486.25 2366.31 1481.67 Q2363.25 1477.06 2363.25 1468.33 Q2363.25 1459.58 2366.31 1455 Q2369.39 1450.39 2375.2 1450.39 Z\" fill=\"#000000\" fill-rule=\"evenodd\" fill-opacity=\"1\" /><path clip-path=\"url(#clip560)\" d=\"M1319.15 1545.44 Q1319.15 1547.24 1318.03 1548.27 Q1316.9 1549.27 1315.61 1549.27 Q1314.39 1549.27 1313.74 1548.56 Q1313.1 1547.85 1313.1 1546.95 Q1313.1 1545.73 1314 1544.66 Q1314.9 1543.6 1316.25 1543.37 Q1314.93 1542.54 1312.97 1542.54 Q1311.68 1542.54 1310.55 1543.21 Q1309.46 1543.89 1308.78 1544.76 Q1308.14 1545.63 1307.56 1546.88 Q1307.01 1548.11 1306.79 1548.85 Q1306.59 1549.56 1306.43 1550.33 L1304.18 1559.35 Q1303.08 1563.63 1303.08 1565.15 Q1303.08 1567.01 1303.98 1568.27 Q1304.89 1569.49 1306.69 1569.49 Q1307.4 1569.49 1308.2 1569.3 Q1309.01 1569.07 1310.04 1568.5 Q1311.1 1567.88 1312.04 1566.98 Q1313 1566.05 1313.94 1564.47 Q1314.87 1562.89 1315.48 1560.86 Q1315.68 1560.15 1316.32 1560.15 Q1317.12 1560.15 1317.12 1560.8 Q1317.12 1561.35 1316.67 1562.5 Q1316.25 1563.63 1315.32 1565.11 Q1314.42 1566.56 1313.23 1567.88 Q1312.04 1569.17 1310.26 1570.07 Q1308.49 1570.97 1306.56 1570.97 Q1303.79 1570.97 1301.96 1569.49 Q1300.12 1568.01 1299.44 1565.95 Q1299.28 1566.24 1299.06 1566.63 Q1298.83 1567.01 1298.16 1567.88 Q1297.51 1568.72 1296.77 1569.36 Q1296.03 1569.98 1294.87 1570.46 Q1293.74 1570.97 1292.52 1570.97 Q1290.97 1570.97 1289.59 1570.52 Q1288.24 1570.07 1287.27 1569.04 Q1286.3 1568.01 1286.3 1566.59 Q1286.3 1565.02 1287.37 1563.92 Q1288.46 1562.79 1289.94 1562.79 Q1290.88 1562.79 1291.62 1563.34 Q1292.39 1563.89 1292.39 1565.08 Q1292.39 1566.4 1291.49 1567.4 Q1290.59 1568.4 1289.3 1568.66 Q1290.62 1569.49 1292.58 1569.49 Q1294.71 1569.49 1296.38 1567.63 Q1298.06 1565.76 1298.86 1562.63 Q1300.86 1555.13 1301.63 1551.78 Q1302.41 1548.4 1302.41 1546.95 Q1302.41 1545.6 1302.05 1544.66 Q1301.7 1543.73 1301.09 1543.31 Q1300.51 1542.86 1299.96 1542.7 Q1299.44 1542.54 1298.86 1542.54 Q1297.9 1542.54 1296.8 1542.92 Q1295.74 1543.31 1294.45 1544.21 Q1293.2 1545.08 1292 1546.88 Q1290.81 1548.69 1290.01 1551.17 Q1289.85 1551.91 1289.14 1551.91 Q1288.36 1551.88 1288.36 1551.23 Q1288.36 1550.69 1288.78 1549.56 Q1289.23 1548.4 1290.14 1546.95 Q1291.07 1545.5 1292.26 1544.21 Q1293.49 1542.89 1295.26 1541.99 Q1297.06 1541.09 1298.99 1541.09 Q1299.86 1541.09 1300.7 1541.28 Q1301.57 1541.44 1302.6 1541.93 Q1303.66 1542.41 1304.6 1543.47 Q1305.53 1544.53 1306.11 1546.08 Q1306.5 1545.34 1307.01 1544.63 Q1307.56 1543.92 1308.4 1543.05 Q1309.27 1542.15 1310.46 1541.64 Q1311.68 1541.09 1313.03 1541.09 Q1314.35 1541.09 1315.64 1541.44 Q1316.93 1541.76 1318.03 1542.83 Q1319.15 1543.86 1319.15 1545.44 Z\" fill=\"#000000\" fill-rule=\"evenodd\" fill-opacity=\"1\" /><polyline clip-path=\"url(#clip562)\" style=\"stroke:#000000; stroke-linecap:butt; stroke-linejoin:round; stroke-width:2; stroke-opacity:0.1; fill:none\" points=\"\n",
       "  257.204,1423.18 2352.76,1423.18 \n",
       "  \"/>\n",
       "<polyline clip-path=\"url(#clip562)\" style=\"stroke:#000000; stroke-linecap:butt; stroke-linejoin:round; stroke-width:2; stroke-opacity:0.1; fill:none\" points=\"\n",
       "  257.204,1093.93 2352.76,1093.93 \n",
       "  \"/>\n",
       "<polyline clip-path=\"url(#clip562)\" style=\"stroke:#000000; stroke-linecap:butt; stroke-linejoin:round; stroke-width:2; stroke-opacity:0.1; fill:none\" points=\"\n",
       "  257.204,764.686 2352.76,764.686 \n",
       "  \"/>\n",
       "<polyline clip-path=\"url(#clip562)\" style=\"stroke:#000000; stroke-linecap:butt; stroke-linejoin:round; stroke-width:2; stroke-opacity:0.1; fill:none\" points=\"\n",
       "  257.204,435.439 2352.76,435.439 \n",
       "  \"/>\n",
       "<polyline clip-path=\"url(#clip562)\" style=\"stroke:#000000; stroke-linecap:butt; stroke-linejoin:round; stroke-width:2; stroke-opacity:0.1; fill:none\" points=\"\n",
       "  257.204,106.192 2352.76,106.192 \n",
       "  \"/>\n",
       "<polyline clip-path=\"url(#clip560)\" style=\"stroke:#000000; stroke-linecap:butt; stroke-linejoin:round; stroke-width:4; stroke-opacity:1; fill:none\" points=\"\n",
       "  257.204,1423.18 257.204,106.192 \n",
       "  \"/>\n",
       "<polyline clip-path=\"url(#clip560)\" style=\"stroke:#000000; stroke-linecap:butt; stroke-linejoin:round; stroke-width:4; stroke-opacity:1; fill:none\" points=\"\n",
       "  257.204,1423.18 276.102,1423.18 \n",
       "  \"/>\n",
       "<polyline clip-path=\"url(#clip560)\" style=\"stroke:#000000; stroke-linecap:butt; stroke-linejoin:round; stroke-width:4; stroke-opacity:1; fill:none\" points=\"\n",
       "  257.204,1093.93 276.102,1093.93 \n",
       "  \"/>\n",
       "<polyline clip-path=\"url(#clip560)\" style=\"stroke:#000000; stroke-linecap:butt; stroke-linejoin:round; stroke-width:4; stroke-opacity:1; fill:none\" points=\"\n",
       "  257.204,764.686 276.102,764.686 \n",
       "  \"/>\n",
       "<polyline clip-path=\"url(#clip560)\" style=\"stroke:#000000; stroke-linecap:butt; stroke-linejoin:round; stroke-width:4; stroke-opacity:1; fill:none\" points=\"\n",
       "  257.204,435.439 276.102,435.439 \n",
       "  \"/>\n",
       "<polyline clip-path=\"url(#clip560)\" style=\"stroke:#000000; stroke-linecap:butt; stroke-linejoin:round; stroke-width:4; stroke-opacity:1; fill:none\" points=\"\n",
       "  257.204,106.192 276.102,106.192 \n",
       "  \"/>\n",
       "<path clip-path=\"url(#clip560)\" d=\"M114.26 1423.63 L143.936 1423.63 L143.936 1427.57 L114.26 1427.57 L114.26 1423.63 Z\" fill=\"#000000\" fill-rule=\"evenodd\" fill-opacity=\"1\" /><path clip-path=\"url(#clip560)\" d=\"M154.075 1405.9 L172.431 1405.9 L172.431 1409.84 L158.357 1409.84 L158.357 1418.31 Q159.376 1417.96 160.394 1417.8 Q161.413 1417.61 162.431 1417.61 Q168.218 1417.61 171.598 1420.78 Q174.977 1423.96 174.977 1429.37 Q174.977 1434.95 171.505 1438.05 Q168.033 1441.13 161.714 1441.13 Q159.538 1441.13 157.269 1440.76 Q155.024 1440.39 152.616 1439.65 L152.616 1434.95 Q154.7 1436.08 156.922 1436.64 Q159.144 1437.2 161.621 1437.2 Q165.626 1437.2 167.964 1435.09 Q170.302 1432.98 170.302 1429.37 Q170.302 1425.76 167.964 1423.65 Q165.626 1421.55 161.621 1421.55 Q159.746 1421.55 157.871 1421.96 Q156.019 1422.38 154.075 1423.26 L154.075 1405.9 Z\" fill=\"#000000\" fill-rule=\"evenodd\" fill-opacity=\"1\" /><path clip-path=\"url(#clip560)\" d=\"M184.19 1434.58 L189.075 1434.58 L189.075 1440.46 L184.19 1440.46 L184.19 1434.58 Z\" fill=\"#000000\" fill-rule=\"evenodd\" fill-opacity=\"1\" /><path clip-path=\"url(#clip560)\" d=\"M209.26 1408.98 Q205.649 1408.98 203.82 1412.54 Q202.014 1416.08 202.014 1423.21 Q202.014 1430.32 203.82 1433.89 Q205.649 1437.43 209.26 1437.43 Q212.894 1437.43 214.699 1433.89 Q216.528 1430.32 216.528 1423.21 Q216.528 1416.08 214.699 1412.54 Q212.894 1408.98 209.26 1408.98 M209.26 1405.27 Q215.07 1405.27 218.125 1409.88 Q221.204 1414.46 221.204 1423.21 Q221.204 1431.94 218.125 1436.55 Q215.07 1441.13 209.26 1441.13 Q203.449 1441.13 200.371 1436.55 Q197.315 1431.94 197.315 1423.21 Q197.315 1414.46 200.371 1409.88 Q203.449 1405.27 209.26 1405.27 Z\" fill=\"#000000\" fill-rule=\"evenodd\" fill-opacity=\"1\" /><path clip-path=\"url(#clip560)\" d=\"M115.256 1094.38 L144.931 1094.38 L144.931 1098.32 L115.256 1098.32 L115.256 1094.38 Z\" fill=\"#000000\" fill-rule=\"evenodd\" fill-opacity=\"1\" /><path clip-path=\"url(#clip560)\" d=\"M159.052 1107.28 L175.371 1107.28 L175.371 1111.21 L153.427 1111.21 L153.427 1107.28 Q156.089 1104.52 160.672 1099.89 Q165.278 1095.24 166.459 1093.9 Q168.704 1091.38 169.584 1089.64 Q170.487 1087.88 170.487 1086.19 Q170.487 1083.44 168.542 1081.7 Q166.621 1079.96 163.519 1079.96 Q161.32 1079.96 158.866 1080.73 Q156.436 1081.49 153.658 1083.04 L153.658 1078.32 Q156.482 1077.19 158.936 1076.61 Q161.39 1076.03 163.427 1076.03 Q168.797 1076.03 171.991 1078.71 Q175.186 1081.4 175.186 1085.89 Q175.186 1088.02 174.376 1089.94 Q173.589 1091.84 171.482 1094.43 Q170.903 1095.1 167.802 1098.32 Q164.7 1101.51 159.052 1107.28 Z\" fill=\"#000000\" fill-rule=\"evenodd\" fill-opacity=\"1\" /><path clip-path=\"url(#clip560)\" d=\"M185.186 1105.33 L190.07 1105.33 L190.07 1111.21 L185.186 1111.21 L185.186 1105.33 Z\" fill=\"#000000\" fill-rule=\"evenodd\" fill-opacity=\"1\" /><path clip-path=\"url(#clip560)\" d=\"M200.301 1076.65 L218.658 1076.65 L218.658 1080.59 L204.584 1080.59 L204.584 1089.06 Q205.602 1088.71 206.621 1088.55 Q207.639 1088.37 208.658 1088.37 Q214.445 1088.37 217.824 1091.54 Q221.204 1094.71 221.204 1100.13 Q221.204 1105.7 217.732 1108.81 Q214.26 1111.88 207.94 1111.88 Q205.764 1111.88 203.496 1111.51 Q201.25 1111.14 198.843 1110.4 L198.843 1105.7 Q200.926 1106.84 203.149 1107.39 Q205.371 1107.95 207.848 1107.95 Q211.852 1107.95 214.19 1105.84 Q216.528 1103.74 216.528 1100.13 Q216.528 1096.51 214.19 1094.41 Q211.852 1092.3 207.848 1092.3 Q205.973 1092.3 204.098 1092.72 Q202.246 1093.13 200.301 1094.01 L200.301 1076.65 Z\" fill=\"#000000\" fill-rule=\"evenodd\" fill-opacity=\"1\" /><path clip-path=\"url(#clip560)\" d=\"M164.028 750.485 Q160.417 750.485 158.589 754.049 Q156.783 757.591 156.783 764.721 Q156.783 771.827 158.589 775.392 Q160.417 778.934 164.028 778.934 Q167.663 778.934 169.468 775.392 Q171.297 771.827 171.297 764.721 Q171.297 757.591 169.468 754.049 Q167.663 750.485 164.028 750.485 M164.028 746.781 Q169.839 746.781 172.894 751.387 Q175.973 755.971 175.973 764.721 Q175.973 773.448 172.894 778.054 Q169.839 782.637 164.028 782.637 Q158.218 782.637 155.14 778.054 Q152.084 773.448 152.084 764.721 Q152.084 755.971 155.14 751.387 Q158.218 746.781 164.028 746.781 Z\" fill=\"#000000\" fill-rule=\"evenodd\" fill-opacity=\"1\" /><path clip-path=\"url(#clip560)\" d=\"M184.19 776.086 L189.075 776.086 L189.075 781.966 L184.19 781.966 L184.19 776.086 Z\" fill=\"#000000\" fill-rule=\"evenodd\" fill-opacity=\"1\" /><path clip-path=\"url(#clip560)\" d=\"M209.26 750.485 Q205.649 750.485 203.82 754.049 Q202.014 757.591 202.014 764.721 Q202.014 771.827 203.82 775.392 Q205.649 778.934 209.26 778.934 Q212.894 778.934 214.699 775.392 Q216.528 771.827 216.528 764.721 Q216.528 757.591 214.699 754.049 Q212.894 750.485 209.26 750.485 M209.26 746.781 Q215.07 746.781 218.125 751.387 Q221.204 755.971 221.204 764.721 Q221.204 773.448 218.125 778.054 Q215.07 782.637 209.26 782.637 Q203.449 782.637 200.371 778.054 Q197.315 773.448 197.315 764.721 Q197.315 755.971 200.371 751.387 Q203.449 746.781 209.26 746.781 Z\" fill=\"#000000\" fill-rule=\"evenodd\" fill-opacity=\"1\" /><path clip-path=\"url(#clip560)\" d=\"M159.052 448.784 L175.371 448.784 L175.371 452.719 L153.427 452.719 L153.427 448.784 Q156.089 446.029 160.672 441.4 Q165.278 436.747 166.459 435.404 Q168.704 432.881 169.584 431.145 Q170.487 429.386 170.487 427.696 Q170.487 424.941 168.542 423.205 Q166.621 421.469 163.519 421.469 Q161.32 421.469 158.866 422.233 Q156.436 422.997 153.658 424.548 L153.658 419.826 Q156.482 418.691 158.936 418.113 Q161.39 417.534 163.427 417.534 Q168.797 417.534 171.991 420.219 Q175.186 422.904 175.186 427.395 Q175.186 429.525 174.376 431.446 Q173.589 433.344 171.482 435.937 Q170.903 436.608 167.802 439.826 Q164.7 443.02 159.052 448.784 Z\" fill=\"#000000\" fill-rule=\"evenodd\" fill-opacity=\"1\" /><path clip-path=\"url(#clip560)\" d=\"M185.186 446.839 L190.07 446.839 L190.07 452.719 L185.186 452.719 L185.186 446.839 Z\" fill=\"#000000\" fill-rule=\"evenodd\" fill-opacity=\"1\" /><path clip-path=\"url(#clip560)\" d=\"M200.301 418.159 L218.658 418.159 L218.658 422.094 L204.584 422.094 L204.584 430.566 Q205.602 430.219 206.621 430.057 Q207.639 429.872 208.658 429.872 Q214.445 429.872 217.824 433.043 Q221.204 436.215 221.204 441.631 Q221.204 447.21 217.732 450.312 Q214.26 453.39 207.94 453.39 Q205.764 453.39 203.496 453.02 Q201.25 452.65 198.843 451.909 L198.843 447.21 Q200.926 448.344 203.149 448.9 Q205.371 449.455 207.848 449.455 Q211.852 449.455 214.19 447.349 Q216.528 445.242 216.528 441.631 Q216.528 438.02 214.19 435.914 Q211.852 433.807 207.848 433.807 Q205.973 433.807 204.098 434.224 Q202.246 434.64 200.301 435.52 L200.301 418.159 Z\" fill=\"#000000\" fill-rule=\"evenodd\" fill-opacity=\"1\" /><path clip-path=\"url(#clip560)\" d=\"M154.075 88.9121 L172.431 88.9121 L172.431 92.8473 L158.357 92.8473 L158.357 101.319 Q159.376 100.972 160.394 100.81 Q161.413 100.625 162.431 100.625 Q168.218 100.625 171.598 103.796 Q174.977 106.968 174.977 112.384 Q174.977 117.963 171.505 121.065 Q168.033 124.143 161.714 124.143 Q159.538 124.143 157.269 123.773 Q155.024 123.403 152.616 122.662 L152.616 117.963 Q154.7 119.097 156.922 119.653 Q159.144 120.208 161.621 120.208 Q165.626 120.208 167.964 118.102 Q170.302 115.995 170.302 112.384 Q170.302 108.773 167.964 106.667 Q165.626 104.56 161.621 104.56 Q159.746 104.56 157.871 104.977 Q156.019 105.394 154.075 106.273 L154.075 88.9121 Z\" fill=\"#000000\" fill-rule=\"evenodd\" fill-opacity=\"1\" /><path clip-path=\"url(#clip560)\" d=\"M184.19 117.593 L189.075 117.593 L189.075 123.472 L184.19 123.472 L184.19 117.593 Z\" fill=\"#000000\" fill-rule=\"evenodd\" fill-opacity=\"1\" /><path clip-path=\"url(#clip560)\" d=\"M209.26 91.9908 Q205.649 91.9908 203.82 95.5556 Q202.014 99.0973 202.014 106.227 Q202.014 113.333 203.82 116.898 Q205.649 120.44 209.26 120.44 Q212.894 120.44 214.699 116.898 Q216.528 113.333 216.528 106.227 Q216.528 99.0973 214.699 95.5556 Q212.894 91.9908 209.26 91.9908 M209.26 88.2871 Q215.07 88.2871 218.125 92.8936 Q221.204 97.4769 221.204 106.227 Q221.204 114.954 218.125 119.56 Q215.07 124.143 209.26 124.143 Q203.449 124.143 200.371 119.56 Q197.315 114.954 197.315 106.227 Q197.315 97.4769 200.371 92.8936 Q203.449 88.2871 209.26 88.2871 Z\" fill=\"#000000\" fill-rule=\"evenodd\" fill-opacity=\"1\" /><path clip-path=\"url(#clip560)\" d=\"M26.4959 795.105 Q28.2672 795.105 29.3622 796.232 Q30.4572 797.327 30.4572 798.712 Q30.4572 799.71 29.8453 800.451 Q29.2334 801.16 28.1706 801.16 Q27.0756 801.16 25.9162 800.322 Q24.7567 799.485 24.5957 797.585 Q23.4041 798.841 23.4041 800.838 Q23.4041 801.836 24.0482 802.673 Q24.6601 803.478 25.6585 803.929 Q26.6891 804.412 32.5184 805.507 Q34.4185 805.862 36.2542 806.184 Q38.09 806.506 40.0223 806.892 L40.0223 801.417 Q40.0223 800.709 40.0545 800.419 Q40.0867 800.129 40.2478 799.904 Q40.4088 799.646 40.7631 799.646 Q41.6648 799.646 41.8903 800.065 Q42.0835 800.451 42.0835 801.61 L42.0835 807.279 L62.9851 811.24 Q63.597 811.337 65.5294 811.755 Q67.4295 812.142 70.5535 813.076 Q73.7097 814.01 75.5776 814.944 Q76.6404 815.459 77.6388 816.135 Q78.6694 816.779 79.6999 817.713 Q80.7305 818.647 81.3424 819.871 Q81.9866 821.095 81.9866 822.383 Q81.9866 824.573 80.7627 826.28 Q79.5389 827.987 77.4455 827.987 Q75.6742 827.987 74.5792 826.892 Q73.4842 825.765 73.4842 824.38 Q73.4842 823.382 74.0961 822.673 Q74.708 821.932 75.7708 821.932 Q76.2217 821.932 76.737 822.093 Q77.2523 822.254 77.832 822.609 Q78.4439 822.963 78.8626 823.736 Q79.2813 824.509 79.3457 825.572 Q80.5373 824.316 80.5373 822.383 Q80.5373 821.771 80.2796 821.224 Q80.0542 820.676 79.4745 820.225 Q78.8948 819.742 78.3151 819.388 Q77.7676 819.034 76.7048 818.68 Q75.6742 818.325 74.9013 818.1 Q74.1283 817.874 72.7435 817.585 Q71.3586 817.263 70.5213 817.101 Q69.7161 816.94 68.138 816.651 L42.0835 811.723 L42.0835 816.071 Q42.0835 816.844 42.0513 817.166 Q42.0191 817.456 41.8581 817.681 Q41.6648 817.907 41.2783 817.907 Q40.6664 817.907 40.4088 817.649 Q40.1189 817.359 40.0867 817.037 Q40.0223 816.715 40.0223 815.942 L40.0223 811.369 Q31.8742 809.823 29.6842 809.211 Q27.3654 808.503 25.7551 807.408 Q24.1126 806.313 23.3397 805.089 Q22.5667 803.865 22.2769 802.866 Q21.9548 801.836 21.9548 800.838 Q21.9548 798.583 23.1787 796.844 Q24.3703 795.105 26.4959 795.105 Z\" fill=\"#000000\" fill-rule=\"evenodd\" fill-opacity=\"1\" /><path clip-path=\"url(#clip560)\" d=\"M51.9707 786.225 Q40.8275 786.225 31.842 782.07 Q28.0739 780.299 24.9178 777.819 Q21.7616 775.339 20.3767 773.697 Q18.9919 772.054 18.9919 771.603 Q18.9919 770.959 19.636 770.927 Q19.9581 770.927 20.7632 771.797 Q31.5844 782.425 51.9707 782.392 Q72.4214 782.392 82.8239 772.054 Q83.9511 770.927 84.3054 770.927 Q84.9495 770.927 84.9495 771.603 Q84.9495 772.054 83.6291 773.632 Q82.3086 775.21 79.2813 777.658 Q76.2539 780.106 72.5502 781.877 Q63.5648 786.225 51.9707 786.225 Z\" fill=\"#000000\" fill-rule=\"evenodd\" fill-opacity=\"1\" /><path clip-path=\"url(#clip560)\" d=\"M43.6616 733.063 Q45.4651 733.063 46.4957 734.191 Q47.4941 735.318 47.4941 736.606 Q47.4941 737.83 46.7856 738.474 Q46.077 739.118 45.1753 739.118 Q43.9514 739.118 42.8886 738.216 Q41.8258 737.315 41.6004 735.962 Q40.7631 737.282 40.7631 739.247 Q40.7631 740.535 41.4394 741.662 Q42.1157 742.757 42.9853 743.434 Q43.8548 744.078 45.1108 744.658 Q46.3347 745.205 47.0754 745.431 Q47.7839 745.624 48.5569 745.785 L57.5745 748.039 Q61.8579 749.134 63.3716 749.134 Q65.2395 749.134 66.4955 748.232 Q67.7194 747.331 67.7194 745.527 Q67.7194 744.819 67.5261 744.013 Q67.3007 743.208 66.721 742.178 Q66.1091 741.115 65.2073 740.181 Q64.2733 739.215 62.6952 738.281 Q61.1172 737.347 59.0882 736.735 Q58.3797 736.542 58.3797 735.898 Q58.3797 735.092 59.0238 735.092 Q59.5713 735.092 60.7307 735.543 Q61.8579 735.962 63.3394 736.896 Q64.7886 737.798 66.1091 738.989 Q67.3973 740.181 68.2991 741.952 Q69.2008 743.724 69.2008 745.656 Q69.2008 748.426 67.7194 750.261 Q66.2379 752.097 64.1767 752.773 Q64.4666 752.934 64.853 753.16 Q65.2395 753.385 66.1091 754.062 Q66.9464 754.706 67.5905 755.447 Q68.2024 756.187 68.6855 757.347 Q69.2008 758.474 69.2008 759.698 Q69.2008 761.244 68.7499 762.628 Q68.2991 763.981 67.2685 764.947 Q66.2379 765.913 64.8208 765.913 Q63.2427 765.913 62.1477 764.851 Q61.0205 763.756 61.0205 762.274 Q61.0205 761.34 61.568 760.599 Q62.1155 759.827 63.3072 759.827 Q64.6276 759.827 65.626 760.728 Q66.6244 761.63 66.882 762.918 Q67.7194 761.598 67.7194 759.633 Q67.7194 757.508 65.8514 755.833 Q63.9835 754.158 60.8595 753.353 Q53.3555 751.356 50.0061 750.583 Q46.6245 749.811 45.1753 749.811 Q43.8226 749.811 42.8886 750.165 Q41.9547 750.519 41.536 751.131 Q41.0851 751.711 40.9241 752.258 Q40.7631 752.773 40.7631 753.353 Q40.7631 754.319 41.1495 755.414 Q41.536 756.477 42.4378 757.765 Q43.3073 759.021 45.1108 760.213 Q46.9144 761.405 49.3942 762.21 Q50.135 762.371 50.135 763.079 Q50.1028 763.852 49.4586 763.852 Q48.9111 763.852 47.7839 763.434 Q46.6245 762.983 45.1753 762.081 Q43.726 761.147 42.4378 759.955 Q41.1173 758.732 40.2156 756.96 Q39.3138 755.157 39.3138 753.224 Q39.3138 752.355 39.507 751.517 Q39.6681 750.648 40.1511 749.617 Q40.6342 748.554 41.697 747.621 Q42.7598 746.687 44.3057 746.107 Q43.565 745.72 42.8564 745.205 Q42.1479 744.658 41.2783 743.82 Q40.3766 742.951 39.8613 741.759 Q39.3138 740.535 39.3138 739.183 Q39.3138 737.862 39.6681 736.574 Q39.9901 735.286 41.0529 734.191 Q42.0835 733.063 43.6616 733.063 Z\" fill=\"#000000\" fill-rule=\"evenodd\" fill-opacity=\"1\" /><path clip-path=\"url(#clip560)\" d=\"M84.3054 726.712 Q83.9833 726.712 83.1782 725.875 Q72.357 715.247 51.9707 715.247 Q31.52 715.247 21.1819 725.456 Q19.9903 726.712 19.636 726.712 Q18.9919 726.712 18.9919 726.068 Q18.9919 725.617 20.3123 724.039 Q21.6328 722.429 24.6601 720.014 Q27.6875 717.566 31.3911 715.762 Q40.3766 711.415 51.9707 711.415 Q63.1139 711.415 72.0994 715.569 Q75.8674 717.34 79.0236 719.82 Q82.1798 722.3 83.5646 723.943 Q84.9495 725.585 84.9495 726.068 Q84.9495 726.712 84.3054 726.712 Z\" fill=\"#000000\" fill-rule=\"evenodd\" fill-opacity=\"1\" /><path clip-path=\"url(#clip560)\" d=\"M1261.95 31.5855 Q1263.83 32.222 1265.6 34.3054 Q1267.39 36.3887 1269.19 40.0345 L1275.12 51.84 L1268.84 51.84 L1263.31 40.7579 Q1261.17 36.4176 1259.15 34.9998 Q1257.15 33.582 1253.68 33.582 L1247.31 33.582 L1247.31 51.84 L1241.47 51.84 L1241.47 8.64 L1254.66 8.64 Q1262.07 8.64 1265.72 11.736 Q1269.36 14.8321 1269.36 21.0821 Q1269.36 25.1619 1267.45 27.8529 Q1265.57 30.5438 1261.95 31.5855 M1247.31 13.4432 L1247.31 28.7788 L1254.66 28.7788 Q1258.89 28.7788 1261.03 26.8401 Q1263.2 24.8726 1263.2 21.0821 Q1263.2 17.2916 1261.03 15.3819 Q1258.89 13.4432 1254.66 13.4432 L1247.31 13.4432 Z\" fill=\"#000000\" fill-rule=\"evenodd\" fill-opacity=\"1\" /><path clip-path=\"url(#clip560)\" d=\"M1292.31 23.1654 Q1288.02 23.1654 1285.54 26.5218 Q1283.05 29.8494 1283.05 35.6653 Q1283.05 41.4813 1285.51 44.8377 Q1288 48.1653 1292.31 48.1653 Q1296.56 48.1653 1299.05 44.8088 Q1301.54 41.4523 1301.54 35.6653 Q1301.54 29.9072 1299.05 26.5508 Q1296.56 23.1654 1292.31 23.1654 M1292.31 18.6515 Q1299.25 18.6515 1303.21 23.1654 Q1307.18 27.6792 1307.18 35.6653 Q1307.18 43.6225 1303.21 48.1653 Q1299.25 52.6791 1292.31 52.6791 Q1285.33 52.6791 1281.37 48.1653 Q1277.43 43.6225 1277.43 35.6653 Q1277.43 27.6792 1281.37 23.1654 Q1285.33 18.6515 1292.31 18.6515 Z\" fill=\"#000000\" fill-rule=\"evenodd\" fill-opacity=\"1\" /><path clip-path=\"url(#clip560)\" d=\"M1328.56 23.1654 Q1324.28 23.1654 1321.79 26.5218 Q1319.3 29.8494 1319.3 35.6653 Q1319.3 41.4813 1321.76 44.8377 Q1324.25 48.1653 1328.56 48.1653 Q1332.82 48.1653 1335.3 44.8088 Q1337.79 41.4523 1337.79 35.6653 Q1337.79 29.9072 1335.3 26.5508 Q1332.82 23.1654 1328.56 23.1654 M1328.56 18.6515 Q1335.51 18.6515 1339.47 23.1654 Q1343.43 27.6792 1343.43 35.6653 Q1343.43 43.6225 1339.47 48.1653 Q1335.51 52.6791 1328.56 52.6791 Q1321.59 52.6791 1317.62 48.1653 Q1313.69 43.6225 1313.69 35.6653 Q1313.69 27.6792 1317.62 23.1654 Q1321.59 18.6515 1328.56 18.6515 Z\" fill=\"#000000\" fill-rule=\"evenodd\" fill-opacity=\"1\" /><path clip-path=\"url(#clip560)\" d=\"M1357.53 10.2314 L1357.53 19.4328 L1368.49 19.4328 L1368.49 23.5705 L1357.53 23.5705 L1357.53 41.163 Q1357.53 45.1271 1358.6 46.2555 Q1359.7 47.384 1363.02 47.384 L1368.49 47.384 L1368.49 51.84 L1363.02 51.84 Q1356.86 51.84 1354.52 49.5541 Q1352.17 47.2393 1352.17 41.163 L1352.17 23.5705 L1348.27 23.5705 L1348.27 19.4328 L1352.17 19.4328 L1352.17 10.2314 L1357.53 10.2314 Z\" fill=\"#000000\" fill-rule=\"evenodd\" fill-opacity=\"1\" /><polyline clip-path=\"url(#clip562)\" style=\"stroke:#dc143c; stroke-linecap:butt; stroke-linejoin:round; stroke-width:4; stroke-opacity:1; fill:none\" points=\"\n",
       "  -7426.49,-27332.6 -7141.38,-22295 -6856.27,-18096.4 -6571.17,-14594.3 -6286.04,-11674 -6000.94,-9243.54 -5715.83,-7228.56 -5430.72,-5568.55 -5145.62,-4213.73 -4860.51,-3122.46 \n",
       "  -4575.39,-2259.22 -4290.28,-1593.05 -4005.18,-1096.31 -3720.07,-743.818 -3434.96,-512.313 -3149.86,-380.145 -2864.74,-327.132 -2579.63,-334.514 -2294.52,-384.835 -2009.41,-461.686 \n",
       "  -1724.3,-549.32 -1439.2,-632.335 -1154.09,-695.735 -868.976,-725.71 -583.868,-710.814 -298.758,-643.503 -13.6502,-520.961 271.459,-345.008 556.569,-120.95 841.677,144.083 \n",
       "  1126.79,442.717 1411.9,768.369 1697,1115.69 1982.11,1480.68 2267.23,1860.83 2552.34,2255.48 2837.44,2666.48 3122.55,3099.01 3407.66,3562.64 3692.76,4072.31 \n",
       "  3977.88,4649.55 4262.99,5323.57 4548.1,6132.64 4833.2,7125.57 5118.31,8363.44 5403.42,9921.71 5688.54,11892.7 5973.65,14388.8 6258.75,17546.3 6543.86,21529.8 \n",
       "  \n",
       "  \"/>\n",
       "<polyline clip-path=\"url(#clip562)\" style=\"stroke:#000000; stroke-linecap:butt; stroke-linejoin:round; stroke-width:4; stroke-opacity:0.5; fill:none\" points=\"\n",
       "  -1838.35,764.686 4448.31,764.686 \n",
       "  \"/>\n",
       "<circle clip-path=\"url(#clip562)\" cx=\"841.677\" cy=\"144.083\" r=\"14\" fill=\"#000000\" fill-rule=\"evenodd\" fill-opacity=\"1\" stroke=\"none\"/>\n",
       "<circle clip-path=\"url(#clip562)\" cx=\"1126.79\" cy=\"442.717\" r=\"14\" fill=\"#000000\" fill-rule=\"evenodd\" fill-opacity=\"1\" stroke=\"none\"/>\n",
       "<circle clip-path=\"url(#clip562)\" cx=\"1411.9\" cy=\"768.369\" r=\"14\" fill=\"#000000\" fill-rule=\"evenodd\" fill-opacity=\"1\" stroke=\"none\"/>\n",
       "<circle clip-path=\"url(#clip562)\" cx=\"1697\" cy=\"1115.69\" r=\"14\" fill=\"#000000\" fill-rule=\"evenodd\" fill-opacity=\"1\" stroke=\"none\"/>\n",
       "<path clip-path=\"url(#clip562)\" d=\"M1408.77 724.686 L1399.37 751.726 L1370.73 752.326 L1393.57 769.646 L1385.25 797.046 L1408.77 780.686 L1432.29 797.046 L1423.97 769.646 L1446.81 752.326 L1418.17 751.726 L1408.77 724.686 Z\" fill=\"#0000ff\" fill-rule=\"evenodd\" fill-opacity=\"1\" stroke=\"#000000\" stroke-opacity=\"1\" stroke-width=\"3.2\"/>\n",
       "<path clip-path=\"url(#clip560)\" d=\"\n",
       "M1960.46 253.772 L2282.9 253.772 L2282.9 150.092 L1960.46 150.092  Z\n",
       "  \" fill=\"#ffffff\" fill-rule=\"evenodd\" fill-opacity=\"1\"/>\n",
       "<polyline clip-path=\"url(#clip560)\" style=\"stroke:#000000; stroke-linecap:butt; stroke-linejoin:round; stroke-width:4; stroke-opacity:1; fill:none\" points=\"\n",
       "  1960.46,253.772 2282.9,253.772 2282.9,150.092 1960.46,150.092 1960.46,253.772 \n",
       "  \"/>\n",
       "<path clip-path=\"url(#clip560)\" d=\"M2053.59 176.332 L2047.58 193.637 L2029.25 194.021 L2043.87 205.106 L2038.54 222.642 L2053.59 212.172 L2068.65 222.642 L2063.32 205.106 L2077.94 194.021 L2059.61 193.637 L2053.59 176.332 Z\" fill=\"#0000ff\" fill-rule=\"evenodd\" fill-opacity=\"1\" stroke=\"#000000\" stroke-opacity=\"1\" stroke-width=\"2.048\"/>\n",
       "<path clip-path=\"url(#clip560)\" d=\"M2161.92 197.267 Q2161.2 196.851 2160.34 196.666 Q2159.51 196.457 2158.49 196.457 Q2154.88 196.457 2152.93 198.818 Q2151.01 201.156 2151.01 205.554 L2151.01 219.212 L2146.73 219.212 L2146.73 193.286 L2151.01 193.286 L2151.01 197.314 Q2152.36 194.953 2154.51 193.818 Q2156.66 192.661 2159.74 192.661 Q2160.18 192.661 2160.71 192.73 Q2161.24 192.777 2161.89 192.892 L2161.92 197.267 Z\" fill=\"#000000\" fill-rule=\"evenodd\" fill-opacity=\"1\" /><path clip-path=\"url(#clip560)\" d=\"M2175.39 196.272 Q2171.96 196.272 2169.97 198.957 Q2167.98 201.619 2167.98 206.272 Q2167.98 210.925 2169.95 213.61 Q2171.94 216.272 2175.39 216.272 Q2178.79 216.272 2180.78 213.587 Q2182.77 210.902 2182.77 206.272 Q2182.77 201.666 2180.78 198.98 Q2178.79 196.272 2175.39 196.272 M2175.39 192.661 Q2180.94 192.661 2184.11 196.272 Q2187.29 199.883 2187.29 206.272 Q2187.29 212.638 2184.11 216.272 Q2180.94 219.883 2175.39 219.883 Q2169.81 219.883 2166.64 216.272 Q2163.49 212.638 2163.49 206.272 Q2163.49 199.883 2166.64 196.272 Q2169.81 192.661 2175.39 192.661 Z\" fill=\"#000000\" fill-rule=\"evenodd\" fill-opacity=\"1\" /><path clip-path=\"url(#clip560)\" d=\"M2204.39 196.272 Q2200.97 196.272 2198.98 198.957 Q2196.98 201.619 2196.98 206.272 Q2196.98 210.925 2198.95 213.61 Q2200.94 216.272 2204.39 216.272 Q2207.79 216.272 2209.79 213.587 Q2211.78 210.902 2211.78 206.272 Q2211.78 201.666 2209.79 198.98 Q2207.79 196.272 2204.39 196.272 M2204.39 192.661 Q2209.95 192.661 2213.12 196.272 Q2216.29 199.883 2216.29 206.272 Q2216.29 212.638 2213.12 216.272 Q2209.95 219.883 2204.39 219.883 Q2198.81 219.883 2195.64 216.272 Q2192.49 212.638 2192.49 206.272 Q2192.49 199.883 2195.64 196.272 Q2198.81 192.661 2204.39 192.661 Z\" fill=\"#000000\" fill-rule=\"evenodd\" fill-opacity=\"1\" /><path clip-path=\"url(#clip560)\" d=\"M2227.56 185.925 L2227.56 193.286 L2236.34 193.286 L2236.34 196.596 L2227.56 196.596 L2227.56 210.67 Q2227.56 213.841 2228.42 214.744 Q2229.3 215.647 2231.96 215.647 L2236.34 215.647 L2236.34 219.212 L2231.96 219.212 Q2227.03 219.212 2225.16 217.383 Q2223.28 215.531 2223.28 210.67 L2223.28 196.596 L2220.16 196.596 L2220.16 193.286 L2223.28 193.286 L2223.28 185.925 L2227.56 185.925 Z\" fill=\"#000000\" fill-rule=\"evenodd\" fill-opacity=\"1\" /></svg>\n"
      ]
     },
     "execution_count": 32,
     "metadata": {},
     "output_type": "execute_result"
    }
   ],
   "source": [
    "plot(x, y, color=\"crimson\", label=false, xlabel=L\"$x$\", ylabel=L\"$f(x)$\"\n",
    "     , xlim=(0.5,2), ylim=(-5,5), title=\"Root\", titlefontsize=10)\n",
    "hline!([0], color=\"black\", alpha=0.5, label=false)\n",
    "scatter!(x, y, color=\"black\", label=false)\n",
    "scatter!([root], [p2(root)], color=\"blue\", shape=:star5, markersize=10, label=\"root\")\n",
    "\n",
    "\n"
   ]
  },
  {
   "cell_type": "markdown",
   "metadata": {
    "id": "qWkcqJ2sJCtl"
   },
   "source": [
    "---\n",
    "## Bisection Method\n",
    "\n",
    "The bisection method is based on the intermediate value theorem, which states that a continuous function $f(x)$ must have at least one root in the interval $[x_a,x_b]$ if $f(x_a)$ and\n",
    "$f(x_b)$ have opposite signs.\n",
    "\n",
    "In this way, the bisection method is implemented in the following way,\n",
    "\n",
    "1. Two initial values ​​$x_a$ and $x_b$ are chosen such that $f(x_a)$ and $f(x_b)$ have opposite signs.\n",
    "\n",
    "2. Calculate the midpoint $x_c = \\frac{x_a+x_b}{2}$ and the value of the function there, $f(x_c)$.\n",
    "\n",
    "3. If $f(x_c) = 0$ or\n",
    "  $\\left| \\frac{f(x_c) - f(x_a)}{f(x_a)} \\right| < \\epsilon$ or $\\left| \\frac{f(x_c) - f(x_b)}{f(x_b)} \\right| <\n",
    "  \\epsilon$, the root has been found.\n",
    "  \n",
    "  If this is not the case, then:\n",
    "    * if $f(x_a)$ and $f(x_c)$ have opposite signs, then they enclose the root. We return to point (2) with $x_a=x_a$ and $x_b=x_c$.\n",
    "      \n",
    "    * If $f(x_c)$ and $f(x_b)$ have opposite signs, then they enclose the root. We return to point (2) with $x_a=x_c$ and $x_b=x_b$.\n",
    "  \n",
    "\n",
    "Although the bisection method is very robust and efficient, it is generally not as fast as Newton's method because it requires more iterations to find the root.\n",
    "\n",
    "\n",
    "#### Example. Roots of a discrete function with the bisection method."
   ]
  },
  {
   "cell_type": "markdown",
   "metadata": {
    "id": "vZ5Hjz6_JCto"
   },
   "source": [
    "Ahora, interpolamos el polinomio cuadrático y utilizamos el método de la bisección para encontrar la raíz."
   ]
  },
  {
   "cell_type": "code",
   "execution_count": 33,
   "metadata": {},
   "outputs": [
    {
     "name": "stdout",
     "output_type": "stream",
     "text": [
      "The root is x_r = 1.32429525for which the interpolated function is f(x_r) =  7.09501902e-16"
     ]
    }
   ],
   "source": [
    "# 2-order Interpolated Polynomial \n",
    "function p2(x)\n",
    "    pol = ((((x-x_int[2])*(x-x_int[3]))/((x_int[1]-x_int[2])*(x_int[1]-x_int[3])))*y_int[1] \n",
    "         +(((x-x_int[1])*(x-x_int[3]))/((x_int[2]-x_int[1])*(x_int[2]-x_int[3])))*y_int[2] \n",
    "         +(((x-x_int[1])*(x-x_int[2]))/((x_int[3]-x_int[1])*(x_int[3]-x_int[2])))*y_int[3]\n",
    "          )\n",
    "    return pol\n",
    "end\n",
    "\n",
    "\n",
    "# Bisection Method. \n",
    "# We begin with the values at the points x_data[a] and x_data[a+2]\n",
    "x_a = x[a]\n",
    "x_b = x[a+2]\n",
    "x_c = (x_a + x_b)/2.\n",
    "\n",
    "while abs(p2(x_c)) > 1e-15\n",
    "    x_c = (x_a + x_b)/2.\n",
    "    if p2(x_a)*p2(x_c) < 0\n",
    "        x_b = x_c\n",
    "    else\n",
    "        x_a = x_c\n",
    "    end\n",
    "end\n",
    "\n",
    "root = x_c\n",
    "\n",
    "\n",
    "@printf \"The root is x_r = %.8f\" root\n",
    "@printf \"for which the interpolated function is f(x_r) =  %.8e\" p2(root)\n"
   ]
  },
  {
   "cell_type": "code",
   "execution_count": null,
   "metadata": {
    "id": "2MbdeVvlJCtp"
   },
   "outputs": [],
   "source": []
  }
 ],
 "metadata": {
  "@webio": {
   "lastCommId": null,
   "lastKernelId": null
  },
  "colab": {
   "collapsed_sections": [],
   "name": "Roots01.ipynb",
   "provenance": []
  },
  "kernelspec": {
   "display_name": "Julia 1.7.2",
   "language": "julia",
   "name": "julia-1.7"
  },
  "language_info": {
   "file_extension": ".jl",
   "mimetype": "application/julia",
   "name": "julia",
   "version": "1.7.2"
  }
 },
 "nbformat": 4,
 "nbformat_minor": 1
}
