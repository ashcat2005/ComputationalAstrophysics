{
 "cells": [
  {
   "cell_type": "markdown",
   "metadata": {
    "id": "NgGr6lO24Kw7"
   },
   "source": [
    "![Astrofisica Computacional](../../logo.PNG)"
   ]
  },
  {
   "cell_type": "markdown",
   "metadata": {},
   "source": [
    "---\n",
    "## 01. Error Analysis\n",
    "\n",
    "\n",
    "Eduard Larrañaga (ealarranaga@unal.edu.co)\n",
    "\n",
    "---"
   ]
  },
  {
   "cell_type": "markdown",
   "metadata": {
    "id": "IXMtRwwg4Kw8"
   },
   "source": [
    "### Abstract\n",
    "\n",
    "\n",
    "This notebook presents some fundamental concepts of error analysis and stability.\n",
    "\n",
    "---"
   ]
  },
  {
   "cell_type": "markdown",
   "metadata": {
    "id": "6MsfOTJP4Kw8"
   },
   "source": [
    "Various sources of error appear in numerical calculations. Some of them are:\n",
    "\n",
    "**Experimental uncertainty** : The experimental data is limited by the precision of the measuring devices. Therefore it is usual to represent the experimental quantities with the format $x \\pm \\Delta x$ where $\\Delta x$ corresponds to the uncertainty in the measurements.\\\n",
    "When experimental quantities or data are used in numerical algorithms, uncertainties can lead to large final errors.\n",
    "\n",
    "**Rounding Errors (Floating Point Numbers)** : The computational representation of a number is always limited by the memory allocated to its representation. Therefore, a rounding error is inherent in any quantity stored in a computer and this fact can lead to an accumulation that eventually leads to a large error if not controlled by the algorithm.\n",
    "\n",
    "**Truncation Errors** : When a function is represented in the computer, such as a square root, an exponential, a logarithm, etc., using series expansions, the truncation of the series or the iterations of the algorithm induce a error that can accumulate at each step.\n",
    "\n",
    "Below we will illustrate the existence of these sources of error with some specific examples."
   ]
  },
  {
   "cell_type": "markdown",
   "metadata": {
    "id": "PI9r80dX4Kw9"
   },
   "source": [
    "---\n",
    "### Rounding Errors (Floating Point Numbers)\n",
    "\n",
    "First, we will define a floating point number,"
   ]
  },
  {
   "cell_type": "code",
   "execution_count": 1,
   "metadata": {
    "colab": {
     "base_uri": "https://localhost:8080/"
    },
    "executionInfo": {
     "elapsed": 551,
     "status": "ok",
     "timestamp": 1618613627388,
     "user": {
      "displayName": "Eduard Alexis Larranaga",
      "photoUrl": "https://lh3.googleusercontent.com/a-/AOh14GgCVABzEgj-rCdyxWa29RnA0kIYUCXAaVbnRYOEhQ=s64",
      "userId": "04402438389940282602"
     },
     "user_tz": 300
    },
    "id": "DgDigz_f4Kw9",
    "outputId": "ebac9517-b206-429b-af1a-05d95caa4343"
   },
   "outputs": [
    {
     "data": {
      "text/plain": [
       "3.1416"
      ]
     },
     "execution_count": 1,
     "metadata": {},
     "output_type": "execute_result"
    }
   ],
   "source": [
    "x = 3.1416\n",
    "x"
   ]
  },
  {
   "cell_type": "markdown",
   "metadata": {
    "id": "W7c9sX8R4Kw9"
   },
   "source": [
    "If this number is shown on the screen, with a precision of 20 decimal places, an error induced by the representation made by the computer can be observed. This error is inherent in the finite number of bits used to store the floating point number."
   ]
  },
  {
   "cell_type": "code",
   "execution_count": 4,
   "metadata": {
    "colab": {
     "base_uri": "https://localhost:8080/"
    },
    "executionInfo": {
     "elapsed": 670,
     "status": "ok",
     "timestamp": 1618613630416,
     "user": {
      "displayName": "Eduard Alexis Larranaga",
      "photoUrl": "https://lh3.googleusercontent.com/a-/AOh14GgCVABzEgj-rCdyxWa29RnA0kIYUCXAaVbnRYOEhQ=s64",
      "userId": "04402438389940282602"
     },
     "user_tz": 300
    },
    "id": "PNIC-GV24Kw9",
    "outputId": "9bca8102-5f87-4be1-98c5-dc320e3830b1"
   },
   "outputs": [
    {
     "name": "stdout",
     "output_type": "stream",
     "text": [
      "3.14159999999999994813"
     ]
    }
   ],
   "source": [
    "using Printf\n",
    "\n",
    "@printf \"%.20f\" x"
   ]
  },
  {
   "cell_type": "markdown",
   "metadata": {
    "id": "m7laERy44Kw9"
   },
   "source": [
    "Thus, adding a small number to $x$ results in something unexpected:"
   ]
  },
  {
   "cell_type": "code",
   "execution_count": 5,
   "metadata": {
    "colab": {
     "base_uri": "https://localhost:8080/"
    },
    "executionInfo": {
     "elapsed": 433,
     "status": "ok",
     "timestamp": 1618613633509,
     "user": {
      "displayName": "Eduard Alexis Larranaga",
      "photoUrl": "https://lh3.googleusercontent.com/a-/AOh14GgCVABzEgj-rCdyxWa29RnA0kIYUCXAaVbnRYOEhQ=s64",
      "userId": "04402438389940282602"
     },
     "user_tz": 300
    },
    "id": "MgDOo2ez4Kw-",
    "outputId": "50223361-d357-489c-f9a6-46a48fa7c630"
   },
   "outputs": [
    {
     "name": "stdout",
     "output_type": "stream",
     "text": [
      "3.14159999999999994813"
     ]
    }
   ],
   "source": [
    "y = x + 0.0000000000000001\n",
    "@printf \"%.20f\" y"
   ]
  },
  {
   "cell_type": "markdown",
   "metadata": {
    "id": "LGHWVnCb4Kw-"
   },
   "source": [
    "#### Machine Epsilon\n",
    "\n",
    "The quantity called **machine epsilon** corresponds to the minimum value $\\epsilon$ for which the machine assumes that $1. + \\epsilon= 1$. Mathematically we define it by saying that\n",
    "\n",
    "$\\epsilon = \\min \\left[ \\delta >0 |: 1 +\\delta >1 \\right] $\n",
    "\n",
    "This quantity defines the precision of the machine to represent floating point numbers and to perform calculations with them."
   ]
  },
  {
   "cell_type": "code",
   "execution_count": 6,
   "metadata": {
    "colab": {
     "base_uri": "https://localhost:8080/"
    },
    "executionInfo": {
     "elapsed": 403,
     "status": "ok",
     "timestamp": 1618613637103,
     "user": {
      "displayName": "Eduard Alexis Larranaga",
      "photoUrl": "https://lh3.googleusercontent.com/a-/AOh14GgCVABzEgj-rCdyxWa29RnA0kIYUCXAaVbnRYOEhQ=s64",
      "userId": "04402438389940282602"
     },
     "user_tz": 300
    },
    "id": "TpNdL5hE4Kw-",
    "outputId": "69bf25be-40bd-4d30-92d5-3a76720502d7"
   },
   "outputs": [
    {
     "data": {
      "text/plain": [
       "1.1102230246251565e-16"
      ]
     },
     "execution_count": 6,
     "metadata": {},
     "output_type": "execute_result"
    }
   ],
   "source": [
    "epsilon = 1.\n",
    "\n",
    "while 1. + epsilon != 1.\n",
    "    epsilon = epsilon/2.\n",
    "end\n",
    "\n",
    "epsilon"
   ]
  },
  {
   "cell_type": "markdown",
   "metadata": {
    "id": "JFp-rqzm4Kw-"
   },
   "source": [
    "---\n",
    "Consider the floating point number $y = \\cos \\frac{\\pi}{2}$. This number is expected to equal zero. However, a simple calculation gives us a floating-point number representation of zero:"
   ]
  },
  {
   "cell_type": "code",
   "execution_count": 7,
   "metadata": {
    "colab": {
     "base_uri": "https://localhost:8080/"
    },
    "executionInfo": {
     "elapsed": 400,
     "status": "ok",
     "timestamp": 1618613642255,
     "user": {
      "displayName": "Eduard Alexis Larranaga",
      "photoUrl": "https://lh3.googleusercontent.com/a-/AOh14GgCVABzEgj-rCdyxWa29RnA0kIYUCXAaVbnRYOEhQ=s64",
      "userId": "04402438389940282602"
     },
     "user_tz": 300
    },
    "id": "98lr9tqu4Kw-",
    "outputId": "50d842b7-8093-41a8-d8ee-a0ffdacfe26f"
   },
   "outputs": [
    {
     "data": {
      "text/plain": [
       "π = 3.1415926535897..."
      ]
     },
     "execution_count": 7,
     "metadata": {},
     "output_type": "execute_result"
    }
   ],
   "source": [
    "pi"
   ]
  },
  {
   "cell_type": "code",
   "execution_count": 8,
   "metadata": {
    "colab": {
     "base_uri": "https://localhost:8080/"
    },
    "executionInfo": {
     "elapsed": 363,
     "status": "ok",
     "timestamp": 1618613643313,
     "user": {
      "displayName": "Eduard Alexis Larranaga",
      "photoUrl": "https://lh3.googleusercontent.com/a-/AOh14GgCVABzEgj-rCdyxWa29RnA0kIYUCXAaVbnRYOEhQ=s64",
      "userId": "04402438389940282602"
     },
     "user_tz": 300
    },
    "id": "Hdelt8PD4Kw_",
    "outputId": "3773dd30-d2d4-4081-aa0d-440084196e10"
   },
   "outputs": [
    {
     "data": {
      "text/plain": [
       "6.123233995736766e-17"
      ]
     },
     "execution_count": 8,
     "metadata": {},
     "output_type": "execute_result"
    }
   ],
   "source": [
    "y = cos(pi/2.) \n",
    "y"
   ]
  },
  {
   "cell_type": "markdown",
   "metadata": {
    "id": "tgurmbsc4Kw_"
   },
   "source": [
    "Another example of the round-off error appears when we take the square root of the number 3,"
   ]
  },
  {
   "cell_type": "code",
   "execution_count": 9,
   "metadata": {
    "colab": {
     "base_uri": "https://localhost:8080/"
    },
    "executionInfo": {
     "elapsed": 392,
     "status": "ok",
     "timestamp": 1618613646393,
     "user": {
      "displayName": "Eduard Alexis Larranaga",
      "photoUrl": "https://lh3.googleusercontent.com/a-/AOh14GgCVABzEgj-rCdyxWa29RnA0kIYUCXAaVbnRYOEhQ=s64",
      "userId": "04402438389940282602"
     },
     "user_tz": 300
    },
    "id": "_fqyyE7P4Kw_",
    "outputId": "ba2d33f8-ac89-4263-e57b-5f9ffa87d154"
   },
   "outputs": [
    {
     "data": {
      "text/plain": [
       "1.7320508075688772"
      ]
     },
     "execution_count": 9,
     "metadata": {},
     "output_type": "execute_result"
    }
   ],
   "source": [
    "z = sqrt(3)\n",
    "z"
   ]
  },
  {
   "cell_type": "markdown",
   "metadata": {
    "id": "KJaYTNRh4Kw_"
   },
   "source": [
    "Note that, due to rounding error, $\\sqrt{3} \\cdot \\sqrt{3} \\neq 3$"
   ]
  },
  {
   "cell_type": "code",
   "execution_count": 10,
   "metadata": {
    "colab": {
     "base_uri": "https://localhost:8080/"
    },
    "executionInfo": {
     "elapsed": 456,
     "status": "ok",
     "timestamp": 1618613649800,
     "user": {
      "displayName": "Eduard Alexis Larranaga",
      "photoUrl": "https://lh3.googleusercontent.com/a-/AOh14GgCVABzEgj-rCdyxWa29RnA0kIYUCXAaVbnRYOEhQ=s64",
      "userId": "04402438389940282602"
     },
     "user_tz": 300
    },
    "id": "C6dUbBVL4Kw_",
    "outputId": "43921201-36bb-4a8e-ef12-926cfd6c5cde"
   },
   "outputs": [
    {
     "data": {
      "text/plain": [
       "2.9999999999999996"
      ]
     },
     "execution_count": 10,
     "metadata": {},
     "output_type": "execute_result"
    }
   ],
   "source": [
    "z*z"
   ]
  },
  {
   "cell_type": "markdown",
   "metadata": {
    "id": "20TXhXTt4Kw_"
   },
   "source": [
    "---\n",
    "### Absolute and Relative Errors\n",
    "\n",
    "Next we will define **absolute** and **relative** errors. Denoting the *true* value of a quantity by $X$ and its *approximate* value by $x$, we have\n",
    "\n",
    "$\\epsilon_a = \\left| X - x \\right|$ : absolute error\n",
    "\n",
    "\n",
    "$\\epsilon_r = \\left| \\frac{X - x}{X} \\right|$ : relative error"
   ]
  },
  {
   "cell_type": "code",
   "execution_count": 11,
   "metadata": {
    "colab": {
     "base_uri": "https://localhost:8080/"
    },
    "executionInfo": {
     "elapsed": 415,
     "status": "ok",
     "timestamp": 1618613652349,
     "user": {
      "displayName": "Eduard Alexis Larranaga",
      "photoUrl": "https://lh3.googleusercontent.com/a-/AOh14GgCVABzEgj-rCdyxWa29RnA0kIYUCXAaVbnRYOEhQ=s64",
      "userId": "04402438389940282602"
     },
     "user_tz": 300
    },
    "id": "IOtqUA164Kw_",
    "outputId": "13fec628-c425-4d0f-a2ee-a920105dd2ce"
   },
   "outputs": [
    {
     "data": {
      "text/plain": [
       "7.346410206832132e-6"
      ]
     },
     "execution_count": 11,
     "metadata": {},
     "output_type": "execute_result"
    }
   ],
   "source": [
    "X = pi\n",
    "x = 3.1416\n",
    "\n",
    "abs_error = abs(X - x) \n",
    "abs_error"
   ]
  },
  {
   "cell_type": "code",
   "execution_count": 12,
   "metadata": {
    "colab": {
     "base_uri": "https://localhost:8080/"
    },
    "executionInfo": {
     "elapsed": 553,
     "status": "ok",
     "timestamp": 1618613654659,
     "user": {
      "displayName": "Eduard Alexis Larranaga",
      "photoUrl": "https://lh3.googleusercontent.com/a-/AOh14GgCVABzEgj-rCdyxWa29RnA0kIYUCXAaVbnRYOEhQ=s64",
      "userId": "04402438389940282602"
     },
     "user_tz": 300
    },
    "id": "Kd8cdM9x4KxA",
    "outputId": "c8f54e62-7892-4c1d-8f8f-bf331654e213"
   },
   "outputs": [
    {
     "data": {
      "text/plain": [
       "2.3384349967961744e-6"
      ]
     },
     "execution_count": 12,
     "metadata": {},
     "output_type": "execute_result"
    }
   ],
   "source": [
    "rel_error = abs((X - x)/X)\n",
    "rel_error"
   ]
  },
  {
   "cell_type": "markdown",
   "metadata": {
    "id": "bdEX-BrI4KxA"
   },
   "source": [
    "---\n",
    "### Truncation Error\n",
    "\n",
    "Consider the function $\\sin x$ in its approximate form\n",
    "\n",
    "$\\sin x = \\sum_{n=1}^\\infty (-1)^{n-1} \\frac{x^{2n-1}}{(2n-1)!}$\n",
    "\n",
    "The approximation to order 7 (i.e. neglecting orders 7 and higher) will be\n",
    "\n",
    "$f(x) = x - \\frac{x^3}{6} + \\frac{x^5}{120}$.\n",
    "\n",
    "This approximation of the function $\\sin x$ induces a **truncation error** that can be estimated by the following function"
   ]
  },
  {
   "cell_type": "code",
   "execution_count": 23,
   "metadata": {
    "colab": {
     "base_uri": "https://localhost:8080/",
     "height": 279
    },
    "executionInfo": {
     "elapsed": 898,
     "status": "ok",
     "timestamp": 1618613667238,
     "user": {
      "displayName": "Eduard Alexis Larranaga",
      "photoUrl": "https://lh3.googleusercontent.com/a-/AOh14GgCVABzEgj-rCdyxWa29RnA0kIYUCXAaVbnRYOEhQ=s64",
      "userId": "04402438389940282602"
     },
     "user_tz": 300
    },
    "id": "cAUwr8nJ4KxA",
    "outputId": "8e9b844b-a9c4-4d05-b19f-56f135387d65"
   },
   "outputs": [
    {
     "data": {
      "image/svg+xml": [
       "<?xml version=\"1.0\" encoding=\"utf-8\"?>\n",
       "<svg xmlns=\"http://www.w3.org/2000/svg\" xmlns:xlink=\"http://www.w3.org/1999/xlink\" width=\"600\" height=\"400\" viewBox=\"0 0 2400 1600\">\n",
       "<defs>\n",
       "  <clipPath id=\"clip770\">\n",
       "    <rect x=\"0\" y=\"0\" width=\"2400\" height=\"1600\"/>\n",
       "  </clipPath>\n",
       "</defs>\n",
       "<path clip-path=\"url(#clip770)\" d=\"\n",
       "M0 1600 L2400 1600 L2400 0 L0 0  Z\n",
       "  \" fill=\"#ffffff\" fill-rule=\"evenodd\" fill-opacity=\"1\"/>\n",
       "<defs>\n",
       "  <clipPath id=\"clip771\">\n",
       "    <rect x=\"480\" y=\"0\" width=\"1681\" height=\"1600\"/>\n",
       "  </clipPath>\n",
       "</defs>\n",
       "<defs>\n",
       "  <clipPath id=\"clip772\">\n",
       "    <rect x=\"340\" y=\"47\" width=\"2014\" height=\"1377\"/>\n",
       "  </clipPath>\n",
       "</defs>\n",
       "<path clip-path=\"url(#clip770)\" d=\"\n",
       "M340.028 1423.18 L2352.76 1423.18 L2352.76 47.2441 L340.028 47.2441  Z\n",
       "  \" fill=\"#ffffff\" fill-rule=\"evenodd\" fill-opacity=\"1\"/>\n",
       "<polyline clip-path=\"url(#clip772)\" style=\"stroke:#000000; stroke-linecap:butt; stroke-linejoin:round; stroke-width:2; stroke-opacity:0.1; fill:none\" points=\"\n",
       "  2295.79,1423.18 2295.79,47.2441 \n",
       "  \"/>\n",
       "<polyline clip-path=\"url(#clip772)\" style=\"stroke:#000000; stroke-linecap:butt; stroke-linejoin:round; stroke-width:2; stroke-opacity:0.1; fill:none\" points=\"\n",
       "  1821.09,1423.18 1821.09,47.2441 \n",
       "  \"/>\n",
       "<polyline clip-path=\"url(#clip772)\" style=\"stroke:#000000; stroke-linecap:butt; stroke-linejoin:round; stroke-width:2; stroke-opacity:0.1; fill:none\" points=\"\n",
       "  1346.39,1423.18 1346.39,47.2441 \n",
       "  \"/>\n",
       "<polyline clip-path=\"url(#clip772)\" style=\"stroke:#000000; stroke-linecap:butt; stroke-linejoin:round; stroke-width:2; stroke-opacity:0.1; fill:none\" points=\"\n",
       "  871.692,1423.18 871.692,47.2441 \n",
       "  \"/>\n",
       "<polyline clip-path=\"url(#clip772)\" style=\"stroke:#000000; stroke-linecap:butt; stroke-linejoin:round; stroke-width:2; stroke-opacity:0.1; fill:none\" points=\"\n",
       "  396.992,1423.18 396.992,47.2441 \n",
       "  \"/>\n",
       "<polyline clip-path=\"url(#clip770)\" style=\"stroke:#000000; stroke-linecap:butt; stroke-linejoin:round; stroke-width:4; stroke-opacity:1; fill:none\" points=\"\n",
       "  2352.76,1423.18 340.028,1423.18 \n",
       "  \"/>\n",
       "<polyline clip-path=\"url(#clip770)\" style=\"stroke:#000000; stroke-linecap:butt; stroke-linejoin:round; stroke-width:4; stroke-opacity:1; fill:none\" points=\"\n",
       "  2295.79,1423.18 2295.79,1404.28 \n",
       "  \"/>\n",
       "<polyline clip-path=\"url(#clip770)\" style=\"stroke:#000000; stroke-linecap:butt; stroke-linejoin:round; stroke-width:4; stroke-opacity:1; fill:none\" points=\"\n",
       "  1821.09,1423.18 1821.09,1404.28 \n",
       "  \"/>\n",
       "<polyline clip-path=\"url(#clip770)\" style=\"stroke:#000000; stroke-linecap:butt; stroke-linejoin:round; stroke-width:4; stroke-opacity:1; fill:none\" points=\"\n",
       "  1346.39,1423.18 1346.39,1404.28 \n",
       "  \"/>\n",
       "<polyline clip-path=\"url(#clip770)\" style=\"stroke:#000000; stroke-linecap:butt; stroke-linejoin:round; stroke-width:4; stroke-opacity:1; fill:none\" points=\"\n",
       "  871.692,1423.18 871.692,1404.28 \n",
       "  \"/>\n",
       "<polyline clip-path=\"url(#clip770)\" style=\"stroke:#000000; stroke-linecap:butt; stroke-linejoin:round; stroke-width:4; stroke-opacity:1; fill:none\" points=\"\n",
       "  396.992,1423.18 396.992,1404.28 \n",
       "  \"/>\n",
       "<path clip-path=\"url(#clip770)\" d=\"M2258.1 1454.1 Q2254.48 1454.1 2252.66 1457.66 Q2250.85 1461.2 2250.85 1468.33 Q2250.85 1475.44 2252.66 1479.01 Q2254.48 1482.55 2258.1 1482.55 Q2261.73 1482.55 2263.54 1479.01 Q2265.36 1475.44 2265.36 1468.33 Q2265.36 1461.2 2263.54 1457.66 Q2261.73 1454.1 2258.1 1454.1 M2258.1 1450.39 Q2263.91 1450.39 2266.96 1455 Q2270.04 1459.58 2270.04 1468.33 Q2270.04 1477.06 2266.96 1481.67 Q2263.91 1486.25 2258.1 1486.25 Q2252.29 1486.25 2249.21 1481.67 Q2246.15 1477.06 2246.15 1468.33 Q2246.15 1459.58 2249.21 1455 Q2252.29 1450.39 2258.1 1450.39 Z\" fill=\"#000000\" fill-rule=\"evenodd\" fill-opacity=\"1\" /><path clip-path=\"url(#clip770)\" d=\"M2278.26 1479.7 L2283.14 1479.7 L2283.14 1485.58 L2278.26 1485.58 L2278.26 1479.7 Z\" fill=\"#000000\" fill-rule=\"evenodd\" fill-opacity=\"1\" /><path clip-path=\"url(#clip770)\" d=\"M2303.33 1454.1 Q2299.72 1454.1 2297.89 1457.66 Q2296.08 1461.2 2296.08 1468.33 Q2296.08 1475.44 2297.89 1479.01 Q2299.72 1482.55 2303.33 1482.55 Q2306.96 1482.55 2308.77 1479.01 Q2310.6 1475.44 2310.6 1468.33 Q2310.6 1461.2 2308.77 1457.66 Q2306.96 1454.1 2303.33 1454.1 M2303.33 1450.39 Q2309.14 1450.39 2312.19 1455 Q2315.27 1459.58 2315.27 1468.33 Q2315.27 1477.06 2312.19 1481.67 Q2309.14 1486.25 2303.33 1486.25 Q2297.52 1486.25 2294.44 1481.67 Q2291.38 1477.06 2291.38 1468.33 Q2291.38 1459.58 2294.44 1455 Q2297.52 1450.39 2303.33 1450.39 Z\" fill=\"#000000\" fill-rule=\"evenodd\" fill-opacity=\"1\" /><path clip-path=\"url(#clip770)\" d=\"M2333.49 1454.1 Q2329.88 1454.1 2328.05 1457.66 Q2326.24 1461.2 2326.24 1468.33 Q2326.24 1475.44 2328.05 1479.01 Q2329.88 1482.55 2333.49 1482.55 Q2337.12 1482.55 2338.93 1479.01 Q2340.76 1475.44 2340.76 1468.33 Q2340.76 1461.2 2338.93 1457.66 Q2337.12 1454.1 2333.49 1454.1 M2333.49 1450.39 Q2339.3 1450.39 2342.35 1455 Q2345.43 1459.58 2345.43 1468.33 Q2345.43 1477.06 2342.35 1481.67 Q2339.3 1486.25 2333.49 1486.25 Q2327.68 1486.25 2324.6 1481.67 Q2321.54 1477.06 2321.54 1468.33 Q2321.54 1459.58 2324.6 1455 Q2327.68 1450.39 2333.49 1450.39 Z\" fill=\"#000000\" fill-rule=\"evenodd\" fill-opacity=\"1\" /><path clip-path=\"url(#clip770)\" d=\"M1783.89 1454.1 Q1780.28 1454.1 1778.45 1457.66 Q1776.65 1461.2 1776.65 1468.33 Q1776.65 1475.44 1778.45 1479.01 Q1780.28 1482.55 1783.89 1482.55 Q1787.53 1482.55 1789.33 1479.01 Q1791.16 1475.44 1791.16 1468.33 Q1791.16 1461.2 1789.33 1457.66 Q1787.53 1454.1 1783.89 1454.1 M1783.89 1450.39 Q1789.7 1450.39 1792.76 1455 Q1795.84 1459.58 1795.84 1468.33 Q1795.84 1477.06 1792.76 1481.67 Q1789.7 1486.25 1783.89 1486.25 Q1778.08 1486.25 1775 1481.67 Q1771.95 1477.06 1771.95 1468.33 Q1771.95 1459.58 1775 1455 Q1778.08 1450.39 1783.89 1450.39 Z\" fill=\"#000000\" fill-rule=\"evenodd\" fill-opacity=\"1\" /><path clip-path=\"url(#clip770)\" d=\"M1804.05 1479.7 L1808.94 1479.7 L1808.94 1485.58 L1804.05 1485.58 L1804.05 1479.7 Z\" fill=\"#000000\" fill-rule=\"evenodd\" fill-opacity=\"1\" /><path clip-path=\"url(#clip770)\" d=\"M1823.15 1481.64 L1839.47 1481.64 L1839.47 1485.58 L1817.53 1485.58 L1817.53 1481.64 Q1820.19 1478.89 1824.77 1474.26 Q1829.38 1469.61 1830.56 1468.27 Q1832.8 1465.74 1833.68 1464.01 Q1834.59 1462.25 1834.59 1460.56 Q1834.59 1457.8 1832.64 1456.07 Q1830.72 1454.33 1827.62 1454.33 Q1825.42 1454.33 1822.97 1455.09 Q1820.54 1455.86 1817.76 1457.41 L1817.76 1452.69 Q1820.58 1451.55 1823.04 1450.97 Q1825.49 1450.39 1827.53 1450.39 Q1832.9 1450.39 1836.09 1453.08 Q1839.29 1455.77 1839.29 1460.26 Q1839.29 1462.39 1838.48 1464.31 Q1837.69 1466.2 1835.58 1468.8 Q1835 1469.47 1831.9 1472.69 Q1828.8 1475.88 1823.15 1481.64 Z\" fill=\"#000000\" fill-rule=\"evenodd\" fill-opacity=\"1\" /><path clip-path=\"url(#clip770)\" d=\"M1849.33 1451.02 L1867.69 1451.02 L1867.69 1454.96 L1853.61 1454.96 L1853.61 1463.43 Q1854.63 1463.08 1855.65 1462.92 Q1856.67 1462.73 1857.69 1462.73 Q1863.48 1462.73 1866.86 1465.9 Q1870.24 1469.08 1870.24 1474.49 Q1870.24 1480.07 1866.76 1483.17 Q1863.29 1486.25 1856.97 1486.25 Q1854.8 1486.25 1852.53 1485.88 Q1850.28 1485.51 1847.87 1484.77 L1847.87 1480.07 Q1849.96 1481.2 1852.18 1481.76 Q1854.4 1482.32 1856.88 1482.32 Q1860.88 1482.32 1863.22 1480.21 Q1865.56 1478.1 1865.56 1474.49 Q1865.56 1470.88 1863.22 1468.77 Q1860.88 1466.67 1856.88 1466.67 Q1855 1466.67 1853.13 1467.08 Q1851.28 1467.5 1849.33 1468.38 L1849.33 1451.02 Z\" fill=\"#000000\" fill-rule=\"evenodd\" fill-opacity=\"1\" /><path clip-path=\"url(#clip770)\" d=\"M1308.7 1454.1 Q1305.08 1454.1 1303.26 1457.66 Q1301.45 1461.2 1301.45 1468.33 Q1301.45 1475.44 1303.26 1479.01 Q1305.08 1482.55 1308.7 1482.55 Q1312.33 1482.55 1314.14 1479.01 Q1315.96 1475.44 1315.96 1468.33 Q1315.96 1461.2 1314.14 1457.66 Q1312.33 1454.1 1308.7 1454.1 M1308.7 1450.39 Q1314.51 1450.39 1317.56 1455 Q1320.64 1459.58 1320.64 1468.33 Q1320.64 1477.06 1317.56 1481.67 Q1314.51 1486.25 1308.7 1486.25 Q1302.89 1486.25 1299.81 1481.67 Q1296.75 1477.06 1296.75 1468.33 Q1296.75 1459.58 1299.81 1455 Q1302.89 1450.39 1308.7 1450.39 Z\" fill=\"#000000\" fill-rule=\"evenodd\" fill-opacity=\"1\" /><path clip-path=\"url(#clip770)\" d=\"M1328.86 1479.7 L1333.74 1479.7 L1333.74 1485.58 L1328.86 1485.58 L1328.86 1479.7 Z\" fill=\"#000000\" fill-rule=\"evenodd\" fill-opacity=\"1\" /><path clip-path=\"url(#clip770)\" d=\"M1343.97 1451.02 L1362.33 1451.02 L1362.33 1454.96 L1348.26 1454.96 L1348.26 1463.43 Q1349.27 1463.08 1350.29 1462.92 Q1351.31 1462.73 1352.33 1462.73 Q1358.12 1462.73 1361.5 1465.9 Q1364.88 1469.08 1364.88 1474.49 Q1364.88 1480.07 1361.4 1483.17 Q1357.93 1486.25 1351.61 1486.25 Q1349.44 1486.25 1347.17 1485.88 Q1344.92 1485.51 1342.51 1484.77 L1342.51 1480.07 Q1344.6 1481.2 1346.82 1481.76 Q1349.04 1482.32 1351.52 1482.32 Q1355.52 1482.32 1357.86 1480.21 Q1360.2 1478.1 1360.2 1474.49 Q1360.2 1470.88 1357.86 1468.77 Q1355.52 1466.67 1351.52 1466.67 Q1349.64 1466.67 1347.77 1467.08 Q1345.92 1467.5 1343.97 1468.38 L1343.97 1451.02 Z\" fill=\"#000000\" fill-rule=\"evenodd\" fill-opacity=\"1\" /><path clip-path=\"url(#clip770)\" d=\"M1384.09 1454.1 Q1380.48 1454.1 1378.65 1457.66 Q1376.84 1461.2 1376.84 1468.33 Q1376.84 1475.44 1378.65 1479.01 Q1380.48 1482.55 1384.09 1482.55 Q1387.72 1482.55 1389.53 1479.01 Q1391.36 1475.44 1391.36 1468.33 Q1391.36 1461.2 1389.53 1457.66 Q1387.72 1454.1 1384.09 1454.1 M1384.09 1450.39 Q1389.9 1450.39 1392.95 1455 Q1396.03 1459.58 1396.03 1468.33 Q1396.03 1477.06 1392.95 1481.67 Q1389.9 1486.25 1384.09 1486.25 Q1378.28 1486.25 1375.2 1481.67 Q1372.14 1477.06 1372.14 1468.33 Q1372.14 1459.58 1375.2 1455 Q1378.28 1450.39 1384.09 1450.39 Z\" fill=\"#000000\" fill-rule=\"evenodd\" fill-opacity=\"1\" /><path clip-path=\"url(#clip770)\" d=\"M834.493 1454.1 Q830.882 1454.1 829.053 1457.66 Q827.248 1461.2 827.248 1468.33 Q827.248 1475.44 829.053 1479.01 Q830.882 1482.55 834.493 1482.55 Q838.127 1482.55 839.933 1479.01 Q841.761 1475.44 841.761 1468.33 Q841.761 1461.2 839.933 1457.66 Q838.127 1454.1 834.493 1454.1 M834.493 1450.39 Q840.303 1450.39 843.359 1455 Q846.437 1459.58 846.437 1468.33 Q846.437 1477.06 843.359 1481.67 Q840.303 1486.25 834.493 1486.25 Q828.683 1486.25 825.604 1481.67 Q822.548 1477.06 822.548 1468.33 Q822.548 1459.58 825.604 1455 Q828.683 1450.39 834.493 1450.39 Z\" fill=\"#000000\" fill-rule=\"evenodd\" fill-opacity=\"1\" /><path clip-path=\"url(#clip770)\" d=\"M854.655 1479.7 L859.539 1479.7 L859.539 1485.58 L854.655 1485.58 L854.655 1479.7 Z\" fill=\"#000000\" fill-rule=\"evenodd\" fill-opacity=\"1\" /><path clip-path=\"url(#clip770)\" d=\"M868.544 1451.02 L890.766 1451.02 L890.766 1453.01 L878.219 1485.58 L873.335 1485.58 L885.141 1454.96 L868.544 1454.96 L868.544 1451.02 Z\" fill=\"#000000\" fill-rule=\"evenodd\" fill-opacity=\"1\" /><path clip-path=\"url(#clip770)\" d=\"M899.932 1451.02 L918.289 1451.02 L918.289 1454.96 L904.215 1454.96 L904.215 1463.43 Q905.233 1463.08 906.252 1462.92 Q907.27 1462.73 908.289 1462.73 Q914.076 1462.73 917.455 1465.9 Q920.835 1469.08 920.835 1474.49 Q920.835 1480.07 917.363 1483.17 Q913.891 1486.25 907.571 1486.25 Q905.395 1486.25 903.127 1485.88 Q900.881 1485.51 898.474 1484.77 L898.474 1480.07 Q900.557 1481.2 902.78 1481.76 Q905.002 1482.32 907.479 1482.32 Q911.483 1482.32 913.821 1480.21 Q916.159 1478.1 916.159 1474.49 Q916.159 1470.88 913.821 1468.77 Q911.483 1466.67 907.479 1466.67 Q905.604 1466.67 903.729 1467.08 Q901.877 1467.5 899.932 1468.38 L899.932 1451.02 Z\" fill=\"#000000\" fill-rule=\"evenodd\" fill-opacity=\"1\" /><path clip-path=\"url(#clip770)\" d=\"M349.064 1481.64 L356.703 1481.64 L356.703 1455.28 L348.392 1456.95 L348.392 1452.69 L356.656 1451.02 L361.332 1451.02 L361.332 1481.64 L368.971 1481.64 L368.971 1485.58 L349.064 1485.58 L349.064 1481.64 Z\" fill=\"#000000\" fill-rule=\"evenodd\" fill-opacity=\"1\" /><path clip-path=\"url(#clip770)\" d=\"M378.415 1479.7 L383.3 1479.7 L383.3 1485.58 L378.415 1485.58 L378.415 1479.7 Z\" fill=\"#000000\" fill-rule=\"evenodd\" fill-opacity=\"1\" /><path clip-path=\"url(#clip770)\" d=\"M403.485 1454.1 Q399.874 1454.1 398.045 1457.66 Q396.239 1461.2 396.239 1468.33 Q396.239 1475.44 398.045 1479.01 Q399.874 1482.55 403.485 1482.55 Q407.119 1482.55 408.924 1479.01 Q410.753 1475.44 410.753 1468.33 Q410.753 1461.2 408.924 1457.66 Q407.119 1454.1 403.485 1454.1 M403.485 1450.39 Q409.295 1450.39 412.35 1455 Q415.429 1459.58 415.429 1468.33 Q415.429 1477.06 412.35 1481.67 Q409.295 1486.25 403.485 1486.25 Q397.675 1486.25 394.596 1481.67 Q391.54 1477.06 391.54 1468.33 Q391.54 1459.58 394.596 1455 Q397.675 1450.39 403.485 1450.39 Z\" fill=\"#000000\" fill-rule=\"evenodd\" fill-opacity=\"1\" /><path clip-path=\"url(#clip770)\" d=\"M433.647 1454.1 Q430.035 1454.1 428.207 1457.66 Q426.401 1461.2 426.401 1468.33 Q426.401 1475.44 428.207 1479.01 Q430.035 1482.55 433.647 1482.55 Q437.281 1482.55 439.086 1479.01 Q440.915 1475.44 440.915 1468.33 Q440.915 1461.2 439.086 1457.66 Q437.281 1454.1 433.647 1454.1 M433.647 1450.39 Q439.457 1450.39 442.512 1455 Q445.591 1459.58 445.591 1468.33 Q445.591 1477.06 442.512 1481.67 Q439.457 1486.25 433.647 1486.25 Q427.836 1486.25 424.758 1481.67 Q421.702 1477.06 421.702 1468.33 Q421.702 1459.58 424.758 1455 Q427.836 1450.39 433.647 1450.39 Z\" fill=\"#000000\" fill-rule=\"evenodd\" fill-opacity=\"1\" /><path clip-path=\"url(#clip770)\" d=\"M1360.57 1545.44 Q1360.57 1547.24 1359.44 1548.27 Q1358.31 1549.27 1357.02 1549.27 Q1355.8 1549.27 1355.15 1548.56 Q1354.51 1547.85 1354.51 1546.95 Q1354.51 1545.73 1355.41 1544.66 Q1356.31 1543.6 1357.67 1543.37 Q1356.35 1542.54 1354.38 1542.54 Q1353.09 1542.54 1351.97 1543.21 Q1350.87 1543.89 1350.19 1544.76 Q1349.55 1545.63 1348.97 1546.88 Q1348.42 1548.11 1348.2 1548.85 Q1348 1549.56 1347.84 1550.33 L1345.59 1559.35 Q1344.49 1563.63 1344.49 1565.15 Q1344.49 1567.01 1345.4 1568.27 Q1346.3 1569.49 1348.1 1569.49 Q1348.81 1569.49 1349.62 1569.3 Q1350.42 1569.07 1351.45 1568.5 Q1352.51 1567.88 1353.45 1566.98 Q1354.41 1566.05 1355.35 1564.47 Q1356.28 1562.89 1356.89 1560.86 Q1357.09 1560.15 1357.73 1560.15 Q1358.54 1560.15 1358.54 1560.8 Q1358.54 1561.35 1358.09 1562.5 Q1357.67 1563.63 1356.73 1565.11 Q1355.83 1566.56 1354.64 1567.88 Q1353.45 1569.17 1351.68 1570.07 Q1349.91 1570.97 1347.97 1570.97 Q1345.2 1570.97 1343.37 1569.49 Q1341.53 1568.01 1340.86 1565.95 Q1340.69 1566.24 1340.47 1566.63 Q1340.24 1567.01 1339.57 1567.88 Q1338.92 1568.72 1338.18 1569.36 Q1337.44 1569.98 1336.28 1570.46 Q1335.15 1570.97 1333.93 1570.97 Q1332.39 1570.97 1331 1570.52 Q1329.65 1570.07 1328.68 1569.04 Q1327.72 1568.01 1327.72 1566.59 Q1327.72 1565.02 1328.78 1563.92 Q1329.87 1562.79 1331.35 1562.79 Q1332.29 1562.79 1333.03 1563.34 Q1333.8 1563.89 1333.8 1565.08 Q1333.8 1566.4 1332.9 1567.4 Q1332 1568.4 1330.71 1568.66 Q1332.03 1569.49 1334 1569.49 Q1336.12 1569.49 1337.8 1567.63 Q1339.47 1565.76 1340.28 1562.63 Q1342.27 1555.13 1343.05 1551.78 Q1343.82 1548.4 1343.82 1546.95 Q1343.82 1545.6 1343.46 1544.66 Q1343.11 1543.73 1342.5 1543.31 Q1341.92 1542.86 1341.37 1542.7 Q1340.86 1542.54 1340.28 1542.54 Q1339.31 1542.54 1338.21 1542.92 Q1337.15 1543.31 1335.86 1544.21 Q1334.61 1545.08 1333.42 1546.88 Q1332.22 1548.69 1331.42 1551.17 Q1331.26 1551.91 1330.55 1551.91 Q1329.78 1551.88 1329.78 1551.23 Q1329.78 1550.69 1330.2 1549.56 Q1330.65 1548.4 1331.55 1546.95 Q1332.48 1545.5 1333.67 1544.21 Q1334.9 1542.89 1336.67 1541.99 Q1338.47 1541.09 1340.4 1541.09 Q1341.27 1541.09 1342.11 1541.28 Q1342.98 1541.44 1344.01 1541.93 Q1345.07 1542.41 1346.01 1543.47 Q1346.94 1544.53 1347.52 1546.08 Q1347.91 1545.34 1348.42 1544.63 Q1348.97 1543.92 1349.81 1543.05 Q1350.68 1542.15 1351.87 1541.64 Q1353.09 1541.09 1354.45 1541.09 Q1355.77 1541.09 1357.05 1541.44 Q1358.34 1541.76 1359.44 1542.83 Q1360.57 1543.86 1360.57 1545.44 Z\" fill=\"#000000\" fill-rule=\"evenodd\" fill-opacity=\"1\" /><polyline clip-path=\"url(#clip772)\" style=\"stroke:#000000; stroke-linecap:butt; stroke-linejoin:round; stroke-width:2; stroke-opacity:0.1; fill:none\" points=\"\n",
       "  2352.76,1384.24 340.028,1384.24 \n",
       "  \"/>\n",
       "<polyline clip-path=\"url(#clip772)\" style=\"stroke:#000000; stroke-linecap:butt; stroke-linejoin:round; stroke-width:2; stroke-opacity:0.1; fill:none\" points=\"\n",
       "  2352.76,1052.56 340.028,1052.56 \n",
       "  \"/>\n",
       "<polyline clip-path=\"url(#clip772)\" style=\"stroke:#000000; stroke-linecap:butt; stroke-linejoin:round; stroke-width:2; stroke-opacity:0.1; fill:none\" points=\"\n",
       "  2352.76,720.89 340.028,720.89 \n",
       "  \"/>\n",
       "<polyline clip-path=\"url(#clip772)\" style=\"stroke:#000000; stroke-linecap:butt; stroke-linejoin:round; stroke-width:2; stroke-opacity:0.1; fill:none\" points=\"\n",
       "  2352.76,389.216 340.028,389.216 \n",
       "  \"/>\n",
       "<polyline clip-path=\"url(#clip772)\" style=\"stroke:#000000; stroke-linecap:butt; stroke-linejoin:round; stroke-width:2; stroke-opacity:0.1; fill:none\" points=\"\n",
       "  2352.76,57.5413 340.028,57.5413 \n",
       "  \"/>\n",
       "<polyline clip-path=\"url(#clip770)\" style=\"stroke:#000000; stroke-linecap:butt; stroke-linejoin:round; stroke-width:4; stroke-opacity:1; fill:none\" points=\"\n",
       "  340.028,1423.18 340.028,47.2441 \n",
       "  \"/>\n",
       "<polyline clip-path=\"url(#clip770)\" style=\"stroke:#000000; stroke-linecap:butt; stroke-linejoin:round; stroke-width:4; stroke-opacity:1; fill:none\" points=\"\n",
       "  340.028,1384.24 358.925,1384.24 \n",
       "  \"/>\n",
       "<polyline clip-path=\"url(#clip770)\" style=\"stroke:#000000; stroke-linecap:butt; stroke-linejoin:round; stroke-width:4; stroke-opacity:1; fill:none\" points=\"\n",
       "  340.028,1052.56 358.925,1052.56 \n",
       "  \"/>\n",
       "<polyline clip-path=\"url(#clip770)\" style=\"stroke:#000000; stroke-linecap:butt; stroke-linejoin:round; stroke-width:4; stroke-opacity:1; fill:none\" points=\"\n",
       "  340.028,720.89 358.925,720.89 \n",
       "  \"/>\n",
       "<polyline clip-path=\"url(#clip770)\" style=\"stroke:#000000; stroke-linecap:butt; stroke-linejoin:round; stroke-width:4; stroke-opacity:1; fill:none\" points=\"\n",
       "  340.028,389.216 358.925,389.216 \n",
       "  \"/>\n",
       "<polyline clip-path=\"url(#clip770)\" style=\"stroke:#000000; stroke-linecap:butt; stroke-linejoin:round; stroke-width:4; stroke-opacity:1; fill:none\" points=\"\n",
       "  340.028,57.5413 358.925,57.5413 \n",
       "  \"/>\n",
       "<path clip-path=\"url(#clip770)\" d=\"M126.205 1370.04 Q122.593 1370.04 120.765 1373.6 Q118.959 1377.14 118.959 1384.27 Q118.959 1391.38 120.765 1394.94 Q122.593 1398.49 126.205 1398.49 Q129.839 1398.49 131.644 1394.94 Q133.473 1391.38 133.473 1384.27 Q133.473 1377.14 131.644 1373.6 Q129.839 1370.04 126.205 1370.04 M126.205 1366.33 Q132.015 1366.33 135.07 1370.94 Q138.149 1375.52 138.149 1384.27 Q138.149 1393 135.07 1397.61 Q132.015 1402.19 126.205 1402.19 Q120.394 1402.19 117.316 1397.61 Q114.26 1393 114.26 1384.27 Q114.26 1375.52 117.316 1370.94 Q120.394 1366.33 126.205 1366.33 Z\" fill=\"#000000\" fill-rule=\"evenodd\" fill-opacity=\"1\" /><path clip-path=\"url(#clip770)\" d=\"M146.366 1395.64 L151.251 1395.64 L151.251 1401.52 L146.366 1401.52 L146.366 1395.64 Z\" fill=\"#000000\" fill-rule=\"evenodd\" fill-opacity=\"1\" /><path clip-path=\"url(#clip770)\" d=\"M171.436 1370.04 Q167.825 1370.04 165.996 1373.6 Q164.19 1377.14 164.19 1384.27 Q164.19 1391.38 165.996 1394.94 Q167.825 1398.49 171.436 1398.49 Q175.07 1398.49 176.876 1394.94 Q178.704 1391.38 178.704 1384.27 Q178.704 1377.14 176.876 1373.6 Q175.07 1370.04 171.436 1370.04 M171.436 1366.33 Q177.246 1366.33 180.301 1370.94 Q183.38 1375.52 183.38 1384.27 Q183.38 1393 180.301 1397.61 Q177.246 1402.19 171.436 1402.19 Q165.626 1402.19 162.547 1397.61 Q159.491 1393 159.491 1384.27 Q159.491 1375.52 162.547 1370.94 Q165.626 1366.33 171.436 1366.33 Z\" fill=\"#000000\" fill-rule=\"evenodd\" fill-opacity=\"1\" /><path clip-path=\"url(#clip770)\" d=\"M201.598 1370.04 Q197.987 1370.04 196.158 1373.6 Q194.352 1377.14 194.352 1384.27 Q194.352 1391.38 196.158 1394.94 Q197.987 1398.49 201.598 1398.49 Q205.232 1398.49 207.037 1394.94 Q208.866 1391.38 208.866 1384.27 Q208.866 1377.14 207.037 1373.6 Q205.232 1370.04 201.598 1370.04 M201.598 1366.33 Q207.408 1366.33 210.463 1370.94 Q213.542 1375.52 213.542 1384.27 Q213.542 1393 210.463 1397.61 Q207.408 1402.19 201.598 1402.19 Q195.787 1402.19 192.709 1397.61 Q189.653 1393 189.653 1384.27 Q189.653 1375.52 192.709 1370.94 Q195.787 1366.33 201.598 1366.33 Z\" fill=\"#000000\" fill-rule=\"evenodd\" fill-opacity=\"1\" /><path clip-path=\"url(#clip770)\" d=\"M231.76 1370.04 Q228.148 1370.04 226.32 1373.6 Q224.514 1377.14 224.514 1384.27 Q224.514 1391.38 226.32 1394.94 Q228.148 1398.49 231.76 1398.49 Q235.394 1398.49 237.199 1394.94 Q239.028 1391.38 239.028 1384.27 Q239.028 1377.14 237.199 1373.6 Q235.394 1370.04 231.76 1370.04 M231.76 1366.33 Q237.57 1366.33 240.625 1370.94 Q243.704 1375.52 243.704 1384.27 Q243.704 1393 240.625 1397.61 Q237.57 1402.19 231.76 1402.19 Q225.949 1402.19 222.871 1397.61 Q219.815 1393 219.815 1384.27 Q219.815 1375.52 222.871 1370.94 Q225.949 1366.33 231.76 1366.33 Z\" fill=\"#000000\" fill-rule=\"evenodd\" fill-opacity=\"1\" /><path clip-path=\"url(#clip770)\" d=\"M261.921 1370.04 Q258.31 1370.04 256.482 1373.6 Q254.676 1377.14 254.676 1384.27 Q254.676 1391.38 256.482 1394.94 Q258.31 1398.49 261.921 1398.49 Q265.556 1398.49 267.361 1394.94 Q269.19 1391.38 269.19 1384.27 Q269.19 1377.14 267.361 1373.6 Q265.556 1370.04 261.921 1370.04 M261.921 1366.33 Q267.732 1366.33 270.787 1370.94 Q273.866 1375.52 273.866 1384.27 Q273.866 1393 270.787 1397.61 Q267.732 1402.19 261.921 1402.19 Q256.111 1402.19 253.033 1397.61 Q249.977 1393 249.977 1384.27 Q249.977 1375.52 253.033 1370.94 Q256.111 1366.33 261.921 1366.33 Z\" fill=\"#000000\" fill-rule=\"evenodd\" fill-opacity=\"1\" /><path clip-path=\"url(#clip770)\" d=\"M292.083 1370.04 Q288.472 1370.04 286.643 1373.6 Q284.838 1377.14 284.838 1384.27 Q284.838 1391.38 286.643 1394.94 Q288.472 1398.49 292.083 1398.49 Q295.718 1398.49 297.523 1394.94 Q299.352 1391.38 299.352 1384.27 Q299.352 1377.14 297.523 1373.6 Q295.718 1370.04 292.083 1370.04 M292.083 1366.33 Q297.893 1366.33 300.949 1370.94 Q304.028 1375.52 304.028 1384.27 Q304.028 1393 300.949 1397.61 Q297.893 1402.19 292.083 1402.19 Q286.273 1402.19 283.194 1397.61 Q280.139 1393 280.139 1384.27 Q280.139 1375.52 283.194 1370.94 Q286.273 1366.33 292.083 1366.33 Z\" fill=\"#000000\" fill-rule=\"evenodd\" fill-opacity=\"1\" /><path clip-path=\"url(#clip770)\" d=\"M127.2 1038.36 Q123.589 1038.36 121.76 1041.93 Q119.955 1045.47 119.955 1052.6 Q119.955 1059.71 121.76 1063.27 Q123.589 1066.81 127.2 1066.81 Q130.834 1066.81 132.64 1063.27 Q134.468 1059.71 134.468 1052.6 Q134.468 1045.47 132.64 1041.93 Q130.834 1038.36 127.2 1038.36 M127.2 1034.66 Q133.01 1034.66 136.066 1039.27 Q139.144 1043.85 139.144 1052.6 Q139.144 1061.33 136.066 1065.93 Q133.01 1070.52 127.2 1070.52 Q121.39 1070.52 118.311 1065.93 Q115.256 1061.33 115.256 1052.6 Q115.256 1043.85 118.311 1039.27 Q121.39 1034.66 127.2 1034.66 Z\" fill=\"#000000\" fill-rule=\"evenodd\" fill-opacity=\"1\" /><path clip-path=\"url(#clip770)\" d=\"M147.362 1063.96 L152.246 1063.96 L152.246 1069.84 L147.362 1069.84 L147.362 1063.96 Z\" fill=\"#000000\" fill-rule=\"evenodd\" fill-opacity=\"1\" /><path clip-path=\"url(#clip770)\" d=\"M172.431 1038.36 Q168.82 1038.36 166.991 1041.93 Q165.186 1045.47 165.186 1052.6 Q165.186 1059.71 166.991 1063.27 Q168.82 1066.81 172.431 1066.81 Q176.065 1066.81 177.871 1063.27 Q179.7 1059.71 179.7 1052.6 Q179.7 1045.47 177.871 1041.93 Q176.065 1038.36 172.431 1038.36 M172.431 1034.66 Q178.241 1034.66 181.297 1039.27 Q184.376 1043.85 184.376 1052.6 Q184.376 1061.33 181.297 1065.93 Q178.241 1070.52 172.431 1070.52 Q166.621 1070.52 163.542 1065.93 Q160.487 1061.33 160.487 1052.6 Q160.487 1043.85 163.542 1039.27 Q166.621 1034.66 172.431 1034.66 Z\" fill=\"#000000\" fill-rule=\"evenodd\" fill-opacity=\"1\" /><path clip-path=\"url(#clip770)\" d=\"M202.593 1038.36 Q198.982 1038.36 197.153 1041.93 Q195.348 1045.47 195.348 1052.6 Q195.348 1059.71 197.153 1063.27 Q198.982 1066.81 202.593 1066.81 Q206.227 1066.81 208.033 1063.27 Q209.861 1059.71 209.861 1052.6 Q209.861 1045.47 208.033 1041.93 Q206.227 1038.36 202.593 1038.36 M202.593 1034.66 Q208.403 1034.66 211.459 1039.27 Q214.537 1043.85 214.537 1052.6 Q214.537 1061.33 211.459 1065.93 Q208.403 1070.52 202.593 1070.52 Q196.783 1070.52 193.704 1065.93 Q190.649 1061.33 190.649 1052.6 Q190.649 1043.85 193.704 1039.27 Q196.783 1034.66 202.593 1034.66 Z\" fill=\"#000000\" fill-rule=\"evenodd\" fill-opacity=\"1\" /><path clip-path=\"url(#clip770)\" d=\"M232.755 1038.36 Q229.144 1038.36 227.315 1041.93 Q225.51 1045.47 225.51 1052.6 Q225.51 1059.71 227.315 1063.27 Q229.144 1066.81 232.755 1066.81 Q236.389 1066.81 238.195 1063.27 Q240.023 1059.71 240.023 1052.6 Q240.023 1045.47 238.195 1041.93 Q236.389 1038.36 232.755 1038.36 M232.755 1034.66 Q238.565 1034.66 241.621 1039.27 Q244.699 1043.85 244.699 1052.6 Q244.699 1061.33 241.621 1065.93 Q238.565 1070.52 232.755 1070.52 Q226.945 1070.52 223.866 1065.93 Q220.811 1061.33 220.811 1052.6 Q220.811 1043.85 223.866 1039.27 Q226.945 1034.66 232.755 1034.66 Z\" fill=\"#000000\" fill-rule=\"evenodd\" fill-opacity=\"1\" /><path clip-path=\"url(#clip770)\" d=\"M262.917 1038.36 Q259.306 1038.36 257.477 1041.93 Q255.671 1045.47 255.671 1052.6 Q255.671 1059.71 257.477 1063.27 Q259.306 1066.81 262.917 1066.81 Q266.551 1066.81 268.357 1063.27 Q270.185 1059.71 270.185 1052.6 Q270.185 1045.47 268.357 1041.93 Q266.551 1038.36 262.917 1038.36 M262.917 1034.66 Q268.727 1034.66 271.782 1039.27 Q274.861 1043.85 274.861 1052.6 Q274.861 1061.33 271.782 1065.93 Q268.727 1070.52 262.917 1070.52 Q257.107 1070.52 254.028 1065.93 Q250.972 1061.33 250.972 1052.6 Q250.972 1043.85 254.028 1039.27 Q257.107 1034.66 262.917 1034.66 Z\" fill=\"#000000\" fill-rule=\"evenodd\" fill-opacity=\"1\" /><path clip-path=\"url(#clip770)\" d=\"M283.125 1035.28 L301.481 1035.28 L301.481 1039.22 L287.407 1039.22 L287.407 1047.69 Q288.426 1047.34 289.444 1047.18 Q290.463 1047 291.481 1047 Q297.268 1047 300.648 1050.17 Q304.028 1053.34 304.028 1058.76 Q304.028 1064.33 300.555 1067.44 Q297.083 1070.52 290.764 1070.52 Q288.588 1070.52 286.319 1070.14 Q284.074 1069.77 281.667 1069.03 L281.667 1064.33 Q283.75 1065.47 285.972 1066.02 Q288.194 1066.58 290.671 1066.58 Q294.676 1066.58 297.014 1064.47 Q299.352 1062.37 299.352 1058.76 Q299.352 1055.15 297.014 1053.04 Q294.676 1050.93 290.671 1050.93 Q288.796 1050.93 286.921 1051.35 Q285.069 1051.77 283.125 1052.65 L283.125 1035.28 Z\" fill=\"#000000\" fill-rule=\"evenodd\" fill-opacity=\"1\" /><path clip-path=\"url(#clip770)\" d=\"M126.205 706.688 Q122.593 706.688 120.765 710.253 Q118.959 713.795 118.959 720.925 Q118.959 728.031 120.765 731.596 Q122.593 735.137 126.205 735.137 Q129.839 735.137 131.644 731.596 Q133.473 728.031 133.473 720.925 Q133.473 713.795 131.644 710.253 Q129.839 706.688 126.205 706.688 M126.205 702.985 Q132.015 702.985 135.07 707.591 Q138.149 712.175 138.149 720.925 Q138.149 729.651 135.07 734.258 Q132.015 738.841 126.205 738.841 Q120.394 738.841 117.316 734.258 Q114.26 729.651 114.26 720.925 Q114.26 712.175 117.316 707.591 Q120.394 702.985 126.205 702.985 Z\" fill=\"#000000\" fill-rule=\"evenodd\" fill-opacity=\"1\" /><path clip-path=\"url(#clip770)\" d=\"M146.366 732.29 L151.251 732.29 L151.251 738.17 L146.366 738.17 L146.366 732.29 Z\" fill=\"#000000\" fill-rule=\"evenodd\" fill-opacity=\"1\" /><path clip-path=\"url(#clip770)\" d=\"M171.436 706.688 Q167.825 706.688 165.996 710.253 Q164.19 713.795 164.19 720.925 Q164.19 728.031 165.996 731.596 Q167.825 735.137 171.436 735.137 Q175.07 735.137 176.876 731.596 Q178.704 728.031 178.704 720.925 Q178.704 713.795 176.876 710.253 Q175.07 706.688 171.436 706.688 M171.436 702.985 Q177.246 702.985 180.301 707.591 Q183.38 712.175 183.38 720.925 Q183.38 729.651 180.301 734.258 Q177.246 738.841 171.436 738.841 Q165.626 738.841 162.547 734.258 Q159.491 729.651 159.491 720.925 Q159.491 712.175 162.547 707.591 Q165.626 702.985 171.436 702.985 Z\" fill=\"#000000\" fill-rule=\"evenodd\" fill-opacity=\"1\" /><path clip-path=\"url(#clip770)\" d=\"M201.598 706.688 Q197.987 706.688 196.158 710.253 Q194.352 713.795 194.352 720.925 Q194.352 728.031 196.158 731.596 Q197.987 735.137 201.598 735.137 Q205.232 735.137 207.037 731.596 Q208.866 728.031 208.866 720.925 Q208.866 713.795 207.037 710.253 Q205.232 706.688 201.598 706.688 M201.598 702.985 Q207.408 702.985 210.463 707.591 Q213.542 712.175 213.542 720.925 Q213.542 729.651 210.463 734.258 Q207.408 738.841 201.598 738.841 Q195.787 738.841 192.709 734.258 Q189.653 729.651 189.653 720.925 Q189.653 712.175 192.709 707.591 Q195.787 702.985 201.598 702.985 Z\" fill=\"#000000\" fill-rule=\"evenodd\" fill-opacity=\"1\" /><path clip-path=\"url(#clip770)\" d=\"M231.76 706.688 Q228.148 706.688 226.32 710.253 Q224.514 713.795 224.514 720.925 Q224.514 728.031 226.32 731.596 Q228.148 735.137 231.76 735.137 Q235.394 735.137 237.199 731.596 Q239.028 728.031 239.028 720.925 Q239.028 713.795 237.199 710.253 Q235.394 706.688 231.76 706.688 M231.76 702.985 Q237.57 702.985 240.625 707.591 Q243.704 712.175 243.704 720.925 Q243.704 729.651 240.625 734.258 Q237.57 738.841 231.76 738.841 Q225.949 738.841 222.871 734.258 Q219.815 729.651 219.815 720.925 Q219.815 712.175 222.871 707.591 Q225.949 702.985 231.76 702.985 Z\" fill=\"#000000\" fill-rule=\"evenodd\" fill-opacity=\"1\" /><path clip-path=\"url(#clip770)\" d=\"M252.732 734.235 L260.37 734.235 L260.37 707.869 L252.06 709.536 L252.06 705.276 L260.324 703.61 L265 703.61 L265 734.235 L272.639 734.235 L272.639 738.17 L252.732 738.17 L252.732 734.235 Z\" fill=\"#000000\" fill-rule=\"evenodd\" fill-opacity=\"1\" /><path clip-path=\"url(#clip770)\" d=\"M292.083 706.688 Q288.472 706.688 286.643 710.253 Q284.838 713.795 284.838 720.925 Q284.838 728.031 286.643 731.596 Q288.472 735.137 292.083 735.137 Q295.718 735.137 297.523 731.596 Q299.352 728.031 299.352 720.925 Q299.352 713.795 297.523 710.253 Q295.718 706.688 292.083 706.688 M292.083 702.985 Q297.893 702.985 300.949 707.591 Q304.028 712.175 304.028 720.925 Q304.028 729.651 300.949 734.258 Q297.893 738.841 292.083 738.841 Q286.273 738.841 283.194 734.258 Q280.139 729.651 280.139 720.925 Q280.139 712.175 283.194 707.591 Q286.273 702.985 292.083 702.985 Z\" fill=\"#000000\" fill-rule=\"evenodd\" fill-opacity=\"1\" /><path clip-path=\"url(#clip770)\" d=\"M127.2 375.014 Q123.589 375.014 121.76 378.579 Q119.955 382.121 119.955 389.25 Q119.955 396.357 121.76 399.922 Q123.589 403.463 127.2 403.463 Q130.834 403.463 132.64 399.922 Q134.468 396.357 134.468 389.25 Q134.468 382.121 132.64 378.579 Q130.834 375.014 127.2 375.014 M127.2 371.311 Q133.01 371.311 136.066 375.917 Q139.144 380.5 139.144 389.25 Q139.144 397.977 136.066 402.584 Q133.01 407.167 127.2 407.167 Q121.39 407.167 118.311 402.584 Q115.256 397.977 115.256 389.25 Q115.256 380.5 118.311 375.917 Q121.39 371.311 127.2 371.311 Z\" fill=\"#000000\" fill-rule=\"evenodd\" fill-opacity=\"1\" /><path clip-path=\"url(#clip770)\" d=\"M147.362 400.616 L152.246 400.616 L152.246 406.496 L147.362 406.496 L147.362 400.616 Z\" fill=\"#000000\" fill-rule=\"evenodd\" fill-opacity=\"1\" /><path clip-path=\"url(#clip770)\" d=\"M172.431 375.014 Q168.82 375.014 166.991 378.579 Q165.186 382.121 165.186 389.25 Q165.186 396.357 166.991 399.922 Q168.82 403.463 172.431 403.463 Q176.065 403.463 177.871 399.922 Q179.7 396.357 179.7 389.25 Q179.7 382.121 177.871 378.579 Q176.065 375.014 172.431 375.014 M172.431 371.311 Q178.241 371.311 181.297 375.917 Q184.376 380.5 184.376 389.25 Q184.376 397.977 181.297 402.584 Q178.241 407.167 172.431 407.167 Q166.621 407.167 163.542 402.584 Q160.487 397.977 160.487 389.25 Q160.487 380.5 163.542 375.917 Q166.621 371.311 172.431 371.311 Z\" fill=\"#000000\" fill-rule=\"evenodd\" fill-opacity=\"1\" /><path clip-path=\"url(#clip770)\" d=\"M202.593 375.014 Q198.982 375.014 197.153 378.579 Q195.348 382.121 195.348 389.25 Q195.348 396.357 197.153 399.922 Q198.982 403.463 202.593 403.463 Q206.227 403.463 208.033 399.922 Q209.861 396.357 209.861 389.25 Q209.861 382.121 208.033 378.579 Q206.227 375.014 202.593 375.014 M202.593 371.311 Q208.403 371.311 211.459 375.917 Q214.537 380.5 214.537 389.25 Q214.537 397.977 211.459 402.584 Q208.403 407.167 202.593 407.167 Q196.783 407.167 193.704 402.584 Q190.649 397.977 190.649 389.25 Q190.649 380.5 193.704 375.917 Q196.783 371.311 202.593 371.311 Z\" fill=\"#000000\" fill-rule=\"evenodd\" fill-opacity=\"1\" /><path clip-path=\"url(#clip770)\" d=\"M232.755 375.014 Q229.144 375.014 227.315 378.579 Q225.51 382.121 225.51 389.25 Q225.51 396.357 227.315 399.922 Q229.144 403.463 232.755 403.463 Q236.389 403.463 238.195 399.922 Q240.023 396.357 240.023 389.25 Q240.023 382.121 238.195 378.579 Q236.389 375.014 232.755 375.014 M232.755 371.311 Q238.565 371.311 241.621 375.917 Q244.699 380.5 244.699 389.25 Q244.699 397.977 241.621 402.584 Q238.565 407.167 232.755 407.167 Q226.945 407.167 223.866 402.584 Q220.811 397.977 220.811 389.25 Q220.811 380.5 223.866 375.917 Q226.945 371.311 232.755 371.311 Z\" fill=\"#000000\" fill-rule=\"evenodd\" fill-opacity=\"1\" /><path clip-path=\"url(#clip770)\" d=\"M253.727 402.56 L261.366 402.56 L261.366 376.195 L253.056 377.861 L253.056 373.602 L261.32 371.936 L265.995 371.936 L265.995 402.56 L273.634 402.56 L273.634 406.496 L253.727 406.496 L253.727 402.56 Z\" fill=\"#000000\" fill-rule=\"evenodd\" fill-opacity=\"1\" /><path clip-path=\"url(#clip770)\" d=\"M283.125 371.936 L301.481 371.936 L301.481 375.871 L287.407 375.871 L287.407 384.343 Q288.426 383.996 289.444 383.834 Q290.463 383.648 291.481 383.648 Q297.268 383.648 300.648 386.82 Q304.028 389.991 304.028 395.408 Q304.028 400.986 300.555 404.088 Q297.083 407.167 290.764 407.167 Q288.588 407.167 286.319 406.797 Q284.074 406.426 281.667 405.685 L281.667 400.986 Q283.75 402.121 285.972 402.676 Q288.194 403.232 290.671 403.232 Q294.676 403.232 297.014 401.125 Q299.352 399.019 299.352 395.408 Q299.352 391.797 297.014 389.69 Q294.676 387.584 290.671 387.584 Q288.796 387.584 286.921 388 Q285.069 388.417 283.125 389.297 L283.125 371.936 Z\" fill=\"#000000\" fill-rule=\"evenodd\" fill-opacity=\"1\" /><path clip-path=\"url(#clip770)\" d=\"M126.205 43.34 Q122.593 43.34 120.765 46.9048 Q118.959 50.4465 118.959 57.5761 Q118.959 64.6825 120.765 68.2473 Q122.593 71.789 126.205 71.789 Q129.839 71.789 131.644 68.2473 Q133.473 64.6825 133.473 57.5761 Q133.473 50.4465 131.644 46.9048 Q129.839 43.34 126.205 43.34 M126.205 39.6364 Q132.015 39.6364 135.07 44.2428 Q138.149 48.8261 138.149 57.5761 Q138.149 66.3029 135.07 70.9093 Q132.015 75.4926 126.205 75.4926 Q120.394 75.4926 117.316 70.9093 Q114.26 66.3029 114.26 57.5761 Q114.26 48.8261 117.316 44.2428 Q120.394 39.6364 126.205 39.6364 Z\" fill=\"#000000\" fill-rule=\"evenodd\" fill-opacity=\"1\" /><path clip-path=\"url(#clip770)\" d=\"M146.366 68.9418 L151.251 68.9418 L151.251 74.8213 L146.366 74.8213 L146.366 68.9418 Z\" fill=\"#000000\" fill-rule=\"evenodd\" fill-opacity=\"1\" /><path clip-path=\"url(#clip770)\" d=\"M171.436 43.34 Q167.825 43.34 165.996 46.9048 Q164.19 50.4465 164.19 57.5761 Q164.19 64.6825 165.996 68.2473 Q167.825 71.789 171.436 71.789 Q175.07 71.789 176.876 68.2473 Q178.704 64.6825 178.704 57.5761 Q178.704 50.4465 176.876 46.9048 Q175.07 43.34 171.436 43.34 M171.436 39.6364 Q177.246 39.6364 180.301 44.2428 Q183.38 48.8261 183.38 57.5761 Q183.38 66.3029 180.301 70.9093 Q177.246 75.4926 171.436 75.4926 Q165.626 75.4926 162.547 70.9093 Q159.491 66.3029 159.491 57.5761 Q159.491 48.8261 162.547 44.2428 Q165.626 39.6364 171.436 39.6364 Z\" fill=\"#000000\" fill-rule=\"evenodd\" fill-opacity=\"1\" /><path clip-path=\"url(#clip770)\" d=\"M201.598 43.34 Q197.987 43.34 196.158 46.9048 Q194.352 50.4465 194.352 57.5761 Q194.352 64.6825 196.158 68.2473 Q197.987 71.789 201.598 71.789 Q205.232 71.789 207.037 68.2473 Q208.866 64.6825 208.866 57.5761 Q208.866 50.4465 207.037 46.9048 Q205.232 43.34 201.598 43.34 M201.598 39.6364 Q207.408 39.6364 210.463 44.2428 Q213.542 48.8261 213.542 57.5761 Q213.542 66.3029 210.463 70.9093 Q207.408 75.4926 201.598 75.4926 Q195.787 75.4926 192.709 70.9093 Q189.653 66.3029 189.653 57.5761 Q189.653 48.8261 192.709 44.2428 Q195.787 39.6364 201.598 39.6364 Z\" fill=\"#000000\" fill-rule=\"evenodd\" fill-opacity=\"1\" /><path clip-path=\"url(#clip770)\" d=\"M231.76 43.34 Q228.148 43.34 226.32 46.9048 Q224.514 50.4465 224.514 57.5761 Q224.514 64.6825 226.32 68.2473 Q228.148 71.789 231.76 71.789 Q235.394 71.789 237.199 68.2473 Q239.028 64.6825 239.028 57.5761 Q239.028 50.4465 237.199 46.9048 Q235.394 43.34 231.76 43.34 M231.76 39.6364 Q237.57 39.6364 240.625 44.2428 Q243.704 48.8261 243.704 57.5761 Q243.704 66.3029 240.625 70.9093 Q237.57 75.4926 231.76 75.4926 Q225.949 75.4926 222.871 70.9093 Q219.815 66.3029 219.815 57.5761 Q219.815 48.8261 222.871 44.2428 Q225.949 39.6364 231.76 39.6364 Z\" fill=\"#000000\" fill-rule=\"evenodd\" fill-opacity=\"1\" /><path clip-path=\"url(#clip770)\" d=\"M255.949 70.8862 L272.269 70.8862 L272.269 74.8213 L250.324 74.8213 L250.324 70.8862 Q252.986 68.1316 257.57 63.502 Q262.176 58.8492 263.357 57.5066 Q265.602 54.9835 266.482 53.2474 Q267.384 51.4881 267.384 49.7983 Q267.384 47.0437 265.44 45.3076 Q263.519 43.5715 260.417 43.5715 Q258.218 43.5715 255.764 44.3354 Q253.333 45.0993 250.556 46.6502 L250.556 41.928 Q253.38 40.7938 255.833 40.2151 Q258.287 39.6364 260.324 39.6364 Q265.695 39.6364 268.889 42.3215 Q272.083 45.0067 272.083 49.4974 Q272.083 51.627 271.273 53.5483 Q270.486 55.4465 268.38 58.039 Q267.801 58.7103 264.699 61.9279 Q261.597 65.1223 255.949 70.8862 Z\" fill=\"#000000\" fill-rule=\"evenodd\" fill-opacity=\"1\" /><path clip-path=\"url(#clip770)\" d=\"M292.083 43.34 Q288.472 43.34 286.643 46.9048 Q284.838 50.4465 284.838 57.5761 Q284.838 64.6825 286.643 68.2473 Q288.472 71.789 292.083 71.789 Q295.718 71.789 297.523 68.2473 Q299.352 64.6825 299.352 57.5761 Q299.352 50.4465 297.523 46.9048 Q295.718 43.34 292.083 43.34 M292.083 39.6364 Q297.893 39.6364 300.949 44.2428 Q304.028 48.8261 304.028 57.5761 Q304.028 66.3029 300.949 70.9093 Q297.893 75.4926 292.083 75.4926 Q286.273 75.4926 283.194 70.9093 Q280.139 66.3029 280.139 57.5761 Q280.139 48.8261 283.194 44.2428 Q286.273 39.6364 292.083 39.6364 Z\" fill=\"#000000\" fill-rule=\"evenodd\" fill-opacity=\"1\" /><path clip-path=\"url(#clip770)\" d=\"M18.2347 981.231 L28.3562 981.231 L28.3562 969.168 L32.9077 969.168 L32.9077 981.231 L52.2594 981.231 Q56.6199 981.231 57.8613 980.053 Q59.1026 978.843 59.1026 975.183 L59.1026 969.168 L64.0042 969.168 L64.0042 975.183 Q64.0042 981.963 61.4897 984.541 Q58.9434 987.119 52.2594 987.119 L32.9077 987.119 L32.9077 991.416 L28.3562 991.416 L28.3562 987.119 L18.2347 987.119 L18.2347 981.231 Z\" fill=\"#000000\" fill-rule=\"evenodd\" fill-opacity=\"1\" /><path clip-path=\"url(#clip770)\" d=\"M33.8307 940.808 Q33.2578 941.795 33.0032 942.973 Q32.7167 944.119 32.7167 945.519 Q32.7167 950.484 35.9632 953.158 Q39.1779 955.8 45.2253 955.8 L64.0042 955.8 L64.0042 961.688 L28.3562 961.688 L28.3562 955.8 L33.8944 955.8 Q30.6479 953.954 29.0883 950.994 Q27.4968 948.033 27.4968 943.8 Q27.4968 943.196 27.5923 942.463 Q27.656 941.731 27.8151 940.84 L33.8307 940.808 Z\" fill=\"#000000\" fill-rule=\"evenodd\" fill-opacity=\"1\" /><path clip-path=\"url(#clip770)\" d=\"M49.9359 935.27 L28.3562 935.27 L28.3562 929.414 L49.7131 929.414 Q54.7739 929.414 57.3202 927.44 Q59.8346 925.467 59.8346 921.52 Q59.8346 916.778 56.8109 914.041 Q53.7872 911.271 48.5673 911.271 L28.3562 911.271 L28.3562 905.415 L64.0042 905.415 L64.0042 911.271 L58.5296 911.271 Q61.7762 913.404 63.3676 916.237 Q64.9272 919.038 64.9272 922.762 Q64.9272 928.905 61.1078 932.087 Q57.2883 935.27 49.9359 935.27 M27.4968 920.534 L27.4968 920.534 Z\" fill=\"#000000\" fill-rule=\"evenodd\" fill-opacity=\"1\" /><path clip-path=\"url(#clip770)\" d=\"M42.4881 863.72 L64.0042 863.72 L64.0042 869.576 L42.679 869.576 Q37.6183 869.576 35.1038 871.549 Q32.5894 873.523 32.5894 877.47 Q32.5894 882.212 35.6131 884.949 Q38.6368 887.687 43.8567 887.687 L64.0042 887.687 L64.0042 893.575 L28.3562 893.575 L28.3562 887.687 L33.8944 887.687 Q30.6797 885.586 29.0883 882.753 Q27.4968 879.889 27.4968 876.165 Q27.4968 870.022 31.3163 866.871 Q35.1038 863.72 42.4881 863.72 Z\" fill=\"#000000\" fill-rule=\"evenodd\" fill-opacity=\"1\" /><path clip-path=\"url(#clip770)\" d=\"M29.7248 826.385 L35.1993 826.385 Q33.8307 828.867 33.1623 831.382 Q32.4621 833.865 32.4621 836.411 Q32.4621 842.108 36.0905 845.259 Q39.6872 848.41 46.212 848.41 Q52.7369 848.41 56.3653 845.259 Q59.9619 842.108 59.9619 836.411 Q59.9619 833.865 59.2935 831.382 Q58.5933 828.867 57.2247 826.385 L62.6355 826.385 Q63.7814 828.836 64.3543 831.477 Q64.9272 834.087 64.9272 837.047 Q64.9272 845.1 59.8664 849.842 Q54.8057 854.585 46.212 854.585 Q37.491 854.585 32.4939 849.811 Q27.4968 845.004 27.4968 836.665 Q27.4968 833.96 28.0697 831.382 Q28.6108 828.804 29.7248 826.385 Z\" fill=\"#000000\" fill-rule=\"evenodd\" fill-opacity=\"1\" /><path clip-path=\"url(#clip770)\" d=\"M46.0847 799.999 Q46.0847 807.097 47.7079 809.834 Q49.3312 812.571 53.2461 812.571 Q56.3653 812.571 58.2114 810.534 Q60.0256 808.465 60.0256 804.932 Q60.0256 800.063 56.5881 797.134 Q53.1188 794.174 47.3897 794.174 L46.0847 794.174 L46.0847 799.999 M43.6657 788.318 L64.0042 788.318 L64.0042 794.174 L58.5933 794.174 Q61.8398 796.18 63.3994 799.171 Q64.9272 802.163 64.9272 806.492 Q64.9272 811.966 61.8716 815.213 Q58.7843 818.428 53.6281 818.428 Q47.6125 818.428 44.5569 814.417 Q41.5014 810.375 41.5014 802.386 L41.5014 794.174 L40.9285 794.174 Q36.8862 794.174 34.6901 796.848 Q32.4621 799.49 32.4621 804.296 Q32.4621 807.351 33.1941 810.248 Q33.9262 813.144 35.3903 815.818 L29.9795 815.818 Q28.7381 812.603 28.1334 809.579 Q27.4968 806.556 27.4968 803.691 Q27.4968 795.957 31.5072 792.137 Q35.5176 788.318 43.6657 788.318 Z\" fill=\"#000000\" fill-rule=\"evenodd\" fill-opacity=\"1\" /><path clip-path=\"url(#clip770)\" d=\"M18.2347 770.462 L28.3562 770.462 L28.3562 758.399 L32.9077 758.399 L32.9077 770.462 L52.2594 770.462 Q56.6199 770.462 57.8613 769.284 Q59.1026 768.075 59.1026 764.415 L59.1026 758.399 L64.0042 758.399 L64.0042 764.415 Q64.0042 771.194 61.4897 773.772 Q58.9434 776.35 52.2594 776.35 L32.9077 776.35 L32.9077 780.647 L28.3562 780.647 L28.3562 776.35 L18.2347 776.35 L18.2347 770.462 Z\" fill=\"#000000\" fill-rule=\"evenodd\" fill-opacity=\"1\" /><path clip-path=\"url(#clip770)\" d=\"M28.3562 750.697 L28.3562 744.84 L64.0042 744.84 L64.0042 750.697 L28.3562 750.697 M14.479 750.697 L14.479 744.84 L21.895 744.84 L21.895 750.697 L14.479 750.697 Z\" fill=\"#000000\" fill-rule=\"evenodd\" fill-opacity=\"1\" /><path clip-path=\"url(#clip770)\" d=\"M32.4621 718.773 Q32.4621 723.483 36.1542 726.22 Q39.8145 728.958 46.212 728.958 Q52.6095 728.958 56.3017 726.252 Q59.9619 723.515 59.9619 718.773 Q59.9619 714.094 56.2698 711.356 Q52.5777 708.619 46.212 708.619 Q39.8781 708.619 36.186 711.356 Q32.4621 714.094 32.4621 718.773 M27.4968 718.773 Q27.4968 711.134 32.4621 706.773 Q37.4273 702.413 46.212 702.413 Q54.9649 702.413 59.9619 706.773 Q64.9272 711.134 64.9272 718.773 Q64.9272 726.443 59.9619 730.804 Q54.9649 735.132 46.212 735.132 Q37.4273 735.132 32.4621 730.804 Q27.4968 726.443 27.4968 718.773 Z\" fill=\"#000000\" fill-rule=\"evenodd\" fill-opacity=\"1\" /><path clip-path=\"url(#clip770)\" d=\"M42.4881 663.073 L64.0042 663.073 L64.0042 668.929 L42.679 668.929 Q37.6183 668.929 35.1038 670.902 Q32.5894 672.876 32.5894 676.823 Q32.5894 681.565 35.6131 684.302 Q38.6368 687.039 43.8567 687.039 L64.0042 687.039 L64.0042 692.928 L28.3562 692.928 L28.3562 687.039 L33.8944 687.039 Q30.6797 684.939 29.0883 682.106 Q27.4968 679.241 27.4968 675.518 Q27.4968 669.375 31.3163 666.224 Q35.1038 663.073 42.4881 663.073 Z\" fill=\"#000000\" fill-rule=\"evenodd\" fill-opacity=\"1\" /><path clip-path=\"url(#clip770)\" d=\"M44.7161 600.179 L47.5806 600.179 L47.5806 627.106 Q53.6281 626.724 56.8109 623.478 Q59.9619 620.2 59.9619 614.375 Q59.9619 611.001 59.1344 607.85 Q58.3069 604.667 56.6518 601.548 L62.1899 601.548 Q63.5267 604.699 64.227 608.009 Q64.9272 611.319 64.9272 614.725 Q64.9272 623.255 59.9619 628.252 Q54.9967 633.217 46.5303 633.217 Q37.7774 633.217 32.6531 628.507 Q27.4968 623.764 27.4968 615.744 Q27.4968 608.55 32.1438 604.381 Q36.7589 600.179 44.7161 600.179 M42.9973 606.036 Q38.1912 606.1 35.3266 608.741 Q32.4621 611.351 32.4621 615.68 Q32.4621 620.582 35.2312 623.542 Q38.0002 626.47 43.0292 626.915 L42.9973 606.036 Z\" fill=\"#000000\" fill-rule=\"evenodd\" fill-opacity=\"1\" /><path clip-path=\"url(#clip770)\" d=\"M33.8307 569.91 Q33.2578 570.897 33.0032 572.075 Q32.7167 573.221 32.7167 574.621 Q32.7167 579.586 35.9632 582.26 Q39.1779 584.902 45.2253 584.902 L64.0042 584.902 L64.0042 590.79 L28.3562 590.79 L28.3562 584.902 L33.8944 584.902 Q30.6479 583.056 29.0883 580.096 Q27.4968 577.136 27.4968 572.902 Q27.4968 572.298 27.5923 571.566 Q27.656 570.834 27.8151 569.942 L33.8307 569.91 Z\" fill=\"#000000\" fill-rule=\"evenodd\" fill-opacity=\"1\" /><path clip-path=\"url(#clip770)\" d=\"M33.8307 544.257 Q33.2578 545.243 33.0032 546.421 Q32.7167 547.567 32.7167 548.967 Q32.7167 553.933 35.9632 556.606 Q39.1779 559.248 45.2253 559.248 L64.0042 559.248 L64.0042 565.136 L28.3562 565.136 L28.3562 559.248 L33.8944 559.248 Q30.6479 557.402 29.0883 554.442 Q27.4968 551.482 27.4968 547.249 Q27.4968 546.644 27.5923 545.912 Q27.656 545.18 27.8151 544.289 L33.8307 544.257 Z\" fill=\"#000000\" fill-rule=\"evenodd\" fill-opacity=\"1\" /><path clip-path=\"url(#clip770)\" d=\"M32.4621 525.732 Q32.4621 530.443 36.1542 533.18 Q39.8145 535.918 46.212 535.918 Q52.6095 535.918 56.3017 533.212 Q59.9619 530.475 59.9619 525.732 Q59.9619 521.054 56.2698 518.316 Q52.5777 515.579 46.212 515.579 Q39.8781 515.579 36.186 518.316 Q32.4621 521.054 32.4621 525.732 M27.4968 525.732 Q27.4968 518.094 32.4621 513.733 Q37.4273 509.373 46.212 509.373 Q54.9649 509.373 59.9619 513.733 Q64.9272 518.094 64.9272 525.732 Q64.9272 533.403 59.9619 537.764 Q54.9649 542.092 46.212 542.092 Q37.4273 542.092 32.4621 537.764 Q27.4968 533.403 27.4968 525.732 Z\" fill=\"#000000\" fill-rule=\"evenodd\" fill-opacity=\"1\" /><path clip-path=\"url(#clip770)\" d=\"M33.8307 479.008 Q33.2578 479.995 33.0032 481.173 Q32.7167 482.318 32.7167 483.719 Q32.7167 488.684 35.9632 491.358 Q39.1779 493.999 45.2253 493.999 L64.0042 493.999 L64.0042 499.888 L28.3562 499.888 L28.3562 493.999 L33.8944 493.999 Q30.6479 492.153 29.0883 489.193 Q27.4968 486.233 27.4968 482 Q27.4968 481.395 27.5923 480.663 Q27.656 479.931 27.8151 479.04 L33.8307 479.008 Z\" fill=\"#000000\" fill-rule=\"evenodd\" fill-opacity=\"1\" /><polyline clip-path=\"url(#clip772)\" style=\"stroke:#009af9; stroke-linecap:butt; stroke-linejoin:round; stroke-width:4; stroke-opacity:1; fill:none\" points=\"\n",
       "  2295.79,1384.24 2257.04,1384.24 2218.29,1384.24 2179.54,1384.24 2140.79,1384.24 2102.04,1384.24 2063.29,1384.24 2024.53,1384.24 1985.78,1384.23 1947.03,1384.23 \n",
       "  1908.28,1384.22 1869.53,1384.2 1830.78,1384.17 1792.03,1384.12 1753.28,1384.03 1714.53,1383.91 1675.78,1383.72 1637.02,1383.44 1598.27,1383.05 1559.52,1382.51 \n",
       "  1520.77,1381.76 1482.02,1380.75 1443.27,1379.41 1404.52,1377.65 1365.77,1375.37 1327.02,1372.44 1288.27,1368.71 1249.51,1364.02 1210.76,1358.17 1172.01,1350.93 \n",
       "  1133.26,1342.02 1094.51,1331.14 1055.76,1317.95 1017.01,1302.05 978.257,1282.99 939.506,1260.26 900.755,1233.3 862.004,1201.46 823.253,1164.05 784.502,1120.26 \n",
       "  745.751,1069.21 707,1009.95 668.249,941.386 629.498,862.347 590.747,771.532 551.996,667.52 513.245,548.755 474.494,413.538 435.743,260.019 396.992,86.1857 \n",
       "  \n",
       "  \"/>\n",
       "<path clip-path=\"url(#clip770)\" d=\"\n",
       "M2009.6 196.789 L2285.66 196.789 L2285.66 93.1086 L2009.6 93.1086  Z\n",
       "  \" fill=\"#ffffff\" fill-rule=\"evenodd\" fill-opacity=\"1\"/>\n",
       "<polyline clip-path=\"url(#clip770)\" style=\"stroke:#000000; stroke-linecap:butt; stroke-linejoin:round; stroke-width:4; stroke-opacity:1; fill:none\" points=\"\n",
       "  2009.6,196.789 2285.66,196.789 2285.66,93.1086 2009.6,93.1086 2009.6,196.789 \n",
       "  \"/>\n",
       "<polyline clip-path=\"url(#clip770)\" style=\"stroke:#009af9; stroke-linecap:butt; stroke-linejoin:round; stroke-width:4; stroke-opacity:1; fill:none\" points=\"\n",
       "  2031.96,144.949 2166.14,144.949 \n",
       "  \"/>\n",
       "<path clip-path=\"url(#clip770)\" d=\"M2202.35 164.636 Q2200.54 169.266 2198.83 170.678 Q2197.12 172.09 2194.25 172.09 L2190.85 172.09 L2190.85 168.525 L2193.35 168.525 Q2195.1 168.525 2196.08 167.692 Q2197.05 166.858 2198.23 163.756 L2198.99 161.812 L2188.51 136.303 L2193.02 136.303 L2201.12 156.581 L2209.22 136.303 L2213.74 136.303 L2202.35 164.636 Z\" fill=\"#000000\" fill-rule=\"evenodd\" fill-opacity=\"1\" /><path clip-path=\"url(#clip770)\" d=\"M2221.03 158.293 L2228.67 158.293 L2228.67 131.928 L2220.36 133.595 L2220.36 129.335 L2228.62 127.669 L2233.3 127.669 L2233.3 158.293 L2240.94 158.293 L2240.94 162.229 L2221.03 162.229 L2221.03 158.293 Z\" fill=\"#000000\" fill-rule=\"evenodd\" fill-opacity=\"1\" /></svg>\n"
      ]
     },
     "execution_count": 23,
     "metadata": {},
     "output_type": "execute_result"
    }
   ],
   "source": [
    "using Plots\n",
    "using LaTeXStrings\n",
    "\n",
    "function truncation_error(x)\n",
    "    \"\"\"\n",
    "    ------------------------------------------\n",
    "    Returns the truncarion error obtained when\n",
    "    comparing the 7th order accurate \n",
    "    approximation of the sin x function and \n",
    "    the numpy.sin() function \n",
    "    ------------------------------------------\n",
    "    Arguments:\n",
    "    x : point at which the truncation error is\n",
    "    calculated\n",
    "    ------------------------------------------\n",
    "    \"\"\"\n",
    "    mysin = x - x^3/6 + x^5/120\n",
    "    return abs(sin(x) - mysin)\n",
    "end\n",
    "\n",
    "x = LinRange(0, 1, 50)\n",
    "\n",
    "plot(x, truncation_error.(x), xlabel=L\"x\", ylabel=\"truncation error\", xflip=true)"
   ]
  },
  {
   "cell_type": "markdown",
   "metadata": {
    "id": "d9_AoayC4KxA"
   },
   "source": [
    "#### Estimating the precision of a truncated series\n",
    "\n",
    "To estimate the order of precision of a truncated approximation of a function, we will take a number in the range $0<x<1$ and compute the truncation error. Then the chosen number will be halved and the truncation error will be calculated again. The ratio between the two errors obtained results in a factor of the form $2^n$, where $n$ is the order of precision of the approximation."
   ]
  },
  {
   "cell_type": "code",
   "execution_count": 41,
   "metadata": {
    "colab": {
     "base_uri": "https://localhost:8080/"
    },
    "executionInfo": {
     "elapsed": 474,
     "status": "ok",
     "timestamp": 1618613672495,
     "user": {
      "displayName": "Eduard Alexis Larranaga",
      "photoUrl": "https://lh3.googleusercontent.com/a-/AOh14GgCVABzEgj-rCdyxWa29RnA0kIYUCXAaVbnRYOEhQ=s64",
      "userId": "04402438389940282602"
     },
     "user_tz": 300
    },
    "id": "81FoyWrC4KxA",
    "outputId": "53ae2f28-6b24-4c62-d134-6ece182532b0"
   },
   "outputs": [
    {
     "name": "stdout",
     "output_type": "stream",
     "text": [
      "For x = 0.191 the truncation error is: 1.828e-09 \n",
      "For x = 0.095 the truncation error is: 1.428e-11 \n",
      "The reason of these values is 127.952 \n",
      "which is approximately 2^7.0 \n"
     ]
    }
   ],
   "source": [
    "# Randomly choosing the number in the range 0<x<1\n",
    "x = rand()  \n",
    "\n",
    "# Calculate the truncation errors and their ratio\n",
    "te_x = truncation_error(x)\n",
    "te_x2 = truncation_error(x/2)\n",
    "ratio = te_x/te_x2 \n",
    "\n",
    "# Results\n",
    "@printf \"For x = %.3f the truncation error is: %.3e \\n\" x te_x\n",
    "@printf \"For x = %.3f the truncation error is: %.3e \\n\" x/2 te_x2\n",
    "@printf \"The reason of these values is %.3f \\n\" ratio\n",
    "@printf \"which is approximately 2^%.1f \\n\" log2(ratio)\n"
   ]
  },
  {
   "cell_type": "markdown",
   "metadata": {
    "id": "9QGdYI9h4KxB"
   },
   "source": [
    "---\n",
    "### Stability of an Algorithm\n",
    "\n",
    "An algorithm, equation or problem is called **unstable** or **ill-conditioned** if small changes in the input data produce large changes in the output data."
   ]
  },
  {
   "cell_type": "markdown",
   "metadata": {
    "id": "tofgqFeb4KxB"
   },
   "source": [
    "To illustrate a stable algorithm, consider the recurrence relation\n",
    "\n",
    "$x_0 = 1$\\\n",
    "$x_1 = \\frac{1}{3}$\\\n",
    "$x_{n+1} = \\frac{13}{3}x_n - \\frac{4}{3} x_{n-1} $\n",
    "\n",
    "which is equivalent to\n",
    "\n",
    "$x_n = \\left( \\frac{1}{3} \\right)^n$."
   ]
  },
  {
   "cell_type": "code",
   "execution_count": 66,
   "metadata": {
    "colab": {
     "base_uri": "https://localhost:8080/",
     "height": 334
    },
    "executionInfo": {
     "elapsed": 680,
     "status": "ok",
     "timestamp": 1618613677155,
     "user": {
      "displayName": "Eduard Alexis Larranaga",
      "photoUrl": "https://lh3.googleusercontent.com/a-/AOh14GgCVABzEgj-rCdyxWa29RnA0kIYUCXAaVbnRYOEhQ=s64",
      "userId": "04402438389940282602"
     },
     "user_tz": 300
    },
    "id": "A_NhTtNs4KxB",
    "outputId": "d3f303fa-3375-4dc1-bfdf-0a51e2b575ff",
    "scrolled": false
   },
   "outputs": [
    {
     "data": {
      "image/svg+xml": [
       "<?xml version=\"1.0\" encoding=\"utf-8\"?>\n",
       "<svg xmlns=\"http://www.w3.org/2000/svg\" xmlns:xlink=\"http://www.w3.org/1999/xlink\" width=\"600\" height=\"400\" viewBox=\"0 0 2400 1600\">\n",
       "<defs>\n",
       "  <clipPath id=\"clip390\">\n",
       "    <rect x=\"0\" y=\"0\" width=\"2400\" height=\"1600\"/>\n",
       "  </clipPath>\n",
       "</defs>\n",
       "<path clip-path=\"url(#clip390)\" d=\"\n",
       "M0 1600 L2400 1600 L2400 0 L0 0  Z\n",
       "  \" fill=\"#ffffff\" fill-rule=\"evenodd\" fill-opacity=\"1\"/>\n",
       "<defs>\n",
       "  <clipPath id=\"clip391\">\n",
       "    <rect x=\"480\" y=\"0\" width=\"1681\" height=\"1600\"/>\n",
       "  </clipPath>\n",
       "</defs>\n",
       "<defs>\n",
       "  <clipPath id=\"clip392\">\n",
       "    <rect x=\"186\" y=\"47\" width=\"2167\" height=\"1377\"/>\n",
       "  </clipPath>\n",
       "</defs>\n",
       "<path clip-path=\"url(#clip390)\" d=\"\n",
       "M186.274 1423.18 L2352.76 1423.18 L2352.76 47.2441 L186.274 47.2441  Z\n",
       "  \" fill=\"#ffffff\" fill-rule=\"evenodd\" fill-opacity=\"1\"/>\n",
       "<polyline clip-path=\"url(#clip392)\" style=\"stroke:#000000; stroke-linecap:butt; stroke-linejoin:round; stroke-width:2; stroke-opacity:0.1; fill:none\" points=\"\n",
       "  247.59,1423.18 247.59,47.2441 \n",
       "  \"/>\n",
       "<polyline clip-path=\"url(#clip392)\" style=\"stroke:#000000; stroke-linecap:butt; stroke-linejoin:round; stroke-width:2; stroke-opacity:0.1; fill:none\" points=\"\n",
       "  848.722,1423.18 848.722,47.2441 \n",
       "  \"/>\n",
       "<polyline clip-path=\"url(#clip392)\" style=\"stroke:#000000; stroke-linecap:butt; stroke-linejoin:round; stroke-width:2; stroke-opacity:0.1; fill:none\" points=\"\n",
       "  1449.85,1423.18 1449.85,47.2441 \n",
       "  \"/>\n",
       "<polyline clip-path=\"url(#clip392)\" style=\"stroke:#000000; stroke-linecap:butt; stroke-linejoin:round; stroke-width:2; stroke-opacity:0.1; fill:none\" points=\"\n",
       "  2050.99,1423.18 2050.99,47.2441 \n",
       "  \"/>\n",
       "<polyline clip-path=\"url(#clip390)\" style=\"stroke:#000000; stroke-linecap:butt; stroke-linejoin:round; stroke-width:4; stroke-opacity:1; fill:none\" points=\"\n",
       "  186.274,1423.18 2352.76,1423.18 \n",
       "  \"/>\n",
       "<polyline clip-path=\"url(#clip390)\" style=\"stroke:#000000; stroke-linecap:butt; stroke-linejoin:round; stroke-width:4; stroke-opacity:1; fill:none\" points=\"\n",
       "  247.59,1423.18 247.59,1404.28 \n",
       "  \"/>\n",
       "<polyline clip-path=\"url(#clip390)\" style=\"stroke:#000000; stroke-linecap:butt; stroke-linejoin:round; stroke-width:4; stroke-opacity:1; fill:none\" points=\"\n",
       "  848.722,1423.18 848.722,1404.28 \n",
       "  \"/>\n",
       "<polyline clip-path=\"url(#clip390)\" style=\"stroke:#000000; stroke-linecap:butt; stroke-linejoin:round; stroke-width:4; stroke-opacity:1; fill:none\" points=\"\n",
       "  1449.85,1423.18 1449.85,1404.28 \n",
       "  \"/>\n",
       "<polyline clip-path=\"url(#clip390)\" style=\"stroke:#000000; stroke-linecap:butt; stroke-linejoin:round; stroke-width:4; stroke-opacity:1; fill:none\" points=\"\n",
       "  2050.99,1423.18 2050.99,1404.28 \n",
       "  \"/>\n",
       "<path clip-path=\"url(#clip390)\" d=\"M247.59 1454.1 Q243.978 1454.1 242.15 1457.66 Q240.344 1461.2 240.344 1468.33 Q240.344 1475.44 242.15 1479.01 Q243.978 1482.55 247.59 1482.55 Q251.224 1482.55 253.029 1479.01 Q254.858 1475.44 254.858 1468.33 Q254.858 1461.2 253.029 1457.66 Q251.224 1454.1 247.59 1454.1 M247.59 1450.39 Q253.4 1450.39 256.455 1455 Q259.534 1459.58 259.534 1468.33 Q259.534 1477.06 256.455 1481.67 Q253.4 1486.25 247.59 1486.25 Q241.779 1486.25 238.701 1481.67 Q235.645 1477.06 235.645 1468.33 Q235.645 1459.58 238.701 1455 Q241.779 1450.39 247.59 1450.39 Z\" fill=\"#000000\" fill-rule=\"evenodd\" fill-opacity=\"1\" /><path clip-path=\"url(#clip390)\" d=\"M839 1451.02 L857.356 1451.02 L857.356 1454.96 L843.282 1454.96 L843.282 1463.43 Q844.301 1463.08 845.319 1462.92 Q846.338 1462.73 847.356 1462.73 Q853.143 1462.73 856.523 1465.9 Q859.903 1469.08 859.903 1474.49 Q859.903 1480.07 856.43 1483.17 Q852.958 1486.25 846.639 1486.25 Q844.463 1486.25 842.194 1485.88 Q839.949 1485.51 837.542 1484.77 L837.542 1480.07 Q839.625 1481.2 841.847 1481.76 Q844.069 1482.32 846.546 1482.32 Q850.551 1482.32 852.889 1480.21 Q855.227 1478.1 855.227 1474.49 Q855.227 1470.88 852.889 1468.77 Q850.551 1466.67 846.546 1466.67 Q844.671 1466.67 842.796 1467.08 Q840.944 1467.5 839 1468.38 L839 1451.02 Z\" fill=\"#000000\" fill-rule=\"evenodd\" fill-opacity=\"1\" /><path clip-path=\"url(#clip390)\" d=\"M1424.54 1481.64 L1432.18 1481.64 L1432.18 1455.28 L1423.87 1456.95 L1423.87 1452.69 L1432.13 1451.02 L1436.81 1451.02 L1436.81 1481.64 L1444.45 1481.64 L1444.45 1485.58 L1424.54 1485.58 L1424.54 1481.64 Z\" fill=\"#000000\" fill-rule=\"evenodd\" fill-opacity=\"1\" /><path clip-path=\"url(#clip390)\" d=\"M1463.89 1454.1 Q1460.28 1454.1 1458.45 1457.66 Q1456.65 1461.2 1456.65 1468.33 Q1456.65 1475.44 1458.45 1479.01 Q1460.28 1482.55 1463.89 1482.55 Q1467.53 1482.55 1469.33 1479.01 Q1471.16 1475.44 1471.16 1468.33 Q1471.16 1461.2 1469.33 1457.66 Q1467.53 1454.1 1463.89 1454.1 M1463.89 1450.39 Q1469.7 1450.39 1472.76 1455 Q1475.84 1459.58 1475.84 1468.33 Q1475.84 1477.06 1472.76 1481.67 Q1469.7 1486.25 1463.89 1486.25 Q1458.08 1486.25 1455.01 1481.67 Q1451.95 1477.06 1451.95 1468.33 Q1451.95 1459.58 1455.01 1455 Q1458.08 1450.39 1463.89 1450.39 Z\" fill=\"#000000\" fill-rule=\"evenodd\" fill-opacity=\"1\" /><path clip-path=\"url(#clip390)\" d=\"M2026.17 1481.64 L2033.81 1481.64 L2033.81 1455.28 L2025.5 1456.95 L2025.5 1452.69 L2033.77 1451.02 L2038.44 1451.02 L2038.44 1481.64 L2046.08 1481.64 L2046.08 1485.58 L2026.17 1485.58 L2026.17 1481.64 Z\" fill=\"#000000\" fill-rule=\"evenodd\" fill-opacity=\"1\" /><path clip-path=\"url(#clip390)\" d=\"M2055.57 1451.02 L2073.93 1451.02 L2073.93 1454.96 L2059.85 1454.96 L2059.85 1463.43 Q2060.87 1463.08 2061.89 1462.92 Q2062.91 1462.73 2063.93 1462.73 Q2069.71 1462.73 2073.09 1465.9 Q2076.47 1469.08 2076.47 1474.49 Q2076.47 1480.07 2073 1483.17 Q2069.53 1486.25 2063.21 1486.25 Q2061.03 1486.25 2058.77 1485.88 Q2056.52 1485.51 2054.11 1484.77 L2054.11 1480.07 Q2056.2 1481.2 2058.42 1481.76 Q2060.64 1482.32 2063.12 1482.32 Q2067.12 1482.32 2069.46 1480.21 Q2071.8 1478.1 2071.8 1474.49 Q2071.8 1470.88 2069.46 1468.77 Q2067.12 1466.67 2063.12 1466.67 Q2061.24 1466.67 2059.37 1467.08 Q2057.52 1467.5 2055.57 1468.38 L2055.57 1451.02 Z\" fill=\"#000000\" fill-rule=\"evenodd\" fill-opacity=\"1\" /><path clip-path=\"url(#clip390)\" d=\"M1285.68 1560.8 Q1285.68 1561.06 1285.39 1562.05 Q1285.1 1563.05 1284.39 1564.6 Q1283.71 1566.14 1282.78 1567.56 Q1281.85 1568.95 1280.3 1569.98 Q1278.79 1570.97 1277.05 1570.97 Q1274.73 1570.97 1273.18 1569.43 Q1271.64 1567.88 1271.64 1565.56 Q1271.64 1564.28 1272.31 1562.5 Q1276.6 1551.07 1276.6 1547.14 Q1276.6 1542.54 1273.02 1542.54 Q1271.25 1542.54 1269.57 1543.21 Q1267.93 1543.86 1266.81 1544.76 Q1265.68 1545.66 1264.65 1546.92 Q1263.65 1548.14 1263.13 1548.98 Q1262.65 1549.78 1262.26 1550.59 L1261.43 1553.87 Q1261.23 1554.78 1260.3 1558.29 L1258.85 1564.24 Q1257.82 1568.69 1257.59 1569.11 Q1257.27 1570.01 1256.56 1570.49 Q1255.86 1570.97 1255.15 1570.97 Q1254.34 1570.97 1253.79 1570.49 Q1253.25 1570.01 1253.25 1569.17 Q1253.25 1569.04 1253.34 1568.56 Q1253.44 1568.08 1253.6 1567.4 Q1253.76 1566.72 1253.83 1566.34 L1257.66 1551.1 Q1258.37 1548.33 1258.53 1547.46 Q1258.72 1546.56 1258.72 1545.56 Q1258.72 1542.54 1256.66 1542.54 Q1254.99 1542.54 1253.89 1544.53 Q1252.8 1546.53 1251.86 1550.4 Q1251.57 1551.46 1251.38 1551.68 Q1251.22 1551.91 1250.73 1551.91 Q1249.93 1551.88 1249.93 1551.23 Q1249.93 1551.07 1250.19 1550.01 Q1250.44 1548.95 1250.93 1547.43 Q1251.44 1545.89 1251.93 1544.86 Q1252.34 1544.08 1252.57 1543.73 Q1252.83 1543.34 1253.44 1542.6 Q1254.08 1541.83 1254.92 1541.47 Q1255.79 1541.09 1256.85 1541.09 Q1259.24 1541.09 1260.98 1542.63 Q1262.72 1544.15 1262.94 1546.82 Q1267.22 1541.09 1273.21 1541.09 Q1276.76 1541.09 1278.79 1542.96 Q1280.81 1544.82 1280.81 1548.14 Q1280.81 1548.91 1280.65 1549.91 Q1280.52 1550.88 1280.2 1552.1 Q1279.91 1553.33 1279.66 1554.26 Q1279.4 1555.19 1278.88 1556.71 Q1278.37 1558.19 1278.14 1558.83 Q1277.92 1559.48 1277.37 1560.99 Q1276.85 1562.47 1276.79 1562.63 Q1275.6 1565.63 1275.6 1567.34 Q1275.6 1568.46 1275.95 1568.98 Q1276.34 1569.49 1277.18 1569.49 Q1279.43 1569.49 1281.1 1567.27 Q1282.81 1565.02 1283.91 1561.35 Q1284.16 1560.54 1284.29 1560.35 Q1284.45 1560.15 1284.9 1560.15 Q1285.68 1560.15 1285.68 1560.8 Z\" fill=\"#000000\" fill-rule=\"evenodd\" fill-opacity=\"1\" /><polyline clip-path=\"url(#clip392)\" style=\"stroke:#000000; stroke-linecap:butt; stroke-linejoin:round; stroke-width:2; stroke-opacity:0.1; fill:none\" points=\"\n",
       "  186.274,1384.24 2352.76,1384.24 \n",
       "  \"/>\n",
       "<polyline clip-path=\"url(#clip392)\" style=\"stroke:#000000; stroke-linecap:butt; stroke-linejoin:round; stroke-width:2; stroke-opacity:0.1; fill:none\" points=\"\n",
       "  186.274,1059.73 2352.76,1059.73 \n",
       "  \"/>\n",
       "<polyline clip-path=\"url(#clip392)\" style=\"stroke:#000000; stroke-linecap:butt; stroke-linejoin:round; stroke-width:2; stroke-opacity:0.1; fill:none\" points=\"\n",
       "  186.274,735.212 2352.76,735.212 \n",
       "  \"/>\n",
       "<polyline clip-path=\"url(#clip392)\" style=\"stroke:#000000; stroke-linecap:butt; stroke-linejoin:round; stroke-width:2; stroke-opacity:0.1; fill:none\" points=\"\n",
       "  186.274,410.699 2352.76,410.699 \n",
       "  \"/>\n",
       "<polyline clip-path=\"url(#clip392)\" style=\"stroke:#000000; stroke-linecap:butt; stroke-linejoin:round; stroke-width:2; stroke-opacity:0.1; fill:none\" points=\"\n",
       "  186.274,86.1857 2352.76,86.1857 \n",
       "  \"/>\n",
       "<polyline clip-path=\"url(#clip390)\" style=\"stroke:#000000; stroke-linecap:butt; stroke-linejoin:round; stroke-width:4; stroke-opacity:1; fill:none\" points=\"\n",
       "  186.274,1423.18 186.274,47.2441 \n",
       "  \"/>\n",
       "<polyline clip-path=\"url(#clip390)\" style=\"stroke:#000000; stroke-linecap:butt; stroke-linejoin:round; stroke-width:4; stroke-opacity:1; fill:none\" points=\"\n",
       "  186.274,1384.24 205.172,1384.24 \n",
       "  \"/>\n",
       "<polyline clip-path=\"url(#clip390)\" style=\"stroke:#000000; stroke-linecap:butt; stroke-linejoin:round; stroke-width:4; stroke-opacity:1; fill:none\" points=\"\n",
       "  186.274,1059.73 205.172,1059.73 \n",
       "  \"/>\n",
       "<polyline clip-path=\"url(#clip390)\" style=\"stroke:#000000; stroke-linecap:butt; stroke-linejoin:round; stroke-width:4; stroke-opacity:1; fill:none\" points=\"\n",
       "  186.274,735.212 205.172,735.212 \n",
       "  \"/>\n",
       "<polyline clip-path=\"url(#clip390)\" style=\"stroke:#000000; stroke-linecap:butt; stroke-linejoin:round; stroke-width:4; stroke-opacity:1; fill:none\" points=\"\n",
       "  186.274,410.699 205.172,410.699 \n",
       "  \"/>\n",
       "<polyline clip-path=\"url(#clip390)\" style=\"stroke:#000000; stroke-linecap:butt; stroke-linejoin:round; stroke-width:4; stroke-opacity:1; fill:none\" points=\"\n",
       "  186.274,86.1857 205.172,86.1857 \n",
       "  \"/>\n",
       "<path clip-path=\"url(#clip390)\" d=\"M62.9365 1370.04 Q59.3254 1370.04 57.4967 1373.6 Q55.6912 1377.14 55.6912 1384.27 Q55.6912 1391.38 57.4967 1394.94 Q59.3254 1398.49 62.9365 1398.49 Q66.5707 1398.49 68.3763 1394.94 Q70.205 1391.38 70.205 1384.27 Q70.205 1377.14 68.3763 1373.6 Q66.5707 1370.04 62.9365 1370.04 M62.9365 1366.33 Q68.7467 1366.33 71.8022 1370.94 Q74.8809 1375.52 74.8809 1384.27 Q74.8809 1393 71.8022 1397.61 Q68.7467 1402.19 62.9365 1402.19 Q57.1264 1402.19 54.0477 1397.61 Q50.9921 1393 50.9921 1384.27 Q50.9921 1375.52 54.0477 1370.94 Q57.1264 1366.33 62.9365 1366.33 Z\" fill=\"#000000\" fill-rule=\"evenodd\" fill-opacity=\"1\" /><path clip-path=\"url(#clip390)\" d=\"M83.0984 1395.64 L87.9827 1395.64 L87.9827 1401.52 L83.0984 1401.52 L83.0984 1395.64 Z\" fill=\"#000000\" fill-rule=\"evenodd\" fill-opacity=\"1\" /><path clip-path=\"url(#clip390)\" d=\"M108.168 1370.04 Q104.557 1370.04 102.728 1373.6 Q100.922 1377.14 100.922 1384.27 Q100.922 1391.38 102.728 1394.94 Q104.557 1398.49 108.168 1398.49 Q111.802 1398.49 113.608 1394.94 Q115.436 1391.38 115.436 1384.27 Q115.436 1377.14 113.608 1373.6 Q111.802 1370.04 108.168 1370.04 M108.168 1366.33 Q113.978 1366.33 117.033 1370.94 Q120.112 1375.52 120.112 1384.27 Q120.112 1393 117.033 1397.61 Q113.978 1402.19 108.168 1402.19 Q102.358 1402.19 99.2789 1397.61 Q96.2234 1393 96.2234 1384.27 Q96.2234 1375.52 99.2789 1370.94 Q102.358 1366.33 108.168 1366.33 Z\" fill=\"#000000\" fill-rule=\"evenodd\" fill-opacity=\"1\" /><path clip-path=\"url(#clip390)\" d=\"M138.33 1370.04 Q134.719 1370.04 132.89 1373.6 Q131.084 1377.14 131.084 1384.27 Q131.084 1391.38 132.89 1394.94 Q134.719 1398.49 138.33 1398.49 Q141.964 1398.49 143.769 1394.94 Q145.598 1391.38 145.598 1384.27 Q145.598 1377.14 143.769 1373.6 Q141.964 1370.04 138.33 1370.04 M138.33 1366.33 Q144.14 1366.33 147.195 1370.94 Q150.274 1375.52 150.274 1384.27 Q150.274 1393 147.195 1397.61 Q144.14 1402.19 138.33 1402.19 Q132.519 1402.19 129.441 1397.61 Q126.385 1393 126.385 1384.27 Q126.385 1375.52 129.441 1370.94 Q132.519 1366.33 138.33 1366.33 Z\" fill=\"#000000\" fill-rule=\"evenodd\" fill-opacity=\"1\" /><path clip-path=\"url(#clip390)\" d=\"M63.9319 1045.52 Q60.3208 1045.52 58.4921 1049.09 Q56.6865 1052.63 56.6865 1059.76 Q56.6865 1066.87 58.4921 1070.43 Q60.3208 1073.97 63.9319 1073.97 Q67.5661 1073.97 69.3717 1070.43 Q71.2004 1066.87 71.2004 1059.76 Q71.2004 1052.63 69.3717 1049.09 Q67.5661 1045.52 63.9319 1045.52 M63.9319 1041.82 Q69.742 1041.82 72.7976 1046.43 Q75.8763 1051.01 75.8763 1059.76 Q75.8763 1068.49 72.7976 1073.09 Q69.742 1077.68 63.9319 1077.68 Q58.1217 1077.68 55.043 1073.09 Q51.9875 1068.49 51.9875 1059.76 Q51.9875 1051.01 55.043 1046.43 Q58.1217 1041.82 63.9319 1041.82 Z\" fill=\"#000000\" fill-rule=\"evenodd\" fill-opacity=\"1\" /><path clip-path=\"url(#clip390)\" d=\"M84.0938 1071.13 L88.978 1071.13 L88.978 1077.01 L84.0938 1077.01 L84.0938 1071.13 Z\" fill=\"#000000\" fill-rule=\"evenodd\" fill-opacity=\"1\" /><path clip-path=\"url(#clip390)\" d=\"M103.191 1073.07 L119.51 1073.07 L119.51 1077.01 L97.566 1077.01 L97.566 1073.07 Q100.228 1070.32 104.811 1065.69 Q109.418 1061.03 110.598 1059.69 Q112.844 1057.17 113.723 1055.43 Q114.626 1053.67 114.626 1051.98 Q114.626 1049.23 112.682 1047.49 Q110.76 1045.76 107.658 1045.76 Q105.459 1045.76 103.006 1046.52 Q100.575 1047.28 97.7974 1048.83 L97.7974 1044.11 Q100.621 1042.98 103.075 1042.4 Q105.529 1041.82 107.566 1041.82 Q112.936 1041.82 116.131 1044.51 Q119.325 1047.19 119.325 1051.68 Q119.325 1053.81 118.515 1055.73 Q117.728 1057.63 115.621 1060.22 Q115.043 1060.89 111.941 1064.11 Q108.839 1067.31 103.191 1073.07 Z\" fill=\"#000000\" fill-rule=\"evenodd\" fill-opacity=\"1\" /><path clip-path=\"url(#clip390)\" d=\"M129.371 1042.45 L147.728 1042.45 L147.728 1046.38 L133.654 1046.38 L133.654 1054.85 Q134.672 1054.51 135.691 1054.34 Q136.709 1054.16 137.728 1054.16 Q143.515 1054.16 146.894 1057.33 Q150.274 1060.5 150.274 1065.92 Q150.274 1071.5 146.802 1074.6 Q143.33 1077.68 137.01 1077.68 Q134.834 1077.68 132.566 1077.31 Q130.32 1076.94 127.913 1076.19 L127.913 1071.5 Q129.996 1072.63 132.219 1073.19 Q134.441 1073.74 136.918 1073.74 Q140.922 1073.74 143.26 1071.63 Q145.598 1069.53 145.598 1065.92 Q145.598 1062.31 143.26 1060.2 Q140.922 1058.09 136.918 1058.09 Q135.043 1058.09 133.168 1058.51 Q131.316 1058.93 129.371 1059.81 L129.371 1042.45 Z\" fill=\"#000000\" fill-rule=\"evenodd\" fill-opacity=\"1\" /><path clip-path=\"url(#clip390)\" d=\"M62.9365 721.011 Q59.3254 721.011 57.4967 724.575 Q55.6912 728.117 55.6912 735.247 Q55.6912 742.353 57.4967 745.918 Q59.3254 749.46 62.9365 749.46 Q66.5707 749.46 68.3763 745.918 Q70.205 742.353 70.205 735.247 Q70.205 728.117 68.3763 724.575 Q66.5707 721.011 62.9365 721.011 M62.9365 717.307 Q68.7467 717.307 71.8022 721.913 Q74.8809 726.497 74.8809 735.247 Q74.8809 743.974 71.8022 748.58 Q68.7467 753.163 62.9365 753.163 Q57.1264 753.163 54.0477 748.58 Q50.9921 743.974 50.9921 735.247 Q50.9921 726.497 54.0477 721.913 Q57.1264 717.307 62.9365 717.307 Z\" fill=\"#000000\" fill-rule=\"evenodd\" fill-opacity=\"1\" /><path clip-path=\"url(#clip390)\" d=\"M83.0984 746.612 L87.9827 746.612 L87.9827 752.492 L83.0984 752.492 L83.0984 746.612 Z\" fill=\"#000000\" fill-rule=\"evenodd\" fill-opacity=\"1\" /><path clip-path=\"url(#clip390)\" d=\"M98.2141 717.932 L116.57 717.932 L116.57 721.867 L102.496 721.867 L102.496 730.339 Q103.515 729.992 104.534 729.83 Q105.552 729.645 106.571 729.645 Q112.358 729.645 115.737 732.816 Q119.117 735.987 119.117 741.404 Q119.117 746.983 115.645 750.085 Q112.172 753.163 105.853 753.163 Q103.677 753.163 101.409 752.793 Q99.1632 752.423 96.7558 751.682 L96.7558 746.983 Q98.8391 748.117 101.061 748.673 Q103.284 749.228 105.76 749.228 Q109.765 749.228 112.103 747.122 Q114.441 745.015 114.441 741.404 Q114.441 737.793 112.103 735.687 Q109.765 733.58 105.76 733.58 Q103.885 733.58 102.01 733.997 Q100.159 734.413 98.2141 735.293 L98.2141 717.932 Z\" fill=\"#000000\" fill-rule=\"evenodd\" fill-opacity=\"1\" /><path clip-path=\"url(#clip390)\" d=\"M138.33 721.011 Q134.719 721.011 132.89 724.575 Q131.084 728.117 131.084 735.247 Q131.084 742.353 132.89 745.918 Q134.719 749.46 138.33 749.46 Q141.964 749.46 143.769 745.918 Q145.598 742.353 145.598 735.247 Q145.598 728.117 143.769 724.575 Q141.964 721.011 138.33 721.011 M138.33 717.307 Q144.14 717.307 147.195 721.913 Q150.274 726.497 150.274 735.247 Q150.274 743.974 147.195 748.58 Q144.14 753.163 138.33 753.163 Q132.519 753.163 129.441 748.58 Q126.385 743.974 126.385 735.247 Q126.385 726.497 129.441 721.913 Q132.519 717.307 138.33 717.307 Z\" fill=\"#000000\" fill-rule=\"evenodd\" fill-opacity=\"1\" /><path clip-path=\"url(#clip390)\" d=\"M63.9319 396.498 Q60.3208 396.498 58.4921 400.062 Q56.6865 403.604 56.6865 410.734 Q56.6865 417.84 58.4921 421.405 Q60.3208 424.946 63.9319 424.946 Q67.5661 424.946 69.3717 421.405 Q71.2004 417.84 71.2004 410.734 Q71.2004 403.604 69.3717 400.062 Q67.5661 396.498 63.9319 396.498 M63.9319 392.794 Q69.742 392.794 72.7976 397.4 Q75.8763 401.984 75.8763 410.734 Q75.8763 419.46 72.7976 424.067 Q69.742 428.65 63.9319 428.65 Q58.1217 428.65 55.043 424.067 Q51.9875 419.46 51.9875 410.734 Q51.9875 401.984 55.043 397.4 Q58.1217 392.794 63.9319 392.794 Z\" fill=\"#000000\" fill-rule=\"evenodd\" fill-opacity=\"1\" /><path clip-path=\"url(#clip390)\" d=\"M84.0938 422.099 L88.978 422.099 L88.978 427.979 L84.0938 427.979 L84.0938 422.099 Z\" fill=\"#000000\" fill-rule=\"evenodd\" fill-opacity=\"1\" /><path clip-path=\"url(#clip390)\" d=\"M97.9826 393.419 L120.205 393.419 L120.205 395.41 L107.658 427.979 L102.774 427.979 L114.58 397.354 L97.9826 397.354 L97.9826 393.419 Z\" fill=\"#000000\" fill-rule=\"evenodd\" fill-opacity=\"1\" /><path clip-path=\"url(#clip390)\" d=\"M129.371 393.419 L147.728 393.419 L147.728 397.354 L133.654 397.354 L133.654 405.826 Q134.672 405.479 135.691 405.317 Q136.709 405.132 137.728 405.132 Q143.515 405.132 146.894 408.303 Q150.274 411.474 150.274 416.891 Q150.274 422.47 146.802 425.571 Q143.33 428.65 137.01 428.65 Q134.834 428.65 132.566 428.28 Q130.32 427.909 127.913 427.169 L127.913 422.47 Q129.996 423.604 132.219 424.159 Q134.441 424.715 136.918 424.715 Q140.922 424.715 143.26 422.608 Q145.598 420.502 145.598 416.891 Q145.598 413.28 143.26 411.173 Q140.922 409.067 136.918 409.067 Q135.043 409.067 133.168 409.484 Q131.316 409.9 129.371 410.78 L129.371 393.419 Z\" fill=\"#000000\" fill-rule=\"evenodd\" fill-opacity=\"1\" /><path clip-path=\"url(#clip390)\" d=\"M53.7467 99.5305 L61.3856 99.5305 L61.3856 73.1649 L53.0754 74.8316 L53.0754 70.5723 L61.3393 68.9057 L66.0152 68.9057 L66.0152 99.5305 L73.654 99.5305 L73.654 103.466 L53.7467 103.466 L53.7467 99.5305 Z\" fill=\"#000000\" fill-rule=\"evenodd\" fill-opacity=\"1\" /><path clip-path=\"url(#clip390)\" d=\"M83.0984 97.5861 L87.9827 97.5861 L87.9827 103.466 L83.0984 103.466 L83.0984 97.5861 Z\" fill=\"#000000\" fill-rule=\"evenodd\" fill-opacity=\"1\" /><path clip-path=\"url(#clip390)\" d=\"M108.168 71.9844 Q104.557 71.9844 102.728 75.5492 Q100.922 79.0908 100.922 86.2204 Q100.922 93.3268 102.728 96.8916 Q104.557 100.433 108.168 100.433 Q111.802 100.433 113.608 96.8916 Q115.436 93.3268 115.436 86.2204 Q115.436 79.0908 113.608 75.5492 Q111.802 71.9844 108.168 71.9844 M108.168 68.2807 Q113.978 68.2807 117.033 72.8871 Q120.112 77.4704 120.112 86.2204 Q120.112 94.9472 117.033 99.5537 Q113.978 104.137 108.168 104.137 Q102.358 104.137 99.2789 99.5537 Q96.2234 94.9472 96.2234 86.2204 Q96.2234 77.4704 99.2789 72.8871 Q102.358 68.2807 108.168 68.2807 Z\" fill=\"#000000\" fill-rule=\"evenodd\" fill-opacity=\"1\" /><path clip-path=\"url(#clip390)\" d=\"M138.33 71.9844 Q134.719 71.9844 132.89 75.5492 Q131.084 79.0908 131.084 86.2204 Q131.084 93.3268 132.89 96.8916 Q134.719 100.433 138.33 100.433 Q141.964 100.433 143.769 96.8916 Q145.598 93.3268 145.598 86.2204 Q145.598 79.0908 143.769 75.5492 Q141.964 71.9844 138.33 71.9844 M138.33 68.2807 Q144.14 68.2807 147.195 72.8871 Q150.274 77.4704 150.274 86.2204 Q150.274 94.9472 147.195 99.5537 Q144.14 104.137 138.33 104.137 Q132.519 104.137 129.441 99.5537 Q126.385 94.9472 126.385 86.2204 Q126.385 77.4704 129.441 72.8871 Q132.519 68.2807 138.33 68.2807 Z\" fill=\"#000000\" fill-rule=\"evenodd\" fill-opacity=\"1\" /><polyline clip-path=\"url(#clip392)\" style=\"stroke:#009af9; stroke-linecap:butt; stroke-linejoin:round; stroke-width:4; stroke-opacity:1; fill:none\" points=\"\n",
       "  247.59,86.1857 367.816,951.554 488.043,1240.01 608.269,1336.16 728.496,1368.21 848.722,1378.9 968.949,1382.46 1089.18,1383.64 1209.4,1384.04 1329.63,1384.17 \n",
       "  1449.85,1384.22 1570.08,1384.23 1690.31,1384.24 1810.53,1384.24 1930.76,1384.24 2050.99,1384.24 2171.21,1384.24 2291.44,1384.24 \n",
       "  \"/>\n",
       "<polyline clip-path=\"url(#clip392)\" style=\"stroke:#e26f46; stroke-linecap:butt; stroke-linejoin:round; stroke-width:4; stroke-opacity:1; fill:none\" points=\"\n",
       "  247.59,86.1857 367.816,951.554 488.043,1240.01 608.269,1336.16 728.496,1368.21 848.722,1378.9 968.949,1382.46 1089.18,1383.64 1209.4,1384.04 1329.63,1384.17 \n",
       "  1449.85,1384.22 1570.08,1384.23 1690.31,1384.24 1810.53,1384.24 1930.76,1384.24 2050.99,1384.24 2171.21,1384.24 2291.44,1384.24 \n",
       "  \"/>\n",
       "<path clip-path=\"url(#clip390)\" d=\"\n",
       "M1791.37 248.629 L2280.54 248.629 L2280.54 93.1086 L1791.37 93.1086  Z\n",
       "  \" fill=\"#ffffff\" fill-rule=\"evenodd\" fill-opacity=\"1\"/>\n",
       "<polyline clip-path=\"url(#clip390)\" style=\"stroke:#000000; stroke-linecap:butt; stroke-linejoin:round; stroke-width:4; stroke-opacity:1; fill:none\" points=\"\n",
       "  1791.37,248.629 2280.54,248.629 2280.54,93.1086 1791.37,93.1086 1791.37,248.629 \n",
       "  \"/>\n",
       "<polyline clip-path=\"url(#clip390)\" style=\"stroke:#009af9; stroke-linecap:butt; stroke-linejoin:round; stroke-width:4; stroke-opacity:1; fill:none\" points=\"\n",
       "  1815.44,144.949 1959.88,144.949 \n",
       "  \"/>\n",
       "<path clip-path=\"url(#clip390)\" d=\"M2007.98 148.201 L2007.98 150.284 L1988.39 150.284 Q1988.67 154.682 1991.03 156.997 Q1993.42 159.289 1997.65 159.289 Q2000.11 159.289 2002.4 158.687 Q2004.71 158.085 2006.98 156.881 L2006.98 160.909 Q2004.69 161.881 2002.28 162.391 Q1999.87 162.9 1997.4 162.9 Q1991.19 162.9 1987.56 159.289 Q1983.95 155.678 1983.95 149.52 Q1983.95 143.155 1987.37 139.428 Q1990.82 135.678 1996.66 135.678 Q2001.89 135.678 2004.92 139.057 Q2007.98 142.414 2007.98 148.201 M2003.72 146.951 Q2003.67 143.456 2001.75 141.372 Q1999.85 139.289 1996.7 139.289 Q1993.14 139.289 1990.99 141.303 Q1988.86 143.317 1988.53 146.974 L2003.72 146.951 Z\" fill=\"#000000\" fill-rule=\"evenodd\" fill-opacity=\"1\" /><path clip-path=\"url(#clip390)\" d=\"M2035.68 136.303 L2026.31 148.919 L2036.17 162.229 L2031.15 162.229 L2023.6 152.043 L2016.05 162.229 L2011.03 162.229 L2021.1 148.664 L2011.89 136.303 L2016.91 136.303 L2023.79 145.539 L2030.66 136.303 L2035.68 136.303 Z\" fill=\"#000000\" fill-rule=\"evenodd\" fill-opacity=\"1\" /><path clip-path=\"url(#clip390)\" d=\"M2053.97 149.196 Q2048.81 149.196 2046.82 150.377 Q2044.83 151.557 2044.83 154.405 Q2044.83 156.673 2046.31 158.016 Q2047.81 159.335 2050.38 159.335 Q2053.92 159.335 2056.05 156.835 Q2058.21 154.312 2058.21 150.145 L2058.21 149.196 L2053.97 149.196 M2062.47 147.437 L2062.47 162.229 L2058.21 162.229 L2058.21 158.293 Q2056.75 160.655 2054.57 161.789 Q2052.4 162.9 2049.25 162.9 Q2045.27 162.9 2042.91 160.678 Q2040.57 158.432 2040.57 154.682 Q2040.57 150.307 2043.48 148.085 Q2046.42 145.863 2052.23 145.863 L2058.21 145.863 L2058.21 145.446 Q2058.21 142.507 2056.26 140.909 Q2054.34 139.289 2050.85 139.289 Q2048.62 139.289 2046.52 139.821 Q2044.41 140.354 2042.47 141.419 L2042.47 137.483 Q2044.8 136.581 2047 136.141 Q2049.2 135.678 2051.29 135.678 Q2056.91 135.678 2059.69 138.594 Q2062.47 141.511 2062.47 147.437 Z\" fill=\"#000000\" fill-rule=\"evenodd\" fill-opacity=\"1\" /><path clip-path=\"url(#clip390)\" d=\"M2089.9 137.298 L2089.9 141.28 Q2088.09 140.284 2086.26 139.798 Q2084.46 139.289 2082.6 139.289 Q2078.46 139.289 2076.17 141.928 Q2073.88 144.544 2073.88 149.289 Q2073.88 154.034 2076.17 156.673 Q2078.46 159.289 2082.6 159.289 Q2084.46 159.289 2086.26 158.803 Q2088.09 158.293 2089.9 157.298 L2089.9 161.233 Q2088.11 162.067 2086.19 162.483 Q2084.29 162.9 2082.14 162.9 Q2076.29 162.9 2072.84 159.219 Q2069.39 155.539 2069.39 149.289 Q2069.39 142.946 2072.86 139.312 Q2076.35 135.678 2082.42 135.678 Q2084.39 135.678 2086.26 136.095 Q2088.14 136.488 2089.9 137.298 Z\" fill=\"#000000\" fill-rule=\"evenodd\" fill-opacity=\"1\" /><path clip-path=\"url(#clip390)\" d=\"M2101.52 128.942 L2101.52 136.303 L2110.29 136.303 L2110.29 139.613 L2101.52 139.613 L2101.52 153.687 Q2101.52 156.858 2102.37 157.761 Q2103.25 158.664 2105.91 158.664 L2110.29 158.664 L2110.29 162.229 L2105.91 162.229 Q2100.98 162.229 2099.11 160.4 Q2097.23 158.548 2097.23 153.687 L2097.23 139.613 L2094.11 139.613 L2094.11 136.303 L2097.23 136.303 L2097.23 128.942 L2101.52 128.942 Z\" fill=\"#000000\" fill-rule=\"evenodd\" fill-opacity=\"1\" /><polyline clip-path=\"url(#clip390)\" style=\"stroke:#e26f46; stroke-linecap:butt; stroke-linejoin:round; stroke-width:4; stroke-opacity:1; fill:none\" points=\"\n",
       "  1815.44,196.789 1959.88,196.789 \n",
       "  \"/>\n",
       "<path clip-path=\"url(#clip390)\" d=\"M1999.13 192.124 Q1998.42 191.708 1997.56 191.522 Q1996.73 191.314 1995.71 191.314 Q1992.1 191.314 1990.15 193.675 Q1988.23 196.013 1988.23 200.411 L1988.23 214.069 L1983.95 214.069 L1983.95 188.143 L1988.23 188.143 L1988.23 192.171 Q1989.57 189.809 1991.73 188.675 Q1993.88 187.518 1996.96 187.518 Q1997.4 187.518 1997.93 187.587 Q1998.46 187.634 1999.11 187.749 L1999.13 192.124 Z\" fill=\"#000000\" fill-rule=\"evenodd\" fill-opacity=\"1\" /><path clip-path=\"url(#clip390)\" d=\"M2024.73 200.041 L2024.73 202.124 L2005.15 202.124 Q2005.43 206.522 2007.79 208.837 Q2010.17 211.129 2014.41 211.129 Q2016.86 211.129 2019.16 210.527 Q2021.47 209.925 2023.74 208.721 L2023.74 212.749 Q2021.45 213.721 2019.04 214.231 Q2016.63 214.74 2014.16 214.74 Q2007.95 214.74 2004.32 211.129 Q2000.71 207.518 2000.71 201.36 Q2000.71 194.995 2004.13 191.268 Q2007.58 187.518 2013.42 187.518 Q2018.65 187.518 2021.68 190.897 Q2024.73 194.254 2024.73 200.041 M2020.48 198.791 Q2020.43 195.296 2018.51 193.212 Q2016.61 191.129 2013.46 191.129 Q2009.9 191.129 2007.74 193.143 Q2005.61 195.157 2005.29 198.814 L2020.48 198.791 Z\" fill=\"#000000\" fill-rule=\"evenodd\" fill-opacity=\"1\" /><path clip-path=\"url(#clip390)\" d=\"M2050.38 189.138 L2050.38 193.12 Q2048.58 192.124 2046.75 191.638 Q2044.94 191.129 2043.09 191.129 Q2038.95 191.129 2036.66 193.768 Q2034.36 196.384 2034.36 201.129 Q2034.36 205.874 2036.66 208.513 Q2038.95 211.129 2043.09 211.129 Q2044.94 211.129 2046.75 210.643 Q2048.58 210.133 2050.38 209.138 L2050.38 213.073 Q2048.6 213.907 2046.68 214.323 Q2044.78 214.74 2042.63 214.74 Q2036.77 214.74 2033.32 211.059 Q2029.87 207.379 2029.87 201.129 Q2029.87 194.786 2033.35 191.152 Q2036.84 187.518 2042.91 187.518 Q2044.87 187.518 2046.75 187.935 Q2048.62 188.328 2050.38 189.138 Z\" fill=\"#000000\" fill-rule=\"evenodd\" fill-opacity=\"1\" /><path clip-path=\"url(#clip390)\" d=\"M2057.35 203.837 L2057.35 188.143 L2061.61 188.143 L2061.61 203.675 Q2061.61 207.356 2063.04 209.208 Q2064.48 211.036 2067.35 211.036 Q2070.8 211.036 2072.79 208.837 Q2074.8 206.638 2074.8 202.842 L2074.8 188.143 L2079.06 188.143 L2079.06 214.069 L2074.8 214.069 L2074.8 210.087 Q2073.25 212.448 2071.19 213.606 Q2069.16 214.74 2066.45 214.74 Q2061.98 214.74 2059.67 211.962 Q2057.35 209.184 2057.35 203.837 M2068.07 187.518 L2068.07 187.518 Z\" fill=\"#000000\" fill-rule=\"evenodd\" fill-opacity=\"1\" /><path clip-path=\"url(#clip390)\" d=\"M2102.86 192.124 Q2102.14 191.708 2101.29 191.522 Q2100.45 191.314 2099.43 191.314 Q2095.82 191.314 2093.88 193.675 Q2091.96 196.013 2091.96 200.411 L2091.96 214.069 L2087.67 214.069 L2087.67 188.143 L2091.96 188.143 L2091.96 192.171 Q2093.3 189.809 2095.45 188.675 Q2097.6 187.518 2100.68 187.518 Q2101.12 187.518 2101.66 187.587 Q2102.19 187.634 2102.84 187.749 L2102.86 192.124 Z\" fill=\"#000000\" fill-rule=\"evenodd\" fill-opacity=\"1\" /><path clip-path=\"url(#clip390)\" d=\"M2121.52 192.124 Q2120.8 191.708 2119.94 191.522 Q2119.11 191.314 2118.09 191.314 Q2114.48 191.314 2112.54 193.675 Q2110.61 196.013 2110.61 200.411 L2110.61 214.069 L2106.33 214.069 L2106.33 188.143 L2110.61 188.143 L2110.61 192.171 Q2111.96 189.809 2114.11 188.675 Q2116.26 187.518 2119.34 187.518 Q2119.78 187.518 2120.31 187.587 Q2120.85 187.634 2121.49 187.749 L2121.52 192.124 Z\" fill=\"#000000\" fill-rule=\"evenodd\" fill-opacity=\"1\" /><path clip-path=\"url(#clip390)\" d=\"M2147.12 200.041 L2147.12 202.124 L2127.54 202.124 Q2127.81 206.522 2130.17 208.837 Q2132.56 211.129 2136.79 211.129 Q2139.25 211.129 2141.54 210.527 Q2143.85 209.925 2146.12 208.721 L2146.12 212.749 Q2143.83 213.721 2141.42 214.231 Q2139.02 214.74 2136.54 214.74 Q2130.34 214.74 2126.7 211.129 Q2123.09 207.518 2123.09 201.36 Q2123.09 194.995 2126.52 191.268 Q2129.97 187.518 2135.8 187.518 Q2141.03 187.518 2144.06 190.897 Q2147.12 194.254 2147.12 200.041 M2142.86 198.791 Q2142.81 195.296 2140.89 193.212 Q2138.99 191.129 2135.85 191.129 Q2132.28 191.129 2130.13 193.143 Q2128 195.157 2127.67 198.814 L2142.86 198.791 Z\" fill=\"#000000\" fill-rule=\"evenodd\" fill-opacity=\"1\" /><path clip-path=\"url(#clip390)\" d=\"M2175.66 198.421 L2175.66 214.069 L2171.4 214.069 L2171.4 198.559 Q2171.4 194.879 2169.97 193.05 Q2168.53 191.222 2165.66 191.222 Q2162.21 191.222 2160.22 193.421 Q2158.23 195.62 2158.23 199.416 L2158.23 214.069 L2153.95 214.069 L2153.95 188.143 L2158.23 188.143 L2158.23 192.171 Q2159.76 189.833 2161.82 188.675 Q2163.9 187.518 2166.61 187.518 Q2171.08 187.518 2173.37 190.296 Q2175.66 193.05 2175.66 198.421 Z\" fill=\"#000000\" fill-rule=\"evenodd\" fill-opacity=\"1\" /><path clip-path=\"url(#clip390)\" d=\"M2202.81 189.138 L2202.81 193.12 Q2201.01 192.124 2199.18 191.638 Q2197.37 191.129 2195.52 191.129 Q2191.38 191.129 2189.09 193.768 Q2186.79 196.384 2186.79 201.129 Q2186.79 205.874 2189.09 208.513 Q2191.38 211.129 2195.52 211.129 Q2197.37 211.129 2199.18 210.643 Q2201.01 210.133 2202.81 209.138 L2202.81 213.073 Q2201.03 213.907 2199.11 214.323 Q2197.21 214.74 2195.06 214.74 Q2189.2 214.74 2185.75 211.059 Q2182.3 207.379 2182.3 201.129 Q2182.3 194.786 2185.78 191.152 Q2189.27 187.518 2195.34 187.518 Q2197.3 187.518 2199.18 187.935 Q2201.05 188.328 2202.81 189.138 Z\" fill=\"#000000\" fill-rule=\"evenodd\" fill-opacity=\"1\" /><path clip-path=\"url(#clip390)\" d=\"M2232.4 200.041 L2232.4 202.124 L2212.81 202.124 Q2213.09 206.522 2215.45 208.837 Q2217.84 211.129 2222.07 211.129 Q2224.53 211.129 2226.82 210.527 Q2229.13 209.925 2231.4 208.721 L2231.4 212.749 Q2229.11 213.721 2226.7 214.231 Q2224.29 214.74 2221.82 214.74 Q2215.61 214.74 2211.98 211.129 Q2208.37 207.518 2208.37 201.36 Q2208.37 194.995 2211.79 191.268 Q2215.24 187.518 2221.08 187.518 Q2226.31 187.518 2229.34 190.897 Q2232.4 194.254 2232.4 200.041 M2228.14 198.791 Q2228.09 195.296 2226.17 193.212 Q2224.27 191.129 2221.12 191.129 Q2217.56 191.129 2215.41 193.143 Q2213.28 195.157 2212.95 198.814 L2228.14 198.791 Z\" fill=\"#000000\" fill-rule=\"evenodd\" fill-opacity=\"1\" /></svg>\n"
      ]
     },
     "execution_count": 66,
     "metadata": {},
     "output_type": "execute_result"
    }
   ],
   "source": [
    "n = 18\n",
    "X = zeros(n)\n",
    "x = zeros(n)\n",
    "\n",
    "X[1] = 1\n",
    "X[2] = 1/3\n",
    "\n",
    "x[1] = 1\n",
    "x[2] = 1/3\n",
    "\n",
    "for i in 3:n \n",
    "    X[i] = 13*X[i-1]/3 - 4*X[i-2]/3\n",
    "    x[i] = (1/3)^(i-1)\n",
    "end\n",
    "\n",
    "abs_error = abs.(X - x)\n",
    "rel_error = abs.((X - x)./X)\n",
    "\n",
    "plot(0:n-1, X, label=\"exact\")\n",
    "plot!(0:n-1, x, xlabel=L\"n\", label=\"recurrence\")\n"
   ]
  },
  {
   "cell_type": "code",
   "execution_count": 64,
   "metadata": {},
   "outputs": [
    {
     "data": {
      "image/svg+xml": [
       "<?xml version=\"1.0\" encoding=\"utf-8\"?>\n",
       "<svg xmlns=\"http://www.w3.org/2000/svg\" xmlns:xlink=\"http://www.w3.org/1999/xlink\" width=\"600\" height=\"400\" viewBox=\"0 0 2400 1600\">\n",
       "<defs>\n",
       "  <clipPath id=\"clip310\">\n",
       "    <rect x=\"0\" y=\"0\" width=\"2400\" height=\"1600\"/>\n",
       "  </clipPath>\n",
       "</defs>\n",
       "<path clip-path=\"url(#clip310)\" d=\"\n",
       "M0 1600 L2400 1600 L2400 0 L0 0  Z\n",
       "  \" fill=\"#ffffff\" fill-rule=\"evenodd\" fill-opacity=\"1\"/>\n",
       "<defs>\n",
       "  <clipPath id=\"clip311\">\n",
       "    <rect x=\"480\" y=\"0\" width=\"1681\" height=\"1600\"/>\n",
       "  </clipPath>\n",
       "</defs>\n",
       "<defs>\n",
       "  <clipPath id=\"clip312\">\n",
       "    <rect x=\"186\" y=\"47\" width=\"2167\" height=\"1377\"/>\n",
       "  </clipPath>\n",
       "</defs>\n",
       "<path clip-path=\"url(#clip310)\" d=\"\n",
       "M156.598 1423.18 L2352.76 1423.18 L2352.76 47.2441 L156.598 47.2441  Z\n",
       "  \" fill=\"#ffffff\" fill-rule=\"evenodd\" fill-opacity=\"1\"/>\n",
       "<defs>\n",
       "  <clipPath id=\"clip313\">\n",
       "    <rect x=\"156\" y=\"47\" width=\"2197\" height=\"1377\"/>\n",
       "  </clipPath>\n",
       "</defs>\n",
       "<polyline clip-path=\"url(#clip313)\" style=\"stroke:#000000; stroke-linecap:butt; stroke-linejoin:round; stroke-width:2; stroke-opacity:0.1; fill:none\" points=\"\n",
       "  218.754,1423.18 218.754,47.2441 \n",
       "  \"/>\n",
       "<polyline clip-path=\"url(#clip313)\" style=\"stroke:#000000; stroke-linecap:butt; stroke-linejoin:round; stroke-width:2; stroke-opacity:0.1; fill:none\" points=\"\n",
       "  828.12,1423.18 828.12,47.2441 \n",
       "  \"/>\n",
       "<polyline clip-path=\"url(#clip313)\" style=\"stroke:#000000; stroke-linecap:butt; stroke-linejoin:round; stroke-width:2; stroke-opacity:0.1; fill:none\" points=\"\n",
       "  1437.49,1423.18 1437.49,47.2441 \n",
       "  \"/>\n",
       "<polyline clip-path=\"url(#clip313)\" style=\"stroke:#000000; stroke-linecap:butt; stroke-linejoin:round; stroke-width:2; stroke-opacity:0.1; fill:none\" points=\"\n",
       "  2046.85,1423.18 2046.85,47.2441 \n",
       "  \"/>\n",
       "<polyline clip-path=\"url(#clip310)\" style=\"stroke:#000000; stroke-linecap:butt; stroke-linejoin:round; stroke-width:4; stroke-opacity:1; fill:none\" points=\"\n",
       "  156.598,1423.18 2352.76,1423.18 \n",
       "  \"/>\n",
       "<polyline clip-path=\"url(#clip310)\" style=\"stroke:#000000; stroke-linecap:butt; stroke-linejoin:round; stroke-width:4; stroke-opacity:1; fill:none\" points=\"\n",
       "  218.754,1423.18 218.754,1404.28 \n",
       "  \"/>\n",
       "<polyline clip-path=\"url(#clip310)\" style=\"stroke:#000000; stroke-linecap:butt; stroke-linejoin:round; stroke-width:4; stroke-opacity:1; fill:none\" points=\"\n",
       "  828.12,1423.18 828.12,1404.28 \n",
       "  \"/>\n",
       "<polyline clip-path=\"url(#clip310)\" style=\"stroke:#000000; stroke-linecap:butt; stroke-linejoin:round; stroke-width:4; stroke-opacity:1; fill:none\" points=\"\n",
       "  1437.49,1423.18 1437.49,1404.28 \n",
       "  \"/>\n",
       "<polyline clip-path=\"url(#clip310)\" style=\"stroke:#000000; stroke-linecap:butt; stroke-linejoin:round; stroke-width:4; stroke-opacity:1; fill:none\" points=\"\n",
       "  2046.85,1423.18 2046.85,1404.28 \n",
       "  \"/>\n",
       "<path clip-path=\"url(#clip310)\" d=\"M218.754 1454.1 Q215.143 1454.1 213.314 1457.66 Q211.508 1461.2 211.508 1468.33 Q211.508 1475.44 213.314 1479.01 Q215.143 1482.55 218.754 1482.55 Q222.388 1482.55 224.193 1479.01 Q226.022 1475.44 226.022 1468.33 Q226.022 1461.2 224.193 1457.66 Q222.388 1454.1 218.754 1454.1 M218.754 1450.39 Q224.564 1450.39 227.619 1455 Q230.698 1459.58 230.698 1468.33 Q230.698 1477.06 227.619 1481.67 Q224.564 1486.25 218.754 1486.25 Q212.943 1486.25 209.865 1481.67 Q206.809 1477.06 206.809 1468.33 Q206.809 1459.58 209.865 1455 Q212.943 1450.39 218.754 1450.39 Z\" fill=\"#000000\" fill-rule=\"evenodd\" fill-opacity=\"1\" /><path clip-path=\"url(#clip310)\" d=\"M818.398 1451.02 L836.755 1451.02 L836.755 1454.96 L822.681 1454.96 L822.681 1463.43 Q823.699 1463.08 824.718 1462.92 Q825.736 1462.73 826.755 1462.73 Q832.542 1462.73 835.921 1465.9 Q839.301 1469.08 839.301 1474.49 Q839.301 1480.07 835.829 1483.17 Q832.356 1486.25 826.037 1486.25 Q823.861 1486.25 821.593 1485.88 Q819.347 1485.51 816.94 1484.77 L816.94 1480.07 Q819.023 1481.2 821.245 1481.76 Q823.468 1482.32 825.944 1482.32 Q829.949 1482.32 832.287 1480.21 Q834.625 1478.1 834.625 1474.49 Q834.625 1470.88 832.287 1468.77 Q829.949 1466.67 825.944 1466.67 Q824.069 1466.67 822.194 1467.08 Q820.343 1467.5 818.398 1468.38 L818.398 1451.02 Z\" fill=\"#000000\" fill-rule=\"evenodd\" fill-opacity=\"1\" /><path clip-path=\"url(#clip310)\" d=\"M1412.17 1481.64 L1419.81 1481.64 L1419.81 1455.28 L1411.5 1456.95 L1411.5 1452.69 L1419.77 1451.02 L1424.44 1451.02 L1424.44 1481.64 L1432.08 1481.64 L1432.08 1485.58 L1412.17 1485.58 L1412.17 1481.64 Z\" fill=\"#000000\" fill-rule=\"evenodd\" fill-opacity=\"1\" /><path clip-path=\"url(#clip310)\" d=\"M1451.53 1454.1 Q1447.92 1454.1 1446.09 1457.66 Q1444.28 1461.2 1444.28 1468.33 Q1444.28 1475.44 1446.09 1479.01 Q1447.92 1482.55 1451.53 1482.55 Q1455.16 1482.55 1456.97 1479.01 Q1458.79 1475.44 1458.79 1468.33 Q1458.79 1461.2 1456.97 1457.66 Q1455.16 1454.1 1451.53 1454.1 M1451.53 1450.39 Q1457.34 1450.39 1460.39 1455 Q1463.47 1459.58 1463.47 1468.33 Q1463.47 1477.06 1460.39 1481.67 Q1457.34 1486.25 1451.53 1486.25 Q1445.72 1486.25 1442.64 1481.67 Q1439.58 1477.06 1439.58 1468.33 Q1439.58 1459.58 1442.64 1455 Q1445.72 1450.39 1451.53 1450.39 Z\" fill=\"#000000\" fill-rule=\"evenodd\" fill-opacity=\"1\" /><path clip-path=\"url(#clip310)\" d=\"M2022.04 1481.64 L2029.68 1481.64 L2029.68 1455.28 L2021.37 1456.95 L2021.37 1452.69 L2029.63 1451.02 L2034.31 1451.02 L2034.31 1481.64 L2041.95 1481.64 L2041.95 1485.58 L2022.04 1485.58 L2022.04 1481.64 Z\" fill=\"#000000\" fill-rule=\"evenodd\" fill-opacity=\"1\" /><path clip-path=\"url(#clip310)\" d=\"M2051.44 1451.02 L2069.79 1451.02 L2069.79 1454.96 L2055.72 1454.96 L2055.72 1463.43 Q2056.74 1463.08 2057.76 1462.92 Q2058.78 1462.73 2059.79 1462.73 Q2065.58 1462.73 2068.96 1465.9 Q2072.34 1469.08 2072.34 1474.49 Q2072.34 1480.07 2068.87 1483.17 Q2065.4 1486.25 2059.08 1486.25 Q2056.9 1486.25 2054.63 1485.88 Q2052.39 1485.51 2049.98 1484.77 L2049.98 1480.07 Q2052.06 1481.2 2054.28 1481.76 Q2056.51 1482.32 2058.98 1482.32 Q2062.99 1482.32 2065.33 1480.21 Q2067.66 1478.1 2067.66 1474.49 Q2067.66 1470.88 2065.33 1468.77 Q2062.99 1466.67 2058.98 1466.67 Q2057.11 1466.67 2055.23 1467.08 Q2053.38 1467.5 2051.44 1468.38 L2051.44 1451.02 Z\" fill=\"#000000\" fill-rule=\"evenodd\" fill-opacity=\"1\" /><path clip-path=\"url(#clip310)\" d=\"M1270.84 1560.8 Q1270.84 1561.06 1270.55 1562.05 Q1270.26 1563.05 1269.55 1564.6 Q1268.88 1566.14 1267.94 1567.56 Q1267.01 1568.95 1265.46 1569.98 Q1263.95 1570.97 1262.21 1570.97 Q1259.89 1570.97 1258.34 1569.43 Q1256.8 1567.88 1256.8 1565.56 Q1256.8 1564.28 1257.47 1562.5 Q1261.76 1551.07 1261.76 1547.14 Q1261.76 1542.54 1258.18 1542.54 Q1256.41 1542.54 1254.74 1543.21 Q1253.09 1543.86 1251.97 1544.76 Q1250.84 1545.66 1249.81 1546.92 Q1248.81 1548.14 1248.3 1548.98 Q1247.81 1549.78 1247.43 1550.59 L1246.59 1553.87 Q1246.4 1554.78 1245.46 1558.29 L1244.01 1564.24 Q1242.98 1568.69 1242.76 1569.11 Q1242.43 1570.01 1241.73 1570.49 Q1241.02 1570.97 1240.31 1570.97 Q1239.5 1570.97 1238.96 1570.49 Q1238.41 1570.01 1238.41 1569.17 Q1238.41 1569.04 1238.51 1568.56 Q1238.6 1568.08 1238.76 1567.4 Q1238.92 1566.72 1238.99 1566.34 L1242.82 1551.1 Q1243.53 1548.33 1243.69 1547.46 Q1243.88 1546.56 1243.88 1545.56 Q1243.88 1542.54 1241.82 1542.54 Q1240.15 1542.54 1239.05 1544.53 Q1237.96 1546.53 1237.02 1550.4 Q1236.73 1551.46 1236.54 1551.68 Q1236.38 1551.91 1235.9 1551.91 Q1235.09 1551.88 1235.09 1551.23 Q1235.09 1551.07 1235.35 1550.01 Q1235.61 1548.95 1236.09 1547.43 Q1236.61 1545.89 1237.09 1544.86 Q1237.51 1544.08 1237.73 1543.73 Q1237.99 1543.34 1238.6 1542.6 Q1239.25 1541.83 1240.08 1541.47 Q1240.95 1541.09 1242.02 1541.09 Q1244.4 1541.09 1246.14 1542.63 Q1247.88 1544.15 1248.1 1546.82 Q1252.39 1541.09 1258.38 1541.09 Q1261.92 1541.09 1263.95 1542.96 Q1265.98 1544.82 1265.98 1548.14 Q1265.98 1548.91 1265.82 1549.91 Q1265.69 1550.88 1265.36 1552.1 Q1265.08 1553.33 1264.82 1554.26 Q1264.56 1555.19 1264.04 1556.71 Q1263.53 1558.19 1263.3 1558.83 Q1263.08 1559.48 1262.53 1560.99 Q1262.02 1562.47 1261.95 1562.63 Q1260.76 1565.63 1260.76 1567.34 Q1260.76 1568.46 1261.11 1568.98 Q1261.5 1569.49 1262.34 1569.49 Q1264.59 1569.49 1266.27 1567.27 Q1267.97 1565.02 1269.07 1561.35 Q1269.33 1560.54 1269.46 1560.35 Q1269.62 1560.15 1270.07 1560.15 Q1270.84 1560.15 1270.84 1560.8 Z\" fill=\"#000000\" fill-rule=\"evenodd\" fill-opacity=\"1\" /><polyline clip-path=\"url(#clip313)\" style=\"stroke:#000000; stroke-linecap:butt; stroke-linejoin:round; stroke-width:2; stroke-opacity:0.1; fill:none\" points=\"\n",
       "  156.598,1384.24 2352.76,1384.24 \n",
       "  \"/>\n",
       "<polyline clip-path=\"url(#clip313)\" style=\"stroke:#000000; stroke-linecap:butt; stroke-linejoin:round; stroke-width:2; stroke-opacity:0.1; fill:none\" points=\"\n",
       "  156.598,1090.85 2352.76,1090.85 \n",
       "  \"/>\n",
       "<polyline clip-path=\"url(#clip313)\" style=\"stroke:#000000; stroke-linecap:butt; stroke-linejoin:round; stroke-width:2; stroke-opacity:0.1; fill:none\" points=\"\n",
       "  156.598,797.456 2352.76,797.456 \n",
       "  \"/>\n",
       "<polyline clip-path=\"url(#clip313)\" style=\"stroke:#000000; stroke-linecap:butt; stroke-linejoin:round; stroke-width:2; stroke-opacity:0.1; fill:none\" points=\"\n",
       "  156.598,504.064 2352.76,504.064 \n",
       "  \"/>\n",
       "<polyline clip-path=\"url(#clip313)\" style=\"stroke:#000000; stroke-linecap:butt; stroke-linejoin:round; stroke-width:2; stroke-opacity:0.1; fill:none\" points=\"\n",
       "  156.598,210.673 2352.76,210.673 \n",
       "  \"/>\n",
       "<polyline clip-path=\"url(#clip310)\" style=\"stroke:#000000; stroke-linecap:butt; stroke-linejoin:round; stroke-width:4; stroke-opacity:1; fill:none\" points=\"\n",
       "  156.598,1423.18 156.598,47.2441 \n",
       "  \"/>\n",
       "<polyline clip-path=\"url(#clip310)\" style=\"stroke:#000000; stroke-linecap:butt; stroke-linejoin:round; stroke-width:4; stroke-opacity:1; fill:none\" points=\"\n",
       "  156.598,1384.24 175.496,1384.24 \n",
       "  \"/>\n",
       "<polyline clip-path=\"url(#clip310)\" style=\"stroke:#000000; stroke-linecap:butt; stroke-linejoin:round; stroke-width:4; stroke-opacity:1; fill:none\" points=\"\n",
       "  156.598,1090.85 175.496,1090.85 \n",
       "  \"/>\n",
       "<polyline clip-path=\"url(#clip310)\" style=\"stroke:#000000; stroke-linecap:butt; stroke-linejoin:round; stroke-width:4; stroke-opacity:1; fill:none\" points=\"\n",
       "  156.598,797.456 175.496,797.456 \n",
       "  \"/>\n",
       "<polyline clip-path=\"url(#clip310)\" style=\"stroke:#000000; stroke-linecap:butt; stroke-linejoin:round; stroke-width:4; stroke-opacity:1; fill:none\" points=\"\n",
       "  156.598,504.064 175.496,504.064 \n",
       "  \"/>\n",
       "<polyline clip-path=\"url(#clip310)\" style=\"stroke:#000000; stroke-linecap:butt; stroke-linejoin:round; stroke-width:4; stroke-opacity:1; fill:none\" points=\"\n",
       "  156.598,210.673 175.496,210.673 \n",
       "  \"/>\n",
       "<path clip-path=\"url(#clip310)\" d=\"M63.4226 1370.04 Q59.8115 1370.04 57.9828 1373.6 Q56.1773 1377.14 56.1773 1384.27 Q56.1773 1391.38 57.9828 1394.94 Q59.8115 1398.49 63.4226 1398.49 Q67.0569 1398.49 68.8624 1394.94 Q70.6911 1391.38 70.6911 1384.27 Q70.6911 1377.14 68.8624 1373.6 Q67.0569 1370.04 63.4226 1370.04 M63.4226 1366.33 Q69.2328 1366.33 72.2883 1370.94 Q75.367 1375.52 75.367 1384.27 Q75.367 1393 72.2883 1397.61 Q69.2328 1402.19 63.4226 1402.19 Q57.6125 1402.19 54.5338 1397.61 Q51.4782 1393 51.4782 1384.27 Q51.4782 1375.52 54.5338 1370.94 Q57.6125 1366.33 63.4226 1366.33 Z\" fill=\"#000000\" fill-rule=\"evenodd\" fill-opacity=\"1\" /><path clip-path=\"url(#clip310)\" d=\"M83.5845 1395.64 L88.4688 1395.64 L88.4688 1401.52 L83.5845 1401.52 L83.5845 1395.64 Z\" fill=\"#000000\" fill-rule=\"evenodd\" fill-opacity=\"1\" /><path clip-path=\"url(#clip310)\" d=\"M108.654 1370.04 Q105.043 1370.04 103.214 1373.6 Q101.409 1377.14 101.409 1384.27 Q101.409 1391.38 103.214 1394.94 Q105.043 1398.49 108.654 1398.49 Q112.288 1398.49 114.094 1394.94 Q115.922 1391.38 115.922 1384.27 Q115.922 1377.14 114.094 1373.6 Q112.288 1370.04 108.654 1370.04 M108.654 1366.33 Q114.464 1366.33 117.52 1370.94 Q120.598 1375.52 120.598 1384.27 Q120.598 1393 117.52 1397.61 Q114.464 1402.19 108.654 1402.19 Q102.844 1402.19 99.765 1397.61 Q96.7095 1393 96.7095 1384.27 Q96.7095 1375.52 99.765 1370.94 Q102.844 1366.33 108.654 1366.33 Z\" fill=\"#000000\" fill-rule=\"evenodd\" fill-opacity=\"1\" /><path clip-path=\"url(#clip310)\" d=\"M65.0198 1076.65 Q61.4087 1076.65 59.58 1080.21 Q57.7745 1083.75 57.7745 1090.88 Q57.7745 1097.99 59.58 1101.55 Q61.4087 1105.09 65.0198 1105.09 Q68.6541 1105.09 70.4596 1101.55 Q72.2883 1097.99 72.2883 1090.88 Q72.2883 1083.75 70.4596 1080.21 Q68.6541 1076.65 65.0198 1076.65 M65.0198 1072.94 Q70.83 1072.94 73.8855 1077.55 Q76.9642 1082.13 76.9642 1090.88 Q76.9642 1099.61 73.8855 1104.21 Q70.83 1108.8 65.0198 1108.8 Q59.2097 1108.8 56.131 1104.21 Q53.0754 1099.61 53.0754 1090.88 Q53.0754 1082.13 56.131 1077.55 Q59.2097 1072.94 65.0198 1072.94 Z\" fill=\"#000000\" fill-rule=\"evenodd\" fill-opacity=\"1\" /><path clip-path=\"url(#clip310)\" d=\"M85.1818 1102.25 L90.066 1102.25 L90.066 1108.13 L85.1818 1108.13 L85.1818 1102.25 Z\" fill=\"#000000\" fill-rule=\"evenodd\" fill-opacity=\"1\" /><path clip-path=\"url(#clip310)\" d=\"M104.279 1104.19 L120.598 1104.19 L120.598 1108.13 L98.6539 1108.13 L98.6539 1104.19 Q101.316 1101.44 105.899 1096.81 Q110.506 1092.15 111.686 1090.81 Q113.932 1088.29 114.811 1086.55 Q115.714 1084.79 115.714 1083.1 Q115.714 1080.35 113.77 1078.61 Q111.848 1076.88 108.746 1076.88 Q106.547 1076.88 104.094 1077.64 Q101.663 1078.4 98.8854 1079.96 L98.8854 1075.23 Q101.709 1074.1 104.163 1073.52 Q106.617 1072.94 108.654 1072.94 Q114.024 1072.94 117.219 1075.63 Q120.413 1078.31 120.413 1082.8 Q120.413 1084.93 119.603 1086.85 Q118.816 1088.75 116.709 1091.34 Q116.131 1092.02 113.029 1095.23 Q109.927 1098.43 104.279 1104.19 Z\" fill=\"#000000\" fill-rule=\"evenodd\" fill-opacity=\"1\" /><path clip-path=\"url(#clip310)\" d=\"M62.9365 783.254 Q59.3254 783.254 57.4967 786.819 Q55.6912 790.361 55.6912 797.49 Q55.6912 804.597 57.4967 808.162 Q59.3254 811.703 62.9365 811.703 Q66.5707 811.703 68.3763 808.162 Q70.205 804.597 70.205 797.49 Q70.205 790.361 68.3763 786.819 Q66.5707 783.254 62.9365 783.254 M62.9365 779.551 Q68.7467 779.551 71.8022 784.157 Q74.8809 788.74 74.8809 797.49 Q74.8809 806.217 71.8022 810.824 Q68.7467 815.407 62.9365 815.407 Q57.1264 815.407 54.0477 810.824 Q50.9921 806.217 50.9921 797.49 Q50.9921 788.74 54.0477 784.157 Q57.1264 779.551 62.9365 779.551 Z\" fill=\"#000000\" fill-rule=\"evenodd\" fill-opacity=\"1\" /><path clip-path=\"url(#clip310)\" d=\"M83.0984 808.856 L87.9827 808.856 L87.9827 814.736 L83.0984 814.736 L83.0984 808.856 Z\" fill=\"#000000\" fill-rule=\"evenodd\" fill-opacity=\"1\" /><path clip-path=\"url(#clip310)\" d=\"M111.015 784.25 L99.2095 802.699 L111.015 802.699 L111.015 784.25 M109.788 780.176 L115.668 780.176 L115.668 802.699 L120.598 802.699 L120.598 806.587 L115.668 806.587 L115.668 814.736 L111.015 814.736 L111.015 806.587 L95.4132 806.587 L95.4132 802.074 L109.788 780.176 Z\" fill=\"#000000\" fill-rule=\"evenodd\" fill-opacity=\"1\" /><path clip-path=\"url(#clip310)\" d=\"M63.2606 489.863 Q59.6495 489.863 57.8208 493.428 Q56.0152 496.969 56.0152 504.099 Q56.0152 511.205 57.8208 514.77 Q59.6495 518.312 63.2606 518.312 Q66.8948 518.312 68.7004 514.77 Q70.5291 511.205 70.5291 504.099 Q70.5291 496.969 68.7004 493.428 Q66.8948 489.863 63.2606 489.863 M63.2606 486.159 Q69.0707 486.159 72.1263 490.766 Q75.205 495.349 75.205 504.099 Q75.205 512.826 72.1263 517.432 Q69.0707 522.015 63.2606 522.015 Q57.4504 522.015 54.3717 517.432 Q51.3162 512.826 51.3162 504.099 Q51.3162 495.349 54.3717 490.766 Q57.4504 486.159 63.2606 486.159 Z\" fill=\"#000000\" fill-rule=\"evenodd\" fill-opacity=\"1\" /><path clip-path=\"url(#clip310)\" d=\"M83.4225 515.465 L88.3067 515.465 L88.3067 521.344 L83.4225 521.344 L83.4225 515.465 Z\" fill=\"#000000\" fill-rule=\"evenodd\" fill-opacity=\"1\" /><path clip-path=\"url(#clip310)\" d=\"M109.071 502.201 Q105.922 502.201 104.071 504.354 Q102.242 506.506 102.242 510.256 Q102.242 513.983 104.071 516.159 Q105.922 518.312 109.071 518.312 Q112.219 518.312 114.047 516.159 Q115.899 513.983 115.899 510.256 Q115.899 506.506 114.047 504.354 Q112.219 502.201 109.071 502.201 M118.353 487.548 L118.353 491.807 Q116.594 490.974 114.788 490.534 Q113.006 490.094 111.246 490.094 Q106.617 490.094 104.163 493.219 Q101.733 496.344 101.385 502.664 Q102.751 500.65 104.811 499.585 Q106.871 498.497 109.348 498.497 Q114.557 498.497 117.566 501.668 Q120.598 504.817 120.598 510.256 Q120.598 515.58 117.45 518.798 Q114.302 522.015 109.071 522.015 Q103.075 522.015 99.9039 517.432 Q96.7326 512.826 96.7326 504.099 Q96.7326 495.905 100.621 491.043 Q104.51 486.159 111.061 486.159 Q112.82 486.159 114.603 486.506 Q116.408 486.854 118.353 487.548 Z\" fill=\"#000000\" fill-rule=\"evenodd\" fill-opacity=\"1\" /><path clip-path=\"url(#clip310)\" d=\"M63.5152 196.472 Q59.9041 196.472 58.0754 200.036 Q56.2699 203.578 56.2699 210.708 Q56.2699 217.814 58.0754 221.379 Q59.9041 224.92 63.5152 224.92 Q67.1494 224.92 68.955 221.379 Q70.7837 217.814 70.7837 210.708 Q70.7837 203.578 68.955 200.036 Q67.1494 196.472 63.5152 196.472 M63.5152 192.768 Q69.3254 192.768 72.3809 197.374 Q75.4596 201.958 75.4596 210.708 Q75.4596 219.434 72.3809 224.041 Q69.3254 228.624 63.5152 228.624 Q57.7051 228.624 54.6264 224.041 Q51.5708 219.434 51.5708 210.708 Q51.5708 201.958 54.6264 197.374 Q57.7051 192.768 63.5152 192.768 Z\" fill=\"#000000\" fill-rule=\"evenodd\" fill-opacity=\"1\" /><path clip-path=\"url(#clip310)\" d=\"M83.6771 222.073 L88.5614 222.073 L88.5614 227.953 L83.6771 227.953 L83.6771 222.073 Z\" fill=\"#000000\" fill-rule=\"evenodd\" fill-opacity=\"1\" /><path clip-path=\"url(#clip310)\" d=\"M108.746 211.541 Q105.413 211.541 103.492 213.323 Q101.594 215.106 101.594 218.231 Q101.594 221.356 103.492 223.138 Q105.413 224.92 108.746 224.92 Q112.08 224.92 114.001 223.138 Q115.922 221.333 115.922 218.231 Q115.922 215.106 114.001 213.323 Q112.103 211.541 108.746 211.541 M104.071 209.55 Q101.061 208.809 99.3715 206.749 Q97.7048 204.689 97.7048 201.726 Q97.7048 197.583 100.645 195.175 Q103.608 192.768 108.746 192.768 Q113.908 192.768 116.848 195.175 Q119.788 197.583 119.788 201.726 Q119.788 204.689 118.098 206.749 Q116.432 208.809 113.445 209.55 Q116.825 210.337 118.7 212.629 Q120.598 214.921 120.598 218.231 Q120.598 223.254 117.52 225.939 Q114.464 228.624 108.746 228.624 Q103.029 228.624 99.9502 225.939 Q96.8947 223.254 96.8947 218.231 Q96.8947 214.921 98.7928 212.629 Q100.691 210.337 104.071 209.55 M102.358 202.166 Q102.358 204.851 104.024 206.356 Q105.714 207.86 108.746 207.86 Q111.756 207.86 113.445 206.356 Q115.158 204.851 115.158 202.166 Q115.158 199.481 113.445 197.976 Q111.756 196.472 108.746 196.472 Q105.714 196.472 104.024 197.976 Q102.358 199.481 102.358 202.166 Z\" fill=\"#000000\" fill-rule=\"evenodd\" fill-opacity=\"1\" /><polyline clip-path=\"url(#clip313)\" style=\"stroke:#009af9; stroke-linecap:butt; stroke-linejoin:round; stroke-width:4; stroke-opacity:1; fill:none\" points=\"\n",
       "  218.754,1384.24 340.627,1384.24 462.5,1384.24 584.374,1384.24 706.247,1384.24 828.12,1384.24 949.994,1384.24 1071.87,1384.24 1193.74,1384.24 1315.61,1384.24 \n",
       "  1437.49,1384.24 1559.36,1384.24 1681.23,1384.24 1803.11,1384.24 1924.98,1384.24 2046.85,1384.24 2168.73,1384.24 2290.6,1384.24 \n",
       "  \"/>\n",
       "<polyline clip-path=\"url(#clip313)\" style=\"stroke:#e26f46; stroke-linecap:butt; stroke-linejoin:round; stroke-width:4; stroke-opacity:1; fill:none\" points=\"\n",
       "  218.754,1384.24 340.627,1384.24 462.5,1384.24 584.374,1384.24 706.247,1384.24 828.12,1384.24 949.994,1384.24 1071.87,1384.24 1193.74,1384.24 1315.61,1384.24 \n",
       "  1437.49,1384.24 1559.36,1384.23 1681.23,1384.19 1803.11,1383.69 1924.98,1377.74 2046.85,1309.91 2168.73,811.534 2290.6,86.1857 \n",
       "  \"/>\n",
       "<path clip-path=\"url(#clip310)\" d=\"\n",
       "M1704.72 248.629 L2279.55 248.629 L2279.55 93.1086 L1704.72 93.1086  Z\n",
       "  \" fill=\"#ffffff\" fill-rule=\"evenodd\" fill-opacity=\"1\"/>\n",
       "<polyline clip-path=\"url(#clip310)\" style=\"stroke:#000000; stroke-linecap:butt; stroke-linejoin:round; stroke-width:4; stroke-opacity:1; fill:none\" points=\"\n",
       "  1704.72,248.629 2279.55,248.629 2279.55,93.1086 1704.72,93.1086 1704.72,248.629 \n",
       "  \"/>\n",
       "<polyline clip-path=\"url(#clip310)\" style=\"stroke:#009af9; stroke-linecap:butt; stroke-linejoin:round; stroke-width:4; stroke-opacity:1; fill:none\" points=\"\n",
       "  1729.13,144.949 1875.54,144.949 \n",
       "  \"/>\n",
       "<path clip-path=\"url(#clip310)\" d=\"M1913.34 149.196 Q1908.18 149.196 1906.19 150.377 Q1904.2 151.557 1904.2 154.405 Q1904.2 156.673 1905.68 158.016 Q1907.18 159.335 1909.75 159.335 Q1913.3 159.335 1915.42 156.835 Q1917.58 154.312 1917.58 150.145 L1917.58 149.196 L1913.34 149.196 M1921.84 147.437 L1921.84 162.229 L1917.58 162.229 L1917.58 158.293 Q1916.12 160.655 1913.94 161.789 Q1911.77 162.9 1908.62 162.9 Q1904.64 162.9 1902.28 160.678 Q1899.94 158.432 1899.94 154.682 Q1899.94 150.307 1902.86 148.085 Q1905.8 145.863 1911.61 145.863 L1917.58 145.863 L1917.58 145.446 Q1917.58 142.507 1915.63 140.909 Q1913.71 139.289 1910.22 139.289 Q1907.99 139.289 1905.89 139.821 Q1903.78 140.354 1901.84 141.419 L1901.84 137.483 Q1904.17 136.581 1906.37 136.141 Q1908.57 135.678 1910.66 135.678 Q1916.28 135.678 1919.06 138.594 Q1921.84 141.511 1921.84 147.437 Z\" fill=\"#000000\" fill-rule=\"evenodd\" fill-opacity=\"1\" /><path clip-path=\"url(#clip310)\" d=\"M1949.22 149.289 Q1949.22 144.59 1947.28 141.928 Q1945.36 139.243 1941.98 139.243 Q1938.6 139.243 1936.65 141.928 Q1934.73 144.59 1934.73 149.289 Q1934.73 153.988 1936.65 156.673 Q1938.6 159.335 1941.98 159.335 Q1945.36 159.335 1947.28 156.673 Q1949.22 153.988 1949.22 149.289 M1934.73 140.238 Q1936.07 137.923 1938.11 136.812 Q1940.17 135.678 1943.02 135.678 Q1947.74 135.678 1950.68 139.428 Q1953.64 143.178 1953.64 149.289 Q1953.64 155.4 1950.68 159.15 Q1947.74 162.9 1943.02 162.9 Q1940.17 162.9 1938.11 161.789 Q1936.07 160.655 1934.73 158.34 L1934.73 162.229 L1930.45 162.229 L1930.45 126.21 L1934.73 126.21 L1934.73 140.238 Z\" fill=\"#000000\" fill-rule=\"evenodd\" fill-opacity=\"1\" /><path clip-path=\"url(#clip310)\" d=\"M1977.23 137.067 L1977.23 141.094 Q1975.42 140.169 1973.48 139.706 Q1971.54 139.243 1969.45 139.243 Q1966.28 139.243 1964.68 140.215 Q1963.11 141.187 1963.11 143.131 Q1963.11 144.613 1964.24 145.469 Q1965.38 146.303 1968.8 147.067 L1970.26 147.391 Q1974.8 148.363 1976.7 150.145 Q1978.62 151.905 1978.62 155.076 Q1978.62 158.687 1975.75 160.793 Q1972.9 162.9 1967.9 162.9 Q1965.82 162.9 1963.55 162.483 Q1961.3 162.09 1958.8 161.28 L1958.8 156.881 Q1961.17 158.108 1963.46 158.733 Q1965.75 159.335 1967.99 159.335 Q1971 159.335 1972.62 158.317 Q1974.24 157.275 1974.24 155.4 Q1974.24 153.664 1973.06 152.738 Q1971.91 151.812 1967.95 150.956 L1966.47 150.608 Q1962.51 149.775 1960.75 148.062 Q1958.99 146.326 1958.99 143.317 Q1958.99 139.659 1961.58 137.669 Q1964.17 135.678 1968.94 135.678 Q1971.3 135.678 1973.39 136.025 Q1975.47 136.372 1977.23 137.067 Z\" fill=\"#000000\" fill-rule=\"evenodd\" fill-opacity=\"1\" /><path clip-path=\"url(#clip310)\" d=\"M1995.45 139.289 Q1992.02 139.289 1990.03 141.974 Q1988.04 144.636 1988.04 149.289 Q1988.04 153.942 1990.01 156.627 Q1992 159.289 1995.45 159.289 Q1998.85 159.289 2000.84 156.604 Q2002.83 153.918 2002.83 149.289 Q2002.83 144.682 2000.84 141.997 Q1998.85 139.289 1995.45 139.289 M1995.45 135.678 Q2001 135.678 2004.17 139.289 Q2007.35 142.9 2007.35 149.289 Q2007.35 155.655 2004.17 159.289 Q2001 162.9 1995.45 162.9 Q1989.87 162.9 1986.7 159.289 Q1983.55 155.655 1983.55 149.289 Q1983.55 142.9 1986.7 139.289 Q1989.87 135.678 1995.45 135.678 Z\" fill=\"#000000\" fill-rule=\"evenodd\" fill-opacity=\"1\" /><path clip-path=\"url(#clip310)\" d=\"M2014.41 126.21 L2018.66 126.21 L2018.66 162.229 L2014.41 162.229 L2014.41 126.21 Z\" fill=\"#000000\" fill-rule=\"evenodd\" fill-opacity=\"1\" /><path clip-path=\"url(#clip310)\" d=\"M2027.14 151.997 L2027.14 136.303 L2031.4 136.303 L2031.4 151.835 Q2031.4 155.516 2032.83 157.368 Q2034.27 159.196 2037.14 159.196 Q2040.59 159.196 2042.58 156.997 Q2044.59 154.798 2044.59 151.002 L2044.59 136.303 L2048.85 136.303 L2048.85 162.229 L2044.59 162.229 L2044.59 158.247 Q2043.04 160.608 2040.98 161.766 Q2038.94 162.9 2036.23 162.9 Q2031.77 162.9 2029.45 160.122 Q2027.14 157.344 2027.14 151.997 M2037.85 135.678 L2037.85 135.678 Z\" fill=\"#000000\" fill-rule=\"evenodd\" fill-opacity=\"1\" /><path clip-path=\"url(#clip310)\" d=\"M2061.84 128.942 L2061.84 136.303 L2070.61 136.303 L2070.61 139.613 L2061.84 139.613 L2061.84 153.687 Q2061.84 156.858 2062.69 157.761 Q2063.57 158.664 2066.23 158.664 L2070.61 158.664 L2070.61 162.229 L2066.23 162.229 Q2061.3 162.229 2059.43 160.4 Q2057.55 158.548 2057.55 153.687 L2057.55 139.613 L2054.43 139.613 L2054.43 136.303 L2057.55 136.303 L2057.55 128.942 L2061.84 128.942 Z\" fill=\"#000000\" fill-rule=\"evenodd\" fill-opacity=\"1\" /><path clip-path=\"url(#clip310)\" d=\"M2098.39 148.201 L2098.39 150.284 L2078.8 150.284 Q2079.08 154.682 2081.44 156.997 Q2083.83 159.289 2088.06 159.289 Q2090.52 159.289 2092.81 158.687 Q2095.12 158.085 2097.39 156.881 L2097.39 160.909 Q2095.1 161.881 2092.69 162.391 Q2090.28 162.9 2087.81 162.9 Q2081.6 162.9 2077.97 159.289 Q2074.36 155.678 2074.36 149.52 Q2074.36 143.155 2077.79 139.428 Q2081.23 135.678 2087.07 135.678 Q2092.3 135.678 2095.33 139.057 Q2098.39 142.414 2098.39 148.201 M2094.13 146.951 Q2094.08 143.456 2092.16 141.372 Q2090.26 139.289 2087.11 139.289 Q2083.55 139.289 2081.4 141.303 Q2079.27 143.317 2078.94 146.974 L2094.13 146.951 Z\" fill=\"#000000\" fill-rule=\"evenodd\" fill-opacity=\"1\" /><path clip-path=\"url(#clip310)\" d=\"M2142.62 148.201 L2142.62 150.284 L2123.04 150.284 Q2123.32 154.682 2125.68 156.997 Q2128.06 159.289 2132.3 159.289 Q2134.75 159.289 2137.04 158.687 Q2139.36 158.085 2141.63 156.881 L2141.63 160.909 Q2139.34 161.881 2136.93 162.391 Q2134.52 162.9 2132.04 162.9 Q2125.84 162.9 2122.21 159.289 Q2118.59 155.678 2118.59 149.52 Q2118.59 143.155 2122.02 139.428 Q2125.47 135.678 2131.3 135.678 Q2136.53 135.678 2139.57 139.057 Q2142.62 142.414 2142.62 148.201 M2138.36 146.951 Q2138.32 143.456 2136.4 141.372 Q2134.5 139.289 2131.35 139.289 Q2127.78 139.289 2125.63 141.303 Q2123.5 143.317 2123.18 146.974 L2138.36 146.951 Z\" fill=\"#000000\" fill-rule=\"evenodd\" fill-opacity=\"1\" /><path clip-path=\"url(#clip310)\" d=\"M2164.64 140.284 Q2163.92 139.868 2163.06 139.682 Q2162.23 139.474 2161.21 139.474 Q2157.6 139.474 2155.65 141.835 Q2153.73 144.173 2153.73 148.571 L2153.73 162.229 L2149.45 162.229 L2149.45 136.303 L2153.73 136.303 L2153.73 140.331 Q2155.08 137.969 2157.23 136.835 Q2159.38 135.678 2162.46 135.678 Q2162.9 135.678 2163.43 135.747 Q2163.97 135.794 2164.61 135.909 L2164.64 140.284 Z\" fill=\"#000000\" fill-rule=\"evenodd\" fill-opacity=\"1\" /><path clip-path=\"url(#clip310)\" d=\"M2183.29 140.284 Q2182.58 139.868 2181.72 139.682 Q2180.89 139.474 2179.87 139.474 Q2176.26 139.474 2174.31 141.835 Q2172.39 144.173 2172.39 148.571 L2172.39 162.229 L2168.11 162.229 L2168.11 136.303 L2172.39 136.303 L2172.39 140.331 Q2173.73 137.969 2175.89 136.835 Q2178.04 135.678 2181.12 135.678 Q2181.56 135.678 2182.09 135.747 Q2182.62 135.794 2183.27 135.909 L2183.29 140.284 Z\" fill=\"#000000\" fill-rule=\"evenodd\" fill-opacity=\"1\" /><path clip-path=\"url(#clip310)\" d=\"M2196.77 139.289 Q2193.34 139.289 2191.35 141.974 Q2189.36 144.636 2189.36 149.289 Q2189.36 153.942 2191.33 156.627 Q2193.32 159.289 2196.77 159.289 Q2200.17 159.289 2202.16 156.604 Q2204.15 153.918 2204.15 149.289 Q2204.15 144.682 2202.16 141.997 Q2200.17 139.289 2196.77 139.289 M2196.77 135.678 Q2202.32 135.678 2205.49 139.289 Q2208.66 142.9 2208.66 149.289 Q2208.66 155.655 2205.49 159.289 Q2202.32 162.9 2196.77 162.9 Q2191.19 162.9 2188.02 159.289 Q2184.87 155.655 2184.87 149.289 Q2184.87 142.9 2188.02 139.289 Q2191.19 135.678 2196.77 135.678 Z\" fill=\"#000000\" fill-rule=\"evenodd\" fill-opacity=\"1\" /><path clip-path=\"url(#clip310)\" d=\"M2230.75 140.284 Q2230.03 139.868 2229.17 139.682 Q2228.34 139.474 2227.32 139.474 Q2223.71 139.474 2221.77 141.835 Q2219.84 144.173 2219.84 148.571 L2219.84 162.229 L2215.56 162.229 L2215.56 136.303 L2219.84 136.303 L2219.84 140.331 Q2221.19 137.969 2223.34 136.835 Q2225.49 135.678 2228.57 135.678 Q2229.01 135.678 2229.54 135.747 Q2230.08 135.794 2230.72 135.909 L2230.75 140.284 Z\" fill=\"#000000\" fill-rule=\"evenodd\" fill-opacity=\"1\" /><polyline clip-path=\"url(#clip310)\" style=\"stroke:#e26f46; stroke-linecap:butt; stroke-linejoin:round; stroke-width:4; stroke-opacity:1; fill:none\" points=\"\n",
       "  1729.13,196.789 1875.54,196.789 \n",
       "  \"/>\n",
       "<path clip-path=\"url(#clip310)\" d=\"M1915.12 192.124 Q1914.41 191.708 1913.55 191.522 Q1912.72 191.314 1911.7 191.314 Q1908.09 191.314 1906.14 193.675 Q1904.22 196.013 1904.22 200.411 L1904.22 214.069 L1899.94 214.069 L1899.94 188.143 L1904.22 188.143 L1904.22 192.171 Q1905.56 189.809 1907.72 188.675 Q1909.87 187.518 1912.95 187.518 Q1913.39 187.518 1913.92 187.587 Q1914.45 187.634 1915.1 187.749 L1915.12 192.124 Z\" fill=\"#000000\" fill-rule=\"evenodd\" fill-opacity=\"1\" /><path clip-path=\"url(#clip310)\" d=\"M1940.73 200.041 L1940.73 202.124 L1921.14 202.124 Q1921.42 206.522 1923.78 208.837 Q1926.17 211.129 1930.4 211.129 Q1932.86 211.129 1935.15 210.527 Q1937.46 209.925 1939.73 208.721 L1939.73 212.749 Q1937.44 213.721 1935.03 214.231 Q1932.62 214.74 1930.15 214.74 Q1923.94 214.74 1920.31 211.129 Q1916.7 207.518 1916.7 201.36 Q1916.7 194.995 1920.12 191.268 Q1923.57 187.518 1929.41 187.518 Q1934.64 187.518 1937.67 190.897 Q1940.73 194.254 1940.73 200.041 M1936.47 198.791 Q1936.42 195.296 1934.5 193.212 Q1932.6 191.129 1929.45 191.129 Q1925.89 191.129 1923.73 193.143 Q1921.61 195.157 1921.28 198.814 L1936.47 198.791 Z\" fill=\"#000000\" fill-rule=\"evenodd\" fill-opacity=\"1\" /><path clip-path=\"url(#clip310)\" d=\"M1947.72 178.05 L1951.98 178.05 L1951.98 214.069 L1947.72 214.069 L1947.72 178.05 Z\" fill=\"#000000\" fill-rule=\"evenodd\" fill-opacity=\"1\" /><path clip-path=\"url(#clip310)\" d=\"M1972.67 201.036 Q1967.51 201.036 1965.52 202.217 Q1963.53 203.397 1963.53 206.245 Q1963.53 208.513 1965.01 209.856 Q1966.51 211.175 1969.08 211.175 Q1972.62 211.175 1974.75 208.675 Q1976.91 206.152 1976.91 201.985 L1976.91 201.036 L1972.67 201.036 M1981.17 199.277 L1981.17 214.069 L1976.91 214.069 L1976.91 210.133 Q1975.45 212.495 1973.27 213.629 Q1971.1 214.74 1967.95 214.74 Q1963.97 214.74 1961.61 212.518 Q1959.27 210.272 1959.27 206.522 Q1959.27 202.147 1962.18 199.925 Q1965.12 197.703 1970.93 197.703 L1976.91 197.703 L1976.91 197.286 Q1976.91 194.347 1974.96 192.749 Q1973.04 191.129 1969.54 191.129 Q1967.32 191.129 1965.22 191.661 Q1963.11 192.194 1961.17 193.259 L1961.17 189.323 Q1963.5 188.421 1965.7 187.981 Q1967.9 187.518 1969.98 187.518 Q1975.61 187.518 1978.39 190.434 Q1981.17 193.351 1981.17 199.277 Z\" fill=\"#000000\" fill-rule=\"evenodd\" fill-opacity=\"1\" /><path clip-path=\"url(#clip310)\" d=\"M1994.15 180.782 L1994.15 188.143 L2002.92 188.143 L2002.92 191.453 L1994.15 191.453 L1994.15 205.527 Q1994.15 208.698 1995.01 209.601 Q1995.89 210.504 1998.55 210.504 L2002.92 210.504 L2002.92 214.069 L1998.55 214.069 Q1993.62 214.069 1991.74 212.24 Q1989.87 210.388 1989.87 205.527 L1989.87 191.453 L1986.74 191.453 L1986.74 188.143 L1989.87 188.143 L1989.87 180.782 L1994.15 180.782 Z\" fill=\"#000000\" fill-rule=\"evenodd\" fill-opacity=\"1\" /><path clip-path=\"url(#clip310)\" d=\"M2008.53 188.143 L2012.79 188.143 L2012.79 214.069 L2008.53 214.069 L2008.53 188.143 M2008.53 178.05 L2012.79 178.05 L2012.79 183.444 L2008.53 183.444 L2008.53 178.05 Z\" fill=\"#000000\" fill-rule=\"evenodd\" fill-opacity=\"1\" /><path clip-path=\"url(#clip310)\" d=\"M2018.64 188.143 L2023.16 188.143 L2031.26 209.902 L2039.36 188.143 L2043.87 188.143 L2034.15 214.069 L2028.36 214.069 L2018.64 188.143 Z\" fill=\"#000000\" fill-rule=\"evenodd\" fill-opacity=\"1\" /><path clip-path=\"url(#clip310)\" d=\"M2071.93 200.041 L2071.93 202.124 L2052.35 202.124 Q2052.62 206.522 2054.98 208.837 Q2057.37 211.129 2061.6 211.129 Q2064.06 211.129 2066.35 210.527 Q2068.66 209.925 2070.93 208.721 L2070.93 212.749 Q2068.64 213.721 2066.23 214.231 Q2063.83 214.74 2061.35 214.74 Q2055.15 214.74 2051.51 211.129 Q2047.9 207.518 2047.9 201.36 Q2047.9 194.995 2051.33 191.268 Q2054.78 187.518 2060.61 187.518 Q2065.84 187.518 2068.87 190.897 Q2071.93 194.254 2071.93 200.041 M2067.67 198.791 Q2067.62 195.296 2065.7 193.212 Q2063.8 191.129 2060.66 191.129 Q2057.09 191.129 2054.94 193.143 Q2052.81 195.157 2052.48 198.814 L2067.67 198.791 Z\" fill=\"#000000\" fill-rule=\"evenodd\" fill-opacity=\"1\" /><path clip-path=\"url(#clip310)\" d=\"M2116.16 200.041 L2116.16 202.124 L2096.58 202.124 Q2096.86 206.522 2099.22 208.837 Q2101.6 211.129 2105.84 211.129 Q2108.29 211.129 2110.59 210.527 Q2112.9 209.925 2115.17 208.721 L2115.17 212.749 Q2112.88 213.721 2110.47 214.231 Q2108.06 214.74 2105.59 214.74 Q2099.38 214.74 2095.75 211.129 Q2092.14 207.518 2092.14 201.36 Q2092.14 194.995 2095.56 191.268 Q2099.01 187.518 2104.85 187.518 Q2110.08 187.518 2113.11 190.897 Q2116.16 194.254 2116.16 200.041 M2111.91 198.791 Q2111.86 195.296 2109.94 193.212 Q2108.04 191.129 2104.89 191.129 Q2101.33 191.129 2099.17 193.143 Q2097.04 195.157 2096.72 198.814 L2111.91 198.791 Z\" fill=\"#000000\" fill-rule=\"evenodd\" fill-opacity=\"1\" /><path clip-path=\"url(#clip310)\" d=\"M2138.18 192.124 Q2137.46 191.708 2136.6 191.522 Q2135.77 191.314 2134.75 191.314 Q2131.14 191.314 2129.2 193.675 Q2127.28 196.013 2127.28 200.411 L2127.28 214.069 L2122.99 214.069 L2122.99 188.143 L2127.28 188.143 L2127.28 192.171 Q2128.62 189.809 2130.77 188.675 Q2132.92 187.518 2136 187.518 Q2136.44 187.518 2136.97 187.587 Q2137.51 187.634 2138.16 187.749 L2138.18 192.124 Z\" fill=\"#000000\" fill-rule=\"evenodd\" fill-opacity=\"1\" /><path clip-path=\"url(#clip310)\" d=\"M2156.84 192.124 Q2156.12 191.708 2155.26 191.522 Q2154.43 191.314 2153.41 191.314 Q2149.8 191.314 2147.85 193.675 Q2145.93 196.013 2145.93 200.411 L2145.93 214.069 L2141.65 214.069 L2141.65 188.143 L2145.93 188.143 L2145.93 192.171 Q2147.28 189.809 2149.43 188.675 Q2151.58 187.518 2154.66 187.518 Q2155.1 187.518 2155.63 187.587 Q2156.16 187.634 2156.81 187.749 L2156.84 192.124 Z\" fill=\"#000000\" fill-rule=\"evenodd\" fill-opacity=\"1\" /><path clip-path=\"url(#clip310)\" d=\"M2170.31 191.129 Q2166.88 191.129 2164.89 193.814 Q2162.9 196.476 2162.9 201.129 Q2162.9 205.782 2164.87 208.467 Q2166.86 211.129 2170.31 211.129 Q2173.71 211.129 2175.7 208.444 Q2177.69 205.758 2177.69 201.129 Q2177.69 196.522 2175.7 193.837 Q2173.71 191.129 2170.31 191.129 M2170.31 187.518 Q2175.86 187.518 2179.03 191.129 Q2182.21 194.74 2182.21 201.129 Q2182.21 207.495 2179.03 211.129 Q2175.86 214.74 2170.31 214.74 Q2164.73 214.74 2161.56 211.129 Q2158.41 207.495 2158.41 201.129 Q2158.41 194.74 2161.56 191.129 Q2164.73 187.518 2170.31 187.518 Z\" fill=\"#000000\" fill-rule=\"evenodd\" fill-opacity=\"1\" /><path clip-path=\"url(#clip310)\" d=\"M2204.29 192.124 Q2203.57 191.708 2202.71 191.522 Q2201.88 191.314 2200.86 191.314 Q2197.25 191.314 2195.31 193.675 Q2193.39 196.013 2193.39 200.411 L2193.39 214.069 L2189.1 214.069 L2189.1 188.143 L2193.39 188.143 L2193.39 192.171 Q2194.73 189.809 2196.88 188.675 Q2199.03 187.518 2202.11 187.518 Q2202.55 187.518 2203.09 187.587 Q2203.62 187.634 2204.27 187.749 L2204.29 192.124 Z\" fill=\"#000000\" fill-rule=\"evenodd\" fill-opacity=\"1\" /></svg>\n"
      ]
     },
     "execution_count": 64,
     "metadata": {},
     "output_type": "execute_result"
    }
   ],
   "source": [
    "plot(0:n-1, abs_error, label=\"absolute error\", xlabel=L\"n\")\n",
    "plot!(0:n-1, rel_error, label=\"relative error\")"
   ]
  },
  {
   "cell_type": "markdown",
   "metadata": {
    "id": "j_PFZK8o4KxB"
   },
   "source": [
    "Until the step $n=15$ in the recurrence relation, the absolute error is practically zero, while the relative error grows to only $0.05 = 5\\%$. This shows that the algorithm is **stable**."
   ]
  },
  {
   "cell_type": "markdown",
   "metadata": {
    "id": "dg8FkAM34KxB"
   },
   "source": [
    "---\n",
    "On the other hand, the recurrence relation\n",
    "\n",
    "$x_0 = 1$\\\n",
    "$x_1 = 4$\\\n",
    "$x_{n+1} = \\frac{13}{3}x_n - \\frac{4}{3} x_{n-1} $\n",
    "\n",
    "compared to\n",
    "\n",
    "$x_n = 4^n$,\n",
    "\n",
    "shows a completely different behavior,"
   ]
  },
  {
   "cell_type": "code",
   "execution_count": 69,
   "metadata": {
    "colab": {
     "base_uri": "https://localhost:8080/",
     "height": 334
    },
    "executionInfo": {
     "elapsed": 742,
     "status": "ok",
     "timestamp": 1618613681392,
     "user": {
      "displayName": "Eduard Alexis Larranaga",
      "photoUrl": "https://lh3.googleusercontent.com/a-/AOh14GgCVABzEgj-rCdyxWa29RnA0kIYUCXAaVbnRYOEhQ=s64",
      "userId": "04402438389940282602"
     },
     "user_tz": 300
    },
    "id": "AvvklL-B4KxB",
    "outputId": "b94cf533-a09c-485f-cfc8-52102273d660",
    "scrolled": false
   },
   "outputs": [
    {
     "data": {
      "image/svg+xml": [
       "<?xml version=\"1.0\" encoding=\"utf-8\"?>\n",
       "<svg xmlns=\"http://www.w3.org/2000/svg\" xmlns:xlink=\"http://www.w3.org/1999/xlink\" width=\"600\" height=\"400\" viewBox=\"0 0 2400 1600\">\n",
       "<defs>\n",
       "  <clipPath id=\"clip430\">\n",
       "    <rect x=\"0\" y=\"0\" width=\"2400\" height=\"1600\"/>\n",
       "  </clipPath>\n",
       "</defs>\n",
       "<path clip-path=\"url(#clip430)\" d=\"\n",
       "M0 1600 L2400 1600 L2400 0 L0 0  Z\n",
       "  \" fill=\"#ffffff\" fill-rule=\"evenodd\" fill-opacity=\"1\"/>\n",
       "<defs>\n",
       "  <clipPath id=\"clip431\">\n",
       "    <rect x=\"480\" y=\"0\" width=\"1681\" height=\"1600\"/>\n",
       "  </clipPath>\n",
       "</defs>\n",
       "<defs>\n",
       "  <clipPath id=\"clip432\">\n",
       "    <rect x=\"186\" y=\"47\" width=\"2167\" height=\"1377\"/>\n",
       "  </clipPath>\n",
       "</defs>\n",
       "<path clip-path=\"url(#clip430)\" d=\"\n",
       "M326.46 1423.18 L2352.76 1423.18 L2352.76 47.2441 L326.46 47.2441  Z\n",
       "  \" fill=\"#ffffff\" fill-rule=\"evenodd\" fill-opacity=\"1\"/>\n",
       "<defs>\n",
       "  <clipPath id=\"clip433\">\n",
       "    <rect x=\"326\" y=\"47\" width=\"2027\" height=\"1377\"/>\n",
       "  </clipPath>\n",
       "</defs>\n",
       "<polyline clip-path=\"url(#clip433)\" style=\"stroke:#000000; stroke-linecap:butt; stroke-linejoin:round; stroke-width:2; stroke-opacity:0.1; fill:none\" points=\"\n",
       "  383.808,1423.18 383.808,47.2441 \n",
       "  \"/>\n",
       "<polyline clip-path=\"url(#clip433)\" style=\"stroke:#000000; stroke-linecap:butt; stroke-linejoin:round; stroke-width:2; stroke-opacity:0.1; fill:none\" points=\"\n",
       "  946.043,1423.18 946.043,47.2441 \n",
       "  \"/>\n",
       "<polyline clip-path=\"url(#clip433)\" style=\"stroke:#000000; stroke-linecap:butt; stroke-linejoin:round; stroke-width:2; stroke-opacity:0.1; fill:none\" points=\"\n",
       "  1508.28,1423.18 1508.28,47.2441 \n",
       "  \"/>\n",
       "<polyline clip-path=\"url(#clip433)\" style=\"stroke:#000000; stroke-linecap:butt; stroke-linejoin:round; stroke-width:2; stroke-opacity:0.1; fill:none\" points=\"\n",
       "  2070.51,1423.18 2070.51,47.2441 \n",
       "  \"/>\n",
       "<polyline clip-path=\"url(#clip430)\" style=\"stroke:#000000; stroke-linecap:butt; stroke-linejoin:round; stroke-width:4; stroke-opacity:1; fill:none\" points=\"\n",
       "  326.46,1423.18 2352.76,1423.18 \n",
       "  \"/>\n",
       "<polyline clip-path=\"url(#clip430)\" style=\"stroke:#000000; stroke-linecap:butt; stroke-linejoin:round; stroke-width:4; stroke-opacity:1; fill:none\" points=\"\n",
       "  383.808,1423.18 383.808,1404.28 \n",
       "  \"/>\n",
       "<polyline clip-path=\"url(#clip430)\" style=\"stroke:#000000; stroke-linecap:butt; stroke-linejoin:round; stroke-width:4; stroke-opacity:1; fill:none\" points=\"\n",
       "  946.043,1423.18 946.043,1404.28 \n",
       "  \"/>\n",
       "<polyline clip-path=\"url(#clip430)\" style=\"stroke:#000000; stroke-linecap:butt; stroke-linejoin:round; stroke-width:4; stroke-opacity:1; fill:none\" points=\"\n",
       "  1508.28,1423.18 1508.28,1404.28 \n",
       "  \"/>\n",
       "<polyline clip-path=\"url(#clip430)\" style=\"stroke:#000000; stroke-linecap:butt; stroke-linejoin:round; stroke-width:4; stroke-opacity:1; fill:none\" points=\"\n",
       "  2070.51,1423.18 2070.51,1404.28 \n",
       "  \"/>\n",
       "<path clip-path=\"url(#clip430)\" d=\"M383.808 1454.1 Q380.197 1454.1 378.368 1457.66 Q376.563 1461.2 376.563 1468.33 Q376.563 1475.44 378.368 1479.01 Q380.197 1482.55 383.808 1482.55 Q387.442 1482.55 389.248 1479.01 Q391.076 1475.44 391.076 1468.33 Q391.076 1461.2 389.248 1457.66 Q387.442 1454.1 383.808 1454.1 M383.808 1450.39 Q389.618 1450.39 392.674 1455 Q395.752 1459.58 395.752 1468.33 Q395.752 1477.06 392.674 1481.67 Q389.618 1486.25 383.808 1486.25 Q377.998 1486.25 374.919 1481.67 Q371.864 1477.06 371.864 1468.33 Q371.864 1459.58 374.919 1455 Q377.998 1450.39 383.808 1450.39 Z\" fill=\"#000000\" fill-rule=\"evenodd\" fill-opacity=\"1\" /><path clip-path=\"url(#clip430)\" d=\"M936.321 1451.02 L954.677 1451.02 L954.677 1454.96 L940.603 1454.96 L940.603 1463.43 Q941.622 1463.08 942.64 1462.92 Q943.659 1462.73 944.677 1462.73 Q950.464 1462.73 953.844 1465.9 Q957.224 1469.08 957.224 1474.49 Q957.224 1480.07 953.751 1483.17 Q950.279 1486.25 943.96 1486.25 Q941.784 1486.25 939.515 1485.88 Q937.27 1485.51 934.863 1484.77 L934.863 1480.07 Q936.946 1481.2 939.168 1481.76 Q941.39 1482.32 943.867 1482.32 Q947.872 1482.32 950.21 1480.21 Q952.548 1478.1 952.548 1474.49 Q952.548 1470.88 950.21 1468.77 Q947.872 1466.67 943.867 1466.67 Q941.992 1466.67 940.117 1467.08 Q938.265 1467.5 936.321 1468.38 L936.321 1451.02 Z\" fill=\"#000000\" fill-rule=\"evenodd\" fill-opacity=\"1\" /><path clip-path=\"url(#clip430)\" d=\"M1482.97 1481.64 L1490.6 1481.64 L1490.6 1455.28 L1482.29 1456.95 L1482.29 1452.69 L1490.56 1451.02 L1495.23 1451.02 L1495.23 1481.64 L1502.87 1481.64 L1502.87 1485.58 L1482.97 1485.58 L1482.97 1481.64 Z\" fill=\"#000000\" fill-rule=\"evenodd\" fill-opacity=\"1\" /><path clip-path=\"url(#clip430)\" d=\"M1522.32 1454.1 Q1518.71 1454.1 1516.88 1457.66 Q1515.07 1461.2 1515.07 1468.33 Q1515.07 1475.44 1516.88 1479.01 Q1518.71 1482.55 1522.32 1482.55 Q1525.95 1482.55 1527.76 1479.01 Q1529.59 1475.44 1529.59 1468.33 Q1529.59 1461.2 1527.76 1457.66 Q1525.95 1454.1 1522.32 1454.1 M1522.32 1450.39 Q1528.13 1450.39 1531.18 1455 Q1534.26 1459.58 1534.26 1468.33 Q1534.26 1477.06 1531.18 1481.67 Q1528.13 1486.25 1522.32 1486.25 Q1516.51 1486.25 1513.43 1481.67 Q1510.37 1477.06 1510.37 1468.33 Q1510.37 1459.58 1513.43 1455 Q1516.51 1450.39 1522.32 1450.39 Z\" fill=\"#000000\" fill-rule=\"evenodd\" fill-opacity=\"1\" /><path clip-path=\"url(#clip430)\" d=\"M2045.7 1481.64 L2053.34 1481.64 L2053.34 1455.28 L2045.03 1456.95 L2045.03 1452.69 L2053.29 1451.02 L2057.97 1451.02 L2057.97 1481.64 L2065.61 1481.64 L2065.61 1485.58 L2045.7 1485.58 L2045.7 1481.64 Z\" fill=\"#000000\" fill-rule=\"evenodd\" fill-opacity=\"1\" /><path clip-path=\"url(#clip430)\" d=\"M2075.1 1451.02 L2093.45 1451.02 L2093.45 1454.96 L2079.38 1454.96 L2079.38 1463.43 Q2080.4 1463.08 2081.42 1462.92 Q2082.44 1462.73 2083.45 1462.73 Q2089.24 1462.73 2092.62 1465.9 Q2096 1469.08 2096 1474.49 Q2096 1480.07 2092.53 1483.17 Q2089.06 1486.25 2082.74 1486.25 Q2080.56 1486.25 2078.29 1485.88 Q2076.05 1485.51 2073.64 1484.77 L2073.64 1480.07 Q2075.72 1481.2 2077.94 1481.76 Q2080.17 1482.32 2082.64 1482.32 Q2086.65 1482.32 2088.99 1480.21 Q2091.32 1478.1 2091.32 1474.49 Q2091.32 1470.88 2088.99 1468.77 Q2086.65 1466.67 2082.64 1466.67 Q2080.77 1466.67 2078.89 1467.08 Q2077.04 1467.5 2075.1 1468.38 L2075.1 1451.02 Z\" fill=\"#000000\" fill-rule=\"evenodd\" fill-opacity=\"1\" /><path clip-path=\"url(#clip430)\" d=\"M1355.77 1560.8 Q1355.77 1561.06 1355.48 1562.05 Q1355.19 1563.05 1354.48 1564.6 Q1353.81 1566.14 1352.87 1567.56 Q1351.94 1568.95 1350.39 1569.98 Q1348.88 1570.97 1347.14 1570.97 Q1344.82 1570.97 1343.27 1569.43 Q1341.73 1567.88 1341.73 1565.56 Q1341.73 1564.28 1342.41 1562.5 Q1346.69 1551.07 1346.69 1547.14 Q1346.69 1542.54 1343.11 1542.54 Q1341.34 1542.54 1339.67 1543.21 Q1338.03 1543.86 1336.9 1544.76 Q1335.77 1545.66 1334.74 1546.92 Q1333.74 1548.14 1333.23 1548.98 Q1332.74 1549.78 1332.36 1550.59 L1331.52 1553.87 Q1331.33 1554.78 1330.39 1558.29 L1328.94 1564.24 Q1327.91 1568.69 1327.69 1569.11 Q1327.37 1570.01 1326.66 1570.49 Q1325.95 1570.97 1325.24 1570.97 Q1324.43 1570.97 1323.89 1570.49 Q1323.34 1570.01 1323.34 1569.17 Q1323.34 1569.04 1323.44 1568.56 Q1323.53 1568.08 1323.69 1567.4 Q1323.85 1566.72 1323.92 1566.34 L1327.75 1551.1 Q1328.46 1548.33 1328.62 1547.46 Q1328.81 1546.56 1328.81 1545.56 Q1328.81 1542.54 1326.75 1542.54 Q1325.08 1542.54 1323.98 1544.53 Q1322.89 1546.53 1321.95 1550.4 Q1321.66 1551.46 1321.47 1551.68 Q1321.31 1551.91 1320.83 1551.91 Q1320.02 1551.88 1320.02 1551.23 Q1320.02 1551.07 1320.28 1550.01 Q1320.54 1548.95 1321.02 1547.43 Q1321.54 1545.89 1322.02 1544.86 Q1322.44 1544.08 1322.66 1543.73 Q1322.92 1543.34 1323.53 1542.6 Q1324.18 1541.83 1325.01 1541.47 Q1325.88 1541.09 1326.95 1541.09 Q1329.33 1541.09 1331.07 1542.63 Q1332.81 1544.15 1333.03 1546.82 Q1337.32 1541.09 1343.31 1541.09 Q1346.85 1541.09 1348.88 1542.96 Q1350.91 1544.82 1350.91 1548.14 Q1350.91 1548.91 1350.75 1549.91 Q1350.62 1550.88 1350.3 1552.1 Q1350.01 1553.33 1349.75 1554.26 Q1349.49 1555.19 1348.98 1556.71 Q1348.46 1558.19 1348.23 1558.83 Q1348.01 1559.48 1347.46 1560.99 Q1346.95 1562.47 1346.88 1562.63 Q1345.69 1565.63 1345.69 1567.34 Q1345.69 1568.46 1346.04 1568.98 Q1346.43 1569.49 1347.27 1569.49 Q1349.52 1569.49 1351.2 1567.27 Q1352.9 1565.02 1354 1561.35 Q1354.26 1560.54 1354.39 1560.35 Q1354.55 1560.15 1355 1560.15 Q1355.77 1560.15 1355.77 1560.8 Z\" fill=\"#000000\" fill-rule=\"evenodd\" fill-opacity=\"1\" /><polyline clip-path=\"url(#clip433)\" style=\"stroke:#000000; stroke-linecap:butt; stroke-linejoin:round; stroke-width:2; stroke-opacity:0.1; fill:none\" points=\"\n",
       "  326.46,1384.24 2352.76,1384.24 \n",
       "  \"/>\n",
       "<polyline clip-path=\"url(#clip433)\" style=\"stroke:#000000; stroke-linecap:butt; stroke-linejoin:round; stroke-width:2; stroke-opacity:0.1; fill:none\" points=\"\n",
       "  326.46,1006.46 2352.76,1006.46 \n",
       "  \"/>\n",
       "<polyline clip-path=\"url(#clip433)\" style=\"stroke:#000000; stroke-linecap:butt; stroke-linejoin:round; stroke-width:2; stroke-opacity:0.1; fill:none\" points=\"\n",
       "  326.46,628.672 2352.76,628.672 \n",
       "  \"/>\n",
       "<polyline clip-path=\"url(#clip433)\" style=\"stroke:#000000; stroke-linecap:butt; stroke-linejoin:round; stroke-width:2; stroke-opacity:0.1; fill:none\" points=\"\n",
       "  326.46,250.889 2352.76,250.889 \n",
       "  \"/>\n",
       "<polyline clip-path=\"url(#clip430)\" style=\"stroke:#000000; stroke-linecap:butt; stroke-linejoin:round; stroke-width:4; stroke-opacity:1; fill:none\" points=\"\n",
       "  326.46,1423.18 326.46,47.2441 \n",
       "  \"/>\n",
       "<polyline clip-path=\"url(#clip430)\" style=\"stroke:#000000; stroke-linecap:butt; stroke-linejoin:round; stroke-width:4; stroke-opacity:1; fill:none\" points=\"\n",
       "  326.46,1384.24 345.358,1384.24 \n",
       "  \"/>\n",
       "<polyline clip-path=\"url(#clip430)\" style=\"stroke:#000000; stroke-linecap:butt; stroke-linejoin:round; stroke-width:4; stroke-opacity:1; fill:none\" points=\"\n",
       "  326.46,1006.46 345.358,1006.46 \n",
       "  \"/>\n",
       "<polyline clip-path=\"url(#clip430)\" style=\"stroke:#000000; stroke-linecap:butt; stroke-linejoin:round; stroke-width:4; stroke-opacity:1; fill:none\" points=\"\n",
       "  326.46,628.672 345.358,628.672 \n",
       "  \"/>\n",
       "<polyline clip-path=\"url(#clip430)\" style=\"stroke:#000000; stroke-linecap:butt; stroke-linejoin:round; stroke-width:4; stroke-opacity:1; fill:none\" points=\"\n",
       "  326.46,250.889 345.358,250.889 \n",
       "  \"/>\n",
       "<path clip-path=\"url(#clip430)\" d=\"M278.516 1370.04 Q274.904 1370.04 273.076 1373.6 Q271.27 1377.14 271.27 1384.27 Q271.27 1391.38 273.076 1394.94 Q274.904 1398.49 278.516 1398.49 Q282.15 1398.49 283.955 1394.94 Q285.784 1391.38 285.784 1384.27 Q285.784 1377.14 283.955 1373.6 Q282.15 1370.04 278.516 1370.04 M278.516 1366.33 Q284.326 1366.33 287.381 1370.94 Q290.46 1375.52 290.46 1384.27 Q290.46 1393 287.381 1397.61 Q284.326 1402.19 278.516 1402.19 Q272.705 1402.19 269.627 1397.61 Q266.571 1393 266.571 1384.27 Q266.571 1375.52 269.627 1370.94 Q272.705 1366.33 278.516 1366.33 Z\" fill=\"#000000\" fill-rule=\"evenodd\" fill-opacity=\"1\" /><path clip-path=\"url(#clip430)\" d=\"M73.751 995.623 L92.1074 995.623 L92.1074 999.558 L78.0334 999.558 L78.0334 1008.03 Q79.0519 1007.68 80.0704 1007.52 Q81.0889 1007.34 82.1074 1007.34 Q87.8944 1007.34 91.274 1010.51 Q94.6536 1013.68 94.6536 1019.09 Q94.6536 1024.67 91.1814 1027.78 Q87.7092 1030.85 81.3898 1030.85 Q79.2139 1030.85 76.9454 1030.48 Q74.7 1030.11 72.2926 1029.37 L72.2926 1024.67 Q74.376 1025.81 76.5982 1026.36 Q78.8204 1026.92 81.2972 1026.92 Q85.3018 1026.92 87.6398 1024.81 Q89.9777 1022.71 89.9777 1019.09 Q89.9777 1015.48 87.6398 1013.38 Q85.3018 1011.27 81.2972 1011.27 Q79.4222 1011.27 77.5472 1011.69 Q75.6954 1012.1 73.751 1012.98 L73.751 995.623 Z\" fill=\"#000000\" fill-rule=\"evenodd\" fill-opacity=\"1\" /><path clip-path=\"url(#clip430)\" d=\"M103.867 1024.3 L108.751 1024.3 L108.751 1030.18 L103.867 1030.18 L103.867 1024.3 Z\" fill=\"#000000\" fill-rule=\"evenodd\" fill-opacity=\"1\" /><path clip-path=\"url(#clip430)\" d=\"M128.936 998.702 Q125.325 998.702 123.496 1002.27 Q121.691 1005.81 121.691 1012.94 Q121.691 1020.04 123.496 1023.61 Q125.325 1027.15 128.936 1027.15 Q132.57 1027.15 134.376 1023.61 Q136.204 1020.04 136.204 1012.94 Q136.204 1005.81 134.376 1002.27 Q132.57 998.702 128.936 998.702 M128.936 994.998 Q134.746 994.998 137.802 999.604 Q140.88 1004.19 140.88 1012.94 Q140.88 1021.66 137.802 1026.27 Q134.746 1030.85 128.936 1030.85 Q123.126 1030.85 120.047 1026.27 Q116.991 1021.66 116.991 1012.94 Q116.991 1004.19 120.047 999.604 Q123.126 994.998 128.936 994.998 Z\" fill=\"#000000\" fill-rule=\"evenodd\" fill-opacity=\"1\" /><path clip-path=\"url(#clip430)\" d=\"M159.098 998.702 Q155.487 998.702 153.658 1002.27 Q151.852 1005.81 151.852 1012.94 Q151.852 1020.04 153.658 1023.61 Q155.487 1027.15 159.098 1027.15 Q162.732 1027.15 164.538 1023.61 Q166.366 1020.04 166.366 1012.94 Q166.366 1005.81 164.538 1002.27 Q162.732 998.702 159.098 998.702 M159.098 994.998 Q164.908 994.998 167.963 999.604 Q171.042 1004.19 171.042 1012.94 Q171.042 1021.66 167.963 1026.27 Q164.908 1030.85 159.098 1030.85 Q153.288 1030.85 150.209 1026.27 Q147.153 1021.66 147.153 1012.94 Q147.153 1004.19 150.209 999.604 Q153.288 994.998 159.098 994.998 Z\" fill=\"#000000\" fill-rule=\"evenodd\" fill-opacity=\"1\" /><path clip-path=\"url(#clip430)\" d=\"M207.431 1004.72 L196.852 1015.34 L207.431 1025.92 L204.676 1028.72 L194.051 1018.1 L183.426 1028.72 L180.695 1025.92 L191.25 1015.34 L180.695 1004.72 L183.426 1001.92 L194.051 1012.54 L204.676 1001.92 L207.431 1004.72 Z\" fill=\"#000000\" fill-rule=\"evenodd\" fill-opacity=\"1\" /><path clip-path=\"url(#clip430)\" d=\"M219.792 1026.25 L227.431 1026.25 L227.431 999.882 L219.121 1001.55 L219.121 997.289 L227.384 995.623 L232.06 995.623 L232.06 1026.25 L239.699 1026.25 L239.699 1030.18 L219.792 1030.18 L219.792 1026.25 Z\" fill=\"#000000\" fill-rule=\"evenodd\" fill-opacity=\"1\" /><path clip-path=\"url(#clip430)\" d=\"M259.143 998.702 Q255.532 998.702 253.704 1002.27 Q251.898 1005.81 251.898 1012.94 Q251.898 1020.04 253.704 1023.61 Q255.532 1027.15 259.143 1027.15 Q262.778 1027.15 264.583 1023.61 Q266.412 1020.04 266.412 1012.94 Q266.412 1005.81 264.583 1002.27 Q262.778 998.702 259.143 998.702 M259.143 994.998 Q264.954 994.998 268.009 999.604 Q271.088 1004.19 271.088 1012.94 Q271.088 1021.66 268.009 1026.27 Q264.954 1030.85 259.143 1030.85 Q253.333 1030.85 250.255 1026.27 Q247.199 1021.66 247.199 1012.94 Q247.199 1004.19 250.255 999.604 Q253.333 994.998 259.143 994.998 Z\" fill=\"#000000\" fill-rule=\"evenodd\" fill-opacity=\"1\" /><path clip-path=\"url(#clip430)\" d=\"M272.893 1002.19 L272.893 998.729 Q274.323 999.406 275.79 999.763 Q277.257 1000.12 278.667 1000.12 Q282.429 1000.12 284.404 997.6 Q286.397 995.061 286.68 989.908 Q285.589 991.525 283.915 992.391 Q282.241 993.256 280.21 993.256 Q275.997 993.256 273.533 990.717 Q271.088 988.159 271.088 983.739 Q271.088 979.413 273.646 976.799 Q276.204 974.185 280.454 974.185 Q285.325 974.185 287.883 977.927 Q290.46 981.651 290.46 988.761 Q290.46 995.4 287.3 999.368 Q284.159 1003.32 278.837 1003.32 Q277.407 1003.32 275.94 1003.04 Q274.473 1002.75 272.893 1002.19 M280.454 990.284 Q283.012 990.284 284.498 988.535 Q286.002 986.786 286.002 983.739 Q286.002 980.711 284.498 978.962 Q283.012 977.194 280.454 977.194 Q277.896 977.194 276.392 978.962 Q274.906 980.711 274.906 983.739 Q274.906 986.786 276.392 988.535 Q277.896 990.284 280.454 990.284 Z\" fill=\"#000000\" fill-rule=\"evenodd\" fill-opacity=\"1\" /><path clip-path=\"url(#clip430)\" d=\"M51.6634 648.465 L59.3023 648.465 L59.3023 622.099 L50.9921 623.766 L50.9921 619.506 L59.256 617.84 L63.9319 617.84 L63.9319 648.465 L71.5707 648.465 L71.5707 652.4 L51.6634 652.4 L51.6634 648.465 Z\" fill=\"#000000\" fill-rule=\"evenodd\" fill-opacity=\"1\" /><path clip-path=\"url(#clip430)\" d=\"M81.0151 646.52 L85.8993 646.52 L85.8993 652.4 L81.0151 652.4 L81.0151 646.52 Z\" fill=\"#000000\" fill-rule=\"evenodd\" fill-opacity=\"1\" /><path clip-path=\"url(#clip430)\" d=\"M106.084 620.919 Q102.473 620.919 100.645 624.483 Q98.8391 628.025 98.8391 635.155 Q98.8391 642.261 100.645 645.826 Q102.473 649.367 106.084 649.367 Q109.719 649.367 111.524 645.826 Q113.353 642.261 113.353 635.155 Q113.353 628.025 111.524 624.483 Q109.719 620.919 106.084 620.919 M106.084 617.215 Q111.895 617.215 114.95 621.821 Q118.029 626.405 118.029 635.155 Q118.029 643.881 114.95 648.488 Q111.895 653.071 106.084 653.071 Q100.274 653.071 97.1956 648.488 Q94.14 643.881 94.14 635.155 Q94.14 626.405 97.1956 621.821 Q100.274 617.215 106.084 617.215 Z\" fill=\"#000000\" fill-rule=\"evenodd\" fill-opacity=\"1\" /><path clip-path=\"url(#clip430)\" d=\"M136.246 620.919 Q132.635 620.919 130.807 624.483 Q129.001 628.025 129.001 635.155 Q129.001 642.261 130.807 645.826 Q132.635 649.367 136.246 649.367 Q139.881 649.367 141.686 645.826 Q143.515 642.261 143.515 635.155 Q143.515 628.025 141.686 624.483 Q139.881 620.919 136.246 620.919 M136.246 617.215 Q142.056 617.215 145.112 621.821 Q148.191 626.405 148.191 635.155 Q148.191 643.881 145.112 648.488 Q142.056 653.071 136.246 653.071 Q130.436 653.071 127.357 648.488 Q124.302 643.881 124.302 635.155 Q124.302 626.405 127.357 621.821 Q130.436 617.215 136.246 617.215 Z\" fill=\"#000000\" fill-rule=\"evenodd\" fill-opacity=\"1\" /><path clip-path=\"url(#clip430)\" d=\"M184.579 626.937 L174.001 637.562 L184.579 648.141 L181.825 650.941 L171.2 640.317 L160.575 650.941 L157.843 648.141 L168.399 637.562 L157.843 626.937 L160.575 624.136 L171.2 634.761 L181.825 624.136 L184.579 626.937 Z\" fill=\"#000000\" fill-rule=\"evenodd\" fill-opacity=\"1\" /><path clip-path=\"url(#clip430)\" d=\"M196.94 648.465 L204.579 648.465 L204.579 622.099 L196.269 623.766 L196.269 619.506 L204.533 617.84 L209.209 617.84 L209.209 648.465 L216.848 648.465 L216.848 652.4 L196.94 652.4 L196.94 648.465 Z\" fill=\"#000000\" fill-rule=\"evenodd\" fill-opacity=\"1\" /><path clip-path=\"url(#clip430)\" d=\"M236.292 620.919 Q232.681 620.919 230.852 624.483 Q229.047 628.025 229.047 635.155 Q229.047 642.261 230.852 645.826 Q232.681 649.367 236.292 649.367 Q239.926 649.367 241.732 645.826 Q243.561 642.261 243.561 635.155 Q243.561 628.025 241.732 624.483 Q239.926 620.919 236.292 620.919 M236.292 617.215 Q242.102 617.215 245.158 621.821 Q248.236 626.405 248.236 635.155 Q248.236 643.881 245.158 648.488 Q242.102 653.071 236.292 653.071 Q230.482 653.071 227.403 648.488 Q224.348 643.881 224.348 635.155 Q224.348 626.405 227.403 621.821 Q230.482 617.215 236.292 617.215 Z\" fill=\"#000000\" fill-rule=\"evenodd\" fill-opacity=\"1\" /><path clip-path=\"url(#clip430)\" d=\"M248.782 621.792 L254.988 621.792 L254.988 600.37 L248.236 601.724 L248.236 598.264 L254.951 596.909 L258.75 596.909 L258.75 621.792 L264.957 621.792 L264.957 624.989 L248.782 624.989 L248.782 621.792 Z\" fill=\"#000000\" fill-rule=\"evenodd\" fill-opacity=\"1\" /><path clip-path=\"url(#clip430)\" d=\"M280.755 599.411 Q277.821 599.411 276.335 602.307 Q274.868 605.185 274.868 610.978 Q274.868 616.752 276.335 619.648 Q277.821 622.526 280.755 622.526 Q283.708 622.526 285.175 619.648 Q286.661 616.752 286.661 610.978 Q286.661 605.185 285.175 602.307 Q283.708 599.411 280.755 599.411 M280.755 596.402 Q285.476 596.402 287.958 600.144 Q290.46 603.868 290.46 610.978 Q290.46 618.068 287.958 621.811 Q285.476 625.535 280.755 625.535 Q276.034 625.535 273.533 621.811 Q271.05 618.068 271.05 610.978 Q271.05 603.868 273.533 600.144 Q276.034 596.402 280.755 596.402 Z\" fill=\"#000000\" fill-rule=\"evenodd\" fill-opacity=\"1\" /><path clip-path=\"url(#clip430)\" d=\"M51.6634 270.682 L59.3023 270.682 L59.3023 244.316 L50.9921 245.983 L50.9921 241.723 L59.256 240.057 L63.9319 240.057 L63.9319 270.682 L71.5707 270.682 L71.5707 274.617 L51.6634 274.617 L51.6634 270.682 Z\" fill=\"#000000\" fill-rule=\"evenodd\" fill-opacity=\"1\" /><path clip-path=\"url(#clip430)\" d=\"M81.0151 268.737 L85.8993 268.737 L85.8993 274.617 L81.0151 274.617 L81.0151 268.737 Z\" fill=\"#000000\" fill-rule=\"evenodd\" fill-opacity=\"1\" /><path clip-path=\"url(#clip430)\" d=\"M96.1308 240.057 L114.487 240.057 L114.487 243.992 L100.413 243.992 L100.413 252.464 Q101.432 252.117 102.45 251.955 Q103.469 251.77 104.487 251.77 Q110.274 251.77 113.654 254.941 Q117.033 258.112 117.033 263.529 Q117.033 269.108 113.561 272.209 Q110.089 275.288 103.77 275.288 Q101.594 275.288 99.3252 274.918 Q97.0798 274.547 94.6724 273.807 L94.6724 269.108 Q96.7558 270.242 98.978 270.797 Q101.2 271.353 103.677 271.353 Q107.682 271.353 110.02 269.246 Q112.358 267.14 112.358 263.529 Q112.358 259.918 110.02 257.811 Q107.682 255.705 103.677 255.705 Q101.802 255.705 99.927 256.122 Q98.0752 256.538 96.1308 257.418 L96.1308 240.057 Z\" fill=\"#000000\" fill-rule=\"evenodd\" fill-opacity=\"1\" /><path clip-path=\"url(#clip430)\" d=\"M136.246 243.135 Q132.635 243.135 130.807 246.7 Q129.001 250.242 129.001 257.372 Q129.001 264.478 130.807 268.043 Q132.635 271.584 136.246 271.584 Q139.881 271.584 141.686 268.043 Q143.515 264.478 143.515 257.372 Q143.515 250.242 141.686 246.7 Q139.881 243.135 136.246 243.135 M136.246 239.432 Q142.056 239.432 145.112 244.038 Q148.191 248.622 148.191 257.372 Q148.191 266.098 145.112 270.705 Q142.056 275.288 136.246 275.288 Q130.436 275.288 127.357 270.705 Q124.302 266.098 124.302 257.372 Q124.302 248.622 127.357 244.038 Q130.436 239.432 136.246 239.432 Z\" fill=\"#000000\" fill-rule=\"evenodd\" fill-opacity=\"1\" /><path clip-path=\"url(#clip430)\" d=\"M184.579 249.154 L174.001 259.779 L184.579 270.358 L181.825 273.158 L171.2 262.534 L160.575 273.158 L157.843 270.358 L168.399 259.779 L157.843 249.154 L160.575 246.353 L171.2 256.978 L181.825 246.353 L184.579 249.154 Z\" fill=\"#000000\" fill-rule=\"evenodd\" fill-opacity=\"1\" /><path clip-path=\"url(#clip430)\" d=\"M196.94 270.682 L204.579 270.682 L204.579 244.316 L196.269 245.983 L196.269 241.723 L204.533 240.057 L209.209 240.057 L209.209 270.682 L216.848 270.682 L216.848 274.617 L196.94 274.617 L196.94 270.682 Z\" fill=\"#000000\" fill-rule=\"evenodd\" fill-opacity=\"1\" /><path clip-path=\"url(#clip430)\" d=\"M236.292 243.135 Q232.681 243.135 230.852 246.7 Q229.047 250.242 229.047 257.372 Q229.047 264.478 230.852 268.043 Q232.681 271.584 236.292 271.584 Q239.926 271.584 241.732 268.043 Q243.561 264.478 243.561 257.372 Q243.561 250.242 241.732 246.7 Q239.926 243.135 236.292 243.135 M236.292 239.432 Q242.102 239.432 245.158 244.038 Q248.236 248.622 248.236 257.372 Q248.236 266.098 245.158 270.705 Q242.102 275.288 236.292 275.288 Q230.482 275.288 227.403 270.705 Q224.348 266.098 224.348 257.372 Q224.348 248.622 227.403 244.038 Q230.482 239.432 236.292 239.432 Z\" fill=\"#000000\" fill-rule=\"evenodd\" fill-opacity=\"1\" /><path clip-path=\"url(#clip430)\" d=\"M248.782 244.009 L254.988 244.009 L254.988 222.587 L248.236 223.941 L248.236 220.481 L254.951 219.126 L258.75 219.126 L258.75 244.009 L264.957 244.009 L264.957 247.206 L248.782 247.206 L248.782 244.009 Z\" fill=\"#000000\" fill-rule=\"evenodd\" fill-opacity=\"1\" /><path clip-path=\"url(#clip430)\" d=\"M280.755 221.628 Q277.821 221.628 276.335 224.524 Q274.868 227.402 274.868 233.195 Q274.868 238.969 276.335 241.865 Q277.821 244.743 280.755 244.743 Q283.708 244.743 285.175 241.865 Q286.661 238.969 286.661 233.195 Q286.661 227.402 285.175 224.524 Q283.708 221.628 280.755 221.628 M280.755 218.619 Q285.476 218.619 287.958 222.361 Q290.46 226.085 290.46 233.195 Q290.46 240.285 287.958 244.028 Q285.476 247.752 280.755 247.752 Q276.034 247.752 273.533 244.028 Q271.05 240.285 271.05 233.195 Q271.05 226.085 273.533 222.361 Q276.034 218.619 280.755 218.619 Z\" fill=\"#000000\" fill-rule=\"evenodd\" fill-opacity=\"1\" /><polyline clip-path=\"url(#clip433)\" style=\"stroke:#009af9; stroke-linecap:butt; stroke-linejoin:round; stroke-width:4; stroke-opacity:1; fill:none\" points=\"\n",
       "  383.808,1384.24 496.255,1384.24 608.702,1384.24 721.149,1384.24 833.596,1384.24 946.043,1384.24 1058.49,1384.24 1170.94,1384.24 1283.38,1384.23 1395.83,1384.22 \n",
       "  1508.28,1384.16 1620.73,1383.92 1733.17,1382.97 1845.62,1379.17 1958.07,1363.96 2070.51,1303.11 2182.96,1059.73 2295.41,86.1857 \n",
       "  \"/>\n",
       "<polyline clip-path=\"url(#clip433)\" style=\"stroke:#e26f46; stroke-linecap:butt; stroke-linejoin:round; stroke-width:4; stroke-opacity:1; fill:none\" points=\"\n",
       "  383.808,1384.24 496.255,1384.24 608.702,1384.24 721.149,1384.24 833.596,1384.24 946.043,1384.24 1058.49,1384.24 1170.94,1384.24 1283.38,1384.23 1395.83,1384.22 \n",
       "  1508.28,1384.16 1620.73,1383.92 1733.17,1382.97 1845.62,1379.17 1958.07,1363.96 2070.51,1303.11 2182.96,1059.73 2295.41,86.1857 \n",
       "  \"/>\n",
       "<path clip-path=\"url(#clip430)\" d=\"\n",
       "M1811.62 248.629 L2285.21 248.629 L2285.21 93.1086 L1811.62 93.1086  Z\n",
       "  \" fill=\"#ffffff\" fill-rule=\"evenodd\" fill-opacity=\"1\"/>\n",
       "<polyline clip-path=\"url(#clip430)\" style=\"stroke:#000000; stroke-linecap:butt; stroke-linejoin:round; stroke-width:4; stroke-opacity:1; fill:none\" points=\"\n",
       "  1811.62,248.629 2285.21,248.629 2285.21,93.1086 1811.62,93.1086 1811.62,248.629 \n",
       "  \"/>\n",
       "<polyline clip-path=\"url(#clip430)\" style=\"stroke:#009af9; stroke-linecap:butt; stroke-linejoin:round; stroke-width:4; stroke-opacity:1; fill:none\" points=\"\n",
       "  1834.14,144.949 1969.22,144.949 \n",
       "  \"/>\n",
       "<path clip-path=\"url(#clip430)\" d=\"M2015.76 148.201 L2015.76 150.284 L1996.18 150.284 Q1996.46 154.682 1998.82 156.997 Q2001.2 159.289 2005.44 159.289 Q2007.89 159.289 2010.19 158.687 Q2012.5 158.085 2014.77 156.881 L2014.77 160.909 Q2012.48 161.881 2010.07 162.391 Q2007.66 162.9 2005.19 162.9 Q1998.98 162.9 1995.35 159.289 Q1991.74 155.678 1991.74 149.52 Q1991.74 143.155 1995.16 139.428 Q1998.61 135.678 2004.44 135.678 Q2009.68 135.678 2012.71 139.057 Q2015.76 142.414 2015.76 148.201 M2011.5 146.951 Q2011.46 143.456 2009.54 141.372 Q2007.64 139.289 2004.49 139.289 Q2000.93 139.289 1998.77 141.303 Q1996.64 143.317 1996.32 146.974 L2011.5 146.951 Z\" fill=\"#000000\" fill-rule=\"evenodd\" fill-opacity=\"1\" /><path clip-path=\"url(#clip430)\" d=\"M2043.47 136.303 L2034.1 148.919 L2043.96 162.229 L2038.93 162.229 L2031.39 152.043 L2023.84 162.229 L2018.82 162.229 L2028.89 148.664 L2019.68 136.303 L2024.7 136.303 L2031.57 145.539 L2038.45 136.303 L2043.47 136.303 Z\" fill=\"#000000\" fill-rule=\"evenodd\" fill-opacity=\"1\" /><path clip-path=\"url(#clip430)\" d=\"M2061.76 149.196 Q2056.6 149.196 2054.61 150.377 Q2052.62 151.557 2052.62 154.405 Q2052.62 156.673 2054.1 158.016 Q2055.6 159.335 2058.17 159.335 Q2061.71 159.335 2063.84 156.835 Q2066 154.312 2066 150.145 L2066 149.196 L2061.76 149.196 M2070.25 147.437 L2070.25 162.229 L2066 162.229 L2066 158.293 Q2064.54 160.655 2062.36 161.789 Q2060.18 162.9 2057.04 162.9 Q2053.06 162.9 2050.69 160.678 Q2048.36 158.432 2048.36 154.682 Q2048.36 150.307 2051.27 148.085 Q2054.21 145.863 2060.02 145.863 L2066 145.863 L2066 145.446 Q2066 142.507 2064.05 140.909 Q2062.13 139.289 2058.63 139.289 Q2056.41 139.289 2054.31 139.821 Q2052.2 140.354 2050.25 141.419 L2050.25 137.483 Q2052.59 136.581 2054.79 136.141 Q2056.99 135.678 2059.07 135.678 Q2064.7 135.678 2067.48 138.594 Q2070.25 141.511 2070.25 147.437 Z\" fill=\"#000000\" fill-rule=\"evenodd\" fill-opacity=\"1\" /><path clip-path=\"url(#clip430)\" d=\"M2097.68 137.298 L2097.68 141.28 Q2095.88 140.284 2094.05 139.798 Q2092.24 139.289 2090.39 139.289 Q2086.25 139.289 2083.96 141.928 Q2081.67 144.544 2081.67 149.289 Q2081.67 154.034 2083.96 156.673 Q2086.25 159.289 2090.39 159.289 Q2092.24 159.289 2094.05 158.803 Q2095.88 158.293 2097.68 157.298 L2097.68 161.233 Q2095.9 162.067 2093.98 162.483 Q2092.08 162.9 2089.93 162.9 Q2084.07 162.9 2080.62 159.219 Q2077.18 155.539 2077.18 149.289 Q2077.18 142.946 2080.65 139.312 Q2084.14 135.678 2090.21 135.678 Q2092.18 135.678 2094.05 136.095 Q2095.93 136.488 2097.68 137.298 Z\" fill=\"#000000\" fill-rule=\"evenodd\" fill-opacity=\"1\" /><path clip-path=\"url(#clip430)\" d=\"M2109.3 128.942 L2109.3 136.303 L2118.08 136.303 L2118.08 139.613 L2109.3 139.613 L2109.3 153.687 Q2109.3 156.858 2110.16 157.761 Q2111.04 158.664 2113.7 158.664 L2118.08 158.664 L2118.08 162.229 L2113.7 162.229 Q2108.77 162.229 2106.9 160.4 Q2105.02 158.548 2105.02 153.687 L2105.02 139.613 L2101.9 139.613 L2101.9 136.303 L2105.02 136.303 L2105.02 128.942 L2109.3 128.942 Z\" fill=\"#000000\" fill-rule=\"evenodd\" fill-opacity=\"1\" /><polyline clip-path=\"url(#clip430)\" style=\"stroke:#e26f46; stroke-linecap:butt; stroke-linejoin:round; stroke-width:4; stroke-opacity:1; fill:none\" points=\"\n",
       "  1834.14,196.789 1969.22,196.789 \n",
       "  \"/>\n",
       "<path clip-path=\"url(#clip430)\" d=\"M2006.92 192.124 Q2006.2 191.708 2005.35 191.522 Q2004.51 191.314 2003.5 191.314 Q1999.88 191.314 1997.94 193.675 Q1996.02 196.013 1996.02 200.411 L1996.02 214.069 L1991.74 214.069 L1991.74 188.143 L1996.02 188.143 L1996.02 192.171 Q1997.36 189.809 1999.51 188.675 Q2001.67 187.518 2004.75 187.518 Q2005.19 187.518 2005.72 187.587 Q2006.25 187.634 2006.9 187.749 L2006.92 192.124 Z\" fill=\"#000000\" fill-rule=\"evenodd\" fill-opacity=\"1\" /><path clip-path=\"url(#clip430)\" d=\"M2032.52 200.041 L2032.52 202.124 L2012.94 202.124 Q2013.22 206.522 2015.58 208.837 Q2017.96 211.129 2022.2 211.129 Q2024.65 211.129 2026.94 210.527 Q2029.26 209.925 2031.53 208.721 L2031.53 212.749 Q2029.24 213.721 2026.83 214.231 Q2024.42 214.74 2021.94 214.74 Q2015.74 214.74 2012.11 211.129 Q2008.5 207.518 2008.5 201.36 Q2008.5 194.995 2011.92 191.268 Q2015.37 187.518 2021.2 187.518 Q2026.44 187.518 2029.47 190.897 Q2032.52 194.254 2032.52 200.041 M2028.26 198.791 Q2028.22 195.296 2026.3 193.212 Q2024.4 191.129 2021.25 191.129 Q2017.69 191.129 2015.53 193.143 Q2013.4 195.157 2013.08 198.814 L2028.26 198.791 Z\" fill=\"#000000\" fill-rule=\"evenodd\" fill-opacity=\"1\" /><path clip-path=\"url(#clip430)\" d=\"M2058.17 189.138 L2058.17 193.12 Q2056.37 192.124 2054.54 191.638 Q2052.73 191.129 2050.88 191.129 Q2046.74 191.129 2044.44 193.768 Q2042.15 196.384 2042.15 201.129 Q2042.15 205.874 2044.44 208.513 Q2046.74 211.129 2050.88 211.129 Q2052.73 211.129 2054.54 210.643 Q2056.37 210.133 2058.17 209.138 L2058.17 213.073 Q2056.39 213.907 2054.47 214.323 Q2052.57 214.74 2050.42 214.74 Q2044.56 214.74 2041.11 211.059 Q2037.66 207.379 2037.66 201.129 Q2037.66 194.786 2041.13 191.152 Q2044.63 187.518 2050.69 187.518 Q2052.66 187.518 2054.54 187.935 Q2056.41 188.328 2058.17 189.138 Z\" fill=\"#000000\" fill-rule=\"evenodd\" fill-opacity=\"1\" /><path clip-path=\"url(#clip430)\" d=\"M2065.14 203.837 L2065.14 188.143 L2069.4 188.143 L2069.4 203.675 Q2069.4 207.356 2070.83 209.208 Q2072.27 211.036 2075.14 211.036 Q2078.59 211.036 2080.58 208.837 Q2082.59 206.638 2082.59 202.842 L2082.59 188.143 L2086.85 188.143 L2086.85 214.069 L2082.59 214.069 L2082.59 210.087 Q2081.04 212.448 2078.98 213.606 Q2076.94 214.74 2074.24 214.74 Q2069.77 214.74 2067.45 211.962 Q2065.14 209.184 2065.14 203.837 M2075.86 187.518 L2075.86 187.518 Z\" fill=\"#000000\" fill-rule=\"evenodd\" fill-opacity=\"1\" /><path clip-path=\"url(#clip430)\" d=\"M2110.65 192.124 Q2109.93 191.708 2109.07 191.522 Q2108.24 191.314 2107.22 191.314 Q2103.61 191.314 2101.67 193.675 Q2099.74 196.013 2099.74 200.411 L2099.74 214.069 L2095.46 214.069 L2095.46 188.143 L2099.74 188.143 L2099.74 192.171 Q2101.09 189.809 2103.24 188.675 Q2105.39 187.518 2108.47 187.518 Q2108.91 187.518 2109.44 187.587 Q2109.98 187.634 2110.62 187.749 L2110.65 192.124 Z\" fill=\"#000000\" fill-rule=\"evenodd\" fill-opacity=\"1\" /><path clip-path=\"url(#clip430)\" d=\"M2129.3 192.124 Q2128.59 191.708 2127.73 191.522 Q2126.9 191.314 2125.88 191.314 Q2122.27 191.314 2120.32 193.675 Q2118.4 196.013 2118.4 200.411 L2118.4 214.069 L2114.12 214.069 L2114.12 188.143 L2118.4 188.143 L2118.4 192.171 Q2119.74 189.809 2121.9 188.675 Q2124.05 187.518 2127.13 187.518 Q2127.57 187.518 2128.1 187.587 Q2128.63 187.634 2129.28 187.749 L2129.3 192.124 Z\" fill=\"#000000\" fill-rule=\"evenodd\" fill-opacity=\"1\" /><path clip-path=\"url(#clip430)\" d=\"M2154.91 200.041 L2154.91 202.124 L2135.32 202.124 Q2135.6 206.522 2137.96 208.837 Q2140.35 211.129 2144.58 211.129 Q2147.04 211.129 2149.33 210.527 Q2151.64 209.925 2153.91 208.721 L2153.91 212.749 Q2151.62 213.721 2149.21 214.231 Q2146.8 214.74 2144.33 214.74 Q2138.12 214.74 2134.49 211.129 Q2130.88 207.518 2130.88 201.36 Q2130.88 194.995 2134.3 191.268 Q2137.75 187.518 2143.59 187.518 Q2148.82 187.518 2151.85 190.897 Q2154.91 194.254 2154.91 200.041 M2150.65 198.791 Q2150.6 195.296 2148.68 193.212 Q2146.78 191.129 2143.63 191.129 Q2140.07 191.129 2137.92 193.143 Q2135.79 195.157 2135.46 198.814 L2150.65 198.791 Z\" fill=\"#000000\" fill-rule=\"evenodd\" fill-opacity=\"1\" /><path clip-path=\"url(#clip430)\" d=\"M2183.45 198.421 L2183.45 214.069 L2179.19 214.069 L2179.19 198.559 Q2179.19 194.879 2177.75 193.05 Q2176.32 191.222 2173.45 191.222 Q2170 191.222 2168.01 193.421 Q2166.02 195.62 2166.02 199.416 L2166.02 214.069 L2161.74 214.069 L2161.74 188.143 L2166.02 188.143 L2166.02 192.171 Q2167.55 189.833 2169.61 188.675 Q2171.69 187.518 2174.4 187.518 Q2178.86 187.518 2181.16 190.296 Q2183.45 193.05 2183.45 198.421 Z\" fill=\"#000000\" fill-rule=\"evenodd\" fill-opacity=\"1\" /><path clip-path=\"url(#clip430)\" d=\"M2210.6 189.138 L2210.6 193.12 Q2208.8 192.124 2206.97 191.638 Q2205.16 191.129 2203.31 191.129 Q2199.17 191.129 2196.87 193.768 Q2194.58 196.384 2194.58 201.129 Q2194.58 205.874 2196.87 208.513 Q2199.17 211.129 2203.31 211.129 Q2205.16 211.129 2206.97 210.643 Q2208.8 210.133 2210.6 209.138 L2210.6 213.073 Q2208.82 213.907 2206.9 214.323 Q2205 214.74 2202.85 214.74 Q2196.99 214.74 2193.54 211.059 Q2190.09 207.379 2190.09 201.129 Q2190.09 194.786 2193.56 191.152 Q2197.06 187.518 2203.12 187.518 Q2205.09 187.518 2206.97 187.935 Q2208.84 188.328 2210.6 189.138 Z\" fill=\"#000000\" fill-rule=\"evenodd\" fill-opacity=\"1\" /><path clip-path=\"url(#clip430)\" d=\"M2240.18 200.041 L2240.18 202.124 L2220.6 202.124 Q2220.88 206.522 2223.24 208.837 Q2225.62 211.129 2229.86 211.129 Q2232.31 211.129 2234.61 210.527 Q2236.92 209.925 2239.19 208.721 L2239.19 212.749 Q2236.9 213.721 2234.49 214.231 Q2232.08 214.74 2229.61 214.74 Q2223.4 214.74 2219.77 211.129 Q2216.16 207.518 2216.16 201.36 Q2216.16 194.995 2219.58 191.268 Q2223.03 187.518 2228.86 187.518 Q2234.1 187.518 2237.13 190.897 Q2240.18 194.254 2240.18 200.041 M2235.92 198.791 Q2235.88 195.296 2233.96 193.212 Q2232.06 191.129 2228.91 191.129 Q2225.35 191.129 2223.19 193.143 Q2221.06 195.157 2220.74 198.814 L2235.92 198.791 Z\" fill=\"#000000\" fill-rule=\"evenodd\" fill-opacity=\"1\" /></svg>\n"
      ]
     },
     "execution_count": 69,
     "metadata": {},
     "output_type": "execute_result"
    }
   ],
   "source": [
    "n = 18\n",
    "X = zeros(n)\n",
    "x = zeros(n)\n",
    "\n",
    "X[1] = 1\n",
    "X[2] = 4\n",
    "\n",
    "x[1] = 1\n",
    "x[2] = 4\n",
    "\n",
    "for i in 3:n\n",
    "    X[i] = 13*X[i-1]/3 - 4*X[i-2]/3\n",
    "    x[i] = (4)^(i-1)\n",
    "end\n",
    "\n",
    "abs_error = abs.(X - x)\n",
    "rel_error = abs.((X - x)./X)\n",
    "\n",
    "plot(0:n-1, X, label=\"exact\")\n",
    "plot!(0:n-1, x, xlabel=L\"n\", label=\"recurrence\")\n"
   ]
  },
  {
   "cell_type": "code",
   "execution_count": 70,
   "metadata": {},
   "outputs": [
    {
     "data": {
      "image/svg+xml": [
       "<?xml version=\"1.0\" encoding=\"utf-8\"?>\n",
       "<svg xmlns=\"http://www.w3.org/2000/svg\" xmlns:xlink=\"http://www.w3.org/1999/xlink\" width=\"600\" height=\"400\" viewBox=\"0 0 2400 1600\">\n",
       "<defs>\n",
       "  <clipPath id=\"clip470\">\n",
       "    <rect x=\"0\" y=\"0\" width=\"2400\" height=\"1600\"/>\n",
       "  </clipPath>\n",
       "</defs>\n",
       "<path clip-path=\"url(#clip470)\" d=\"\n",
       "M0 1600 L2400 1600 L2400 0 L0 0  Z\n",
       "  \" fill=\"#ffffff\" fill-rule=\"evenodd\" fill-opacity=\"1\"/>\n",
       "<defs>\n",
       "  <clipPath id=\"clip471\">\n",
       "    <rect x=\"480\" y=\"0\" width=\"1681\" height=\"1600\"/>\n",
       "  </clipPath>\n",
       "</defs>\n",
       "<defs>\n",
       "  <clipPath id=\"clip472\">\n",
       "    <rect x=\"326\" y=\"47\" width=\"2027\" height=\"1377\"/>\n",
       "  </clipPath>\n",
       "</defs>\n",
       "<path clip-path=\"url(#clip470)\" d=\"\n",
       "M335.195 1423.18 L2352.76 1423.18 L2352.76 47.2441 L335.195 47.2441  Z\n",
       "  \" fill=\"#ffffff\" fill-rule=\"evenodd\" fill-opacity=\"1\"/>\n",
       "<defs>\n",
       "  <clipPath id=\"clip473\">\n",
       "    <rect x=\"335\" y=\"47\" width=\"2019\" height=\"1377\"/>\n",
       "  </clipPath>\n",
       "</defs>\n",
       "<polyline clip-path=\"url(#clip473)\" style=\"stroke:#000000; stroke-linecap:butt; stroke-linejoin:round; stroke-width:2; stroke-opacity:0.1; fill:none\" points=\"\n",
       "  392.296,1423.18 392.296,47.2441 \n",
       "  \"/>\n",
       "<polyline clip-path=\"url(#clip473)\" style=\"stroke:#000000; stroke-linecap:butt; stroke-linejoin:round; stroke-width:2; stroke-opacity:0.1; fill:none\" points=\"\n",
       "  952.108,1423.18 952.108,47.2441 \n",
       "  \"/>\n",
       "<polyline clip-path=\"url(#clip473)\" style=\"stroke:#000000; stroke-linecap:butt; stroke-linejoin:round; stroke-width:2; stroke-opacity:0.1; fill:none\" points=\"\n",
       "  1511.92,1423.18 1511.92,47.2441 \n",
       "  \"/>\n",
       "<polyline clip-path=\"url(#clip473)\" style=\"stroke:#000000; stroke-linecap:butt; stroke-linejoin:round; stroke-width:2; stroke-opacity:0.1; fill:none\" points=\"\n",
       "  2071.73,1423.18 2071.73,47.2441 \n",
       "  \"/>\n",
       "<polyline clip-path=\"url(#clip470)\" style=\"stroke:#000000; stroke-linecap:butt; stroke-linejoin:round; stroke-width:4; stroke-opacity:1; fill:none\" points=\"\n",
       "  335.195,1423.18 2352.76,1423.18 \n",
       "  \"/>\n",
       "<polyline clip-path=\"url(#clip470)\" style=\"stroke:#000000; stroke-linecap:butt; stroke-linejoin:round; stroke-width:4; stroke-opacity:1; fill:none\" points=\"\n",
       "  392.296,1423.18 392.296,1404.28 \n",
       "  \"/>\n",
       "<polyline clip-path=\"url(#clip470)\" style=\"stroke:#000000; stroke-linecap:butt; stroke-linejoin:round; stroke-width:4; stroke-opacity:1; fill:none\" points=\"\n",
       "  952.108,1423.18 952.108,1404.28 \n",
       "  \"/>\n",
       "<polyline clip-path=\"url(#clip470)\" style=\"stroke:#000000; stroke-linecap:butt; stroke-linejoin:round; stroke-width:4; stroke-opacity:1; fill:none\" points=\"\n",
       "  1511.92,1423.18 1511.92,1404.28 \n",
       "  \"/>\n",
       "<polyline clip-path=\"url(#clip470)\" style=\"stroke:#000000; stroke-linecap:butt; stroke-linejoin:round; stroke-width:4; stroke-opacity:1; fill:none\" points=\"\n",
       "  2071.73,1423.18 2071.73,1404.28 \n",
       "  \"/>\n",
       "<path clip-path=\"url(#clip470)\" d=\"M392.296 1454.1 Q388.685 1454.1 386.856 1457.66 Q385.051 1461.2 385.051 1468.33 Q385.051 1475.44 386.856 1479.01 Q388.685 1482.55 392.296 1482.55 Q395.93 1482.55 397.736 1479.01 Q399.565 1475.44 399.565 1468.33 Q399.565 1461.2 397.736 1457.66 Q395.93 1454.1 392.296 1454.1 M392.296 1450.39 Q398.106 1450.39 401.162 1455 Q404.241 1459.58 404.241 1468.33 Q404.241 1477.06 401.162 1481.67 Q398.106 1486.25 392.296 1486.25 Q386.486 1486.25 383.407 1481.67 Q380.352 1477.06 380.352 1468.33 Q380.352 1459.58 383.407 1455 Q386.486 1450.39 392.296 1450.39 Z\" fill=\"#000000\" fill-rule=\"evenodd\" fill-opacity=\"1\" /><path clip-path=\"url(#clip470)\" d=\"M942.385 1451.02 L960.742 1451.02 L960.742 1454.96 L946.668 1454.96 L946.668 1463.43 Q947.686 1463.08 948.705 1462.92 Q949.723 1462.73 950.742 1462.73 Q956.529 1462.73 959.908 1465.9 Q963.288 1469.08 963.288 1474.49 Q963.288 1480.07 959.816 1483.17 Q956.344 1486.25 950.024 1486.25 Q947.848 1486.25 945.58 1485.88 Q943.335 1485.51 940.927 1484.77 L940.927 1480.07 Q943.01 1481.2 945.233 1481.76 Q947.455 1482.32 949.932 1482.32 Q953.936 1482.32 956.274 1480.21 Q958.612 1478.1 958.612 1474.49 Q958.612 1470.88 956.274 1468.77 Q953.936 1466.67 949.932 1466.67 Q948.057 1466.67 946.182 1467.08 Q944.33 1467.5 942.385 1468.38 L942.385 1451.02 Z\" fill=\"#000000\" fill-rule=\"evenodd\" fill-opacity=\"1\" /><path clip-path=\"url(#clip470)\" d=\"M1486.61 1481.64 L1494.25 1481.64 L1494.25 1455.28 L1485.94 1456.95 L1485.94 1452.69 L1494.2 1451.02 L1498.88 1451.02 L1498.88 1481.64 L1506.51 1481.64 L1506.51 1485.58 L1486.61 1485.58 L1486.61 1481.64 Z\" fill=\"#000000\" fill-rule=\"evenodd\" fill-opacity=\"1\" /><path clip-path=\"url(#clip470)\" d=\"M1525.96 1454.1 Q1522.35 1454.1 1520.52 1457.66 Q1518.71 1461.2 1518.71 1468.33 Q1518.71 1475.44 1520.52 1479.01 Q1522.35 1482.55 1525.96 1482.55 Q1529.59 1482.55 1531.4 1479.01 Q1533.23 1475.44 1533.23 1468.33 Q1533.23 1461.2 1531.4 1457.66 Q1529.59 1454.1 1525.96 1454.1 M1525.96 1450.39 Q1531.77 1450.39 1534.82 1455 Q1537.9 1459.58 1537.9 1468.33 Q1537.9 1477.06 1534.82 1481.67 Q1531.77 1486.25 1525.96 1486.25 Q1520.15 1486.25 1517.07 1481.67 Q1514.01 1477.06 1514.01 1468.33 Q1514.01 1459.58 1517.07 1455 Q1520.15 1450.39 1525.96 1450.39 Z\" fill=\"#000000\" fill-rule=\"evenodd\" fill-opacity=\"1\" /><path clip-path=\"url(#clip470)\" d=\"M2046.92 1481.64 L2054.55 1481.64 L2054.55 1455.28 L2046.24 1456.95 L2046.24 1452.69 L2054.51 1451.02 L2059.18 1451.02 L2059.18 1481.64 L2066.82 1481.64 L2066.82 1485.58 L2046.92 1485.58 L2046.92 1481.64 Z\" fill=\"#000000\" fill-rule=\"evenodd\" fill-opacity=\"1\" /><path clip-path=\"url(#clip470)\" d=\"M2076.31 1451.02 L2094.67 1451.02 L2094.67 1454.96 L2080.6 1454.96 L2080.6 1463.43 Q2081.61 1463.08 2082.63 1462.92 Q2083.65 1462.73 2084.67 1462.73 Q2090.46 1462.73 2093.84 1465.9 Q2097.22 1469.08 2097.22 1474.49 Q2097.22 1480.07 2093.74 1483.17 Q2090.27 1486.25 2083.95 1486.25 Q2081.78 1486.25 2079.51 1485.88 Q2077.26 1485.51 2074.86 1484.77 L2074.86 1480.07 Q2076.94 1481.2 2079.16 1481.76 Q2081.38 1482.32 2083.86 1482.32 Q2087.86 1482.32 2090.2 1480.21 Q2092.54 1478.1 2092.54 1474.49 Q2092.54 1470.88 2090.2 1468.77 Q2087.86 1466.67 2083.86 1466.67 Q2081.99 1466.67 2080.11 1467.08 Q2078.26 1467.5 2076.31 1468.38 L2076.31 1451.02 Z\" fill=\"#000000\" fill-rule=\"evenodd\" fill-opacity=\"1\" /><path clip-path=\"url(#clip470)\" d=\"M1360.14 1560.8 Q1360.14 1561.06 1359.85 1562.05 Q1359.56 1563.05 1358.85 1564.6 Q1358.17 1566.14 1357.24 1567.56 Q1356.31 1568.95 1354.76 1569.98 Q1353.25 1570.97 1351.51 1570.97 Q1349.19 1570.97 1347.64 1569.43 Q1346.1 1567.88 1346.1 1565.56 Q1346.1 1564.28 1346.77 1562.5 Q1351.06 1551.07 1351.06 1547.14 Q1351.06 1542.54 1347.48 1542.54 Q1345.71 1542.54 1344.04 1543.21 Q1342.39 1543.86 1341.27 1544.76 Q1340.14 1545.66 1339.11 1546.92 Q1338.11 1548.14 1337.59 1548.98 Q1337.11 1549.78 1336.72 1550.59 L1335.89 1553.87 Q1335.69 1554.78 1334.76 1558.29 L1333.31 1564.24 Q1332.28 1568.69 1332.05 1569.11 Q1331.73 1570.01 1331.02 1570.49 Q1330.32 1570.97 1329.61 1570.97 Q1328.8 1570.97 1328.25 1570.49 Q1327.71 1570.01 1327.71 1569.17 Q1327.71 1569.04 1327.8 1568.56 Q1327.9 1568.08 1328.06 1567.4 Q1328.22 1566.72 1328.29 1566.34 L1332.12 1551.1 Q1332.83 1548.33 1332.99 1547.46 Q1333.18 1546.56 1333.18 1545.56 Q1333.18 1542.54 1331.12 1542.54 Q1329.45 1542.54 1328.35 1544.53 Q1327.26 1546.53 1326.32 1550.4 Q1326.03 1551.46 1325.84 1551.68 Q1325.68 1551.91 1325.2 1551.91 Q1324.39 1551.88 1324.39 1551.23 Q1324.39 1551.07 1324.65 1550.01 Q1324.91 1548.95 1325.39 1547.43 Q1325.9 1545.89 1326.39 1544.86 Q1326.81 1544.08 1327.03 1543.73 Q1327.29 1543.34 1327.9 1542.6 Q1328.54 1541.83 1329.38 1541.47 Q1330.25 1541.09 1331.31 1541.09 Q1333.7 1541.09 1335.44 1542.63 Q1337.18 1544.15 1337.4 1546.82 Q1341.68 1541.09 1347.67 1541.09 Q1351.22 1541.09 1353.25 1542.96 Q1355.28 1544.82 1355.28 1548.14 Q1355.28 1548.91 1355.11 1549.91 Q1354.99 1550.88 1354.66 1552.1 Q1354.37 1553.33 1354.12 1554.26 Q1353.86 1555.19 1353.34 1556.71 Q1352.83 1558.19 1352.6 1558.83 Q1352.38 1559.48 1351.83 1560.99 Q1351.31 1562.47 1351.25 1562.63 Q1350.06 1565.63 1350.06 1567.34 Q1350.06 1568.46 1350.41 1568.98 Q1350.8 1569.49 1351.64 1569.49 Q1353.89 1569.49 1355.57 1567.27 Q1357.27 1565.02 1358.37 1561.35 Q1358.62 1560.54 1358.75 1560.35 Q1358.91 1560.15 1359.37 1560.15 Q1360.14 1560.15 1360.14 1560.8 Z\" fill=\"#000000\" fill-rule=\"evenodd\" fill-opacity=\"1\" /><polyline clip-path=\"url(#clip473)\" style=\"stroke:#000000; stroke-linecap:butt; stroke-linejoin:round; stroke-width:2; stroke-opacity:0.1; fill:none\" points=\"\n",
       "  335.195,1384.24 2352.76,1384.24 \n",
       "  \"/>\n",
       "<polyline clip-path=\"url(#clip473)\" style=\"stroke:#000000; stroke-linecap:butt; stroke-linejoin:round; stroke-width:2; stroke-opacity:0.1; fill:none\" points=\"\n",
       "  335.195,1043.96 2352.76,1043.96 \n",
       "  \"/>\n",
       "<polyline clip-path=\"url(#clip473)\" style=\"stroke:#000000; stroke-linecap:butt; stroke-linejoin:round; stroke-width:2; stroke-opacity:0.1; fill:none\" points=\"\n",
       "  335.195,703.685 2352.76,703.685 \n",
       "  \"/>\n",
       "<polyline clip-path=\"url(#clip473)\" style=\"stroke:#000000; stroke-linecap:butt; stroke-linejoin:round; stroke-width:2; stroke-opacity:0.1; fill:none\" points=\"\n",
       "  335.195,363.408 2352.76,363.408 \n",
       "  \"/>\n",
       "<polyline clip-path=\"url(#clip470)\" style=\"stroke:#000000; stroke-linecap:butt; stroke-linejoin:round; stroke-width:4; stroke-opacity:1; fill:none\" points=\"\n",
       "  335.195,1423.18 335.195,47.2441 \n",
       "  \"/>\n",
       "<polyline clip-path=\"url(#clip470)\" style=\"stroke:#000000; stroke-linecap:butt; stroke-linejoin:round; stroke-width:4; stroke-opacity:1; fill:none\" points=\"\n",
       "  335.195,1384.24 354.093,1384.24 \n",
       "  \"/>\n",
       "<polyline clip-path=\"url(#clip470)\" style=\"stroke:#000000; stroke-linecap:butt; stroke-linejoin:round; stroke-width:4; stroke-opacity:1; fill:none\" points=\"\n",
       "  335.195,1043.96 354.093,1043.96 \n",
       "  \"/>\n",
       "<polyline clip-path=\"url(#clip470)\" style=\"stroke:#000000; stroke-linecap:butt; stroke-linejoin:round; stroke-width:4; stroke-opacity:1; fill:none\" points=\"\n",
       "  335.195,703.685 354.093,703.685 \n",
       "  \"/>\n",
       "<polyline clip-path=\"url(#clip470)\" style=\"stroke:#000000; stroke-linecap:butt; stroke-linejoin:round; stroke-width:4; stroke-opacity:1; fill:none\" points=\"\n",
       "  335.195,363.408 354.093,363.408 \n",
       "  \"/>\n",
       "<path clip-path=\"url(#clip470)\" d=\"M287.251 1370.04 Q283.64 1370.04 281.811 1373.6 Q280.006 1377.14 280.006 1384.27 Q280.006 1391.38 281.811 1394.94 Q283.64 1398.49 287.251 1398.49 Q290.885 1398.49 292.691 1394.94 Q294.519 1391.38 294.519 1384.27 Q294.519 1377.14 292.691 1373.6 Q290.885 1370.04 287.251 1370.04 M287.251 1366.33 Q293.061 1366.33 296.117 1370.94 Q299.195 1375.52 299.195 1384.27 Q299.195 1393 296.117 1397.61 Q293.061 1402.19 287.251 1402.19 Q281.441 1402.19 278.362 1397.61 Q275.307 1393 275.307 1384.27 Q275.307 1375.52 278.362 1370.94 Q281.441 1366.33 287.251 1366.33 Z\" fill=\"#000000\" fill-rule=\"evenodd\" fill-opacity=\"1\" /><path clip-path=\"url(#clip470)\" d=\"M52.4505 1033.13 L70.8068 1033.13 L70.8068 1037.06 L56.7328 1037.06 L56.7328 1045.54 Q57.7513 1045.19 58.7699 1045.03 Q59.7884 1044.84 60.8069 1044.84 Q66.5939 1044.84 69.9735 1048.01 Q73.3531 1051.18 73.3531 1056.6 Q73.3531 1062.18 69.8809 1065.28 Q66.4087 1068.36 60.0893 1068.36 Q57.9134 1068.36 55.6449 1067.99 Q53.3995 1067.62 50.9921 1066.88 L50.9921 1062.18 Q53.0754 1063.31 55.2977 1063.87 Q57.5199 1064.43 59.9967 1064.43 Q64.0013 1064.43 66.3393 1062.32 Q68.6772 1060.21 68.6772 1056.6 Q68.6772 1052.99 66.3393 1050.88 Q64.0013 1048.78 59.9967 1048.78 Q58.1217 1048.78 56.2467 1049.19 Q54.3949 1049.61 52.4505 1050.49 L52.4505 1033.13 Z\" fill=\"#000000\" fill-rule=\"evenodd\" fill-opacity=\"1\" /><path clip-path=\"url(#clip470)\" d=\"M82.566 1061.81 L87.4503 1061.81 L87.4503 1067.69 L82.566 1067.69 L82.566 1061.81 Z\" fill=\"#000000\" fill-rule=\"evenodd\" fill-opacity=\"1\" /><path clip-path=\"url(#clip470)\" d=\"M107.635 1036.21 Q104.024 1036.21 102.196 1039.77 Q100.39 1043.31 100.39 1050.44 Q100.39 1057.55 102.196 1061.12 Q104.024 1064.66 107.635 1064.66 Q111.27 1064.66 113.075 1061.12 Q114.904 1057.55 114.904 1050.44 Q114.904 1043.31 113.075 1039.77 Q111.27 1036.21 107.635 1036.21 M107.635 1032.5 Q113.445 1032.5 116.501 1037.11 Q119.58 1041.69 119.58 1050.44 Q119.58 1059.17 116.501 1063.78 Q113.445 1068.36 107.635 1068.36 Q101.825 1068.36 98.7465 1063.78 Q95.691 1059.17 95.691 1050.44 Q95.691 1041.69 98.7465 1037.11 Q101.825 1032.5 107.635 1032.5 Z\" fill=\"#000000\" fill-rule=\"evenodd\" fill-opacity=\"1\" /><path clip-path=\"url(#clip470)\" d=\"M137.797 1036.21 Q134.186 1036.21 132.357 1039.77 Q130.552 1043.31 130.552 1050.44 Q130.552 1057.55 132.357 1061.12 Q134.186 1064.66 137.797 1064.66 Q141.431 1064.66 143.237 1061.12 Q145.066 1057.55 145.066 1050.44 Q145.066 1043.31 143.237 1039.77 Q141.431 1036.21 137.797 1036.21 M137.797 1032.5 Q143.607 1032.5 146.663 1037.11 Q149.742 1041.69 149.742 1050.44 Q149.742 1059.17 146.663 1063.78 Q143.607 1068.36 137.797 1068.36 Q131.987 1068.36 128.908 1063.78 Q125.853 1059.17 125.853 1050.44 Q125.853 1041.69 128.908 1037.11 Q131.987 1032.5 137.797 1032.5 Z\" fill=\"#000000\" fill-rule=\"evenodd\" fill-opacity=\"1\" /><path clip-path=\"url(#clip470)\" d=\"M186.13 1042.23 L175.552 1052.85 L186.13 1063.43 L183.376 1066.23 L172.751 1055.61 L162.126 1066.23 L159.394 1063.43 L169.95 1052.85 L159.394 1042.23 L162.126 1039.43 L172.751 1050.05 L183.376 1039.43 L186.13 1042.23 Z\" fill=\"#000000\" fill-rule=\"evenodd\" fill-opacity=\"1\" /><path clip-path=\"url(#clip470)\" d=\"M198.491 1063.75 L206.13 1063.75 L206.13 1037.39 L197.82 1039.06 L197.82 1034.8 L206.084 1033.13 L210.76 1033.13 L210.76 1063.75 L218.399 1063.75 L218.399 1067.69 L198.491 1067.69 L198.491 1063.75 Z\" fill=\"#000000\" fill-rule=\"evenodd\" fill-opacity=\"1\" /><path clip-path=\"url(#clip470)\" d=\"M237.843 1036.21 Q234.232 1036.21 232.403 1039.77 Q230.598 1043.31 230.598 1050.44 Q230.598 1057.55 232.403 1061.12 Q234.232 1064.66 237.843 1064.66 Q241.477 1064.66 243.283 1061.12 Q245.111 1057.55 245.111 1050.44 Q245.111 1043.31 243.283 1039.77 Q241.477 1036.21 237.843 1036.21 M237.843 1032.5 Q243.653 1032.5 246.709 1037.11 Q249.787 1041.69 249.787 1050.44 Q249.787 1059.17 246.709 1063.78 Q243.653 1068.36 237.843 1068.36 Q232.033 1068.36 228.954 1063.78 Q225.899 1059.17 225.899 1050.44 Q225.899 1041.69 228.954 1037.11 Q232.033 1032.5 237.843 1032.5 Z\" fill=\"#000000\" fill-rule=\"evenodd\" fill-opacity=\"1\" /><path clip-path=\"url(#clip470)\" d=\"M249.787 1026.61 L273.899 1026.61 L273.899 1029.8 L249.787 1029.8 L249.787 1026.61 Z\" fill=\"#000000\" fill-rule=\"evenodd\" fill-opacity=\"1\" /><path clip-path=\"url(#clip470)\" d=\"M281.14 1012.2 L299.195 1012.2 L299.195 1013.82 L289.002 1040.28 L285.033 1040.28 L294.625 1015.4 L281.14 1015.4 L281.14 1012.2 Z\" fill=\"#000000\" fill-rule=\"evenodd\" fill-opacity=\"1\" /><path clip-path=\"url(#clip470)\" d=\"M52.3492 723.477 L59.988 723.477 L59.988 697.112 L51.6779 698.778 L51.6779 694.519 L59.9417 692.852 L64.6176 692.852 L64.6176 723.477 L72.2565 723.477 L72.2565 727.412 L52.3492 727.412 L52.3492 723.477 Z\" fill=\"#000000\" fill-rule=\"evenodd\" fill-opacity=\"1\" /><path clip-path=\"url(#clip470)\" d=\"M81.7009 721.533 L86.5851 721.533 L86.5851 727.412 L81.7009 727.412 L81.7009 721.533 Z\" fill=\"#000000\" fill-rule=\"evenodd\" fill-opacity=\"1\" /><path clip-path=\"url(#clip470)\" d=\"M106.77 695.931 Q103.159 695.931 101.33 699.496 Q99.5249 703.038 99.5249 710.167 Q99.5249 717.274 101.33 720.838 Q103.159 724.38 106.77 724.38 Q110.404 724.38 112.21 720.838 Q114.039 717.274 114.039 710.167 Q114.039 703.038 112.21 699.496 Q110.404 695.931 106.77 695.931 M106.77 692.227 Q112.58 692.227 115.636 696.834 Q118.715 701.417 118.715 710.167 Q118.715 718.894 115.636 723.5 Q112.58 728.084 106.77 728.084 Q100.96 728.084 97.8813 723.5 Q94.8258 718.894 94.8258 710.167 Q94.8258 701.417 97.8813 696.834 Q100.96 692.227 106.77 692.227 Z\" fill=\"#000000\" fill-rule=\"evenodd\" fill-opacity=\"1\" /><path clip-path=\"url(#clip470)\" d=\"M136.932 695.931 Q133.321 695.931 131.492 699.496 Q129.687 703.038 129.687 710.167 Q129.687 717.274 131.492 720.838 Q133.321 724.38 136.932 724.38 Q140.566 724.38 142.372 720.838 Q144.201 717.274 144.201 710.167 Q144.201 703.038 142.372 699.496 Q140.566 695.931 136.932 695.931 M136.932 692.227 Q142.742 692.227 145.798 696.834 Q148.876 701.417 148.876 710.167 Q148.876 718.894 145.798 723.5 Q142.742 728.084 136.932 728.084 Q131.122 728.084 128.043 723.5 Q124.988 718.894 124.988 710.167 Q124.988 701.417 128.043 696.834 Q131.122 692.227 136.932 692.227 Z\" fill=\"#000000\" fill-rule=\"evenodd\" fill-opacity=\"1\" /><path clip-path=\"url(#clip470)\" d=\"M185.265 701.95 L174.686 712.575 L185.265 723.153 L182.511 725.954 L171.886 715.329 L161.261 725.954 L158.529 723.153 L169.085 712.575 L158.529 701.95 L161.261 699.149 L171.886 709.774 L182.511 699.149 L185.265 701.95 Z\" fill=\"#000000\" fill-rule=\"evenodd\" fill-opacity=\"1\" /><path clip-path=\"url(#clip470)\" d=\"M197.626 723.477 L205.265 723.477 L205.265 697.112 L196.955 698.778 L196.955 694.519 L205.219 692.852 L209.895 692.852 L209.895 723.477 L217.533 723.477 L217.533 727.412 L197.626 727.412 L197.626 723.477 Z\" fill=\"#000000\" fill-rule=\"evenodd\" fill-opacity=\"1\" /><path clip-path=\"url(#clip470)\" d=\"M236.978 695.931 Q233.367 695.931 231.538 699.496 Q229.732 703.038 229.732 710.167 Q229.732 717.274 231.538 720.838 Q233.367 724.38 236.978 724.38 Q240.612 724.38 242.418 720.838 Q244.246 717.274 244.246 710.167 Q244.246 703.038 242.418 699.496 Q240.612 695.931 236.978 695.931 M236.978 692.227 Q242.788 692.227 245.844 696.834 Q248.922 701.417 248.922 710.167 Q248.922 718.894 245.844 723.5 Q242.788 728.084 236.978 728.084 Q231.168 728.084 228.089 723.5 Q225.033 718.894 225.033 710.167 Q225.033 701.417 228.089 696.834 Q231.168 692.227 236.978 692.227 Z\" fill=\"#000000\" fill-rule=\"evenodd\" fill-opacity=\"1\" /><path clip-path=\"url(#clip470)\" d=\"M248.922 686.329 L273.034 686.329 L273.034 689.526 L248.922 689.526 L248.922 686.329 Z\" fill=\"#000000\" fill-rule=\"evenodd\" fill-opacity=\"1\" /><path clip-path=\"url(#clip470)\" d=\"M289.829 684.448 Q287.271 684.448 285.767 686.197 Q284.281 687.946 284.281 690.993 Q284.281 694.021 285.767 695.789 Q287.271 697.538 289.829 697.538 Q292.387 697.538 293.873 695.789 Q295.377 694.021 295.377 690.993 Q295.377 687.946 293.873 686.197 Q292.387 684.448 289.829 684.448 M297.371 672.543 L297.371 676.003 Q295.942 675.326 294.475 674.969 Q293.026 674.612 291.597 674.612 Q287.835 674.612 285.842 677.151 Q283.867 679.69 283.585 684.824 Q284.695 683.188 286.368 682.323 Q288.042 681.439 290.055 681.439 Q294.287 681.439 296.732 684.015 Q299.195 686.573 299.195 690.993 Q299.195 695.319 296.638 697.933 Q294.08 700.547 289.829 700.547 Q284.958 700.547 282.381 696.824 Q279.805 693.081 279.805 685.99 Q279.805 679.332 282.964 675.383 Q286.124 671.414 291.447 671.414 Q292.876 671.414 294.324 671.696 Q295.791 671.978 297.371 672.543 Z\" fill=\"#000000\" fill-rule=\"evenodd\" fill-opacity=\"1\" /><path clip-path=\"url(#clip470)\" d=\"M52.3492 383.201 L59.988 383.201 L59.988 356.835 L51.6779 358.502 L51.6779 354.242 L59.9417 352.576 L64.6176 352.576 L64.6176 383.201 L72.2565 383.201 L72.2565 387.136 L52.3492 387.136 L52.3492 383.201 Z\" fill=\"#000000\" fill-rule=\"evenodd\" fill-opacity=\"1\" /><path clip-path=\"url(#clip470)\" d=\"M81.7009 381.256 L86.5851 381.256 L86.5851 387.136 L81.7009 387.136 L81.7009 381.256 Z\" fill=\"#000000\" fill-rule=\"evenodd\" fill-opacity=\"1\" /><path clip-path=\"url(#clip470)\" d=\"M96.8165 352.576 L115.173 352.576 L115.173 356.511 L101.099 356.511 L101.099 364.983 Q102.117 364.636 103.136 364.474 Q104.154 364.289 105.173 364.289 Q110.96 364.289 114.34 367.46 Q117.719 370.631 117.719 376.048 Q117.719 381.627 114.247 384.728 Q110.775 387.807 104.455 387.807 Q102.279 387.807 100.011 387.437 Q97.7656 387.066 95.3582 386.326 L95.3582 381.627 Q97.4415 382.761 99.6637 383.316 Q101.886 383.872 104.363 383.872 Q108.367 383.872 110.705 381.765 Q113.043 379.659 113.043 376.048 Q113.043 372.437 110.705 370.33 Q108.367 368.224 104.363 368.224 Q102.488 368.224 100.613 368.64 Q98.761 369.057 96.8165 369.937 L96.8165 352.576 Z\" fill=\"#000000\" fill-rule=\"evenodd\" fill-opacity=\"1\" /><path clip-path=\"url(#clip470)\" d=\"M136.932 355.654 Q133.321 355.654 131.492 359.219 Q129.687 362.761 129.687 369.89 Q129.687 376.997 131.492 380.562 Q133.321 384.103 136.932 384.103 Q140.566 384.103 142.372 380.562 Q144.201 376.997 144.201 369.89 Q144.201 362.761 142.372 359.219 Q140.566 355.654 136.932 355.654 M136.932 351.951 Q142.742 351.951 145.798 356.557 Q148.876 361.141 148.876 369.89 Q148.876 378.617 145.798 383.224 Q142.742 387.807 136.932 387.807 Q131.122 387.807 128.043 383.224 Q124.988 378.617 124.988 369.89 Q124.988 361.141 128.043 356.557 Q131.122 351.951 136.932 351.951 Z\" fill=\"#000000\" fill-rule=\"evenodd\" fill-opacity=\"1\" /><path clip-path=\"url(#clip470)\" d=\"M185.265 361.673 L174.686 372.298 L185.265 382.877 L182.511 385.677 L171.886 375.052 L161.261 385.677 L158.529 382.877 L169.085 372.298 L158.529 361.673 L161.261 358.872 L171.886 369.497 L182.511 358.872 L185.265 361.673 Z\" fill=\"#000000\" fill-rule=\"evenodd\" fill-opacity=\"1\" /><path clip-path=\"url(#clip470)\" d=\"M197.626 383.201 L205.265 383.201 L205.265 356.835 L196.955 358.502 L196.955 354.242 L205.219 352.576 L209.895 352.576 L209.895 383.201 L217.533 383.201 L217.533 387.136 L197.626 387.136 L197.626 383.201 Z\" fill=\"#000000\" fill-rule=\"evenodd\" fill-opacity=\"1\" /><path clip-path=\"url(#clip470)\" d=\"M236.978 355.654 Q233.367 355.654 231.538 359.219 Q229.732 362.761 229.732 369.89 Q229.732 376.997 231.538 380.562 Q233.367 384.103 236.978 384.103 Q240.612 384.103 242.418 380.562 Q244.246 376.997 244.246 369.89 Q244.246 362.761 242.418 359.219 Q240.612 355.654 236.978 355.654 M236.978 351.951 Q242.788 351.951 245.844 356.557 Q248.922 361.141 248.922 369.89 Q248.922 378.617 245.844 383.224 Q242.788 387.807 236.978 387.807 Q231.168 387.807 228.089 383.224 Q225.033 378.617 225.033 369.89 Q225.033 361.141 228.089 356.557 Q231.168 351.951 236.978 351.951 Z\" fill=\"#000000\" fill-rule=\"evenodd\" fill-opacity=\"1\" /><path clip-path=\"url(#clip470)\" d=\"M248.922 346.052 L273.034 346.052 L273.034 349.249 L248.922 349.249 L248.922 346.052 Z\" fill=\"#000000\" fill-rule=\"evenodd\" fill-opacity=\"1\" /><path clip-path=\"url(#clip470)\" d=\"M289.829 344.171 Q287.271 344.171 285.767 345.92 Q284.281 347.67 284.281 350.716 Q284.281 353.744 285.767 355.512 Q287.271 357.262 289.829 357.262 Q292.387 357.262 293.873 355.512 Q295.377 353.744 295.377 350.716 Q295.377 347.67 293.873 345.92 Q292.387 344.171 289.829 344.171 M297.371 332.266 L297.371 335.727 Q295.942 335.05 294.475 334.692 Q293.026 334.335 291.597 334.335 Q287.835 334.335 285.842 336.874 Q283.867 339.413 283.585 344.547 Q284.695 342.911 286.368 342.046 Q288.042 341.162 290.055 341.162 Q294.287 341.162 296.732 343.739 Q299.195 346.297 299.195 350.716 Q299.195 355.042 296.638 357.657 Q294.08 360.271 289.829 360.271 Q284.958 360.271 282.381 356.547 Q279.805 352.804 279.805 345.714 Q279.805 339.056 282.964 335.106 Q286.124 331.138 291.447 331.138 Q292.876 331.138 294.324 331.42 Q295.791 331.702 297.371 332.266 Z\" fill=\"#000000\" fill-rule=\"evenodd\" fill-opacity=\"1\" /><polyline clip-path=\"url(#clip473)\" style=\"stroke:#009af9; stroke-linecap:butt; stroke-linejoin:round; stroke-width:4; stroke-opacity:1; fill:none\" points=\"\n",
       "  392.296,1384.24 504.258,1384.24 616.221,1384.24 728.183,1384.24 840.145,1384.24 952.108,1384.24 1064.07,1384.24 1176.03,1384.24 1287.99,1384.23 1399.96,1384.22 \n",
       "  1511.92,1384.16 1623.88,1383.92 1735.84,1382.97 1847.81,1379.17 1959.77,1363.96 2071.73,1303.11 2183.69,1059.73 2295.66,86.1857 \n",
       "  \"/>\n",
       "<polyline clip-path=\"url(#clip473)\" style=\"stroke:#e26f46; stroke-linecap:butt; stroke-linejoin:round; stroke-width:4; stroke-opacity:1; fill:none\" points=\"\n",
       "  392.296,1384.24 504.258,1384.24 616.221,1384.24 728.183,1384.24 840.145,1384.24 952.108,1384.24 1064.07,1384.24 1176.03,1384.24 1287.99,1384.24 1399.96,1384.24 \n",
       "  1511.92,1384.24 1623.88,1384.24 1735.84,1384.24 1847.81,1384.24 1959.77,1384.24 2071.73,1384.24 2183.69,1384.24 2295.66,1384.24 \n",
       "  \"/>\n",
       "<path clip-path=\"url(#clip470)\" d=\"\n",
       "M1730.52 248.629 L2285.5 248.629 L2285.5 93.1086 L1730.52 93.1086  Z\n",
       "  \" fill=\"#ffffff\" fill-rule=\"evenodd\" fill-opacity=\"1\"/>\n",
       "<polyline clip-path=\"url(#clip470)\" style=\"stroke:#000000; stroke-linecap:butt; stroke-linejoin:round; stroke-width:4; stroke-opacity:1; fill:none\" points=\"\n",
       "  1730.52,248.629 2285.5,248.629 2285.5,93.1086 1730.52,93.1086 1730.52,248.629 \n",
       "  \"/>\n",
       "<polyline clip-path=\"url(#clip470)\" style=\"stroke:#009af9; stroke-linecap:butt; stroke-linejoin:round; stroke-width:4; stroke-opacity:1; fill:none\" points=\"\n",
       "  1752.94,144.949 1887.44,144.949 \n",
       "  \"/>\n",
       "<path clip-path=\"url(#clip470)\" d=\"M1923.26 149.196 Q1918.1 149.196 1916.11 150.377 Q1914.12 151.557 1914.12 154.405 Q1914.12 156.673 1915.6 158.016 Q1917.11 159.335 1919.68 159.335 Q1923.22 159.335 1925.35 156.835 Q1927.5 154.312 1927.5 150.145 L1927.5 149.196 L1923.26 149.196 M1931.76 147.437 L1931.76 162.229 L1927.5 162.229 L1927.5 158.293 Q1926.04 160.655 1923.87 161.789 Q1921.69 162.9 1918.54 162.9 Q1914.56 162.9 1912.2 160.678 Q1909.86 158.432 1909.86 154.682 Q1909.86 150.307 1912.78 148.085 Q1915.72 145.863 1921.53 145.863 L1927.5 145.863 L1927.5 145.446 Q1927.5 142.507 1925.56 140.909 Q1923.63 139.289 1920.14 139.289 Q1917.92 139.289 1915.81 139.821 Q1913.7 140.354 1911.76 141.419 L1911.76 137.483 Q1914.1 136.581 1916.3 136.141 Q1918.5 135.678 1920.58 135.678 Q1926.2 135.678 1928.98 138.594 Q1931.76 141.511 1931.76 147.437 Z\" fill=\"#000000\" fill-rule=\"evenodd\" fill-opacity=\"1\" /><path clip-path=\"url(#clip470)\" d=\"M1959.14 149.289 Q1959.14 144.59 1957.2 141.928 Q1955.28 139.243 1951.9 139.243 Q1948.52 139.243 1946.57 141.928 Q1944.65 144.59 1944.65 149.289 Q1944.65 153.988 1946.57 156.673 Q1948.52 159.335 1951.9 159.335 Q1955.28 159.335 1957.2 156.673 Q1959.14 153.988 1959.14 149.289 M1944.65 140.238 Q1945.99 137.923 1948.03 136.812 Q1950.09 135.678 1952.94 135.678 Q1957.66 135.678 1960.6 139.428 Q1963.56 143.178 1963.56 149.289 Q1963.56 155.4 1960.6 159.15 Q1957.66 162.9 1952.94 162.9 Q1950.09 162.9 1948.03 161.789 Q1945.99 160.655 1944.65 158.34 L1944.65 162.229 L1940.37 162.229 L1940.37 126.21 L1944.65 126.21 L1944.65 140.238 Z\" fill=\"#000000\" fill-rule=\"evenodd\" fill-opacity=\"1\" /><path clip-path=\"url(#clip470)\" d=\"M1987.15 137.067 L1987.15 141.094 Q1985.35 140.169 1983.4 139.706 Q1981.46 139.243 1979.37 139.243 Q1976.2 139.243 1974.61 140.215 Q1973.03 141.187 1973.03 143.131 Q1973.03 144.613 1974.17 145.469 Q1975.3 146.303 1978.73 147.067 L1980.18 147.391 Q1984.72 148.363 1986.62 150.145 Q1988.54 151.905 1988.54 155.076 Q1988.54 158.687 1985.67 160.793 Q1982.82 162.9 1977.82 162.9 Q1975.74 162.9 1973.47 162.483 Q1971.23 162.09 1968.73 161.28 L1968.73 156.881 Q1971.09 158.108 1973.38 158.733 Q1975.67 159.335 1977.92 159.335 Q1980.93 159.335 1982.55 158.317 Q1984.17 157.275 1984.17 155.4 Q1984.17 153.664 1982.99 152.738 Q1981.83 151.812 1977.87 150.956 L1976.39 150.608 Q1972.43 149.775 1970.67 148.062 Q1968.91 146.326 1968.91 143.317 Q1968.91 139.659 1971.5 137.669 Q1974.1 135.678 1978.87 135.678 Q1981.23 135.678 1983.31 136.025 Q1985.39 136.372 1987.15 137.067 Z\" fill=\"#000000\" fill-rule=\"evenodd\" fill-opacity=\"1\" /><path clip-path=\"url(#clip470)\" d=\"M2005.37 139.289 Q2001.94 139.289 1999.95 141.974 Q1997.96 144.636 1997.96 149.289 Q1997.96 153.942 1999.93 156.627 Q2001.92 159.289 2005.37 159.289 Q2008.77 159.289 2010.76 156.604 Q2012.75 153.918 2012.75 149.289 Q2012.75 144.682 2010.76 141.997 Q2008.77 139.289 2005.37 139.289 M2005.37 135.678 Q2010.93 135.678 2014.1 139.289 Q2017.27 142.9 2017.27 149.289 Q2017.27 155.655 2014.1 159.289 Q2010.93 162.9 2005.37 162.9 Q1999.79 162.9 1996.62 159.289 Q1993.47 155.655 1993.47 149.289 Q1993.47 142.9 1996.62 139.289 Q1999.79 135.678 2005.37 135.678 Z\" fill=\"#000000\" fill-rule=\"evenodd\" fill-opacity=\"1\" /><path clip-path=\"url(#clip470)\" d=\"M2024.33 126.21 L2028.59 126.21 L2028.59 162.229 L2024.33 162.229 L2024.33 126.21 Z\" fill=\"#000000\" fill-rule=\"evenodd\" fill-opacity=\"1\" /><path clip-path=\"url(#clip470)\" d=\"M2037.06 151.997 L2037.06 136.303 L2041.32 136.303 L2041.32 151.835 Q2041.32 155.516 2042.75 157.368 Q2044.19 159.196 2047.06 159.196 Q2050.51 159.196 2052.5 156.997 Q2054.51 154.798 2054.51 151.002 L2054.51 136.303 L2058.77 136.303 L2058.77 162.229 L2054.51 162.229 L2054.51 158.247 Q2052.96 160.608 2050.9 161.766 Q2048.86 162.9 2046.16 162.9 Q2041.69 162.9 2039.37 160.122 Q2037.06 157.344 2037.06 151.997 M2047.78 135.678 L2047.78 135.678 Z\" fill=\"#000000\" fill-rule=\"evenodd\" fill-opacity=\"1\" /><path clip-path=\"url(#clip470)\" d=\"M2071.76 128.942 L2071.76 136.303 L2080.53 136.303 L2080.53 139.613 L2071.76 139.613 L2071.76 153.687 Q2071.76 156.858 2072.61 157.761 Q2073.49 158.664 2076.16 158.664 L2080.53 158.664 L2080.53 162.229 L2076.16 162.229 Q2071.23 162.229 2069.35 160.4 Q2067.48 158.548 2067.48 153.687 L2067.48 139.613 L2064.35 139.613 L2064.35 136.303 L2067.48 136.303 L2067.48 128.942 L2071.76 128.942 Z\" fill=\"#000000\" fill-rule=\"evenodd\" fill-opacity=\"1\" /><path clip-path=\"url(#clip470)\" d=\"M2108.31 148.201 L2108.31 150.284 L2088.73 150.284 Q2089 154.682 2091.36 156.997 Q2093.75 159.289 2097.98 159.289 Q2100.44 159.289 2102.73 158.687 Q2105.04 158.085 2107.31 156.881 L2107.31 160.909 Q2105.02 161.881 2102.61 162.391 Q2100.21 162.9 2097.73 162.9 Q2091.53 162.9 2087.89 159.289 Q2084.28 155.678 2084.28 149.52 Q2084.28 143.155 2087.71 139.428 Q2091.16 135.678 2096.99 135.678 Q2102.22 135.678 2105.25 139.057 Q2108.31 142.414 2108.31 148.201 M2104.05 146.951 Q2104 143.456 2102.08 141.372 Q2100.18 139.289 2097.04 139.289 Q2093.47 139.289 2091.32 141.303 Q2089.19 143.317 2088.86 146.974 L2104.05 146.951 Z\" fill=\"#000000\" fill-rule=\"evenodd\" fill-opacity=\"1\" /><path clip-path=\"url(#clip470)\" d=\"M2152.54 148.201 L2152.54 150.284 L2132.96 150.284 Q2133.24 154.682 2135.6 156.997 Q2137.98 159.289 2142.22 159.289 Q2144.67 159.289 2146.97 158.687 Q2149.28 158.085 2151.55 156.881 L2151.55 160.909 Q2149.26 161.881 2146.85 162.391 Q2144.44 162.9 2141.97 162.9 Q2135.76 162.9 2132.13 159.289 Q2128.52 155.678 2128.52 149.52 Q2128.52 143.155 2131.94 139.428 Q2135.39 135.678 2141.23 135.678 Q2146.46 135.678 2149.49 139.057 Q2152.54 142.414 2152.54 148.201 M2148.29 146.951 Q2148.24 143.456 2146.32 141.372 Q2144.42 139.289 2141.27 139.289 Q2137.71 139.289 2135.55 141.303 Q2133.42 143.317 2133.1 146.974 L2148.29 146.951 Z\" fill=\"#000000\" fill-rule=\"evenodd\" fill-opacity=\"1\" /><path clip-path=\"url(#clip470)\" d=\"M2174.56 140.284 Q2173.84 139.868 2172.98 139.682 Q2172.15 139.474 2171.13 139.474 Q2167.52 139.474 2165.58 141.835 Q2163.66 144.173 2163.66 148.571 L2163.66 162.229 L2159.37 162.229 L2159.37 136.303 L2163.66 136.303 L2163.66 140.331 Q2165 137.969 2167.15 136.835 Q2169.3 135.678 2172.38 135.678 Q2172.82 135.678 2173.35 135.747 Q2173.89 135.794 2174.54 135.909 L2174.56 140.284 Z\" fill=\"#000000\" fill-rule=\"evenodd\" fill-opacity=\"1\" /><path clip-path=\"url(#clip470)\" d=\"M2193.22 140.284 Q2192.5 139.868 2191.64 139.682 Q2190.81 139.474 2189.79 139.474 Q2186.18 139.474 2184.23 141.835 Q2182.31 144.173 2182.31 148.571 L2182.31 162.229 L2178.03 162.229 L2178.03 136.303 L2182.31 136.303 L2182.31 140.331 Q2183.66 137.969 2185.81 136.835 Q2187.96 135.678 2191.04 135.678 Q2191.48 135.678 2192.01 135.747 Q2192.54 135.794 2193.19 135.909 L2193.22 140.284 Z\" fill=\"#000000\" fill-rule=\"evenodd\" fill-opacity=\"1\" /><path clip-path=\"url(#clip470)\" d=\"M2206.69 139.289 Q2203.26 139.289 2201.27 141.974 Q2199.28 144.636 2199.28 149.289 Q2199.28 153.942 2201.25 156.627 Q2203.24 159.289 2206.69 159.289 Q2210.09 159.289 2212.08 156.604 Q2214.07 153.918 2214.07 149.289 Q2214.07 144.682 2212.08 141.997 Q2210.09 139.289 2206.69 139.289 M2206.69 135.678 Q2212.24 135.678 2215.41 139.289 Q2218.59 142.9 2218.59 149.289 Q2218.59 155.655 2215.41 159.289 Q2212.24 162.9 2206.69 162.9 Q2201.11 162.9 2197.94 159.289 Q2194.79 155.655 2194.79 149.289 Q2194.79 142.9 2197.94 139.289 Q2201.11 135.678 2206.69 135.678 Z\" fill=\"#000000\" fill-rule=\"evenodd\" fill-opacity=\"1\" /><path clip-path=\"url(#clip470)\" d=\"M2240.67 140.284 Q2239.95 139.868 2239.1 139.682 Q2238.26 139.474 2237.24 139.474 Q2233.63 139.474 2231.69 141.835 Q2229.77 144.173 2229.77 148.571 L2229.77 162.229 L2225.48 162.229 L2225.48 136.303 L2229.77 136.303 L2229.77 140.331 Q2231.11 137.969 2233.26 136.835 Q2235.41 135.678 2238.49 135.678 Q2238.93 135.678 2239.47 135.747 Q2240 135.794 2240.65 135.909 L2240.67 140.284 Z\" fill=\"#000000\" fill-rule=\"evenodd\" fill-opacity=\"1\" /><polyline clip-path=\"url(#clip470)\" style=\"stroke:#e26f46; stroke-linecap:butt; stroke-linejoin:round; stroke-width:4; stroke-opacity:1; fill:none\" points=\"\n",
       "  1752.94,196.789 1887.44,196.789 \n",
       "  \"/>\n",
       "<path clip-path=\"url(#clip470)\" d=\"M1925.05 192.124 Q1924.33 191.708 1923.47 191.522 Q1922.64 191.314 1921.62 191.314 Q1918.01 191.314 1916.06 193.675 Q1914.14 196.013 1914.14 200.411 L1914.14 214.069 L1909.86 214.069 L1909.86 188.143 L1914.14 188.143 L1914.14 192.171 Q1915.49 189.809 1917.64 188.675 Q1919.79 187.518 1922.87 187.518 Q1923.31 187.518 1923.84 187.587 Q1924.37 187.634 1925.02 187.749 L1925.05 192.124 Z\" fill=\"#000000\" fill-rule=\"evenodd\" fill-opacity=\"1\" /><path clip-path=\"url(#clip470)\" d=\"M1950.65 200.041 L1950.65 202.124 L1931.06 202.124 Q1931.34 206.522 1933.7 208.837 Q1936.09 211.129 1940.32 211.129 Q1942.78 211.129 1945.07 210.527 Q1947.38 209.925 1949.65 208.721 L1949.65 212.749 Q1947.36 213.721 1944.95 214.231 Q1942.55 214.74 1940.07 214.74 Q1933.87 214.74 1930.23 211.129 Q1926.62 207.518 1926.62 201.36 Q1926.62 194.995 1930.05 191.268 Q1933.49 187.518 1939.33 187.518 Q1944.56 187.518 1947.59 190.897 Q1950.65 194.254 1950.65 200.041 M1946.39 198.791 Q1946.34 195.296 1944.42 193.212 Q1942.52 191.129 1939.37 191.129 Q1935.81 191.129 1933.66 193.143 Q1931.53 195.157 1931.2 198.814 L1946.39 198.791 Z\" fill=\"#000000\" fill-rule=\"evenodd\" fill-opacity=\"1\" /><path clip-path=\"url(#clip470)\" d=\"M1957.64 178.05 L1961.9 178.05 L1961.9 214.069 L1957.64 214.069 L1957.64 178.05 Z\" fill=\"#000000\" fill-rule=\"evenodd\" fill-opacity=\"1\" /><path clip-path=\"url(#clip470)\" d=\"M1982.59 201.036 Q1977.43 201.036 1975.44 202.217 Q1973.45 203.397 1973.45 206.245 Q1973.45 208.513 1974.93 209.856 Q1976.43 211.175 1979 211.175 Q1982.55 211.175 1984.68 208.675 Q1986.83 206.152 1986.83 201.985 L1986.83 201.036 L1982.59 201.036 M1991.09 199.277 L1991.09 214.069 L1986.83 214.069 L1986.83 210.133 Q1985.37 212.495 1983.19 213.629 Q1981.02 214.74 1977.87 214.74 Q1973.89 214.74 1971.53 212.518 Q1969.19 210.272 1969.19 206.522 Q1969.19 202.147 1972.11 199.925 Q1975.05 197.703 1980.86 197.703 L1986.83 197.703 L1986.83 197.286 Q1986.83 194.347 1984.88 192.749 Q1982.96 191.129 1979.47 191.129 Q1977.24 191.129 1975.14 191.661 Q1973.03 192.194 1971.09 193.259 L1971.09 189.323 Q1973.43 188.421 1975.62 187.981 Q1977.82 187.518 1979.91 187.518 Q1985.53 187.518 1988.31 190.434 Q1991.09 193.351 1991.09 199.277 Z\" fill=\"#000000\" fill-rule=\"evenodd\" fill-opacity=\"1\" /><path clip-path=\"url(#clip470)\" d=\"M2004.07 180.782 L2004.07 188.143 L2012.85 188.143 L2012.85 191.453 L2004.07 191.453 L2004.07 205.527 Q2004.07 208.698 2004.93 209.601 Q2005.81 210.504 2008.47 210.504 L2012.85 210.504 L2012.85 214.069 L2008.47 214.069 Q2003.54 214.069 2001.67 212.24 Q1999.79 210.388 1999.79 205.527 L1999.79 191.453 L1996.67 191.453 L1996.67 188.143 L1999.79 188.143 L1999.79 180.782 L2004.07 180.782 Z\" fill=\"#000000\" fill-rule=\"evenodd\" fill-opacity=\"1\" /><path clip-path=\"url(#clip470)\" d=\"M2018.45 188.143 L2022.71 188.143 L2022.71 214.069 L2018.45 214.069 L2018.45 188.143 M2018.45 178.05 L2022.71 178.05 L2022.71 183.444 L2018.45 183.444 L2018.45 178.05 Z\" fill=\"#000000\" fill-rule=\"evenodd\" fill-opacity=\"1\" /><path clip-path=\"url(#clip470)\" d=\"M2028.56 188.143 L2033.08 188.143 L2041.18 209.902 L2049.28 188.143 L2053.8 188.143 L2044.07 214.069 L2038.29 214.069 L2028.56 188.143 Z\" fill=\"#000000\" fill-rule=\"evenodd\" fill-opacity=\"1\" /><path clip-path=\"url(#clip470)\" d=\"M2081.85 200.041 L2081.85 202.124 L2062.27 202.124 Q2062.55 206.522 2064.91 208.837 Q2067.29 211.129 2071.53 211.129 Q2073.98 211.129 2076.27 210.527 Q2078.59 209.925 2080.86 208.721 L2080.86 212.749 Q2078.56 213.721 2076.16 214.231 Q2073.75 214.74 2071.27 214.74 Q2065.07 214.74 2061.43 211.129 Q2057.82 207.518 2057.82 201.36 Q2057.82 194.995 2061.25 191.268 Q2064.7 187.518 2070.53 187.518 Q2075.76 187.518 2078.8 190.897 Q2081.85 194.254 2081.85 200.041 M2077.59 198.791 Q2077.55 195.296 2075.62 193.212 Q2073.73 191.129 2070.58 191.129 Q2067.01 191.129 2064.86 193.143 Q2062.73 195.157 2062.41 198.814 L2077.59 198.791 Z\" fill=\"#000000\" fill-rule=\"evenodd\" fill-opacity=\"1\" /><path clip-path=\"url(#clip470)\" d=\"M2126.09 200.041 L2126.09 202.124 L2106.5 202.124 Q2106.78 206.522 2109.14 208.837 Q2111.53 211.129 2115.76 211.129 Q2118.22 211.129 2120.51 210.527 Q2122.82 209.925 2125.09 208.721 L2125.09 212.749 Q2122.8 213.721 2120.39 214.231 Q2117.98 214.74 2115.51 214.74 Q2109.3 214.74 2105.67 211.129 Q2102.06 207.518 2102.06 201.36 Q2102.06 194.995 2105.48 191.268 Q2108.93 187.518 2114.77 187.518 Q2120 187.518 2123.03 190.897 Q2126.09 194.254 2126.09 200.041 M2121.83 198.791 Q2121.78 195.296 2119.86 193.212 Q2117.96 191.129 2114.81 191.129 Q2111.25 191.129 2109.1 193.143 Q2106.97 195.157 2106.64 198.814 L2121.83 198.791 Z\" fill=\"#000000\" fill-rule=\"evenodd\" fill-opacity=\"1\" /><path clip-path=\"url(#clip470)\" d=\"M2148.1 192.124 Q2147.38 191.708 2146.53 191.522 Q2145.69 191.314 2144.67 191.314 Q2141.06 191.314 2139.12 193.675 Q2137.2 196.013 2137.2 200.411 L2137.2 214.069 L2132.92 214.069 L2132.92 188.143 L2137.2 188.143 L2137.2 192.171 Q2138.54 189.809 2140.69 188.675 Q2142.85 187.518 2145.92 187.518 Q2146.36 187.518 2146.9 187.587 Q2147.43 187.634 2148.08 187.749 L2148.1 192.124 Z\" fill=\"#000000\" fill-rule=\"evenodd\" fill-opacity=\"1\" /><path clip-path=\"url(#clip470)\" d=\"M2166.76 192.124 Q2166.04 191.708 2165.18 191.522 Q2164.35 191.314 2163.33 191.314 Q2159.72 191.314 2157.78 193.675 Q2155.85 196.013 2155.85 200.411 L2155.85 214.069 L2151.57 214.069 L2151.57 188.143 L2155.85 188.143 L2155.85 192.171 Q2157.2 189.809 2159.35 188.675 Q2161.5 187.518 2164.58 187.518 Q2165.02 187.518 2165.55 187.587 Q2166.09 187.634 2166.73 187.749 L2166.76 192.124 Z\" fill=\"#000000\" fill-rule=\"evenodd\" fill-opacity=\"1\" /><path clip-path=\"url(#clip470)\" d=\"M2180.23 191.129 Q2176.8 191.129 2174.81 193.814 Q2172.82 196.476 2172.82 201.129 Q2172.82 205.782 2174.79 208.467 Q2176.78 211.129 2180.23 211.129 Q2183.63 211.129 2185.62 208.444 Q2187.61 205.758 2187.61 201.129 Q2187.61 196.522 2185.62 193.837 Q2183.63 191.129 2180.23 191.129 M2180.23 187.518 Q2185.79 187.518 2188.96 191.129 Q2192.13 194.74 2192.13 201.129 Q2192.13 207.495 2188.96 211.129 Q2185.79 214.74 2180.23 214.74 Q2174.65 214.74 2171.48 211.129 Q2168.33 207.495 2168.33 201.129 Q2168.33 194.74 2171.48 191.129 Q2174.65 187.518 2180.23 187.518 Z\" fill=\"#000000\" fill-rule=\"evenodd\" fill-opacity=\"1\" /><path clip-path=\"url(#clip470)\" d=\"M2214.21 192.124 Q2213.49 191.708 2212.64 191.522 Q2211.8 191.314 2210.79 191.314 Q2207.17 191.314 2205.23 193.675 Q2203.31 196.013 2203.31 200.411 L2203.31 214.069 L2199.03 214.069 L2199.03 188.143 L2203.31 188.143 L2203.31 192.171 Q2204.65 189.809 2206.8 188.675 Q2208.96 187.518 2212.04 187.518 Q2212.47 187.518 2213.01 187.587 Q2213.54 187.634 2214.19 187.749 L2214.21 192.124 Z\" fill=\"#000000\" fill-rule=\"evenodd\" fill-opacity=\"1\" /></svg>\n"
      ]
     },
     "execution_count": 70,
     "metadata": {},
     "output_type": "execute_result"
    }
   ],
   "source": [
    "plot(0:n-1, abs_error, label=\"absolute error\", xlabel=L\"n\")\n",
    "plot!(0:n-1, rel_error, label=\"relative error\")"
   ]
  },
  {
   "cell_type": "markdown",
   "metadata": {
    "id": "LZJarnzn4KxB"
   },
   "source": [
    "Note that, approximately up to step $n=20$, the relative error is very small but the absolute error grows rapidly. The algorithm is said to be **unstable**."
   ]
  },
  {
   "cell_type": "code",
   "execution_count": null,
   "metadata": {},
   "outputs": [],
   "source": []
  }
 ],
 "metadata": {
  "@webio": {
   "lastCommId": null,
   "lastKernelId": null
  },
  "colab": {
   "name": "Errors01.ipynb",
   "provenance": []
  },
  "kernelspec": {
   "display_name": "Julia 1.7.2",
   "language": "julia",
   "name": "julia-1.7"
  },
  "language_info": {
   "file_extension": ".jl",
   "mimetype": "application/julia",
   "name": "julia",
   "version": "1.7.2"
  }
 },
 "nbformat": 4,
 "nbformat_minor": 1
}
