{
 "cells": [
  {
   "cell_type": "markdown",
   "metadata": {
    "id": "NgGr6lO24Kw7"
   },
   "source": [
    "![Astrofisica Computacional](../../logo.PNG)"
   ]
  },
  {
   "cell_type": "markdown",
   "metadata": {},
   "source": [
    "---\n",
    "## 01. Error Analysis\n",
    "\n",
    "\n",
    "Eduard Larrañaga (ealarranaga@unal.edu.co)\n",
    "\n",
    "---"
   ]
  },
  {
   "cell_type": "markdown",
   "metadata": {
    "id": "IXMtRwwg4Kw8"
   },
   "source": [
    "### About this Notbook\n",
    "\n",
    "\n",
    "This notebook presents some fundamental concepts of error analysis and stability.\n",
    "\n",
    "---"
   ]
  },
  {
   "cell_type": "markdown",
   "metadata": {
    "id": "6MsfOTJP4Kw8"
   },
   "source": [
    "Various sources of error appear in numerical calculations. Some of them are:\n",
    "\n",
    "**Experimental uncertainty** : The experimental data is limited by the precision of the measuring devices. Therefore it is usual to represent the experimental quantities with the format $x \\pm \\Delta x$ where $\\Delta x$ corresponds to the uncertainty in the measurements.\\\n",
    "When experimental quantities or data are used in numerical algorithms, uncertainties can lead to large final errors.\n",
    "\n",
    "**Rounding Errors (Floating Point Numbers)** : The computational representation of a number is always limited by the memory allocated to its representation. Therefore, a rounding error is inherent in any quantity stored in a computer and this fact can lead to an accumulation that eventually leads to a large error if not controlled by the algorithm.\n",
    "\n",
    "**Truncation Errors** : When a function is represented in the computer, such as a square root, an exponential, a logarithm, etc., using series expansions, the truncation of the series or the iterations of the algorithm induce a error that can accumulate at each step.\n",
    "\n",
    "Below we will illustrate the existence of these sources of error with some specific examples."
   ]
  },
  {
   "cell_type": "markdown",
   "metadata": {
    "id": "PI9r80dX4Kw9"
   },
   "source": [
    "---\n",
    "### Rounding Errors (Floating Point Numbers)\n",
    "\n",
    "First, we will define a floating point number,"
   ]
  },
  {
   "cell_type": "code",
   "execution_count": 1,
   "metadata": {
    "colab": {
     "base_uri": "https://localhost:8080/"
    },
    "executionInfo": {
     "elapsed": 551,
     "status": "ok",
     "timestamp": 1618613627388,
     "user": {
      "displayName": "Eduard Alexis Larranaga",
      "photoUrl": "https://lh3.googleusercontent.com/a-/AOh14GgCVABzEgj-rCdyxWa29RnA0kIYUCXAaVbnRYOEhQ=s64",
      "userId": "04402438389940282602"
     },
     "user_tz": 300
    },
    "id": "DgDigz_f4Kw9",
    "outputId": "ebac9517-b206-429b-af1a-05d95caa4343"
   },
   "outputs": [
    {
     "data": {
      "text/plain": [
       "3.1416"
      ]
     },
     "execution_count": 1,
     "metadata": {},
     "output_type": "execute_result"
    }
   ],
   "source": [
    "x = 3.1416\n",
    "x"
   ]
  },
  {
   "cell_type": "markdown",
   "metadata": {
    "id": "W7c9sX8R4Kw9"
   },
   "source": [
    "If this number is shown on the screen, with a precision of 20 decimal places, an error induced by the representation made by the computer can be observed. This error is inherent in the finite number of bits used to store the floating point number."
   ]
  },
  {
   "cell_type": "code",
   "execution_count": 2,
   "metadata": {
    "colab": {
     "base_uri": "https://localhost:8080/"
    },
    "executionInfo": {
     "elapsed": 670,
     "status": "ok",
     "timestamp": 1618613630416,
     "user": {
      "displayName": "Eduard Alexis Larranaga",
      "photoUrl": "https://lh3.googleusercontent.com/a-/AOh14GgCVABzEgj-rCdyxWa29RnA0kIYUCXAaVbnRYOEhQ=s64",
      "userId": "04402438389940282602"
     },
     "user_tz": 300
    },
    "id": "PNIC-GV24Kw9",
    "outputId": "9bca8102-5f87-4be1-98c5-dc320e3830b1"
   },
   "outputs": [
    {
     "name": "stdout",
     "output_type": "stream",
     "text": [
      "3.14159999999999994813\n"
     ]
    }
   ],
   "source": [
    "print(f'{x:.20f}')"
   ]
  },
  {
   "cell_type": "markdown",
   "metadata": {
    "id": "m7laERy44Kw9"
   },
   "source": [
    "Thus, adding a small number to $x$ results in something unexpected:"
   ]
  },
  {
   "cell_type": "code",
   "execution_count": 3,
   "metadata": {
    "colab": {
     "base_uri": "https://localhost:8080/"
    },
    "executionInfo": {
     "elapsed": 433,
     "status": "ok",
     "timestamp": 1618613633509,
     "user": {
      "displayName": "Eduard Alexis Larranaga",
      "photoUrl": "https://lh3.googleusercontent.com/a-/AOh14GgCVABzEgj-rCdyxWa29RnA0kIYUCXAaVbnRYOEhQ=s64",
      "userId": "04402438389940282602"
     },
     "user_tz": 300
    },
    "id": "MgDOo2ez4Kw-",
    "outputId": "50223361-d357-489c-f9a6-46a48fa7c630"
   },
   "outputs": [
    {
     "name": "stdout",
     "output_type": "stream",
     "text": [
      "3.14159999999999994813\n"
     ]
    }
   ],
   "source": [
    "y= x + 0.0000000000000001\n",
    "print(f'{y:.20f}')"
   ]
  },
  {
   "cell_type": "code",
   "execution_count": 4,
   "metadata": {},
   "outputs": [
    {
     "data": {
      "text/plain": [
       "3.1416"
      ]
     },
     "execution_count": 4,
     "metadata": {},
     "output_type": "execute_result"
    }
   ],
   "source": [
    "y"
   ]
  },
  {
   "cell_type": "markdown",
   "metadata": {
    "id": "LGHWVnCb4Kw-"
   },
   "source": [
    "#### Machine Epsilon\n",
    "\n",
    "The quantity called **machine epsilon** corresponds to the minimum value $\\epsilon$ for which the machine assumes that $1. + \\epsilon= 1$. Mathematically we define it by saying that\n",
    "\n",
    "$\\epsilon = \\min \\left[ \\delta >0 |: 1 +\\delta >1 \\right] $\n",
    "\n",
    "This quantity defines the precision of the machine to represent floating point numbers and to perform calculations with them."
   ]
  },
  {
   "cell_type": "code",
   "execution_count": 5,
   "metadata": {
    "colab": {
     "base_uri": "https://localhost:8080/"
    },
    "executionInfo": {
     "elapsed": 403,
     "status": "ok",
     "timestamp": 1618613637103,
     "user": {
      "displayName": "Eduard Alexis Larranaga",
      "photoUrl": "https://lh3.googleusercontent.com/a-/AOh14GgCVABzEgj-rCdyxWa29RnA0kIYUCXAaVbnRYOEhQ=s64",
      "userId": "04402438389940282602"
     },
     "user_tz": 300
    },
    "id": "TpNdL5hE4Kw-",
    "outputId": "69bf25be-40bd-4d30-92d5-3a76720502d7"
   },
   "outputs": [
    {
     "data": {
      "text/plain": [
       "1.1102230246251565e-16"
      ]
     },
     "execution_count": 5,
     "metadata": {},
     "output_type": "execute_result"
    }
   ],
   "source": [
    "epsilon = 1.\n",
    "\n",
    "while (1.+epsilon != 1.):\n",
    "    epsilon = epsilon/2.\n",
    "\n",
    "epsilon"
   ]
  },
  {
   "cell_type": "markdown",
   "metadata": {
    "id": "JFp-rqzm4Kw-"
   },
   "source": [
    "---\n",
    "Consider the floating point number $y = \\cos \\frac{\\pi}{2}$. This number is expected to equal zero. However, a simple calculation gives us a floating-point number representation of zero:"
   ]
  },
  {
   "cell_type": "code",
   "execution_count": 6,
   "metadata": {
    "colab": {
     "base_uri": "https://localhost:8080/"
    },
    "executionInfo": {
     "elapsed": 400,
     "status": "ok",
     "timestamp": 1618613642255,
     "user": {
      "displayName": "Eduard Alexis Larranaga",
      "photoUrl": "https://lh3.googleusercontent.com/a-/AOh14GgCVABzEgj-rCdyxWa29RnA0kIYUCXAaVbnRYOEhQ=s64",
      "userId": "04402438389940282602"
     },
     "user_tz": 300
    },
    "id": "98lr9tqu4Kw-",
    "outputId": "50d842b7-8093-41a8-d8ee-a0ffdacfe26f"
   },
   "outputs": [
    {
     "data": {
      "text/plain": [
       "3.141592653589793"
      ]
     },
     "execution_count": 6,
     "metadata": {},
     "output_type": "execute_result"
    }
   ],
   "source": [
    "import numpy as np\n",
    "np.pi"
   ]
  },
  {
   "cell_type": "code",
   "execution_count": 7,
   "metadata": {
    "colab": {
     "base_uri": "https://localhost:8080/"
    },
    "executionInfo": {
     "elapsed": 363,
     "status": "ok",
     "timestamp": 1618613643313,
     "user": {
      "displayName": "Eduard Alexis Larranaga",
      "photoUrl": "https://lh3.googleusercontent.com/a-/AOh14GgCVABzEgj-rCdyxWa29RnA0kIYUCXAaVbnRYOEhQ=s64",
      "userId": "04402438389940282602"
     },
     "user_tz": 300
    },
    "id": "Hdelt8PD4Kw_",
    "outputId": "3773dd30-d2d4-4081-aa0d-440084196e10"
   },
   "outputs": [
    {
     "data": {
      "text/plain": [
       "6.123233995736766e-17"
      ]
     },
     "execution_count": 7,
     "metadata": {},
     "output_type": "execute_result"
    }
   ],
   "source": [
    "y = np.cos(np.pi/2.) \n",
    "y"
   ]
  },
  {
   "cell_type": "markdown",
   "metadata": {
    "id": "tgurmbsc4Kw_"
   },
   "source": [
    "Another example of the round-off error appears when we take the square root of the number 3,"
   ]
  },
  {
   "cell_type": "code",
   "execution_count": 8,
   "metadata": {
    "colab": {
     "base_uri": "https://localhost:8080/"
    },
    "executionInfo": {
     "elapsed": 392,
     "status": "ok",
     "timestamp": 1618613646393,
     "user": {
      "displayName": "Eduard Alexis Larranaga",
      "photoUrl": "https://lh3.googleusercontent.com/a-/AOh14GgCVABzEgj-rCdyxWa29RnA0kIYUCXAaVbnRYOEhQ=s64",
      "userId": "04402438389940282602"
     },
     "user_tz": 300
    },
    "id": "_fqyyE7P4Kw_",
    "outputId": "ba2d33f8-ac89-4263-e57b-5f9ffa87d154"
   },
   "outputs": [
    {
     "data": {
      "text/plain": [
       "1.7320508075688772"
      ]
     },
     "execution_count": 8,
     "metadata": {},
     "output_type": "execute_result"
    }
   ],
   "source": [
    "z = np.sqrt(3)\n",
    "z"
   ]
  },
  {
   "cell_type": "markdown",
   "metadata": {
    "id": "KJaYTNRh4Kw_"
   },
   "source": [
    "Note that, due to rounding error, $\\sqrt{3} \\cdot \\sqrt{3} \\neq 3$"
   ]
  },
  {
   "cell_type": "code",
   "execution_count": 9,
   "metadata": {
    "colab": {
     "base_uri": "https://localhost:8080/"
    },
    "executionInfo": {
     "elapsed": 456,
     "status": "ok",
     "timestamp": 1618613649800,
     "user": {
      "displayName": "Eduard Alexis Larranaga",
      "photoUrl": "https://lh3.googleusercontent.com/a-/AOh14GgCVABzEgj-rCdyxWa29RnA0kIYUCXAaVbnRYOEhQ=s64",
      "userId": "04402438389940282602"
     },
     "user_tz": 300
    },
    "id": "C6dUbBVL4Kw_",
    "outputId": "43921201-36bb-4a8e-ef12-926cfd6c5cde"
   },
   "outputs": [
    {
     "data": {
      "text/plain": [
       "2.9999999999999996"
      ]
     },
     "execution_count": 9,
     "metadata": {},
     "output_type": "execute_result"
    }
   ],
   "source": [
    "z*z"
   ]
  },
  {
   "cell_type": "markdown",
   "metadata": {
    "id": "20TXhXTt4Kw_"
   },
   "source": [
    "---\n",
    "### Absolute and Relative Errors\n",
    "\n",
    "Next we will define **absolute** and **relative** errors. Denoting the *true* value of a quantity by $X$ and its *approximate* value by $x$, we have\n",
    "\n",
    "$\\epsilon_a = \\left| X - x \\right|$ : absolute error\n",
    "\n",
    "\n",
    "$\\epsilon_r = \\left| \\frac{X - x}{X} \\right|$ : relative error"
   ]
  },
  {
   "cell_type": "code",
   "execution_count": 10,
   "metadata": {
    "colab": {
     "base_uri": "https://localhost:8080/"
    },
    "executionInfo": {
     "elapsed": 415,
     "status": "ok",
     "timestamp": 1618613652349,
     "user": {
      "displayName": "Eduard Alexis Larranaga",
      "photoUrl": "https://lh3.googleusercontent.com/a-/AOh14GgCVABzEgj-rCdyxWa29RnA0kIYUCXAaVbnRYOEhQ=s64",
      "userId": "04402438389940282602"
     },
     "user_tz": 300
    },
    "id": "IOtqUA164Kw_",
    "outputId": "13fec628-c425-4d0f-a2ee-a920105dd2ce"
   },
   "outputs": [
    {
     "data": {
      "text/plain": [
       "7.346410206832132e-06"
      ]
     },
     "execution_count": 10,
     "metadata": {},
     "output_type": "execute_result"
    }
   ],
   "source": [
    "import numpy as np\n",
    "\n",
    "X = np.pi\n",
    "x = 3.1416\n",
    "\n",
    "abs_error = np.abs(X - x) \n",
    "abs_error"
   ]
  },
  {
   "cell_type": "code",
   "execution_count": 11,
   "metadata": {
    "colab": {
     "base_uri": "https://localhost:8080/"
    },
    "executionInfo": {
     "elapsed": 553,
     "status": "ok",
     "timestamp": 1618613654659,
     "user": {
      "displayName": "Eduard Alexis Larranaga",
      "photoUrl": "https://lh3.googleusercontent.com/a-/AOh14GgCVABzEgj-rCdyxWa29RnA0kIYUCXAaVbnRYOEhQ=s64",
      "userId": "04402438389940282602"
     },
     "user_tz": 300
    },
    "id": "Kd8cdM9x4KxA",
    "outputId": "c8f54e62-7892-4c1d-8f8f-bf331654e213"
   },
   "outputs": [
    {
     "data": {
      "text/plain": [
       "2.3384349967961744e-06"
      ]
     },
     "execution_count": 11,
     "metadata": {},
     "output_type": "execute_result"
    }
   ],
   "source": [
    "rel_error = np.abs((X - x)/X)\n",
    "rel_error"
   ]
  },
  {
   "cell_type": "markdown",
   "metadata": {
    "id": "bdEX-BrI4KxA"
   },
   "source": [
    "---\n",
    "### Truncation Error\n",
    "\n",
    "Consider the function $\\sin x$ in its approximate form\n",
    "\n",
    "$\\sin x = \\sum_{n=1}^\\infty (-1)^{n-1} \\frac{x^{2n-1}}{(2n-1)!}$\n",
    "\n",
    "The approximation to order 7 (i.e. neglecting orders 7 and higher) will be\n",
    "\n",
    "$f(x) = x - \\frac{x^3}{6} + \\frac{x^5}{120}$.\n",
    "\n",
    "This approximation of the function $\\sin x$ induces a **truncation error** that can be estimated by the following function"
   ]
  },
  {
   "cell_type": "code",
   "execution_count": 12,
   "metadata": {
    "colab": {
     "base_uri": "https://localhost:8080/",
     "height": 279
    },
    "executionInfo": {
     "elapsed": 898,
     "status": "ok",
     "timestamp": 1618613667238,
     "user": {
      "displayName": "Eduard Alexis Larranaga",
      "photoUrl": "https://lh3.googleusercontent.com/a-/AOh14GgCVABzEgj-rCdyxWa29RnA0kIYUCXAaVbnRYOEhQ=s64",
      "userId": "04402438389940282602"
     },
     "user_tz": 300
    },
    "id": "cAUwr8nJ4KxA",
    "outputId": "8e9b844b-a9c4-4d05-b19f-56f135387d65"
   },
   "outputs": [
    {
     "data": {
      "image/png": "[encoded data removed]",
      "text/plain": [
       "<Figure size 432x288 with 1 Axes>"
      ]
     },
     "metadata": {
      "needs_background": "light"
     },
     "output_type": "display_data"
    }
   ],
   "source": [
    "import numpy as np\n",
    "import matplotlib.pyplot as plt\n",
    "\n",
    "def truncation_error(x):\n",
    "    '''\n",
    "    ------------------------------------------\n",
    "    Returns the truncarion error obtained when\n",
    "    comparing the 7th order accurate \n",
    "    approximation of the sin(x) function and \n",
    "    the numpy.sin() function \n",
    "    ------------------------------------------\n",
    "    Arguments:\n",
    "    x : point at which the truncation error is\n",
    "    calculated\n",
    "    ------------------------------------------\n",
    "    '''\n",
    "    mysin = x - x**3/6 + x**5/120\n",
    "    return np.abs(np.sin(x) - mysin)\n",
    "\n",
    "x = np.linspace(0, 1, 50)\n",
    "\n",
    "plt.figure()\n",
    "plt.plot(x, truncation_error(x))\n",
    "\n",
    "plt.xlim(1, 0)\n",
    "plt.xlabel(r'$x$')\n",
    "plt.ylabel(r'truncation error')\n",
    "plt.show()"
   ]
  },
  {
   "cell_type": "markdown",
   "metadata": {
    "id": "d9_AoayC4KxA"
   },
   "source": [
    "#### Estimating the precision of a truncated series\n",
    "\n",
    "To estimate the order of precision of a truncated approximation of a function, we will take a number in the range $0<x<1$ and compute the truncation error. Then the chosen number will be halved and the truncation error will be calculated again. The ratio between the two errors obtained results in a factor of the form $2^n$, where $n$ is the order of precision of the approximation."
   ]
  },
  {
   "cell_type": "code",
   "execution_count": 13,
   "metadata": {
    "colab": {
     "base_uri": "https://localhost:8080/"
    },
    "executionInfo": {
     "elapsed": 474,
     "status": "ok",
     "timestamp": 1618613672495,
     "user": {
      "displayName": "Eduard Alexis Larranaga",
      "photoUrl": "https://lh3.googleusercontent.com/a-/AOh14GgCVABzEgj-rCdyxWa29RnA0kIYUCXAaVbnRYOEhQ=s64",
      "userId": "04402438389940282602"
     },
     "user_tz": 300
    },
    "id": "81FoyWrC4KxA",
    "outputId": "53ae2f28-6b24-4c62-d134-6ece182532b0"
   },
   "outputs": [
    {
     "name": "stdout",
     "output_type": "stream",
     "text": [
      "For x = 0.766 the truncation error is: 3.050e-05\n",
      "For x = 0.383 the truncation error is: 2.397e-07\n",
      "\n",
      "The reason of these values is 127.221\n",
      "wich is approximately 2^7.0\n"
     ]
    }
   ],
   "source": [
    "# Randomly choosing the number in the range 0<x<1\n",
    "x = np.random.random()  \n",
    "# Calculate the truncation errors and their ratio\n",
    "te_x = truncation_error(x)\n",
    "te_x2 = truncation_error(x/2)\n",
    "ratio = te_x/te_x2 \n",
    "\n",
    "# Results.\n",
    "print(f'For x = {x:.3f} the truncation error is: {te_x:.3e}' )\n",
    "print(f'For x = {x/2:.3f} the truncation error is: {te_x2:.3e}')\n",
    "print(\"\")\n",
    "print(f'The reason of these values is {ratio:.3f}')\n",
    "print(f'wich is approximately 2^{np.log2(ratio):.1f}')\n"
   ]
  },
  {
   "cell_type": "markdown",
   "metadata": {
    "id": "9QGdYI9h4KxB"
   },
   "source": [
    "---\n",
    "### Stability of an Algorithm\n",
    "\n",
    "An algorithm, equation or problem is called **unstable** or **ill-conditioned** if small changes in the input data produce large changes in the output data."
   ]
  },
  {
   "cell_type": "markdown",
   "metadata": {
    "id": "tofgqFeb4KxB"
   },
   "source": [
    "To illustrate a stable algorithm, consider the recurrence relation\n",
    "\n",
    "$x_0 = 1$\\\n",
    "$x_1 = \\frac{1}{3}$\\\n",
    "$x_{n+1} = \\frac{13}{3}x_n - \\frac{4}{3} x_{n-1} $\n",
    "\n",
    "which is equivalent to\n",
    "\n",
    "$x_n = \\left( \\frac{1}{3} \\right)^n$."
   ]
  },
  {
   "cell_type": "code",
   "execution_count": 13,
   "metadata": {
    "colab": {
     "base_uri": "https://localhost:8080/",
     "height": 334
    },
    "executionInfo": {
     "elapsed": 680,
     "status": "ok",
     "timestamp": 1618613677155,
     "user": {
      "displayName": "Eduard Alexis Larranaga",
      "photoUrl": "https://lh3.googleusercontent.com/a-/AOh14GgCVABzEgj-rCdyxWa29RnA0kIYUCXAaVbnRYOEhQ=s64",
      "userId": "04402438389940282602"
     },
     "user_tz": 300
    },
    "id": "A_NhTtNs4KxB",
    "outputId": "d3f303fa-3375-4dc1-bfdf-0a51e2b575ff"
   },
   "outputs": [
    {
     "data": {
      "image/png": "[encoded data removed]",
      "text/plain": [
       "<Figure size 504x360 with 1 Axes>"
      ]
     },
     "metadata": {
      "needs_background": "light"
     },
     "output_type": "display_data"
    }
   ],
   "source": [
    "import numpy as np\n",
    "import matplotlib.pyplot as plt\n",
    "\n",
    "n = 18\n",
    "X = np.zeros(n)\n",
    "x = np.zeros(n)\n",
    "\n",
    "X[0] = 1.\n",
    "X[1] = 1./3.\n",
    "\n",
    "x[0] = 1.\n",
    "x[1] = 1./3.\n",
    "\n",
    "for i in range(2,n):\n",
    "    X[i] = 13.*X[i-1]/3. - 4.*X[i-2]/3.\n",
    "    x[i] = (1./3.)**(i)\n",
    "\n",
    "abs_error = np.abs(X - x)\n",
    "rel_error = np.abs((X - x)/X)\n",
    "\n",
    "plt.figure(figsize=(7,5))\n",
    "\n",
    "plt.plot(range(n), abs_error, label='absolute error')\n",
    "plt.plot(range(n), rel_error, label='relative error')\n",
    "plt.xlabel(r'n')\n",
    "plt.legend()\n",
    "plt.show()"
   ]
  },
  {
   "cell_type": "markdown",
   "metadata": {
    "id": "j_PFZK8o4KxB"
   },
   "source": [
    "Until the step $n=15$ in the recurrence relation, the absolute error is practically zero, while the relative error grows to only $0.05 = 5\\%$. This shows that the algorithm is **stable**."
   ]
  },
  {
   "cell_type": "markdown",
   "metadata": {
    "id": "dg8FkAM34KxB"
   },
   "source": [
    "---\n",
    "On the other hand, the recurrence relation\n",
    "\n",
    "$x_0 = 1$\\\n",
    "$x_1 = 4$\\\n",
    "$x_{n+1} = \\frac{13}{3}x_n - \\frac{4}{3} x_{n-1} $\n",
    "\n",
    "compared to\n",
    "\n",
    "$x_n = 4^n$,\n",
    "\n",
    "shows a completely different behavior,"
   ]
  },
  {
   "cell_type": "code",
   "execution_count": 14,
   "metadata": {
    "colab": {
     "base_uri": "https://localhost:8080/",
     "height": 334
    },
    "executionInfo": {
     "elapsed": 742,
     "status": "ok",
     "timestamp": 1618613681392,
     "user": {
      "displayName": "Eduard Alexis Larranaga",
      "photoUrl": "https://lh3.googleusercontent.com/a-/AOh14GgCVABzEgj-rCdyxWa29RnA0kIYUCXAaVbnRYOEhQ=s64",
      "userId": "04402438389940282602"
     },
     "user_tz": 300
    },
    "id": "AvvklL-B4KxB",
    "outputId": "b94cf533-a09c-485f-cfc8-52102273d660",
    "scrolled": false
   },
   "outputs": [
    {
     "data": {
      "image/png": "[encoded data removed]",
      "text/plain": [
       "<Figure size 504x360 with 1 Axes>"
      ]
     },
     "metadata": {
      "needs_background": "light"
     },
     "output_type": "display_data"
    }
   ],
   "source": [
    "import numpy as np\n",
    "import matplotlib.pyplot as plt\n",
    "\n",
    "n = 18\n",
    "X = np.zeros(n)\n",
    "x = np.zeros(n)\n",
    "\n",
    "X[0] = 1.\n",
    "X[1] = 4.\n",
    "\n",
    "x[0] = 1.\n",
    "x[1] = 4.\n",
    "\n",
    "for i in range(2,n):\n",
    "    X[i] = 13.*X[i-1]/3. - 4.*X[i-2]/3.\n",
    "    x[i] = (4.)**(i)\n",
    "\n",
    "abs_error = np.abs(X - x)\n",
    "rel_error = np.abs((X - x)/X)\n",
    "\n",
    "plt.figure(figsize=(7,5))\n",
    "\n",
    "plt.plot(range(n), abs_error, label='absolut error')\n",
    "plt.plot(range(n), rel_error, label='relative error')\n",
    "plt.xlabel(r'n')\n",
    "plt.legend()\n",
    "plt.show()"
   ]
  },
  {
   "cell_type": "markdown",
   "metadata": {
    "id": "LZJarnzn4KxB"
   },
   "source": [
    "Note that, approximately up to step $n=20$, the relative error is very small but the absolute error grows rapidly. The algorithm is said to be **unstable**."
   ]
  },
  {
   "cell_type": "code",
   "execution_count": null,
   "metadata": {},
   "outputs": [],
   "source": []
  }
 ],
 "metadata": {
  "@webio": {
   "lastCommId": null,
   "lastKernelId": null
  },
  "colab": {
   "name": "Errors01.ipynb",
   "provenance": []
  },
  "kernelspec": {
   "display_name": "Python 3 (ipykernel)",
   "language": "python",
   "name": "python3"
  },
  "language_info": {
   "codemirror_mode": {
    "name": "ipython",
    "version": 3
   },
   "file_extension": ".py",
   "mimetype": "text/x-python",
   "name": "python",
   "nbconvert_exporter": "python",
   "pygments_lexer": "ipython3",
   "version": "3.10.9"
  }
 },
 "nbformat": 4,
 "nbformat_minor": 1
}
