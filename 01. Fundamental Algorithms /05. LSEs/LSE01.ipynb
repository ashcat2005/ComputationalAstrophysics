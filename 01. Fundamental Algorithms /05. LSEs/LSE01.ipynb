{
 "cells": [
  {
   "cell_type": "markdown",
   "metadata": {},
   "source": [
    "![Astrofisica Computacional](../../logo.PNG)"
   ]
  },
  {
   "cell_type": "markdown",
   "metadata": {
    "id": "0Tgno34cJvfb"
   },
   "source": [
    "\n",
    "\n",
    "# Computational Astrophysics \n",
    "---\n",
    "## Eduard Larrañaga\n",
    "\n",
    "Observatorio Astronómico Nacional\\\n",
    "Facultad de Ciencias\\\n",
    "Universidad Nacional de Colombia\n"
   ]
  },
  {
   "cell_type": "markdown",
   "metadata": {
    "id": "rNDU7A9TJvfl"
   },
   "source": [
    "## Linear Systems of Equations (LSEs)\n",
    "### About this notebook\n",
    "\n",
    "In this notebook we present some of the techniques to find the roots of a function.\n",
    "\n",
    "---"
   ]
  },
  {
   "cell_type": "markdown",
   "metadata": {
    "id": "GWYM1opYJvfm"
   },
   "source": [
    "A system of linear equations can be written in matrix form\n",
    "\n",
    "\\begin{equation}\n",
    "A \\mathbf{x} = \\mathbf{b}\n",
    "\\end{equation}\n",
    "\n",
    "where, $A$ is a real $n\\times n$ matrix with coefficients $a_{ij}$.\n",
    "$\\mathbf{b}$ is a given real vector and $\\mathbf{x}$ is a vector with\n",
    "$n$ unknown values.\n",
    "\n",
    "\n",
    "* If $\\det{A} = |A| \\ne 0$ and $\\mathbf{b} \\ne 0$, the  LSE has a unique solution\n",
    "\\begin{equation}\n",
    "\\mathbf{x} = A^{-1} \\mathbf{b}\\,\\,,\n",
    "\\end{equation}\n",
    "where $A^{-1}$ is the inverse of $A$ with $AA^{-1}=A^{-1}\n",
    "A=\\mathbf{I}$.\n",
    "\n",
    "\n",
    "* If $\\det{A} = 0$, the equations either\n",
    "have no solution or an infinite number of solutions.\n",
    "\n",
    "\n",
    "\n",
    "---\n",
    "## Matrix Inversion Method\n",
    "\n",
    "The inverse of a matrix $A$ is given by\n",
    "\n",
    "\\begin{equation}\n",
    "A^{-1} = \\frac{1}{|A|} \\,\\, \\underbrace{\\mathrm{adj}{A}}_\\text{adjugate}\\,\\,.\n",
    "\\end{equation}\n",
    "\n",
    "the adjugate of $A$ is the transpose of $A$'s cofactor matrix $C$:\n",
    "\n",
    "\\begin{equation}\n",
    "\\mathrm{adj}{A} = C^T\\,\\,.\n",
    "\\end{equation}\n",
    "\n",
    "So the problem becomes finding $C$ and $\\det A$. \n",
    "\n",
    "\n",
    "This method scales in complexity with $n!$, where n is the number of rows/columns of $A$."
   ]
  },
  {
   "cell_type": "markdown",
   "metadata": {
    "id": "qWVQznzDJvfn"
   },
   "source": [
    "--- \n",
    "## Upper-diagonal Matrix\n",
    "\n",
    "Consider a linear system with an upper-diagonal matrix,\n",
    "\n",
    "\\begin{equation}\n",
    "A\\mathbf{x} = \\begin{pmatrix}\n",
    "a_{11}&a_{12}&a_{13}\\\\\n",
    "0 &a_{22}&a_{23}\\\\\n",
    "0 &0 &a_{33} \\end{pmatrix}\\begin{pmatrix}x_1\\\\x_2\\\\x_3\\end{pmatrix}\n",
    "= \\begin{pmatrix}b_1\\\\b_2\\\\b_3\\end{pmatrix}\\,\\,.\n",
    "\\end{equation}\n",
    "\n",
    "This LSE is solved trivially by simple back-substitution:\n",
    "\n",
    "\\begin{equation}\n",
    "x_3 = \\frac{b_3}{a_{33}},\\hspace{0.3cm}x_2 = \\frac{1}{a_{22}}(b_2 - a_{23} x_3), \\hspace{0.3cm} x_1 = \\frac{1}{a_{11}} ( b_1 - a_{12} x_2 - a_{13} x_3).\n",
    "\\end{equation}\n",
    "\n",
    "\n",
    "This is implemented in a simple way for a $n\\times n$ system,"
   ]
  },
  {
   "cell_type": "code",
   "execution_count": 1,
   "metadata": {
    "executionInfo": {
     "elapsed": 1179,
     "status": "ok",
     "timestamp": 1619466901448,
     "user": {
      "displayName": "Eduard Alexis Larranaga",
      "photoUrl": "https://lh3.googleusercontent.com/a-/AOh14GgCVABzEgj-rCdyxWa29RnA0kIYUCXAaVbnRYOEhQ=s64",
      "userId": "04402438389940282602"
     },
     "user_tz": 300
    },
    "id": "EIV-i3JQJ8Zr"
   },
   "outputs": [],
   "source": [
    "path = ''"
   ]
  },
  {
   "cell_type": "code",
   "execution_count": 2,
   "metadata": {
    "colab": {
     "base_uri": "https://localhost:8080/"
    },
    "executionInfo": {
     "elapsed": 19869,
     "status": "ok",
     "timestamp": 1619466922836,
     "user": {
      "displayName": "Eduard Alexis Larranaga",
      "photoUrl": "https://lh3.googleusercontent.com/a-/AOh14GgCVABzEgj-rCdyxWa29RnA0kIYUCXAaVbnRYOEhQ=s64",
      "userId": "04402438389940282602"
     },
     "user_tz": 300
    },
    "id": "Ck6NaIq-J_LE",
    "outputId": "1dc35e6c-271d-453f-b789-2eb9a7766e65"
   },
   "outputs": [
    {
     "name": "stdout",
     "output_type": "stream",
     "text": [
      "Mounted at /content/drive\n"
     ]
    }
   ],
   "source": [
    "from google.colab import drive\n",
    "drive.mount('/content/drive')\n",
    "\n",
    "path = '/content/drive/MyDrive/Colab Notebooks/CA2021/17. LSEs/presentation/'\n",
    "\n",
    "import sys \n",
    "sys.path.append(path) # Append the path of the local modules"
   ]
  },
  {
   "cell_type": "code",
   "execution_count": 3,
   "metadata": {
    "executionInfo": {
     "elapsed": 564,
     "status": "ok",
     "timestamp": 1619467165719,
     "user": {
      "displayName": "Eduard Alexis Larranaga",
      "photoUrl": "https://lh3.googleusercontent.com/a-/AOh14GgCVABzEgj-rCdyxWa29RnA0kIYUCXAaVbnRYOEhQ=s64",
      "userId": "04402438389940282602"
     },
     "user_tz": 300
    },
    "id": "nG_QU2PtJvfo"
   },
   "outputs": [],
   "source": [
    "import numpy as np\n",
    "\n",
    "def backsubs(A,b):\n",
    "    '''\n",
    "    ------------------------------------------\n",
    "    backsubs(A,b)\n",
    "    ------------------------------------------\n",
    "    Returns the solution fo the Linear System\n",
    "    A x = b\n",
    "    where\n",
    "    A: nxn upper diagonal matrix\n",
    "    b: n vector\n",
    "    \n",
    "    Arguments:\n",
    "    A: upper-diagonal numpy array of size nxn\n",
    "    b: numpy array of size n\n",
    "    ------------------------------------------\n",
    "    '''\n",
    "    n = len(b)\n",
    "    m = n-1\n",
    "    # Create an empty vector for the solution\n",
    "    x = np.zeros(n)\n",
    "    \n",
    "    # Main loop for back-substitution\n",
    "    for i in range(m,-1,-1):\n",
    "        xterms = 0\n",
    "        for j in range(i+1,n):\n",
    "            xterms = xterms + A[i,j]*x[j]\n",
    "        x[i] = 1/A[i,i]*(b[i] - xterms)\n",
    "    return x\n"
   ]
  },
  {
   "cell_type": "markdown",
   "metadata": {
    "id": "jvtbKxN0Jvfo"
   },
   "source": [
    "**Example**\n",
    "\n",
    "We will solve the LSE\n",
    "\n",
    "\\begin{equation}\n",
    "\\begin{pmatrix}\n",
    "5 & 3 & 4 & 2\\\\\n",
    "0 & -1 & 7 & 3 \\\\\n",
    "0 & 0 & 5 & 4 \\\\\n",
    "0 & 0 & 0 & 3 \n",
    "\\end{pmatrix}\n",
    "\\begin{pmatrix}\n",
    "x_1 \\\\\n",
    "x_2 \\\\\n",
    "x_3 \\\\\n",
    "x_4\n",
    "\\end{pmatrix} = \n",
    "\\begin{pmatrix}\n",
    "3 \\\\\n",
    "14 \\\\\n",
    "12 \\\\\n",
    "6\n",
    "\\end{pmatrix}\n",
    "\\end{equation}"
   ]
  },
  {
   "cell_type": "code",
   "execution_count": 4,
   "metadata": {
    "colab": {
     "base_uri": "https://localhost:8080/"
    },
    "executionInfo": {
     "elapsed": 443,
     "status": "ok",
     "timestamp": 1619467314423,
     "user": {
      "displayName": "Eduard Alexis Larranaga",
      "photoUrl": "https://lh3.googleusercontent.com/a-/AOh14GgCVABzEgj-rCdyxWa29RnA0kIYUCXAaVbnRYOEhQ=s64",
      "userId": "04402438389940282602"
     },
     "user_tz": 300
    },
    "id": "22qhL6DKJvfp",
    "outputId": "b2ec170b-42a3-4898-92db-568c5be15e65"
   },
   "outputs": [
    {
     "data": {
      "text/plain": [
       "array([ 0.6, -2.4,  0.8,  2. ])"
      ]
     },
     "execution_count": 4,
     "metadata": {
      "tags": []
     },
     "output_type": "execute_result"
    }
   ],
   "source": [
    "A = np.array([[5., 3., 4., 2.], \n",
    "              [0., -1., 7., 3.], \n",
    "              [0., 0., 5., 4.], \n",
    "              [0., 0., 0., 3.]])\n",
    "\n",
    "b = np.array([3., 14., 12., 6.])\n",
    "\n",
    "x = backsubs(A,b)\n",
    "x"
   ]
  },
  {
   "cell_type": "markdown",
   "metadata": {
    "id": "MzVW_nwmJvfq"
   },
   "source": [
    "Lets probe that the solution is correct,"
   ]
  },
  {
   "cell_type": "code",
   "execution_count": 5,
   "metadata": {
    "colab": {
     "base_uri": "https://localhost:8080/"
    },
    "executionInfo": {
     "elapsed": 694,
     "status": "ok",
     "timestamp": 1619467436089,
     "user": {
      "displayName": "Eduard Alexis Larranaga",
      "photoUrl": "https://lh3.googleusercontent.com/a-/AOh14GgCVABzEgj-rCdyxWa29RnA0kIYUCXAaVbnRYOEhQ=s64",
      "userId": "04402438389940282602"
     },
     "user_tz": 300
    },
    "id": "VaKZE-L5Jvfq",
    "outputId": "4249420b-64fe-4ff5-8f87-1c467a1c4325"
   },
   "outputs": [
    {
     "data": {
      "text/plain": [
       "array([ 3., 14., 12.,  6.])"
      ]
     },
     "execution_count": 5,
     "metadata": {
      "tags": []
     },
     "output_type": "execute_result"
    }
   ],
   "source": [
    "np.dot(A,x)"
   ]
  },
  {
   "cell_type": "markdown",
   "metadata": {
    "id": "U2M6T3TnJvfr"
   },
   "source": [
    "---\n",
    "## Cramer's Rule\n",
    "\n",
    "According to Cramer's rule the solution to the LSE is\n",
    " \n",
    "\\begin{equation}\n",
    "x_i = \\frac{\\det A_i}{\\det A}\\,\\,,\n",
    "\\end{equation}\n",
    "\n",
    "where $A_i$ is the matrix formed from $A$ by replacing its $i$-th\n",
    "column by the column vector $\\mathbf{b}$.\n",
    "\n",
    "Cramer's rule is more efficient than matrix inversion because it scales with $n^3$, so is more efficient\n",
    "for large matrixes and has comparable efficiency to direct methods\n",
    "such as Gauss Elimination."
   ]
  },
  {
   "cell_type": "markdown",
   "metadata": {
    "id": "D-MH9sUtJvfr"
   },
   "source": [
    "### Example. \n",
    "\n",
    "Consider the system\n",
    "\n",
    "\\begin{equation}\n",
    "\\begin{pmatrix}\n",
    "5&3&4\\\\\n",
    "2&1&5\\\\\n",
    "5&4&1\n",
    "\\end{pmatrix}\n",
    "\\begin{pmatrix} \n",
    "x_1\\\\ x_2\\\\ x_3  \n",
    "\\end{pmatrix}\n",
    "= \\begin{pmatrix}3\\\\4\\\\2\\end{pmatrix}\\,\\,.\n",
    "\\end{equation}\n",
    "\n",
    "The determinant of the matrix $A$ is\n",
    "\n",
    "\\begin{equation}\n",
    "\\det A = -14.\n",
    "\\end{equation}\n",
    "\n",
    "Therefore we will use Cramer's Rule to solve. The solution for variable $x_1$ is given by \n",
    "\n",
    "\\begin{equation}\n",
    "x_1 = \\frac{\\det A_1}{\\det A}\\,\\,,\n",
    "\\end{equation}\n",
    "\n",
    "where $A_1$ is the matrix formed from $A$ by replacing its first\n",
    "column by the column vector $\\mathbf{b}$, i.e.\n",
    "\n",
    "\\begin{equation}\n",
    "A_1 = \\begin{pmatrix}\n",
    "3&3&4\\\\\n",
    "4&1&5\\\\\n",
    "2&4&1\n",
    "\\end{pmatrix}.\n",
    "\\end{equation}\n",
    "\n",
    "This matrix has $\\det A_1 = 17$ and therefore\n",
    "\n",
    "\\begin{equation}\n",
    "x_1 =- \\frac{17}{14}.\n",
    "\\end{equation}\n",
    "\n",
    "The solution for variable $x_2$ is given by \n",
    "\n",
    "\\begin{equation}\n",
    "x_2 = \\frac{\\det A_2}{\\det A}\\,\\,,\n",
    "\\end{equation}\n",
    "\n",
    "where $A_2$ is\n",
    "\n",
    "\\begin{equation}\n",
    "A_2 = \\begin{pmatrix}\n",
    "5&3&4\\\\\n",
    "2&4&5\\\\\n",
    "5&2&1\n",
    "\\end{pmatrix}.\n",
    "\\end{equation}\n",
    "\n",
    "This matrix has $\\det A_2 = -25$ and therefore\n",
    "\n",
    "\\begin{equation}\n",
    "x_2 = \\frac{25}{14}.\n",
    "\\end{equation}\n",
    "\n",
    "The solution for variable $x_3$ is given by \n",
    "\n",
    "\\begin{equation}\n",
    "x_3 = \\frac{\\det A_3}{\\det A}\\,\\,,\n",
    "\\end{equation}\n",
    "\n",
    "where $A_3$ is\n",
    "\n",
    "\\begin{equation}\n",
    "A_3 = \\begin{pmatrix}\n",
    "5&3&3\\\\\n",
    "2&1&4\\\\\n",
    "5&4&2\n",
    "\\end{pmatrix}.\n",
    "\\end{equation}\n",
    "\n",
    "This matrix has $\\det A_3 = -13$ and therefore\n",
    "\n",
    "\\begin{equation}\n",
    "x_3 = \\frac{13}{14}.\n",
    "\\end{equation}\n",
    "\n",
    "The complete solution is\n",
    "\n",
    "\\begin{equation}\n",
    "\\textbf{x}\n",
    "= \\frac{1}{14} \\begin{pmatrix} -17 \\\\ 25 \\\\ 13 \\end{pmatrix}\\,\\,.\n",
    "\\end{equation}"
   ]
  },
  {
   "cell_type": "markdown",
   "metadata": {
    "id": "Ed8LKOSdJvfs"
   },
   "source": [
    "---\n",
    "\n",
    "Now lets implement this example computationally."
   ]
  },
  {
   "cell_type": "code",
   "execution_count": 6,
   "metadata": {
    "colab": {
     "base_uri": "https://localhost:8080/"
    },
    "executionInfo": {
     "elapsed": 488,
     "status": "ok",
     "timestamp": 1619468090524,
     "user": {
      "displayName": "Eduard Alexis Larranaga",
      "photoUrl": "https://lh3.googleusercontent.com/a-/AOh14GgCVABzEgj-rCdyxWa29RnA0kIYUCXAaVbnRYOEhQ=s64",
      "userId": "04402438389940282602"
     },
     "user_tz": 300
    },
    "id": "6uXfhA6DJvfs",
    "outputId": "d95d2bfd-86b7-4aee-c796-c1aa363d9cc7"
   },
   "outputs": [
    {
     "data": {
      "text/plain": [
       "array([[5., 3., 4.],\n",
       "       [2., 1., 5.],\n",
       "       [5., 4., 1.]])"
      ]
     },
     "execution_count": 6,
     "metadata": {
      "tags": []
     },
     "output_type": "execute_result"
    }
   ],
   "source": [
    "import numpy as np\n",
    "\n",
    "# Defning matrix A\n",
    "A = np.array([[5., 3., 4.], \n",
    "              [2., 1., 5.], \n",
    "              [5., 4., 1.]])\n",
    "\n",
    "A"
   ]
  },
  {
   "cell_type": "markdown",
   "metadata": {
    "id": "dLODQXXWJvft"
   },
   "source": [
    "We will use the function `numpy.linalg.det()` to calculate the determinants."
   ]
  },
  {
   "cell_type": "code",
   "execution_count": 7,
   "metadata": {
    "colab": {
     "base_uri": "https://localhost:8080/"
    },
    "executionInfo": {
     "elapsed": 492,
     "status": "ok",
     "timestamp": 1619468099444,
     "user": {
      "displayName": "Eduard Alexis Larranaga",
      "photoUrl": "https://lh3.googleusercontent.com/a-/AOh14GgCVABzEgj-rCdyxWa29RnA0kIYUCXAaVbnRYOEhQ=s64",
      "userId": "04402438389940282602"
     },
     "user_tz": 300
    },
    "id": "hMgPpSHxJvft",
    "outputId": "76d80753-7694-4b3d-ca4c-bfff0041ed58"
   },
   "outputs": [
    {
     "data": {
      "text/plain": [
       "-13.999999999999996"
      ]
     },
     "execution_count": 7,
     "metadata": {
      "tags": []
     },
     "output_type": "execute_result"
    }
   ],
   "source": [
    "detA = np.linalg.det(A)\n",
    "detA"
   ]
  },
  {
   "cell_type": "markdown",
   "metadata": {
    "id": "dpuI88r4Jvft"
   },
   "source": [
    "Since this determinant is non-zero, we define the vector $\\textbf{b}$ and implement Cramer's rule,"
   ]
  },
  {
   "cell_type": "code",
   "execution_count": 9,
   "metadata": {
    "colab": {
     "base_uri": "https://localhost:8080/"
    },
    "executionInfo": {
     "elapsed": 683,
     "status": "ok",
     "timestamp": 1619468261187,
     "user": {
      "displayName": "Eduard Alexis Larranaga",
      "photoUrl": "https://lh3.googleusercontent.com/a-/AOh14GgCVABzEgj-rCdyxWa29RnA0kIYUCXAaVbnRYOEhQ=s64",
      "userId": "04402438389940282602"
     },
     "user_tz": 300
    },
    "id": "J1yZoSlSJvfu",
    "outputId": "eb6425b6-0cf1-4cb0-dd97-24915ef6824f"
   },
   "outputs": [
    {
     "data": {
      "text/plain": [
       "array([-1.21428571,  1.78571429,  0.92857143])"
      ]
     },
     "execution_count": 9,
     "metadata": {
      "tags": []
     },
     "output_type": "execute_result"
    }
   ],
   "source": [
    "import CramersRule as cr\n",
    "import numpy as np\n",
    "\n",
    "A = np.array([[5., 3., 4.], \n",
    "              [2., 1., 5.], \n",
    "              [5., 4., 1.]])\n",
    "b = np.array([3., 4., 2.])\n",
    "\n",
    "x = cr.CramersRule(A,b)\n",
    "x"
   ]
  },
  {
   "cell_type": "code",
   "execution_count": 10,
   "metadata": {
    "colab": {
     "base_uri": "https://localhost:8080/"
    },
    "executionInfo": {
     "elapsed": 531,
     "status": "ok",
     "timestamp": 1619468299456,
     "user": {
      "displayName": "Eduard Alexis Larranaga",
      "photoUrl": "https://lh3.googleusercontent.com/a-/AOh14GgCVABzEgj-rCdyxWa29RnA0kIYUCXAaVbnRYOEhQ=s64",
      "userId": "04402438389940282602"
     },
     "user_tz": 300
    },
    "id": "WJFi_bBeJvfu",
    "outputId": "13798d16-21a6-4940-e86d-76b92196e1cf"
   },
   "outputs": [
    {
     "data": {
      "text/plain": [
       "array([3., 4., 2.])"
      ]
     },
     "execution_count": 10,
     "metadata": {
      "tags": []
     },
     "output_type": "execute_result"
    }
   ],
   "source": [
    "np.dot(A,x)"
   ]
  },
  {
   "cell_type": "markdown",
   "metadata": {
    "id": "c8sewxFQJvfv"
   },
   "source": [
    "When the matrix is very large or when the values of the coefficients are very small, the function `numpy.linalg.det()` may give overflow or underflow errors. In these cases, it may be possible to calculate the determinant of the matrix using the function `numpy.linalg.slogdet()`. More information about this function at https://numpy.org/doc/stable/reference/generated/numpy.linalg.slogdet.html#numpy.linalg.slogdet"
   ]
  },
  {
   "cell_type": "markdown",
   "metadata": {
    "id": "3F7fWrECJvfw"
   },
   "source": [
    "---\n",
    "## Gauss Elimination\n",
    "\n",
    "The Gauss algorithm consists of a series of steps to bring a $n \\times n$ matrix into the  upper triangular form.\n",
    "\n",
    "1. Sort the rows of $A$ so that the diagonal coefficient $a_{ii}$\n",
    "  (called *the pivot*) of row $i$ (for all $i$) is non-zero. If this\n",
    "  is not possible, the LSE cannot be solved.\n",
    "\n",
    "\n",
    "2. Replace the $j$-th equation with\n",
    "\n",
    "\\begin{equation}\n",
    "-\\frac{a_{j1}}{a_{11}} \\times (\\text{1-st equation}) + (j\\text{-th equation})\\,\\,,\n",
    "\\end{equation}\n",
    "\n",
    "where $j$ runs from $2$ to $n$. This will zero-out column 1 for $i>1$.\n",
    "\n",
    "3. Repeat the previous step, but starting with the next row down and with \n",
    "$j >$ (current row number). The current row be row $k$. Then we must replace rows $j$, $j > k$, with \n",
    "  \n",
    "  \\begin{equation}\n",
    "    -\\frac{a_{jk}}{a_{kk}} \\times (k\\text{-th equation}) + (j\\text{-th equation})\\,\\,,\n",
    "  \\end{equation}\n",
    "  \n",
    "where $k < j \\le n$.\n",
    "\n",
    "4. Repeat (3) until all rows have been reduced and the matrix is in upper\n",
    "triangular form.\n",
    "\n",
    "\n",
    "5. Back-substitute to find $\\mathbf{x}$."
   ]
  },
  {
   "cell_type": "code",
   "execution_count": 11,
   "metadata": {
    "colab": {
     "base_uri": "https://localhost:8080/"
    },
    "executionInfo": {
     "elapsed": 890,
     "status": "ok",
     "timestamp": 1619469005254,
     "user": {
      "displayName": "Eduard Alexis Larranaga",
      "photoUrl": "https://lh3.googleusercontent.com/a-/AOh14GgCVABzEgj-rCdyxWa29RnA0kIYUCXAaVbnRYOEhQ=s64",
      "userId": "04402438389940282602"
     },
     "user_tz": 300
    },
    "id": "i8pgZgm1Jvfw",
    "outputId": "2218c919-274f-4f55-a600-fa96fa4826cf"
   },
   "outputs": [
    {
     "data": {
      "text/plain": [
       "array([-1.21428571,  1.78571429,  0.92857143])"
      ]
     },
     "execution_count": 11,
     "metadata": {
      "tags": []
     },
     "output_type": "execute_result"
    }
   ],
   "source": [
    "import numpy as np\n",
    "from GaussElimination import *\n",
    "\n",
    "def backsubs(A,b):\n",
    "    '''\n",
    "    ------------------------------------------\n",
    "    backsubs(A,b)\n",
    "    ------------------------------------------\n",
    "    Returns the solution fo the Linear System\n",
    "    A x = b\n",
    "    where\n",
    "    A: nxn upper diagonal matrix\n",
    "    b: n vector\n",
    "    \n",
    "    Arguments:\n",
    "    A: upper-diagonal numpy array of size nxn\n",
    "    b: numpy array of size n\n",
    "    ------------------------------------------\n",
    "    '''\n",
    "    n = len(b)\n",
    "    m = n-1\n",
    "    # Create an empty vector for the solution\n",
    "    x = np.zeros(n)\n",
    "    \n",
    "    # Main loop for back-substitution\n",
    "    for i in range(m,-1,-1):\n",
    "        xterms = 0\n",
    "        for j in range(i+1,n):\n",
    "            xterms = xterms + A[i,j]*x[j]\n",
    "        x[i] = 1/A[i,i]*(b[i] - xterms)\n",
    "    return x\n",
    "\n",
    "\n",
    "\n",
    "A = np.array([[5., 3., 4.], [2., 1., 5.], [5., 4., 1.]])\n",
    "b = np.array([3., 4., 2.])\n",
    "\n",
    "\n",
    "A,b = GaussElim(A,b)\n",
    "\n",
    "x = backsubs(A,b)\n",
    "x"
   ]
  },
  {
   "cell_type": "code",
   "execution_count": null,
   "metadata": {
    "id": "rqpz7_ibJvfw"
   },
   "outputs": [],
   "source": [
    "GaussElim?"
   ]
  },
  {
   "cell_type": "markdown",
   "metadata": {
    "id": "Tgssq2EHJvfx"
   },
   "source": [
    "---\n",
    "## Tri-Diagonal Systems\n",
    "\n",
    "Consider the following $4 \\times 4 $ LSE, represented by a tri-diagonal matrix,\n",
    "\n",
    "\\begin{equation}\n",
    "\\begin{pmatrix}\n",
    "b_1&c_1&0&0\\\\\n",
    "a_1&b_2&c_2&0\\\\\n",
    "0&a_2&b_3&c_3\\\\\n",
    "0&0&a_3&b_4\n",
    "\\end{pmatrix}\n",
    "\\begin{pmatrix} \n",
    "x_1\\\\ x_2\\\\ x_3 \\\\ x_4 \n",
    "\\end{pmatrix}\n",
    "= \\begin{pmatrix}f_1\\\\f_2\\\\f_3\\\\f_4\\end{pmatrix}\\,\\,.\n",
    "\\end{equation}\n",
    "\n",
    "\n",
    "Tri-diagonal LSEs like this one are simple to solve using Gaussian elimination. When applying a forward elimination procedure, we obtain\n",
    "\n",
    "\\begin{equation}\n",
    "\\begin{pmatrix}\n",
    "1&c_1/d_1&0&0\\\\\n",
    "0&1&c_2/d_2&0\\\\\n",
    "0&0&1&c_3/d_3\\\\\n",
    "0&0&0&1\n",
    "\\end{pmatrix}\n",
    "\\begin{pmatrix} \n",
    "x_1\\\\ x_2\\\\ x_3 \\\\ x_4 \n",
    "\\end{pmatrix}\n",
    "= \\begin{pmatrix}y_1\\\\y_2\\\\y_3\\\\y_4\\end{pmatrix}\\,\\,,\n",
    "\\end{equation}\n",
    "\n",
    "where\n",
    "\n",
    "\\begin{equation}\n",
    "\\begin{array}{lcl}\n",
    "d_1 &=& b_1\\,,\\\\\n",
    "d_2 &=& b_2 - a_{1} c_{1}/d_{1}\\,,\\\\ \n",
    "d_3 &=& b_3 - a_{2} c_{2}/d_{2}\\,,\\\\ \n",
    "d_4 &=& b_4 - a_{3} c_{3}/d_{3}\\,,\\\\ \n",
    "\\end{array}\\hspace{2cm}\n",
    "\\begin{array}{lcl}\n",
    "y_1 &=& f_1/d_1\\,,\\\\\n",
    "y_2 &=& (f_2 - y_1 a_1)/d_2\\,,\\\\\n",
    "y_3 &=& (f_3 - y_2 a_2)/d_3\\,,\\\\\n",
    "y_4 &=& (f_4 - y_3 a_3)/d_4\\,.\\\\\n",
    "\\end{array}\n",
    "\\end{equation}\n",
    "\n",
    "Then, using back-substitution, we obtain the solution\n",
    "\n",
    "\\begin{equation}\n",
    "\\begin{array}{lcl}\n",
    "x_1 &=& y_1 - x_2 c_1 / d_1\\,,\\\\\n",
    "x_2 &=& y_2 - x_3 c_2 / d_2\\,,\\\\\n",
    "x_3 &=& y_3 - x_4 c_3 / d_3\\,,\\\\\n",
    "x_4 &=& y_4\\,.\n",
    "\\end{array}\n",
    "\\end{equation}"
   ]
  },
  {
   "cell_type": "markdown",
   "metadata": {
    "id": "R5nfJ2iZJvfx"
   },
   "source": [
    "--- \n",
    "\n",
    "In a general case, for a $n\\times n$ system, we can write the solving algorithm as\n",
    "\n",
    "1. **Forward Elimination.**\n",
    " * At the first step: $d_1 = b_1$ and $y_1 = f_1 / d_1$.\n",
    " \n",
    " * At the $k$-th step:\n",
    "  \\begin{equation*}\n",
    "    \\begin{aligned}\n",
    "      d_k & = b_k - a_{k-1} c_{k-1} / d_{k-1}\\,\\,,\\\\\n",
    "      y_k & = (f_k - y_{k-1} a_{k-1}) / d_k\\,\\,.\n",
    "    \\end{aligned}\n",
    "  \\end{equation*}\n",
    "\n",
    "2. **Backward Substitution.** The $x_k$ are given by\n",
    "\n",
    "  \\begin{equation*}\n",
    "    \\begin{aligned}\n",
    "      x_n &= y_n\\,\\,,\\\\\n",
    "      x_{k-1} &= y_{k-1}- x_k c_{k-1} / d_{k-1}\\,\\,.\n",
    "    \\end{aligned}\n",
    "  \\end{equation*}\n"
   ]
  },
  {
   "cell_type": "code",
   "execution_count": null,
   "metadata": {
    "id": "UucOJUAEJvfx"
   },
   "outputs": [],
   "source": []
  }
 ],
 "metadata": {
  "colab": {
   "name": "LSE01.ipynb",
   "provenance": []
  },
  "kernelspec": {
   "display_name": "Python 3",
   "language": "python",
   "name": "python3"
  },
  "language_info": {
   "codemirror_mode": {
    "name": "ipython",
    "version": 3
   },
   "file_extension": ".py",
   "mimetype": "text/x-python",
   "name": "python",
   "nbconvert_exporter": "python",
   "pygments_lexer": "ipython3",
   "version": "3.7.4"
  }
 },
 "nbformat": 4,
 "nbformat_minor": 0
}
