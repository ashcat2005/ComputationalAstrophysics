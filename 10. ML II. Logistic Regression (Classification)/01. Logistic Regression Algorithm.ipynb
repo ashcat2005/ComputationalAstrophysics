{
 "cells": [
  {
   "cell_type": "markdown",
   "metadata": {
    "id": "9mBFEmr745Op"
   },
   "source": [
    "![Astrofisica Computacional](../../../logo.png)"
   ]
  },
  {
   "cell_type": "markdown",
   "metadata": {},
   "source": [
    "---\n",
    "## 01. Logistic Regression Algorithm.\n",
    "\n",
    "\n",
    "Eduard Larrañaga (ealarranaga@unal.edu.co)\n",
    "\n",
    "---"
   ]
  },
  {
   "cell_type": "markdown",
   "metadata": {
    "id": "M5dP3sa345Or"
   },
   "source": [
    "\n",
    "### About this notebook\n",
    "\n",
    "In this worksheet, we introduce a Logistic regression algorithm to classify a dataset of stellar features.\n",
    "\n",
    "---"
   ]
  },
  {
   "cell_type": "markdown",
   "metadata": {},
   "source": [
    "### Linear Regression vs Logistic Regression\n",
    "\n",
    "**Linear Regression** is one of the most simple *supervised regression machine learning algorithm*. In all regression models, the algorithm obtains a target prediction value based on independent variables. They are mostly used for finding out the relationship between variables and forecasting. \n",
    "\n",
    "Different regression models differ based on the kind of relationship between the dependent and independent variables they are considering and in the number of independent variables they consider (Multiple Linear Regression). It  based on the minimization of a cost (error) function, as for example the root mean squared error (minimum squares fit).\n",
    "\n",
    "<img src=\"LinearRegression.png\"  width=600 />\n",
    "\n",
    "The equation obtained form a multiple linear regression has the general form\n",
    "\n",
    "\\begin{equation}\n",
    "y = a_0 + a_1 x_1 + a_2 x_2 + ... + a_n x_n \n",
    "\\end{equation}\n",
    "\n",
    "\n",
    "\n",
    "---\n",
    "\n",
    "**Logistic Regression** is a *supervised classification machine learning algorithm*. In a classification problem, the target variable (output) can take only discrete values for a given set of features (inputs). For example, logistic regression may be used to predict a target with only two possible values: 0 and 1 or `True` and `False`.\n",
    "\n",
    "<img src=\"Logistic01.png\"  width=600 />\n",
    "\n",
    "\n",
    "Logistic regression is based on the concept of *Maximum Likelihood estimation*. When working with numerical values in logistic regression, we pass the weighted sum of inputs through an activation function that can map values in between 0 and 1. Such activation function is known as **sigmoid function** and the curve obtained is called as sigmoid curve or S-curve.\n",
    "\n",
    "<img src=\"Logistic02.png\"  width=600 />\n",
    "\n",
    "\n"
   ]
  },
  {
   "cell_type": "code",
   "execution_count": 1,
   "metadata": {},
   "outputs": [
    {
     "data": {
      "image/png": "[encoded data removed]",
      "text/plain": [
       "<Figure size 640x480 with 1 Axes>"
      ]
     },
     "metadata": {},
     "output_type": "display_data"
    }
   ],
   "source": [
    "import numpy as np\n",
    "from matplotlib import pyplot as plt\n",
    "\n",
    "def sigmoid(z):\n",
    "    return 1/(1 + np.exp(-z)) \n",
    "\n",
    "zrange = np.linspace(-10,10,50)\n",
    "\n",
    "plt.figure()\n",
    "plt.axhline(0, color='black', alpha=0.3)\n",
    "plt.axvline(0, color='black', alpha=0.3)\n",
    "plt.plot(zrange, sigmoid(zrange), color='crimson')\n",
    "plt.xlabel(r'$z$')\n",
    "plt.ylabel(r'$\\sigma (z)$')\n",
    "plt.grid()\n",
    "plt.show()"
   ]
  },
  {
   "cell_type": "markdown",
   "metadata": {},
   "source": [
    "\n",
    "\n",
    "---\n",
    "\n",
    "The relation beteween a linear regression and a logistic regression is given by the activation function (sigmoid). In fact, considering the sigmoid functon\n",
    "\n",
    "\\begin{equation}\n",
    "S(z) = \\frac{1}{1+e^{-z}}\n",
    "\\end{equation}\n",
    "\n",
    "and replacing the linear regression equation as $S=y$ and $z = a_0 + a_1 x_1 + a_2 x_2 + ... + a_n x_n$ we obtain\n",
    "\n",
    "\\begin{align}\n",
    "y = &\\frac{1}{1+e^{-(a_0 + a_1 x_1 + a_2 x_2 + ... + a_n x_n)}} \\\\\n",
    "\\frac{1}{y} = & 1+e^{-(a_0 + a_1 x_1 + a_2 x_2 + ... + a_n x_n)}  \\\\\n",
    "\\frac{1}{y} - 1 = & e^{-(a_0 + a_1 x_1 + a_2 x_2 + ... + a_n x_n)}  \\\\\n",
    "\\log \\left[\\frac{1}{y} - 1\\right] = & -(a_0 + a_1 x_1 + a_2 x_2 + ... + a_n x_n)  \\\\\n",
    "\\log \\left[\\frac{1-y}{y} \\right] = & -(a_0 + a_1 x_1 + a_2 x_2 + ... + a_n x_n) \n",
    "\\end{align}\n",
    "\n",
    "Hence, the relation obtained from a  logistic regression is\n",
    "\n",
    "\\begin{equation}\n",
    "\\log \\left[ \\frac{y}{1-y}\\right] = a_0 + a_1 x_1 + a_2 x_2 + ... + a_n x_n\n",
    "\\end{equation}\n"
   ]
  },
  {
   "cell_type": "markdown",
   "metadata": {
    "id": "gXadA4FK45Ot"
   },
   "source": [
    "---\n",
    "\n"
   ]
  },
  {
   "cell_type": "markdown",
   "metadata": {},
   "source": [
    "## Stellar Types\n",
    "\n",
    "We will consider a limited dataset taken from [Deepraj Baidya](https://www.kaggle.com/deepu1109) available at\n",
    "\n",
    "[https://www.kaggle.com/datasets/deepu1109/star-dataset](https://www.kaggle.com/datasets/deepu1109/star-dataset)\n",
    "\n",
    "\n",
    "We restrict the dataset to 200 stellar objects (samples) and just three features,\n",
    "\n",
    "- Absolute Temperature [$K$]\n",
    "- Relative Luminosity [$L/L_{\\odot}$]\n",
    "- **Star Type [Non-Main Sequence Star, Main Sequence Star] = [0,1]**\n",
    "\n",
    "where \n",
    "\n",
    "$L_{\\odot} = 3.828 x 10^26$ Watts (Avg Luminosity of Sun)\n",
    "\n",
    "$R_{\\odot} = 6.9551 x 10^8$ m (Avg Radius of Sun).\n",
    "\n",
    "We want to train a logistic classification algorithm that predicts the *Star Type* from the other two features in the dataset."
   ]
  },
  {
   "cell_type": "code",
   "execution_count": 2,
   "metadata": {
    "id": "cBGk0qdl45Os"
   },
   "outputs": [],
   "source": [
    "import numpy as np\n",
    "from matplotlib import pyplot as plt\n",
    "import pandas as pd\n",
    "%matplotlib inline"
   ]
  },
  {
   "cell_type": "code",
   "execution_count": 3,
   "metadata": {
    "colab": {
     "base_uri": "https://localhost:8080/",
     "height": 359
    },
    "executionInfo": {
     "elapsed": 735,
     "status": "ok",
     "timestamp": 1611332892015,
     "user": {
      "displayName": "Eduard Alexis Larranaga",
      "photoUrl": "https://lh3.googleusercontent.com/a-/AOh14GgCVABzEgj-rCdyxWa29RnA0kIYUCXAaVbnRYOEhQ=s64",
      "userId": "04402438389940282602"
     },
     "user_tz": 300
    },
    "id": "X7wLEZjO45Ot",
    "outputId": "c0285da0-d53c-443f-c9d8-c99a186186c7"
   },
   "outputs": [
    {
     "data": {
      "text/html": [
       "<div>\n",
       "<style scoped>\n",
       "    .dataframe tbody tr th:only-of-type {\n",
       "        vertical-align: middle;\n",
       "    }\n",
       "\n",
       "    .dataframe tbody tr th {\n",
       "        vertical-align: top;\n",
       "    }\n",
       "\n",
       "    .dataframe thead th {\n",
       "        text-align: right;\n",
       "    }\n",
       "</style>\n",
       "<table border=\"1\" class=\"dataframe\">\n",
       "  <thead>\n",
       "    <tr style=\"text-align: right;\">\n",
       "      <th></th>\n",
       "      <th>Temperature (K)</th>\n",
       "      <th>Luminosity(L/Lo)</th>\n",
       "      <th>Star type</th>\n",
       "    </tr>\n",
       "  </thead>\n",
       "  <tbody>\n",
       "    <tr>\n",
       "      <th>0</th>\n",
       "      <td>3068</td>\n",
       "      <td>0.002400</td>\n",
       "      <td>1</td>\n",
       "    </tr>\n",
       "    <tr>\n",
       "      <th>1</th>\n",
       "      <td>3042</td>\n",
       "      <td>0.000500</td>\n",
       "      <td>1</td>\n",
       "    </tr>\n",
       "    <tr>\n",
       "      <th>2</th>\n",
       "      <td>2600</td>\n",
       "      <td>0.000300</td>\n",
       "      <td>1</td>\n",
       "    </tr>\n",
       "    <tr>\n",
       "      <th>3</th>\n",
       "      <td>2800</td>\n",
       "      <td>0.000200</td>\n",
       "      <td>1</td>\n",
       "    </tr>\n",
       "    <tr>\n",
       "      <th>4</th>\n",
       "      <td>1939</td>\n",
       "      <td>0.000138</td>\n",
       "      <td>1</td>\n",
       "    </tr>\n",
       "    <tr>\n",
       "      <th>...</th>\n",
       "      <td>...</td>\n",
       "      <td>...</td>\n",
       "      <td>...</td>\n",
       "    </tr>\n",
       "    <tr>\n",
       "      <th>195</th>\n",
       "      <td>38940</td>\n",
       "      <td>374830.000000</td>\n",
       "      <td>0</td>\n",
       "    </tr>\n",
       "    <tr>\n",
       "      <th>196</th>\n",
       "      <td>30839</td>\n",
       "      <td>834042.000000</td>\n",
       "      <td>0</td>\n",
       "    </tr>\n",
       "    <tr>\n",
       "      <th>197</th>\n",
       "      <td>8829</td>\n",
       "      <td>537493.000000</td>\n",
       "      <td>0</td>\n",
       "    </tr>\n",
       "    <tr>\n",
       "      <th>198</th>\n",
       "      <td>9235</td>\n",
       "      <td>404940.000000</td>\n",
       "      <td>0</td>\n",
       "    </tr>\n",
       "    <tr>\n",
       "      <th>199</th>\n",
       "      <td>37882</td>\n",
       "      <td>294903.000000</td>\n",
       "      <td>0</td>\n",
       "    </tr>\n",
       "  </tbody>\n",
       "</table>\n",
       "<p>200 rows × 3 columns</p>\n",
       "</div>"
      ],
      "text/plain": [
       "     Temperature (K)  Luminosity(L/Lo)  Star type\n",
       "0               3068          0.002400          1\n",
       "1               3042          0.000500          1\n",
       "2               2600          0.000300          1\n",
       "3               2800          0.000200          1\n",
       "4               1939          0.000138          1\n",
       "..               ...               ...        ...\n",
       "195            38940     374830.000000          0\n",
       "196            30839     834042.000000          0\n",
       "197             8829     537493.000000          0\n",
       "198             9235     404940.000000          0\n",
       "199            37882     294903.000000          0\n",
       "\n",
       "[200 rows x 3 columns]"
      ]
     },
     "execution_count": 3,
     "metadata": {},
     "output_type": "execute_result"
    }
   ],
   "source": [
    "df = pd.read_csv('HRData.csv')\n",
    "df"
   ]
  },
  {
   "cell_type": "markdown",
   "metadata": {},
   "source": [
    "This data can be used to obtain the Hertzprung-Rusell diagram,"
   ]
  },
  {
   "cell_type": "code",
   "execution_count": 4,
   "metadata": {},
   "outputs": [
    {
     "data": {
      "image/png": "[encoded data removed]",
      "text/plain": [
       "<Figure size 600x800 with 1 Axes>"
      ]
     },
     "metadata": {},
     "output_type": "display_data"
    }
   ],
   "source": [
    "colors = {0:'cornflowerblue' , 1:'crimson'}\n",
    "\n",
    "plt.style.use('dark_background')\n",
    "plt.figure(figsize=(6,8))\n",
    "plt.scatter(df['Temperature (K)'], df['Luminosity(L/Lo)'], marker='.',\n",
    "            c = [colors[i] for i in df['Star type']],\n",
    "            s=20)\n",
    "\n",
    "plt.xlim(45000,0)\n",
    "plt.yscale('log')\n",
    "plt.xlabel(r'Temperature [$K$]')\n",
    "plt.ylabel(r'Luminosity [$L/L_{\\odot}$]')\n",
    "plt.title('HR-Diagram')\n",
    "plt.show()"
   ]
  },
  {
   "cell_type": "markdown",
   "metadata": {},
   "source": [
    "The red points are **Main sequence** stars while the blue points are either **supergiant** or **hypergiant** stars. We want to predict this classification using the temperature and the luminosity."
   ]
  },
  {
   "cell_type": "markdown",
   "metadata": {},
   "source": [
    "---\n",
    "## Peparing the data\n",
    "\n",
    "We will train a **Logistic Classification** algorithm using this information. The first step is to define the dependent and independent variables,"
   ]
  },
  {
   "cell_type": "code",
   "execution_count": 5,
   "metadata": {},
   "outputs": [
    {
     "data": {
      "text/plain": [
       "((200, 2), (200, 1))"
      ]
     },
     "execution_count": 5,
     "metadata": {},
     "output_type": "execute_result"
    }
   ],
   "source": [
    "X = np.asarray(df[['Temperature (K)','Luminosity(L/Lo)']])\n",
    "y = np.asarray(df[['Star type']], dtype=int)\n",
    "\n",
    "X.shape, y.shape"
   ]
  },
  {
   "cell_type": "markdown",
   "metadata": {},
   "source": [
    "Now, we will split this set into train and test subsets, using the function [sk.model_selection.train_test_split](https://scikit-learn.org/stable/modules/generated/sklearn.model_selection.train_test_split.html)"
   ]
  },
  {
   "cell_type": "code",
   "execution_count": 6,
   "metadata": {},
   "outputs": [
    {
     "name": "stdout",
     "output_type": "stream",
     "text": [
      "Shape of X_train :  (140, 2)\n",
      "Shape of Y_train :  (140, 1)\n",
      "Shape of X_test :  (60, 2)\n",
      "Shape of Y_test :  (60, 1)\n"
     ]
    }
   ],
   "source": [
    "from sklearn.model_selection import train_test_split\n",
    "\n",
    "X_train, X_test, y_train, y_test = train_test_split(X, y, random_state=413, test_size=0.3)\n",
    "\n",
    "print(\"Shape of X_train : \", X_train.shape)\n",
    "print(\"Shape of Y_train : \", y_train.shape)\n",
    "print(\"Shape of X_test : \", X_test.shape)\n",
    "print(\"Shape of Y_test : \", y_test.shape)"
   ]
  },
  {
   "cell_type": "markdown",
   "metadata": {
    "id": "GSGjHxku45Oy"
   },
   "source": [
    "## Logistic Regression\n",
    "\n",
    "We will implement a **Logistic Regression** (binary classification) algorithm from scratch. We will use a fit function with the form\n",
    "\n",
    "\\begin{equation}\n",
    "y_p (x;W,b) = \\sigma (z(x;W,b)) \n",
    "\\end{equation}\n",
    "\n",
    "where $\\sigma (z)$ represents the sigmoid (logistic) function,\n",
    "\n",
    "\\begin{equation}\n",
    "\\sigma (z) = \\frac{1}{1+e^{-z}} \n",
    "\\end{equation}\n",
    "\n",
    "and $z(x;W,b) = Wx + b$. Therefore, we have\n",
    "\n",
    "\\begin{equation}\n",
    "y_p (x;W,b) = \\frac{1}{1+e^{-(Wx + b)}}. \n",
    "\\end{equation}\n",
    "\n",
    "\n"
   ]
  },
  {
   "cell_type": "markdown",
   "metadata": {},
   "source": [
    "## The Cost Function\n",
    "\n",
    "Since the result of the regression will be a binary classification, with values 0 or 1, the cost function cannot have the form\n",
    "\n",
    "\\begin{equation}\n",
    "f_{c} = \\frac{1}{n} \\sum_{i=1}^n \\left( y_{p}(x_i) - y_i \\right)^2.\n",
    "\\end{equation}\n",
    "\n",
    "\n",
    "In order to define the correct cost function, consider the following probabilities:\n",
    "\n",
    "- Probability to obtain a result of $y_i = 1$ for a given input $x_i$,\n",
    "\n",
    "\\begin{equation}\n",
    "P(y_i = 1| x_i ; W,b) = \\frac{1}{1 + \\exp \\left[-\\left( W x_i + b \\right)\\right]}\n",
    "\\end{equation}\n",
    "\n",
    "- Probability to obtain a result of $y_i = 0$ for a given input $x_i$,\n",
    "\n",
    "\\begin{equation}\n",
    "P(y_i = 0| x_i ; W,b) = 1 - P(y_i = 1| x_i ; W,b).\n",
    "\\end{equation}\n",
    "\n",
    "\n",
    "### Maximum Likelihood\n",
    "\n",
    "In general, given all possible outcomes from a dataset $D = \\{ (x_i, y_i) \\}$ with the binary labels $y_i \\in \\{0,1\\}$, where the data points are drawn independently, it is used the **M**aximum **L**ikelihood **E**stimation (**MLE**) principle. It states that we need to maximize the probability of seen the observed data and this can be written as the product od the individual probabilities of a specific outcome $y_i$, i.e.\n",
    "\n",
    "\\begin{align}\n",
    "P(D ; W,b) = &\\prod _{i=1}^n \\left[ P(y_i=1 | x_i ; W,b) \\right]^{y_i} \\left[ P(y_i=0 | x_i ; W,b) \\right]^{1-y_i}\\\\\n",
    "P(D ; W,b) = &\\prod _{i=1}^n \\left[ P(y_i=1 | x_i ; W,b) \\right]^{y_i} \\left[ 1- P(y_i=1 | x_i ; W,b) \\right]^{1-y_i}\n",
    "\\end{align}\n",
    "\n",
    "Taking the logarithm of this probability, we obtain the (log-likelihood) cost as\n",
    "\n",
    "\\begin{equation}\n",
    "C (W,b) = \\sum _{i=1}^n  \\left\\{ y_i \\left[\\log P(y_i=1 | x_i ; W,b) \\right] + (1-y_i) \\log \\left[ 1- P(y_i=1 | x_i ; W,b) \\right] \\right\\}.\n",
    "\\end{equation}\n",
    "\n",
    "Then, we will define a cost function as\n",
    "\n",
    "\\begin{equation}\n",
    "f_{c} = - \\frac{1}{n} \\sum_{i=1}^n \\left[ y_i \\log(y_p (x_i)) + (1-y_i)\\log (1-y_p(x_i)) \\right]\n",
    "\\end{equation}\n",
    "\n",
    "where we included a minus sign in order to obtain a function that must be minimized. Note that this cost function implies that:\n",
    "\n",
    "- For a sigle sample with target value $y_i = 0$, the cost function reduces to $f_{c} = - \\log (1-y_p)$. Note that a prediction near $y_p \\sim 1$ gives a huge cost, $f_c \\rightarrow \\infty$, while a prediction near $y_p \\sim y_0 = 0$ gives a low cost, $f_c \\rightarrow 0$.\n",
    "\n",
    "- For a sigle sample with target value $y_i = 1$, the cost function reduces to $f_{c} = - \\log (y_p)$. This time, a prediction of $y_p \\sim 0$ gives a huge cost, $f_c \\rightarrow \\infty$, while a prediction of $y_p \\sim y_0 = 1$ gives a low cost, $f_c \\rightarrow 0$.\n",
    "\n",
    "$f_c (W,b)$ is known in statistics as the **cross entropy** for two density functions $y$ and $y_p$. In a future lecture we will study the entropy and cross entropy in detail.\n",
    "\n",
    "\n",
    "### Gradient of the Cost Function\n",
    "The gradient of the cost function, w.r.t. the parameters $W$ and $b$ give\n",
    "\\begin{align}\n",
    "\\frac{ \\partial f_{c}}{\\partial W} = &- \\frac{1}{n} \\sum_{i=1}^n \\left[ \\frac{y_i}{y_p} \\frac{ \\partial y_p}{\\partial W} - \\frac{1-y_i}{1-y_p} \\frac{ \\partial y_p}{\\partial W} \\right] \\\\ \n",
    "= &- \\frac{1}{n} \\sum_{i=1}^n \\left[ \\frac{y_i}{y_p}  - \\frac{1-y_i}{1-y_p}  \\right]\\left( y_p (1 -y_p) x_i \\right) \\\\\n",
    "= &- \\frac{1}{n} \\sum_{i=1}^n \\left[ y_i(1 -y_p) - (1-y_i) y_p  \\right] x_i\\\\\n",
    "= &- \\frac{1}{n} \\sum_{i=1}^n \\left[ y_i -  y_p  \\right] x_i\\\\\n",
    "= & \\frac{1}{n} \\sum_{i=1}^n \\left[ y_p -  y_i  \\right] x_i.\n",
    "\\end{align}\n",
    "\n",
    "and \n",
    "\n",
    "\\begin{align}\n",
    "\\frac{ \\partial f_{c}}{\\partial b} = &- \\frac{1}{n} \\sum_{i=1}^n \\left[ \\frac{y_i}{y_p} \\frac{ \\partial y_p}{\\partial b} - \\frac{1-y_i}{1-y_p} \\frac{ \\partial y_p}{\\partial b} \\right] \\\\ \n",
    "= &- \\frac{1}{n} \\sum_{i=1}^n \\left[ \\frac{y_i}{y_p}  - \\frac{1-y_i}{1-y_p}  \\right]\\left( y_p (1 -y_p)\\right) \\\\\n",
    "= &- \\frac{1}{n} \\sum_{i=1}^n \\left[ y_i(1 -y_p) - (1-y_i) y_p  \\right] \\\\\n",
    "= &- \\frac{1}{n} \\sum_{i=1}^n \\left[ y_i -  y_p  \\right] \\\\\n",
    "= & \\frac{1}{n} \\sum_{i=1}^n \\left[ y_p -  y_i  \\right].\n",
    "\\end{align}"
   ]
  },
  {
   "cell_type": "code",
   "execution_count": 7,
   "metadata": {},
   "outputs": [],
   "source": [
    "class LogisticRegression():\n",
    "    '''\n",
    "    Logistic regression class\n",
    "    '''\n",
    "    def __init__(self):\n",
    "        pass\n",
    "    \n",
    "    def sigmoid(self, Z):\n",
    "        return 1/(1 + np.exp(-Z))\n",
    "\n",
    "    def Z(self, X):\n",
    "        '''\n",
    "        Function to fit\n",
    "        '''\n",
    "        return self.b + np.dot(X,self.W)\n",
    "    \n",
    "    def predict(self, X):\n",
    "        '''\n",
    "        Predict method\n",
    "        '''\n",
    "        yp = self.sigmoid(self.Z(X))\n",
    "        #yp = yp > 0.5\n",
    "        return yp\n",
    "    \n",
    "    def cost(self, X, y):\n",
    "        '''\n",
    "        Cost function\n",
    "        '''\n",
    "        Yp = self.predict(X)\n",
    "        return -(1/self.n)*np.sum(y*np.log(Yp) + (1-y)*np.log(1-Yp))\n",
    "    \n",
    "    def grad_cost(self, X,y):\n",
    "        '''\n",
    "        Analytic gradient of the cost function\n",
    "        '''\n",
    "        Yp = self.predict(X)\n",
    "        grad_dW = (1/self.n)*np.dot(X.T, Yp-y)\n",
    "        grad_db = (1/self.n)*np.sum(Yp-y)\n",
    "        return grad_dW, grad_db\n",
    "    \n",
    "    def fit(self, X, y, alpha= 0.01):\n",
    "        '''\n",
    "        Optimization function\n",
    "        '''\n",
    "        # alpha : Learning rate\n",
    "        tol = 1e-10    # Tolerance\n",
    "        #np.random.seed(413)\n",
    "        self.m = X.shape[1] # Number of features\n",
    "        self.n = X.shape[0] # Number od samples\n",
    "        \n",
    "        self.W = np.zeros([self.m,1])#np.random.rand(self.m)\n",
    "        self.b = 0#np.random.rand(1)\n",
    "        Y = self.sigmoid(self.Z(X))\n",
    "\n",
    "        self.history = []\n",
    "        self.history.append(self.cost(X, y))\n",
    "        print('Initial cost = ', self.history[0])\n",
    "        \n",
    "        epoch = 0 # Epochs\n",
    "        epsilon = 1\n",
    "        while epsilon>tol and epoch<900000:\n",
    "            # Gradient\n",
    "            grad_dW, grad_db = self.grad_cost(X,y)\n",
    "\n",
    "            self.W = self.W - alpha*grad_dW\n",
    "            self.b = self.b - alpha*grad_db\n",
    "            \n",
    "            self.history.append(self.cost(X, y))\n",
    "            epsilon = abs(self.history[epoch] - self.history[epoch+1])\n",
    "            epoch +=1\n",
    "        \n",
    "        print('Final cost = ', self.history[-1])\n",
    "        print('Number of epochs = ',epoch)\n",
    "    \n",
    "    def accuracy(self, X, y):\n",
    "        '''\n",
    "        Calculates the accuracy of the algorithm\n",
    "        as the percentage of succesful predictions\n",
    "        '''\n",
    "        Yp = self.predict(X)\n",
    "        Yp = Yp > 0.5\n",
    "        Yp = np.array(Yp, dtype = 'int64')\n",
    "        acc = (1 - np.sum(abs(Yp - y))/len(y))*100\n",
    "        print(\"Accuracy of the model is : \", round(acc, 2), \"%\")\n",
    "        \n",
    "    "
   ]
  },
  {
   "cell_type": "markdown",
   "metadata": {},
   "source": [
    "We train the model using the presented data,"
   ]
  },
  {
   "cell_type": "code",
   "execution_count": 8,
   "metadata": {},
   "outputs": [
    {
     "name": "stdout",
     "output_type": "stream",
     "text": [
      "Initial cost =  0.6931471805599453\n",
      "Final cost =  nan\n",
      "Number of epochs =  1\n",
      "\n",
      "The optimized parameters are\n",
      "W =  [[  -8.63371429]\n",
      " [-611.4451661 ]]\n",
      "b =  0.0007142857142857143\n"
     ]
    },
    {
     "name": "stderr",
     "output_type": "stream",
     "text": [
      "/var/folders/rg/9mmttz3x0hz3mvcrk2c92x_h0000gn/T/ipykernel_28496/3268192516.py:9: RuntimeWarning: overflow encountered in exp\n",
      "  return 1/(1 + np.exp(-Z))\n",
      "/var/folders/rg/9mmttz3x0hz3mvcrk2c92x_h0000gn/T/ipykernel_28496/3268192516.py:30: RuntimeWarning: divide by zero encountered in log\n",
      "  return -(1/self.n)*np.sum(y*np.log(Yp) + (1-y)*np.log(1-Yp))\n",
      "/var/folders/rg/9mmttz3x0hz3mvcrk2c92x_h0000gn/T/ipykernel_28496/3268192516.py:30: RuntimeWarning: invalid value encountered in multiply\n",
      "  return -(1/self.n)*np.sum(y*np.log(Yp) + (1-y)*np.log(1-Yp))\n"
     ]
    }
   ],
   "source": [
    "lr = LogisticRegression()\n",
    "\n",
    "lr.fit(X_train, y_train)\n",
    "\n",
    "print('\\nThe optimized parameters are')\n",
    "print('W = ', lr.W)\n",
    "print('b = ', lr.b)"
   ]
  },
  {
   "cell_type": "markdown",
   "metadata": {},
   "source": [
    "Note that the algorithm is not trained because the cost function diverges after one epoch. The reason is the big values in the Temperature and Luminosity features."
   ]
  },
  {
   "cell_type": "code",
   "execution_count": 9,
   "metadata": {},
   "outputs": [
    {
     "data": {
      "text/html": [
       "<div>\n",
       "<style scoped>\n",
       "    .dataframe tbody tr th:only-of-type {\n",
       "        vertical-align: middle;\n",
       "    }\n",
       "\n",
       "    .dataframe tbody tr th {\n",
       "        vertical-align: top;\n",
       "    }\n",
       "\n",
       "    .dataframe thead th {\n",
       "        text-align: right;\n",
       "    }\n",
       "</style>\n",
       "<table border=\"1\" class=\"dataframe\">\n",
       "  <thead>\n",
       "    <tr style=\"text-align: right;\">\n",
       "      <th></th>\n",
       "      <th>Temperature (K)</th>\n",
       "      <th>Luminosity(L/Lo)</th>\n",
       "      <th>Star type</th>\n",
       "    </tr>\n",
       "  </thead>\n",
       "  <tbody>\n",
       "    <tr>\n",
       "      <th>count</th>\n",
       "      <td>200.000000</td>\n",
       "      <td>200.000000</td>\n",
       "      <td>200.000000</td>\n",
       "    </tr>\n",
       "    <tr>\n",
       "      <th>mean</th>\n",
       "      <td>9810.665000</td>\n",
       "      <td>128626.033475</td>\n",
       "      <td>0.600000</td>\n",
       "    </tr>\n",
       "    <tr>\n",
       "      <th>std</th>\n",
       "      <td>10095.992671</td>\n",
       "      <td>189462.859709</td>\n",
       "      <td>0.491127</td>\n",
       "    </tr>\n",
       "    <tr>\n",
       "      <th>min</th>\n",
       "      <td>1939.000000</td>\n",
       "      <td>0.000138</td>\n",
       "      <td>0.000000</td>\n",
       "    </tr>\n",
       "    <tr>\n",
       "      <th>25%</th>\n",
       "      <td>3253.500000</td>\n",
       "      <td>0.001463</td>\n",
       "      <td>0.000000</td>\n",
       "    </tr>\n",
       "    <tr>\n",
       "      <th>50%</th>\n",
       "      <td>3625.000000</td>\n",
       "      <td>738.500000</td>\n",
       "      <td>1.000000</td>\n",
       "    </tr>\n",
       "    <tr>\n",
       "      <th>75%</th>\n",
       "      <td>12925.500000</td>\n",
       "      <td>220750.000000</td>\n",
       "      <td>1.000000</td>\n",
       "    </tr>\n",
       "    <tr>\n",
       "      <th>max</th>\n",
       "      <td>40000.000000</td>\n",
       "      <td>849420.000000</td>\n",
       "      <td>1.000000</td>\n",
       "    </tr>\n",
       "  </tbody>\n",
       "</table>\n",
       "</div>"
      ],
      "text/plain": [
       "       Temperature (K)  Luminosity(L/Lo)   Star type\n",
       "count       200.000000        200.000000  200.000000\n",
       "mean       9810.665000     128626.033475    0.600000\n",
       "std       10095.992671     189462.859709    0.491127\n",
       "min        1939.000000          0.000138    0.000000\n",
       "25%        3253.500000          0.001463    0.000000\n",
       "50%        3625.000000        738.500000    1.000000\n",
       "75%       12925.500000     220750.000000    1.000000\n",
       "max       40000.000000     849420.000000    1.000000"
      ]
     },
     "execution_count": 9,
     "metadata": {},
     "output_type": "execute_result"
    }
   ],
   "source": [
    "df.describe()"
   ]
  },
  {
   "cell_type": "markdown",
   "metadata": {},
   "source": [
    "### Scaling the Data\n",
    "\n",
    "In order to obtain a good training of the logistic regression algorithm, we will scale the input features.\n",
    "\n",
    "[Scikit-Learn](https://scikit-learn.org/stable/index.html) has several functions which allow us to rescale the data, normally resulting in much better results in terms of various accuracy scores. \n",
    "\n",
    "* The [scikitlearn.preprocessing.StandardScaler](https://scikit-learn.org/stable/modules/generated/sklearn.preprocessing.StandardScaler.html) function standardize features by removing the mean and scaling to unit variance. This ensures that for each feature we study the mean value is zero and the variance is one. This scaling has the drawback that it does not ensure that we have a particular maximum or minimum in our data set. \n",
    "\n",
    "* The function  [scikitlearn.preprocessing.MinMaxScaler](https://scikit-learn.org/stable/modules/generated/sklearn.preprocessing.MinMaxScaler.html) ensures that all features are exactly between 0 and 1.\n",
    "\n",
    "* The [scikitlearn.preprocessing.Normalizer](https://scikit-learn.org/stable/modules/generated/sklearn.preprocessing.Normalizer.html) function scales each data point such that the feature vector has a euclidean length of one. In other words, it projects a data point on the circle (or sphere in the case of higher dimensions) with a radius of 1. This means every data point is scaled by a different number (by the inverse of it’s length). This normalization is often used when only the direction (or angle) of the data matters, not the length of the feature vector.\n",
    "\n",
    "* The [scikitlearn.preprocessing.RobustScaler( )](https://scikit-learn.org/stable/modules/generated/sklearn.preprocessing.RobustScaler.html)  works similarly to the StandardScaler in that it ensures statistical properties for each feature that guarantee that they are on the same scale. However, the RobustScaler uses the median and quartiles, instead of mean and variance. This makes the RobustScaler ignore data points that are very different from the rest (like measurement errors). These odd data points are also called **outliers**, and might often lead to trouble for other scaling techniques.\n",
    "\n",
    "\n",
    "We will try first the StandardScaler function,"
   ]
  },
  {
   "cell_type": "code",
   "execution_count": 10,
   "metadata": {},
   "outputs": [],
   "source": [
    "from sklearn.preprocessing import StandardScaler\n",
    "\n",
    "scaler_train = StandardScaler()\n",
    "scaler_train.fit(X_train)\n",
    "\n",
    "scaler_test = StandardScaler()\n",
    "scaler_test.fit(X_test)\n",
    "\n",
    "X_train_scaled = scaler_train.transform(X_train)\n",
    "X_test_scaled = scaler_test.transform(X_test)"
   ]
  },
  {
   "cell_type": "markdown",
   "metadata": {},
   "source": [
    "Compare the first ten element in the original and scaled sets, "
   ]
  },
  {
   "cell_type": "code",
   "execution_count": 11,
   "metadata": {},
   "outputs": [
    {
     "data": {
      "text/plain": [
       "(array([[2.61400e+04, 1.45200e+04],\n",
       "        [3.55300e+03, 1.45000e+05],\n",
       "        [1.20980e+04, 6.89000e+02],\n",
       "        [3.22500e+03, 7.60000e-04],\n",
       "        [8.05200e+03, 8.70000e+00],\n",
       "        [3.66000e+03, 3.63000e+05],\n",
       "        [3.89400e+04, 3.74830e+05],\n",
       "        [3.08390e+04, 8.34042e+05],\n",
       "        [2.65000e+03, 6.90000e-04],\n",
       "        [2.86100e+03, 1.90000e-04]]),\n",
       " array([[ 1.47782833, -0.55754463],\n",
       "        [-0.72848431,  0.123245  ],\n",
       "        [ 0.10619677, -0.62970896],\n",
       "        [-0.76052356, -0.63330386],\n",
       "        [-0.28901911, -0.63325847],\n",
       "        [-0.71803249,  1.26067708],\n",
       "        [ 2.72814054,  1.32240104],\n",
       "        [ 1.93682966,  3.71837564],\n",
       "        [-0.81668993, -0.63330386],\n",
       "        [-0.79607932, -0.63330387]]))"
      ]
     },
     "execution_count": 11,
     "metadata": {},
     "output_type": "execute_result"
    }
   ],
   "source": [
    "X_test[:10], X_test_scaled[:10]"
   ]
  },
  {
   "cell_type": "markdown",
   "metadata": {},
   "source": [
    "Now we train the alogorithm using the scaled data,"
   ]
  },
  {
   "cell_type": "code",
   "execution_count": 12,
   "metadata": {},
   "outputs": [
    {
     "name": "stdout",
     "output_type": "stream",
     "text": [
      "Initial cost =  0.6931471805599453\n",
      "Final cost =  0.013089986396018561\n",
      "Number of epochs =  900000\n",
      "\n",
      "The optimized parameters are\n",
      "W =  [[ 12.29420322]\n",
      " [-43.37183266]]\n",
      "b =  -17.27826618427681\n"
     ]
    }
   ],
   "source": [
    "lr = LogisticRegression()\n",
    "\n",
    "lr.fit(X_train_scaled, y_train, alpha=0.1)\n",
    "\n",
    "print('\\nThe optimized parameters are')\n",
    "print('W = ',lr.W)\n",
    "print('b = ',lr.b)"
   ]
  },
  {
   "cell_type": "markdown",
   "metadata": {},
   "source": [
    "After 900000 epochs, with a learning rate of 0.1, the value of the cost function is 0.012. \n",
    "The accuracy method for the train set gives"
   ]
  },
  {
   "cell_type": "code",
   "execution_count": 13,
   "metadata": {},
   "outputs": [
    {
     "name": "stdout",
     "output_type": "stream",
     "text": [
      "Accuracy of the model is :  99.29 %\n"
     ]
    }
   ],
   "source": [
    "lr.accuracy(X_train_scaled, y_train)"
   ]
  },
  {
   "cell_type": "markdown",
   "metadata": {},
   "source": [
    "While the accuracy for the test set is"
   ]
  },
  {
   "cell_type": "code",
   "execution_count": 14,
   "metadata": {},
   "outputs": [
    {
     "name": "stdout",
     "output_type": "stream",
     "text": [
      "Accuracy of the model is :  95.0 %\n"
     ]
    }
   ],
   "source": [
    "lr.accuracy(X_test_scaled, y_test)"
   ]
  },
  {
   "cell_type": "markdown",
   "metadata": {},
   "source": [
    "The training history shows the behavior of the cost function during the epochs,"
   ]
  },
  {
   "cell_type": "code",
   "execution_count": 13,
   "metadata": {},
   "outputs": [
    {
     "data": {
      "image/png": "[encoded data removed]",
      "text/plain": [
       "<Figure size 640x480 with 1 Axes>"
      ]
     },
     "metadata": {},
     "output_type": "display_data"
    }
   ],
   "source": [
    "# Plot Training history\n",
    "plt.style.use('default')\n",
    "plt.figure()\n",
    "plt.plot(lr.history, color='crimson')\n",
    "plt.ylabel(r'cost function')\n",
    "plt.xlabel(r'epoch')\n",
    "plt.show()"
   ]
  },
  {
   "cell_type": "markdown",
   "metadata": {},
   "source": [
    "An interesting form to illustrate the score of a logistic model is using the [confusion_matrix](https://scikit-learn.org/stable/modules/generated/sklearn.metrics.confusion_matrix.html) in which we present the predictions and the target labels,"
   ]
  },
  {
   "cell_type": "code",
   "execution_count": 15,
   "metadata": {},
   "outputs": [
    {
     "data": {
      "text/plain": [
       "array([[0.33333333, 0.        ],\n",
       "       [0.05      , 0.61666667]])"
      ]
     },
     "execution_count": 15,
     "metadata": {},
     "output_type": "execute_result"
    }
   ],
   "source": [
    "def confusion_matrix(X,y):\n",
    "    yp = lr.predict(X)\n",
    "    yp = yp>0.5\n",
    "    yp = np.array(yp, dtype = 'int64')\n",
    "    cm = np.array([[0,0],[0,0]])\n",
    "    for i in range(len(y)):\n",
    "        # MS prediction and MS target\n",
    "        if yp[i]==1 and y[i]==1:\n",
    "            cm[1,1] +=1\n",
    "        # Non-MS prediction and MS target\n",
    "        if yp[i]==0 and y[i]==1:\n",
    "            cm[1,0] +=1\n",
    "        # MS prediction and Non-MS target\n",
    "        if yp[i]==1 and y[i]==0:\n",
    "            cm[0,1] +=1\n",
    "        # Non-MS prediction and Non-MS target\n",
    "        if yp[i]==0 and y[i]==0:\n",
    "            cm[0,0] +=1\n",
    "    cm = cm/len(y)\n",
    "    return cm \n",
    "\n",
    "\n",
    "cm = confusion_matrix(X_test_scaled, y_test)\n",
    "#cm = confusion_matrix(X_train_scaled, y_train)\n",
    "cm"
   ]
  },
  {
   "cell_type": "markdown",
   "metadata": {},
   "source": [
    "Graphically, the confusion matrix is"
   ]
  },
  {
   "cell_type": "code",
   "execution_count": 16,
   "metadata": {},
   "outputs": [
    {
     "data": {
      "image/png": "[encoded data removed]",
      "text/plain": [
       "<Figure size 500x500 with 2 Axes>"
      ]
     },
     "metadata": {},
     "output_type": "display_data"
    }
   ],
   "source": [
    "# Plot the Confusion-Matrix\n",
    "plt.figure(figsize=(5,5))\n",
    "plt.imshow(cm, extent=(0,1,0,1))\n",
    "plt.xticks(ticks=[0.25,0.75], labels=('Non-Main Seq', 'Main Seq'))\n",
    "plt.yticks(ticks=[0.25,0.75], labels=('Main Seq','Non-Main Seq'))\n",
    "plt.xlabel('Predicted Label')\n",
    "plt.ylabel('Target Label')\n",
    "plt.text(0.25, 0.75, cm[0,0], color='white',horizontalalignment='center',verticalalignment='center')\n",
    "plt.text(0.75, 0.75, cm[0,1], color='white',horizontalalignment='center',verticalalignment='center')\n",
    "plt.text(0.25, 0.25, cm[1,0], color='white',horizontalalignment='center',verticalalignment='center')\n",
    "plt.text(0.75, 0.25, cm[1,1], color='white',horizontalalignment='center',verticalalignment='center')\n",
    "plt.colorbar()\n",
    "plt.show()"
   ]
  },
  {
   "cell_type": "markdown",
   "metadata": {},
   "source": [
    "For comparison, a perfect prediction will give the following confusion matrix,"
   ]
  },
  {
   "cell_type": "code",
   "execution_count": 20,
   "metadata": {},
   "outputs": [
    {
     "data": {
      "image/png": "[encoded data removed]",
      "text/plain": [
       "<Figure size 500x500 with 2 Axes>"
      ]
     },
     "metadata": {},
     "output_type": "display_data"
    }
   ],
   "source": [
    "# Perfect Predictions Confusion-Matrix\n",
    "\n",
    "def confusion_matrix2(yp,y):\n",
    "    cm = np.array([[0,0],[0,0]])\n",
    "    for i in range(len(y)):\n",
    "        # MS prediction and MS target\n",
    "        if yp[i]==1 and y[i]==1:\n",
    "            cm[1,1] +=1\n",
    "        # Non-MS prediction and MS target\n",
    "        if yp[i]==0 and y[i]==1:\n",
    "            cm[1,0] +=1\n",
    "        # MS prediction and Non-MS target\n",
    "        if yp[i]==1 and y[i]==0:\n",
    "            cm[0,1] +=1\n",
    "        # Non-MS prediction and Non-MS target\n",
    "        if yp[i]==0 and y[i]==0:\n",
    "            cm[0,0] +=1\n",
    "    cm = cm/len(y)\n",
    "    return cm \n",
    "\n",
    "\n",
    "cmperf = confusion_matrix2(y_test, y_test)\n",
    "\n",
    "plt.figure(figsize=(5,5))\n",
    "plt.imshow(cmperf, extent=(0,1,0,1))\n",
    "plt.xticks(ticks=[0.25,0.75], labels=('Non-Main Seq','Main Seq'))\n",
    "plt.yticks(ticks=[0.25,0.75], labels=('Main Seq','Non-Main Seq'))\n",
    "plt.xlabel('Predicted Label')\n",
    "plt.ylabel('Target Label')\n",
    "plt.text(0.25, 0.75, cmperf[0,0], color='white',horizontalalignment='center',verticalalignment='center')\n",
    "plt.text(0.75, 0.75, cmperf[0,1], color='white',horizontalalignment='center',verticalalignment='center')\n",
    "plt.text(0.25, 0.25, cmperf[1,0], color='white',horizontalalignment='center',verticalalignment='center')\n",
    "plt.text(0.75, 0.25, cmperf[1,1], color='white',horizontalalignment='center',verticalalignment='center')\n",
    "plt.colorbar()\n",
    "plt.show()"
   ]
  },
  {
   "cell_type": "markdown",
   "metadata": {},
   "source": [
    "The same result is obtained by using the functions [sklearn.metrics.confusion_matrix](https://scikit-learn.org/stable/modules/generated/sklearn.metrics.confusion_matrix.html#sklearn.metrics.confusion_matrix) and  [sklearn.metrics.ConfusionMatrixDisplay](https://scikit-learn.org/stable/modules/generated/sklearn.metrics.ConfusionMatrixDisplay.html#sklearn.metrics.ConfusionMatrixDisplay)"
   ]
  },
  {
   "cell_type": "code",
   "execution_count": 21,
   "metadata": {},
   "outputs": [
    {
     "name": "stdout",
     "output_type": "stream",
     "text": [
      "[[0.425 0.   ]\n",
      " [0.05  0.525]]\n"
     ]
    },
    {
     "data": {
      "image/png": "[encoded data removed]",
      "text/plain": [
       "<Figure size 640x480 with 2 Axes>"
      ]
     },
     "metadata": {},
     "output_type": "display_data"
    }
   ],
   "source": [
    "from sklearn.metrics import confusion_matrix, ConfusionMatrixDisplay\n",
    "\n",
    "prediction = lr.predict(X_test_scaled)\n",
    "prediction = prediction > 0.5\n",
    "prediction = np.array(prediction, dtype = 'int64')\n",
    "\n",
    "cm = confusion_matrix(y_test, prediction, normalize='all')\n",
    "print(cm)\n",
    "\n",
    "\n",
    "disp = ConfusionMatrixDisplay(confusion_matrix=cm)\n",
    "disp.plot()\n",
    "plt.show()"
   ]
  },
  {
   "cell_type": "code",
   "execution_count": null,
   "metadata": {},
   "outputs": [],
   "source": []
  }
 ],
 "metadata": {
  "@webio": {
   "lastCommId": null,
   "lastKernelId": null
  },
  "colab": {
   "collapsed_sections": [],
   "name": "LinearFit01.ipynb",
   "provenance": [],
   "toc_visible": true
  },
  "kernelspec": {
   "display_name": "Python 3 (ipykernel)",
   "language": "python",
   "name": "python3"
  },
  "language_info": {
   "codemirror_mode": {
    "name": "ipython",
    "version": 3
   },
   "file_extension": ".py",
   "mimetype": "text/x-python",
   "name": "python",
   "nbconvert_exporter": "python",
   "pygments_lexer": "ipython3",
   "version": "3.10.9"
  }
 },
 "nbformat": 4,
 "nbformat_minor": 1
}
